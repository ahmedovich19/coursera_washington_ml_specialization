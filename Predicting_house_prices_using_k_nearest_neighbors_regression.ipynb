{
  "nbformat": 4,
  "nbformat_minor": 0,
  "metadata": {
    "kernelspec": {
      "name": "python3",
      "display_name": "Python 3"
    },
    "colab": {
      "name": "Predicting house prices using k-nearest neighbors regression.ipynb",
      "provenance": [],
      "collapsed_sections": []
    }
  },
  "cells": [
    {
      "cell_type": "code",
      "metadata": {
        "id": "xp0B0tqKEZXe",
        "colab": {
          "base_uri": "https://localhost:8080/",
          "height": 900
        },
        "outputId": "102aff4a-9947-49e8-94ed-3cd84b3d00b1"
      },
      "source": [
        "!pip install turicreate\n",
        "!pip install numpy"
      ],
      "execution_count": null,
      "outputs": [
        {
          "output_type": "stream",
          "text": [
            "Requirement already satisfied: turicreate in /usr/local/lib/python3.6/dist-packages (6.1)\n",
            "Requirement already satisfied: coremltools==3.3 in /usr/local/lib/python3.6/dist-packages (from turicreate) (3.3)\n",
            "Requirement already satisfied: decorator>=4.0.9 in /usr/local/lib/python3.6/dist-packages (from turicreate) (4.4.2)\n",
            "Requirement already satisfied: pillow>=5.2.0 in /usr/local/lib/python3.6/dist-packages (from turicreate) (7.0.0)\n",
            "Requirement already satisfied: prettytable==0.7.2 in /usr/local/lib/python3.6/dist-packages (from turicreate) (0.7.2)\n",
            "Requirement already satisfied: resampy==0.2.1 in /usr/local/lib/python3.6/dist-packages (from turicreate) (0.2.1)\n",
            "Requirement already satisfied: numpy in /usr/local/lib/python3.6/dist-packages (from turicreate) (1.18.2)\n",
            "Requirement already satisfied: scipy>=1.1.0 in /usr/local/lib/python3.6/dist-packages (from turicreate) (1.4.1)\n",
            "Requirement already satisfied: six>=1.10.0 in /usr/local/lib/python3.6/dist-packages (from turicreate) (1.12.0)\n",
            "Requirement already satisfied: tensorflow>=2.0.0 in /usr/local/lib/python3.6/dist-packages (from turicreate) (2.2.0rc2)\n",
            "Requirement already satisfied: requests>=2.9.1 in /usr/local/lib/python3.6/dist-packages (from turicreate) (2.21.0)\n",
            "Requirement already satisfied: pandas>=0.23.2 in /usr/local/lib/python3.6/dist-packages (from turicreate) (1.0.3)\n",
            "Requirement already satisfied: protobuf>=3.1.0 in /usr/local/lib/python3.6/dist-packages (from coremltools==3.3->turicreate) (3.10.0)\n",
            "Requirement already satisfied: numba>=0.32 in /usr/local/lib/python3.6/dist-packages (from resampy==0.2.1->turicreate) (0.47.0)\n",
            "Requirement already satisfied: astunparse==1.6.3 in /usr/local/lib/python3.6/dist-packages (from tensorflow>=2.0.0->turicreate) (1.6.3)\n",
            "Requirement already satisfied: tensorboard<2.3.0,>=2.2.0 in /usr/local/lib/python3.6/dist-packages (from tensorflow>=2.0.0->turicreate) (2.2.0)\n",
            "Requirement already satisfied: google-pasta>=0.1.8 in /usr/local/lib/python3.6/dist-packages (from tensorflow>=2.0.0->turicreate) (0.2.0)\n",
            "Requirement already satisfied: opt-einsum>=2.3.2 in /usr/local/lib/python3.6/dist-packages (from tensorflow>=2.0.0->turicreate) (3.2.0)\n",
            "Requirement already satisfied: termcolor>=1.1.0 in /usr/local/lib/python3.6/dist-packages (from tensorflow>=2.0.0->turicreate) (1.1.0)\n",
            "Requirement already satisfied: wrapt>=1.11.1 in /usr/local/lib/python3.6/dist-packages (from tensorflow>=2.0.0->turicreate) (1.12.1)\n",
            "Requirement already satisfied: grpcio>=1.8.6 in /usr/local/lib/python3.6/dist-packages (from tensorflow>=2.0.0->turicreate) (1.27.2)\n",
            "Requirement already satisfied: wheel>=0.26; python_version >= \"3\" in /usr/local/lib/python3.6/dist-packages (from tensorflow>=2.0.0->turicreate) (0.34.2)\n",
            "Requirement already satisfied: gast==0.3.3 in /usr/local/lib/python3.6/dist-packages (from tensorflow>=2.0.0->turicreate) (0.3.3)\n",
            "Requirement already satisfied: h5py<2.11.0,>=2.10.0 in /usr/local/lib/python3.6/dist-packages (from tensorflow>=2.0.0->turicreate) (2.10.0)\n",
            "Requirement already satisfied: tensorflow-estimator<2.3.0,>=2.2.0rc0 in /usr/local/lib/python3.6/dist-packages (from tensorflow>=2.0.0->turicreate) (2.2.0rc0)\n",
            "Requirement already satisfied: absl-py>=0.7.0 in /usr/local/lib/python3.6/dist-packages (from tensorflow>=2.0.0->turicreate) (0.9.0)\n",
            "Requirement already satisfied: keras-preprocessing>=1.1.0 in /usr/local/lib/python3.6/dist-packages (from tensorflow>=2.0.0->turicreate) (1.1.0)\n",
            "Requirement already satisfied: certifi>=2017.4.17 in /usr/local/lib/python3.6/dist-packages (from requests>=2.9.1->turicreate) (2019.11.28)\n",
            "Requirement already satisfied: urllib3<1.25,>=1.21.1 in /usr/local/lib/python3.6/dist-packages (from requests>=2.9.1->turicreate) (1.24.3)\n",
            "Requirement already satisfied: chardet<3.1.0,>=3.0.2 in /usr/local/lib/python3.6/dist-packages (from requests>=2.9.1->turicreate) (3.0.4)\n",
            "Requirement already satisfied: idna<2.9,>=2.5 in /usr/local/lib/python3.6/dist-packages (from requests>=2.9.1->turicreate) (2.8)\n",
            "Requirement already satisfied: python-dateutil>=2.6.1 in /usr/local/lib/python3.6/dist-packages (from pandas>=0.23.2->turicreate) (2.8.1)\n",
            "Requirement already satisfied: pytz>=2017.2 in /usr/local/lib/python3.6/dist-packages (from pandas>=0.23.2->turicreate) (2018.9)\n",
            "Requirement already satisfied: setuptools in /usr/local/lib/python3.6/dist-packages (from protobuf>=3.1.0->coremltools==3.3->turicreate) (46.0.0)\n",
            "Requirement already satisfied: llvmlite>=0.31.0dev0 in /usr/local/lib/python3.6/dist-packages (from numba>=0.32->resampy==0.2.1->turicreate) (0.31.0)\n",
            "Requirement already satisfied: tensorboard-plugin-wit>=1.6.0 in /usr/local/lib/python3.6/dist-packages (from tensorboard<2.3.0,>=2.2.0->tensorflow>=2.0.0->turicreate) (1.6.0.post2)\n",
            "Requirement already satisfied: google-auth<2,>=1.6.3 in /usr/local/lib/python3.6/dist-packages (from tensorboard<2.3.0,>=2.2.0->tensorflow>=2.0.0->turicreate) (1.7.2)\n",
            "Requirement already satisfied: google-auth-oauthlib<0.5,>=0.4.1 in /usr/local/lib/python3.6/dist-packages (from tensorboard<2.3.0,>=2.2.0->tensorflow>=2.0.0->turicreate) (0.4.1)\n",
            "Requirement already satisfied: markdown>=2.6.8 in /usr/local/lib/python3.6/dist-packages (from tensorboard<2.3.0,>=2.2.0->tensorflow>=2.0.0->turicreate) (3.2.1)\n",
            "Requirement already satisfied: werkzeug>=0.11.15 in /usr/local/lib/python3.6/dist-packages (from tensorboard<2.3.0,>=2.2.0->tensorflow>=2.0.0->turicreate) (1.0.0)\n",
            "Requirement already satisfied: cachetools<3.2,>=2.0.0 in /usr/local/lib/python3.6/dist-packages (from google-auth<2,>=1.6.3->tensorboard<2.3.0,>=2.2.0->tensorflow>=2.0.0->turicreate) (3.1.1)\n",
            "Requirement already satisfied: pyasn1-modules>=0.2.1 in /usr/local/lib/python3.6/dist-packages (from google-auth<2,>=1.6.3->tensorboard<2.3.0,>=2.2.0->tensorflow>=2.0.0->turicreate) (0.2.8)\n",
            "Requirement already satisfied: rsa<4.1,>=3.1.4 in /usr/local/lib/python3.6/dist-packages (from google-auth<2,>=1.6.3->tensorboard<2.3.0,>=2.2.0->tensorflow>=2.0.0->turicreate) (4.0)\n",
            "Requirement already satisfied: requests-oauthlib>=0.7.0 in /usr/local/lib/python3.6/dist-packages (from google-auth-oauthlib<0.5,>=0.4.1->tensorboard<2.3.0,>=2.2.0->tensorflow>=2.0.0->turicreate) (1.3.0)\n",
            "Requirement already satisfied: pyasn1<0.5.0,>=0.4.6 in /usr/local/lib/python3.6/dist-packages (from pyasn1-modules>=0.2.1->google-auth<2,>=1.6.3->tensorboard<2.3.0,>=2.2.0->tensorflow>=2.0.0->turicreate) (0.4.8)\n",
            "Requirement already satisfied: oauthlib>=3.0.0 in /usr/local/lib/python3.6/dist-packages (from requests-oauthlib>=0.7.0->google-auth-oauthlib<0.5,>=0.4.1->tensorboard<2.3.0,>=2.2.0->tensorflow>=2.0.0->turicreate) (3.1.0)\n",
            "Requirement already satisfied: numpy in /usr/local/lib/python3.6/dist-packages (1.18.2)\n"
          ],
          "name": "stdout"
        }
      ]
    },
    {
      "cell_type": "code",
      "metadata": {
        "id": "SaGD-sdKEa8T",
        "colab": {
          "base_uri": "https://localhost:8080/",
          "height": 35
        },
        "outputId": "92e1bc9f-0a31-4967-a0d8-f64674fdd181"
      },
      "source": [
        "import os.path\n",
        "from google.colab import drive\n",
        "\n",
        "# mount Google Drive to /content/drive/My Drive/\n",
        "if os.path.isdir(\"/content/drive/My Drive/\"):\n",
        "  print(\"Google Drive already mounted\")\n",
        "else:\n",
        "  drive.mount('/content/drive')"
      ],
      "execution_count": null,
      "outputs": [
        {
          "output_type": "stream",
          "text": [
            "Google Drive already mounted\n"
          ],
          "name": "stdout"
        }
      ]
    },
    {
      "cell_type": "code",
      "metadata": {
        "id": "7-MHyVFjEaz9",
        "colab": {
          "base_uri": "https://localhost:8080/",
          "height": 72
        },
        "outputId": "c6e07b12-c8af-4c2c-cbe9-26dc9bd6b613"
      },
      "source": [
        "import os.path\n",
        "import urllib.request\n",
        "import tarfile\n",
        "import zipfile\n",
        "import gzip\n",
        "from shutil import copy\n",
        "\n",
        "def fetch_remote_datafile(filename, remote_url):\n",
        "  if os.path.isfile(\"./\" + filename):\n",
        "    print(\"already have \" + filename + \" in workspace\")\n",
        "    return\n",
        "  print(\"fetching \" + filename + \" from \" + remote_url + \"...\")\n",
        "  urllib.request.urlretrieve(remote_url, \"./\" + filename)\n",
        "\n",
        "def cache_datafile_in_drive(filename):\n",
        "  if os.path.isfile(\"./\" + filename) == False:\n",
        "    print(\"cannot cache \" + filename + \", it is not in workspace\")\n",
        "    return\n",
        "  \n",
        "  data_drive_path = \"/content/drive/My Drive/Colab Notebooks/\"\n",
        "  if os.path.isfile(data_drive_path + filename):\n",
        "    print(\"\" + filename + \" has already been stored in Google Drive\")\n",
        "  else:\n",
        "    print(\"copying \" + filename + \" to \" + data_drive_path)\n",
        "    copy(\"./\" + filename, data_drive_path)\n",
        "  \n",
        "\n",
        "def load_datafile_from_drive(filename, remote_url=None):\n",
        "  data_drive_path = \"/content/drive/My Drive/Colab Notebooks/\"\n",
        "  if os.path.isfile(\"./\" + filename):\n",
        "    print(\"already have \" + filename + \" in workspace\")\n",
        "  elif os.path.isfile(data_drive_path + filename):\n",
        "    print(\"have \" + filename + \" in Google Drive, copying to workspace...\")\n",
        "    copy(data_drive_path + filename, \".\")\n",
        "  elif remote_url != None:\n",
        "    fetch_remote_datafile(filename, remote_url)\n",
        "  else:\n",
        "    print(\"error: you need to manually download \" + filename + \" and put in drive\")\n",
        "    \n",
        "def extract_datafile(filename, expected_extract_artifact=None):\n",
        "  if expected_extract_artifact != None and (os.path.isfile(expected_extract_artifact) or os.path.isdir(expected_extract_artifact)):\n",
        "    \n",
        "    print(\"files in \" + filename + \" have already been extracted\")\n",
        "  elif os.path.isfile(\"./\" + filename) == False:\n",
        "    print(\"error: cannot extract \" + filename + \", it is not in the workspace\")\n",
        "  else:\n",
        "    extension = filename.split('.')[-1]\n",
        "    if extension == \"zip\":\n",
        "      print(\"extracting \" + filename + \"...\")\n",
        "      data_file = open(filename, \"rb\")\n",
        "      z = zipfile.ZipFile(data_file)\n",
        "      for name in z.namelist():\n",
        "          print(\"    extracting file\", name)\n",
        "          z.extract(name, \"./\")\n",
        "      data_file.close()\n",
        "    elif extension == \"gz\":\n",
        "      print(\"extracting \" + filename + \"...\")\n",
        "      if filename.split('.')[-2] == \"tar\":\n",
        "        tar = tarfile.open(filename)\n",
        "        tar.extractall()\n",
        "        tar.close()\n",
        "      else:\n",
        "        data_zip_file = gzip.GzipFile(filename, 'rb')\n",
        "        data = data_zip_file.read()\n",
        "        data_zip_file.close()\n",
        "        extracted_file = open('.'.join(filename.split('.')[0:-1]), 'wb')\n",
        "        extracted_file.write(data)\n",
        "        extracted_file.close()\n",
        "    elif extension == \"tar\":\n",
        "      print(\"extracting \" + filename + \"...\")\n",
        "      tar = tarfile.open(filename)\n",
        "      tar.extractall()\n",
        "      tar.close()\n",
        "    elif extension == \"csv\":\n",
        "      print(\"do not need to extract csv\")\n",
        "    else:\n",
        "      print(\"cannot extract \" + filename)\n",
        "      \n",
        "def load_cache_extract_datafile(filename, expected_extract_artifact=None, remote_url=None):\n",
        "  load_datafile_from_drive(filename, remote_url)\n",
        "  extract_datafile(filename, expected_extract_artifact)\n",
        "  cache_datafile_in_drive(filename)\n",
        "  \n",
        "load_cache_extract_datafile(\"home_data_small.sframe.zip\", \"home_data_small.sframe\", \"https://d3c33hcgiwev3.cloudfront.net/lxyGveIvEemx8A5HK6Ls8g_ab278ffbede649f0881b19b2f0badaa8_home_data_small.sframe.zip?Expires=1586044800&Signature=lGoQnV5rpBHAmSiBxX2x59jISLrs9Up4UGTYIFBRdlSa1sAqRyvp1BucYvCmrLyYxhoUcGaHoyuv81o406JOsh~vPzLR4pzUhjWwrGLUW-qA82abYFaPUsEXOXTzl8GgLzEyCoteiq6cEDENCFGpYbXn9snnDfZ8QM7fFJlbh2Q_&Key-Pair-Id=APKAJLTNE6QMUY6HBC5A\")\n"
      ],
      "execution_count": null,
      "outputs": [
        {
          "output_type": "stream",
          "text": [
            "already have home_data_small.sframe.zip in workspace\n",
            "files in home_data_small.sframe.zip have already been extracted\n",
            "home_data_small.sframe.zip has already been stored in Google Drive\n"
          ],
          "name": "stdout"
        }
      ]
    },
    {
      "cell_type": "markdown",
      "metadata": {
        "id": "5B9eRspQDyTP"
      },
      "source": [
        "# Predicting house prices using k-nearest neighbors regression\n",
        "In this notebook, you will implement k-nearest neighbors regression. You will:\n",
        "  * Find the k-nearest neighbors of a given query input\n",
        "  * Predict the output for the query input using the k-nearest neighbors\n",
        "  * Choose the best value of k using a validation set"
      ]
    },
    {
      "cell_type": "markdown",
      "metadata": {
        "id": "hfLrlmdYDyTX"
      },
      "source": [
        "# Fire up Turi Create"
      ]
    },
    {
      "cell_type": "code",
      "metadata": {
        "id": "ZaUpgIPSDyTf"
      },
      "source": [
        "import turicreate"
      ],
      "execution_count": null,
      "outputs": []
    },
    {
      "cell_type": "markdown",
      "metadata": {
        "id": "kC4atX_4DyUJ"
      },
      "source": [
        "# Load in house sales data"
      ]
    },
    {
      "cell_type": "markdown",
      "metadata": {
        "id": "Zc6vf_c5DyUQ"
      },
      "source": [
        "For this notebook, we use a subset of the King County housing dataset created by randomly selecting 40% of the houses in the full dataset."
      ]
    },
    {
      "cell_type": "code",
      "metadata": {
        "id": "g5M_lY7ODyUa"
      },
      "source": [
        "sales = turicreate.SFrame('home_data_small.sframe/')"
      ],
      "execution_count": null,
      "outputs": []
    },
    {
      "cell_type": "markdown",
      "metadata": {
        "id": "RTZHngq9DyUy"
      },
      "source": [
        "# Import useful functions from previous notebooks"
      ]
    },
    {
      "cell_type": "markdown",
      "metadata": {
        "id": "TBj98cQzDyU4"
      },
      "source": [
        "To efficiently compute pairwise distances among data points, we will convert the SFrame into a 2D Numpy array. First import the numpy library and then copy and paste `get_numpy_data()` from the second notebook of Week 2."
      ]
    },
    {
      "cell_type": "code",
      "metadata": {
        "id": "oCdP0-0tDyU-"
      },
      "source": [
        "import numpy as np # note this allows us to refer to numpy as np instead"
      ],
      "execution_count": null,
      "outputs": []
    },
    {
      "cell_type": "code",
      "metadata": {
        "id": "HX9ZOZ-qDyVU"
      },
      "source": [
        "def get_numpy_data(data_sframe, features, output):\n",
        "    data_sframe['constant'] = 1 # this is how you add a constant column to an SFrame\n",
        "    # add the column 'constant' to the front of the features list so that we can extract it along with the others:\n",
        "    features = ['constant'] + features # this is how you combine two lists\n",
        "    # select the columns of data_SFrame given by the features list into the SFrame features_sframe (now including constant):\n",
        "    features_sframe = data_sframe[features]\n",
        "    # the following line will convert the features_SFrame into a numpy matrix:\n",
        "    feature_matrix = features_sframe.to_numpy()\n",
        "    # assign the column of data_sframe associated with the output to the SArray output_sarray\n",
        "    output_sarray = data_sframe[output]\n",
        "    # the following will convert the SArray into a numpy array by first converting it to a list\n",
        "    output_array = output_sarray.to_numpy()\n",
        "    return(feature_matrix, output_array)"
      ],
      "execution_count": null,
      "outputs": []
    },
    {
      "cell_type": "markdown",
      "metadata": {
        "id": "PfYQYxlADyVp"
      },
      "source": [
        "We will also need the `normalize_features()` function from Week 5 that normalizes all feature columns to unit norm. Paste this function below."
      ]
    },
    {
      "cell_type": "code",
      "metadata": {
        "id": "cWUybLRQDyVs"
      },
      "source": [
        "def normalize_features(feature_matrix):\n",
        "  norms = np.linalg.norm(feature_matrix, axis=0)\n",
        "  normalized_features = feature_matrix / norms\n",
        "  return(normalized_features, norms)"
      ],
      "execution_count": null,
      "outputs": []
    },
    {
      "cell_type": "markdown",
      "metadata": {
        "id": "Gxu8KdShDyWD"
      },
      "source": [
        "# Split data into training, test, and validation sets"
      ]
    },
    {
      "cell_type": "code",
      "metadata": {
        "id": "4116AGpkDyWG"
      },
      "source": [
        "(train_and_validation, test) = sales.random_split(.8, seed=1) # initial train/test split\n",
        "(train, validation) = train_and_validation.random_split(.8, seed=1) # split training set into training and validation sets"
      ],
      "execution_count": null,
      "outputs": []
    },
    {
      "cell_type": "markdown",
      "metadata": {
        "id": "tZjq35DTDyWW"
      },
      "source": [
        "# Extract features and normalize"
      ]
    },
    {
      "cell_type": "markdown",
      "metadata": {
        "id": "5y_GSIecDyWZ"
      },
      "source": [
        "Using all of the numerical inputs listed in `feature_list`, transform the training, test, and validation SFrames into Numpy arrays:"
      ]
    },
    {
      "cell_type": "code",
      "metadata": {
        "id": "9UI99gagDyWd"
      },
      "source": [
        "feature_list = ['bedrooms',  \n",
        "                'bathrooms',  \n",
        "                'sqft_living',  \n",
        "                'sqft_lot',  \n",
        "                'floors',\n",
        "                'waterfront',  \n",
        "                'view',  \n",
        "                'condition',  \n",
        "                'grade',  \n",
        "                'sqft_above',  \n",
        "                'sqft_basement',\n",
        "                'yr_built',  \n",
        "                'yr_renovated',  \n",
        "                'lat',  \n",
        "                'long',  \n",
        "                'sqft_living15',  \n",
        "                'sqft_lot15']\n",
        "features_train, output_train = get_numpy_data(train, feature_list, 'price')\n",
        "features_test, output_test = get_numpy_data(test, feature_list, 'price')\n",
        "features_valid, output_valid = get_numpy_data(validation, feature_list, 'price')"
      ],
      "execution_count": null,
      "outputs": []
    },
    {
      "cell_type": "markdown",
      "metadata": {
        "id": "lI8Ao9PODyWu"
      },
      "source": [
        "In computing distances, it is crucial to normalize features. Otherwise, for example, the `sqft_living` feature (typically on the order of thousands) would exert a much larger influence on distance than the `bedrooms` feature (typically on the order of ones). We divide each column of the training feature matrix by its 2-norm, so that the transformed column has unit norm.\n",
        "\n",
        "IMPORTANT: Make sure to store the norms of the features in the training set. The features in the test and validation sets must be divided by these same norms, so that the training, test, and validation sets are normalized consistently."
      ]
    },
    {
      "cell_type": "code",
      "metadata": {
        "id": "J4HcZr6IDyW1"
      },
      "source": [
        "features_train, norms = normalize_features(features_train) # normalize training set features (columns)\n",
        "features_test = features_test / norms # normalize test set by training set norms\n",
        "features_valid = features_valid / norms # normalize validation set by training set norms"
      ],
      "execution_count": null,
      "outputs": []
    },
    {
      "cell_type": "markdown",
      "metadata": {
        "id": "wYyVToKiDyXJ"
      },
      "source": [
        "# Compute a single distance"
      ]
    },
    {
      "cell_type": "markdown",
      "metadata": {
        "id": "pwI9ENc5DyXN"
      },
      "source": [
        "To start, let's just explore computing the \"distance\" between two given houses.  We will take our **query house** to be the first house of the test set and look at the distance between this house and the 10th house of the training set.\n",
        "\n",
        "To see the features associated with the query house, print the first row (index 0) of the test feature matrix. You should get an 18-dimensional vector whose components are between 0 and 1."
      ]
    },
    {
      "cell_type": "code",
      "metadata": {
        "id": "Vh9qFwHlDyXR",
        "colab": {
          "base_uri": "https://localhost:8080/",
          "height": 90
        },
        "outputId": "0aee684a-246c-4da6-c13c-957fc2ffd010"
      },
      "source": [
        "features_test[0]"
      ],
      "execution_count": null,
      "outputs": [
        {
          "output_type": "execute_result",
          "data": {
            "text/plain": [
              "array([ 0.01345102,  0.01551285,  0.01807473,  0.01759212,  0.00160518,\n",
              "        0.017059  ,  0.        ,  0.05102365,  0.0116321 ,  0.01564352,\n",
              "        0.01362084,  0.02481682,  0.01350306,  0.        ,  0.01345386,\n",
              "       -0.01346927,  0.01375926,  0.0016225 ])"
            ]
          },
          "metadata": {
            "tags": []
          },
          "execution_count": 117
        }
      ]
    },
    {
      "cell_type": "markdown",
      "metadata": {
        "id": "cINSB2E0DyXm"
      },
      "source": [
        "Now print the 10th row (index 9) of the training feature matrix. Again, you get an 18-dimensional vector with components between 0 and 1."
      ]
    },
    {
      "cell_type": "code",
      "metadata": {
        "id": "5MaChSFTDyXq",
        "colab": {
          "base_uri": "https://localhost:8080/",
          "height": 90
        },
        "outputId": "87ed6391-9921-417f-b8db-665ed31067c3"
      },
      "source": [
        "features_train[9]"
      ],
      "execution_count": null,
      "outputs": [
        {
          "output_type": "execute_result",
          "data": {
            "text/plain": [
              "array([ 0.01345102,  0.01163464,  0.00602491,  0.0083488 ,  0.00050756,\n",
              "        0.01279425,  0.        ,  0.        ,  0.01938684,  0.01390535,\n",
              "        0.0096309 ,  0.        ,  0.01302544,  0.        ,  0.01346821,\n",
              "       -0.01346254,  0.01195898,  0.00156612])"
            ]
          },
          "metadata": {
            "tags": []
          },
          "execution_count": 118
        }
      ]
    },
    {
      "cell_type": "markdown",
      "metadata": {
        "id": "8-6-SUoQDyYK"
      },
      "source": [
        "***QUIZ QUESTION ***\n",
        "\n",
        "What is the Euclidean distance between the query house and the 10th house of the training set? \n",
        "\n",
        "Note: Do not use the `np.linalg.norm` function; use `np.sqrt`, `np.sum`, and the power operator (`**`) instead. The latter approach is more easily adapted to computing multiple distances at once."
      ]
    },
    {
      "cell_type": "code",
      "metadata": {
        "id": "7YoUhfGlDyYO",
        "colab": {
          "base_uri": "https://localhost:8080/",
          "height": 35
        },
        "outputId": "b908e881-efee-42aa-f904-42245e194549"
      },
      "source": [
        "euclidean_distance_for_1_10 = np.sqrt(np.sum((features_train[9] - features_test[0])**2))\n",
        "print(euclidean_distance_for_1_10)"
      ],
      "execution_count": null,
      "outputs": [
        {
          "output_type": "stream",
          "text": [
            "0.05972359371666126\n"
          ],
          "name": "stdout"
        }
      ]
    },
    {
      "cell_type": "markdown",
      "metadata": {
        "id": "EOoA-m3bDyYc"
      },
      "source": [
        "# Compute multiple distances"
      ]
    },
    {
      "cell_type": "markdown",
      "metadata": {
        "id": "2tmHtRUmDyYf"
      },
      "source": [
        "Of course, to do nearest neighbor regression, we need to compute the distance between our query house and *all* houses in the training set.  \n",
        "\n",
        "To visualize this nearest-neighbor search, let's first compute the distance from our query house (`features_test[0]`) to the first 10 houses of the training set (`features_train[0:10]`) and then search for the nearest neighbor within this small set of houses.  Through restricting ourselves to a small set of houses to begin with, we can visually scan the list of 10 distances to verify that our code for finding the nearest neighbor is working.\n",
        "\n",
        "Write a loop to compute the Euclidean distance from the query house to each of the first 10 houses in the training set."
      ]
    },
    {
      "cell_type": "code",
      "metadata": {
        "id": "Arh-JbAuDyYj",
        "colab": {
          "base_uri": "https://localhost:8080/",
          "height": 55
        },
        "outputId": "fec0fc5c-2de8-484e-cd16-4110814f0261"
      },
      "source": [
        "euclidean_distance_between_1tr_and_1ts_to_10ts_list = {}\n",
        "for i in range(10):\n",
        "  euclidean_distance_between_1tr_and_1ts_to_10ts = np.sqrt(np.sum((features_train[i] - features_test[0])**2))\n",
        "  euclidean_distance_between_1tr_and_1ts_to_10ts_list[i] = euclidean_distance_between_1tr_and_1ts_to_10ts\n",
        "print(euclidean_distance_between_1tr_and_1ts_to_10ts_list)"
      ],
      "execution_count": null,
      "outputs": [
        {
          "output_type": "stream",
          "text": [
            "{0: 0.0602747091729555, 1: 0.08546881148827083, 2: 0.06149946437120284, 3: 0.05340273978820058, 4: 0.05844484063938139, 5: 0.05987921510184001, 6: 0.05463140497261526, 7: 0.05543108324159792, 8: 0.05238362784097273, 9: 0.05972359371666126}\n"
          ],
          "name": "stdout"
        }
      ]
    },
    {
      "cell_type": "markdown",
      "metadata": {
        "id": "waYVimFxDyY2"
      },
      "source": [
        "*** QUIZ QUESTION ***\n",
        "\n",
        "Among the first 10 training houses, which house is the closest to the query house?"
      ]
    },
    {
      "cell_type": "code",
      "metadata": {
        "id": "gVVtThLJDyY5",
        "colab": {
          "base_uri": "https://localhost:8080/",
          "height": 35
        },
        "outputId": "2f6a7c70-4562-46bd-d9b8-77ee3d8c5d67"
      },
      "source": [
        "print(min(euclidean_distance_between_1tr_and_1ts_to_10ts_list.items(), key=lambda x: x[1]))"
      ],
      "execution_count": null,
      "outputs": [
        {
          "output_type": "stream",
          "text": [
            "(8, 0.05238362784097273)\n"
          ],
          "name": "stdout"
        }
      ]
    },
    {
      "cell_type": "markdown",
      "metadata": {
        "id": "LWYtKL8-DyZG"
      },
      "source": [
        "It is computationally inefficient to loop over computing distances to all houses in our training dataset. Fortunately, many of the Numpy functions can be **vectorized**, applying the same operation over multiple values or vectors.  We now walk through this process."
      ]
    },
    {
      "cell_type": "markdown",
      "metadata": {
        "id": "aj-kRzi8DyZI"
      },
      "source": [
        "Consider the following loop that computes the element-wise difference between the features of the query house (`features_test[0]`) and the first 3 training houses (`features_train[0:3]`):"
      ]
    },
    {
      "cell_type": "code",
      "metadata": {
        "scrolled": false,
        "id": "Wnmg4jTvDyZL",
        "colab": {
          "base_uri": "https://localhost:8080/",
          "height": 293
        },
        "outputId": "5e287686-5900-465f-af41-ff9ee00f36d1"
      },
      "source": [
        "for i in range(3):\n",
        "    print(features_train[i]-features_test[0])\n",
        "    # should print 3 vectors of length 18"
      ],
      "execution_count": null,
      "outputs": [
        {
          "output_type": "stream",
          "text": [
            "[ 0.00000000e+00 -3.87821276e-03 -1.20498190e-02 -1.05552733e-02\n",
            "  2.08673616e-04 -8.52950206e-03  0.00000000e+00 -5.10236549e-02\n",
            "  0.00000000e+00 -3.47633726e-03 -5.50336860e-03 -2.48168183e-02\n",
            " -1.63756198e-04  0.00000000e+00 -1.70072004e-05  1.30577772e-05\n",
            " -5.14364795e-03  6.69281453e-04]\n",
            "[ 0.00000000e+00 -3.87821276e-03 -4.51868214e-03 -2.26610387e-03\n",
            "  7.19763456e-04  0.00000000e+00  0.00000000e+00 -5.10236549e-02\n",
            "  0.00000000e+00 -3.47633726e-03  1.30705004e-03 -1.45830788e-02\n",
            " -1.91048898e-04  6.65082271e-02  4.23240653e-05  6.22415897e-06\n",
            " -2.89330197e-03  1.47606982e-03]\n",
            "[ 0.00000000e+00 -7.75642553e-03 -1.20498190e-02 -1.30002801e-02\n",
            "  1.60518166e-03 -8.52950206e-03  0.00000000e+00 -5.10236549e-02\n",
            "  0.00000000e+00 -5.21450589e-03 -8.32384500e-03 -2.48168183e-02\n",
            " -3.13866046e-04  0.00000000e+00  4.71047219e-05  1.56530415e-05\n",
            "  3.72914476e-03  1.64764925e-03]\n"
          ],
          "name": "stdout"
        }
      ]
    },
    {
      "cell_type": "markdown",
      "metadata": {
        "id": "poTYsg5KDyZm"
      },
      "source": [
        "The subtraction operator (`-`) in Numpy is vectorized as follows:"
      ]
    },
    {
      "cell_type": "code",
      "metadata": {
        "id": "PLXlDgfODyZv",
        "colab": {
          "base_uri": "https://localhost:8080/",
          "height": 293
        },
        "outputId": "140b5739-4849-4c93-c0a2-6bddcd9b7c7f"
      },
      "source": [
        "print(features_train[0:3] - features_test[0])"
      ],
      "execution_count": null,
      "outputs": [
        {
          "output_type": "stream",
          "text": [
            "[[ 0.00000000e+00 -3.87821276e-03 -1.20498190e-02 -1.05552733e-02\n",
            "   2.08673616e-04 -8.52950206e-03  0.00000000e+00 -5.10236549e-02\n",
            "   0.00000000e+00 -3.47633726e-03 -5.50336860e-03 -2.48168183e-02\n",
            "  -1.63756198e-04  0.00000000e+00 -1.70072004e-05  1.30577772e-05\n",
            "  -5.14364795e-03  6.69281453e-04]\n",
            " [ 0.00000000e+00 -3.87821276e-03 -4.51868214e-03 -2.26610387e-03\n",
            "   7.19763456e-04  0.00000000e+00  0.00000000e+00 -5.10236549e-02\n",
            "   0.00000000e+00 -3.47633726e-03  1.30705004e-03 -1.45830788e-02\n",
            "  -1.91048898e-04  6.65082271e-02  4.23240653e-05  6.22415897e-06\n",
            "  -2.89330197e-03  1.47606982e-03]\n",
            " [ 0.00000000e+00 -7.75642553e-03 -1.20498190e-02 -1.30002801e-02\n",
            "   1.60518166e-03 -8.52950206e-03  0.00000000e+00 -5.10236549e-02\n",
            "   0.00000000e+00 -5.21450589e-03 -8.32384500e-03 -2.48168183e-02\n",
            "  -3.13866046e-04  0.00000000e+00  4.71047219e-05  1.56530415e-05\n",
            "   3.72914476e-03  1.64764925e-03]]\n"
          ],
          "name": "stdout"
        }
      ]
    },
    {
      "cell_type": "markdown",
      "metadata": {
        "id": "xafqQfYTDyZ7"
      },
      "source": [
        "Note that the output of this vectorized operation is identical to that of the loop above, which can be verified below:"
      ]
    },
    {
      "cell_type": "code",
      "metadata": {
        "id": "rwGYIf3ADyZ9",
        "colab": {
          "base_uri": "https://localhost:8080/",
          "height": 72
        },
        "outputId": "fcb9d836-7ec5-4498-a40a-2b35b3ce4ffe"
      },
      "source": [
        "# verify that vectorization works\n",
        "results = features_train[0:3] - features_test[0]\n",
        "print(results[0] - (features_train[0]-features_test[0]))\n",
        "# should print all 0's if results[0] == (features_train[0]-features_test[0])\n",
        "print(results[1] - (features_train[1]-features_test[0]))\n",
        "# should print all 0's if results[1] == (features_train[1]-features_test[0])\n",
        "print(results[2] - (features_train[2]-features_test[0]))\n",
        "# should print all 0's if results[2] == (features_train[2]-features_test[0])"
      ],
      "execution_count": null,
      "outputs": [
        {
          "output_type": "stream",
          "text": [
            "[0. 0. 0. 0. 0. 0. 0. 0. 0. 0. 0. 0. 0. 0. 0. 0. 0. 0.]\n",
            "[0. 0. 0. 0. 0. 0. 0. 0. 0. 0. 0. 0. 0. 0. 0. 0. 0. 0.]\n",
            "[0. 0. 0. 0. 0. 0. 0. 0. 0. 0. 0. 0. 0. 0. 0. 0. 0. 0.]\n"
          ],
          "name": "stdout"
        }
      ]
    },
    {
      "cell_type": "markdown",
      "metadata": {
        "id": "22uv7-rgDyaL"
      },
      "source": [
        "Aside: it is a good idea to write tests like this cell whenever you are vectorizing a complicated operation."
      ]
    },
    {
      "cell_type": "markdown",
      "metadata": {
        "id": "HwK8y1krDyaO"
      },
      "source": [
        "# Perform 1-nearest neighbor regression\n",
        "\n",
        "Now that we have the element-wise differences, it is not too hard to compute the Euclidean distances between our query house and all of the training houses. First, write a single-line expression to define a variable `diff` such that `diff[i]` gives the element-wise difference between the features of the query house and the `i`-th training house."
      ]
    },
    {
      "cell_type": "code",
      "metadata": {
        "id": "oPaZcXCDDyaR"
      },
      "source": [
        "diff = features_train - features_test[0]"
      ],
      "execution_count": null,
      "outputs": []
    },
    {
      "cell_type": "markdown",
      "metadata": {
        "id": "cSwM5zqjDyac"
      },
      "source": [
        "To test the code above, run the following cell, which should output a value -0.0934339605842:"
      ]
    },
    {
      "cell_type": "code",
      "metadata": {
        "id": "kaCD1GHgDyag",
        "colab": {
          "base_uri": "https://localhost:8080/",
          "height": 35
        },
        "outputId": "efeb55b8-da6c-456a-f5bb-3624be588277"
      },
      "source": [
        "print(diff[-1].sum()) # sum of the feature differences between the query and last training house\n",
        "# should print -0.0934339605842"
      ],
      "execution_count": null,
      "outputs": [
        {
          "output_type": "stream",
          "text": [
            "-0.0934339605841801\n"
          ],
          "name": "stdout"
        }
      ]
    },
    {
      "cell_type": "markdown",
      "metadata": {
        "id": "8HP5MikRDya3"
      },
      "source": [
        "The next step in computing the Euclidean distances is to take these feature-by-feature differences in `diff`, square each, and take the sum over feature indices.  That is, compute the sum of square feature differences for each training house (row in `diff`).\n",
        "\n",
        "By default, `np.sum` sums up everything in the matrix and returns a single number. To instead sum only over a row or column, we need to specifiy the `axis` parameter described in the `np.sum` [documentation](http://docs.scipy.org/doc/numpy-1.10.1/reference/generated/numpy.sum.html). In particular, `axis=1` computes the sum across each row.\n",
        "\n",
        "Below, we compute this sum of square feature differences for all training houses and verify that the output for the 16th house in the training set is equivalent to having examined only the 16th row of `diff` and computing the sum of squares on that row alone."
      ]
    },
    {
      "cell_type": "code",
      "metadata": {
        "id": "GjNK7AbuDya7",
        "colab": {
          "base_uri": "https://localhost:8080/",
          "height": 54
        },
        "outputId": "625d3d98-d52e-4105-dd68-74bd94ea7639"
      },
      "source": [
        "print(np.sum(diff**2, axis=1)[15]) # take sum of squares across each row, and print the 16th sum\n",
        "print(np.sum(diff[15]**2)) # print the sum of squares for the 16th row -- should be same as above"
      ],
      "execution_count": null,
      "outputs": [
        {
          "output_type": "stream",
          "text": [
            "0.003307059028786791\n",
            "0.0033070590287867904\n"
          ],
          "name": "stdout"
        }
      ]
    },
    {
      "cell_type": "markdown",
      "metadata": {
        "id": "pMusjpMADybJ"
      },
      "source": [
        "With this result in mind, write a single-line expression to compute the Euclidean distances between the query house and all houses in the training set. Assign the result to a variable `distances`.\n",
        "\n",
        "**Hint**: Do not forget to take the square root of the sum of squares."
      ]
    },
    {
      "cell_type": "code",
      "metadata": {
        "id": "A5oFKH4uDybM"
      },
      "source": [
        "distances = np.sqrt(np.sum(diff**2, axis=1))"
      ],
      "execution_count": null,
      "outputs": []
    },
    {
      "cell_type": "markdown",
      "metadata": {
        "id": "YWNTcnTxDybh"
      },
      "source": [
        "To test the code above, run the following cell, which should output a value 0.0237082324496:"
      ]
    },
    {
      "cell_type": "code",
      "metadata": {
        "id": "3x5n0i0xDybl",
        "colab": {
          "base_uri": "https://localhost:8080/",
          "height": 35
        },
        "outputId": "2a1cbc9d-774f-436c-c695-f6ee6579eae8"
      },
      "source": [
        "print(distances[100]) # Euclidean distance between the query house and the 101th training house\n",
        "# should print 0.0237082324496"
      ],
      "execution_count": null,
      "outputs": [
        {
          "output_type": "stream",
          "text": [
            "0.023708232449603735\n"
          ],
          "name": "stdout"
        }
      ]
    },
    {
      "cell_type": "markdown",
      "metadata": {
        "id": "KtkFpSILDyb1"
      },
      "source": [
        "Now you are ready to write a function that computes the distances from a query house to all training houses. The function should take two parameters: (i) the matrix of training features and (ii) the single feature vector associated with the query."
      ]
    },
    {
      "cell_type": "code",
      "metadata": {
        "id": "mGc-x6AhDyb3"
      },
      "source": [
        "def computes_the_distances(features_matrix,query_feature_vector):\n",
        "  diffrence = np.sqrt(np.sum((features_matrix - query_feature_vector)**2, axis=1))\n",
        "  return diffrence"
      ],
      "execution_count": null,
      "outputs": []
    },
    {
      "cell_type": "markdown",
      "metadata": {
        "id": "lFsEJbh4DycC"
      },
      "source": [
        "*** QUIZ QUESTIONS ***\n",
        "\n",
        "1.  Take the query house to be third house of the test set (`features_test[2]`).  What is the index of the house in the training set that is closest to this query house?\n",
        "2.  What is the predicted value of the query house based on 1-nearest neighbor regression?"
      ]
    },
    {
      "cell_type": "code",
      "metadata": {
        "id": "-_r_ShqADycF",
        "colab": {
          "base_uri": "https://localhost:8080/",
          "height": 35
        },
        "outputId": "269be6e8-2ea8-4438-92f2-2dc2e4ec4eec"
      },
      "source": [
        "diffrence_function = computes_the_distances(features_train,features_test[2])\n",
        "print(np.argmin(diffrence_function),min(diffrence_function))"
      ],
      "execution_count": null,
      "outputs": [
        {
          "output_type": "stream",
          "text": [
            "382 0.002860495267507927\n"
          ],
          "name": "stdout"
        }
      ]
    },
    {
      "cell_type": "code",
      "metadata": {
        "id": "me-IxTHGDycR",
        "colab": {
          "base_uri": "https://localhost:8080/",
          "height": 35
        },
        "outputId": "1d2049ab-48e5-45bb-8c41-b5a8a4cae5b1"
      },
      "source": [
        "print(output_train[382])"
      ],
      "execution_count": null,
      "outputs": [
        {
          "output_type": "stream",
          "text": [
            "249000\n"
          ],
          "name": "stdout"
        }
      ]
    },
    {
      "cell_type": "markdown",
      "metadata": {
        "id": "iNSsgsavDycb"
      },
      "source": [
        "# Perform k-nearest neighbor regression"
      ]
    },
    {
      "cell_type": "markdown",
      "metadata": {
        "id": "uhs17A5jDycd"
      },
      "source": [
        "For k-nearest neighbors, we need to find a *set* of k houses in the training set closest to a given query house. We then make predictions based on these k nearest neighbors."
      ]
    },
    {
      "cell_type": "markdown",
      "metadata": {
        "id": "1sOMgZdfDych"
      },
      "source": [
        "## Fetch k-nearest neighbors\n",
        "\n",
        "Using the functions above, implement a function that takes in\n",
        " * the value of k;\n",
        " * the feature matrix for the training houses; and\n",
        " * the feature vector of the query house\n",
        " \n",
        "and returns the indices of the k closest training houses. For instance, with 2-nearest neighbor, a return value of [5, 10] would indicate that the 6th and 11th training houses are closest to the query house.\n",
        "\n",
        "**Hint**: Look at the [documentation for `np.argsort`](http://docs.scipy.org/doc/numpy/reference/generated/numpy.argsort.html)."
      ]
    },
    {
      "cell_type": "code",
      "metadata": {
        "id": "lE6rVxMpDyco"
      },
      "source": [
        "def compute_k_nearest_neighbors(k, features_matrix, feature_vector):\n",
        "    distances = computes_the_distances(features_matrix,feature_vector)\n",
        "    return np.argsort(distances, axis = 0)[:k]"
      ],
      "execution_count": null,
      "outputs": []
    },
    {
      "cell_type": "markdown",
      "metadata": {
        "id": "o6jPRTyyDyc6"
      },
      "source": [
        "*** QUIZ QUESTION ***\n",
        "\n",
        "Take the query house to be third house of the test set (`features_test[2]`).  What are the indices of the 4 training houses closest to the query house?"
      ]
    },
    {
      "cell_type": "code",
      "metadata": {
        "id": "SNP41maNDyc8",
        "colab": {
          "base_uri": "https://localhost:8080/",
          "height": 35
        },
        "outputId": "b992b493-ac9f-4e35-eb92-9afa9a9ea6f7"
      },
      "source": [
        "indices_of_the_4_training_houses= compute_k_nearest_neighbors(4, features_train,features_test[2])\n",
        "print(indices_of_the_4_training_houses)"
      ],
      "execution_count": null,
      "outputs": [
        {
          "output_type": "stream",
          "text": [
            "[ 382 1149 4087 3142]\n"
          ],
          "name": "stdout"
        }
      ]
    },
    {
      "cell_type": "markdown",
      "metadata": {
        "id": "XxE64zu3DydF"
      },
      "source": [
        "## Make a single prediction by averaging k nearest neighbor outputs"
      ]
    },
    {
      "cell_type": "markdown",
      "metadata": {
        "id": "vFF-3YtnDydG"
      },
      "source": [
        "Now that we know how to find the k-nearest neighbors, write a function that predicts the value of a given query house. **For simplicity, take the average of the prices of the k nearest neighbors in the training set**. The function should have the following parameters:\n",
        " * the value of k;\n",
        " * the feature matrix for the training houses;\n",
        " * the output values (prices) of the training houses; and\n",
        " * the feature vector of the query house, whose price we are predicting.\n",
        " \n",
        "The function should return a predicted value of the query house.\n",
        "\n",
        "**Hint**: You can extract multiple items from a Numpy array using a list of indices. For instance, `output_train[[6, 10]]` returns the prices of the 7th and 11th training houses."
      ]
    },
    {
      "cell_type": "code",
      "metadata": {
        "id": "vmUhfibmDydJ"
      },
      "source": [
        "def compute_the_average_of_the_prices(k, features_matrix, output_values, feature_vector):\n",
        "    indices = compute_k_nearest_neighbors(k, features_matrix,feature_vector)\n",
        "    return np.mean(output_values[indices])"
      ],
      "execution_count": null,
      "outputs": []
    },
    {
      "cell_type": "markdown",
      "metadata": {
        "id": "8-8pdplBDydW"
      },
      "source": [
        "*** QUIZ QUESTION ***\n",
        "\n",
        "Again taking the query house to be third house of the test set (`features_test[2]`), predict the value of the query house using k-nearest neighbors with `k=4` and the simple averaging method described and implemented above."
      ]
    },
    {
      "cell_type": "code",
      "metadata": {
        "id": "n5AUNPNbDydb",
        "colab": {
          "base_uri": "https://localhost:8080/",
          "height": 35
        },
        "outputId": "5a5242c5-22dd-473b-c810-deff0a8f9b63"
      },
      "source": [
        "the_average_of_the_prices = compute_the_average_of_the_prices(4, features_train, output_train, features_test[2])\n",
        "print(the_average_of_the_prices)"
      ],
      "execution_count": null,
      "outputs": [
        {
          "output_type": "stream",
          "text": [
            "413987.5\n"
          ],
          "name": "stdout"
        }
      ]
    },
    {
      "cell_type": "markdown",
      "metadata": {
        "id": "NDGaEEkhDydv"
      },
      "source": [
        "Compare this predicted value using 4-nearest neighbors to the predicted value using 1-nearest neighbor computed earlier."
      ]
    },
    {
      "cell_type": "markdown",
      "metadata": {
        "id": "tn-wyBXKDyd0"
      },
      "source": [
        "## Make multiple predictions"
      ]
    },
    {
      "cell_type": "markdown",
      "metadata": {
        "id": "TJzw0lKxDyd4"
      },
      "source": [
        "Write a function to predict the value of *each and every* house in a query set. (The query set can be any subset of the dataset, be it the test set or validation set.) The idea is to have a loop where we take each house in the query set as the query house and make a prediction for that specific house. The new function should take the following parameters:\n",
        " * the value of k;\n",
        " * the feature matrix for the training houses;\n",
        " * the output values (prices) of the training houses; and\n",
        " * the feature matrix for the query set.\n",
        " \n",
        "The function should return a set of predicted values, one for each house in the query set.\n",
        "\n",
        "**Hint**: To get the number of houses in the query set, use the `.shape` field of the query features matrix. See [the documentation](http://docs.scipy.org/doc/numpy-1.10.1/reference/generated/numpy.ndarray.shape.html)."
      ]
    },
    {
      "cell_type": "code",
      "metadata": {
        "id": "4gBr9meiDyeA"
      },
      "source": [
        "def compute_the_predicted_values_of_the_prices(k, features_matrix, output_values, feature_vector):\n",
        "    num_of_rows = feature_vector.shape[0]\n",
        "    predicted_values = []\n",
        "    for i in range(num_of_rows):\n",
        "        the_average_of_the_prices = compute_the_average_of_the_prices(k, features_train, output_train, features_test[i])\n",
        "        predicted_values.append(the_average_of_the_prices)\n",
        "    return predicted_values"
      ],
      "execution_count": null,
      "outputs": []
    },
    {
      "cell_type": "markdown",
      "metadata": {
        "id": "Fh0mJ_BXDyeU"
      },
      "source": [
        "*** QUIZ QUESTION ***\n",
        "\n",
        "Make predictions for the first 10 houses in the test set using k-nearest neighbors with `k=10`. \n",
        "\n",
        "1. What is the index of the house in this query set that has the lowest predicted value? \n",
        "2. What is the predicted value of this house?"
      ]
    },
    {
      "cell_type": "code",
      "metadata": {
        "id": "kEtRxw40DyeW",
        "colab": {
          "base_uri": "https://localhost:8080/",
          "height": 54
        },
        "outputId": "fa5a50c5-9b48-4ef5-946a-98837a065351"
      },
      "source": [
        "predicted_values = compute_the_predicted_values_of_the_prices(10, features_train, output_train, features_test[0:10])\n",
        "print(predicted_values)\n",
        "print(predicted_values.index(min(predicted_values)))"
      ],
      "execution_count": null,
      "outputs": [
        {
          "output_type": "stream",
          "text": [
            "[881300.0, 431860.0, 460595.0, 430200.0, 766750.0, 667420.0, 350032.0, 512800.7, 484000.0, 457235.0]\n",
            "6\n"
          ],
          "name": "stdout"
        }
      ]
    },
    {
      "cell_type": "markdown",
      "metadata": {
        "id": "yMKEKUX6Dyef"
      },
      "source": [
        "## Choosing the best value of k using a validation set"
      ]
    },
    {
      "cell_type": "markdown",
      "metadata": {
        "id": "z_XbIa1oDyei"
      },
      "source": [
        "There remains a question of choosing the value of k to use in making predictions. Here, we use a validation set to choose this value. Write a loop that does the following:\n",
        "\n",
        "* For `k` in [1, 2, ..., 15]:\n",
        "    * Makes predictions for each house in the VALIDATION set using the k-nearest neighbors from the TRAINING set.\n",
        "    * Computes the RSS for these predictions on the VALIDATION set\n",
        "    * Stores the RSS computed above in `rss_all`\n",
        "* Report which `k` produced the lowest RSS on VALIDATION set."
      ]
    },
    {
      "cell_type": "markdown",
      "metadata": {
        "id": "2Ip-doJMDyek"
      },
      "source": [
        "(Depending on your computing environment, this computation may take 10-15 minutes.)"
      ]
    },
    {
      "cell_type": "code",
      "metadata": {
        "id": "zMxNu_B4Dyel"
      },
      "source": [
        "RSS_all = []\n",
        "for k in range(1,16):    \n",
        "    predicted_value = compute_the_predicted_values_of_the_prices(k, features_train, output_train, features_valid)\n",
        "    residual = (output_valid - predicted_value)\n",
        "    RSS = sum(residual**2)\n",
        "    RSS_all.append(RSS)"
      ],
      "execution_count": null,
      "outputs": []
    },
    {
      "cell_type": "markdown",
      "metadata": {
        "id": "HhGFvXEZDye1"
      },
      "source": [
        "To visualize the performance as a function of `k`, plot the RSS on the VALIDATION set for each considered `k` value:"
      ]
    },
    {
      "cell_type": "code",
      "metadata": {
        "id": "MREiRqhQDye4",
        "colab": {
          "base_uri": "https://localhost:8080/",
          "height": 294
        },
        "outputId": "f09e7d00-f5e4-4d07-cd6b-c005dd38afe9"
      },
      "source": [
        "import matplotlib.pyplot as plt\n",
        "%matplotlib inline\n",
        "\n",
        "kvals = range(1, 16)\n",
        "plt.plot(kvals, RSS_all,'bo-')"
      ],
      "execution_count": null,
      "outputs": [
        {
          "output_type": "execute_result",
          "data": {
            "text/plain": [
              "[<matplotlib.lines.Line2D at 0x7f496554a668>]"
            ]
          },
          "metadata": {
            "tags": []
          },
          "execution_count": 141
        },
        {
          "output_type": "display_data",
          "data": {
            "image/png": "[encoded data removed]",
            "text/plain": [
              "<Figure size 432x288 with 1 Axes>"
            ]
          },
          "metadata": {
            "tags": []
          }
        }
      ]
    },
    {
      "cell_type": "markdown",
      "metadata": {
        "id": "MswtVFg7DyfA"
      },
      "source": [
        "***QUIZ QUESTION ***\n",
        "\n",
        "What is the RSS on the TEST data using the value of k found above?  To be clear, sum over all houses in the TEST set."
      ]
    },
    {
      "cell_type": "code",
      "metadata": {
        "id": "MOcMYWV5DyfC",
        "colab": {
          "base_uri": "https://localhost:8080/",
          "height": 35
        },
        "outputId": "71276e9e-f6ff-4485-d0ce-22cce409d66d"
      },
      "source": [
        "predicted_value = compute_the_predicted_values_of_the_prices(14, features_train, output_train, features_test)\n",
        "residual = (output_test - predicted_value)\n",
        "RSS = sum(residual**2)\n",
        "print(RSS)"
      ],
      "execution_count": null,
      "outputs": [
        {
          "output_type": "stream",
          "text": [
            "133006256365677.28\n"
          ],
          "name": "stdout"
        }
      ]
    }
  ]
}