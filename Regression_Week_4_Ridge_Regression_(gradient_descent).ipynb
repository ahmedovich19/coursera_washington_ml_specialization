{
  "nbformat": 4,
  "nbformat_minor": 0,
  "metadata": {
    "kernelspec": {
      "name": "python3",
      "display_name": "Python 3"
    },
    "colab": {
      "name": "Regression Week 4: Ridge Regression (gradient descent).ipynb",
      "provenance": [],
      "collapsed_sections": []
    }
  },
  "cells": [
    {
      "cell_type": "markdown",
      "metadata": {
        "id": "y8zwbp_IPAEh"
      },
      "source": [
        "# Regression Week 4: Ridge Regression (gradient descent)"
      ]
    },
    {
      "cell_type": "markdown",
      "metadata": {
        "id": "fWjeyuvzPAEy"
      },
      "source": [
        "In this notebook, you will implement ridge regression via gradient descent. You will:\n",
        "* Convert an SFrame into a Numpy array\n",
        "* Write a Numpy function to compute the derivative of the regression weights with respect to a single feature\n",
        "* Write gradient descent function to compute the regression weights given an initial weight vector, step size, tolerance, and L2 penalty"
      ]
    },
    {
      "cell_type": "code",
      "metadata": {
        "id": "006C8X7TRThn",
        "colab": {
          "base_uri": "https://localhost:8080/",
          "height": 1000
        },
        "outputId": "5df3af40-03c9-4ce5-8f7b-c7e7031bd0c2"
      },
      "source": [
        "!pip install -e git+https://github.com/Kagandi/turicreate-cross-validation.git#egg=turicreate_cross_validation\n",
        "!pip install numpy "
      ],
      "execution_count": null,
      "outputs": [
        {
          "output_type": "stream",
          "text": [
            "Obtaining turicreate_cross_validation from git+https://github.com/Kagandi/turicreate-cross-validation.git#egg=turicreate_cross_validation\n",
            "  Updating ./src/turicreate-cross-validation clone\n",
            "  Running command git fetch -q --tags\n",
            "  Running command git reset --hard -q dabf3b7d9d35de767945cc0f3dc6448c2c9b3dc1\n",
            "Requirement already satisfied: turicreate in /usr/local/lib/python3.6/dist-packages (from turicreate_cross_validation) (6.1)\n",
            "Requirement already satisfied: numpy in /usr/local/lib/python3.6/dist-packages (from turicreate_cross_validation) (1.18.1)\n",
            "Requirement already satisfied: resampy==0.2.1 in /usr/local/lib/python3.6/dist-packages (from turicreate->turicreate_cross_validation) (0.2.1)\n",
            "Requirement already satisfied: scipy>=1.1.0 in /usr/local/lib/python3.6/dist-packages (from turicreate->turicreate_cross_validation) (1.4.1)\n",
            "Requirement already satisfied: requests>=2.9.1 in /usr/local/lib/python3.6/dist-packages (from turicreate->turicreate_cross_validation) (2.21.0)\n",
            "Requirement already satisfied: decorator>=4.0.9 in /usr/local/lib/python3.6/dist-packages (from turicreate->turicreate_cross_validation) (4.4.2)\n",
            "Requirement already satisfied: prettytable==0.7.2 in /usr/local/lib/python3.6/dist-packages (from turicreate->turicreate_cross_validation) (0.7.2)\n",
            "Requirement already satisfied: pandas>=0.23.2 in /usr/local/lib/python3.6/dist-packages (from turicreate->turicreate_cross_validation) (0.25.3)\n",
            "Requirement already satisfied: coremltools==3.3 in /usr/local/lib/python3.6/dist-packages (from turicreate->turicreate_cross_validation) (3.3)\n",
            "Requirement already satisfied: pillow>=5.2.0 in /usr/local/lib/python3.6/dist-packages (from turicreate->turicreate_cross_validation) (7.0.0)\n",
            "Requirement already satisfied: six>=1.10.0 in /usr/local/lib/python3.6/dist-packages (from turicreate->turicreate_cross_validation) (1.12.0)\n",
            "Requirement already satisfied: tensorflow>=2.0.0 in /usr/local/lib/python3.6/dist-packages (from turicreate->turicreate_cross_validation) (2.1.0)\n",
            "Requirement already satisfied: numba>=0.32 in /usr/local/lib/python3.6/dist-packages (from resampy==0.2.1->turicreate->turicreate_cross_validation) (0.47.0)\n",
            "Requirement already satisfied: certifi>=2017.4.17 in /usr/local/lib/python3.6/dist-packages (from requests>=2.9.1->turicreate->turicreate_cross_validation) (2019.11.28)\n",
            "Requirement already satisfied: idna<2.9,>=2.5 in /usr/local/lib/python3.6/dist-packages (from requests>=2.9.1->turicreate->turicreate_cross_validation) (2.8)\n",
            "Requirement already satisfied: urllib3<1.25,>=1.21.1 in /usr/local/lib/python3.6/dist-packages (from requests>=2.9.1->turicreate->turicreate_cross_validation) (1.24.3)\n",
            "Requirement already satisfied: chardet<3.1.0,>=3.0.2 in /usr/local/lib/python3.6/dist-packages (from requests>=2.9.1->turicreate->turicreate_cross_validation) (3.0.4)\n",
            "Requirement already satisfied: pytz>=2017.2 in /usr/local/lib/python3.6/dist-packages (from pandas>=0.23.2->turicreate->turicreate_cross_validation) (2018.9)\n",
            "Requirement already satisfied: python-dateutil>=2.6.1 in /usr/local/lib/python3.6/dist-packages (from pandas>=0.23.2->turicreate->turicreate_cross_validation) (2.8.1)\n",
            "Requirement already satisfied: protobuf>=3.1.0 in /usr/local/lib/python3.6/dist-packages (from coremltools==3.3->turicreate->turicreate_cross_validation) (3.10.0)\n",
            "Requirement already satisfied: google-pasta>=0.1.6 in /usr/local/lib/python3.6/dist-packages (from tensorflow>=2.0.0->turicreate->turicreate_cross_validation) (0.1.8)\n",
            "Requirement already satisfied: gast==0.2.2 in /usr/local/lib/python3.6/dist-packages (from tensorflow>=2.0.0->turicreate->turicreate_cross_validation) (0.2.2)\n",
            "Requirement already satisfied: tensorflow-estimator<2.2.0,>=2.1.0rc0 in /usr/local/lib/python3.6/dist-packages (from tensorflow>=2.0.0->turicreate->turicreate_cross_validation) (2.1.0)\n",
            "Requirement already satisfied: termcolor>=1.1.0 in /usr/local/lib/python3.6/dist-packages (from tensorflow>=2.0.0->turicreate->turicreate_cross_validation) (1.1.0)\n",
            "Requirement already satisfied: absl-py>=0.7.0 in /usr/local/lib/python3.6/dist-packages (from tensorflow>=2.0.0->turicreate->turicreate_cross_validation) (0.9.0)\n",
            "Requirement already satisfied: opt-einsum>=2.3.2 in /usr/local/lib/python3.6/dist-packages (from tensorflow>=2.0.0->turicreate->turicreate_cross_validation) (3.2.0)\n",
            "Requirement already satisfied: wheel>=0.26; python_version >= \"3\" in /usr/local/lib/python3.6/dist-packages (from tensorflow>=2.0.0->turicreate->turicreate_cross_validation) (0.34.2)\n",
            "Requirement already satisfied: wrapt>=1.11.1 in /usr/local/lib/python3.6/dist-packages (from tensorflow>=2.0.0->turicreate->turicreate_cross_validation) (1.12.1)\n",
            "Requirement already satisfied: astor>=0.6.0 in /usr/local/lib/python3.6/dist-packages (from tensorflow>=2.0.0->turicreate->turicreate_cross_validation) (0.8.1)\n",
            "Requirement already satisfied: keras-preprocessing>=1.1.0 in /usr/local/lib/python3.6/dist-packages (from tensorflow>=2.0.0->turicreate->turicreate_cross_validation) (1.1.0)\n",
            "Requirement already satisfied: tensorboard<2.2.0,>=2.1.0 in /usr/local/lib/python3.6/dist-packages (from tensorflow>=2.0.0->turicreate->turicreate_cross_validation) (2.1.1)\n",
            "Requirement already satisfied: keras-applications>=1.0.8 in /usr/local/lib/python3.6/dist-packages (from tensorflow>=2.0.0->turicreate->turicreate_cross_validation) (1.0.8)\n",
            "Requirement already satisfied: grpcio>=1.8.6 in /usr/local/lib/python3.6/dist-packages (from tensorflow>=2.0.0->turicreate->turicreate_cross_validation) (1.24.3)\n",
            "Requirement already satisfied: setuptools in /usr/local/lib/python3.6/dist-packages (from numba>=0.32->resampy==0.2.1->turicreate->turicreate_cross_validation) (45.2.0)\n",
            "Requirement already satisfied: llvmlite>=0.31.0dev0 in /usr/local/lib/python3.6/dist-packages (from numba>=0.32->resampy==0.2.1->turicreate->turicreate_cross_validation) (0.31.0)\n",
            "Requirement already satisfied: werkzeug>=0.11.15 in /usr/local/lib/python3.6/dist-packages (from tensorboard<2.2.0,>=2.1.0->tensorflow>=2.0.0->turicreate->turicreate_cross_validation) (1.0.0)\n",
            "Requirement already satisfied: google-auth-oauthlib<0.5,>=0.4.1 in /usr/local/lib/python3.6/dist-packages (from tensorboard<2.2.0,>=2.1.0->tensorflow>=2.0.0->turicreate->turicreate_cross_validation) (0.4.1)\n",
            "Requirement already satisfied: markdown>=2.6.8 in /usr/local/lib/python3.6/dist-packages (from tensorboard<2.2.0,>=2.1.0->tensorflow>=2.0.0->turicreate->turicreate_cross_validation) (3.2.1)\n",
            "Requirement already satisfied: google-auth<2,>=1.6.3 in /usr/local/lib/python3.6/dist-packages (from tensorboard<2.2.0,>=2.1.0->tensorflow>=2.0.0->turicreate->turicreate_cross_validation) (1.7.2)\n",
            "Requirement already satisfied: h5py in /usr/local/lib/python3.6/dist-packages (from keras-applications>=1.0.8->tensorflow>=2.0.0->turicreate->turicreate_cross_validation) (2.8.0)\n",
            "Requirement already satisfied: requests-oauthlib>=0.7.0 in /usr/local/lib/python3.6/dist-packages (from google-auth-oauthlib<0.5,>=0.4.1->tensorboard<2.2.0,>=2.1.0->tensorflow>=2.0.0->turicreate->turicreate_cross_validation) (1.3.0)\n",
            "Requirement already satisfied: cachetools<3.2,>=2.0.0 in /usr/local/lib/python3.6/dist-packages (from google-auth<2,>=1.6.3->tensorboard<2.2.0,>=2.1.0->tensorflow>=2.0.0->turicreate->turicreate_cross_validation) (3.1.1)\n",
            "Requirement already satisfied: pyasn1-modules>=0.2.1 in /usr/local/lib/python3.6/dist-packages (from google-auth<2,>=1.6.3->tensorboard<2.2.0,>=2.1.0->tensorflow>=2.0.0->turicreate->turicreate_cross_validation) (0.2.8)\n",
            "Requirement already satisfied: rsa<4.1,>=3.1.4 in /usr/local/lib/python3.6/dist-packages (from google-auth<2,>=1.6.3->tensorboard<2.2.0,>=2.1.0->tensorflow>=2.0.0->turicreate->turicreate_cross_validation) (4.0)\n",
            "Requirement already satisfied: oauthlib>=3.0.0 in /usr/local/lib/python3.6/dist-packages (from requests-oauthlib>=0.7.0->google-auth-oauthlib<0.5,>=0.4.1->tensorboard<2.2.0,>=2.1.0->tensorflow>=2.0.0->turicreate->turicreate_cross_validation) (3.1.0)\n",
            "Requirement already satisfied: pyasn1<0.5.0,>=0.4.6 in /usr/local/lib/python3.6/dist-packages (from pyasn1-modules>=0.2.1->google-auth<2,>=1.6.3->tensorboard<2.2.0,>=2.1.0->tensorflow>=2.0.0->turicreate->turicreate_cross_validation) (0.4.8)\n",
            "Installing collected packages: turicreate-cross-validation\n",
            "  Found existing installation: turicreate-cross-validation 0.1\n",
            "    Can't uninstall 'turicreate-cross-validation'. No files were found to uninstall.\n",
            "  Running setup.py develop for turicreate-cross-validation\n",
            "Successfully installed turicreate-cross-validation\n",
            "Requirement already satisfied: numpy in /usr/local/lib/python3.6/dist-packages (1.18.1)\n"
          ],
          "name": "stdout"
        }
      ]
    },
    {
      "cell_type": "code",
      "metadata": {
        "id": "PoTYqcRMR8SO",
        "colab": {
          "base_uri": "https://localhost:8080/",
          "height": 35
        },
        "outputId": "5b8893dc-f91f-4542-c8a1-9d212eb80e0a"
      },
      "source": [
        "import os.path\n",
        "from google.colab import drive\n",
        "# mount Google Drive to /content/drive/My Drive/\n",
        "if os.path.isdir(\"/content/drive/My Drive/\"):\n",
        "  print(\"Google Drive already mounted\")\n",
        "else:\n",
        "  drive.mount('/content/drive')"
      ],
      "execution_count": null,
      "outputs": [
        {
          "output_type": "stream",
          "text": [
            "Google Drive already mounted\n"
          ],
          "name": "stdout"
        }
      ]
    },
    {
      "cell_type": "code",
      "metadata": {
        "id": "4SeIJM8rS1dd",
        "colab": {
          "base_uri": "https://localhost:8080/",
          "height": 72
        },
        "outputId": "f1a601c6-1789-452b-d51c-55cb4a61a181"
      },
      "source": [
        "import os.path\n",
        "import urllib.request\n",
        "import tarfile\n",
        "import zipfile\n",
        "import gzip\n",
        "from shutil import copy\n",
        "\n",
        "def fetch_remote_datafile(filename, remote_url):\n",
        "  if os.path.isfile(\"./\" + filename):\n",
        "    print(\"already have \" + filename + \" in workspace\")\n",
        "    return\n",
        "  print(\"fetching \" + filename + \" from \" + remote_url + \"...\")\n",
        "  urllib.request.urlretrieve(remote_url, \"./\" + filename)\n",
        "\n",
        "def cache_datafile_in_drive(filename):\n",
        "  if os.path.isfile(\"./\" + filename) == False:\n",
        "    print(\"cannot cache \" + filename + \", it is not in workspace\")\n",
        "    return\n",
        "  \n",
        "  data_drive_path = \"/content/drive/My Drive/Colab Notebooks/\"\n",
        "  if os.path.isfile(data_drive_path + filename):\n",
        "    print(\"\" + filename + \" has already been stored in Google Drive\")\n",
        "  else:\n",
        "    print(\"copying \" + filename + \" to \" + data_drive_path)\n",
        "    copy(\"./\" + filename, data_drive_path)\n",
        "  \n",
        "\n",
        "def load_datafile_from_drive(filename, remote_url=None):\n",
        "  data_drive_path = \"/content/drive/My Drive/Colab Notebooks/\"\n",
        "  if os.path.isfile(\"./\" + filename):\n",
        "    print(\"already have \" + filename + \" in workspace\")\n",
        "  elif os.path.isfile(data_drive_path + filename):\n",
        "    print(\"have \" + filename + \" in Google Drive, copying to workspace...\")\n",
        "    copy(data_drive_path + filename, \".\")\n",
        "  elif remote_url != None:\n",
        "    fetch_remote_datafile(filename, remote_url)\n",
        "  else:\n",
        "    print(\"error: you need to manually download \" + filename + \" and put in drive\")\n",
        "    \n",
        "def extract_datafile(filename, expected_extract_artifact=None):\n",
        "  if expected_extract_artifact != None and (os.path.isfile(expected_extract_artifact) or os.path.isdir(expected_extract_artifact)):\n",
        "    \n",
        "    print(\"files in \" + filename + \" have already been extracted\")\n",
        "  elif os.path.isfile(\"./\" + filename) == False:\n",
        "    print(\"error: cannot extract \" + filename + \", it is not in the workspace\")\n",
        "  else:\n",
        "    extension = filename.split('.')[-1]\n",
        "    if extension == \"zip\":\n",
        "      print(\"extracting \" + filename + \"...\")\n",
        "      data_file = open(filename, \"rb\")\n",
        "      z = zipfile.ZipFile(data_file)\n",
        "      for name in z.namelist():\n",
        "          print(\"    extracting file\", name)\n",
        "          z.extract(name, \"./\")\n",
        "      data_file.close()\n",
        "    elif extension == \"gz\":\n",
        "      print(\"extracting \" + filename + \"...\")\n",
        "      if filename.split('.')[-2] == \"tar\":\n",
        "        tar = tarfile.open(filename)\n",
        "        tar.extractall()\n",
        "        tar.close()\n",
        "      else:\n",
        "        data_zip_file = gzip.GzipFile(filename, 'rb')\n",
        "        data = data_zip_file.read()\n",
        "        data_zip_file.close()\n",
        "        extracted_file = open('.'.join(filename.split('.')[0:-1]), 'wb')\n",
        "        extracted_file.write(data)\n",
        "        extracted_file.close()\n",
        "    elif extension == \"tar\":\n",
        "      print(\"extracting \" + filename + \"...\")\n",
        "      tar = tarfile.open(filename)\n",
        "      tar.extractall()\n",
        "      tar.close()\n",
        "    elif extension == \"csv\":\n",
        "      print(\"do not need to extract csv\")\n",
        "    else:\n",
        "      print(\"cannot extract \" + filename)\n",
        "      \n",
        "def load_cache_extract_datafile(filename, expected_extract_artifact=None, remote_url=None):\n",
        "  load_datafile_from_drive(filename, remote_url)\n",
        "  extract_datafile(filename, expected_extract_artifact)\n",
        "  cache_datafile_in_drive(filename)\n",
        "  \n",
        "load_cache_extract_datafile(\"home_data.sframe.zip\", \"home_data.sframe\", \"https://d3c33hcgiwev3.cloudfront.net/00FsKOIoEemELQpo9cj5Ig_579152614f2b4a399ac90a939360749e_home_data.sframe.zip?Expires=1583884800&Signature=Y3dA-4ZxuWRSi7DaXvG3EHbMMW1DyTy6FGM4LSgyQusdmjPGSgkZi9tCFuQnCmjSXErfiNwGR2o8oNsBuijNQHk06PiB7JIjXNF3pYbOcu5ng3PWbBTgZjPuIc1jAz-sjBBJVfjGZ032keNsMMVIuJ6NrqVXaK8-U0sGkAtQYwI_&Key-Pair-Id=APKAJLTNE6QMUY6HBC5A\")\n"
      ],
      "execution_count": null,
      "outputs": [
        {
          "output_type": "stream",
          "text": [
            "already have home_data.sframe.zip in workspace\n",
            "files in home_data.sframe.zip have already been extracted\n",
            "home_data.sframe.zip has already been stored in Google Drive\n"
          ],
          "name": "stdout"
        }
      ]
    },
    {
      "cell_type": "markdown",
      "metadata": {
        "id": "35NFRieKPAFA"
      },
      "source": [
        "# Fire up Turi Create"
      ]
    },
    {
      "cell_type": "markdown",
      "metadata": {
        "id": "eVfGbrv7PAFH"
      },
      "source": [
        "Make sure you have the latest version of Turi Create"
      ]
    },
    {
      "cell_type": "code",
      "metadata": {
        "id": "lGfdxATcPAFW"
      },
      "source": [
        "import turicreate\n",
        "import numpy as np"
      ],
      "execution_count": null,
      "outputs": []
    },
    {
      "cell_type": "markdown",
      "metadata": {
        "id": "eoXQ4vlxPAF8"
      },
      "source": [
        "# Load in house sales data\n",
        "\n",
        "Dataset is from house sales in King County, the region where the city of Seattle, WA is located."
      ]
    },
    {
      "cell_type": "code",
      "metadata": {
        "id": "0iaSNdPLPAGO"
      },
      "source": [
        "sales = turicreate.SFrame('home_data.sframe/')"
      ],
      "execution_count": null,
      "outputs": []
    },
    {
      "cell_type": "markdown",
      "metadata": {
        "id": "bOJ48jnjPAGu"
      },
      "source": [
        "If we want to do any \"feature engineering\" like creating new features or adjusting existing ones we should do this directly using the SFrames as seen in the first notebook of Week 2. For this notebook, however, we will work with the existing features."
      ]
    },
    {
      "cell_type": "markdown",
      "metadata": {
        "id": "Vhwoy2dBPAHA"
      },
      "source": [
        "# Import useful functions from previous notebook"
      ]
    },
    {
      "cell_type": "markdown",
      "metadata": {
        "id": "XJ2d5eKfPAHJ"
      },
      "source": [
        "As in Week 2, we convert the SFrame into a 2D Numpy array. Copy and paste `get_numpy_data()` from the second notebook of Week 2."
      ]
    },
    {
      "cell_type": "code",
      "metadata": {
        "id": "sfuUWAWEPAHQ"
      },
      "source": [
        "import numpy as np # note this allows us to refer to numpy as np instead "
      ],
      "execution_count": null,
      "outputs": []
    },
    {
      "cell_type": "code",
      "metadata": {
        "id": "XbAwVfQLPAHr"
      },
      "source": [
        "def get_numpy_data(data_sframe, features, output):\n",
        "    data_sframe['constant'] = 1 # this is how you add a constant column to an SFrame\n",
        "    # add the column 'constant' to the front of the features list so that we can extract it along with the others:\n",
        "    features = ['constant'] + features # this is how you combine two lists\n",
        "    # select the columns of data_SFrame given by the features list into the SFrame features_sframe (now including constant):\n",
        "    features_sframe = data_sframe[features]\n",
        "    # the following line will convert the features_SFrame into a numpy matrix:\n",
        "    feature_matrix = features_sframe.to_numpy()\n",
        "    # assign the column of data_sframe associated with the output to the SArray output_sarray\n",
        "    output_sarray = data_sframe[output]\n",
        "    # the following will convert the SArray into a numpy array by first converting it to a list\n",
        "    output_array = output_sarray.to_numpy()\n",
        "    return(feature_matrix, output_array)"
      ],
      "execution_count": null,
      "outputs": []
    },
    {
      "cell_type": "markdown",
      "metadata": {
        "id": "_6yw5gP5PAH9"
      },
      "source": [
        "Also, copy and paste the `predict_output()` function to compute the predictions for an entire matrix of features given the matrix and the weights:"
      ]
    },
    {
      "cell_type": "code",
      "metadata": {
        "id": "nt75hYAYPAIB"
      },
      "source": [
        "def predict_output(feature_matrix, weights):\n",
        "    # assume feature_matrix is a numpy matrix containing the features as columns and weights is a corresponding numpy array\n",
        "    # create the predictions vector by using np.dot()\n",
        "    predictions = np.dot(feature_matrix, weights)\n",
        "    return(predictions)"
      ],
      "execution_count": null,
      "outputs": []
    },
    {
      "cell_type": "markdown",
      "metadata": {
        "id": "C0kWDZ_3PAIX"
      },
      "source": [
        "# Computing the Derivative"
      ]
    },
    {
      "cell_type": "markdown",
      "metadata": {
        "id": "tEjZaAd7PAId"
      },
      "source": [
        "We are now going to move to computing the derivative of the regression cost function. Recall that the cost function is the sum over the data points of the squared difference between an observed output and a predicted output, plus the L2 penalty term.\n",
        "```\n",
        "Cost(w)\n",
        "= SUM[ (prediction - output)^2 ]\n",
        "+ l2_penalty*(w[0]^2 + w[1]^2 + ... + w[k]^2).\n",
        "```\n",
        "\n",
        "Since the derivative of a sum is the sum of the derivatives, we can take the derivative of the first part (the RSS) as we did in the notebook for the unregularized case in Week 2 and add the derivative of the regularization part.  As we saw, the derivative of the RSS with respect to `w[i]` can be written as: \n",
        "```\n",
        "2*SUM[ error*[feature_i] ].\n",
        "```\n",
        "The derivative of the regularization term with respect to `w[i]` is:\n",
        "```\n",
        "2*l2_penalty*w[i].\n",
        "```\n",
        "Summing both, we get\n",
        "```\n",
        "2*SUM[ error*[feature_i] ] + 2*l2_penalty*w[i].\n",
        "```\n",
        "That is, the derivative for the weight for feature i is the sum (over data points) of 2 times the product of the error and the feature itself, plus `2*l2_penalty*w[i]`. \n",
        "\n",
        "**We will not regularize the constant.**  Thus, in the case of the constant, the derivative is just twice the sum of the errors (without the `2*l2_penalty*w[0]` term).\n",
        "\n",
        "Recall that twice the sum of the product of two vectors is just twice the dot product of the two vectors. Therefore the derivative for the weight for feature_i is just two times the dot product between the values of feature_i and the current errors, plus `2*l2_penalty*w[i]`.\n",
        "\n",
        "With this in mind complete the following derivative function which computes the derivative of the weight given the value of the feature (over all data points) and the errors (over all data points).  To decide when to we are dealing with the constant (so we don't regularize it) we added the extra parameter to the call `feature_is_constant` which you should set to `True` when computing the derivative of the constant and `False` otherwise."
      ]
    },
    {
      "cell_type": "code",
      "metadata": {
        "id": "yVtYwHw2PAIi"
      },
      "source": [
        "def feature_derivative_ridge(errors, feature, weight, l2_penalty, feature_is_constant):\n",
        "    # If feature_is_constant is True, derivative is twice the dot product of errors and feature\n",
        "    if feature_is_constant == True :\n",
        "        derivative = 2*np.dot(errors,feature)\n",
        "    # Otherwise, derivative is twice the dot product plus 2*l2_penalty*weight\n",
        "    else:\n",
        "        derivative = 2*np.dot(errors,feature) + 2*l2_penalty*weight\n",
        "    return derivative"
      ],
      "execution_count": null,
      "outputs": []
    },
    {
      "cell_type": "markdown",
      "metadata": {
        "id": "YO34SLXXPAI0"
      },
      "source": [
        "To test your feature derivartive run the following:"
      ]
    },
    {
      "cell_type": "code",
      "metadata": {
        "id": "L28O340tPAI7",
        "colab": {
          "base_uri": "https://localhost:8080/",
          "height": 109
        },
        "outputId": "339786db-2013-4b54-c880-d16619b0cb99"
      },
      "source": [
        "(example_features, example_output) = get_numpy_data(sales, ['sqft_living'], 'price') \n",
        "my_weights = np.array([1., 10.])\n",
        "test_predictions = predict_output(example_features, my_weights) \n",
        "errors = test_predictions - example_output # prediction errors\n",
        "\n",
        "# next two lines should print the same values\n",
        "print(feature_derivative_ridge(errors, example_features[:,1], my_weights[1], 1, False))\n",
        "print(np.sum(errors*example_features[:,1])*2+20.)\n",
        "print('')\n",
        "\n",
        "# next two lines should print the same values\n",
        "print(feature_derivative_ridge(errors, example_features[:,0], my_weights[0], 1, True))\n",
        "print(np.sum(errors)*2.)"
      ],
      "execution_count": null,
      "outputs": [
        {
          "output_type": "stream",
          "text": [
            "-56554166782350.0\n",
            "-56554166782350.0\n",
            "\n",
            "-22446749336.0\n",
            "-22446749336.0\n"
          ],
          "name": "stdout"
        }
      ]
    },
    {
      "cell_type": "markdown",
      "metadata": {
        "id": "-Bl_vgnqPAJQ"
      },
      "source": [
        "# Gradient Descent"
      ]
    },
    {
      "cell_type": "markdown",
      "metadata": {
        "id": "vm63wWw5PAJV"
      },
      "source": [
        "Now we will write a function that performs a gradient descent. The basic premise is simple. Given a starting point we update the current weights by moving in the negative gradient direction. Recall that the gradient is the direction of *increase* and therefore the negative gradient is the direction of *decrease* and we're trying to *minimize* a cost function. \n",
        "\n",
        "The amount by which we move in the negative gradient *direction*  is called the 'step size'. We stop when we are 'sufficiently close' to the optimum. Unlike in Week 2, this time we will set a **maximum number of iterations** and take gradient steps until we reach this maximum number. If no maximum number is supplied, the maximum should be set 100 by default. (Use default parameter values in Python.)\n",
        "\n",
        "With this in mind, complete the following gradient descent function below using your derivative function above. For each step in the gradient descent, we update the weight for each feature before computing our stopping criteria."
      ]
    },
    {
      "cell_type": "code",
      "metadata": {
        "id": "Ms2IPvpHPAJb"
      },
      "source": [
        "def ridge_regression_gradient_descent(feature_matrix, output, initial_weights, step_size, l2_penalty, max_iterations=100):\n",
        "    print('Starting gradient descent with l2_penalty = ' + str(l2_penalty))\n",
        "    \n",
        "    weights = np.array(initial_weights) # make sure it's a numpy array\n",
        "    iteration = 0 # iteration counter\n",
        "  \n",
        "    \n",
        "    #while not reached maximum number of iterations:\n",
        "    while iteration < max_iterations:\n",
        "        \n",
        "        \n",
        "        \n",
        "        # compute the predictions based on feature_matrix and weights using your predict_output() function\n",
        "        predictions = predict_output(feature_matrix, weights)\n",
        "        # compute the errors as predictions - output\n",
        "        errors = predictions - output\n",
        "        \n",
        "        for i in range(len(weights)): # loop over each weight\n",
        "            # Recall that feature_matrix[:,i] is the feature column associated with weights[i]\n",
        "            # compute the derivative for weight[i].\n",
        "            #(Remember: when i=0, you are computing the derivative of the constant!)\n",
        "            if i == 0:\n",
        "                feature_is_constant = True\n",
        "            else:\n",
        "                feature_is_constant = False\n",
        "            derivative = feature_derivative_ridge(errors, feature_matrix[:,i], weights[i], l2_penalty, feature_is_constant)\n",
        "            # subtract the step size times the derivative from the current weight\n",
        "            weights[i] = weights[i] - (step_size*derivative)\n",
        "        max_iterations -= 1  # increment iteration counter\n",
        "    print('Done with gradient descent at iteration ', iteration)\n",
        "    print('Learned weights = ', str(weights))\n",
        "    return weights"
      ],
      "execution_count": null,
      "outputs": []
    },
    {
      "cell_type": "markdown",
      "metadata": {
        "id": "zdnKzTeUPAJt"
      },
      "source": [
        "# Visualizing effect of L2 penalty"
      ]
    },
    {
      "cell_type": "markdown",
      "metadata": {
        "id": "d3SfATN6PAJz"
      },
      "source": [
        "The L2 penalty gets its name because it causes weights to have small L2 norms than otherwise. Let's see how large weights get penalized. Let us consider a simple model with 1 feature:"
      ]
    },
    {
      "cell_type": "code",
      "metadata": {
        "id": "PcMXsCSHPAJ7"
      },
      "source": [
        "simple_features = ['sqft_living']\n",
        "my_output = 'price'"
      ],
      "execution_count": null,
      "outputs": []
    },
    {
      "cell_type": "markdown",
      "metadata": {
        "id": "h2SksOwNPAKI"
      },
      "source": [
        "Let us split the dataset into training set and test set. Make sure to use `seed=0`:"
      ]
    },
    {
      "cell_type": "code",
      "metadata": {
        "id": "sZyXWt2-PAKN"
      },
      "source": [
        "train_data,test_data = sales.random_split(.8,seed=0)"
      ],
      "execution_count": null,
      "outputs": []
    },
    {
      "cell_type": "markdown",
      "metadata": {
        "id": "8oBB7W2pPAKf"
      },
      "source": [
        "In this part, we will only use `'sqft_living'` to predict `'price'`. Use the `get_numpy_data` function to get a Numpy versions of your data with only this feature, for both the `train_data` and the `test_data`. "
      ]
    },
    {
      "cell_type": "code",
      "metadata": {
        "id": "tj9rJLrNPAKj"
      },
      "source": [
        "(simple_feature_matrix, output) = get_numpy_data(train_data, simple_features, my_output)\n",
        "(simple_test_feature_matrix, test_output) = get_numpy_data(test_data, simple_features, my_output)"
      ],
      "execution_count": null,
      "outputs": []
    },
    {
      "cell_type": "markdown",
      "metadata": {
        "id": "EL0S_-ZfPAK6"
      },
      "source": [
        "Let's set the parameters for our optimization:"
      ]
    },
    {
      "cell_type": "code",
      "metadata": {
        "id": "DJ6XASKvPALA"
      },
      "source": [
        "initial_weights = np.array([0., 0.])\n",
        "step_size = 1e-12\n",
        "max_iterations=1000"
      ],
      "execution_count": null,
      "outputs": []
    },
    {
      "cell_type": "markdown",
      "metadata": {
        "id": "cpV9mMwFPALK"
      },
      "source": [
        "First, let's consider no regularization.  Set the `l2_penalty` to `0.0` and run your ridge regression algorithm to learn the weights of your model.  Call your weights:\n",
        "\n",
        "`simple_weights_0_penalty`\n",
        "\n",
        "we'll use them later."
      ]
    },
    {
      "cell_type": "code",
      "metadata": {
        "id": "vfHRQ3QGPALP",
        "colab": {
          "base_uri": "https://localhost:8080/",
          "height": 72
        },
        "outputId": "c467f480-4513-4a57-ea9f-b5dee39b859c"
      },
      "source": [
        "simple_weights_0_penalty = ridge_regression_gradient_descent(simple_feature_matrix, output, initial_weights, step_size, 0.0, max_iterations)"
      ],
      "execution_count": null,
      "outputs": [
        {
          "output_type": "stream",
          "text": [
            "Starting gradient descent with l2_penalty = 0.0\n",
            "Done with gradient descent at iteration  0\n",
            "Learned weights =  [-1.63113501e-01  2.63024369e+02]\n"
          ],
          "name": "stdout"
        }
      ]
    },
    {
      "cell_type": "markdown",
      "metadata": {
        "id": "c7HHNHw4PALc"
      },
      "source": [
        "Next, let's consider high regularization.  Set the `l2_penalty` to `1e11` and run your ridge regression algorithm to learn the weights of your model.  Call your weights:\n",
        "\n",
        "`simple_weights_high_penalty`\n",
        "\n",
        "we'll use them later."
      ]
    },
    {
      "cell_type": "code",
      "metadata": {
        "id": "OB0F49WHPALj",
        "colab": {
          "base_uri": "https://localhost:8080/",
          "height": 72
        },
        "outputId": "39eba63a-3ea4-473c-e699-3ebb45f33df7"
      },
      "source": [
        "simple_weights_high_penalty = ridge_regression_gradient_descent(simple_feature_matrix, output, initial_weights, step_size, 1e11, max_iterations)"
      ],
      "execution_count": null,
      "outputs": [
        {
          "output_type": "stream",
          "text": [
            "Starting gradient descent with l2_penalty = 100000000000.0\n",
            "Done with gradient descent at iteration  0\n",
            "Learned weights =  [  9.76730383 124.57217565]\n"
          ],
          "name": "stdout"
        }
      ]
    },
    {
      "cell_type": "markdown",
      "metadata": {
        "id": "ogA3MoAzPAL4"
      },
      "source": [
        "This code will plot the two learned models.  (The blue line is for the model with no regularization and the red line is for the one with high regularization.)"
      ]
    },
    {
      "cell_type": "code",
      "metadata": {
        "id": "WOTRX1GZPAMB",
        "colab": {
          "base_uri": "https://localhost:8080/",
          "height": 386
        },
        "outputId": "37d8fc50-79dd-47da-81aa-bb8439316e7f"
      },
      "source": [
        "import matplotlib.pyplot as plt\n",
        "%matplotlib inline\n",
        "plt.plot(simple_feature_matrix,output,'k.',\n",
        "         simple_feature_matrix,predict_output(simple_feature_matrix, simple_weights_0_penalty),'b-',\n",
        "        simple_feature_matrix,predict_output(simple_feature_matrix, simple_weights_high_penalty),'r-')"
      ],
      "execution_count": null,
      "outputs": [
        {
          "output_type": "execute_result",
          "data": {
            "text/plain": [
              "[<matplotlib.lines.Line2D at 0x7fae625edeb8>,\n",
              " <matplotlib.lines.Line2D at 0x7fae625edf98>,\n",
              " <matplotlib.lines.Line2D at 0x7fae6260d128>,\n",
              " <matplotlib.lines.Line2D at 0x7fae6260d2b0>,\n",
              " <matplotlib.lines.Line2D at 0x7fae6260d400>,\n",
              " <matplotlib.lines.Line2D at 0x7fae6260d550>]"
            ]
          },
          "metadata": {
            "tags": []
          },
          "execution_count": 210
        },
        {
          "output_type": "display_data",
          "data": {
            "image/png": "[encoded data removed]",
            "text/plain": [
              "<Figure size 432x288 with 1 Axes>"
            ]
          },
          "metadata": {
            "tags": []
          }
        }
      ]
    },
    {
      "cell_type": "markdown",
      "metadata": {
        "id": "dpSgSrLaPAMM"
      },
      "source": [
        "Compute the RSS on the TEST data for the following three sets of weights:\n",
        "1. The initial weights (all zeros)\n",
        "2. The weights learned with no regularization\n",
        "3. The weights learned with high regularization\n",
        "\n",
        "Which weights perform best?"
      ]
    },
    {
      "cell_type": "markdown",
      "metadata": {
        "id": "kebepwvRomA8"
      },
      "source": [
        "#RSS for The initial weights (all zeros)"
      ]
    },
    {
      "cell_type": "code",
      "metadata": {
        "id": "xW_6_2U3PAMS",
        "colab": {
          "base_uri": "https://localhost:8080/",
          "height": 35
        },
        "outputId": "379b7aeb-555f-47fd-ebd7-88755d21d1e0"
      },
      "source": [
        "zero_weights = np.array([0., 0.])\n",
        "zero_weights_predictions = predict_output(simple_test_feature_matrix, zero_weights)\n",
        "# compute the errors as predictions - output\n",
        "zero_weights_RSS = sum((zero_weights_predictions - test_output)**2)\n",
        "print(zero_weights_RSS)"
      ],
      "execution_count": null,
      "outputs": [
        {
          "output_type": "stream",
          "text": [
            "1784273282524564.0\n"
          ],
          "name": "stdout"
        }
      ]
    },
    {
      "cell_type": "markdown",
      "metadata": {
        "id": "_Xe-taJKpyNV"
      },
      "source": [
        "#RSS for The weights learned with no regularization"
      ]
    },
    {
      "cell_type": "code",
      "metadata": {
        "id": "z8bVM1FbPAMd",
        "colab": {
          "base_uri": "https://localhost:8080/",
          "height": 35
        },
        "outputId": "c912b3c9-6f32-42ed-9867-9702e1dcd5e6"
      },
      "source": [
        "weights_no_regularization = np.array([-1.63113501e-01, 2.63024369e+02])\n",
        "no_regularization_predictions = predict_output(simple_test_feature_matrix, weights_no_regularization)\n",
        "# compute the errors as predictions - output\n",
        "no_regularization_RSS = sum((no_regularization_predictions - test_output)**2)\n",
        "print(no_regularization_RSS)"
      ],
      "execution_count": null,
      "outputs": [
        {
          "output_type": "stream",
          "text": [
            "275723634596192.72\n"
          ],
          "name": "stdout"
        }
      ]
    },
    {
      "cell_type": "markdown",
      "metadata": {
        "id": "qPYnhQldrN5A"
      },
      "source": [
        "#RSS for The weights learned with regularization"
      ]
    },
    {
      "cell_type": "code",
      "metadata": {
        "id": "TvI8oY84PAMn",
        "colab": {
          "base_uri": "https://localhost:8080/",
          "height": 35
        },
        "outputId": "7e2bdaf2-1292-400b-cdfe-33cec7adcc3b"
      },
      "source": [
        "weights_regularization = np.array([9.76730383, 124.57217565])\n",
        "regularization_predictions = predict_output(simple_test_feature_matrix, weights_regularization)\n",
        "# compute the errors as predictions - output\n",
        "regularization_RSS = sum((regularization_predictions - test_output)**2)\n",
        "print(regularization_RSS)"
      ],
      "execution_count": null,
      "outputs": [
        {
          "output_type": "stream",
          "text": [
            "694642100891569.9\n"
          ],
          "name": "stdout"
        }
      ]
    },
    {
      "cell_type": "markdown",
      "metadata": {
        "id": "62_kqzRHPAMx"
      },
      "source": [
        "***QUIZ QUESTIONS***\n",
        "1. What is the value of the coefficient for `sqft_living` that you learned with no regularization, rounded to 1 decimal place?  What about the one with high regularization?\n",
        "2. Comparing the lines you fit with the with no regularization versus high regularization, which one is steeper?\n",
        "3. What are the RSS on the test data for each of the set of weights above (initial, no regularization, high regularization)? \n"
      ]
    },
    {
      "cell_type": "markdown",
      "metadata": {
        "id": "Qp6DHl4dPAM0"
      },
      "source": [
        "# Running a multiple regression with L2 penalty"
      ]
    },
    {
      "cell_type": "markdown",
      "metadata": {
        "id": "EWCmCqC8PAM4"
      },
      "source": [
        "Let us now consider a model with 2 features: `['sqft_living', 'sqft_living15']`."
      ]
    },
    {
      "cell_type": "markdown",
      "metadata": {
        "id": "VI3zRVLAPAM6"
      },
      "source": [
        "First, create Numpy versions of your training and test data with these two features. "
      ]
    },
    {
      "cell_type": "code",
      "metadata": {
        "id": "ydZ_yk72PANA"
      },
      "source": [
        "model_features = ['sqft_living', 'sqft_living15'] # sqft_living15 is the average squarefeet for the nearest 15 neighbors. \n",
        "my_output = 'price'\n",
        "(feature_matrix, output) = get_numpy_data(train_data, model_features, my_output)\n",
        "(test_feature_matrix, test_output) = get_numpy_data(test_data, model_features, my_output)"
      ],
      "execution_count": null,
      "outputs": []
    },
    {
      "cell_type": "markdown",
      "metadata": {
        "id": "hP8uEiFWPANM"
      },
      "source": [
        "We need to re-inialize the weights, since we have one extra parameter. Let us also set the step size and maximum number of iterations."
      ]
    },
    {
      "cell_type": "code",
      "metadata": {
        "id": "EP_w2teEPANO"
      },
      "source": [
        "initial_weights = np.array([0.0,0.0,0.0])\n",
        "step_size = 1e-12\n",
        "max_iterations = 1000"
      ],
      "execution_count": null,
      "outputs": []
    },
    {
      "cell_type": "markdown",
      "metadata": {
        "id": "g9UJTzSrPANg"
      },
      "source": [
        "First, let's consider no regularization.  Set the `l2_penalty` to `0.0` and run your ridge regression algorithm to learn the weights of your model.  Call your weights:\n",
        "\n",
        "`multiple_weights_0_penalty`"
      ]
    },
    {
      "cell_type": "code",
      "metadata": {
        "id": "rYfQ0G80PANm",
        "colab": {
          "base_uri": "https://localhost:8080/",
          "height": 72
        },
        "outputId": "f448840f-c4ec-4cc0-a70c-31d8e4ac5574"
      },
      "source": [
        "multiple_weights_0_penalty = ridge_regression_gradient_descent(feature_matrix, output, initial_weights, step_size, 0.0, max_iterations)"
      ],
      "execution_count": null,
      "outputs": [
        {
          "output_type": "stream",
          "text": [
            "Starting gradient descent with l2_penalty = 0.0\n",
            "Done with gradient descent at iteration  0\n",
            "Learned weights =  [ -0.35743482 243.0541689   22.41481594]\n"
          ],
          "name": "stdout"
        }
      ]
    },
    {
      "cell_type": "markdown",
      "metadata": {
        "id": "ZbfTN6d8PANw"
      },
      "source": [
        "Next, let's consider high regularization.  Set the `l2_penalty` to `1e11` and run your ridge regression algorithm to learn the weights of your model.  Call your weights:\n",
        "\n",
        "`multiple_weights_high_penalty`"
      ]
    },
    {
      "cell_type": "code",
      "metadata": {
        "id": "jN3CcGe1PAN2",
        "colab": {
          "base_uri": "https://localhost:8080/",
          "height": 72
        },
        "outputId": "fadc9628-dd68-4540-9713-55d6675b106a"
      },
      "source": [
        "multiple_weights_high_penalty = ridge_regression_gradient_descent(feature_matrix, output, initial_weights, step_size, 1e11, max_iterations)"
      ],
      "execution_count": null,
      "outputs": [
        {
          "output_type": "stream",
          "text": [
            "Starting gradient descent with l2_penalty = 100000000000.0\n",
            "Done with gradient descent at iteration  0\n",
            "Learned weights =  [ 6.7429658  91.48927361 78.43658768]\n"
          ],
          "name": "stdout"
        }
      ]
    },
    {
      "cell_type": "markdown",
      "metadata": {
        "id": "zUx6g14hPAN8"
      },
      "source": [
        "Compute the RSS on the TEST data for the following three sets of weights:\n",
        "1. The initial weights (all zeros)\n",
        "2. The weights learned with no regularization\n",
        "3. The weights learned with high regularization\n",
        "\n",
        "Which weights perform best?"
      ]
    },
    {
      "cell_type": "markdown",
      "metadata": {
        "id": "Vg4hqxmLxU6u"
      },
      "source": [
        "#Multiple regression RSS for The initial weights (all zeros) for test data "
      ]
    },
    {
      "cell_type": "code",
      "metadata": {
        "id": "5HWtrsJBPAOA",
        "colab": {
          "base_uri": "https://localhost:8080/",
          "height": 35
        },
        "outputId": "718f8dec-75a1-43ac-849f-e93fe6f86aa4"
      },
      "source": [
        "zero_weights = np.array([0., 0., 0.])\n",
        "zero_weights_predictions = predict_output(test_feature_matrix, zero_weights)\n",
        "# compute the errors as predictions - output\n",
        "zero_weights_RSS = sum((zero_weights_predictions - test_output)**2)\n",
        "print(zero_weights_RSS)"
      ],
      "execution_count": null,
      "outputs": [
        {
          "output_type": "stream",
          "text": [
            "1784273282524564.0\n"
          ],
          "name": "stdout"
        }
      ]
    },
    {
      "cell_type": "markdown",
      "metadata": {
        "id": "NB8saOsQyybE"
      },
      "source": [
        "#Multiple regression RSS for The weights learned with no regularization"
      ]
    },
    {
      "cell_type": "code",
      "metadata": {
        "id": "SouWm3N0PAOJ",
        "colab": {
          "base_uri": "https://localhost:8080/",
          "height": 72
        },
        "outputId": "55498a12-eb67-4e96-bcad-1a785d50dc79"
      },
      "source": [
        "weights_no_regularization = np.array([-0.35743482, 243.0541689, 22.41481594])\n",
        "no_regularization_predictions = predict_output(test_feature_matrix, weights_no_regularization)\n",
        "# compute the errors as predictions - output\n",
        "no_regularization_RSS = sum((no_regularization_predictions - test_output)**2)\n",
        "print(no_regularization_RSS)\n",
        "no_regularization_predictions_for_first_house = predict_output(test_feature_matrix[0], weights_no_regularization)\n",
        "print('the house price for the 1st house in the test set using the no regularization: ',no_regularization_predictions_for_first_house)\n",
        "no_regularization_RSS_for_first_house = (no_regularization_predictions_for_first_house - test_output[0])**2\n",
        "print('the RSS for the 1st house in the test set using the no regularization: ',no_regularization_RSS_for_first_house)"
      ],
      "execution_count": null,
      "outputs": [
        {
          "output_type": "stream",
          "text": [
            "274067618287229.06\n",
            "the house price for the 1st house in the test set using the no regularization:  387465.47646538005\n",
            "the RSS for the 1st house in the test set using the no regularization:  6000900044.00835\n"
          ],
          "name": "stdout"
        }
      ]
    },
    {
      "cell_type": "markdown",
      "metadata": {
        "id": "IRiA4LWOzXNB"
      },
      "source": [
        "#RSS for The weights learned with regularization"
      ]
    },
    {
      "cell_type": "code",
      "metadata": {
        "id": "x2xHVF5GPAOU",
        "colab": {
          "base_uri": "https://localhost:8080/",
          "height": 72
        },
        "outputId": "1e0a324b-bd43-465a-b180-594f3a7ed431"
      },
      "source": [
        "weights_regularization = np.array([6.7429658, 91.48927361, 78.43658768])\n",
        "regularization_predictions = predict_output(test_feature_matrix, weights_regularization)\n",
        "# compute the errors as predictions - output\n",
        "regularization_RSS = sum((regularization_predictions - test_output)**2)\n",
        "print(regularization_RSS)\n",
        "regularization_predictions_for_first_house = predict_output(test_feature_matrix[0], weights_regularization)\n",
        "print('the house price for the 1st house in the test set using the high regularization: ',regularization_predictions_for_first_house)\n",
        "regularization_RSS_for_first_house = (regularization_predictions_for_first_house - test_output[0])**2\n",
        "print('the RSS for the 1st house in the test set using the no regularization: ',regularization_RSS_for_first_house)"
      ],
      "execution_count": null,
      "outputs": [
        {
          "output_type": "stream",
          "text": [
            "500404800594839.9\n",
            "the house price for the 1st house in the test set using the high regularization:  270453.5302985\n",
            "the RSS for the 1st house in the test set using the no regularization:  1563923265.8516598\n"
          ],
          "name": "stdout"
        }
      ]
    },
    {
      "cell_type": "markdown",
      "metadata": {
        "id": "e0HIR2S1PAOe"
      },
      "source": [
        "Predict the house price for the 1st house in the test set using the no regularization and high regularization models. (Remember that python starts indexing from 0.) How far is the prediction from the actual price?  Which weights perform best for the 1st house?"
      ]
    },
    {
      "cell_type": "code",
      "metadata": {
        "id": "Ctt5d8LcPAOg"
      },
      "source": [
        ""
      ],
      "execution_count": null,
      "outputs": []
    },
    {
      "cell_type": "code",
      "metadata": {
        "id": "VP6t1Lq2PAOp"
      },
      "source": [
        ""
      ],
      "execution_count": null,
      "outputs": []
    },
    {
      "cell_type": "markdown",
      "metadata": {
        "collapsed": true,
        "id": "oaBDngRbPAO0"
      },
      "source": [
        "***QUIZ QUESTIONS***\n",
        "1. What is the value of the coefficient for `sqft_living` that you learned with no regularization, rounded to 1 decimal place?  What about the one with high regularization?\n",
        "2. What are the RSS on the test data for each of the set of weights above (initial, no regularization, high regularization)? \n",
        "3. We make prediction for the first house in the test set using two sets of weights (no regularization vs high regularization). Which weights make better prediction <u>for that particular house</u>?"
      ]
    },
    {
      "cell_type": "code",
      "metadata": {
        "id": "KNedVG9ePAO3"
      },
      "source": [
        ""
      ],
      "execution_count": null,
      "outputs": []
    }
  ]
}