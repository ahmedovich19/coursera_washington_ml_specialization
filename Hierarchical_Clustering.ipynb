{
  "nbformat": 4,
  "nbformat_minor": 0,
  "metadata": {
    "kernelspec": {
      "name": "python3",
      "display_name": "Python 3"
    },
    "colab": {
      "name": "Hierarchical Clustering.ipynb",
      "provenance": [],
      "collapsed_sections": [
        "8yKx_AZ7Iijk",
        "DKFVblS7Iip3",
        "6akY87njIirH"
      ]
    }
  },
  "cells": [
    {
      "cell_type": "markdown",
      "metadata": {
        "id": "qwRx261BIiVH"
      },
      "source": [
        "# Hierarchical Clustering"
      ]
    },
    {
      "cell_type": "code",
      "metadata": {
        "id": "od8hxs0qIy56",
        "colab": {
          "base_uri": "https://localhost:8080/",
          "height": 937
        },
        "outputId": "2f4be2dc-2955-4c0c-ccaf-24ec09dba471"
      },
      "source": [
        "!pip install turicreate\n",
        "!pip install numpy"
      ],
      "execution_count": null,
      "outputs": [
        {
          "output_type": "stream",
          "text": [
            "Requirement already satisfied: turicreate in /usr/local/lib/python3.6/dist-packages (6.2.2)\n",
            "Requirement already satisfied: pillow>=5.2.0 in /usr/local/lib/python3.6/dist-packages (from turicreate) (7.0.0)\n",
            "Requirement already satisfied: requests>=2.9.1 in /usr/local/lib/python3.6/dist-packages (from turicreate) (2.23.0)\n",
            "Requirement already satisfied: tensorflow<=2.0.1,>=2.0.0 in /usr/local/lib/python3.6/dist-packages (from turicreate) (2.0.1)\n",
            "Requirement already satisfied: numpy in /usr/local/lib/python3.6/dist-packages (from turicreate) (1.18.4)\n",
            "Requirement already satisfied: prettytable==0.7.2 in /usr/local/lib/python3.6/dist-packages (from turicreate) (0.7.2)\n",
            "Requirement already satisfied: pandas>=0.23.2 in /usr/local/lib/python3.6/dist-packages (from turicreate) (1.0.3)\n",
            "Requirement already satisfied: coremltools==3.3 in /usr/local/lib/python3.6/dist-packages (from turicreate) (3.3)\n",
            "Requirement already satisfied: scipy>=1.1.0 in /usr/local/lib/python3.6/dist-packages (from turicreate) (1.4.1)\n",
            "Requirement already satisfied: decorator>=4.0.9 in /usr/local/lib/python3.6/dist-packages (from turicreate) (4.4.2)\n",
            "Requirement already satisfied: six>=1.10.0 in /usr/local/lib/python3.6/dist-packages (from turicreate) (1.12.0)\n",
            "Requirement already satisfied: resampy==0.2.1 in /usr/local/lib/python3.6/dist-packages (from turicreate) (0.2.1)\n",
            "Requirement already satisfied: chardet<4,>=3.0.2 in /usr/local/lib/python3.6/dist-packages (from requests>=2.9.1->turicreate) (3.0.4)\n",
            "Requirement already satisfied: certifi>=2017.4.17 in /usr/local/lib/python3.6/dist-packages (from requests>=2.9.1->turicreate) (2020.4.5.1)\n",
            "Requirement already satisfied: idna<3,>=2.5 in /usr/local/lib/python3.6/dist-packages (from requests>=2.9.1->turicreate) (2.9)\n",
            "Requirement already satisfied: urllib3!=1.25.0,!=1.25.1,<1.26,>=1.21.1 in /usr/local/lib/python3.6/dist-packages (from requests>=2.9.1->turicreate) (1.24.3)\n",
            "Requirement already satisfied: wheel>=0.26; python_version >= \"3\" in /usr/local/lib/python3.6/dist-packages (from tensorflow<=2.0.1,>=2.0.0->turicreate) (0.34.2)\n",
            "Requirement already satisfied: termcolor>=1.1.0 in /usr/local/lib/python3.6/dist-packages (from tensorflow<=2.0.1,>=2.0.0->turicreate) (1.1.0)\n",
            "Requirement already satisfied: tensorboard<2.1.0,>=2.0.0 in /usr/local/lib/python3.6/dist-packages (from tensorflow<=2.0.1,>=2.0.0->turicreate) (2.0.2)\n",
            "Requirement already satisfied: gast==0.2.2 in /usr/local/lib/python3.6/dist-packages (from tensorflow<=2.0.1,>=2.0.0->turicreate) (0.2.2)\n",
            "Requirement already satisfied: wrapt>=1.11.1 in /usr/local/lib/python3.6/dist-packages (from tensorflow<=2.0.1,>=2.0.0->turicreate) (1.12.1)\n",
            "Requirement already satisfied: keras-preprocessing>=1.0.5 in /usr/local/lib/python3.6/dist-packages (from tensorflow<=2.0.1,>=2.0.0->turicreate) (1.1.2)\n",
            "Requirement already satisfied: astor>=0.6.0 in /usr/local/lib/python3.6/dist-packages (from tensorflow<=2.0.1,>=2.0.0->turicreate) (0.8.1)\n",
            "Requirement already satisfied: protobuf>=3.6.1 in /usr/local/lib/python3.6/dist-packages (from tensorflow<=2.0.1,>=2.0.0->turicreate) (3.10.0)\n",
            "Requirement already satisfied: keras-applications>=1.0.8 in /usr/local/lib/python3.6/dist-packages (from tensorflow<=2.0.1,>=2.0.0->turicreate) (1.0.8)\n",
            "Requirement already satisfied: grpcio>=1.8.6 in /usr/local/lib/python3.6/dist-packages (from tensorflow<=2.0.1,>=2.0.0->turicreate) (1.29.0)\n",
            "Requirement already satisfied: absl-py>=0.7.0 in /usr/local/lib/python3.6/dist-packages (from tensorflow<=2.0.1,>=2.0.0->turicreate) (0.9.0)\n",
            "Requirement already satisfied: google-pasta>=0.1.6 in /usr/local/lib/python3.6/dist-packages (from tensorflow<=2.0.1,>=2.0.0->turicreate) (0.2.0)\n",
            "Requirement already satisfied: tensorflow-estimator<2.1.0,>=2.0.0 in /usr/local/lib/python3.6/dist-packages (from tensorflow<=2.0.1,>=2.0.0->turicreate) (2.0.1)\n",
            "Requirement already satisfied: opt-einsum>=2.3.2 in /usr/local/lib/python3.6/dist-packages (from tensorflow<=2.0.1,>=2.0.0->turicreate) (3.2.1)\n",
            "Requirement already satisfied: pytz>=2017.2 in /usr/local/lib/python3.6/dist-packages (from pandas>=0.23.2->turicreate) (2018.9)\n",
            "Requirement already satisfied: python-dateutil>=2.6.1 in /usr/local/lib/python3.6/dist-packages (from pandas>=0.23.2->turicreate) (2.8.1)\n",
            "Requirement already satisfied: numba>=0.32 in /usr/local/lib/python3.6/dist-packages (from resampy==0.2.1->turicreate) (0.48.0)\n",
            "Requirement already satisfied: google-auth<2,>=1.6.3 in /usr/local/lib/python3.6/dist-packages (from tensorboard<2.1.0,>=2.0.0->tensorflow<=2.0.1,>=2.0.0->turicreate) (1.7.2)\n",
            "Requirement already satisfied: google-auth-oauthlib<0.5,>=0.4.1 in /usr/local/lib/python3.6/dist-packages (from tensorboard<2.1.0,>=2.0.0->tensorflow<=2.0.1,>=2.0.0->turicreate) (0.4.1)\n",
            "Requirement already satisfied: markdown>=2.6.8 in /usr/local/lib/python3.6/dist-packages (from tensorboard<2.1.0,>=2.0.0->tensorflow<=2.0.1,>=2.0.0->turicreate) (3.2.2)\n",
            "Requirement already satisfied: werkzeug>=0.11.15 in /usr/local/lib/python3.6/dist-packages (from tensorboard<2.1.0,>=2.0.0->tensorflow<=2.0.1,>=2.0.0->turicreate) (1.0.1)\n",
            "Requirement already satisfied: setuptools>=41.0.0 in /usr/local/lib/python3.6/dist-packages (from tensorboard<2.1.0,>=2.0.0->tensorflow<=2.0.1,>=2.0.0->turicreate) (46.3.0)\n",
            "Requirement already satisfied: h5py in /usr/local/lib/python3.6/dist-packages (from keras-applications>=1.0.8->tensorflow<=2.0.1,>=2.0.0->turicreate) (2.10.0)\n",
            "Requirement already satisfied: llvmlite<0.32.0,>=0.31.0dev0 in /usr/local/lib/python3.6/dist-packages (from numba>=0.32->resampy==0.2.1->turicreate) (0.31.0)\n",
            "Requirement already satisfied: pyasn1-modules>=0.2.1 in /usr/local/lib/python3.6/dist-packages (from google-auth<2,>=1.6.3->tensorboard<2.1.0,>=2.0.0->tensorflow<=2.0.1,>=2.0.0->turicreate) (0.2.8)\n",
            "Requirement already satisfied: rsa<4.1,>=3.1.4 in /usr/local/lib/python3.6/dist-packages (from google-auth<2,>=1.6.3->tensorboard<2.1.0,>=2.0.0->tensorflow<=2.0.1,>=2.0.0->turicreate) (4.0)\n",
            "Requirement already satisfied: cachetools<3.2,>=2.0.0 in /usr/local/lib/python3.6/dist-packages (from google-auth<2,>=1.6.3->tensorboard<2.1.0,>=2.0.0->tensorflow<=2.0.1,>=2.0.0->turicreate) (3.1.1)\n",
            "Requirement already satisfied: requests-oauthlib>=0.7.0 in /usr/local/lib/python3.6/dist-packages (from google-auth-oauthlib<0.5,>=0.4.1->tensorboard<2.1.0,>=2.0.0->tensorflow<=2.0.1,>=2.0.0->turicreate) (1.3.0)\n",
            "Requirement already satisfied: importlib-metadata; python_version < \"3.8\" in /usr/local/lib/python3.6/dist-packages (from markdown>=2.6.8->tensorboard<2.1.0,>=2.0.0->tensorflow<=2.0.1,>=2.0.0->turicreate) (1.6.0)\n",
            "Requirement already satisfied: pyasn1<0.5.0,>=0.4.6 in /usr/local/lib/python3.6/dist-packages (from pyasn1-modules>=0.2.1->google-auth<2,>=1.6.3->tensorboard<2.1.0,>=2.0.0->tensorflow<=2.0.1,>=2.0.0->turicreate) (0.4.8)\n",
            "Requirement already satisfied: oauthlib>=3.0.0 in /usr/local/lib/python3.6/dist-packages (from requests-oauthlib>=0.7.0->google-auth-oauthlib<0.5,>=0.4.1->tensorboard<2.1.0,>=2.0.0->tensorflow<=2.0.1,>=2.0.0->turicreate) (3.1.0)\n",
            "Requirement already satisfied: zipp>=0.5 in /usr/local/lib/python3.6/dist-packages (from importlib-metadata; python_version < \"3.8\"->markdown>=2.6.8->tensorboard<2.1.0,>=2.0.0->tensorflow<=2.0.1,>=2.0.0->turicreate) (3.1.0)\n",
            "Requirement already satisfied: numpy in /usr/local/lib/python3.6/dist-packages (1.18.4)\n"
          ],
          "name": "stdout"
        }
      ]
    },
    {
      "cell_type": "code",
      "metadata": {
        "id": "j9s9RXfcI1T_",
        "colab": {
          "base_uri": "https://localhost:8080/",
          "height": 35
        },
        "outputId": "2112bbc6-74bc-4ea2-befc-77089feb9e42"
      },
      "source": [
        "import os.path\n",
        "from google.colab import drive\n",
        "\n",
        "# mount Google Drive to /content/drive/My Drive/\n",
        "if os.path.isdir(\"/content/drive/My Drive/\"):\n",
        "  print(\"Google Drive already mounted\")\n",
        "else:\n",
        "  drive.mount('/content/drive')"
      ],
      "execution_count": null,
      "outputs": [
        {
          "output_type": "stream",
          "text": [
            "Google Drive already mounted\n"
          ],
          "name": "stdout"
        }
      ]
    },
    {
      "cell_type": "code",
      "metadata": {
        "id": "rUyNPB07I1mg",
        "colab": {
          "base_uri": "https://localhost:8080/",
          "height": 127
        },
        "outputId": "fb6ff347-1aa9-409a-83d1-80c94b62853d"
      },
      "source": [
        "import os.path\n",
        "import urllib.request\n",
        "import tarfile\n",
        "import zipfile\n",
        "import gzip\n",
        "from shutil import copy\n",
        "\n",
        "def fetch_remote_datafile(filename, remote_url):\n",
        "  if os.path.isfile(\"./\" + filename):\n",
        "    print(\"already have \" + filename + \" in workspace\")\n",
        "    return\n",
        "  print(\"fetching \" + filename + \" from \" + remote_url + \"...\")\n",
        "  urllib.request.urlretrieve(remote_url, \"./\" + filename)\n",
        "\n",
        "def cache_datafile_in_drive(filename):\n",
        "  if os.path.isfile(\"./\" + filename) == False:\n",
        "    print(\"cannot cache \" + filename + \", it is not in workspace\")\n",
        "    return\n",
        "  \n",
        "  data_drive_path = \"/content/drive/My Drive/Colab Notebooks/\"\n",
        "  if os.path.isfile(data_drive_path + filename):\n",
        "    print(\"\" + filename + \" has already been stored in Google Drive\")\n",
        "  else:\n",
        "    print(\"copying \" + filename + \" to \" + data_drive_path)\n",
        "    copy(\"./\" + filename, data_drive_path)\n",
        "  \n",
        "\n",
        "def load_datafile_from_drive(filename, remote_url=None):\n",
        "  data_drive_path = \"/content/drive/My Drive/Colab Notebooks/\"\n",
        "  if os.path.isfile(\"./\" + filename):\n",
        "    print(\"already have \" + filename + \" in workspace\")\n",
        "  elif os.path.isfile(data_drive_path + filename):\n",
        "    print(\"have \" + filename + \" in Google Drive, copying to workspace...\")\n",
        "    copy(data_drive_path + filename, \".\")\n",
        "  elif remote_url != None:\n",
        "    fetch_remote_datafile(filename, remote_url)\n",
        "  else:\n",
        "    print(\"error: you need to manually download \" + filename + \" and put in drive\")\n",
        "    \n",
        "def extract_datafile(filename, expected_extract_artifact=None):\n",
        "  if expected_extract_artifact != None and (os.path.isfile(expected_extract_artifact) or os.path.isdir(expected_extract_artifact)):\n",
        "    \n",
        "    print(\"files in \" + filename + \" have already been extracted\")\n",
        "  elif os.path.isfile(\"./\" + filename) == False:\n",
        "    print(\"error: cannot extract \" + filename + \", it is not in the workspace\")\n",
        "  else:\n",
        "    extension = filename.split('.')[-1]\n",
        "    if extension == \"zip\":\n",
        "      print(\"extracting \" + filename + \"...\")\n",
        "      data_file = open(filename, \"rb\")\n",
        "      z = zipfile.ZipFile(data_file)\n",
        "      for name in z.namelist():\n",
        "          print(\"    extracting file\", name)\n",
        "          z.extract(name, \"./\")\n",
        "      data_file.close()\n",
        "    elif extension == \"gz\":\n",
        "      print(\"extracting \" + filename + \"...\")\n",
        "      if filename.split('.')[-2] == \"tar\":\n",
        "        tar = tarfile.open(filename)\n",
        "        tar.extractall()\n",
        "        tar.close()\n",
        "      else:\n",
        "        data_zip_file = gzip.GzipFile(filename, 'rb')\n",
        "        data = data_zip_file.read()\n",
        "        data_zip_file.close()\n",
        "        extracted_file = open('.'.join(filename.split('.')[0:-1]), 'wb')\n",
        "        extracted_file.write(data)\n",
        "        extracted_file.close()\n",
        "    elif extension == \"tar\":\n",
        "      print(\"extracting \" + filename + \"...\")\n",
        "      tar = tarfile.open(filename)\n",
        "      tar.extractall()\n",
        "      tar.close()\n",
        "    elif extension == \"csv\":\n",
        "      print(\"do not need to extract csv\")\n",
        "    else:\n",
        "      print(\"cannot extract \" + filename)\n",
        "      \n",
        "def load_cache_extract_datafile(filename, expected_extract_artifact=None, remote_url=None):\n",
        "  load_datafile_from_drive(filename, remote_url)\n",
        "  extract_datafile(filename, expected_extract_artifact)\n",
        "  cache_datafile_in_drive(filename)\n",
        "  \n",
        "load_cache_extract_datafile(\"people_wiki.sframe.zip\", \"people_wiki.sframe\", \"https://d3c33hcgiwev3.cloudfront.net/i5zBDt4bEemhxxJUtZcQoA_7fb43aab245846f09a8c48977883f0b6_people_wiki.sframe.zip?Expires=1590278400&Signature=Yl6JwzVhLnbYRI1PRicBdWKg~7UyAdfV3BoYSIJfGKdiBvndS~KargUUOi0sNKw1E52A5qr2nK~3~ZHJtuQe9TcE6O6pACHEBH0nyL4FG2m7nUo2NGIwtqReXYn0eO3wML2vSurqFUZE0qIRxIk7g5WvloHE~Ei0lBXc92K2ozU_&Key-Pair-Id=APKAJLTNE6QMUY6HBC5A\")\n",
        "load_cache_extract_datafile(\"em_utilities.py.zip\", \"em_utilities.py\", \"https://d3c33hcgiwev3.cloudfront.net/DCphrd4eEemzYQ60aJAwVA_fc87f6033fa34a2ab644e47ef86539cc_em_utilities.py.zip?Expires=1590364800&Signature=gb1PAlcZAY1zMykaXu5FCaUuVmmRaHDm53ARxr1cO8Nh7nVwC6YFHHXMeleqwiyo68hRwKeTwaAqWDHmlJ6VgYYLUc7us~i00CE5xYRmEMF0aWdQqcOzKgu1RKGKLl~wp~5e3Lj5MPKZrUv8iZWlE~102Yz3d5NlTW8J-~S8S7M_&Key-Pair-Id=APKAJLTNE6QMUY6HBC5A\")\n"
      ],
      "execution_count": null,
      "outputs": [
        {
          "output_type": "stream",
          "text": [
            "already have people_wiki.sframe.zip in workspace\n",
            "files in people_wiki.sframe.zip have already been extracted\n",
            "people_wiki.sframe.zip has already been stored in Google Drive\n",
            "already have em_utilities.py.zip in workspace\n",
            "files in em_utilities.py.zip have already been extracted\n",
            "em_utilities.py.zip has already been stored in Google Drive\n"
          ],
          "name": "stdout"
        }
      ]
    },
    {
      "cell_type": "markdown",
      "metadata": {
        "id": "vq-op7uKIiVf"
      },
      "source": [
        "**Hierarchical clustering** refers to a class of clustering methods that seek to build a **hierarchy** of clusters, in which some clusters contain others. In this assignment, we will explore a top-down approach, recursively bipartitioning the data using k-means."
      ]
    },
    {
      "cell_type": "markdown",
      "metadata": {
        "id": "QIw44D7iIiWL"
      },
      "source": [
        "**Note to Amazon EC2 users**: To conserve memory, make sure to stop all the other notebooks before running this notebook."
      ]
    },
    {
      "cell_type": "markdown",
      "metadata": {
        "id": "EkjMTTBzIiWg"
      },
      "source": [
        "## Import packages"
      ]
    },
    {
      "cell_type": "code",
      "metadata": {
        "id": "T4NgXkNIIiWy"
      },
      "source": [
        "from __future__ import print_function # to conform python 2.x print to python 3.x\n",
        "import turicreate\n",
        "import matplotlib.pyplot as plt\n",
        "import numpy as np\n",
        "import sys\n",
        "import os\n",
        "import time\n",
        "from scipy.sparse import csr_matrix\n",
        "from sklearn.cluster import KMeans\n",
        "from sklearn.metrics import pairwise_distances\n",
        "%matplotlib inline"
      ],
      "execution_count": null,
      "outputs": []
    },
    {
      "cell_type": "markdown",
      "metadata": {
        "id": "o0VovOPAIiYc"
      },
      "source": [
        "## Load the Wikipedia dataset"
      ]
    },
    {
      "cell_type": "code",
      "metadata": {
        "id": "6CWLiijTIiYp"
      },
      "source": [
        "wiki = turicreate.SFrame('people_wiki.sframe/')"
      ],
      "execution_count": null,
      "outputs": []
    },
    {
      "cell_type": "markdown",
      "metadata": {
        "id": "djBttOKtIiZc"
      },
      "source": [
        "As we did in previous assignments, let's extract the TF-IDF features:"
      ]
    },
    {
      "cell_type": "code",
      "metadata": {
        "id": "YHYjgyrtIiZm"
      },
      "source": [
        "wiki['tf_idf'] = turicreate.text_analytics.tf_idf(wiki['text'])"
      ],
      "execution_count": null,
      "outputs": []
    },
    {
      "cell_type": "markdown",
      "metadata": {
        "id": "0nwT7SVVIiaO"
      },
      "source": [
        "To run k-means on this dataset, we should convert the data matrix into a sparse matrix."
      ]
    },
    {
      "cell_type": "code",
      "metadata": {
        "id": "kXNCTqMWIiaX"
      },
      "source": [
        "from em_utilities import sframe_to_scipy # converter\n",
        "\n",
        "# This will take about a minute or two.\n",
        "wiki = wiki.add_row_number()\n",
        "tf_idf, map_word_to_index = sframe_to_scipy(wiki, 'tf_idf')"
      ],
      "execution_count": null,
      "outputs": []
    },
    {
      "cell_type": "markdown",
      "metadata": {
        "id": "INoLPVNcIibE"
      },
      "source": [
        "To be consistent with the k-means assignment, let's normalize all vectors to have unit norm."
      ]
    },
    {
      "cell_type": "code",
      "metadata": {
        "id": "A7oW0w_PIibN"
      },
      "source": [
        "from sklearn.preprocessing import normalize\n",
        "tf_idf = normalize(tf_idf)"
      ],
      "execution_count": null,
      "outputs": []
    },
    {
      "cell_type": "markdown",
      "metadata": {
        "id": "67_iKCWGIib1"
      },
      "source": [
        "## Bipartition the Wikipedia dataset using k-means"
      ]
    },
    {
      "cell_type": "markdown",
      "metadata": {
        "id": "jYGOtX3BIicA"
      },
      "source": [
        "Recall our workflow for clustering text data with k-means:\n",
        "\n",
        "1. Load the dataframe containing a dataset, such as the Wikipedia text dataset.\n",
        "2. Extract the data matrix from the dataframe.\n",
        "3. Run k-means on the data matrix with some value of k.\n",
        "4. Visualize the clustering results using the centroids, cluster assignments, and the original dataframe. We keep the original dataframe around because the data matrix does not keep auxiliary information (in the case of the text dataset, the title of each article).\n",
        "\n",
        "Let us modify the workflow to perform bipartitioning:\n",
        "\n",
        "1. Load the dataframe containing a dataset, such as the Wikipedia text dataset.\n",
        "2. Extract the data matrix from the dataframe.\n",
        "3. Run k-means on the data matrix with k=2.\n",
        "4. Divide the data matrix into two parts using the cluster assignments.\n",
        "5. Divide the dataframe into two parts, again using the cluster assignments. This step is necessary to allow for visualization.\n",
        "6. Visualize the bipartition of data.\n",
        "\n",
        "We'd like to be able to repeat Steps 3-6 multiple times to produce a **hierarchy** of clusters such as the following:\n",
        "```\n",
        "                      (root)\n",
        "                         |\n",
        "            +------------+-------------+\n",
        "            |                          |\n",
        "         Cluster                    Cluster\n",
        "     +------+-----+             +------+-----+\n",
        "     |            |             |            |\n",
        "   Cluster     Cluster       Cluster      Cluster\n",
        "```\n",
        "Each **parent cluster** is bipartitioned to produce two **child clusters**. At the very top is the **root cluster**, which consists of the entire dataset.\n",
        "\n",
        "Now we write a wrapper function to bipartition a given cluster using k-means. There are three variables that together comprise the cluster:\n",
        "\n",
        "* `dataframe`: a subset of the original dataframe that correspond to member rows of the cluster\n",
        "* `matrix`: same set of rows, stored in sparse matrix format\n",
        "* `centroid`: the centroid of the cluster (not applicable for the root cluster)\n",
        "\n",
        "Rather than passing around the three variables separately, we package them into a Python dictionary. The wrapper function takes a single dictionary (representing a parent cluster) and returns two dictionaries (representing the child clusters)."
      ]
    },
    {
      "cell_type": "code",
      "metadata": {
        "id": "jKgK4PpPIicE"
      },
      "source": [
        "def bipartition(cluster, maxiter=400, num_runs=4, seed=None):\n",
        "    '''cluster: should be a dictionary containing the following keys\n",
        "                * dataframe: original dataframe\n",
        "                * matrix:    same data, in matrix format\n",
        "                * centroid:  centroid for this particular cluster'''\n",
        "    \n",
        "    data_matrix = cluster['matrix']\n",
        "    dataframe   = cluster['dataframe']\n",
        "    \n",
        "    # Run k-means on the data matrix with k=2. We use scikit-learn here to simplify workflow.\n",
        "    kmeans_model = KMeans(n_clusters=2, max_iter=maxiter, n_init=num_runs, random_state=seed, n_jobs=1)\n",
        "    kmeans_model.fit(data_matrix)\n",
        "    centroids, cluster_assignment = kmeans_model.cluster_centers_, kmeans_model.labels_\n",
        "    \n",
        "    # Divide the data matrix into two parts using the cluster assignments.\n",
        "    data_matrix_left_child, data_matrix_right_child = data_matrix[cluster_assignment==0], \\\n",
        "                                                      data_matrix[cluster_assignment==1]\n",
        "    \n",
        "    # Divide the dataframe into two parts, again using the cluster assignments.\n",
        "    cluster_assignment_sa = turicreate.SArray(cluster_assignment) # minor format conversion\n",
        "    dataframe_left_child, dataframe_right_child     = dataframe[cluster_assignment_sa==0], \\\n",
        "                                                      dataframe[cluster_assignment_sa==1]\n",
        "        \n",
        "    \n",
        "    # Package relevant variables for the child clusters\n",
        "    cluster_left_child  = {'matrix': data_matrix_left_child,\n",
        "                           'dataframe': dataframe_left_child,\n",
        "                           'centroid': centroids[0]}\n",
        "    cluster_right_child = {'matrix': data_matrix_right_child,\n",
        "                           'dataframe': dataframe_right_child,\n",
        "                           'centroid': centroids[1]}\n",
        "    \n",
        "    return (cluster_left_child, cluster_right_child)"
      ],
      "execution_count": null,
      "outputs": []
    },
    {
      "cell_type": "markdown",
      "metadata": {
        "id": "0bIFziu7Iicl"
      },
      "source": [
        "The following cell performs bipartitioning of the Wikipedia dataset. Allow 2+ minutes to finish.\n",
        "\n",
        "Note. For the purpose of the assignment, we set an explicit seed (`seed=1`) to produce identical outputs for every run. In pratical applications, you might want to use different random seeds for all runs."
      ]
    },
    {
      "cell_type": "code",
      "metadata": {
        "id": "9yHkP5L-Iics",
        "colab": {
          "base_uri": "https://localhost:8080/",
          "height": 54
        },
        "outputId": "85f2088d-606a-4fb5-b948-29ba6be034a8"
      },
      "source": [
        "%%time\n",
        "wiki_data = {'matrix': tf_idf, 'dataframe': wiki} # no 'centroid' for the root cluster\n",
        "left_child, right_child = bipartition(wiki_data, maxiter=100, num_runs=1, seed=0)"
      ],
      "execution_count": null,
      "outputs": [
        {
          "output_type": "stream",
          "text": [
            "CPU times: user 3min 3s, sys: 2.17 s, total: 3min 5s\n",
            "Wall time: 3min 2s\n"
          ],
          "name": "stdout"
        }
      ]
    },
    {
      "cell_type": "markdown",
      "metadata": {
        "id": "VVHtUHP3Iidp"
      },
      "source": [
        "Let's examine the contents of one of the two clusters, which we call the `left_child`, referring to the tree visualization above."
      ]
    },
    {
      "cell_type": "code",
      "metadata": {
        "id": "NRfZBaMiIieC",
        "colab": {
          "base_uri": "https://localhost:8080/",
          "height": 807
        },
        "outputId": "e31806da-acc4-4717-d24c-af4a4fdceb7c"
      },
      "source": [
        "left_child"
      ],
      "execution_count": null,
      "outputs": [
        {
          "output_type": "execute_result",
          "data": {
            "text/plain": [
              "{'centroid': array([5.99333810e-05, 1.39284997e-05, 6.85264647e-05, ...,\n",
              "        2.03016100e-06, 6.24672345e-06, 2.31038436e-06]), 'dataframe': Columns:\n",
              " \tid\tint\n",
              " \tURI\tstr\n",
              " \tname\tstr\n",
              " \ttext\tstr\n",
              " \ttf_idf\tdict\n",
              " \n",
              " Rows: Unknown\n",
              " \n",
              " Data:\n",
              " +----+-------------------------------+---------------------+\n",
              " | id |              URI              |         name        |\n",
              " +----+-------------------------------+---------------------+\n",
              " | 1  | <http://dbpedia.org/resour... |    Alfred J. Lewy   |\n",
              " | 2  | <http://dbpedia.org/resour... |    Harpdog Brown    |\n",
              " | 3  | <http://dbpedia.org/resour... | Franz Rottensteiner |\n",
              " | 4  | <http://dbpedia.org/resour... |        G-Enka       |\n",
              " | 5  | <http://dbpedia.org/resour... |    Sam Henderson    |\n",
              " | 6  | <http://dbpedia.org/resour... |    Aaron LaCrate    |\n",
              " | 7  | <http://dbpedia.org/resour... |   Trevor Ferguson   |\n",
              " | 8  | <http://dbpedia.org/resour... |     Grant Nelson    |\n",
              " | 9  | <http://dbpedia.org/resour... |     Cathy Caruth    |\n",
              " | 10 | <http://dbpedia.org/resour... |     Sophie Crumb    |\n",
              " +----+-------------------------------+---------------------+\n",
              " +-------------------------------+-------------------------------+\n",
              " |              text             |             tf_idf            |\n",
              " +-------------------------------+-------------------------------+\n",
              " | alfred j lewy aka sandy le... | {'time': 1.325334207420049... |\n",
              " | harpdog brown is a singer ... | {'society': 2.444804726208... |\n",
              " | franz rottensteiner born i... | {'kurdlawitzpreis': 10.986... |\n",
              " | henry krvits born 30 decem... | {'curtis': 5.2995200328853... |\n",
              " | sam henderson born october... | {'asses': 9.60020102810530... |\n",
              " | aaron lacrate is an americ... | {'streamz': 10.98649538922... |\n",
              " | trevor ferguson aka john f... | {'concordia': 6.2502969408... |\n",
              " | grant nelson born 27 april... | {'heavies': 8.907053847545... |\n",
              " | cathy caruth born 1955 is ... | {'2002': 1.875312588782230... |\n",
              " | sophia violet sophie crumb... | {'who': 0.9098952189804214... |\n",
              " +-------------------------------+-------------------------------+\n",
              " [? rows x 5 columns]\n",
              " Note: Only the head of the SFrame is printed. This SFrame is lazily evaluated.\n",
              " You can use sf.materialize() to force materialization., 'matrix': <47561x547979 sparse matrix of type '<class 'numpy.float64'>'\n",
              " \twith 8493452 stored elements in Compressed Sparse Row format>}"
            ]
          },
          "metadata": {
            "tags": []
          },
          "execution_count": 12
        }
      ]
    },
    {
      "cell_type": "markdown",
      "metadata": {
        "id": "rteQr9DlIie-"
      },
      "source": [
        "And here is the content of the other cluster we named `right_child`."
      ]
    },
    {
      "cell_type": "code",
      "metadata": {
        "id": "0g8EyAVQIifJ",
        "colab": {
          "base_uri": "https://localhost:8080/",
          "height": 807
        },
        "outputId": "0ad584bb-618e-4cb1-80c0-9b4bf14aad27"
      },
      "source": [
        "right_child"
      ],
      "execution_count": null,
      "outputs": [
        {
          "output_type": "execute_result",
          "data": {
            "text/plain": [
              "{'centroid': array([0.00050277, 0.00038182, 0.00014018, ..., 0.        , 0.        ,\n",
              "        0.        ]), 'dataframe': Columns:\n",
              " \tid\tint\n",
              " \tURI\tstr\n",
              " \tname\tstr\n",
              " \ttext\tstr\n",
              " \ttf_idf\tdict\n",
              " \n",
              " Rows: Unknown\n",
              " \n",
              " Data:\n",
              " +----+-------------------------------+-------------------------------+\n",
              " | id |              URI              |              name             |\n",
              " +----+-------------------------------+-------------------------------+\n",
              " | 0  | <http://dbpedia.org/resour... |         Digby Morrell         |\n",
              " | 17 | <http://dbpedia.org/resour... | Paddy Dunne (Gaelic footba... |\n",
              " | 21 | <http://dbpedia.org/resour... |         Ceiron Thomas         |\n",
              " | 22 | <http://dbpedia.org/resour... |          Adel Sellimi         |\n",
              " | 25 | <http://dbpedia.org/resour... |          Vic Stasiuk          |\n",
              " | 28 | <http://dbpedia.org/resour... |          Leon Hapgood         |\n",
              " | 30 | <http://dbpedia.org/resour... |           Dom Flora           |\n",
              " | 33 | <http://dbpedia.org/resour... |           Bob Reece           |\n",
              " | 41 | <http://dbpedia.org/resour... | Bob Adams (American football) |\n",
              " | 48 | <http://dbpedia.org/resour... |           Marc Logan          |\n",
              " +----+-------------------------------+-------------------------------+\n",
              " +-------------------------------+-------------------------------+\n",
              " |              text             |             tf_idf            |\n",
              " +-------------------------------+-------------------------------+\n",
              " | digby morrell born 10 octo... | {'melbourne': 3.8914310119... |\n",
              " | paddy dunne was a gaelic f... | {'hall': 2.635356782139039... |\n",
              " | ceiron thomas born 23 octo... | {'resulting': 4.6286531227... |\n",
              " | adel sellimi arabic was bo... | {'sport': 3.80871297302999... |\n",
              " | victor john stasiuk born m... | {'coaching4': 10.986495389... |\n",
              " | leon duane hapgood born 7 ... | {'where': 1.08907621209067... |\n",
              " | dominick a dom flora born ... | {'admission': 6.0097616468... |\n",
              " | robert scott reece born ja... | {'out': 1.8484031814566355... |\n",
              " | robert bruce bob adams bor... | {'officials': 4.4170139688... |\n",
              " | marc anthony logan born ma... | {'part': 1.919448187075487... |\n",
              " +-------------------------------+-------------------------------+\n",
              " [? rows x 5 columns]\n",
              " Note: Only the head of the SFrame is printed. This SFrame is lazily evaluated.\n",
              " You can use sf.materialize() to force materialization., 'matrix': <11510x547979 sparse matrix of type '<class 'numpy.float64'>'\n",
              " \twith 1885831 stored elements in Compressed Sparse Row format>}"
            ]
          },
          "metadata": {
            "tags": []
          },
          "execution_count": 13
        }
      ]
    },
    {
      "cell_type": "markdown",
      "metadata": {
        "id": "9eY4MC3AIif_"
      },
      "source": [
        "## Visualize the bipartition"
      ]
    },
    {
      "cell_type": "markdown",
      "metadata": {
        "id": "Vgik2PSkIigM"
      },
      "source": [
        "We provide you with a modified version of the visualization function from the k-means assignment. For each cluster, we print the top 5 words with highest TF-IDF weights in the centroid and display excerpts for the 8 nearest neighbors of the centroid."
      ]
    },
    {
      "cell_type": "code",
      "metadata": {
        "scrolled": true,
        "id": "qG3OVm_PIigd"
      },
      "source": [
        "def display_single_tf_idf_cluster(cluster, map_index_to_word):\n",
        "    '''map_index_to_word: SFrame specifying the mapping betweeen words and column indices'''\n",
        "    \n",
        "    wiki_subset   = cluster['dataframe']\n",
        "    tf_idf_subset = cluster['matrix']\n",
        "    centroid      = cluster['centroid']\n",
        "    \n",
        "    # Print top 5 words with largest TF-IDF weights in the cluster\n",
        "    idx = centroid.argsort()[::-1]\n",
        "    for i in range(5):\n",
        "        print('{0}:{1:.3f}'.format(map_index_to_word['category'], centroid[idx[i]])),\n",
        "    print('')\n",
        "    \n",
        "    # Compute distances from the centroid to all data points in the cluster.\n",
        "    distances = pairwise_distances(tf_idf_subset, [centroid], metric='euclidean').flatten()\n",
        "    # compute nearest neighbors of the centroid within the cluster.\n",
        "    nearest_neighbors = distances.argsort()\n",
        "    # For 8 nearest neighbors, print the title as well as first 180 characters of text.\n",
        "    # Wrap the text at 80-character mark.\n",
        "    for i in range(8):\n",
        "        text = ' '.join(wiki_subset[nearest_neighbors[i]]['text'].split(None, 25)[0:25])\n",
        "        print('* {0:50s} {1:.5f}\\n  {2:s}\\n  {3:s}'.format(wiki_subset[nearest_neighbors[i]]['name'],\n",
        "              distances[nearest_neighbors[i]], text[:90], text[90:180] if len(text) > 90 else ''))\n",
        "    print('')"
      ],
      "execution_count": null,
      "outputs": []
    },
    {
      "cell_type": "markdown",
      "metadata": {
        "id": "n8K_VWkyIihj"
      },
      "source": [
        "Let's visualize the two child clusters:"
      ]
    },
    {
      "cell_type": "code",
      "metadata": {
        "id": "fusXfSffIiht",
        "colab": {
          "base_uri": "https://localhost:8080/",
          "height": 586
        },
        "outputId": "eb5a31d5-5f96-4db7-e426-c307003b3072"
      },
      "source": [
        "display_single_tf_idf_cluster(left_child, map_word_to_index)"
      ],
      "execution_count": null,
      "outputs": [
        {
          "output_type": "stream",
          "text": [
            "113949:0.025\n",
            "113949:0.017\n",
            "113949:0.012\n",
            "113949:0.011\n",
            "113949:0.011\n",
            "\n",
            "* Anita Kunz                                         0.97401\n",
            "  anita e kunz oc born 1956 is a canadianborn artist and illustratorkunz has lived in london\n",
            "   new york and toronto contributing to magazines and working\n",
            "* Janet Jackson                                      0.97472\n",
            "  janet damita jo jackson born may 16 1966 is an american singer songwriter and actress know\n",
            "  n for a series of sonically innovative socially conscious and\n",
            "* Madonna (entertainer)                              0.97475\n",
            "  madonna louise ciccone tkoni born august 16 1958 is an american singer songwriter actress \n",
            "  and businesswoman she achieved popularity by pushing the boundaries of lyrical\n",
            "* %C3%81ine Hyland                                   0.97536\n",
            "  ine hyland ne donlon is emeritus professor of education and former vicepresident of univer\n",
            "  sity college cork ireland she was born in 1942 in athboy co\n",
            "* Jane Fonda                                         0.97621\n",
            "  jane fonda born lady jayne seymour fonda december 21 1937 is an american actress writer po\n",
            "  litical activist former fashion model and fitness guru she is\n",
            "* Christine Robertson                                0.97643\n",
            "  christine mary robertson born 5 october 1948 is an australian politician and former austra\n",
            "  lian labor party member of the new south wales legislative council serving\n",
            "* Pat Studdy-Clift                                   0.97643\n",
            "  pat studdyclift is an australian author specialising in historical fiction and nonfictionb\n",
            "  orn in 1925 she lived in gunnedah until she was sent to a boarding\n",
            "* Alexandra Potter                                   0.97646\n",
            "  alexandra potter born 1970 is a british author of romantic comediesborn in bradford yorksh\n",
            "  ire england and educated at liverpool university gaining an honors degree in\n",
            "\n"
          ],
          "name": "stdout"
        }
      ]
    },
    {
      "cell_type": "code",
      "metadata": {
        "id": "V7hehI69IiiV",
        "colab": {
          "base_uri": "https://localhost:8080/",
          "height": 586
        },
        "outputId": "2ce456b9-639b-4b94-e7e1-4d67a55b2690"
      },
      "source": [
        "display_single_tf_idf_cluster(right_child, map_word_to_index)"
      ],
      "execution_count": null,
      "outputs": [
        {
          "output_type": "stream",
          "text": [
            "113949:0.040\n",
            "113949:0.036\n",
            "113949:0.029\n",
            "113949:0.029\n",
            "113949:0.028\n",
            "\n",
            "* Todd Williams                                      0.95468\n",
            "  todd michael williams born february 13 1971 in syracuse new york is a former major league \n",
            "  baseball relief pitcher he attended east syracuseminoa high school\n",
            "* Gord Sherven                                       0.95622\n",
            "  gordon r sherven born august 21 1963 in gravelbourg saskatchewan and raised in mankota sas\n",
            "  katchewan is a retired canadian professional ice hockey forward who played\n",
            "* Justin Knoedler                                    0.95639\n",
            "  justin joseph knoedler born july 17 1980 in springfield illinois is a former major league \n",
            "  baseball catcherknoedler was originally drafted by the st louis cardinals\n",
            "* Chris Day                                          0.95648\n",
            "  christopher nicholas chris day born 28 july 1975 is an english professional footballer who\n",
            "   plays as a goalkeeper for stevenageday started his career at tottenham\n",
            "* Tony Smith (footballer, born 1957)                 0.95653\n",
            "  anthony tony smith born 20 february 1957 is a former footballer who played as a central de\n",
            "  fender in the football league in the 1970s and\n",
            "* Ashley Prescott                                    0.95761\n",
            "  ashley prescott born 11 september 1972 is a former australian rules footballer he played w\n",
            "  ith the richmond and fremantle football clubs in the afl between\n",
            "* Leslie Lea                                         0.95802\n",
            "  leslie lea born 5 october 1942 in manchester is an english former professional footballer \n",
            "  he played as a midfielderlea began his professional career with blackpool\n",
            "* Tommy Anderson (footballer)                        0.95818\n",
            "  thomas cowan tommy anderson born 24 september 1934 in haddington is a scottish former prof\n",
            "  essional footballer he played as a forward and was noted for\n",
            "\n"
          ],
          "name": "stdout"
        }
      ]
    },
    {
      "cell_type": "markdown",
      "metadata": {
        "id": "UXENlHFfIijG"
      },
      "source": [
        "The right cluster consists of athletes and artists (singers and actors/actresses), whereas the left cluster consists of non-athletes and non-artists. So far, we have a single-level hierarchy consisting of two clusters, as follows:"
      ]
    },
    {
      "cell_type": "markdown",
      "metadata": {
        "id": "HCbgWhXZIijL"
      },
      "source": [
        "```\n",
        "                                           Wikipedia\n",
        "                                               +\n",
        "                                               |\n",
        "                    +--------------------------+--------------------+\n",
        "                    |                                               |\n",
        "                    +                                               +\n",
        "         Non-athletes/artists                                Athletes/artists\n",
        "```"
      ]
    },
    {
      "cell_type": "markdown",
      "metadata": {
        "id": "alFTuEQ8IijS"
      },
      "source": [
        "Is this hierarchy good enough? **When building a hierarchy of clusters, we must keep our particular application in mind.** For instance, we might want to build a **directory** for Wikipedia articles. A good directory would let you quickly narrow down your search to a small set of related articles. The categories of athletes and non-athletes are too general to facilitate efficient search. For this reason, we decide to build another level into our hierarchy of clusters with the goal of getting more specific cluster structure at the lower level. To that end, we subdivide both the `athletes/artists` and `non-athletes/artists` clusters."
      ]
    },
    {
      "cell_type": "markdown",
      "metadata": {
        "id": "hXw01B7EIijZ"
      },
      "source": [
        "## Perform recursive bipartitioning"
      ]
    },
    {
      "cell_type": "markdown",
      "metadata": {
        "id": "8yKx_AZ7Iijk"
      },
      "source": [
        "### Cluster of athletes and artists"
      ]
    },
    {
      "cell_type": "markdown",
      "metadata": {
        "id": "a6qRx9w7Iij5"
      },
      "source": [
        "To help identify the clusters we've built so far, let's give them easy-to-read aliases:"
      ]
    },
    {
      "cell_type": "code",
      "metadata": {
        "id": "e4ecP5Y3IikL"
      },
      "source": [
        "non_athletes_artists   = left_child\n",
        "athletes_artists       = right_child"
      ],
      "execution_count": null,
      "outputs": []
    },
    {
      "cell_type": "markdown",
      "metadata": {
        "id": "qJnvy4qLIilG"
      },
      "source": [
        "Using the bipartition function, we produce two child clusters of the athlete cluster:"
      ]
    },
    {
      "cell_type": "code",
      "metadata": {
        "id": "S-yYtapbIilK"
      },
      "source": [
        "# Bipartition the cluster of athletes and artists\n",
        "left_child_athletes_artists, right_child_athletes_artists = bipartition(athletes_artists, maxiter=100, num_runs=6, seed=1)"
      ],
      "execution_count": null,
      "outputs": []
    },
    {
      "cell_type": "markdown",
      "metadata": {
        "id": "9z0bmGRuIimI"
      },
      "source": [
        "The left child cluster mainly consists of athletes:"
      ]
    },
    {
      "cell_type": "code",
      "metadata": {
        "id": "B6Lio-b_Iimy",
        "colab": {
          "base_uri": "https://localhost:8080/",
          "height": 586
        },
        "outputId": "fe378da8-e3b6-48d2-b68f-ba4514ff6a57"
      },
      "source": [
        "display_single_tf_idf_cluster(left_child_athletes_artists, map_word_to_index)"
      ],
      "execution_count": null,
      "outputs": [
        {
          "output_type": "stream",
          "text": [
            "113949:0.054\n",
            "113949:0.043\n",
            "113949:0.038\n",
            "113949:0.035\n",
            "113949:0.030\n",
            "\n",
            "* Tony Smith (footballer, born 1957)                 0.94677\n",
            "  anthony tony smith born 20 february 1957 is a former footballer who played as a central de\n",
            "  fender in the football league in the 1970s and\n",
            "* Justin Knoedler                                    0.94746\n",
            "  justin joseph knoedler born july 17 1980 in springfield illinois is a former major league \n",
            "  baseball catcherknoedler was originally drafted by the st louis cardinals\n",
            "* Chris Day                                          0.94849\n",
            "  christopher nicholas chris day born 28 july 1975 is an english professional footballer who\n",
            "   plays as a goalkeeper for stevenageday started his career at tottenham\n",
            "* Todd Williams                                      0.94882\n",
            "  todd michael williams born february 13 1971 in syracuse new york is a former major league \n",
            "  baseball relief pitcher he attended east syracuseminoa high school\n",
            "* Todd Curley                                        0.95007\n",
            "  todd curley born 14 january 1973 is a former australian rules footballer who played for co\n",
            "  llingwood and the western bulldogs in the australian football league\n",
            "* Ashley Prescott                                    0.95015\n",
            "  ashley prescott born 11 september 1972 is a former australian rules footballer he played w\n",
            "  ith the richmond and fremantle football clubs in the afl between\n",
            "* Tommy Anderson (footballer)                        0.95037\n",
            "  thomas cowan tommy anderson born 24 september 1934 in haddington is a scottish former prof\n",
            "  essional footballer he played as a forward and was noted for\n",
            "* Leslie Lea                                         0.95065\n",
            "  leslie lea born 5 october 1942 in manchester is an english former professional footballer \n",
            "  he played as a midfielderlea began his professional career with blackpool\n",
            "\n"
          ],
          "name": "stdout"
        }
      ]
    },
    {
      "cell_type": "markdown",
      "metadata": {
        "id": "A7YF_ndyIiny"
      },
      "source": [
        "On the other hand, the right child cluster consists mainly of artists (singers and actors/actresses):"
      ]
    },
    {
      "cell_type": "code",
      "metadata": {
        "id": "oi0ueXKyIin3",
        "colab": {
          "base_uri": "https://localhost:8080/",
          "height": 586
        },
        "outputId": "21e33c75-418c-457c-a3e4-249e14a7c471"
      },
      "source": [
        "display_single_tf_idf_cluster(right_child_athletes_artists, map_word_to_index)"
      ],
      "execution_count": null,
      "outputs": [
        {
          "output_type": "stream",
          "text": [
            "113949:0.045\n",
            "113949:0.043\n",
            "113949:0.035\n",
            "113949:0.031\n",
            "113949:0.031\n",
            "\n",
            "* Alessandra Aguilar                                 0.93880\n",
            "  alessandra aguilar born 1 july 1978 in lugo is a spanish longdistance runner who specialis\n",
            "  es in marathon running she represented her country in the event\n",
            "* Heather Samuel                                     0.93999\n",
            "  heather barbara samuel born 6 july 1970 is a retired sprinter from antigua and barbuda who\n",
            "   specialized in the 100 and 200 metres in 1990\n",
            "* Viola Kibiwot                                      0.94037\n",
            "  viola jelagat kibiwot born december 22 1983 in keiyo district is a runner from kenya who s\n",
            "  pecialises in the 1500 metres kibiwot won her first\n",
            "* Ayelech Worku                                      0.94052\n",
            "  ayelech worku born june 12 1979 is an ethiopian longdistance runner most known for winning\n",
            "   two world championships bronze medals on the 5000 metres she\n",
            "* Krisztina Papp                                     0.94105\n",
            "  krisztina papp born 17 december 1982 in eger is a hungarian long distance runner she is th\n",
            "  e national indoor record holder over 5000 mpapp began\n",
            "* Petra Lammert                                      0.94230\n",
            "  petra lammert born 3 march 1984 in freudenstadt badenwrttemberg is a former german shot pu\n",
            "  tter and current bobsledder she was the 2009 european indoor champion\n",
            "* Morhad Amdouni                                     0.94231\n",
            "  morhad amdouni born 21 january 1988 in portovecchio is a french middle and longdistance ru\n",
            "  nner he was european junior champion in track and cross country\n",
            "* Brian Davis (golfer)                               0.94378\n",
            "  brian lester davis born 2 august 1974 is an english professional golferdavis was born in l\n",
            "  ondon he turned professional in 1994 and became a member\n",
            "\n"
          ],
          "name": "stdout"
        }
      ]
    },
    {
      "cell_type": "markdown",
      "metadata": {
        "id": "jnC6MbSkIio3"
      },
      "source": [
        "Our hierarchy of clusters now looks like this:\n",
        "```\n",
        "                                           Wikipedia\n",
        "                                               +\n",
        "                                               |\n",
        "                    +--------------------------+--------------------+\n",
        "                    |                                               |\n",
        "                    +                                               +\n",
        "         Non-athletes/artists                                Athletes/artists\n",
        "                                                                    +\n",
        "                                                                    |\n",
        "                                                         +----------+----------+\n",
        "                                                         |                     |\n",
        "                                                         |                     |\n",
        "                                                         +                     |\n",
        "                                                     athletes               artists\n",
        "```"
      ]
    },
    {
      "cell_type": "markdown",
      "metadata": {
        "id": "dRd6sakfIipC"
      },
      "source": [
        "Should we keep subdividing the clusters? If so, which cluster should we subdivide? To answer this question, we again think about our application. Since we organize our directory by topics, it would be nice to have topics that are about as coarse as each other. For instance, if one cluster is about baseball, we expect some other clusters about football, basketball, volleyball, and so forth. That is, **we would like to achieve similar level of granularity for all clusters.**\n",
        "\n",
        "Both the athletes and artists node can be subdivided more, as each one can be divided into more descriptive professions (singer/actress/painter/director, or baseball/football/basketball, etc.). Let's explore subdividing the athletes cluster further to produce finer child clusters."
      ]
    },
    {
      "cell_type": "markdown",
      "metadata": {
        "id": "L_rK6vTDIipI"
      },
      "source": [
        "Let's give the clusters aliases as well:"
      ]
    },
    {
      "cell_type": "code",
      "metadata": {
        "id": "STlxdykHIipT"
      },
      "source": [
        "athletes    = left_child_athletes_artists\n",
        "artists     = right_child_athletes_artists"
      ],
      "execution_count": null,
      "outputs": []
    },
    {
      "cell_type": "markdown",
      "metadata": {
        "id": "DKFVblS7Iip3"
      },
      "source": [
        "### Cluster of athletes"
      ]
    },
    {
      "cell_type": "markdown",
      "metadata": {
        "id": "wgOO6sg8IiqE"
      },
      "source": [
        "In answering the following quiz question, take a look at the topics represented in the top documents (those closest to the centroid), as well as the list of words with highest TF-IDF weights.\n",
        "\n",
        "Let us bipartition the cluster of athletes."
      ]
    },
    {
      "cell_type": "code",
      "metadata": {
        "id": "fdgVGT5IIiqJ"
      },
      "source": [
        "left_child_athletes, right_child_athletes = bipartition(athletes, maxiter=100, num_runs=6, seed=1)"
      ],
      "execution_count": null,
      "outputs": []
    },
    {
      "cell_type": "code",
      "metadata": {
        "id": "aaW0hoZ5Iiqm",
        "colab": {
          "base_uri": "https://localhost:8080/",
          "height": 1000
        },
        "outputId": "187cd531-4463-4fff-8da2-c21237a52f8e"
      },
      "source": [
        "display_single_tf_idf_cluster(left_child_athletes, map_word_to_index)\n",
        "display_single_tf_idf_cluster(right_child_athletes, map_word_to_index)"
      ],
      "execution_count": null,
      "outputs": [
        {
          "output_type": "stream",
          "text": [
            "113949:0.110\n",
            "113949:0.102\n",
            "113949:0.051\n",
            "113949:0.046\n",
            "113949:0.045\n",
            "\n",
            "* Steve Springer                                     0.89370\n",
            "  steven michael springer born february 11 1961 is an american former professional baseball \n",
            "  player who appeared in major league baseball as a third baseman and\n",
            "* Dave Ford                                          0.89622\n",
            "  david alan ford born december 29 1956 is a former major league baseball pitcher for the ba\n",
            "  ltimore orioles born in cleveland ohio ford attended lincolnwest\n",
            "* Todd Williams                                      0.89829\n",
            "  todd michael williams born february 13 1971 in syracuse new york is a former major league \n",
            "  baseball relief pitcher he attended east syracuseminoa high school\n",
            "* Justin Knoedler                                    0.90102\n",
            "  justin joseph knoedler born july 17 1980 in springfield illinois is a former major league \n",
            "  baseball catcherknoedler was originally drafted by the st louis cardinals\n",
            "* Kevin Nicholson (baseball)                         0.90619\n",
            "  kevin ronald nicholson born march 29 1976 is a canadian baseball shortstop he played part \n",
            "  of the 2000 season for the san diego padres of\n",
            "* Joe Strong                                         0.90658\n",
            "  joseph benjamin strong born september 9 1962 in fairfield california is a former major lea\n",
            "  gue baseball pitcher who played for the florida marlins from 2000\n",
            "* James Baldwin (baseball)                           0.90691\n",
            "  james j baldwin jr born july 15 1971 is a former major league baseball pitcher he batted a\n",
            "  nd threw righthanded in his 11season career he\n",
            "* James Garcia                                       0.90738\n",
            "  james robert garcia born february 3 1980 is an american former professional baseball pitch\n",
            "  er who played in the san francisco giants minor league system as\n",
            "\n",
            "113949:0.048\n",
            "113949:0.043\n",
            "113949:0.041\n",
            "113949:0.036\n",
            "113949:0.034\n",
            "\n",
            "* Todd Curley                                        0.94563\n",
            "  todd curley born 14 january 1973 is a former australian rules footballer who played for co\n",
            "  llingwood and the western bulldogs in the australian football league\n",
            "* Tony Smith (footballer, born 1957)                 0.94590\n",
            "  anthony tony smith born 20 february 1957 is a former footballer who played as a central de\n",
            "  fender in the football league in the 1970s and\n",
            "* Chris Day                                          0.94605\n",
            "  christopher nicholas chris day born 28 july 1975 is an english professional footballer who\n",
            "   plays as a goalkeeper for stevenageday started his career at tottenham\n",
            "* Jason Roberts (footballer)                         0.94617\n",
            "  jason andre davis roberts mbe born 25 january 1978 is a former professional footballer and\n",
            "   now a football punditborn in park royal london roberts was\n",
            "* Ashley Prescott                                    0.94618\n",
            "  ashley prescott born 11 september 1972 is a former australian rules footballer he played w\n",
            "  ith the richmond and fremantle football clubs in the afl between\n",
            "* David Hamilton (footballer)                        0.94910\n",
            "  david hamilton born 7 november 1960 is an english former professional association football\n",
            "   player who played as a midfielder he won caps for the england\n",
            "* Richard Ambrose                                    0.94924\n",
            "  richard ambrose born 10 june 1972 is a former australian rules footballer who played with \n",
            "  the sydney swans in the australian football league afl he\n",
            "* Neil Grayson                                       0.94944\n",
            "  neil grayson born 1 november 1964 in york is an english footballer who last played as a st\n",
            "  riker for sutton towngraysons first club was local\n",
            "\n"
          ],
          "name": "stdout"
        }
      ]
    },
    {
      "cell_type": "markdown",
      "metadata": {
        "id": "szLogLicIiq7"
      },
      "source": [
        "**Quiz Question**. Which diagram best describes the hierarchy right after splitting the `athletes` cluster? Refer to the quiz form for the diagrams."
      ]
    },
    {
      "cell_type": "markdown",
      "metadata": {
        "id": "AHfNvke0IirA"
      },
      "source": [
        "**Caution**. The granularity criteria is an imperfect heuristic and must be taken with a grain of salt. It takes a lot of manual intervention to obtain a good hierarchy of clusters.\n",
        "\n",
        "* **If a cluster is highly mixed, the top articles and words may not convey the full picture of the cluster.** Thus, we may be misled if we judge the purity of clusters solely by their top documents and words. \n",
        "* **Many interesting topics are hidden somewhere inside the clusters but do not appear in the visualization.** We may need to subdivide further to discover new topics. For instance, subdividing the `ice_hockey_football` cluster led to the appearance of runners and golfers."
      ]
    },
    {
      "cell_type": "markdown",
      "metadata": {
        "id": "6akY87njIirH"
      },
      "source": [
        "### Cluster of non-athletes"
      ]
    },
    {
      "cell_type": "markdown",
      "metadata": {
        "id": "kLN7DXBvIirS"
      },
      "source": [
        "Now let us subdivide the cluster of non-athletes."
      ]
    },
    {
      "cell_type": "code",
      "metadata": {
        "id": "KpTOiKX0IirZ",
        "colab": {
          "base_uri": "https://localhost:8080/",
          "height": 54
        },
        "outputId": "0b91ead2-3036-4d49-80d5-4eb62cfb4db5"
      },
      "source": [
        "%%time \n",
        "# Bipartition the cluster of non-athletes\n",
        "left_child_non_athletes_artists, right_child_non_athletes_artists = bipartition(non_athletes_artists, maxiter=100, num_runs=3, seed=1)"
      ],
      "execution_count": null,
      "outputs": [
        {
          "output_type": "stream",
          "text": [
            "CPU times: user 10min 3s, sys: 8.65 s, total: 10min 12s\n",
            "Wall time: 10min 1s\n"
          ],
          "name": "stdout"
        }
      ]
    },
    {
      "cell_type": "code",
      "metadata": {
        "id": "qfZlqU6MIirr",
        "colab": {
          "base_uri": "https://localhost:8080/",
          "height": 586
        },
        "outputId": "ed36ba38-cdc9-4d6e-bbd9-7a8af33224c0"
      },
      "source": [
        "display_single_tf_idf_cluster(left_child_non_athletes_artists, map_word_to_index)"
      ],
      "execution_count": null,
      "outputs": [
        {
          "output_type": "stream",
          "text": [
            "113949:0.016\n",
            "113949:0.013\n",
            "113949:0.013\n",
            "113949:0.012\n",
            "113949:0.012\n",
            "\n",
            "* Barry Sullivan (lawyer)                            0.97227\n",
            "  barry sullivan is a chicago lawyer and as of july 1 2009 the cooney conway chair in advoca\n",
            "  cy at loyola university chicago school of law\n",
            "* Kayee Griffin                                      0.97444\n",
            "  kayee frances griffin born 6 february 1950 is an australian politician and former australi\n",
            "  an labor party member of the new south wales legislative council serving\n",
            "* Christine Robertson                                0.97450\n",
            "  christine mary robertson born 5 october 1948 is an australian politician and former austra\n",
            "  lian labor party member of the new south wales legislative council serving\n",
            "* James A. Joseph                                    0.97464\n",
            "  james a joseph born 1935 is an american former diplomatjoseph is professor of the practice\n",
            "   of public policy studies at duke university and founder of\n",
            "* David Anderson (British Columbia politician)       0.97492\n",
            "  david a anderson pc oc born august 16 1937 in victoria british columbia is a former canadi\n",
            "  an cabinet minister educated at victoria college in victoria\n",
            "* Mary Ellen Coster Williams                         0.97594\n",
            "  mary ellen coster williams born april 3 1953 is a judge of the united states court of fede\n",
            "  ral claims appointed to that court in 2003\n",
            "* Sven Erik Holmes                                   0.97600\n",
            "  sven erik holmes is a former federal judge and currently the vice chairman legal risk and \n",
            "  regulatory and chief legal officer for kpmg llp a\n",
            "* Andrew Fois                                        0.97652\n",
            "  andrew fois is an attorney living and working in washington dc as of april 9 2012 he will \n",
            "  be serving as the deputy attorney general\n",
            "\n"
          ],
          "name": "stdout"
        }
      ]
    },
    {
      "cell_type": "code",
      "metadata": {
        "id": "KM5S0XF_IisA",
        "colab": {
          "base_uri": "https://localhost:8080/",
          "height": 586
        },
        "outputId": "90cd9521-6a71-4ea2-820f-1033c96f9b9e"
      },
      "source": [
        "display_single_tf_idf_cluster(right_child_non_athletes_artists, map_word_to_index)"
      ],
      "execution_count": null,
      "outputs": [
        {
          "output_type": "stream",
          "text": [
            "113949:0.039\n",
            "113949:0.030\n",
            "113949:0.023\n",
            "113949:0.021\n",
            "113949:0.015\n",
            "\n",
            "* Madonna (entertainer)                              0.96092\n",
            "  madonna louise ciccone tkoni born august 16 1958 is an american singer songwriter actress \n",
            "  and businesswoman she achieved popularity by pushing the boundaries of lyrical\n",
            "* Janet Jackson                                      0.96153\n",
            "  janet damita jo jackson born may 16 1966 is an american singer songwriter and actress know\n",
            "  n for a series of sonically innovative socially conscious and\n",
            "* Cher                                               0.96540\n",
            "  cher r born cherilyn sarkisian may 20 1946 is an american singer actress and television ho\n",
            "  st described as embodying female autonomy in a maledominated industry\n",
            "* Laura Smith                                        0.96600\n",
            "  laura smith is a canadian folk singersongwriter she is best known for her 1995 single shad\n",
            "  e of your love one of the years biggest hits\n",
            "* Natashia Williams                                  0.96677\n",
            "  natashia williamsblach born august 2 1978 is an american actress and former wonderbra camp\n",
            "  aign model who is perhaps best known for her role as shane\n",
            "* Anita Kunz                                         0.96716\n",
            "  anita e kunz oc born 1956 is a canadianborn artist and illustratorkunz has lived in london\n",
            "   new york and toronto contributing to magazines and working\n",
            "* Maggie Smith                                       0.96747\n",
            "  dame margaret natalie maggie smith ch dbe born 28 december 1934 is an english actress she \n",
            "  made her stage debut in 1952 and has had\n",
            "* Lizzie West                                        0.96752\n",
            "  lizzie west born in brooklyn ny on july 21 1973 is a singersongwriter her music can be des\n",
            "  cribed as a blend of many genres including\n",
            "\n"
          ],
          "name": "stdout"
        }
      ]
    },
    {
      "cell_type": "markdown",
      "metadata": {
        "id": "hUP-S_NUIisU"
      },
      "source": [
        "The clusters are not as clear, but the left cluster has a tendency to show important female figures, and the right one to show politicians and government officials.\n",
        "\n",
        "Let's divide them further."
      ]
    },
    {
      "cell_type": "code",
      "metadata": {
        "id": "JFpmLfW2IisY"
      },
      "source": [
        "female_figures = left_child_non_athletes_artists\n",
        "politicians_etc = right_child_non_athletes_artists"
      ],
      "execution_count": null,
      "outputs": []
    },
    {
      "cell_type": "markdown",
      "metadata": {
        "id": "F-4un-CFIist"
      },
      "source": [
        "**Quiz Question**. Let us bipartition the clusters `female_figures` and `politicians`. Which diagram best describes the resulting hierarchy of clusters for the non-athletes? Refer to the quiz for the diagrams.\n",
        "\n",
        "**Note**. Use `maxiter=100, num_runs=6, seed=1` for consistency of output."
      ]
    },
    {
      "cell_type": "code",
      "metadata": {
        "id": "fAvazPgtIisx"
      },
      "source": [
        "left_child_female_figures, right_child_female_figures = bipartition(female_figures, maxiter=10, num_runs=6, seed=1)"
      ],
      "execution_count": null,
      "outputs": []
    },
    {
      "cell_type": "code",
      "metadata": {
        "id": "5_-LpvX_IitB",
        "colab": {
          "base_uri": "https://localhost:8080/",
          "height": 586
        },
        "outputId": "3eead62f-eb7c-4ca1-9729-2bb4b54c5c10"
      },
      "source": [
        "display_single_tf_idf_cluster(left_child_female_figures, map_word_to_index)"
      ],
      "execution_count": null,
      "outputs": [
        {
          "output_type": "stream",
          "text": [
            "113949:0.037\n",
            "113949:0.035\n",
            "113949:0.032\n",
            "113949:0.028\n",
            "113949:0.025\n",
            "\n",
            "* Kayee Griffin                                      0.95234\n",
            "  kayee frances griffin born 6 february 1950 is an australian politician and former australi\n",
            "  an labor party member of the new south wales legislative council serving\n",
            "* Marcelle Mersereau                                 0.95551\n",
            "  marcelle mersereau born february 14 1942 in pointeverte new brunswick is a canadian politi\n",
            "  cian a civil servant for most of her career she also served\n",
            "* Lucienne Robillard                                 0.95564\n",
            "  lucienne robillard pc born june 16 1945 is a canadian politician and a member of the liber\n",
            "  al party of canada she sat in the house\n",
            "* Maureen Lyster                                     0.95691\n",
            "  maureen anne lyster born 10 september 1943 is an australian politician she was an australi\n",
            "  an labor party member of the victorian legislative assembly from 1985\n",
            "* Liz Cunningham                                     0.95791\n",
            "  elizabeth anne liz cunningham is an australian politician she was an independent member of\n",
            "   the legislative assembly of queensland from 1995 to 2015 representing the\n",
            "* Carol Skelton                                      0.95864\n",
            "  carol skelton pc born december 12 1945 in biggar saskatchewan is a canadian politician she\n",
            "   is a member of the security intelligence review committee which\n",
            "* Doug Lewis                                         0.95932\n",
            "  douglas grinslade doug lewis pc qc born april 17 1938 is a former canadian politician a ch\n",
            "  artered accountant and lawyer by training lewis entered the\n",
            "* Stephen Harper                                     0.95975\n",
            "  stephen joseph harper pc mp born april 30 1959 is a canadian politician who is the 22nd an\n",
            "  d current prime minister of canada and the\n",
            "\n"
          ],
          "name": "stdout"
        }
      ]
    },
    {
      "cell_type": "code",
      "metadata": {
        "id": "ehCUKTi9IitV",
        "colab": {
          "base_uri": "https://localhost:8080/",
          "height": 586
        },
        "outputId": "d718c0d6-64e9-4ad3-d8ac-1c6fdab986d6"
      },
      "source": [
        "display_single_tf_idf_cluster(right_child_female_figures, map_word_to_index)"
      ],
      "execution_count": null,
      "outputs": [
        {
          "output_type": "stream",
          "text": [
            "113949:0.018\n",
            "113949:0.016\n",
            "113949:0.013\n",
            "113949:0.013\n",
            "113949:0.010\n",
            "\n",
            "* Lawrence W. Green                                  0.97499\n",
            "  lawrence w green is best known by health education researchers as the originator of the pr\n",
            "  ecede model and codeveloper of the precedeproceed model which has\n",
            "* James A. Joseph                                    0.97535\n",
            "  james a joseph born 1935 is an american former diplomatjoseph is professor of the practice\n",
            "   of public policy studies at duke university and founder of\n",
            "* Timothy Luke                                       0.97585\n",
            "  timothy w luke is university distinguished professor of political science in the college o\n",
            "  f liberal arts and human sciences as well as program chair of\n",
            "* Archie Brown                                       0.97625\n",
            "  archibald haworth brown cmg fba commonly known as archie brown born 10 may 1938 is a briti\n",
            "  sh political scientist and historian in 2005 he became\n",
            "* Jerry L. Martin                                    0.97689\n",
            "  jerry l martin is chairman emeritus of the american council of trustees and alumni he serv\n",
            "  ed as president of acta from its founding in 1995\n",
            "* Ren%C3%A9e Fox                                     0.97719\n",
            "  rene c fox a summa cum laude graduate of smith college in 1949 earned her phd in sociology\n",
            "   in 1954 from radcliffe college harvard university\n",
            "* Robert Bates (political scientist)                 0.97729\n",
            "  robert hinrichs bates born 1942 is an american political scientist he is eaton professor o\n",
            "  f the science of government in the departments of government and\n",
            "* Ferdinand K. Levy                                  0.97744\n",
            "  ferdinand k levy was a famous management scientist with several important contributions to\n",
            "   system analysis he was a professor at georgia tech from 1972 until\n",
            "\n"
          ],
          "name": "stdout"
        }
      ]
    },
    {
      "cell_type": "code",
      "metadata": {
        "id": "lq0pD5SOaw14"
      },
      "source": [
        "left_child_politicians_etc, right_child_politicians_etc = bipartition(politicians_etc, maxiter=10, num_runs=6, seed=1)"
      ],
      "execution_count": null,
      "outputs": []
    },
    {
      "cell_type": "code",
      "metadata": {
        "id": "XCnh8C26axSd",
        "colab": {
          "base_uri": "https://localhost:8080/",
          "height": 586
        },
        "outputId": "336d0771-adbb-48ad-d9e2-46577fb697cd"
      },
      "source": [
        "display_single_tf_idf_cluster(left_child_politicians_etc , map_word_to_index)"
      ],
      "execution_count": null,
      "outputs": [
        {
          "output_type": "stream",
          "text": [
            "113949:0.124\n",
            "113949:0.092\n",
            "113949:0.015\n",
            "113949:0.015\n",
            "113949:0.014\n",
            "\n",
            "* Janet Jackson                                      0.93383\n",
            "  janet damita jo jackson born may 16 1966 is an american singer songwriter and actress know\n",
            "  n for a series of sonically innovative socially conscious and\n",
            "* Barbara Hershey                                    0.93509\n",
            "  barbara hershey born barbara lynn herzstein february 5 1948 once known as barbara seagull \n",
            "  is an american actress in a career spanning nearly 50 years\n",
            "* Lauren Royal                                       0.93717\n",
            "  lauren royal born march 3 circa 1965 is a book writer from california royal has written bo\n",
            "  th historic and novelistic booksa selfproclaimed angels baseball fan\n",
            "* Alexandra Potter                                   0.93804\n",
            "  alexandra potter born 1970 is a british author of romantic comediesborn in bradford yorksh\n",
            "  ire england and educated at liverpool university gaining an honors degree in\n",
            "* Cher                                               0.93811\n",
            "  cher r born cherilyn sarkisian may 20 1946 is an american singer actress and television ho\n",
            "  st described as embodying female autonomy in a maledominated industry\n",
            "* Madonna (entertainer)                              0.93814\n",
            "  madonna louise ciccone tkoni born august 16 1958 is an american singer songwriter actress \n",
            "  and businesswoman she achieved popularity by pushing the boundaries of lyrical\n",
            "* Jane Fonda                                         0.93838\n",
            "  jane fonda born lady jayne seymour fonda december 21 1937 is an american actress writer po\n",
            "  litical activist former fashion model and fitness guru she is\n",
            "* Ellina Graypel                                     0.93930\n",
            "  ellina graypel born july 19 1972 is an awardwinning russian singersongwriter she was born \n",
            "  near the volga river in the heart of russia she spent\n",
            "\n"
          ],
          "name": "stdout"
        }
      ]
    },
    {
      "cell_type": "code",
      "metadata": {
        "id": "kR2NXRnRawcn",
        "colab": {
          "base_uri": "https://localhost:8080/",
          "height": 586
        },
        "outputId": "324a281f-d70c-4d3e-c975-6f14faed1c92"
      },
      "source": [
        "display_single_tf_idf_cluster(right_child_politicians_etc , map_word_to_index)"
      ],
      "execution_count": null,
      "outputs": [
        {
          "output_type": "stream",
          "text": [
            "113949:0.027\n",
            "113949:0.023\n",
            "113949:0.017\n",
            "113949:0.016\n",
            "113949:0.014\n",
            "\n",
            "* Julian Knowles                                     0.96905\n",
            "  julian knowles is an australian composer and performer specialising in new and emerging te\n",
            "  chnologies his creative work spans the fields of composition for theatre dance\n",
            "* Peter Combe                                        0.97079\n",
            "  peter combe born 20 october 1948 is an australian childrens entertainer and musicianmusica\n",
            "  l genre childrens musiche has had 22 releases including seven gold albums two\n",
            "* Craig Pruess                                       0.97120\n",
            "  craig pruess born 1950 is an american composer musician arranger and gold platinum record \n",
            "  producer who has been living in britain since 1973 his career\n",
            "* Ceiri Torjussen                                    0.97169\n",
            "  ceiri torjussen born 1976 is a composer who has contributed music to dozens of film and te\n",
            "  levision productions in the ushis music was described by\n",
            "* Brenton Broadstock                                 0.97192\n",
            "  brenton broadstock ao born 1952 is an australian composerbroadstock was born in melbourne \n",
            "  he studied history politics and music at monash university and later composition\n",
            "* Michael Peter Smith                                0.97316\n",
            "  michael peter smith born september 7 1941 is a chicagobased singersongwriter rolling stone\n",
            "   magazine once called him the greatest songwriter in the english language he\n",
            "* Marc Hoffman                                       0.97355\n",
            "  marc hoffman born april 16 1961 is a composer of concert music and music for film pianist \n",
            "  vocalist recording artist and music educator hoffman grew\n",
            "* Tom Bancroft                                       0.97377\n",
            "  tom bancroft born 1967 london is a british jazz drummer and composer he began drumming age\n",
            "  d seven and started off playing jazz with his father\n",
            "\n"
          ],
          "name": "stdout"
        }
      ]
    }
  ]
}