{
  "nbformat": 4,
  "nbformat_minor": 0,
  "metadata": {
    "kernelspec": {
      "name": "python3",
      "display_name": "Python 3"
    },
    "colab": {
      "name": "Regression Week 3: Assessing Fit (polynomial regression).ipynb",
      "provenance": [],
      "collapsed_sections": [
        "2mphBMvUSQsT",
        "KH4KTddTSQwd",
        "K1JxRU8rFj9n",
        "3AWh_SB8Go4g",
        "s41l8oCsHRwX",
        "Xz7lBatNH82I",
        "c4zGKPTFSQyT"
      ]
    }
  },
  "cells": [
    {
      "cell_type": "markdown",
      "metadata": {
        "id": "nE262I90SQot"
      },
      "source": [
        "# Regression Week 3: Assessing Fit (polynomial regression)"
      ]
    },
    {
      "cell_type": "code",
      "metadata": {
        "id": "QX_84tl4Sgwt",
        "colab": {
          "base_uri": "https://localhost:8080/",
          "height": 1000
        },
        "outputId": "197f5c26-fff1-4d16-c8b4-d8d982c41932"
      },
      "source": [
        "!pip install turicreate"
      ],
      "execution_count": null,
      "outputs": [
        {
          "output_type": "stream",
          "text": [
            "Collecting turicreate\n",
            "\u001b[?25l  Downloading https://files.pythonhosted.org/packages/13/4c/6dfd74ae72bb782feb6e04663a9b5bbe28d557bbe35c70d06cb8d6ad0368/turicreate-6.1-cp36-cp36m-manylinux1_x86_64.whl (91.4MB)\n",
            "\u001b[K     |████████████████████████████████| 91.4MB 64kB/s \n",
            "\u001b[?25hRequirement already satisfied: decorator>=4.0.9 in /usr/local/lib/python3.6/dist-packages (from turicreate) (4.4.1)\n",
            "Requirement already satisfied: scipy>=1.1.0 in /usr/local/lib/python3.6/dist-packages (from turicreate) (1.4.1)\n",
            "Requirement already satisfied: prettytable==0.7.2 in /usr/local/lib/python3.6/dist-packages (from turicreate) (0.7.2)\n",
            "Requirement already satisfied: six>=1.10.0 in /usr/local/lib/python3.6/dist-packages (from turicreate) (1.12.0)\n",
            "Requirement already satisfied: numpy in /usr/local/lib/python3.6/dist-packages (from turicreate) (1.17.5)\n",
            "Collecting tensorflow>=2.0.0\n",
            "\u001b[?25l  Downloading https://files.pythonhosted.org/packages/85/d4/c0cd1057b331bc38b65478302114194bd8e1b9c2bbc06e300935c0e93d90/tensorflow-2.1.0-cp36-cp36m-manylinux2010_x86_64.whl (421.8MB)\n",
            "\u001b[K     |████████████████████████████████| 421.8MB 36kB/s \n",
            "\u001b[?25hRequirement already satisfied: pillow>=5.2.0 in /usr/local/lib/python3.6/dist-packages (from turicreate) (6.2.2)\n",
            "Collecting resampy==0.2.1\n",
            "\u001b[?25l  Downloading https://files.pythonhosted.org/packages/14/b6/66a06d85474190b50aee1a6c09cdc95bb405ac47338b27e9b21409da1760/resampy-0.2.1.tar.gz (322kB)\n",
            "\u001b[K     |████████████████████████████████| 327kB 38.1MB/s \n",
            "\u001b[?25hRequirement already satisfied: pandas>=0.23.2 in /usr/local/lib/python3.6/dist-packages (from turicreate) (0.25.3)\n",
            "Collecting coremltools==3.3\n",
            "\u001b[?25l  Downloading https://files.pythonhosted.org/packages/77/19/611916d1ef326d38857d93af5ba184f6ad7491642e0fa4f9082e7d82f034/coremltools-3.3-cp36-none-manylinux1_x86_64.whl (3.4MB)\n",
            "\u001b[K     |████████████████████████████████| 3.4MB 31.5MB/s \n",
            "\u001b[?25hRequirement already satisfied: requests>=2.9.1 in /usr/local/lib/python3.6/dist-packages (from turicreate) (2.21.0)\n",
            "Requirement already satisfied: keras-applications>=1.0.8 in /usr/local/lib/python3.6/dist-packages (from tensorflow>=2.0.0->turicreate) (1.0.8)\n",
            "Requirement already satisfied: keras-preprocessing>=1.1.0 in /usr/local/lib/python3.6/dist-packages (from tensorflow>=2.0.0->turicreate) (1.1.0)\n",
            "Requirement already satisfied: protobuf>=3.8.0 in /usr/local/lib/python3.6/dist-packages (from tensorflow>=2.0.0->turicreate) (3.10.0)\n",
            "Requirement already satisfied: gast==0.2.2 in /usr/local/lib/python3.6/dist-packages (from tensorflow>=2.0.0->turicreate) (0.2.2)\n",
            "Requirement already satisfied: termcolor>=1.1.0 in /usr/local/lib/python3.6/dist-packages (from tensorflow>=2.0.0->turicreate) (1.1.0)\n",
            "Requirement already satisfied: grpcio>=1.8.6 in /usr/local/lib/python3.6/dist-packages (from tensorflow>=2.0.0->turicreate) (1.27.1)\n",
            "Requirement already satisfied: wrapt>=1.11.1 in /usr/local/lib/python3.6/dist-packages (from tensorflow>=2.0.0->turicreate) (1.11.2)\n",
            "Requirement already satisfied: wheel>=0.26; python_version >= \"3\" in /usr/local/lib/python3.6/dist-packages (from tensorflow>=2.0.0->turicreate) (0.34.2)\n",
            "Collecting tensorboard<2.2.0,>=2.1.0\n",
            "\u001b[?25l  Downloading https://files.pythonhosted.org/packages/d9/41/bbf49b61370e4f4d245d4c6051dfb6db80cec672605c91b1652ac8cc3d38/tensorboard-2.1.1-py3-none-any.whl (3.8MB)\n",
            "\u001b[K     |████████████████████████████████| 3.9MB 45.1MB/s \n",
            "\u001b[?25hRequirement already satisfied: absl-py>=0.7.0 in /usr/local/lib/python3.6/dist-packages (from tensorflow>=2.0.0->turicreate) (0.9.0)\n",
            "Collecting tensorflow-estimator<2.2.0,>=2.1.0rc0\n",
            "\u001b[?25l  Downloading https://files.pythonhosted.org/packages/18/90/b77c328a1304437ab1310b463e533fa7689f4bfc41549593056d812fab8e/tensorflow_estimator-2.1.0-py2.py3-none-any.whl (448kB)\n",
            "\u001b[K     |████████████████████████████████| 450kB 51.1MB/s \n",
            "\u001b[?25hRequirement already satisfied: opt-einsum>=2.3.2 in /usr/local/lib/python3.6/dist-packages (from tensorflow>=2.0.0->turicreate) (3.1.0)\n",
            "Requirement already satisfied: astor>=0.6.0 in /usr/local/lib/python3.6/dist-packages (from tensorflow>=2.0.0->turicreate) (0.8.1)\n",
            "Requirement already satisfied: google-pasta>=0.1.6 in /usr/local/lib/python3.6/dist-packages (from tensorflow>=2.0.0->turicreate) (0.1.8)\n",
            "Requirement already satisfied: numba>=0.32 in /usr/local/lib/python3.6/dist-packages (from resampy==0.2.1->turicreate) (0.47.0)\n",
            "Requirement already satisfied: python-dateutil>=2.6.1 in /usr/local/lib/python3.6/dist-packages (from pandas>=0.23.2->turicreate) (2.6.1)\n",
            "Requirement already satisfied: pytz>=2017.2 in /usr/local/lib/python3.6/dist-packages (from pandas>=0.23.2->turicreate) (2018.9)\n",
            "Requirement already satisfied: certifi>=2017.4.17 in /usr/local/lib/python3.6/dist-packages (from requests>=2.9.1->turicreate) (2019.11.28)\n",
            "Requirement already satisfied: urllib3<1.25,>=1.21.1 in /usr/local/lib/python3.6/dist-packages (from requests>=2.9.1->turicreate) (1.24.3)\n",
            "Requirement already satisfied: chardet<3.1.0,>=3.0.2 in /usr/local/lib/python3.6/dist-packages (from requests>=2.9.1->turicreate) (3.0.4)\n",
            "Requirement already satisfied: idna<2.9,>=2.5 in /usr/local/lib/python3.6/dist-packages (from requests>=2.9.1->turicreate) (2.8)\n",
            "Requirement already satisfied: h5py in /usr/local/lib/python3.6/dist-packages (from keras-applications>=1.0.8->tensorflow>=2.0.0->turicreate) (2.8.0)\n",
            "Requirement already satisfied: setuptools in /usr/local/lib/python3.6/dist-packages (from protobuf>=3.8.0->tensorflow>=2.0.0->turicreate) (45.2.0)\n",
            "Requirement already satisfied: google-auth-oauthlib<0.5,>=0.4.1 in /usr/local/lib/python3.6/dist-packages (from tensorboard<2.2.0,>=2.1.0->tensorflow>=2.0.0->turicreate) (0.4.1)\n",
            "Requirement already satisfied: werkzeug>=0.11.15 in /usr/local/lib/python3.6/dist-packages (from tensorboard<2.2.0,>=2.1.0->tensorflow>=2.0.0->turicreate) (1.0.0)\n",
            "Requirement already satisfied: markdown>=2.6.8 in /usr/local/lib/python3.6/dist-packages (from tensorboard<2.2.0,>=2.1.0->tensorflow>=2.0.0->turicreate) (3.2.1)\n",
            "Requirement already satisfied: google-auth<2,>=1.6.3 in /usr/local/lib/python3.6/dist-packages (from tensorboard<2.2.0,>=2.1.0->tensorflow>=2.0.0->turicreate) (1.7.2)\n",
            "Requirement already satisfied: llvmlite>=0.31.0dev0 in /usr/local/lib/python3.6/dist-packages (from numba>=0.32->resampy==0.2.1->turicreate) (0.31.0)\n",
            "Requirement already satisfied: requests-oauthlib>=0.7.0 in /usr/local/lib/python3.6/dist-packages (from google-auth-oauthlib<0.5,>=0.4.1->tensorboard<2.2.0,>=2.1.0->tensorflow>=2.0.0->turicreate) (1.3.0)\n",
            "Requirement already satisfied: cachetools<3.2,>=2.0.0 in /usr/local/lib/python3.6/dist-packages (from google-auth<2,>=1.6.3->tensorboard<2.2.0,>=2.1.0->tensorflow>=2.0.0->turicreate) (3.1.1)\n",
            "Requirement already satisfied: rsa<4.1,>=3.1.4 in /usr/local/lib/python3.6/dist-packages (from google-auth<2,>=1.6.3->tensorboard<2.2.0,>=2.1.0->tensorflow>=2.0.0->turicreate) (4.0)\n",
            "Requirement already satisfied: pyasn1-modules>=0.2.1 in /usr/local/lib/python3.6/dist-packages (from google-auth<2,>=1.6.3->tensorboard<2.2.0,>=2.1.0->tensorflow>=2.0.0->turicreate) (0.2.8)\n",
            "Requirement already satisfied: oauthlib>=3.0.0 in /usr/local/lib/python3.6/dist-packages (from requests-oauthlib>=0.7.0->google-auth-oauthlib<0.5,>=0.4.1->tensorboard<2.2.0,>=2.1.0->tensorflow>=2.0.0->turicreate) (3.1.0)\n",
            "Requirement already satisfied: pyasn1>=0.1.3 in /usr/local/lib/python3.6/dist-packages (from rsa<4.1,>=3.1.4->google-auth<2,>=1.6.3->tensorboard<2.2.0,>=2.1.0->tensorflow>=2.0.0->turicreate) (0.4.8)\n",
            "Building wheels for collected packages: resampy\n",
            "  Building wheel for resampy (setup.py) ... \u001b[?25l\u001b[?25hdone\n",
            "  Created wheel for resampy: filename=resampy-0.2.1-cp36-none-any.whl size=320850 sha256=ddeec42a406fa2703379f93e5775ecc2465ecf3a83eff30f34131e1175df1647\n",
            "  Stored in directory: /root/.cache/pip/wheels/ff/4f/ed/2e6c676c23efe5394bb40ade50662e90eb46e29b48324c5f9b\n",
            "Successfully built resampy\n",
            "Installing collected packages: tensorboard, tensorflow-estimator, tensorflow, resampy, coremltools, turicreate\n",
            "  Found existing installation: tensorboard 1.15.0\n",
            "    Uninstalling tensorboard-1.15.0:\n",
            "      Successfully uninstalled tensorboard-1.15.0\n",
            "  Found existing installation: tensorflow-estimator 1.15.1\n",
            "    Uninstalling tensorflow-estimator-1.15.1:\n",
            "      Successfully uninstalled tensorflow-estimator-1.15.1\n",
            "  Found existing installation: tensorflow 1.15.0\n",
            "    Uninstalling tensorflow-1.15.0:\n",
            "      Successfully uninstalled tensorflow-1.15.0\n",
            "  Found existing installation: resampy 0.2.2\n",
            "    Uninstalling resampy-0.2.2:\n",
            "      Successfully uninstalled resampy-0.2.2\n",
            "Successfully installed coremltools-3.3 resampy-0.2.1 tensorboard-2.1.1 tensorflow-2.1.0 tensorflow-estimator-2.1.0 turicreate-6.1\n"
          ],
          "name": "stdout"
        }
      ]
    },
    {
      "cell_type": "code",
      "metadata": {
        "id": "6HOCguedTPPR",
        "colab": {
          "base_uri": "https://localhost:8080/",
          "height": 129
        },
        "outputId": "c8d9020c-ffa7-432f-dedd-4d9670e9967d"
      },
      "source": [
        "import os.path\n",
        "from google.colab import drive\n",
        "\n",
        "# mount Google Drive to /content/drive/My Drive/\n",
        "if os.path.isdir(\"/content/drive/My Drive/\"):\n",
        "  print(\"Google Drive already mounted\")\n",
        "else:\n",
        "  drive.mount('/content/drive')"
      ],
      "execution_count": null,
      "outputs": [
        {
          "output_type": "stream",
          "text": [
            "Go to this URL in a browser: https://accounts.google.com/o/oauth2/auth?client_id=947318989803-6bn6qk8qdgf4n4g3pfee6491hc0brc4i.apps.googleusercontent.com&redirect_uri=urn%3aietf%3awg%3aoauth%3a2.0%3aoob&response_type=code&scope=email%20https%3a%2f%2fwww.googleapis.com%2fauth%2fdocs.test%20https%3a%2f%2fwww.googleapis.com%2fauth%2fdrive%20https%3a%2f%2fwww.googleapis.com%2fauth%2fdrive.photos.readonly%20https%3a%2f%2fwww.googleapis.com%2fauth%2fpeopleapi.readonly\n",
            "\n",
            "Enter your authorization code:\n",
            "··········\n",
            "Mounted at /content/drive\n"
          ],
          "name": "stdout"
        }
      ]
    },
    {
      "cell_type": "code",
      "metadata": {
        "id": "9ppl43EMTi5a",
        "colab": {
          "base_uri": "https://localhost:8080/",
          "height": 329
        },
        "outputId": "3de47251-b251-49a3-94a3-7b635f1e207c"
      },
      "source": [
        "import os.path\n",
        "import urllib.request\n",
        "import tarfile\n",
        "import zipfile\n",
        "import gzip\n",
        "from shutil import copy\n",
        "\n",
        "def fetch_remote_datafile(filename, remote_url):\n",
        "  if os.path.isfile(\"./\" + filename):\n",
        "    print(\"already have \" + filename + \" in workspace\")\n",
        "    return\n",
        "  print(\"fetching \" + filename + \" from \" + remote_url + \"...\")\n",
        "  urllib.request.urlretrieve(remote_url, \"./\" + filename)\n",
        "\n",
        "def cache_datafile_in_drive(filename):\n",
        "  if os.path.isfile(\"./\" + filename) == False:\n",
        "    print(\"cannot cache \" + filename + \", it is not in workspace\")\n",
        "    return\n",
        "  \n",
        "  data_drive_path = \"/content/drive/My Drive/Colab Notebooks/\"\n",
        "  if os.path.isfile(data_drive_path + filename):\n",
        "    print(\"\" + filename + \" has already been stored in Google Drive\")\n",
        "  else:\n",
        "    print(\"copying \" + filename + \" to \" + data_drive_path)\n",
        "    copy(\"./\" + filename, data_drive_path)\n",
        "  \n",
        "\n",
        "def load_datafile_from_drive(filename, remote_url=None):\n",
        "  data_drive_path = \"/content/drive/My Drive/Colab Notebooks/\"\n",
        "  if os.path.isfile(\"./\" + filename):\n",
        "    print(\"already have \" + filename + \" in workspace\")\n",
        "  elif os.path.isfile(data_drive_path + filename):\n",
        "    print(\"have \" + filename + \" in Google Drive, copying to workspace...\")\n",
        "    copy(data_drive_path + filename, \".\")\n",
        "  elif remote_url != None:\n",
        "    fetch_remote_datafile(filename, remote_url)\n",
        "  else:\n",
        "    print(\"error: you need to manually download \" + filename + \" and put in drive\")\n",
        "    \n",
        "def extract_datafile(filename, expected_extract_artifact=None):\n",
        "  if expected_extract_artifact != None and (os.path.isfile(expected_extract_artifact) or os.path.isdir(expected_extract_artifact)):\n",
        "    \n",
        "    print(\"files in \" + filename + \" have already been extracted\")\n",
        "  elif os.path.isfile(\"./\" + filename) == False:\n",
        "    print(\"error: cannot extract \" + filename + \", it is not in the workspace\")\n",
        "  else:\n",
        "    extension = filename.split('.')[-1]\n",
        "    if extension == \"zip\":\n",
        "      print(\"extracting \" + filename + \"...\")\n",
        "      data_file = open(filename, \"rb\")\n",
        "      z = zipfile.ZipFile(data_file)\n",
        "      for name in z.namelist():\n",
        "          print(\"    extracting file\", name)\n",
        "          z.extract(name, \"./\")\n",
        "      data_file.close()\n",
        "    elif extension == \"gz\":\n",
        "      print(\"extracting \" + filename + \"...\")\n",
        "      if filename.split('.')[-2] == \"tar\":\n",
        "        tar = tarfile.open(filename)\n",
        "        tar.extractall()\n",
        "        tar.close()\n",
        "      else:\n",
        "        data_zip_file = gzip.GzipFile(filename, 'rb')\n",
        "        data = data_zip_file.read()\n",
        "        data_zip_file.close()\n",
        "        extracted_file = open('.'.join(filename.split('.')[0:-1]), 'wb')\n",
        "        extracted_file.write(data)\n",
        "        extracted_file.close()\n",
        "    elif extension == \"tar\":\n",
        "      print(\"extracting \" + filename + \"...\")\n",
        "      tar = tarfile.open(filename)\n",
        "      tar.extractall()\n",
        "      tar.close()\n",
        "    elif extension == \"csv\":\n",
        "      print(\"do not need to extract csv\")\n",
        "    else:\n",
        "      print(\"cannot extract \" + filename)\n",
        "      \n",
        "def load_cache_extract_datafile(filename, expected_extract_artifact=None, remote_url=None):\n",
        "  load_datafile_from_drive(filename, remote_url)\n",
        "  extract_datafile(filename, expected_extract_artifact)\n",
        "  cache_datafile_in_drive(filename)\n",
        "  \n",
        "load_cache_extract_datafile(\"home_data.sframe.zip\", \"home_data.sframe\", \"https://d3c33hcgiwev3.cloudfront.net/00FsKOIoEemELQpo9cj5Ig_579152614f2b4a399ac90a939360749e_home_data.sframe.zip?Expires=1583884800&Signature=Y3dA-4ZxuWRSi7DaXvG3EHbMMW1DyTy6FGM4LSgyQusdmjPGSgkZi9tCFuQnCmjSXErfiNwGR2o8oNsBuijNQHk06PiB7JIjXNF3pYbOcu5ng3PWbBTgZjPuIc1jAz-sjBBJVfjGZ032keNsMMVIuJ6NrqVXaK8-U0sGkAtQYwI_&Key-Pair-Id=APKAJLTNE6QMUY6HBC5A\")\n"
      ],
      "execution_count": null,
      "outputs": [
        {
          "output_type": "stream",
          "text": [
            "have home_data.sframe.zip in Google Drive, copying to workspace...\n",
            "extracting home_data.sframe.zip...\n",
            "    extracting file home_data.sframe/\n",
            "    extracting file home_data.sframe/m_1ce96d9d245ca490.0000\n",
            "    extracting file __MACOSX/\n",
            "    extracting file __MACOSX/home_data.sframe/\n",
            "    extracting file __MACOSX/home_data.sframe/._m_1ce96d9d245ca490.0000\n",
            "    extracting file home_data.sframe/dir_archive.ini\n",
            "    extracting file __MACOSX/home_data.sframe/._dir_archive.ini\n",
            "    extracting file home_data.sframe/m_1ce96d9d245ca490.frame_idx\n",
            "    extracting file __MACOSX/home_data.sframe/._m_1ce96d9d245ca490.frame_idx\n",
            "    extracting file home_data.sframe/objects.bin\n",
            "    extracting file __MACOSX/home_data.sframe/._objects.bin\n",
            "    extracting file home_data.sframe/m_1ce96d9d245ca490.sidx\n",
            "    extracting file __MACOSX/home_data.sframe/._m_1ce96d9d245ca490.sidx\n",
            "    extracting file __MACOSX/._home_data.sframe\n",
            "home_data.sframe.zip has already been stored in Google Drive\n"
          ],
          "name": "stdout"
        }
      ]
    },
    {
      "cell_type": "markdown",
      "metadata": {
        "id": "fOQZRZF0SQpB"
      },
      "source": [
        "In this notebook you will compare different regression models in order to assess which model fits best. We will be using polynomial regression as a means to examine this topic. In particular you will:\n",
        "* Write a function to take an SArray and a degree and return an SFrame where each column is the SArray to a polynomial value up to the total degree e.g. degree = 3 then column 1 is the SArray column 2 is the SArray squared and column 3 is the SArray cubed\n",
        "* Use matplotlib to visualize polynomial regressions\n",
        "* Use matplotlib to visualize the same polynomial degree on different subsets of the data\n",
        "* Use a validation set to select a polynomial degree\n",
        "* Assess the final fit using test data\n",
        "\n",
        "We will continue to use the House data from previous notebooks."
      ]
    },
    {
      "cell_type": "markdown",
      "metadata": {
        "id": "JN6jj3IsSQpS"
      },
      "source": [
        "# Fire up Turi Create"
      ]
    },
    {
      "cell_type": "code",
      "metadata": {
        "id": "GGoTh40USQpo"
      },
      "source": [
        "import turicreate"
      ],
      "execution_count": null,
      "outputs": []
    },
    {
      "cell_type": "markdown",
      "metadata": {
        "id": "iSprL5aUSQqT"
      },
      "source": [
        "Next we're going to write a polynomial function that takes an SArray and a maximal degree and returns an SFrame with columns containing the SArray to all the powers up to the maximal degree.\n",
        "\n",
        "The easiest way to apply a power to an SArray is to use the .apply() and lambda x: functions. \n",
        "For example to take the example array and compute the third power we can do as follows: (note running this cell the first time may take longer than expected since it loads Turi Create)"
      ]
    },
    {
      "cell_type": "code",
      "metadata": {
        "id": "1yv0LQOvSQqa",
        "colab": {
          "base_uri": "https://localhost:8080/",
          "height": 54
        },
        "outputId": "9a34c072-0094-4e53-dacb-0da106d15d89"
      },
      "source": [
        "tmp = turicreate.SArray([1., 2., 3.])\n",
        "tmp_cubed = tmp.apply(lambda x: x**3)\n",
        "print(tmp)\n",
        "print(tmp_cubed)"
      ],
      "execution_count": null,
      "outputs": [
        {
          "output_type": "stream",
          "text": [
            "[1.0, 2.0, 3.0]\n",
            "[1.0, 8.0, 27.0]\n"
          ],
          "name": "stdout"
        }
      ]
    },
    {
      "cell_type": "markdown",
      "metadata": {
        "id": "WdBM-6FYSQqx"
      },
      "source": [
        "We can create an empty SFrame using turicreate.SFrame() and then add any columns to it with ex_sframe['column_name'] = value. For example we create an empty SFrame and make the column 'power_1' to be the first power of tmp (i.e. tmp itself)."
      ]
    },
    {
      "cell_type": "code",
      "metadata": {
        "id": "rAb8vtF6SQq5",
        "colab": {
          "base_uri": "https://localhost:8080/",
          "height": 182
        },
        "outputId": "9bdf30c4-7016-453e-d0ba-2b119f21f8e3"
      },
      "source": [
        "ex_sframe = turicreate.SFrame()\n",
        "ex_sframe['power_1'] = tmp\n",
        "print(ex_sframe)"
      ],
      "execution_count": null,
      "outputs": [
        {
          "output_type": "stream",
          "text": [
            "+---------+\n",
            "| power_1 |\n",
            "+---------+\n",
            "|   1.0   |\n",
            "|   2.0   |\n",
            "|   3.0   |\n",
            "+---------+\n",
            "[3 rows x 1 columns]\n",
            "\n"
          ],
          "name": "stdout"
        }
      ]
    },
    {
      "cell_type": "markdown",
      "metadata": {
        "id": "GevvYLTvSQrQ"
      },
      "source": [
        "# Polynomial_sframe function"
      ]
    },
    {
      "cell_type": "markdown",
      "metadata": {
        "id": "YZjkGi_BSQrb"
      },
      "source": [
        "Using the hints above complete the following function to create an SFrame consisting of the powers of an SArray up to a specific degree:"
      ]
    },
    {
      "cell_type": "code",
      "metadata": {
        "id": "dED-H2eKSQrl"
      },
      "source": [
        "def polynomial_sframe(feature, degree):\n",
        "    # assume that degree >= 1\n",
        "    # initialize the SFrame:\n",
        "    poly_sframe = turicreate.SFrame()\n",
        "    # and set poly_sframe['power_1'] equal to the passed feature\n",
        "    poly_sframe['power_1'] = feature\n",
        "    # first check if degree > 1\n",
        "    if degree > 1:\n",
        "        # then loop over the remaining degrees:\n",
        "        # range usually starts at 0 and stops at the endpoint-1. We want it to start at 2 and stop at degree\n",
        "        for power in range(2, degree+1): \n",
        "            # first we'll give the column a name:\n",
        "            name = 'power_' + str(power)\n",
        "            # then assign poly_sframe[name] to the appropriate power of feature\n",
        "            poly_sframe[name] = feature.apply(lambda x:x**power)\n",
        "    return poly_sframe"
      ],
      "execution_count": null,
      "outputs": []
    },
    {
      "cell_type": "markdown",
      "metadata": {
        "id": "ArUH2N3wSQr7"
      },
      "source": [
        "To test your function consider the smaller tmp variable and what you would expect the outcome of the following call:"
      ]
    },
    {
      "cell_type": "code",
      "metadata": {
        "id": "OnjQCQ7OSQr_",
        "colab": {
          "base_uri": "https://localhost:8080/",
          "height": 182
        },
        "outputId": "d1f99fa1-1ad4-42ea-fcee-7415882d8bad"
      },
      "source": [
        "print(polynomial_sframe(tmp, 3))"
      ],
      "execution_count": null,
      "outputs": [
        {
          "output_type": "stream",
          "text": [
            "+---------+---------+---------+\n",
            "| power_1 | power_2 | power_3 |\n",
            "+---------+---------+---------+\n",
            "|   1.0   |   1.0   |   1.0   |\n",
            "|   2.0   |   4.0   |   8.0   |\n",
            "|   3.0   |   9.0   |   27.0  |\n",
            "+---------+---------+---------+\n",
            "[3 rows x 3 columns]\n",
            "\n"
          ],
          "name": "stdout"
        }
      ]
    },
    {
      "cell_type": "markdown",
      "metadata": {
        "id": "2mphBMvUSQsT"
      },
      "source": [
        "# Visualizing polynomial regression"
      ]
    },
    {
      "cell_type": "markdown",
      "metadata": {
        "id": "ULT8gCwhSQsb"
      },
      "source": [
        "Let's use matplotlib to visualize what a polynomial regression looks like on some real data."
      ]
    },
    {
      "cell_type": "code",
      "metadata": {
        "id": "ku1RKGmuSQsg"
      },
      "source": [
        "sales = turicreate.SFrame('home_data.sframe/')"
      ],
      "execution_count": null,
      "outputs": []
    },
    {
      "cell_type": "markdown",
      "metadata": {
        "id": "E3dUWOTNSQsw"
      },
      "source": [
        "As in Week 3, we will use the sqft_living variable. For plotting purposes (connecting the dots), you'll need to sort by the values of sqft_living. For houses with identical square footage, we break the tie by their prices."
      ]
    },
    {
      "cell_type": "code",
      "metadata": {
        "id": "K1hRZcINSQs2"
      },
      "source": [
        "sales = sales.sort(['sqft_living', 'price'])"
      ],
      "execution_count": null,
      "outputs": []
    },
    {
      "cell_type": "markdown",
      "metadata": {
        "id": "M7G13MdHSQtI"
      },
      "source": [
        "Let's start with a degree 1 polynomial using 'sqft_living' (i.e. a line) to predict 'price' and plot what it looks like."
      ]
    },
    {
      "cell_type": "code",
      "metadata": {
        "id": "QtRvPZPySQtP"
      },
      "source": [
        "poly1_data = polynomial_sframe(sales['sqft_living'], 1)\n",
        "poly1_data['price'] = sales['price'] # add price to the data since it's the target"
      ],
      "execution_count": null,
      "outputs": []
    },
    {
      "cell_type": "markdown",
      "metadata": {
        "id": "1o5cMhnjSQti"
      },
      "source": [
        "NOTE: for all the models in this notebook use validation_set = None to ensure that all results are consistent across users."
      ]
    },
    {
      "cell_type": "code",
      "metadata": {
        "id": "76WYnJhGSQtq",
        "colab": {
          "base_uri": "https://localhost:8080/",
          "height": 260
        },
        "outputId": "952f1aa0-2d3f-47f4-cdf6-70af4b9edc66"
      },
      "source": [
        "model1 = turicreate.linear_regression.create(poly1_data, target = 'price', features = ['power_1'], validation_set = None)"
      ],
      "execution_count": null,
      "outputs": [
        {
          "output_type": "display_data",
          "data": {
            "text/html": [
              "<pre>Linear regression:</pre>"
            ],
            "text/plain": [
              "Linear regression:"
            ]
          },
          "metadata": {
            "tags": []
          }
        },
        {
          "output_type": "display_data",
          "data": {
            "text/html": [
              "<pre>--------------------------------------------------------</pre>"
            ],
            "text/plain": [
              "--------------------------------------------------------"
            ]
          },
          "metadata": {
            "tags": []
          }
        },
        {
          "output_type": "display_data",
          "data": {
            "text/html": [
              "<pre>Number of examples          : 21613</pre>"
            ],
            "text/plain": [
              "Number of examples          : 21613"
            ]
          },
          "metadata": {
            "tags": []
          }
        },
        {
          "output_type": "display_data",
          "data": {
            "text/html": [
              "<pre>Number of features          : 1</pre>"
            ],
            "text/plain": [
              "Number of features          : 1"
            ]
          },
          "metadata": {
            "tags": []
          }
        },
        {
          "output_type": "display_data",
          "data": {
            "text/html": [
              "<pre>Number of unpacked features : 1</pre>"
            ],
            "text/plain": [
              "Number of unpacked features : 1"
            ]
          },
          "metadata": {
            "tags": []
          }
        },
        {
          "output_type": "display_data",
          "data": {
            "text/html": [
              "<pre>Number of coefficients    : 2</pre>"
            ],
            "text/plain": [
              "Number of coefficients    : 2"
            ]
          },
          "metadata": {
            "tags": []
          }
        },
        {
          "output_type": "display_data",
          "data": {
            "text/html": [
              "<pre>Starting Newton Method</pre>"
            ],
            "text/plain": [
              "Starting Newton Method"
            ]
          },
          "metadata": {
            "tags": []
          }
        },
        {
          "output_type": "display_data",
          "data": {
            "text/html": [
              "<pre>--------------------------------------------------------</pre>"
            ],
            "text/plain": [
              "--------------------------------------------------------"
            ]
          },
          "metadata": {
            "tags": []
          }
        },
        {
          "output_type": "display_data",
          "data": {
            "text/html": [
              "<pre>+-----------+----------+--------------+--------------------+---------------------------------+</pre>"
            ],
            "text/plain": [
              "+-----------+----------+--------------+--------------------+---------------------------------+"
            ]
          },
          "metadata": {
            "tags": []
          }
        },
        {
          "output_type": "display_data",
          "data": {
            "text/html": [
              "<pre>| Iteration | Passes   | Elapsed Time | Training Max Error | Training Root-Mean-Square Error |</pre>"
            ],
            "text/plain": [
              "| Iteration | Passes   | Elapsed Time | Training Max Error | Training Root-Mean-Square Error |"
            ]
          },
          "metadata": {
            "tags": []
          }
        },
        {
          "output_type": "display_data",
          "data": {
            "text/html": [
              "<pre>+-----------+----------+--------------+--------------------+---------------------------------+</pre>"
            ],
            "text/plain": [
              "+-----------+----------+--------------+--------------------+---------------------------------+"
            ]
          },
          "metadata": {
            "tags": []
          }
        },
        {
          "output_type": "display_data",
          "data": {
            "text/html": [
              "<pre>| 1         | 2        | 1.008676     | 4362074.696077     | 261440.790724                   |</pre>"
            ],
            "text/plain": [
              "| 1         | 2        | 1.008676     | 4362074.696077     | 261440.790724                   |"
            ]
          },
          "metadata": {
            "tags": []
          }
        },
        {
          "output_type": "display_data",
          "data": {
            "text/html": [
              "<pre>+-----------+----------+--------------+--------------------+---------------------------------+</pre>"
            ],
            "text/plain": [
              "+-----------+----------+--------------+--------------------+---------------------------------+"
            ]
          },
          "metadata": {
            "tags": []
          }
        },
        {
          "output_type": "display_data",
          "data": {
            "text/html": [
              "<pre>SUCCESS: Optimal solution found.</pre>"
            ],
            "text/plain": [
              "SUCCESS: Optimal solution found."
            ]
          },
          "metadata": {
            "tags": []
          }
        },
        {
          "output_type": "display_data",
          "data": {
            "text/html": [
              "<pre></pre>"
            ],
            "text/plain": [
              ""
            ]
          },
          "metadata": {
            "tags": []
          }
        }
      ]
    },
    {
      "cell_type": "code",
      "metadata": {
        "id": "nY4Iwl7mSQt7",
        "colab": {
          "base_uri": "https://localhost:8080/",
          "height": 94
        },
        "outputId": "e5b4dd99-b444-4059-bbba-0f0bca152849"
      },
      "source": [
        "#let's take a look at the weights before we plot\n",
        "model1.coefficients"
      ],
      "execution_count": null,
      "outputs": [
        {
          "output_type": "execute_result",
          "data": {
            "text/html": [
              "<div style=\"max-height:1000px;max-width:1500px;overflow:auto;\"><table frame=\"box\" rules=\"cols\">\n",
              "    <tr>\n",
              "        <th style=\"padding-left: 1em; padding-right: 1em; text-align: center\">name</th>\n",
              "        <th style=\"padding-left: 1em; padding-right: 1em; text-align: center\">index</th>\n",
              "        <th style=\"padding-left: 1em; padding-right: 1em; text-align: center\">value</th>\n",
              "        <th style=\"padding-left: 1em; padding-right: 1em; text-align: center\">stderr</th>\n",
              "    </tr>\n",
              "    <tr>\n",
              "        <td style=\"padding-left: 1em; padding-right: 1em; text-align: center; vertical-align: top\">(intercept)</td>\n",
              "        <td style=\"padding-left: 1em; padding-right: 1em; text-align: center; vertical-align: top\">None</td>\n",
              "        <td style=\"padding-left: 1em; padding-right: 1em; text-align: center; vertical-align: top\">-43579.08525144821</td>\n",
              "        <td style=\"padding-left: 1em; padding-right: 1em; text-align: center; vertical-align: top\">4402.689697427714</td>\n",
              "    </tr>\n",
              "    <tr>\n",
              "        <td style=\"padding-left: 1em; padding-right: 1em; text-align: center; vertical-align: top\">power_1</td>\n",
              "        <td style=\"padding-left: 1em; padding-right: 1em; text-align: center; vertical-align: top\">None</td>\n",
              "        <td style=\"padding-left: 1em; padding-right: 1em; text-align: center; vertical-align: top\">280.6227708858465</td>\n",
              "        <td style=\"padding-left: 1em; padding-right: 1em; text-align: center; vertical-align: top\">1.936398555132121</td>\n",
              "    </tr>\n",
              "</table>\n",
              "[2 rows x 4 columns]<br/>\n",
              "</div>"
            ],
            "text/plain": [
              "Columns:\n",
              "\tname\tstr\n",
              "\tindex\tstr\n",
              "\tvalue\tfloat\n",
              "\tstderr\tfloat\n",
              "\n",
              "Rows: 2\n",
              "\n",
              "Data:\n",
              "+-------------+-------+--------------------+-------------------+\n",
              "|     name    | index |       value        |       stderr      |\n",
              "+-------------+-------+--------------------+-------------------+\n",
              "| (intercept) |  None | -43579.08525144821 | 4402.689697427714 |\n",
              "|   power_1   |  None | 280.6227708858465  | 1.936398555132121 |\n",
              "+-------------+-------+--------------------+-------------------+\n",
              "[2 rows x 4 columns]"
            ]
          },
          "metadata": {
            "tags": []
          },
          "execution_count": 16
        }
      ]
    },
    {
      "cell_type": "code",
      "metadata": {
        "id": "fHPBmy8dSQuM"
      },
      "source": [
        "import matplotlib.pyplot as plt\n",
        "%matplotlib inline"
      ],
      "execution_count": null,
      "outputs": []
    },
    {
      "cell_type": "code",
      "metadata": {
        "id": "u1eoPwFjSQud",
        "colab": {
          "base_uri": "https://localhost:8080/",
          "height": 304
        },
        "outputId": "5dfc0dcc-44b0-45fd-cfcb-b1aeacf05d3d"
      },
      "source": [
        "plt.plot(poly1_data['power_1'],poly1_data['price'],'.',\n",
        "         poly1_data['power_1'], model1.predict(poly1_data),'-')"
      ],
      "execution_count": null,
      "outputs": [
        {
          "output_type": "execute_result",
          "data": {
            "text/plain": [
              "[<matplotlib.lines.Line2D at 0x7f94e80642b0>,\n",
              " <matplotlib.lines.Line2D at 0x7f94e8064438>]"
            ]
          },
          "metadata": {
            "tags": []
          },
          "execution_count": 19
        },
        {
          "output_type": "display_data",
          "data": {
            "image/png": "[encoded data removed]",
            "text/plain": [
              "<Figure size 432x288 with 1 Axes>"
            ]
          },
          "metadata": {
            "tags": []
          }
        }
      ]
    },
    {
      "cell_type": "markdown",
      "metadata": {
        "id": "tHomXaESSQur"
      },
      "source": [
        "Let's unpack that plt.plot() command. The first pair of SArrays we passed are the 1st power of sqft and the actual price we then ask it to print these as dots '.'. The next pair we pass is the 1st power of sqft and the predicted values from the linear model. We ask these to be plotted as a line '-'. \n",
        "\n",
        "We can see, not surprisingly, that the predicted values all fall on a line, specifically the one with slope 280 and intercept -43579. What if we wanted to plot a second degree polynomial?"
      ]
    },
    {
      "cell_type": "code",
      "metadata": {
        "id": "gR5vmEiFSQuy",
        "colab": {
          "base_uri": "https://localhost:8080/",
          "height": 260
        },
        "outputId": "a6f973fe-9849-4ec8-e803-26248c57e1a7"
      },
      "source": [
        "poly2_data = polynomial_sframe(sales['sqft_living'], 2)\n",
        "my_features = poly2_data.column_names() # get the name of the features\n",
        "poly2_data['price'] = sales['price'] # add price to the data since it's the target\n",
        "model2 = turicreate.linear_regression.create(poly2_data, target = 'price', features = my_features, validation_set = None)"
      ],
      "execution_count": null,
      "outputs": [
        {
          "output_type": "display_data",
          "data": {
            "text/html": [
              "<pre>Linear regression:</pre>"
            ],
            "text/plain": [
              "Linear regression:"
            ]
          },
          "metadata": {
            "tags": []
          }
        },
        {
          "output_type": "display_data",
          "data": {
            "text/html": [
              "<pre>--------------------------------------------------------</pre>"
            ],
            "text/plain": [
              "--------------------------------------------------------"
            ]
          },
          "metadata": {
            "tags": []
          }
        },
        {
          "output_type": "display_data",
          "data": {
            "text/html": [
              "<pre>Number of examples          : 21613</pre>"
            ],
            "text/plain": [
              "Number of examples          : 21613"
            ]
          },
          "metadata": {
            "tags": []
          }
        },
        {
          "output_type": "display_data",
          "data": {
            "text/html": [
              "<pre>Number of features          : 2</pre>"
            ],
            "text/plain": [
              "Number of features          : 2"
            ]
          },
          "metadata": {
            "tags": []
          }
        },
        {
          "output_type": "display_data",
          "data": {
            "text/html": [
              "<pre>Number of unpacked features : 2</pre>"
            ],
            "text/plain": [
              "Number of unpacked features : 2"
            ]
          },
          "metadata": {
            "tags": []
          }
        },
        {
          "output_type": "display_data",
          "data": {
            "text/html": [
              "<pre>Number of coefficients    : 3</pre>"
            ],
            "text/plain": [
              "Number of coefficients    : 3"
            ]
          },
          "metadata": {
            "tags": []
          }
        },
        {
          "output_type": "display_data",
          "data": {
            "text/html": [
              "<pre>Starting Newton Method</pre>"
            ],
            "text/plain": [
              "Starting Newton Method"
            ]
          },
          "metadata": {
            "tags": []
          }
        },
        {
          "output_type": "display_data",
          "data": {
            "text/html": [
              "<pre>--------------------------------------------------------</pre>"
            ],
            "text/plain": [
              "--------------------------------------------------------"
            ]
          },
          "metadata": {
            "tags": []
          }
        },
        {
          "output_type": "display_data",
          "data": {
            "text/html": [
              "<pre>+-----------+----------+--------------+--------------------+---------------------------------+</pre>"
            ],
            "text/plain": [
              "+-----------+----------+--------------+--------------------+---------------------------------+"
            ]
          },
          "metadata": {
            "tags": []
          }
        },
        {
          "output_type": "display_data",
          "data": {
            "text/html": [
              "<pre>| Iteration | Passes   | Elapsed Time | Training Max Error | Training Root-Mean-Square Error |</pre>"
            ],
            "text/plain": [
              "| Iteration | Passes   | Elapsed Time | Training Max Error | Training Root-Mean-Square Error |"
            ]
          },
          "metadata": {
            "tags": []
          }
        },
        {
          "output_type": "display_data",
          "data": {
            "text/html": [
              "<pre>+-----------+----------+--------------+--------------------+---------------------------------+</pre>"
            ],
            "text/plain": [
              "+-----------+----------+--------------+--------------------+---------------------------------+"
            ]
          },
          "metadata": {
            "tags": []
          }
        },
        {
          "output_type": "display_data",
          "data": {
            "text/html": [
              "<pre>| 1         | 2        | 0.028074     | 5913020.984255     | 250948.368758                   |</pre>"
            ],
            "text/plain": [
              "| 1         | 2        | 0.028074     | 5913020.984255     | 250948.368758                   |"
            ]
          },
          "metadata": {
            "tags": []
          }
        },
        {
          "output_type": "display_data",
          "data": {
            "text/html": [
              "<pre>+-----------+----------+--------------+--------------------+---------------------------------+</pre>"
            ],
            "text/plain": [
              "+-----------+----------+--------------+--------------------+---------------------------------+"
            ]
          },
          "metadata": {
            "tags": []
          }
        },
        {
          "output_type": "display_data",
          "data": {
            "text/html": [
              "<pre>SUCCESS: Optimal solution found.</pre>"
            ],
            "text/plain": [
              "SUCCESS: Optimal solution found."
            ]
          },
          "metadata": {
            "tags": []
          }
        },
        {
          "output_type": "display_data",
          "data": {
            "text/html": [
              "<pre></pre>"
            ],
            "text/plain": [
              ""
            ]
          },
          "metadata": {
            "tags": []
          }
        }
      ]
    },
    {
      "cell_type": "code",
      "metadata": {
        "id": "SZx7nIqZSQvA",
        "colab": {
          "base_uri": "https://localhost:8080/",
          "height": 114
        },
        "outputId": "abfa69f3-87f0-4e73-c107-adb62fa1333e"
      },
      "source": [
        "model2.coefficients"
      ],
      "execution_count": null,
      "outputs": [
        {
          "output_type": "execute_result",
          "data": {
            "text/html": [
              "<div style=\"max-height:1000px;max-width:1500px;overflow:auto;\"><table frame=\"box\" rules=\"cols\">\n",
              "    <tr>\n",
              "        <th style=\"padding-left: 1em; padding-right: 1em; text-align: center\">name</th>\n",
              "        <th style=\"padding-left: 1em; padding-right: 1em; text-align: center\">index</th>\n",
              "        <th style=\"padding-left: 1em; padding-right: 1em; text-align: center\">value</th>\n",
              "        <th style=\"padding-left: 1em; padding-right: 1em; text-align: center\">stderr</th>\n",
              "    </tr>\n",
              "    <tr>\n",
              "        <td style=\"padding-left: 1em; padding-right: 1em; text-align: center; vertical-align: top\">(intercept)</td>\n",
              "        <td style=\"padding-left: 1em; padding-right: 1em; text-align: center; vertical-align: top\">None</td>\n",
              "        <td style=\"padding-left: 1em; padding-right: 1em; text-align: center; vertical-align: top\">199222.49644462066</td>\n",
              "        <td style=\"padding-left: 1em; padding-right: 1em; text-align: center; vertical-align: top\">7058.00483551622</td>\n",
              "    </tr>\n",
              "    <tr>\n",
              "        <td style=\"padding-left: 1em; padding-right: 1em; text-align: center; vertical-align: top\">power_1</td>\n",
              "        <td style=\"padding-left: 1em; padding-right: 1em; text-align: center; vertical-align: top\">None</td>\n",
              "        <td style=\"padding-left: 1em; padding-right: 1em; text-align: center; vertical-align: top\">67.99406406773853</td>\n",
              "        <td style=\"padding-left: 1em; padding-right: 1em; text-align: center; vertical-align: top\">5.287872013161712</td>\n",
              "    </tr>\n",
              "    <tr>\n",
              "        <td style=\"padding-left: 1em; padding-right: 1em; text-align: center; vertical-align: top\">power_2</td>\n",
              "        <td style=\"padding-left: 1em; padding-right: 1em; text-align: center; vertical-align: top\">None</td>\n",
              "        <td style=\"padding-left: 1em; padding-right: 1em; text-align: center; vertical-align: top\">0.03858123127891563</td>\n",
              "        <td style=\"padding-left: 1em; padding-right: 1em; text-align: center; vertical-align: top\">0.0008982465470323361</td>\n",
              "    </tr>\n",
              "</table>\n",
              "[3 rows x 4 columns]<br/>\n",
              "</div>"
            ],
            "text/plain": [
              "Columns:\n",
              "\tname\tstr\n",
              "\tindex\tstr\n",
              "\tvalue\tfloat\n",
              "\tstderr\tfloat\n",
              "\n",
              "Rows: 3\n",
              "\n",
              "Data:\n",
              "+-------------+-------+---------------------+-----------------------+\n",
              "|     name    | index |        value        |         stderr        |\n",
              "+-------------+-------+---------------------+-----------------------+\n",
              "| (intercept) |  None |  199222.49644462066 |    7058.00483551622   |\n",
              "|   power_1   |  None |  67.99406406773853  |   5.287872013161712   |\n",
              "|   power_2   |  None | 0.03858123127891563 | 0.0008982465470323361 |\n",
              "+-------------+-------+---------------------+-----------------------+\n",
              "[3 rows x 4 columns]"
            ]
          },
          "metadata": {
            "tags": []
          },
          "execution_count": 21
        }
      ]
    },
    {
      "cell_type": "code",
      "metadata": {
        "id": "0uCXbhVFSQvO",
        "colab": {
          "base_uri": "https://localhost:8080/",
          "height": 302
        },
        "outputId": "8eff3ea7-0de2-4d90-d35f-7f7e0d1e0a4c"
      },
      "source": [
        "plt.plot(poly2_data['power_1'],poly2_data['price'],'.',\n",
        "         poly2_data['power_1'], model2.predict(poly2_data),'-')"
      ],
      "execution_count": null,
      "outputs": [
        {
          "output_type": "execute_result",
          "data": {
            "text/plain": [
              "[<matplotlib.lines.Line2D at 0x7f94e7b39cf8>,\n",
              " <matplotlib.lines.Line2D at 0x7f94e7b39e80>]"
            ]
          },
          "metadata": {
            "tags": []
          },
          "execution_count": 22
        },
        {
          "output_type": "display_data",
          "data": {
            "image/png": "[encoded data removed]",
            "text/plain": [
              "<Figure size 432x288 with 1 Axes>"
            ]
          },
          "metadata": {
            "tags": []
          }
        }
      ]
    },
    {
      "cell_type": "markdown",
      "metadata": {
        "id": "ZQU8-YSISQvc"
      },
      "source": [
        "The resulting model looks like half a parabola. Try on your own to see what the cubic looks like:"
      ]
    },
    {
      "cell_type": "code",
      "metadata": {
        "id": "gKfugaO9SQvg",
        "colab": {
          "base_uri": "https://localhost:8080/",
          "height": 260
        },
        "outputId": "21424d19-6d33-4e1a-a544-2503c4da7bac"
      },
      "source": [
        "poly3_data = polynomial_sframe(sales['sqft_living'], 3)\n",
        "my_features = poly3_data.column_names() # get the name of the features\n",
        "poly3_data['price'] = sales['price'] # add price to the data since it's the target\n",
        "model3 = turicreate.linear_regression.create(poly3_data, target = 'price', features = my_features, validation_set = None)"
      ],
      "execution_count": null,
      "outputs": [
        {
          "output_type": "display_data",
          "data": {
            "text/html": [
              "<pre>Linear regression:</pre>"
            ],
            "text/plain": [
              "Linear regression:"
            ]
          },
          "metadata": {
            "tags": []
          }
        },
        {
          "output_type": "display_data",
          "data": {
            "text/html": [
              "<pre>--------------------------------------------------------</pre>"
            ],
            "text/plain": [
              "--------------------------------------------------------"
            ]
          },
          "metadata": {
            "tags": []
          }
        },
        {
          "output_type": "display_data",
          "data": {
            "text/html": [
              "<pre>Number of examples          : 21613</pre>"
            ],
            "text/plain": [
              "Number of examples          : 21613"
            ]
          },
          "metadata": {
            "tags": []
          }
        },
        {
          "output_type": "display_data",
          "data": {
            "text/html": [
              "<pre>Number of features          : 3</pre>"
            ],
            "text/plain": [
              "Number of features          : 3"
            ]
          },
          "metadata": {
            "tags": []
          }
        },
        {
          "output_type": "display_data",
          "data": {
            "text/html": [
              "<pre>Number of unpacked features : 3</pre>"
            ],
            "text/plain": [
              "Number of unpacked features : 3"
            ]
          },
          "metadata": {
            "tags": []
          }
        },
        {
          "output_type": "display_data",
          "data": {
            "text/html": [
              "<pre>Number of coefficients    : 4</pre>"
            ],
            "text/plain": [
              "Number of coefficients    : 4"
            ]
          },
          "metadata": {
            "tags": []
          }
        },
        {
          "output_type": "display_data",
          "data": {
            "text/html": [
              "<pre>Starting Newton Method</pre>"
            ],
            "text/plain": [
              "Starting Newton Method"
            ]
          },
          "metadata": {
            "tags": []
          }
        },
        {
          "output_type": "display_data",
          "data": {
            "text/html": [
              "<pre>--------------------------------------------------------</pre>"
            ],
            "text/plain": [
              "--------------------------------------------------------"
            ]
          },
          "metadata": {
            "tags": []
          }
        },
        {
          "output_type": "display_data",
          "data": {
            "text/html": [
              "<pre>+-----------+----------+--------------+--------------------+---------------------------------+</pre>"
            ],
            "text/plain": [
              "+-----------+----------+--------------+--------------------+---------------------------------+"
            ]
          },
          "metadata": {
            "tags": []
          }
        },
        {
          "output_type": "display_data",
          "data": {
            "text/html": [
              "<pre>| Iteration | Passes   | Elapsed Time | Training Max Error | Training Root-Mean-Square Error |</pre>"
            ],
            "text/plain": [
              "| Iteration | Passes   | Elapsed Time | Training Max Error | Training Root-Mean-Square Error |"
            ]
          },
          "metadata": {
            "tags": []
          }
        },
        {
          "output_type": "display_data",
          "data": {
            "text/html": [
              "<pre>+-----------+----------+--------------+--------------------+---------------------------------+</pre>"
            ],
            "text/plain": [
              "+-----------+----------+--------------+--------------------+---------------------------------+"
            ]
          },
          "metadata": {
            "tags": []
          }
        },
        {
          "output_type": "display_data",
          "data": {
            "text/html": [
              "<pre>| 1         | 2        | 0.020786     | 3261066.736007     | 249261.286346                   |</pre>"
            ],
            "text/plain": [
              "| 1         | 2        | 0.020786     | 3261066.736007     | 249261.286346                   |"
            ]
          },
          "metadata": {
            "tags": []
          }
        },
        {
          "output_type": "display_data",
          "data": {
            "text/html": [
              "<pre>+-----------+----------+--------------+--------------------+---------------------------------+</pre>"
            ],
            "text/plain": [
              "+-----------+----------+--------------+--------------------+---------------------------------+"
            ]
          },
          "metadata": {
            "tags": []
          }
        },
        {
          "output_type": "display_data",
          "data": {
            "text/html": [
              "<pre>SUCCESS: Optimal solution found.</pre>"
            ],
            "text/plain": [
              "SUCCESS: Optimal solution found."
            ]
          },
          "metadata": {
            "tags": []
          }
        },
        {
          "output_type": "display_data",
          "data": {
            "text/html": [
              "<pre></pre>"
            ],
            "text/plain": [
              ""
            ]
          },
          "metadata": {
            "tags": []
          }
        }
      ]
    },
    {
      "cell_type": "code",
      "metadata": {
        "id": "EPaK48UcSQvu",
        "colab": {
          "base_uri": "https://localhost:8080/",
          "height": 133
        },
        "outputId": "c53693e5-9823-4658-8f24-fc68d93e64f6"
      },
      "source": [
        "model3.coefficients"
      ],
      "execution_count": null,
      "outputs": [
        {
          "output_type": "execute_result",
          "data": {
            "text/html": [
              "<div style=\"max-height:1000px;max-width:1500px;overflow:auto;\"><table frame=\"box\" rules=\"cols\">\n",
              "    <tr>\n",
              "        <th style=\"padding-left: 1em; padding-right: 1em; text-align: center\">name</th>\n",
              "        <th style=\"padding-left: 1em; padding-right: 1em; text-align: center\">index</th>\n",
              "        <th style=\"padding-left: 1em; padding-right: 1em; text-align: center\">value</th>\n",
              "        <th style=\"padding-left: 1em; padding-right: 1em; text-align: center\">stderr</th>\n",
              "    </tr>\n",
              "    <tr>\n",
              "        <td style=\"padding-left: 1em; padding-right: 1em; text-align: center; vertical-align: top\">(intercept)</td>\n",
              "        <td style=\"padding-left: 1em; padding-right: 1em; text-align: center; vertical-align: top\">None</td>\n",
              "        <td style=\"padding-left: 1em; padding-right: 1em; text-align: center; vertical-align: top\">336788.1179518116</td>\n",
              "        <td style=\"padding-left: 1em; padding-right: 1em; text-align: center; vertical-align: top\">10661.015371317626</td>\n",
              "    </tr>\n",
              "    <tr>\n",
              "        <td style=\"padding-left: 1em; padding-right: 1em; text-align: center; vertical-align: top\">power_1</td>\n",
              "        <td style=\"padding-left: 1em; padding-right: 1em; text-align: center; vertical-align: top\">None</td>\n",
              "        <td style=\"padding-left: 1em; padding-right: 1em; text-align: center; vertical-align: top\">-90.1476236118858</td>\n",
              "        <td style=\"padding-left: 1em; padding-right: 1em; text-align: center; vertical-align: top\">10.622289184419333</td>\n",
              "    </tr>\n",
              "    <tr>\n",
              "        <td style=\"padding-left: 1em; padding-right: 1em; text-align: center; vertical-align: top\">power_2</td>\n",
              "        <td style=\"padding-left: 1em; padding-right: 1em; text-align: center; vertical-align: top\">None</td>\n",
              "        <td style=\"padding-left: 1em; padding-right: 1em; text-align: center; vertical-align: top\">0.08703671508098137</td>\n",
              "        <td style=\"padding-left: 1em; padding-right: 1em; text-align: center; vertical-align: top\">0.0029663062314832143</td>\n",
              "    </tr>\n",
              "    <tr>\n",
              "        <td style=\"padding-left: 1em; padding-right: 1em; text-align: center; vertical-align: top\">power_3</td>\n",
              "        <td style=\"padding-left: 1em; padding-right: 1em; text-align: center; vertical-align: top\">None</td>\n",
              "        <td style=\"padding-left: 1em; padding-right: 1em; text-align: center; vertical-align: top\">-3.839852119598211e-06</td>\n",
              "        <td style=\"padding-left: 1em; padding-right: 1em; text-align: center; vertical-align: top\">2.2417490959001993e-07</td>\n",
              "    </tr>\n",
              "</table>\n",
              "[4 rows x 4 columns]<br/>\n",
              "</div>"
            ],
            "text/plain": [
              "Columns:\n",
              "\tname\tstr\n",
              "\tindex\tstr\n",
              "\tvalue\tfloat\n",
              "\tstderr\tfloat\n",
              "\n",
              "Rows: 4\n",
              "\n",
              "Data:\n",
              "+-------------+-------+------------------------+------------------------+\n",
              "|     name    | index |         value          |         stderr         |\n",
              "+-------------+-------+------------------------+------------------------+\n",
              "| (intercept) |  None |   336788.1179518116    |   10661.015371317626   |\n",
              "|   power_1   |  None |   -90.1476236118858    |   10.622289184419333   |\n",
              "|   power_2   |  None |  0.08703671508098137   | 0.0029663062314832143  |\n",
              "|   power_3   |  None | -3.839852119598211e-06 | 2.2417490959001993e-07 |\n",
              "+-------------+-------+------------------------+------------------------+\n",
              "[4 rows x 4 columns]"
            ]
          },
          "metadata": {
            "tags": []
          },
          "execution_count": 25
        }
      ]
    },
    {
      "cell_type": "code",
      "metadata": {
        "id": "upKBNBP7Bclk",
        "colab": {
          "base_uri": "https://localhost:8080/",
          "height": 304
        },
        "outputId": "d776fb39-f883-4478-c5b8-b22f3c4c8fc8"
      },
      "source": [
        "plt.plot(poly3_data['power_1'],poly3_data['price'],'.',\n",
        "         poly3_data['power_1'], model3.predict(poly3_data),'-')"
      ],
      "execution_count": null,
      "outputs": [
        {
          "output_type": "execute_result",
          "data": {
            "text/plain": [
              "[<matplotlib.lines.Line2D at 0x7f94e7a41eb8>,\n",
              " <matplotlib.lines.Line2D at 0x7f94e7a4f080>]"
            ]
          },
          "metadata": {
            "tags": []
          },
          "execution_count": 26
        },
        {
          "output_type": "display_data",
          "data": {
            "image/png": "[encoded data removed]",
            "text/plain": [
              "<Figure size 432x288 with 1 Axes>"
            ]
          },
          "metadata": {
            "tags": []
          }
        }
      ]
    },
    {
      "cell_type": "markdown",
      "metadata": {
        "id": "dGZ1lj4JSQv8"
      },
      "source": [
        "Now try a 15th degree polynomial:"
      ]
    },
    {
      "cell_type": "code",
      "metadata": {
        "id": "F3406Od6SQwA",
        "colab": {
          "base_uri": "https://localhost:8080/",
          "height": 260
        },
        "outputId": "56b1e1fa-ff64-4276-b555-e8cc139c3925"
      },
      "source": [
        "poly15_data = polynomial_sframe(sales['sqft_living'], 15)\n",
        "my_features = poly15_data.column_names() # get the name of the features\n",
        "poly15_data['price'] = sales['price'] # add price to the data since it's the target\n",
        "model15 = turicreate.linear_regression.create(poly15_data, target = 'price', features = my_features, validation_set = None)"
      ],
      "execution_count": null,
      "outputs": [
        {
          "output_type": "display_data",
          "data": {
            "text/html": [
              "<pre>Linear regression:</pre>"
            ],
            "text/plain": [
              "Linear regression:"
            ]
          },
          "metadata": {
            "tags": []
          }
        },
        {
          "output_type": "display_data",
          "data": {
            "text/html": [
              "<pre>--------------------------------------------------------</pre>"
            ],
            "text/plain": [
              "--------------------------------------------------------"
            ]
          },
          "metadata": {
            "tags": []
          }
        },
        {
          "output_type": "display_data",
          "data": {
            "text/html": [
              "<pre>Number of examples          : 21613</pre>"
            ],
            "text/plain": [
              "Number of examples          : 21613"
            ]
          },
          "metadata": {
            "tags": []
          }
        },
        {
          "output_type": "display_data",
          "data": {
            "text/html": [
              "<pre>Number of features          : 15</pre>"
            ],
            "text/plain": [
              "Number of features          : 15"
            ]
          },
          "metadata": {
            "tags": []
          }
        },
        {
          "output_type": "display_data",
          "data": {
            "text/html": [
              "<pre>Number of unpacked features : 15</pre>"
            ],
            "text/plain": [
              "Number of unpacked features : 15"
            ]
          },
          "metadata": {
            "tags": []
          }
        },
        {
          "output_type": "display_data",
          "data": {
            "text/html": [
              "<pre>Number of coefficients    : 16</pre>"
            ],
            "text/plain": [
              "Number of coefficients    : 16"
            ]
          },
          "metadata": {
            "tags": []
          }
        },
        {
          "output_type": "display_data",
          "data": {
            "text/html": [
              "<pre>Starting Newton Method</pre>"
            ],
            "text/plain": [
              "Starting Newton Method"
            ]
          },
          "metadata": {
            "tags": []
          }
        },
        {
          "output_type": "display_data",
          "data": {
            "text/html": [
              "<pre>--------------------------------------------------------</pre>"
            ],
            "text/plain": [
              "--------------------------------------------------------"
            ]
          },
          "metadata": {
            "tags": []
          }
        },
        {
          "output_type": "display_data",
          "data": {
            "text/html": [
              "<pre>+-----------+----------+--------------+--------------------+---------------------------------+</pre>"
            ],
            "text/plain": [
              "+-----------+----------+--------------+--------------------+---------------------------------+"
            ]
          },
          "metadata": {
            "tags": []
          }
        },
        {
          "output_type": "display_data",
          "data": {
            "text/html": [
              "<pre>| Iteration | Passes   | Elapsed Time | Training Max Error | Training Root-Mean-Square Error |</pre>"
            ],
            "text/plain": [
              "| Iteration | Passes   | Elapsed Time | Training Max Error | Training Root-Mean-Square Error |"
            ]
          },
          "metadata": {
            "tags": []
          }
        },
        {
          "output_type": "display_data",
          "data": {
            "text/html": [
              "<pre>+-----------+----------+--------------+--------------------+---------------------------------+</pre>"
            ],
            "text/plain": [
              "+-----------+----------+--------------+--------------------+---------------------------------+"
            ]
          },
          "metadata": {
            "tags": []
          }
        },
        {
          "output_type": "display_data",
          "data": {
            "text/html": [
              "<pre>| 1         | 2        | 0.046680     | 2662308.584345     | 245690.511190                   |</pre>"
            ],
            "text/plain": [
              "| 1         | 2        | 0.046680     | 2662308.584345     | 245690.511190                   |"
            ]
          },
          "metadata": {
            "tags": []
          }
        },
        {
          "output_type": "display_data",
          "data": {
            "text/html": [
              "<pre>+-----------+----------+--------------+--------------------+---------------------------------+</pre>"
            ],
            "text/plain": [
              "+-----------+----------+--------------+--------------------+---------------------------------+"
            ]
          },
          "metadata": {
            "tags": []
          }
        },
        {
          "output_type": "display_data",
          "data": {
            "text/html": [
              "<pre>SUCCESS: Optimal solution found.</pre>"
            ],
            "text/plain": [
              "SUCCESS: Optimal solution found."
            ]
          },
          "metadata": {
            "tags": []
          }
        },
        {
          "output_type": "display_data",
          "data": {
            "text/html": [
              "<pre></pre>"
            ],
            "text/plain": [
              ""
            ]
          },
          "metadata": {
            "tags": []
          }
        }
      ]
    },
    {
      "cell_type": "code",
      "metadata": {
        "id": "qTM81FyGSQwM",
        "colab": {
          "base_uri": "https://localhost:8080/",
          "height": 304
        },
        "outputId": "0f1738e7-93d1-4dd4-d6ca-ae01c00aa839"
      },
      "source": [
        "plt.plot(poly15_data['power_1'],poly15_data['price'],'.',\n",
        "         poly15_data['power_1'], model15.predict(poly15_data),'-')"
      ],
      "execution_count": null,
      "outputs": [
        {
          "output_type": "execute_result",
          "data": {
            "text/plain": [
              "[<matplotlib.lines.Line2D at 0x7f94e79bc7f0>,\n",
              " <matplotlib.lines.Line2D at 0x7f94e79bc978>]"
            ]
          },
          "metadata": {
            "tags": []
          },
          "execution_count": 28
        },
        {
          "output_type": "display_data",
          "data": {
            "image/png": "[encoded data removed]",
            "text/plain": [
              "<Figure size 432x288 with 1 Axes>"
            ]
          },
          "metadata": {
            "tags": []
          }
        }
      ]
    },
    {
      "cell_type": "markdown",
      "metadata": {
        "id": "Sl9ArCmPSQwZ"
      },
      "source": [
        "What do you think of the 15th degree polynomial? Do you think this is appropriate? If we were to change the data do you think you'd get pretty much the same curve? Let's take a look."
      ]
    },
    {
      "cell_type": "markdown",
      "metadata": {
        "id": "KH4KTddTSQwd"
      },
      "source": [
        "# Changing the data and re-learning"
      ]
    },
    {
      "cell_type": "markdown",
      "metadata": {
        "id": "rGEH4thWSQwi"
      },
      "source": [
        "We're going to split the sales data into four subsets of roughly equal size. Then you will estimate a 15th degree polynomial model on all four subsets of the data. Print the coefficients (you should use .print_rows(num_rows = 16) to view all of them) and plot the resulting fit (as we did above). The quiz will ask you some questions about these results.\n",
        "\n",
        "To split the sales data into four subsets, we perform the following steps:\n",
        "* First split sales into 2 subsets with `.random_split(0.5, seed=0)`. \n",
        "* Next split the resulting subsets into 2 more subsets each. Use `.random_split(0.5, seed=0)`.\n",
        "\n",
        "We set `seed=0` in these steps so that different users get consistent results.\n",
        "You should end up with 4 subsets (`set_1`, `set_2`, `set_3`, `set_4`) of approximately equal size. "
      ]
    },
    {
      "cell_type": "code",
      "metadata": {
        "id": "WOI7dBgLSQwm"
      },
      "source": [
        "set_one_two_pre,set_three_four_pre = sales.random_split(0.5,seed=0)\n",
        "set_1, set_2 = set_one_two_pre.random_split(0.5,seed=0)\n",
        "set_3, set_4 = set_three_four_pre.random_split(0.5,seed=0)"
      ],
      "execution_count": null,
      "outputs": []
    },
    {
      "cell_type": "markdown",
      "metadata": {
        "id": "X8KSQvkrSQww"
      },
      "source": [
        "Fit a 15th degree polynomial on set_1, set_2, set_3, and set_4 using sqft_living to predict prices. Print the coefficients and make a plot of the resulting model."
      ]
    },
    {
      "cell_type": "markdown",
      "metadata": {
        "id": "K1JxRU8rFj9n"
      },
      "source": [
        "#15th degree on set_1"
      ]
    },
    {
      "cell_type": "code",
      "metadata": {
        "id": "0VwXoZeBSQxC",
        "colab": {
          "base_uri": "https://localhost:8080/",
          "height": 260
        },
        "outputId": "1360410f-a1ed-4915-9df1-3ef21fdb15b4"
      },
      "source": [
        "poly15_data_set_1 = polynomial_sframe(set_1['sqft_living'], 15)\n",
        "my_features = poly15_data_set_1.column_names() # get the name of the features\n",
        "poly15_data_set_1['price'] = set_1['price'] # add price to the data since it's the target\n",
        "model15_set_1 = turicreate.linear_regression.create(poly15_data_set_1, target = 'price', features = my_features, validation_set = None)"
      ],
      "execution_count": null,
      "outputs": [
        {
          "output_type": "display_data",
          "data": {
            "text/html": [
              "<pre>Linear regression:</pre>"
            ],
            "text/plain": [
              "Linear regression:"
            ]
          },
          "metadata": {
            "tags": []
          }
        },
        {
          "output_type": "display_data",
          "data": {
            "text/html": [
              "<pre>--------------------------------------------------------</pre>"
            ],
            "text/plain": [
              "--------------------------------------------------------"
            ]
          },
          "metadata": {
            "tags": []
          }
        },
        {
          "output_type": "display_data",
          "data": {
            "text/html": [
              "<pre>Number of examples          : 5404</pre>"
            ],
            "text/plain": [
              "Number of examples          : 5404"
            ]
          },
          "metadata": {
            "tags": []
          }
        },
        {
          "output_type": "display_data",
          "data": {
            "text/html": [
              "<pre>Number of features          : 15</pre>"
            ],
            "text/plain": [
              "Number of features          : 15"
            ]
          },
          "metadata": {
            "tags": []
          }
        },
        {
          "output_type": "display_data",
          "data": {
            "text/html": [
              "<pre>Number of unpacked features : 15</pre>"
            ],
            "text/plain": [
              "Number of unpacked features : 15"
            ]
          },
          "metadata": {
            "tags": []
          }
        },
        {
          "output_type": "display_data",
          "data": {
            "text/html": [
              "<pre>Number of coefficients    : 16</pre>"
            ],
            "text/plain": [
              "Number of coefficients    : 16"
            ]
          },
          "metadata": {
            "tags": []
          }
        },
        {
          "output_type": "display_data",
          "data": {
            "text/html": [
              "<pre>Starting Newton Method</pre>"
            ],
            "text/plain": [
              "Starting Newton Method"
            ]
          },
          "metadata": {
            "tags": []
          }
        },
        {
          "output_type": "display_data",
          "data": {
            "text/html": [
              "<pre>--------------------------------------------------------</pre>"
            ],
            "text/plain": [
              "--------------------------------------------------------"
            ]
          },
          "metadata": {
            "tags": []
          }
        },
        {
          "output_type": "display_data",
          "data": {
            "text/html": [
              "<pre>+-----------+----------+--------------+--------------------+---------------------------------+</pre>"
            ],
            "text/plain": [
              "+-----------+----------+--------------+--------------------+---------------------------------+"
            ]
          },
          "metadata": {
            "tags": []
          }
        },
        {
          "output_type": "display_data",
          "data": {
            "text/html": [
              "<pre>| Iteration | Passes   | Elapsed Time | Training Max Error | Training Root-Mean-Square Error |</pre>"
            ],
            "text/plain": [
              "| Iteration | Passes   | Elapsed Time | Training Max Error | Training Root-Mean-Square Error |"
            ]
          },
          "metadata": {
            "tags": []
          }
        },
        {
          "output_type": "display_data",
          "data": {
            "text/html": [
              "<pre>+-----------+----------+--------------+--------------------+---------------------------------+</pre>"
            ],
            "text/plain": [
              "+-----------+----------+--------------+--------------------+---------------------------------+"
            ]
          },
          "metadata": {
            "tags": []
          }
        },
        {
          "output_type": "display_data",
          "data": {
            "text/html": [
              "<pre>| 1         | 2        | 0.018598     | 2195218.932304     | 248858.822200                   |</pre>"
            ],
            "text/plain": [
              "| 1         | 2        | 0.018598     | 2195218.932304     | 248858.822200                   |"
            ]
          },
          "metadata": {
            "tags": []
          }
        },
        {
          "output_type": "display_data",
          "data": {
            "text/html": [
              "<pre>+-----------+----------+--------------+--------------------+---------------------------------+</pre>"
            ],
            "text/plain": [
              "+-----------+----------+--------------+--------------------+---------------------------------+"
            ]
          },
          "metadata": {
            "tags": []
          }
        },
        {
          "output_type": "display_data",
          "data": {
            "text/html": [
              "<pre>SUCCESS: Optimal solution found.</pre>"
            ],
            "text/plain": [
              "SUCCESS: Optimal solution found."
            ]
          },
          "metadata": {
            "tags": []
          }
        },
        {
          "output_type": "display_data",
          "data": {
            "text/html": [
              "<pre></pre>"
            ],
            "text/plain": [
              ""
            ]
          },
          "metadata": {
            "tags": []
          }
        }
      ]
    },
    {
      "cell_type": "code",
      "metadata": {
        "id": "0e_cdHxTSQxU",
        "colab": {
          "base_uri": "https://localhost:8080/",
          "height": 421
        },
        "outputId": "74102578-6c59-4f56-f178-d6c5b53cca83"
      },
      "source": [
        "model15_set_1.coefficients.print_rows(num_rows = 16)"
      ],
      "execution_count": null,
      "outputs": [
        {
          "output_type": "stream",
          "text": [
            "+-------------+-------+-------------------------+------------------------+\n",
            "|     name    | index |          value          |         stderr         |\n",
            "+-------------+-------+-------------------------+------------------------+\n",
            "| (intercept) |  None |    223312.75025076768   |   836267.7758911775    |\n",
            "|   power_1   |  None |    118.08612758373584   |   3608.507564858899    |\n",
            "|   power_2   |  None |  -0.047348201132194234  |   6.443611711622636    |\n",
            "|   power_3   |  None |  3.253103424638997e-05  |  0.006296943606931856  |\n",
            "|   power_4   |  None | -3.3237215256183045e-09 | 3.764683187593336e-06  |\n",
            "|   power_5   |  None |  -9.758304576150585e-14 | 1.4675097170468929e-09 |\n",
            "|   power_6   |  None |  1.1544030340937732e-17 | 3.9478467787667117e-13 |\n",
            "|   power_7   |  None |  1.0514586941487889e-21 | 7.851716425157238e-17  |\n",
            "|   power_8   |  None |  3.4604961634556985e-26 | 1.1913179464290025e-20 |\n",
            "|   power_9   |  None | -1.0965445398086671e-30 | 1.234223673075833e-24  |\n",
            "|   power_10  |  None | -2.4203181203332893e-34 | 5.580439516801566e-29  |\n",
            "|   power_11  |  None | -1.9960120683410953e-38 | 1.953606941327472e-33  |\n",
            "|   power_12  |  None |  -1.07709903856235e-42  | 6.680341992102497e-37  |\n",
            "|   power_13  |  None |  -2.728628177744832e-47 | 4.777395615274158e-41  |\n",
            "|   power_14  |  None |  2.4478269282074964e-51 | 1.7964243496236987e-45 |\n",
            "|   power_15  |  None |  5.0197523301976695e-55 | 3.1061387788223527e-50 |\n",
            "+-------------+-------+-------------------------+------------------------+\n",
            "[16 rows x 4 columns]\n",
            "\n"
          ],
          "name": "stdout"
        }
      ]
    },
    {
      "cell_type": "code",
      "metadata": {
        "id": "qY4hbLAUSQx1",
        "colab": {
          "base_uri": "https://localhost:8080/",
          "height": 304
        },
        "outputId": "0891aec3-bd02-4937-ce4b-84f71075bfcb"
      },
      "source": [
        "plt.plot(poly15_data_set_1['power_1'],poly15_data_set_1['price'],'.',\n",
        "         poly15_data_set_1['power_1'], model15_set_1.predict(poly15_data_set_1),'-')"
      ],
      "execution_count": null,
      "outputs": [
        {
          "output_type": "execute_result",
          "data": {
            "text/plain": [
              "[<matplotlib.lines.Line2D at 0x7f94e78ee278>,\n",
              " <matplotlib.lines.Line2D at 0x7f94e78ee390>]"
            ]
          },
          "metadata": {
            "tags": []
          },
          "execution_count": 34
        },
        {
          "output_type": "display_data",
          "data": {
            "image/png": "[encoded data removed]",
            "text/plain": [
              "<Figure size 432x288 with 1 Axes>"
            ]
          },
          "metadata": {
            "tags": []
          }
        }
      ]
    },
    {
      "cell_type": "markdown",
      "metadata": {
        "id": "3AWh_SB8Go4g"
      },
      "source": [
        "#15th degree on set_2"
      ]
    },
    {
      "cell_type": "code",
      "metadata": {
        "id": "6vcroN7BSQx9",
        "colab": {
          "base_uri": "https://localhost:8080/",
          "height": 260
        },
        "outputId": "d245f2d9-f27e-44f7-b0d7-ee0f9e9e8535"
      },
      "source": [
        "poly15_data_set_2 = polynomial_sframe(set_2['sqft_living'], 15)\n",
        "my_features = poly15_data_set_2.column_names() # get the name of the features\n",
        "poly15_data_set_2['price'] = set_2['price'] # add price to the data since it's the target\n",
        "model15_set_2 = turicreate.linear_regression.create(poly15_data_set_2, target = 'price', features = my_features, validation_set = None)"
      ],
      "execution_count": null,
      "outputs": [
        {
          "output_type": "display_data",
          "data": {
            "text/html": [
              "<pre>Linear regression:</pre>"
            ],
            "text/plain": [
              "Linear regression:"
            ]
          },
          "metadata": {
            "tags": []
          }
        },
        {
          "output_type": "display_data",
          "data": {
            "text/html": [
              "<pre>--------------------------------------------------------</pre>"
            ],
            "text/plain": [
              "--------------------------------------------------------"
            ]
          },
          "metadata": {
            "tags": []
          }
        },
        {
          "output_type": "display_data",
          "data": {
            "text/html": [
              "<pre>Number of examples          : 5398</pre>"
            ],
            "text/plain": [
              "Number of examples          : 5398"
            ]
          },
          "metadata": {
            "tags": []
          }
        },
        {
          "output_type": "display_data",
          "data": {
            "text/html": [
              "<pre>Number of features          : 15</pre>"
            ],
            "text/plain": [
              "Number of features          : 15"
            ]
          },
          "metadata": {
            "tags": []
          }
        },
        {
          "output_type": "display_data",
          "data": {
            "text/html": [
              "<pre>Number of unpacked features : 15</pre>"
            ],
            "text/plain": [
              "Number of unpacked features : 15"
            ]
          },
          "metadata": {
            "tags": []
          }
        },
        {
          "output_type": "display_data",
          "data": {
            "text/html": [
              "<pre>Number of coefficients    : 16</pre>"
            ],
            "text/plain": [
              "Number of coefficients    : 16"
            ]
          },
          "metadata": {
            "tags": []
          }
        },
        {
          "output_type": "display_data",
          "data": {
            "text/html": [
              "<pre>Starting Newton Method</pre>"
            ],
            "text/plain": [
              "Starting Newton Method"
            ]
          },
          "metadata": {
            "tags": []
          }
        },
        {
          "output_type": "display_data",
          "data": {
            "text/html": [
              "<pre>--------------------------------------------------------</pre>"
            ],
            "text/plain": [
              "--------------------------------------------------------"
            ]
          },
          "metadata": {
            "tags": []
          }
        },
        {
          "output_type": "display_data",
          "data": {
            "text/html": [
              "<pre>+-----------+----------+--------------+--------------------+---------------------------------+</pre>"
            ],
            "text/plain": [
              "+-----------+----------+--------------+--------------------+---------------------------------+"
            ]
          },
          "metadata": {
            "tags": []
          }
        },
        {
          "output_type": "display_data",
          "data": {
            "text/html": [
              "<pre>| Iteration | Passes   | Elapsed Time | Training Max Error | Training Root-Mean-Square Error |</pre>"
            ],
            "text/plain": [
              "| Iteration | Passes   | Elapsed Time | Training Max Error | Training Root-Mean-Square Error |"
            ]
          },
          "metadata": {
            "tags": []
          }
        },
        {
          "output_type": "display_data",
          "data": {
            "text/html": [
              "<pre>+-----------+----------+--------------+--------------------+---------------------------------+</pre>"
            ],
            "text/plain": [
              "+-----------+----------+--------------+--------------------+---------------------------------+"
            ]
          },
          "metadata": {
            "tags": []
          }
        },
        {
          "output_type": "display_data",
          "data": {
            "text/html": [
              "<pre>| 1         | 2        | 0.026353     | 2069212.978547     | 234840.067186                   |</pre>"
            ],
            "text/plain": [
              "| 1         | 2        | 0.026353     | 2069212.978547     | 234840.067186                   |"
            ]
          },
          "metadata": {
            "tags": []
          }
        },
        {
          "output_type": "display_data",
          "data": {
            "text/html": [
              "<pre>+-----------+----------+--------------+--------------------+---------------------------------+</pre>"
            ],
            "text/plain": [
              "+-----------+----------+--------------+--------------------+---------------------------------+"
            ]
          },
          "metadata": {
            "tags": []
          }
        },
        {
          "output_type": "display_data",
          "data": {
            "text/html": [
              "<pre>SUCCESS: Optimal solution found.</pre>"
            ],
            "text/plain": [
              "SUCCESS: Optimal solution found."
            ]
          },
          "metadata": {
            "tags": []
          }
        },
        {
          "output_type": "display_data",
          "data": {
            "text/html": [
              "<pre></pre>"
            ],
            "text/plain": [
              ""
            ]
          },
          "metadata": {
            "tags": []
          }
        }
      ]
    },
    {
      "cell_type": "code",
      "metadata": {
        "id": "WpWkSU56Gul2",
        "colab": {
          "base_uri": "https://localhost:8080/",
          "height": 421
        },
        "outputId": "3b6e47eb-f757-4a6f-df7d-af7825bf68da"
      },
      "source": [
        "model15_set_2.coefficients.print_rows(num_rows = 16)"
      ],
      "execution_count": null,
      "outputs": [
        {
          "output_type": "stream",
          "text": [
            "+-------------+-------+-------------------------+------------------------+\n",
            "|     name    | index |          value          |         stderr         |\n",
            "+-------------+-------+-------------------------+------------------------+\n",
            "| (intercept) |  None |    89836.50773579377    |   1250894.2842395252   |\n",
            "|   power_1   |  None |    319.80694675715876   |    6457.94746874081    |\n",
            "|   power_2   |  None |   -0.10331539703622948  |   13.700935554337573   |\n",
            "|   power_3   |  None |  1.0668247605303316e-05 |  0.015485788343727628  |\n",
            "|   power_4   |  None |   5.75577097723264e-09  | 9.799089679530033e-06  |\n",
            "|   power_5   |  None | -2.5466346470281976e-13 | 2.4045769357903985e-09 |\n",
            "|   power_6   |  None | -1.0964134507166477e-16 |          nan           |\n",
            "|   power_7   |  None |  -6.364584415885864e-21 |          nan           |\n",
            "|   power_8   |  None |  5.525604167646249e-25  |          nan           |\n",
            "|   power_9   |  None |  1.3508203898628277e-28 | 1.745020445451795e-24  |\n",
            "|   power_10  |  None |  1.1840818825554099e-32 | 2.7531580373967547e-27 |\n",
            "|   power_11  |  None |  1.9834800015019785e-37 | 3.5736099763255207e-31 |\n",
            "|   power_12  |  None |  -9.925335898265975e-41 | 4.395051061088762e-35  |\n",
            "|   power_13  |  None | -1.6083484709921061e-44 | 4.338951163268872e-39  |\n",
            "|   power_14  |  None |  -9.120060239512593e-49 | 2.372464256556267e-43  |\n",
            "|   power_15  |  None |  1.6863665831556174e-52 | 5.364774664210934e-48  |\n",
            "+-------------+-------+-------------------------+------------------------+\n",
            "[16 rows x 4 columns]\n",
            "\n"
          ],
          "name": "stdout"
        }
      ]
    },
    {
      "cell_type": "code",
      "metadata": {
        "id": "NEqdMDe3Gux_",
        "colab": {
          "base_uri": "https://localhost:8080/",
          "height": 302
        },
        "outputId": "a1afe80c-c5a7-4f44-af56-3795dc5fdc89"
      },
      "source": [
        "plt.plot(poly15_data_set_2['power_1'],poly15_data_set_2['price'],'.',\n",
        "         poly15_data_set_2['power_1'], model15_set_2.predict(poly15_data_set_2),'-')"
      ],
      "execution_count": null,
      "outputs": [
        {
          "output_type": "execute_result",
          "data": {
            "text/plain": [
              "[<matplotlib.lines.Line2D at 0x7f94e7867b38>,\n",
              " <matplotlib.lines.Line2D at 0x7f94e7867c50>]"
            ]
          },
          "metadata": {
            "tags": []
          },
          "execution_count": 37
        },
        {
          "output_type": "display_data",
          "data": {
            "image/png": "[encoded data removed]",
            "text/plain": [
              "<Figure size 432x288 with 1 Axes>"
            ]
          },
          "metadata": {
            "tags": []
          }
        }
      ]
    },
    {
      "cell_type": "markdown",
      "metadata": {
        "id": "s41l8oCsHRwX"
      },
      "source": [
        "#15th degree on set_3"
      ]
    },
    {
      "cell_type": "code",
      "metadata": {
        "id": "C9FXjNasGvEM",
        "colab": {
          "base_uri": "https://localhost:8080/",
          "height": 260
        },
        "outputId": "97c3eb82-a0c9-442d-f5e6-e60d7421a52c"
      },
      "source": [
        "poly15_data_set_3 = polynomial_sframe(set_3['sqft_living'], 15)\n",
        "my_features = poly15_data_set_3.column_names() # get the name of the features\n",
        "poly15_data_set_3['price'] = set_3['price'] # add price to the data since it's the target\n",
        "model15_set_3 = turicreate.linear_regression.create(poly15_data_set_3, target = 'price', features = my_features, validation_set = None)"
      ],
      "execution_count": null,
      "outputs": [
        {
          "output_type": "display_data",
          "data": {
            "text/html": [
              "<pre>Linear regression:</pre>"
            ],
            "text/plain": [
              "Linear regression:"
            ]
          },
          "metadata": {
            "tags": []
          }
        },
        {
          "output_type": "display_data",
          "data": {
            "text/html": [
              "<pre>--------------------------------------------------------</pre>"
            ],
            "text/plain": [
              "--------------------------------------------------------"
            ]
          },
          "metadata": {
            "tags": []
          }
        },
        {
          "output_type": "display_data",
          "data": {
            "text/html": [
              "<pre>Number of examples          : 5409</pre>"
            ],
            "text/plain": [
              "Number of examples          : 5409"
            ]
          },
          "metadata": {
            "tags": []
          }
        },
        {
          "output_type": "display_data",
          "data": {
            "text/html": [
              "<pre>Number of features          : 15</pre>"
            ],
            "text/plain": [
              "Number of features          : 15"
            ]
          },
          "metadata": {
            "tags": []
          }
        },
        {
          "output_type": "display_data",
          "data": {
            "text/html": [
              "<pre>Number of unpacked features : 15</pre>"
            ],
            "text/plain": [
              "Number of unpacked features : 15"
            ]
          },
          "metadata": {
            "tags": []
          }
        },
        {
          "output_type": "display_data",
          "data": {
            "text/html": [
              "<pre>Number of coefficients    : 16</pre>"
            ],
            "text/plain": [
              "Number of coefficients    : 16"
            ]
          },
          "metadata": {
            "tags": []
          }
        },
        {
          "output_type": "display_data",
          "data": {
            "text/html": [
              "<pre>Starting Newton Method</pre>"
            ],
            "text/plain": [
              "Starting Newton Method"
            ]
          },
          "metadata": {
            "tags": []
          }
        },
        {
          "output_type": "display_data",
          "data": {
            "text/html": [
              "<pre>--------------------------------------------------------</pre>"
            ],
            "text/plain": [
              "--------------------------------------------------------"
            ]
          },
          "metadata": {
            "tags": []
          }
        },
        {
          "output_type": "display_data",
          "data": {
            "text/html": [
              "<pre>+-----------+----------+--------------+--------------------+---------------------------------+</pre>"
            ],
            "text/plain": [
              "+-----------+----------+--------------+--------------------+---------------------------------+"
            ]
          },
          "metadata": {
            "tags": []
          }
        },
        {
          "output_type": "display_data",
          "data": {
            "text/html": [
              "<pre>| Iteration | Passes   | Elapsed Time | Training Max Error | Training Root-Mean-Square Error |</pre>"
            ],
            "text/plain": [
              "| Iteration | Passes   | Elapsed Time | Training Max Error | Training Root-Mean-Square Error |"
            ]
          },
          "metadata": {
            "tags": []
          }
        },
        {
          "output_type": "display_data",
          "data": {
            "text/html": [
              "<pre>+-----------+----------+--------------+--------------------+---------------------------------+</pre>"
            ],
            "text/plain": [
              "+-----------+----------+--------------+--------------------+---------------------------------+"
            ]
          },
          "metadata": {
            "tags": []
          }
        },
        {
          "output_type": "display_data",
          "data": {
            "text/html": [
              "<pre>| 1         | 2        | 0.014690     | 2269769.506520     | 251460.072754                   |</pre>"
            ],
            "text/plain": [
              "| 1         | 2        | 0.014690     | 2269769.506520     | 251460.072754                   |"
            ]
          },
          "metadata": {
            "tags": []
          }
        },
        {
          "output_type": "display_data",
          "data": {
            "text/html": [
              "<pre>+-----------+----------+--------------+--------------------+---------------------------------+</pre>"
            ],
            "text/plain": [
              "+-----------+----------+--------------+--------------------+---------------------------------+"
            ]
          },
          "metadata": {
            "tags": []
          }
        },
        {
          "output_type": "display_data",
          "data": {
            "text/html": [
              "<pre>SUCCESS: Optimal solution found.</pre>"
            ],
            "text/plain": [
              "SUCCESS: Optimal solution found."
            ]
          },
          "metadata": {
            "tags": []
          }
        },
        {
          "output_type": "display_data",
          "data": {
            "text/html": [
              "<pre></pre>"
            ],
            "text/plain": [
              ""
            ]
          },
          "metadata": {
            "tags": []
          }
        }
      ]
    },
    {
      "cell_type": "code",
      "metadata": {
        "id": "CxgURy4sGvzF",
        "colab": {
          "base_uri": "https://localhost:8080/",
          "height": 421
        },
        "outputId": "be086e13-4b6a-49d1-e88c-ee51f371736e"
      },
      "source": [
        "model15_set_3.coefficients.print_rows(num_rows = 16)"
      ],
      "execution_count": null,
      "outputs": [
        {
          "output_type": "stream",
          "text": [
            "+-------------+-------+-------------------------+------------------------+\n",
            "|     name    | index |          value          |         stderr         |\n",
            "+-------------+-------+-------------------------+------------------------+\n",
            "| (intercept) |  None |    87317.97957156831    |   1151739.9462547014   |\n",
            "|   power_1   |  None |    356.3049110095917    |   5280.432185840432    |\n",
            "|   power_2   |  None |   -0.16481744278360222  |   9.821875402660227    |\n",
            "|   power_3   |  None |  4.404249926272947e-05  |  0.009384922068420905  |\n",
            "|   power_4   |  None |   6.48234876505831e-10  | 4.122356629066574e-06  |\n",
            "|   power_5   |  None |  -6.752532264533502e-13 |          nan           |\n",
            "|   power_6   |  None |  -3.368425927835476e-17 |          nan           |\n",
            "|   power_7   |  None |  3.609997042274217e-21  |          nan           |\n",
            "|   power_8   |  None |  6.469997254939936e-25  |          nan           |\n",
            "|   power_9   |  None |  4.2363938888554275e-29 |          nan           |\n",
            "|   power_10  |  None |  -3.621494240321194e-34 | 2.4044806343944725e-28 |\n",
            "|   power_11  |  None | -4.2711952732104285e-37 |          nan           |\n",
            "|   power_12  |  None |  -5.614459718542333e-41 |          nan           |\n",
            "|   power_13  |  None |  -3.874527727851669e-45 |          nan           |\n",
            "|   power_14  |  None |  4.694303580112957e-50  | 2.1370245241303057e-44 |\n",
            "|   power_15  |  None |  6.390458860882727e-53  | 5.516439721437543e-49  |\n",
            "+-------------+-------+-------------------------+------------------------+\n",
            "[16 rows x 4 columns]\n",
            "\n"
          ],
          "name": "stdout"
        }
      ]
    },
    {
      "cell_type": "code",
      "metadata": {
        "id": "h8uY9uuvGwEs",
        "colab": {
          "base_uri": "https://localhost:8080/",
          "height": 302
        },
        "outputId": "1b185f13-7b98-4357-d559-8a1eb941809c"
      },
      "source": [
        "plt.plot(poly15_data_set_3['power_1'],poly15_data_set_3['price'],'.',\n",
        "         poly15_data_set_3['power_1'], model15_set_3.predict(poly15_data_set_3),'-')"
      ],
      "execution_count": null,
      "outputs": [
        {
          "output_type": "execute_result",
          "data": {
            "text/plain": [
              "[<matplotlib.lines.Line2D at 0x7f94e7503cf8>,\n",
              " <matplotlib.lines.Line2D at 0x7f94e7503e80>]"
            ]
          },
          "metadata": {
            "tags": []
          },
          "execution_count": 40
        },
        {
          "output_type": "display_data",
          "data": {
            "image/png": "[encoded data removed]",
            "text/plain": [
              "<Figure size 432x288 with 1 Axes>"
            ]
          },
          "metadata": {
            "tags": []
          }
        }
      ]
    },
    {
      "cell_type": "markdown",
      "metadata": {
        "id": "Xz7lBatNH82I"
      },
      "source": [
        "#15th degree on set_4"
      ]
    },
    {
      "cell_type": "code",
      "metadata": {
        "id": "OfB_QDzLH8HI",
        "colab": {
          "base_uri": "https://localhost:8080/",
          "height": 260
        },
        "outputId": "528a8285-b1c6-4707-ed53-0315c6082150"
      },
      "source": [
        "poly15_data_set_4 = polynomial_sframe(set_4['sqft_living'], 15)\n",
        "my_features = poly15_data_set_4.column_names() # get the name of the features\n",
        "poly15_data_set_4['price'] = set_4['price'] # add price to the data since it's the target\n",
        "model15_set_4 = turicreate.linear_regression.create(poly15_data_set_4, target = 'price', features = my_features, validation_set = None)"
      ],
      "execution_count": null,
      "outputs": [
        {
          "output_type": "display_data",
          "data": {
            "text/html": [
              "<pre>Linear regression:</pre>"
            ],
            "text/plain": [
              "Linear regression:"
            ]
          },
          "metadata": {
            "tags": []
          }
        },
        {
          "output_type": "display_data",
          "data": {
            "text/html": [
              "<pre>--------------------------------------------------------</pre>"
            ],
            "text/plain": [
              "--------------------------------------------------------"
            ]
          },
          "metadata": {
            "tags": []
          }
        },
        {
          "output_type": "display_data",
          "data": {
            "text/html": [
              "<pre>Number of examples          : 5402</pre>"
            ],
            "text/plain": [
              "Number of examples          : 5402"
            ]
          },
          "metadata": {
            "tags": []
          }
        },
        {
          "output_type": "display_data",
          "data": {
            "text/html": [
              "<pre>Number of features          : 15</pre>"
            ],
            "text/plain": [
              "Number of features          : 15"
            ]
          },
          "metadata": {
            "tags": []
          }
        },
        {
          "output_type": "display_data",
          "data": {
            "text/html": [
              "<pre>Number of unpacked features : 15</pre>"
            ],
            "text/plain": [
              "Number of unpacked features : 15"
            ]
          },
          "metadata": {
            "tags": []
          }
        },
        {
          "output_type": "display_data",
          "data": {
            "text/html": [
              "<pre>Number of coefficients    : 16</pre>"
            ],
            "text/plain": [
              "Number of coefficients    : 16"
            ]
          },
          "metadata": {
            "tags": []
          }
        },
        {
          "output_type": "display_data",
          "data": {
            "text/html": [
              "<pre>Starting Newton Method</pre>"
            ],
            "text/plain": [
              "Starting Newton Method"
            ]
          },
          "metadata": {
            "tags": []
          }
        },
        {
          "output_type": "display_data",
          "data": {
            "text/html": [
              "<pre>--------------------------------------------------------</pre>"
            ],
            "text/plain": [
              "--------------------------------------------------------"
            ]
          },
          "metadata": {
            "tags": []
          }
        },
        {
          "output_type": "display_data",
          "data": {
            "text/html": [
              "<pre>+-----------+----------+--------------+--------------------+---------------------------------+</pre>"
            ],
            "text/plain": [
              "+-----------+----------+--------------+--------------------+---------------------------------+"
            ]
          },
          "metadata": {
            "tags": []
          }
        },
        {
          "output_type": "display_data",
          "data": {
            "text/html": [
              "<pre>| Iteration | Passes   | Elapsed Time | Training Max Error | Training Root-Mean-Square Error |</pre>"
            ],
            "text/plain": [
              "| Iteration | Passes   | Elapsed Time | Training Max Error | Training Root-Mean-Square Error |"
            ]
          },
          "metadata": {
            "tags": []
          }
        },
        {
          "output_type": "display_data",
          "data": {
            "text/html": [
              "<pre>+-----------+----------+--------------+--------------------+---------------------------------+</pre>"
            ],
            "text/plain": [
              "+-----------+----------+--------------+--------------------+---------------------------------+"
            ]
          },
          "metadata": {
            "tags": []
          }
        },
        {
          "output_type": "display_data",
          "data": {
            "text/html": [
              "<pre>| 1         | 2        | 0.021821     | 2314893.173831     | 244563.136754                   |</pre>"
            ],
            "text/plain": [
              "| 1         | 2        | 0.021821     | 2314893.173831     | 244563.136754                   |"
            ]
          },
          "metadata": {
            "tags": []
          }
        },
        {
          "output_type": "display_data",
          "data": {
            "text/html": [
              "<pre>+-----------+----------+--------------+--------------------+---------------------------------+</pre>"
            ],
            "text/plain": [
              "+-----------+----------+--------------+--------------------+---------------------------------+"
            ]
          },
          "metadata": {
            "tags": []
          }
        },
        {
          "output_type": "display_data",
          "data": {
            "text/html": [
              "<pre>SUCCESS: Optimal solution found.</pre>"
            ],
            "text/plain": [
              "SUCCESS: Optimal solution found."
            ]
          },
          "metadata": {
            "tags": []
          }
        },
        {
          "output_type": "display_data",
          "data": {
            "text/html": [
              "<pre></pre>"
            ],
            "text/plain": [
              ""
            ]
          },
          "metadata": {
            "tags": []
          }
        }
      ]
    },
    {
      "cell_type": "code",
      "metadata": {
        "id": "OUveEz-YGwbl",
        "colab": {
          "base_uri": "https://localhost:8080/",
          "height": 421
        },
        "outputId": "2f4d9aa4-b8df-4aaa-bd48-323989fd8857"
      },
      "source": [
        "model15_set_4.coefficients.print_rows(num_rows = 16)"
      ],
      "execution_count": null,
      "outputs": [
        {
          "output_type": "stream",
          "text": [
            "+-------------+-------+-------------------------+------------------------+\n",
            "|     name    | index |          value          |         stderr         |\n",
            "+-------------+-------+-------------------------+------------------------+\n",
            "| (intercept) |  None |    259020.87944422942   |   1526185.475921453    |\n",
            "|   power_1   |  None |    -31.72771618259296   |   9812.834518988935    |\n",
            "|   power_2   |  None |   0.10970276959670781   |   26.15524560130639    |\n",
            "|   power_3   |  None |  -1.583838472569279e-05 |   0.0382747229854038   |\n",
            "|   power_4   |  None |  -4.47660623853836e-09  | 3.427863385387414e-05  |\n",
            "|   power_5   |  None |  1.1397657345912077e-12 | 1.9663315660320456e-08 |\n",
            "|   power_6   |  None |  1.9766912057907982e-16 | 7.2076350939821126e-12 |\n",
            "|   power_7   |  None |  -6.157836783238867e-21 | 1.5164726508381847e-15 |\n",
            "|   power_8   |  None |  -4.880123040938865e-24 |          nan           |\n",
            "|   power_9   |  None |  -6.621867813542062e-28 |          nan           |\n",
            "|   power_10  |  None |  -2.706315834032952e-32 |          nan           |\n",
            "|   power_11  |  None |  6.723704116285584e-36  | 8.735046317852613e-31  |\n",
            "|   power_12  |  None |  1.741156462996654e-39  | 9.462398685013721e-35  |\n",
            "|   power_13  |  None |  2.091883757048901e-43  | 8.867141527262518e-39  |\n",
            "|   power_14  |  None |  4.780155660808355e-48  | 5.806671306972518e-43  |\n",
            "|   power_15  |  None | -4.7453533310704516e-51 | 1.572956359734726e-47  |\n",
            "+-------------+-------+-------------------------+------------------------+\n",
            "[16 rows x 4 columns]\n",
            "\n"
          ],
          "name": "stdout"
        }
      ]
    },
    {
      "cell_type": "code",
      "metadata": {
        "id": "MyxjJc42Gwn1",
        "colab": {
          "base_uri": "https://localhost:8080/",
          "height": 302
        },
        "outputId": "50fa0cf7-39c8-4988-f1a4-fabd7e56d333"
      },
      "source": [
        "plt.plot(poly15_data_set_4['power_1'],poly15_data_set_4['price'],'.',\n",
        "         poly15_data_set_4['power_1'], model15_set_4.predict(poly15_data_set_4),'-')"
      ],
      "execution_count": null,
      "outputs": [
        {
          "output_type": "execute_result",
          "data": {
            "text/plain": [
              "[<matplotlib.lines.Line2D at 0x7f94e7479128>,\n",
              " <matplotlib.lines.Line2D at 0x7f94e74792b0>]"
            ]
          },
          "metadata": {
            "tags": []
          },
          "execution_count": 44
        },
        {
          "output_type": "display_data",
          "data": {
            "image/png": "[encoded data removed]",
            "text/plain": [
              "<Figure size 432x288 with 1 Axes>"
            ]
          },
          "metadata": {
            "tags": []
          }
        }
      ]
    },
    {
      "cell_type": "markdown",
      "metadata": {
        "id": "VOdTVuj3SQyL"
      },
      "source": [
        "Some questions you will be asked on your quiz:\n",
        "\n",
        "**Quiz Question: Is the sign (positive or negative) for power_15 the same in all four models?**\n",
        "\n",
        "**Quiz Question: (True/False) the plotted fitted lines look the same in all four plots**"
      ]
    },
    {
      "cell_type": "markdown",
      "metadata": {
        "id": "c4zGKPTFSQyT"
      },
      "source": [
        "# Selecting a Polynomial Degree"
      ]
    },
    {
      "cell_type": "markdown",
      "metadata": {
        "id": "T7JsOwjPSQyW"
      },
      "source": [
        "Whenever we have a \"magic\" parameter like the degree of the polynomial there is one well-known way to select these parameters: validation set. (We will explore another approach in week 4).\n",
        "\n",
        "We split the sales dataset 3-way into training set, test set, and validation set as follows:\n",
        "\n",
        "* Split our sales data into 2 sets: `training_and_validation` and `testing`. Use `random_split(0.9, seed=1)`.\n",
        "* Further split our training data into two sets: `training` and `validation`. Use `random_split(0.5, seed=1)`.\n",
        "\n",
        "Again, we set `seed=1` to obtain consistent results for different users."
      ]
    },
    {
      "cell_type": "code",
      "metadata": {
        "id": "pZjszemJSQyZ"
      },
      "source": [
        "training_and_validation, testing_data = sales.random_split(0.9,seed=1)\n",
        "training_data, validation_data = training_and_validation.random_split(0.5, seed=1)"
      ],
      "execution_count": null,
      "outputs": []
    },
    {
      "cell_type": "markdown",
      "metadata": {
        "id": "40nB0SXHSQyj"
      },
      "source": [
        "Next you should write a loop that does the following:\n",
        "* For degree in [1, 2, 3, 4, 5, 6, 7, 8, 9, 10, 11, 12, 13, 14, 15] (to get this in python type range(1, 15+1))\n",
        "    * Build an SFrame of polynomial data of train_data['sqft_living'] at the current degree\n",
        "    * hint: my_features = poly_data.column_names() gives you a list e.g. ['power_1', 'power_2', 'power_3'] which you might find useful for turicreate.linear_regression.create( features = my_features)\n",
        "    * Add train_data['price'] to the polynomial SFrame\n",
        "    * Learn a polynomial regression model to sqft vs price with that degree on TRAIN data\n",
        "    * Compute the RSS on VALIDATION data (here you will want to use .predict()) for that degree and you will need to make a polynmial SFrame using validation data.\n",
        "* Report which degree had the lowest RSS on validation data (remember python indexes from 0)\n",
        "\n",
        "(Note you can turn off the print out of linear_regression.create() with verbose = False)"
      ]
    },
    {
      "cell_type": "code",
      "metadata": {
        "id": "XP98azQVSQym",
        "colab": {
          "base_uri": "https://localhost:8080/",
          "height": 35
        },
        "outputId": "d26e872a-ccd6-4d6a-88ae-a57cf08cabc3"
      },
      "source": [
        "list_of_RSS_validation_data = []\n",
        "for n_degree in range(1, 15+1): \n",
        "    new_poly_training_data = polynomial_sframe(training_data['sqft_living'], n_degree)\n",
        "    my_features = new_poly_training_data.column_names() # get the name of the features\n",
        "    new_poly_training_data['price'] = training_data['price'] # add price to the data since it's the target\n",
        "    new_model_name = turicreate.linear_regression.create(new_poly_training_data, target = 'price', features = my_features, validation_set = None,verbose = False)\n",
        "    new_poly_validation_data = polynomial_sframe(validation_data['sqft_living'], n_degree)\n",
        "    model_predictions_validation_data = new_model_name.predict(new_poly_validation_data)\n",
        "    RSS_model_name_validation_data = sum((validation_data['price'] - model_predictions_validation_data)**2)\n",
        "    list_of_RSS_validation_data.append(RSS_model_name_validation_data)\n",
        "print('The index of ',list_of_RSS_validation_data.index(min(list_of_RSS_validation_data)),'the Lowest RSS on validation data ',min(list_of_RSS_validation_data))"
      ],
      "execution_count": null,
      "outputs": [
        {
          "output_type": "stream",
          "text": [
            "The index of  5 the Lowest RSS on validation data  589182477809720.4\n"
          ],
          "name": "stdout"
        }
      ]
    },
    {
      "cell_type": "markdown",
      "metadata": {
        "id": "hBPIOkkdSQyu"
      },
      "source": [
        "**Quiz Question: Which degree (1, 2, …, 15) had the lowest RSS on Validation data?**"
      ]
    },
    {
      "cell_type": "markdown",
      "metadata": {
        "id": "T9i5rBrzSQyx"
      },
      "source": [
        "Now that you have chosen the degree of your polynomial using validation data, compute the RSS of this model on TEST data. Report the RSS on your quiz."
      ]
    },
    {
      "cell_type": "code",
      "metadata": {
        "id": "2ljnvXg_SQy1",
        "colab": {
          "base_uri": "https://localhost:8080/",
          "height": 35
        },
        "outputId": "cfdbe8b6-2ed9-41ce-b6d9-8db3b95370c8"
      },
      "source": [
        "list_of_RSS_testing_data = []\n",
        "for n_degree in range(1, 15+1): \n",
        "    new_poly_training_data = polynomial_sframe(training_data['sqft_living'], n_degree)\n",
        "    my_features = new_poly_training_data.column_names() # get the name of the features\n",
        "    new_poly_training_data['price'] = training_data['price'] # add price to the data since it's the target\n",
        "    new_model_name = turicreate.linear_regression.create(new_poly_training_data, target = 'price', features = my_features, validation_set = None,verbose = False)\n",
        "    new_poly_testing_data = polynomial_sframe(testing_data['sqft_living'], n_degree)\n",
        "    model_predictions_testing_data = new_model_name.predict(new_poly_testing_data)\n",
        "    RSS_model_name_testing_data = sum((testing_data['price'] - model_predictions_testing_data)**2)\n",
        "    list_of_RSS_testing_data.append(RSS_model_name_testing_data)\n",
        "print('The index of ',list_of_RSS_testing_data.index(min(list_of_RSS_testing_data)),'the Lowest RSS on validation data ',min(list_of_RSS_testing_data))"
      ],
      "execution_count": null,
      "outputs": [
        {
          "output_type": "stream",
          "text": [
            "The index of  7 the Lowest RSS on validation data  124458964534478.66\n"
          ],
          "name": "stdout"
        }
      ]
    },
    {
      "cell_type": "markdown",
      "metadata": {
        "id": "Qs7g25cASQy_"
      },
      "source": [
        "**Quiz Question: what is the RSS on TEST data for the model with the degree selected from Validation data?**"
      ]
    },
    {
      "cell_type": "code",
      "metadata": {
        "id": "vH8QWvBUSQzD",
        "colab": {
          "base_uri": "https://localhost:8080/",
          "height": 35
        },
        "outputId": "021aa8a2-3756-4f3f-8ce9-9c4da737c45c"
      },
      "source": [
        "print(list_of_RSS_testing_data[6])"
      ],
      "execution_count": null,
      "outputs": [
        {
          "output_type": "stream",
          "text": [
            "124608773610085.77\n"
          ],
          "name": "stdout"
        }
      ]
    }
  ]
}