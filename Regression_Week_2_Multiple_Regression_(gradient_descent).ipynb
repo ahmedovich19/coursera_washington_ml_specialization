{
  "nbformat": 4,
  "nbformat_minor": 0,
  "metadata": {
    "kernelspec": {
      "name": "python3",
      "display_name": "Python 3"
    },
    "colab": {
      "name": "Regression Week 2: Multiple Regression (gradient descent).ipynb",
      "provenance": [],
      "collapsed_sections": []
    }
  },
  "cells": [
    {
      "cell_type": "code",
      "metadata": {
        "id": "TRPVI_IXFEpq",
        "colab": {
          "base_uri": "https://localhost:8080/",
          "height": 882
        },
        "outputId": "a5628567-e473-4c4b-e92f-5971dc0f41d8"
      },
      "source": [
        "!pip install turicreate"
      ],
      "execution_count": null,
      "outputs": [
        {
          "output_type": "stream",
          "text": [
            "Requirement already satisfied: turicreate in /usr/local/lib/python3.6/dist-packages (6.1)\n",
            "Requirement already satisfied: tensorflow>=2.0.0 in /usr/local/lib/python3.6/dist-packages (from turicreate) (2.1.0)\n",
            "Requirement already satisfied: requests>=2.9.1 in /usr/local/lib/python3.6/dist-packages (from turicreate) (2.21.0)\n",
            "Requirement already satisfied: scipy>=1.1.0 in /usr/local/lib/python3.6/dist-packages (from turicreate) (1.4.1)\n",
            "Requirement already satisfied: pillow>=5.2.0 in /usr/local/lib/python3.6/dist-packages (from turicreate) (6.2.2)\n",
            "Requirement already satisfied: numpy in /usr/local/lib/python3.6/dist-packages (from turicreate) (1.17.5)\n",
            "Requirement already satisfied: resampy==0.2.1 in /usr/local/lib/python3.6/dist-packages (from turicreate) (0.2.1)\n",
            "Requirement already satisfied: coremltools==3.3 in /usr/local/lib/python3.6/dist-packages (from turicreate) (3.3)\n",
            "Requirement already satisfied: pandas>=0.23.2 in /usr/local/lib/python3.6/dist-packages (from turicreate) (0.25.3)\n",
            "Requirement already satisfied: six>=1.10.0 in /usr/local/lib/python3.6/dist-packages (from turicreate) (1.12.0)\n",
            "Requirement already satisfied: prettytable==0.7.2 in /usr/local/lib/python3.6/dist-packages (from turicreate) (0.7.2)\n",
            "Requirement already satisfied: decorator>=4.0.9 in /usr/local/lib/python3.6/dist-packages (from turicreate) (4.4.1)\n",
            "Requirement already satisfied: tensorflow-estimator<2.2.0,>=2.1.0rc0 in /usr/local/lib/python3.6/dist-packages (from tensorflow>=2.0.0->turicreate) (2.1.0)\n",
            "Requirement already satisfied: keras-applications>=1.0.8 in /usr/local/lib/python3.6/dist-packages (from tensorflow>=2.0.0->turicreate) (1.0.8)\n",
            "Requirement already satisfied: wheel>=0.26; python_version >= \"3\" in /usr/local/lib/python3.6/dist-packages (from tensorflow>=2.0.0->turicreate) (0.34.2)\n",
            "Requirement already satisfied: absl-py>=0.7.0 in /usr/local/lib/python3.6/dist-packages (from tensorflow>=2.0.0->turicreate) (0.9.0)\n",
            "Requirement already satisfied: keras-preprocessing>=1.1.0 in /usr/local/lib/python3.6/dist-packages (from tensorflow>=2.0.0->turicreate) (1.1.0)\n",
            "Requirement already satisfied: opt-einsum>=2.3.2 in /usr/local/lib/python3.6/dist-packages (from tensorflow>=2.0.0->turicreate) (3.1.0)\n",
            "Requirement already satisfied: astor>=0.6.0 in /usr/local/lib/python3.6/dist-packages (from tensorflow>=2.0.0->turicreate) (0.8.1)\n",
            "Requirement already satisfied: protobuf>=3.8.0 in /usr/local/lib/python3.6/dist-packages (from tensorflow>=2.0.0->turicreate) (3.10.0)\n",
            "Requirement already satisfied: tensorboard<2.2.0,>=2.1.0 in /usr/local/lib/python3.6/dist-packages (from tensorflow>=2.0.0->turicreate) (2.1.1)\n",
            "Requirement already satisfied: gast==0.2.2 in /usr/local/lib/python3.6/dist-packages (from tensorflow>=2.0.0->turicreate) (0.2.2)\n",
            "Requirement already satisfied: wrapt>=1.11.1 in /usr/local/lib/python3.6/dist-packages (from tensorflow>=2.0.0->turicreate) (1.11.2)\n",
            "Requirement already satisfied: google-pasta>=0.1.6 in /usr/local/lib/python3.6/dist-packages (from tensorflow>=2.0.0->turicreate) (0.1.8)\n",
            "Requirement already satisfied: grpcio>=1.8.6 in /usr/local/lib/python3.6/dist-packages (from tensorflow>=2.0.0->turicreate) (1.27.1)\n",
            "Requirement already satisfied: termcolor>=1.1.0 in /usr/local/lib/python3.6/dist-packages (from tensorflow>=2.0.0->turicreate) (1.1.0)\n",
            "Requirement already satisfied: idna<2.9,>=2.5 in /usr/local/lib/python3.6/dist-packages (from requests>=2.9.1->turicreate) (2.8)\n",
            "Requirement already satisfied: chardet<3.1.0,>=3.0.2 in /usr/local/lib/python3.6/dist-packages (from requests>=2.9.1->turicreate) (3.0.4)\n",
            "Requirement already satisfied: urllib3<1.25,>=1.21.1 in /usr/local/lib/python3.6/dist-packages (from requests>=2.9.1->turicreate) (1.24.3)\n",
            "Requirement already satisfied: certifi>=2017.4.17 in /usr/local/lib/python3.6/dist-packages (from requests>=2.9.1->turicreate) (2019.11.28)\n",
            "Requirement already satisfied: numba>=0.32 in /usr/local/lib/python3.6/dist-packages (from resampy==0.2.1->turicreate) (0.47.0)\n",
            "Requirement already satisfied: python-dateutil>=2.6.1 in /usr/local/lib/python3.6/dist-packages (from pandas>=0.23.2->turicreate) (2.6.1)\n",
            "Requirement already satisfied: pytz>=2017.2 in /usr/local/lib/python3.6/dist-packages (from pandas>=0.23.2->turicreate) (2018.9)\n",
            "Requirement already satisfied: h5py in /usr/local/lib/python3.6/dist-packages (from keras-applications>=1.0.8->tensorflow>=2.0.0->turicreate) (2.8.0)\n",
            "Requirement already satisfied: setuptools in /usr/local/lib/python3.6/dist-packages (from protobuf>=3.8.0->tensorflow>=2.0.0->turicreate) (45.1.0)\n",
            "Requirement already satisfied: markdown>=2.6.8 in /usr/local/lib/python3.6/dist-packages (from tensorboard<2.2.0,>=2.1.0->tensorflow>=2.0.0->turicreate) (3.2.1)\n",
            "Requirement already satisfied: werkzeug>=0.11.15 in /usr/local/lib/python3.6/dist-packages (from tensorboard<2.2.0,>=2.1.0->tensorflow>=2.0.0->turicreate) (1.0.0)\n",
            "Requirement already satisfied: google-auth<2,>=1.6.3 in /usr/local/lib/python3.6/dist-packages (from tensorboard<2.2.0,>=2.1.0->tensorflow>=2.0.0->turicreate) (1.7.2)\n",
            "Requirement already satisfied: google-auth-oauthlib<0.5,>=0.4.1 in /usr/local/lib/python3.6/dist-packages (from tensorboard<2.2.0,>=2.1.0->tensorflow>=2.0.0->turicreate) (0.4.1)\n",
            "Requirement already satisfied: llvmlite>=0.31.0dev0 in /usr/local/lib/python3.6/dist-packages (from numba>=0.32->resampy==0.2.1->turicreate) (0.31.0)\n",
            "Requirement already satisfied: rsa<4.1,>=3.1.4 in /usr/local/lib/python3.6/dist-packages (from google-auth<2,>=1.6.3->tensorboard<2.2.0,>=2.1.0->tensorflow>=2.0.0->turicreate) (4.0)\n",
            "Requirement already satisfied: cachetools<3.2,>=2.0.0 in /usr/local/lib/python3.6/dist-packages (from google-auth<2,>=1.6.3->tensorboard<2.2.0,>=2.1.0->tensorflow>=2.0.0->turicreate) (3.1.1)\n",
            "Requirement already satisfied: pyasn1-modules>=0.2.1 in /usr/local/lib/python3.6/dist-packages (from google-auth<2,>=1.6.3->tensorboard<2.2.0,>=2.1.0->tensorflow>=2.0.0->turicreate) (0.2.8)\n",
            "Requirement already satisfied: requests-oauthlib>=0.7.0 in /usr/local/lib/python3.6/dist-packages (from google-auth-oauthlib<0.5,>=0.4.1->tensorboard<2.2.0,>=2.1.0->tensorflow>=2.0.0->turicreate) (1.3.0)\n",
            "Requirement already satisfied: pyasn1>=0.1.3 in /usr/local/lib/python3.6/dist-packages (from rsa<4.1,>=3.1.4->google-auth<2,>=1.6.3->tensorboard<2.2.0,>=2.1.0->tensorflow>=2.0.0->turicreate) (0.4.8)\n",
            "Requirement already satisfied: oauthlib>=3.0.0 in /usr/local/lib/python3.6/dist-packages (from requests-oauthlib>=0.7.0->google-auth-oauthlib<0.5,>=0.4.1->tensorboard<2.2.0,>=2.1.0->tensorflow>=2.0.0->turicreate) (3.1.0)\n"
          ],
          "name": "stdout"
        }
      ]
    },
    {
      "cell_type": "code",
      "metadata": {
        "id": "iZdTxD_XFGAn",
        "colab": {
          "base_uri": "https://localhost:8080/",
          "height": 35
        },
        "outputId": "bda64804-f78d-4695-9142-ea157ed5d62d"
      },
      "source": [
        "import os.path\n",
        "from google.colab import drive\n",
        "\n",
        "# mount Google Drive to /content/drive/My Drive/\n",
        "if os.path.isdir(\"/content/drive/My Drive/\"):\n",
        "  print(\"Google Drive already mounted\")\n",
        "else:\n",
        "  drive.mount('/content/drive')"
      ],
      "execution_count": null,
      "outputs": [
        {
          "output_type": "stream",
          "text": [
            "Google Drive already mounted\n"
          ],
          "name": "stdout"
        }
      ]
    },
    {
      "cell_type": "code",
      "metadata": {
        "id": "xPIFTm61G1Hp",
        "colab": {
          "base_uri": "https://localhost:8080/",
          "height": 72
        },
        "outputId": "8935f407-c7cb-4fd8-effc-177c6f7bbd05"
      },
      "source": [
        "import os.path\n",
        "import urllib.request\n",
        "import tarfile\n",
        "import zipfile\n",
        "import gzip\n",
        "from shutil import copy\n",
        "\n",
        "def fetch_remote_datafile(filename, remote_url):\n",
        "  if os.path.isfile(\"./\" + filename):\n",
        "    print(\"already have \" + filename + \" in workspace\")\n",
        "    return\n",
        "  print(\"fetching \" + filename + \" from \" + remote_url + \"...\")\n",
        "  urllib.request.urlretrieve(remote_url, \"./\" + filename)\n",
        "\n",
        "def cache_datafile_in_drive(filename):\n",
        "  if os.path.isfile(\"./\" + filename) == False:\n",
        "    print(\"cannot cache \" + filename + \", it is not in workspace\")\n",
        "    return\n",
        "  \n",
        "  data_drive_path = \"/content/drive/My Drive/Colab Notebooks/\"\n",
        "  if os.path.isfile(data_drive_path + filename):\n",
        "    print(\"\" + filename + \" has already been stored in Google Drive\")\n",
        "  else:\n",
        "    print(\"copying \" + filename + \" to \" + data_drive_path)\n",
        "    copy(\"./\" + filename, data_drive_path)\n",
        "  \n",
        "\n",
        "def load_datafile_from_drive(filename, remote_url=None):\n",
        "  data_drive_path = \"/content/drive/My Drive/Colab Notebooks/\"\n",
        "  if os.path.isfile(\"./\" + filename):\n",
        "    print(\"already have \" + filename + \" in workspace\")\n",
        "  elif os.path.isfile(data_drive_path + filename):\n",
        "    print(\"have \" + filename + \" in Google Drive, copying to workspace...\")\n",
        "    copy(data_drive_path + filename, \".\")\n",
        "  elif remote_url != None:\n",
        "    fetch_remote_datafile(filename, remote_url)\n",
        "  else:\n",
        "    print(\"error: you need to manually download \" + filename + \" and put in drive\")\n",
        "    \n",
        "def extract_datafile(filename, expected_extract_artifact=None):\n",
        "  if expected_extract_artifact != None and (os.path.isfile(expected_extract_artifact) or os.path.isdir(expected_extract_artifact)):\n",
        "    \n",
        "    print(\"files in \" + filename + \" have already been extracted\")\n",
        "  elif os.path.isfile(\"./\" + filename) == False:\n",
        "    print(\"error: cannot extract \" + filename + \", it is not in the workspace\")\n",
        "  else:\n",
        "    extension = filename.split('.')[-1]\n",
        "    if extension == \"zip\":\n",
        "      print(\"extracting \" + filename + \"...\")\n",
        "      data_file = open(filename, \"rb\")\n",
        "      z = zipfile.ZipFile(data_file)\n",
        "      for name in z.namelist():\n",
        "          print(\"    extracting file\", name)\n",
        "          z.extract(name, \"./\")\n",
        "      data_file.close()\n",
        "    elif extension == \"gz\":\n",
        "      print(\"extracting \" + filename + \"...\")\n",
        "      if filename.split('.')[-2] == \"tar\":\n",
        "        tar = tarfile.open(filename)\n",
        "        tar.extractall()\n",
        "        tar.close()\n",
        "      else:\n",
        "        data_zip_file = gzip.GzipFile(filename, 'rb')\n",
        "        data = data_zip_file.read()\n",
        "        data_zip_file.close()\n",
        "        extracted_file = open('.'.join(filename.split('.')[0:-1]), 'wb')\n",
        "        extracted_file.write(data)\n",
        "        extracted_file.close()\n",
        "    elif extension == \"tar\":\n",
        "      print(\"extracting \" + filename + \"...\")\n",
        "      tar = tarfile.open(filename)\n",
        "      tar.extractall()\n",
        "      tar.close()\n",
        "    elif extension == \"csv\":\n",
        "      print(\"do not need to extract csv\")\n",
        "    else:\n",
        "      print(\"cannot extract \" + filename)\n",
        "      \n",
        "def load_cache_extract_datafile(filename, expected_extract_artifact=None, remote_url=None):\n",
        "  load_datafile_from_drive(filename, remote_url)\n",
        "  extract_datafile(filename, expected_extract_artifact)\n",
        "  cache_datafile_in_drive(filename)\n",
        "  \n",
        "load_cache_extract_datafile(\"home_data.sframe.zip\", \"home_data.sframe\", \"https://d3c33hcgiwev3.cloudfront.net/00FsKOIoEemELQpo9cj5Ig_579152614f2b4a399ac90a939360749e_home_data.sframe.zip?Expires=1583366400&Signature=UOIwIuuT~0UT9V6UveCG9Vanabu3gWSsrwu63-U4VNNkahfkATwOcJ7ipdH9pEbfHYP8SW8UZFozRcBDk95Ygv4jN9tDl2dI3q8~AXs2K9GEGyhdsER~aTY4n8K6Vqhmba9KvFRyAIiFQF7jPy2K6LFGBHEBswUY0INusC-twkE_&Key-Pair-Id=APKAJLTNE6QMUY6HBC5A\")\n"
      ],
      "execution_count": null,
      "outputs": [
        {
          "output_type": "stream",
          "text": [
            "already have home_data.sframe.zip in workspace\n",
            "files in home_data.sframe.zip have already been extracted\n",
            "home_data.sframe.zip has already been stored in Google Drive\n"
          ],
          "name": "stdout"
        }
      ]
    },
    {
      "cell_type": "markdown",
      "metadata": {
        "id": "GZWq2j5XE8Vu"
      },
      "source": [
        "# Regression Week 2: Multiple Regression (gradient descent)"
      ]
    },
    {
      "cell_type": "markdown",
      "metadata": {
        "id": "2EU6L-g2E8WP"
      },
      "source": [
        "In the first notebook we explored multiple regression using Turi Create. Now we will use Turi Create along with numpy to solve for the regression weights with gradient descent.\n",
        "\n",
        "In this notebook we will cover estimating multiple regression weights via gradient descent. You will:\n",
        "* Add a constant column of 1's to a Turi Create SFrame to account for the intercept\n",
        "* Convert an SFrame into a Numpy array\n",
        "* Write a predict_output() function using Numpy\n",
        "* Write a numpy function to compute the derivative of the regression weights with respect to a single feature\n",
        "* Write gradient descent function to compute the regression weights given an initial weight vector, step size and tolerance.\n",
        "* Use the gradient descent function to estimate regression weights for multiple features"
      ]
    },
    {
      "cell_type": "markdown",
      "metadata": {
        "id": "X2QAtjtFE8W9"
      },
      "source": [
        "# Fire up Turi Create"
      ]
    },
    {
      "cell_type": "markdown",
      "metadata": {
        "id": "AvkBLXYoE8aP"
      },
      "source": [
        "Make sure you have the latest version of Turi Create"
      ]
    },
    {
      "cell_type": "code",
      "metadata": {
        "id": "9evMB7CYE8bl"
      },
      "source": [
        "import turicreate"
      ],
      "execution_count": null,
      "outputs": []
    },
    {
      "cell_type": "markdown",
      "metadata": {
        "id": "RnPVvf35E8dj"
      },
      "source": [
        "# Load in house sales data\n",
        "\n",
        "Dataset is from house sales in King County, the region where the city of Seattle, WA is located."
      ]
    },
    {
      "cell_type": "code",
      "metadata": {
        "id": "Tf_ImIXXE8dx"
      },
      "source": [
        "sales = turicreate.SFrame('home_data.sframe/')"
      ],
      "execution_count": null,
      "outputs": []
    },
    {
      "cell_type": "markdown",
      "metadata": {
        "id": "Lrxkk3gtE8ef"
      },
      "source": [
        "If we want to do any \"feature engineering\" like creating new features or adjusting existing ones we should do this directly using the SFrames as seen in the other Week 2 notebook. For this notebook, however, we will work with the existing features."
      ]
    },
    {
      "cell_type": "markdown",
      "metadata": {
        "id": "wx7Qo4iIE8ep"
      },
      "source": [
        "# Convert to Numpy Array"
      ]
    },
    {
      "cell_type": "markdown",
      "metadata": {
        "id": "9zj-DezAE8e0"
      },
      "source": [
        "Although SFrames offer a number of benefits to users (especially when using Big Data and built-in Turi Create functions) in order to understand the details of the implementation of algorithms it's important to work with a library that allows for direct (and optimized) matrix operations. Numpy is a Python solution to work with matrices (or any multi-dimensional \"array\").\n",
        "\n",
        "Recall that the predicted value given the weights and the features is just the dot product between the feature and weight vector. Similarly, if we put all of the features row-by-row in a matrix then the predicted value for *all* the observations can be computed by right multiplying the \"feature matrix\" by the \"weight vector\". \n",
        "\n",
        "First we need to take the SFrame of our data and convert it into a 2D numpy array (also called a matrix). To do this we use Turi Create's built in .to_dataframe() which converts the SFrame into a Pandas (another python library) dataframe. We can then use Panda's .as_matrix() to convert the dataframe into a numpy matrix."
      ]
    },
    {
      "cell_type": "code",
      "metadata": {
        "id": "kBochO-pE8e_"
      },
      "source": [
        "import numpy as np # note this allows us to refer to numpy as np instead "
      ],
      "execution_count": null,
      "outputs": []
    },
    {
      "cell_type": "markdown",
      "metadata": {
        "id": "7599bwOsE8fh"
      },
      "source": [
        "Now we will write a function that will accept an SFrame, a list of feature names (e.g. ['sqft_living', 'bedrooms']) and an target feature e.g. ('price') and will return two things:\n",
        "* A numpy matrix whose columns are the desired features plus a constant column (this is how we create an 'intercept')\n",
        "* A numpy array containing the values of the output\n",
        "\n",
        "With this in mind, complete the following function (where there's an empty line you should write a line of code that does what the comment above indicates)"
      ]
    },
    {
      "cell_type": "code",
      "metadata": {
        "id": "sl_13ADyE8fp"
      },
      "source": [
        "def get_numpy_data(data_sframe, features, output):\n",
        "    data_sframe['constant'] = 1 # this is how you add a constant column to an SFrame\n",
        "    # add the column 'constant' to the front of the features list so that we can extract it along with the others:\n",
        "    features = ['constant'] + features # this is how you combine two lists\n",
        "    # select the columns of data_SFrame given by the features list into the SFrame features_sframe (now including constant):\n",
        "    features_sframe = data_sframe[features]\n",
        "    # the following line will convert the features_SFrame into a numpy matrix:\n",
        "    feature_matrix = features_sframe.to_numpy()\n",
        "    # assign the column of data_sframe associated with the output to the SArray output_sarray\n",
        "    output_sarray = data_sframe[output]\n",
        "    # the following will convert the SArray into a numpy array by first converting it to a list\n",
        "    output_array = output_sarray.to_numpy()\n",
        "    return(feature_matrix, output_array)"
      ],
      "execution_count": null,
      "outputs": []
    },
    {
      "cell_type": "markdown",
      "metadata": {
        "id": "WOJJFp2-E8f9"
      },
      "source": [
        "For testing let's use the 'sqft_living' feature and a constant as our features and price as our output:"
      ]
    },
    {
      "cell_type": "code",
      "metadata": {
        "id": "lcKbbIwAE8gH",
        "colab": {
          "base_uri": "https://localhost:8080/",
          "height": 54
        },
        "outputId": "1791aa8b-0645-4686-a051-08369de77542"
      },
      "source": [
        "(example_features, example_output) = get_numpy_data(sales, ['sqft_living'], 'price') # the [] around 'sqft_living' makes it a list\n",
        "print(example_features[0,:]) # this accesses the first row of the data the ':' indicates 'all columns'\n",
        "print(example_output[0]) # and the corresponding output"
      ],
      "execution_count": null,
      "outputs": [
        {
          "output_type": "stream",
          "text": [
            "[1.00e+00 1.18e+03]\n",
            "221900.0\n"
          ],
          "name": "stdout"
        }
      ]
    },
    {
      "cell_type": "markdown",
      "metadata": {
        "id": "keolzSINE8gu"
      },
      "source": [
        "# Predicting output given regression weights"
      ]
    },
    {
      "cell_type": "markdown",
      "metadata": {
        "id": "exVytIVVE8g9"
      },
      "source": [
        "Suppose we had the weights [1.0, 1.0] and the features [1.0, 1180.0] and we wanted to compute the predicted output 1.0\\*1.0 + 1.0\\*1180.0 = 1181.0 this is the dot product between these two arrays. If they're numpy arrayws we can use np.dot() to compute this:"
      ]
    },
    {
      "cell_type": "code",
      "metadata": {
        "id": "meZRPJCJE8hK",
        "colab": {
          "base_uri": "https://localhost:8080/",
          "height": 35
        },
        "outputId": "28d3242f-a29a-4d89-85f6-9a4ed3762258"
      },
      "source": [
        "my_weights = np.array([1., 1.]) # the example weights\n",
        "my_features = example_features[0,] # we'll use the first data point\n",
        "predicted_value = np.dot(my_features, my_weights)\n",
        "print(predicted_value)"
      ],
      "execution_count": null,
      "outputs": [
        {
          "output_type": "stream",
          "text": [
            "1181.0\n"
          ],
          "name": "stdout"
        }
      ]
    },
    {
      "cell_type": "markdown",
      "metadata": {
        "id": "l1_9IiTXE8iA"
      },
      "source": [
        "np.dot() also works when dealing with a matrix and a vector. Recall that the predictions from all the observations is just the RIGHT (as in weights on the right) dot product between the features *matrix* and the weights *vector*. With this in mind finish the following predict_output function to compute the predictions for an entire matrix of features given the matrix and the weights:"
      ]
    },
    {
      "cell_type": "code",
      "metadata": {
        "id": "18ticZk3E8iW"
      },
      "source": [
        "def predict_output(feature_matrix, weights):\n",
        "    # assume feature_matrix is a numpy matrix containing the features as columns and weights is a corresponding numpy array\n",
        "    # create the predictions vector by using np.dot()\n",
        "    predictions = np.dot(feature_matrix, weights)\n",
        "    return(predictions)"
      ],
      "execution_count": null,
      "outputs": []
    },
    {
      "cell_type": "markdown",
      "metadata": {
        "id": "X4RyBB36E8jH"
      },
      "source": [
        "If you want to test your code run the following cell:"
      ]
    },
    {
      "cell_type": "code",
      "metadata": {
        "id": "yHMXTzD9E8jW",
        "colab": {
          "base_uri": "https://localhost:8080/",
          "height": 54
        },
        "outputId": "c98fa983-cb01-4faf-a300-f8779571b87e"
      },
      "source": [
        "test_predictions = predict_output(example_features, my_weights)\n",
        "print(test_predictions[0])# should be 1181.0\n",
        "print(test_predictions[1])# should be 2571.0"
      ],
      "execution_count": null,
      "outputs": [
        {
          "output_type": "stream",
          "text": [
            "1181.0\n",
            "2571.0\n"
          ],
          "name": "stdout"
        }
      ]
    },
    {
      "cell_type": "markdown",
      "metadata": {
        "id": "ibyNm4k5E8kC"
      },
      "source": [
        "# Computing the Derivative"
      ]
    },
    {
      "cell_type": "markdown",
      "metadata": {
        "id": "BZvoo7IEE8kJ"
      },
      "source": [
        "We are now going to move to computing the derivative of the regression cost function. Recall that the cost function is the sum over the data points of the squared difference between an observed output and a predicted output.\n",
        "\n",
        "Since the derivative of a sum is the sum of the derivatives we can compute the derivative for a single data point and then sum over data points. We can write the squared difference between the observed output and predicted output for a single point as follows:\n",
        "\n",
        "(w[0]\\*[CONSTANT] + w[1]\\*[feature_1] + ... + w[i] \\*[feature_i] + ... +  w[k]\\*[feature_k] - output)^2\n",
        "\n",
        "Where we have k features and a constant. So the derivative with respect to weight w[i] by the chain rule is:\n",
        "\n",
        "2\\*(w[0]\\*[CONSTANT] + w[1]\\*[feature_1] + ... + w[i] \\*[feature_i] + ... +  w[k]\\*[feature_k] - output)\\* [feature_i]\n",
        "\n",
        "The term inside the paranethesis is just the error (difference between prediction and output). So we can re-write this as:\n",
        "\n",
        "2\\*error\\*[feature_i]\n",
        "\n",
        "That is, the derivative for the weight for feature i is the sum (over data points) of 2 times the product of the error and the feature itself. In the case of the constant then this is just twice the sum of the errors!\n",
        "\n",
        "Recall that twice the sum of the product of two vectors is just twice the dot product of the two vectors. Therefore the derivative for the weight for feature_i is just two times the dot product between the values of feature_i and the current errors. \n",
        "\n",
        "With this in mind complete the following derivative function which computes the derivative of the weight given the value of the feature (over all data points) and the errors (over all data points)."
      ]
    },
    {
      "cell_type": "code",
      "metadata": {
        "id": "f3sBJPd8E8kS"
      },
      "source": [
        "def feature_derivative(errors, feature):\n",
        "    # Assume that errors and feature are both numpy arrays of the same length (number of data points)\n",
        "    # compute twice the dot product of these vectors as 'derivative' and return the value\n",
        "    derivative = np.dot(errors,feature)*2\n",
        "    return(derivative)"
      ],
      "execution_count": null,
      "outputs": []
    },
    {
      "cell_type": "markdown",
      "metadata": {
        "id": "KAAOlnAEE8ku"
      },
      "source": [
        "To test your feature derivartive run the following:"
      ]
    },
    {
      "cell_type": "code",
      "metadata": {
        "id": "I09SGRQNE8k4",
        "colab": {
          "base_uri": "https://localhost:8080/",
          "height": 54
        },
        "outputId": "da49095f-4402-44c3-f868-82688d18ad6b"
      },
      "source": [
        "(example_features, example_output) = get_numpy_data(sales, ['sqft_living'], 'price') \n",
        "my_weights = np.array([0., 0.]) # this makes all the predictions 0\n",
        "test_predictions = predict_output(example_features, my_weights) \n",
        "# just like SFrames 2 numpy arrays can be elementwise subtracted with '-': \n",
        "errors = test_predictions - example_output # prediction errors in this case is just the -example_output\n",
        "feature = example_features[:,0] # let's compute the derivative with respect to 'constant', the \":\" indicates \"all rows\"\n",
        "derivative = feature_derivative(errors, feature)\n",
        "print(derivative)\n",
        "print(-np.sum(example_output)*2) # should be the same as derivative"
      ],
      "execution_count": null,
      "outputs": [
        {
          "output_type": "stream",
          "text": [
            "-23345850022.0\n",
            "-23345850022.0\n"
          ],
          "name": "stdout"
        }
      ]
    },
    {
      "cell_type": "markdown",
      "metadata": {
        "id": "UqH1WU_XE8lX"
      },
      "source": [
        "# Gradient Descent"
      ]
    },
    {
      "cell_type": "markdown",
      "metadata": {
        "id": "-P_LT-UqE8lj"
      },
      "source": [
        "Now we will write a function that performs a gradient descent. The basic premise is simple. Given a starting point we update the current weights by moving in the negative gradient direction. Recall that the gradient is the direction of *increase* and therefore the negative gradient is the direction of *decrease* and we're trying to *minimize* a cost function. \n",
        "\n",
        "The amount by which we move in the negative gradient *direction*  is called the 'step size'. We stop when we are 'sufficiently close' to the optimum. We define this by requiring that the magnitude (length) of the gradient vector to be smaller than a fixed 'tolerance'.\n",
        "\n",
        "With this in mind, complete the following gradient descent function below using your derivative function above. For each step in the gradient descent we update the weight for each feature befofe computing our stopping criteria"
      ]
    },
    {
      "cell_type": "code",
      "metadata": {
        "id": "Oo1U43RsE8ls"
      },
      "source": [
        "from math import sqrt # recall that the magnitude/length of a vector [g[0], g[1], g[2]] is sqrt(g[0]^2 + g[1]^2 + g[2]^2)"
      ],
      "execution_count": null,
      "outputs": []
    },
    {
      "cell_type": "code",
      "metadata": {
        "id": "u1Hc287KE8mZ"
      },
      "source": [
        "def regression_gradient_descent(feature_matrix, output, initial_weights, step_size, tolerance):\n",
        "    converged = False \n",
        "    weights = np.array(initial_weights) # make sure it's a numpy array\n",
        "    while not converged:\n",
        "        # compute the predictions based on feature_matrix and weights using your predict_output() function\n",
        "        predictions = predict_output(feature_matrix, weights)\n",
        "        # compute the errors as predictions - output\n",
        "        errors = predictions - output\n",
        "        gradient_sum_squares = 0 # initialize the gradient sum of squares\n",
        "        # while we haven't reached the tolerance yet, update each feature's weight\n",
        "        for i in range(len(weights)): # loop over each weight\n",
        "            # Recall that feature_matrix[:, i] is the feature column associated with weights[i]\n",
        "            # compute the derivative for weight[i]:\n",
        "            derivative = feature_derivative(errors, feature_matrix[:, i])\n",
        "            # add the squared value of the derivative to the gradient sum of squares (for assessing convergence)\n",
        "            gradient_sum_squares = (derivative**2) + gradient_sum_squares\n",
        "            # subtract the step size times the derivative from the current weight\n",
        "            weights[i] = weights[i] - (step_size*derivative)\n",
        "        # compute the square-root of the gradient sum of squares to get the gradient magnitude:\n",
        "        gradient_magnitude = sqrt(gradient_sum_squares)\n",
        "        if gradient_magnitude < tolerance:\n",
        "            converged = True\n",
        "    return(weights)"
      ],
      "execution_count": null,
      "outputs": []
    },
    {
      "cell_type": "markdown",
      "metadata": {
        "id": "NPUSQ1x0E8nK"
      },
      "source": [
        "A few things to note before we run the gradient descent. Since the gradient is a sum over all the data points and involves a product of an error and a feature the gradient itself will be very large since the features are large (squarefeet) and the output is large (prices). So while you might expect \"tolerance\" to be small, small is only relative to the size of the features. \n",
        "\n",
        "For similar reasons the step size will be much smaller than you might expect but this is because the gradient has such large values."
      ]
    },
    {
      "cell_type": "markdown",
      "metadata": {
        "id": "mW3rSycsE8nW"
      },
      "source": [
        "# Running the Gradient Descent as Simple Regression"
      ]
    },
    {
      "cell_type": "markdown",
      "metadata": {
        "id": "2vgyAo7JE8nz"
      },
      "source": [
        "First let's split the data into training and test data."
      ]
    },
    {
      "cell_type": "code",
      "metadata": {
        "id": "pXI-mvvmE8oD"
      },
      "source": [
        "train_data,test_data = sales.random_split(.8,seed=0)"
      ],
      "execution_count": null,
      "outputs": []
    },
    {
      "cell_type": "markdown",
      "metadata": {
        "id": "fzjPnnv3E8oz"
      },
      "source": [
        "Although the gradient descent is designed for multiple regression since the constant is now a feature we can use the gradient descent function to estimate the parameters in the simple regression on squarefeet. The folowing cell sets up the feature_matrix, output, initial weights and step size for the first model:"
      ]
    },
    {
      "cell_type": "code",
      "metadata": {
        "id": "8vs4lv4IE8pE"
      },
      "source": [
        "# let's test out the gradient descent\n",
        "simple_features = ['sqft_living']\n",
        "my_output = 'price'\n",
        "(simple_feature_matrix, output) = get_numpy_data(train_data, simple_features, my_output)\n",
        "initial_weights = np.array([-47000., 1.])\n",
        "step_size = 7e-12\n",
        "tolerance = 2.5e7"
      ],
      "execution_count": null,
      "outputs": []
    },
    {
      "cell_type": "markdown",
      "metadata": {
        "id": "VK5YadM0E8po"
      },
      "source": [
        "Next run your gradient descent with the above parameters."
      ]
    },
    {
      "cell_type": "code",
      "metadata": {
        "id": "edyIBAxUE8p0",
        "colab": {
          "base_uri": "https://localhost:8080/",
          "height": 35
        },
        "outputId": "b43ac229-e89e-4295-839b-5b2199f68a18"
      },
      "source": [
        "model_one_weights = regression_gradient_descent(simple_feature_matrix, output, initial_weights, step_size, tolerance)\n",
        "model_one_weights"
      ],
      "execution_count": null,
      "outputs": [
        {
          "output_type": "execute_result",
          "data": {
            "text/plain": [
              "array([-46999.88716555,    281.91211912])"
            ]
          },
          "metadata": {
            "tags": []
          },
          "execution_count": 18
        }
      ]
    },
    {
      "cell_type": "markdown",
      "metadata": {
        "id": "P24anyasE8qQ"
      },
      "source": [
        "How do your weights compare to those achieved in week 1 (don't expect them to be exactly the same)? \n",
        "\n",
        "**Quiz Question: What is the value of the weight for sqft_living -- the second element of ‘simple_weights’ (rounded to 1 decimal place)?**"
      ]
    },
    {
      "cell_type": "markdown",
      "metadata": {
        "id": "MhjzxdR4E8qx"
      },
      "source": [
        "Use your newly estimated weights and your predict_output() function to compute the predictions on all the TEST data (you will need to create a numpy array of the test feature_matrix and test output first:"
      ]
    },
    {
      "cell_type": "code",
      "metadata": {
        "id": "yllGVNC8E8rx"
      },
      "source": [
        "(test_simple_feature_matrix, test_output) = get_numpy_data(test_data, simple_features, my_output)"
      ],
      "execution_count": null,
      "outputs": []
    },
    {
      "cell_type": "markdown",
      "metadata": {
        "id": "L8m71MHyE8tD"
      },
      "source": [
        "Now compute your predictions using test_simple_feature_matrix and your weights from above."
      ]
    },
    {
      "cell_type": "code",
      "metadata": {
        "id": "zngO85RaE8tU",
        "colab": {
          "base_uri": "https://localhost:8080/",
          "height": 54
        },
        "outputId": "5f08d5b2-865b-4734-e467-963d35a344b3"
      },
      "source": [
        "model_one = predict_output(test_simple_feature_matrix, model_one_weights) \n",
        "model_one"
      ],
      "execution_count": null,
      "outputs": [
        {
          "output_type": "execute_result",
          "data": {
            "text/plain": [
              "array([356134.44317093, 784640.86422788, 435069.83652353, ...,\n",
              "       663418.65300782, 604217.10799338, 240550.4743332 ])"
            ]
          },
          "metadata": {
            "tags": []
          },
          "execution_count": 21
        }
      ]
    },
    {
      "cell_type": "markdown",
      "metadata": {
        "id": "aYgU8ESjE8uy"
      },
      "source": [
        "**Quiz Question: What is the predicted price for the 1st house in the TEST data set for model 1 (round to nearest dollar)?**"
      ]
    },
    {
      "cell_type": "code",
      "metadata": {
        "id": "epfYxeHxE8u5",
        "colab": {
          "base_uri": "https://localhost:8080/",
          "height": 35
        },
        "outputId": "af019718-4345-4661-ccad-9c2ac25d0117"
      },
      "source": [
        "model_one[0]"
      ],
      "execution_count": null,
      "outputs": [
        {
          "output_type": "execute_result",
          "data": {
            "text/plain": [
              "356134.4431709297"
            ]
          },
          "metadata": {
            "tags": []
          },
          "execution_count": 22
        }
      ]
    },
    {
      "cell_type": "markdown",
      "metadata": {
        "id": "niGqnwPVE8wA"
      },
      "source": [
        "Now that you have the predictions on test data, compute the RSS on the test data set. Save this value for comparison later. Recall that RSS is the sum of the squared errors (difference between prediction and output)."
      ]
    },
    {
      "cell_type": "code",
      "metadata": {
        "id": "Gup0f13FE8wP",
        "colab": {
          "base_uri": "https://localhost:8080/",
          "height": 35
        },
        "outputId": "476c010c-4ea8-41ff-fb14-127377fe782f"
      },
      "source": [
        "RSS = np.sum((model_one - test_output)**2)\n",
        "RSS"
      ],
      "execution_count": null,
      "outputs": [
        {
          "output_type": "execute_result",
          "data": {
            "text/plain": [
              "275400047593155.94"
            ]
          },
          "metadata": {
            "tags": []
          },
          "execution_count": 23
        }
      ]
    },
    {
      "cell_type": "markdown",
      "metadata": {
        "id": "TsxJyeYrE8ww"
      },
      "source": [
        "# Running a multiple regression"
      ]
    },
    {
      "cell_type": "markdown",
      "metadata": {
        "id": "4KVC-m9FE8w4"
      },
      "source": [
        "Now we will use more than one actual feature. Use the following code to produce the weights for a second model with the following parameters:"
      ]
    },
    {
      "cell_type": "code",
      "metadata": {
        "id": "dgO23SyUE8w9"
      },
      "source": [
        "model_features = ['sqft_living', 'sqft_living15'] # sqft_living15 is the average squarefeet for the nearest 15 neighbors. \n",
        "my_output = 'price'\n",
        "(feature_matrix, output) = get_numpy_data(train_data, model_features, my_output)\n",
        "initial_weights = np.array([-100000., 1., 1.])\n",
        "step_size = 4e-12\n",
        "tolerance = 1e9"
      ],
      "execution_count": null,
      "outputs": []
    },
    {
      "cell_type": "markdown",
      "metadata": {
        "id": "zU4VSLGXE8xW"
      },
      "source": [
        "Use the above parameters to estimate the model weights. Record these values for your quiz."
      ]
    },
    {
      "cell_type": "code",
      "metadata": {
        "id": "c7B6y5xME81o",
        "colab": {
          "base_uri": "https://localhost:8080/",
          "height": 35
        },
        "outputId": "fe2b0776-07e5-4a21-f6eb-e437522f5ae3"
      },
      "source": [
        "model_two_weights = regression_gradient_descent(feature_matrix, output, initial_weights, step_size, tolerance)\n",
        "model_two_weights"
      ],
      "execution_count": null,
      "outputs": [
        {
          "output_type": "execute_result",
          "data": {
            "text/plain": [
              "array([-9.99999688e+04,  2.45072603e+02,  6.52795277e+01])"
            ]
          },
          "metadata": {
            "tags": []
          },
          "execution_count": 26
        }
      ]
    },
    {
      "cell_type": "markdown",
      "metadata": {
        "id": "slD9H_EDE828"
      },
      "source": [
        "Use your newly estimated weights and the predict_output function to compute the predictions on the TEST data. Don't forget to create a numpy array for these features from the test set first!"
      ]
    },
    {
      "cell_type": "code",
      "metadata": {
        "id": "s5iF8rZjE84a",
        "colab": {
          "base_uri": "https://localhost:8080/",
          "height": 54
        },
        "outputId": "ef8ff7b5-e9a7-44ee-e977-fa16636aec59"
      },
      "source": [
        "(test_simple_feature_matrix, test_output) = get_numpy_data(test_data, model_features, my_output)\n",
        "model_two = predict_output(test_simple_feature_matrix, model_two_weights) \n",
        "model_two"
      ],
      "execution_count": null,
      "outputs": [
        {
          "output_type": "execute_result",
          "data": {
            "text/plain": [
              "array([366651.41203656, 762662.39786164, 386312.09499712, ...,\n",
              "       682087.39928241, 585579.27865729, 216559.20396617])"
            ]
          },
          "metadata": {
            "tags": []
          },
          "execution_count": 27
        }
      ]
    },
    {
      "cell_type": "markdown",
      "metadata": {
        "id": "6GywRZANE846"
      },
      "source": [
        "**Quiz Question: What is the predicted price for the 1st house in the TEST data set for model 2 (round to nearest dollar)?**"
      ]
    },
    {
      "cell_type": "code",
      "metadata": {
        "id": "XYb2XBZ_E84-",
        "colab": {
          "base_uri": "https://localhost:8080/",
          "height": 35
        },
        "outputId": "469f4688-9f38-484b-cf99-e4381d8a0873"
      },
      "source": [
        "model_two[0]"
      ],
      "execution_count": null,
      "outputs": [
        {
          "output_type": "execute_result",
          "data": {
            "text/plain": [
              "366651.41203655914"
            ]
          },
          "metadata": {
            "tags": []
          },
          "execution_count": 28
        }
      ]
    },
    {
      "cell_type": "markdown",
      "metadata": {
        "id": "VAzcwYrhE85K"
      },
      "source": [
        "What is the actual price for the 1st house in the test data set?"
      ]
    },
    {
      "cell_type": "code",
      "metadata": {
        "id": "W1OXTaa-E85S",
        "colab": {
          "base_uri": "https://localhost:8080/",
          "height": 35
        },
        "outputId": "0ddbdae7-2453-4cfb-b945-5305cbd68943"
      },
      "source": [
        "test_output[0]"
      ],
      "execution_count": null,
      "outputs": [
        {
          "output_type": "execute_result",
          "data": {
            "text/plain": [
              "310000.0"
            ]
          },
          "metadata": {
            "tags": []
          },
          "execution_count": 29
        }
      ]
    },
    {
      "cell_type": "markdown",
      "metadata": {
        "id": "9FcF_ZG0E85z"
      },
      "source": [
        "**Quiz Question: Which estimate was closer to the true price for the 1st house on the TEST data set, model 1 or model 2?**"
      ]
    },
    {
      "cell_type": "markdown",
      "metadata": {
        "id": "XitXvi4bE85_"
      },
      "source": [
        "Now use your predictions and the output to compute the RSS for model 2 on TEST data."
      ]
    },
    {
      "cell_type": "code",
      "metadata": {
        "id": "Sp1ahUY_E87D",
        "colab": {
          "base_uri": "https://localhost:8080/",
          "height": 35
        },
        "outputId": "5eefda89-1e89-44ca-8e52-e15a61c2803b"
      },
      "source": [
        "RSS_two = np.sum((model_two - test_output)**2)\n",
        "RSS_two"
      ],
      "execution_count": null,
      "outputs": [
        {
          "output_type": "execute_result",
          "data": {
            "text/plain": [
              "270263446465244.06"
            ]
          },
          "metadata": {
            "tags": []
          },
          "execution_count": 31
        }
      ]
    },
    {
      "cell_type": "markdown",
      "metadata": {
        "id": "z2XINUtfE87j"
      },
      "source": [
        "**Quiz Question: Which model (1 or 2) has lowest RSS on all of the TEST data? **"
      ]
    },
    {
      "cell_type": "code",
      "metadata": {
        "id": "d1PaP7UiE87n",
        "colab": {
          "base_uri": "https://localhost:8080/",
          "height": 35
        },
        "outputId": "c5ff10e1-439e-44d5-dd46-3eca351763bd"
      },
      "source": [
        "RSS_two - RSS"
      ],
      "execution_count": null,
      "outputs": [
        {
          "output_type": "execute_result",
          "data": {
            "text/plain": [
              "-5136601127911.875"
            ]
          },
          "metadata": {
            "tags": []
          },
          "execution_count": 32
        }
      ]
    }
  ]
}