{
  "nbformat": 4,
  "nbformat_minor": 0,
  "metadata": {
    "kernelspec": {
      "display_name": "Python 3",
      "language": "python",
      "name": "python3"
    },
    "language_info": {
      "codemirror_mode": {
        "name": "ipython",
        "version": 3
      },
      "file_extension": ".py",
      "mimetype": "text/x-python",
      "name": "python",
      "nbconvert_exporter": "python",
      "pygments_lexer": "ipython3",
      "version": "3.6.8"
    },
    "colab": {
      "name": "Locality Sensitive Hashing.ipynb",
      "provenance": [],
      "collapsed_sections": []
    }
  },
  "cells": [
    {
      "cell_type": "code",
      "metadata": {
        "id": "z7cYgy83V4xM",
        "colab": {
          "base_uri": "https://localhost:8080/",
          "height": 1000
        },
        "outputId": "68546ef1-fd3a-4e52-9977-0f4ad409f981"
      },
      "source": [
        "!pip install turicreate\n",
        "!pip install numpy"
      ],
      "execution_count": null,
      "outputs": [
        {
          "output_type": "stream",
          "text": [
            "Collecting turicreate\n",
            "\u001b[?25l  Downloading https://files.pythonhosted.org/packages/ee/3c/11f0818f117bc80bab78b5b04d492316f949d005bb1c6b3e05f31182b20e/turicreate-6.2.2-cp36-cp36m-manylinux1_x86_64.whl (91.8MB)\n",
            "\u001b[K     |████████████████████████████████| 91.8MB 54kB/s \n",
            "\u001b[?25hCollecting coremltools==3.3\n",
            "\u001b[?25l  Downloading https://files.pythonhosted.org/packages/77/19/611916d1ef326d38857d93af5ba184f6ad7491642e0fa4f9082e7d82f034/coremltools-3.3-cp36-none-manylinux1_x86_64.whl (3.4MB)\n",
            "\u001b[K     |████████████████████████████████| 3.4MB 45.5MB/s \n",
            "\u001b[?25hRequirement already satisfied: prettytable==0.7.2 in /usr/local/lib/python3.6/dist-packages (from turicreate) (0.7.2)\n",
            "Collecting resampy==0.2.1\n",
            "\u001b[?25l  Downloading https://files.pythonhosted.org/packages/14/b6/66a06d85474190b50aee1a6c09cdc95bb405ac47338b27e9b21409da1760/resampy-0.2.1.tar.gz (322kB)\n",
            "\u001b[K     |████████████████████████████████| 327kB 44.5MB/s \n",
            "\u001b[?25hRequirement already satisfied: six>=1.10.0 in /usr/local/lib/python3.6/dist-packages (from turicreate) (1.12.0)\n",
            "Requirement already satisfied: pandas>=0.23.2 in /usr/local/lib/python3.6/dist-packages (from turicreate) (1.0.3)\n",
            "Requirement already satisfied: pillow>=5.2.0 in /usr/local/lib/python3.6/dist-packages (from turicreate) (7.0.0)\n",
            "Collecting tensorflow<=2.0.1,>=2.0.0\n",
            "\u001b[?25l  Downloading https://files.pythonhosted.org/packages/43/16/b07e3f7a4a024b47918f7018967eb984b0c542458a6141d8c48515aa81d4/tensorflow-2.0.1-cp36-cp36m-manylinux2010_x86_64.whl (86.3MB)\n",
            "\u001b[K     |████████████████████████████████| 86.3MB 50kB/s \n",
            "\u001b[?25hRequirement already satisfied: numpy in /usr/local/lib/python3.6/dist-packages (from turicreate) (1.18.4)\n",
            "Requirement already satisfied: scipy>=1.1.0 in /usr/local/lib/python3.6/dist-packages (from turicreate) (1.4.1)\n",
            "Requirement already satisfied: decorator>=4.0.9 in /usr/local/lib/python3.6/dist-packages (from turicreate) (4.4.2)\n",
            "Requirement already satisfied: requests>=2.9.1 in /usr/local/lib/python3.6/dist-packages (from turicreate) (2.23.0)\n",
            "Requirement already satisfied: protobuf>=3.1.0 in /usr/local/lib/python3.6/dist-packages (from coremltools==3.3->turicreate) (3.10.0)\n",
            "Requirement already satisfied: numba>=0.32 in /usr/local/lib/python3.6/dist-packages (from resampy==0.2.1->turicreate) (0.48.0)\n",
            "Requirement already satisfied: pytz>=2017.2 in /usr/local/lib/python3.6/dist-packages (from pandas>=0.23.2->turicreate) (2018.9)\n",
            "Requirement already satisfied: python-dateutil>=2.6.1 in /usr/local/lib/python3.6/dist-packages (from pandas>=0.23.2->turicreate) (2.8.1)\n",
            "Requirement already satisfied: keras-preprocessing>=1.0.5 in /usr/local/lib/python3.6/dist-packages (from tensorflow<=2.0.1,>=2.0.0->turicreate) (1.1.0)\n",
            "Requirement already satisfied: wrapt>=1.11.1 in /usr/local/lib/python3.6/dist-packages (from tensorflow<=2.0.1,>=2.0.0->turicreate) (1.12.1)\n",
            "Requirement already satisfied: keras-applications>=1.0.8 in /usr/local/lib/python3.6/dist-packages (from tensorflow<=2.0.1,>=2.0.0->turicreate) (1.0.8)\n",
            "Requirement already satisfied: google-pasta>=0.1.6 in /usr/local/lib/python3.6/dist-packages (from tensorflow<=2.0.1,>=2.0.0->turicreate) (0.2.0)\n",
            "Requirement already satisfied: absl-py>=0.7.0 in /usr/local/lib/python3.6/dist-packages (from tensorflow<=2.0.1,>=2.0.0->turicreate) (0.9.0)\n",
            "Requirement already satisfied: termcolor>=1.1.0 in /usr/local/lib/python3.6/dist-packages (from tensorflow<=2.0.1,>=2.0.0->turicreate) (1.1.0)\n",
            "Requirement already satisfied: grpcio>=1.8.6 in /usr/local/lib/python3.6/dist-packages (from tensorflow<=2.0.1,>=2.0.0->turicreate) (1.28.1)\n",
            "Requirement already satisfied: astor>=0.6.0 in /usr/local/lib/python3.6/dist-packages (from tensorflow<=2.0.1,>=2.0.0->turicreate) (0.8.1)\n",
            "Requirement already satisfied: wheel>=0.26; python_version >= \"3\" in /usr/local/lib/python3.6/dist-packages (from tensorflow<=2.0.1,>=2.0.0->turicreate) (0.34.2)\n",
            "Requirement already satisfied: opt-einsum>=2.3.2 in /usr/local/lib/python3.6/dist-packages (from tensorflow<=2.0.1,>=2.0.0->turicreate) (3.2.1)\n",
            "Collecting gast==0.2.2\n",
            "  Downloading https://files.pythonhosted.org/packages/4e/35/11749bf99b2d4e3cceb4d55ca22590b0d7c2c62b9de38ac4a4a7f4687421/gast-0.2.2.tar.gz\n",
            "Collecting tensorflow-estimator<2.1.0,>=2.0.0\n",
            "\u001b[?25l  Downloading https://files.pythonhosted.org/packages/fc/08/8b927337b7019c374719145d1dceba21a8bb909b93b1ad6f8fb7d22c1ca1/tensorflow_estimator-2.0.1-py2.py3-none-any.whl (449kB)\n",
            "\u001b[K     |████████████████████████████████| 450kB 43.2MB/s \n",
            "\u001b[?25hCollecting tensorboard<2.1.0,>=2.0.0\n",
            "\u001b[?25l  Downloading https://files.pythonhosted.org/packages/76/54/99b9d5d52d5cb732f099baaaf7740403e83fe6b0cedde940fabd2b13d75a/tensorboard-2.0.2-py3-none-any.whl (3.8MB)\n",
            "\u001b[K     |████████████████████████████████| 3.8MB 40.4MB/s \n",
            "\u001b[?25hRequirement already satisfied: certifi>=2017.4.17 in /usr/local/lib/python3.6/dist-packages (from requests>=2.9.1->turicreate) (2020.4.5.1)\n",
            "Requirement already satisfied: idna<3,>=2.5 in /usr/local/lib/python3.6/dist-packages (from requests>=2.9.1->turicreate) (2.9)\n",
            "Requirement already satisfied: urllib3!=1.25.0,!=1.25.1,<1.26,>=1.21.1 in /usr/local/lib/python3.6/dist-packages (from requests>=2.9.1->turicreate) (1.24.3)\n",
            "Requirement already satisfied: chardet<4,>=3.0.2 in /usr/local/lib/python3.6/dist-packages (from requests>=2.9.1->turicreate) (3.0.4)\n",
            "Requirement already satisfied: setuptools in /usr/local/lib/python3.6/dist-packages (from protobuf>=3.1.0->coremltools==3.3->turicreate) (46.1.3)\n",
            "Requirement already satisfied: llvmlite<0.32.0,>=0.31.0dev0 in /usr/local/lib/python3.6/dist-packages (from numba>=0.32->resampy==0.2.1->turicreate) (0.31.0)\n",
            "Requirement already satisfied: h5py in /usr/local/lib/python3.6/dist-packages (from keras-applications>=1.0.8->tensorflow<=2.0.1,>=2.0.0->turicreate) (2.10.0)\n",
            "Requirement already satisfied: werkzeug>=0.11.15 in /usr/local/lib/python3.6/dist-packages (from tensorboard<2.1.0,>=2.0.0->tensorflow<=2.0.1,>=2.0.0->turicreate) (1.0.1)\n",
            "Requirement already satisfied: markdown>=2.6.8 in /usr/local/lib/python3.6/dist-packages (from tensorboard<2.1.0,>=2.0.0->tensorflow<=2.0.1,>=2.0.0->turicreate) (3.2.1)\n",
            "Requirement already satisfied: google-auth<2,>=1.6.3 in /usr/local/lib/python3.6/dist-packages (from tensorboard<2.1.0,>=2.0.0->tensorflow<=2.0.1,>=2.0.0->turicreate) (1.7.2)\n",
            "Requirement already satisfied: google-auth-oauthlib<0.5,>=0.4.1 in /usr/local/lib/python3.6/dist-packages (from tensorboard<2.1.0,>=2.0.0->tensorflow<=2.0.1,>=2.0.0->turicreate) (0.4.1)\n",
            "Requirement already satisfied: cachetools<3.2,>=2.0.0 in /usr/local/lib/python3.6/dist-packages (from google-auth<2,>=1.6.3->tensorboard<2.1.0,>=2.0.0->tensorflow<=2.0.1,>=2.0.0->turicreate) (3.1.1)\n",
            "Requirement already satisfied: pyasn1-modules>=0.2.1 in /usr/local/lib/python3.6/dist-packages (from google-auth<2,>=1.6.3->tensorboard<2.1.0,>=2.0.0->tensorflow<=2.0.1,>=2.0.0->turicreate) (0.2.8)\n",
            "Requirement already satisfied: rsa<4.1,>=3.1.4 in /usr/local/lib/python3.6/dist-packages (from google-auth<2,>=1.6.3->tensorboard<2.1.0,>=2.0.0->tensorflow<=2.0.1,>=2.0.0->turicreate) (4.0)\n",
            "Requirement already satisfied: requests-oauthlib>=0.7.0 in /usr/local/lib/python3.6/dist-packages (from google-auth-oauthlib<0.5,>=0.4.1->tensorboard<2.1.0,>=2.0.0->tensorflow<=2.0.1,>=2.0.0->turicreate) (1.3.0)\n",
            "Requirement already satisfied: pyasn1<0.5.0,>=0.4.6 in /usr/local/lib/python3.6/dist-packages (from pyasn1-modules>=0.2.1->google-auth<2,>=1.6.3->tensorboard<2.1.0,>=2.0.0->tensorflow<=2.0.1,>=2.0.0->turicreate) (0.4.8)\n",
            "Requirement already satisfied: oauthlib>=3.0.0 in /usr/local/lib/python3.6/dist-packages (from requests-oauthlib>=0.7.0->google-auth-oauthlib<0.5,>=0.4.1->tensorboard<2.1.0,>=2.0.0->tensorflow<=2.0.1,>=2.0.0->turicreate) (3.1.0)\n",
            "Building wheels for collected packages: resampy, gast\n",
            "  Building wheel for resampy (setup.py) ... \u001b[?25l\u001b[?25hdone\n",
            "  Created wheel for resampy: filename=resampy-0.2.1-cp36-none-any.whl size=320850 sha256=ee591d3b3eb63ba8022d621e16c49d2f9d721c0cf4cc6e888642c61d72864d6a\n",
            "  Stored in directory: /root/.cache/pip/wheels/ff/4f/ed/2e6c676c23efe5394bb40ade50662e90eb46e29b48324c5f9b\n",
            "  Building wheel for gast (setup.py) ... \u001b[?25l\u001b[?25hdone\n",
            "  Created wheel for gast: filename=gast-0.2.2-cp36-none-any.whl size=7540 sha256=6c8195456e3d50de1aff630307d1d25c6e083cf3eee4feb75ecbcad6805de354\n",
            "  Stored in directory: /root/.cache/pip/wheels/5c/2e/7e/a1d4d4fcebe6c381f378ce7743a3ced3699feb89bcfbdadadd\n",
            "Successfully built resampy gast\n",
            "\u001b[31mERROR: tensorflow-probability 0.10.0rc0 has requirement gast>=0.3.2, but you'll have gast 0.2.2 which is incompatible.\u001b[0m\n",
            "Installing collected packages: coremltools, resampy, gast, tensorflow-estimator, tensorboard, tensorflow, turicreate\n",
            "  Found existing installation: resampy 0.2.2\n",
            "    Uninstalling resampy-0.2.2:\n",
            "      Successfully uninstalled resampy-0.2.2\n",
            "  Found existing installation: gast 0.3.3\n",
            "    Uninstalling gast-0.3.3:\n",
            "      Successfully uninstalled gast-0.3.3\n",
            "  Found existing installation: tensorflow-estimator 2.2.0\n",
            "    Uninstalling tensorflow-estimator-2.2.0:\n",
            "      Successfully uninstalled tensorflow-estimator-2.2.0\n",
            "  Found existing installation: tensorboard 2.2.1\n",
            "    Uninstalling tensorboard-2.2.1:\n",
            "      Successfully uninstalled tensorboard-2.2.1\n",
            "  Found existing installation: tensorflow 2.2.0\n",
            "    Uninstalling tensorflow-2.2.0:\n",
            "      Successfully uninstalled tensorflow-2.2.0\n",
            "Successfully installed coremltools-3.3 gast-0.2.2 resampy-0.2.1 tensorboard-2.0.2 tensorflow-2.0.1 tensorflow-estimator-2.0.1 turicreate-6.2.2\n",
            "Requirement already satisfied: numpy in /usr/local/lib/python3.6/dist-packages (1.18.4)\n"
          ],
          "name": "stdout"
        }
      ]
    },
    {
      "cell_type": "code",
      "metadata": {
        "id": "J2HLgVlXV6FG",
        "colab": {
          "base_uri": "https://localhost:8080/",
          "height": 129
        },
        "outputId": "4cd3d37e-fbf8-4b94-d467-8ec4154ef2e3"
      },
      "source": [
        "import os.path\n",
        "from google.colab import drive\n",
        "\n",
        "# mount Google Drive to /content/drive/My Drive/\n",
        "if os.path.isdir(\"/content/drive/My Drive/\"):\n",
        "  print(\"Google Drive already mounted\")\n",
        "else:\n",
        "  drive.mount('/content/drive')"
      ],
      "execution_count": null,
      "outputs": [
        {
          "output_type": "stream",
          "text": [
            "Go to this URL in a browser: https://accounts.google.com/o/oauth2/auth?client_id=947318989803-6bn6qk8qdgf4n4g3pfee6491hc0brc4i.apps.googleusercontent.com&redirect_uri=urn%3aietf%3awg%3aoauth%3a2.0%3aoob&response_type=code&scope=email%20https%3a%2f%2fwww.googleapis.com%2fauth%2fdocs.test%20https%3a%2f%2fwww.googleapis.com%2fauth%2fdrive%20https%3a%2f%2fwww.googleapis.com%2fauth%2fdrive.photos.readonly%20https%3a%2f%2fwww.googleapis.com%2fauth%2fpeopleapi.readonly\n",
            "\n",
            "Enter your authorization code:\n",
            "··········\n",
            "Mounted at /content/drive\n"
          ],
          "name": "stdout"
        }
      ]
    },
    {
      "cell_type": "code",
      "metadata": {
        "id": "Cb3Z1Tr9V6Yo",
        "colab": {
          "base_uri": "https://localhost:8080/",
          "height": 72
        },
        "outputId": "a973abdb-7ac5-4c3a-be4a-08a41ef68d8a"
      },
      "source": [
        "import os.path\n",
        "import urllib.request\n",
        "import tarfile\n",
        "import zipfile\n",
        "import gzip\n",
        "from shutil import copy\n",
        "\n",
        "def fetch_remote_datafile(filename, remote_url):\n",
        "  if os.path.isfile(\"./\" + filename):\n",
        "    print(\"already have \" + filename + \" in workspace\")\n",
        "    return\n",
        "  print(\"fetching \" + filename + \" from \" + remote_url + \"...\")\n",
        "  urllib.request.urlretrieve(remote_url, \"./\" + filename)\n",
        "\n",
        "def cache_datafile_in_drive(filename):\n",
        "  if os.path.isfile(\"./\" + filename) == False:\n",
        "    print(\"cannot cache \" + filename + \", it is not in workspace\")\n",
        "    return\n",
        "  \n",
        "  data_drive_path = \"/content/drive/My Drive/Colab Notebooks/\"\n",
        "  if os.path.isfile(data_drive_path + filename):\n",
        "    print(\"\" + filename + \" has already been stored in Google Drive\")\n",
        "  else:\n",
        "    print(\"copying \" + filename + \" to \" + data_drive_path)\n",
        "    copy(\"./\" + filename, data_drive_path)\n",
        "  \n",
        "\n",
        "def load_datafile_from_drive(filename, remote_url=None):\n",
        "  data_drive_path = \"/content/drive/My Drive/Colab Notebooks/\"\n",
        "  if os.path.isfile(\"./\" + filename):\n",
        "    print(\"already have \" + filename + \" in workspace\")\n",
        "  elif os.path.isfile(data_drive_path + filename):\n",
        "    print(\"have \" + filename + \" in Google Drive, copying to workspace...\")\n",
        "    copy(data_drive_path + filename, \".\")\n",
        "  elif remote_url != None:\n",
        "    fetch_remote_datafile(filename, remote_url)\n",
        "  else:\n",
        "    print(\"error: you need to manually download \" + filename + \" and put in drive\")\n",
        "    \n",
        "def extract_datafile(filename, expected_extract_artifact=None):\n",
        "  if expected_extract_artifact != None and (os.path.isfile(expected_extract_artifact) or os.path.isdir(expected_extract_artifact)):\n",
        "    \n",
        "    print(\"files in \" + filename + \" have already been extracted\")\n",
        "  elif os.path.isfile(\"./\" + filename) == False:\n",
        "    print(\"error: cannot extract \" + filename + \", it is not in the workspace\")\n",
        "  else:\n",
        "    extension = filename.split('.')[-1]\n",
        "    if extension == \"zip\":\n",
        "      print(\"extracting \" + filename + \"...\")\n",
        "      data_file = open(filename, \"rb\")\n",
        "      z = zipfile.ZipFile(data_file)\n",
        "      for name in z.namelist():\n",
        "          print(\"    extracting file\", name)\n",
        "          z.extract(name, \"./\")\n",
        "      data_file.close()\n",
        "    elif extension == \"gz\":\n",
        "      print(\"extracting \" + filename + \"...\")\n",
        "      if filename.split('.')[-2] == \"tar\":\n",
        "        tar = tarfile.open(filename)\n",
        "        tar.extractall()\n",
        "        tar.close()\n",
        "      else:\n",
        "        data_zip_file = gzip.GzipFile(filename, 'rb')\n",
        "        data = data_zip_file.read()\n",
        "        data_zip_file.close()\n",
        "        extracted_file = open('.'.join(filename.split('.')[0:-1]), 'wb')\n",
        "        extracted_file.write(data)\n",
        "        extracted_file.close()\n",
        "    elif extension == \"tar\":\n",
        "      print(\"extracting \" + filename + \"...\")\n",
        "      tar = tarfile.open(filename)\n",
        "      tar.extractall()\n",
        "      tar.close()\n",
        "    elif extension == \"csv\":\n",
        "      print(\"do not need to extract csv\")\n",
        "    else:\n",
        "      print(\"cannot extract \" + filename)\n",
        "      \n",
        "def load_cache_extract_datafile(filename, expected_extract_artifact=None, remote_url=None):\n",
        "  load_datafile_from_drive(filename, remote_url)\n",
        "  extract_datafile(filename, expected_extract_artifact)\n",
        "  cache_datafile_in_drive(filename)\n",
        "  \n",
        "load_cache_extract_datafile(\"people_wiki.sframe.zip\", \"people_wiki.sframe\", \"https://d3c33hcgiwev3.cloudfront.net/i5zBDt4bEemhxxJUtZcQoA_7fb43aab245846f09a8c48977883f0b6_people_wiki.sframe.zip?Expires=1588896000&Signature=Re4whqBAZxVNnlr9h31ZCUWDilRD30qQqyqzEnOmESwDkYtUtjjQf8ZfwSwca2IzpXRt6iXOPcRWE11Pw8UroKGE8k9pvPgJRqmOEQj~NhFYpLfJZUk0Rdryo2d8Vodu7vhykPy0Jz7HnNpP0S87NEEepsqeUyOCErRPZ~EpXlg_&Key-Pair-Id=APKAJLTNE6QMUY6HBC5A\")\n"
      ],
      "execution_count": null,
      "outputs": [
        {
          "output_type": "stream",
          "text": [
            "already have people_wiki.sframe.zip in workspace\n",
            "files in people_wiki.sframe.zip have already been extracted\n",
            "people_wiki.sframe.zip has already been stored in Google Drive\n"
          ],
          "name": "stdout"
        }
      ]
    },
    {
      "cell_type": "markdown",
      "metadata": {
        "id": "RzBb7ymCVxS3"
      },
      "source": [
        "# Locality Sensitive Hashing"
      ]
    },
    {
      "cell_type": "markdown",
      "metadata": {
        "id": "XRMwp2oKVxTH"
      },
      "source": [
        "Locality Sensitive Hashing (LSH) provides for a fast, efficient approximate nearest neighbor search. The algorithm scales well with respect to the number of data points as well as dimensions.\n",
        "\n",
        "In this assignment, you will\n",
        "* Implement the LSH algorithm for approximate nearest neighbor search\n",
        "* Examine the accuracy for different documents by comparing against brute force search, and also contrast runtimes\n",
        "* Explore the role of the algorithm’s tuning parameters in the accuracy of the method"
      ]
    },
    {
      "cell_type": "markdown",
      "metadata": {
        "id": "hzeOneM_VxTQ"
      },
      "source": [
        "## Import necessary packages"
      ]
    },
    {
      "cell_type": "code",
      "metadata": {
        "id": "p6onmbtFVxTe"
      },
      "source": [
        "from __future__ import print_function # to conform python 2.x print to python 3.x\n",
        "import numpy as np\n",
        "import turicreate\n",
        "from scipy.sparse import csr_matrix\n",
        "from sklearn.metrics.pairwise import pairwise_distances\n",
        "import time\n",
        "from copy import copy\n",
        "import matplotlib.pyplot as plt\n",
        "%matplotlib inline\n",
        "\n",
        "'''compute norm of a sparse vector\n",
        "   Thanks to: Jaiyam Sharma'''\n",
        "def norm(x):\n",
        "    sum_sq=x.dot(x.T)\n",
        "    norm=np.sqrt(sum_sq)\n",
        "    return(norm)"
      ],
      "execution_count": null,
      "outputs": []
    },
    {
      "cell_type": "markdown",
      "metadata": {
        "id": "JfDvp5rRVxVA"
      },
      "source": [
        "## Load in the Wikipedia dataset"
      ]
    },
    {
      "cell_type": "code",
      "metadata": {
        "id": "2DfkopDXVxVJ"
      },
      "source": [
        "wiki = turicreate.SFrame('people_wiki.sframe/')"
      ],
      "execution_count": null,
      "outputs": []
    },
    {
      "cell_type": "markdown",
      "metadata": {
        "id": "nrgVVgEOVxWJ"
      },
      "source": [
        "For this assignment, let us assign a unique ID to each document."
      ]
    },
    {
      "cell_type": "code",
      "metadata": {
        "id": "X3pYn2QjVxWb"
      },
      "source": [
        "wiki = wiki.add_row_number()"
      ],
      "execution_count": null,
      "outputs": []
    },
    {
      "cell_type": "markdown",
      "metadata": {
        "id": "GDOnbOsNVxXt"
      },
      "source": [
        "## Extract TF-IDF matrix"
      ]
    },
    {
      "cell_type": "markdown",
      "metadata": {
        "id": "5Ed4jSQcVxX7"
      },
      "source": [
        "We first use Turi Create to compute a TF-IDF representation for each document."
      ]
    },
    {
      "cell_type": "code",
      "metadata": {
        "id": "R_H3-SEPVxYE",
        "colab": {
          "base_uri": "https://localhost:8080/",
          "height": 423
        },
        "outputId": "62f97b79-5b3b-47f6-9d00-dd134bdae03c"
      },
      "source": [
        "wiki['tf_idf'] = turicreate.text_analytics.tf_idf(wiki['text'])\n",
        "wiki.head()"
      ],
      "execution_count": null,
      "outputs": [
        {
          "output_type": "execute_result",
          "data": {
            "text/html": [
              "<div style=\"max-height:1000px;max-width:1500px;overflow:auto;\"><table frame=\"box\" rules=\"cols\">\n",
              "    <tr>\n",
              "        <th style=\"padding-left: 1em; padding-right: 1em; text-align: center\">id</th>\n",
              "        <th style=\"padding-left: 1em; padding-right: 1em; text-align: center\">URI</th>\n",
              "        <th style=\"padding-left: 1em; padding-right: 1em; text-align: center\">name</th>\n",
              "        <th style=\"padding-left: 1em; padding-right: 1em; text-align: center\">text</th>\n",
              "        <th style=\"padding-left: 1em; padding-right: 1em; text-align: center\">tf_idf</th>\n",
              "    </tr>\n",
              "    <tr>\n",
              "        <td style=\"padding-left: 1em; padding-right: 1em; text-align: center; vertical-align: top\">0</td>\n",
              "        <td style=\"padding-left: 1em; padding-right: 1em; text-align: center; vertical-align: top\">&lt;http://dbpedia.org/resou<br>rce/Digby_Morrell&gt; ...</td>\n",
              "        <td style=\"padding-left: 1em; padding-right: 1em; text-align: center; vertical-align: top\">Digby Morrell</td>\n",
              "        <td style=\"padding-left: 1em; padding-right: 1em; text-align: center; vertical-align: top\">digby morrell born 10<br>october 1979 is a former ...</td>\n",
              "        <td style=\"padding-left: 1em; padding-right: 1em; text-align: center; vertical-align: top\">{&#x27;melbourne&#x27;:<br>3.8914310119380633, ...</td>\n",
              "    </tr>\n",
              "    <tr>\n",
              "        <td style=\"padding-left: 1em; padding-right: 1em; text-align: center; vertical-align: top\">1</td>\n",
              "        <td style=\"padding-left: 1em; padding-right: 1em; text-align: center; vertical-align: top\">&lt;http://dbpedia.org/resou<br>rce/Alfred_J._Lewy&gt; ...</td>\n",
              "        <td style=\"padding-left: 1em; padding-right: 1em; text-align: center; vertical-align: top\">Alfred J. Lewy</td>\n",
              "        <td style=\"padding-left: 1em; padding-right: 1em; text-align: center; vertical-align: top\">alfred j lewy aka sandy<br>lewy graduated from ...</td>\n",
              "        <td style=\"padding-left: 1em; padding-right: 1em; text-align: center; vertical-align: top\">{&#x27;time&#x27;:<br>1.3253342074200498, ...</td>\n",
              "    </tr>\n",
              "    <tr>\n",
              "        <td style=\"padding-left: 1em; padding-right: 1em; text-align: center; vertical-align: top\">2</td>\n",
              "        <td style=\"padding-left: 1em; padding-right: 1em; text-align: center; vertical-align: top\">&lt;http://dbpedia.org/resou<br>rce/Harpdog_Brown&gt; ...</td>\n",
              "        <td style=\"padding-left: 1em; padding-right: 1em; text-align: center; vertical-align: top\">Harpdog Brown</td>\n",
              "        <td style=\"padding-left: 1em; padding-right: 1em; text-align: center; vertical-align: top\">harpdog brown is a singer<br>and harmonica player who ...</td>\n",
              "        <td style=\"padding-left: 1em; padding-right: 1em; text-align: center; vertical-align: top\">{&#x27;society&#x27;:<br>2.4448047262085693, ...</td>\n",
              "    </tr>\n",
              "    <tr>\n",
              "        <td style=\"padding-left: 1em; padding-right: 1em; text-align: center; vertical-align: top\">3</td>\n",
              "        <td style=\"padding-left: 1em; padding-right: 1em; text-align: center; vertical-align: top\">&lt;http://dbpedia.org/resou<br>rce/Franz_Rottensteiner&gt; ...</td>\n",
              "        <td style=\"padding-left: 1em; padding-right: 1em; text-align: center; vertical-align: top\">Franz Rottensteiner</td>\n",
              "        <td style=\"padding-left: 1em; padding-right: 1em; text-align: center; vertical-align: top\">franz rottensteiner born<br>in waidmannsfeld lower ...</td>\n",
              "        <td style=\"padding-left: 1em; padding-right: 1em; text-align: center; vertical-align: top\">{&#x27;kurdlawitzpreis&#x27;:<br>10.986495389225194, ...</td>\n",
              "    </tr>\n",
              "    <tr>\n",
              "        <td style=\"padding-left: 1em; padding-right: 1em; text-align: center; vertical-align: top\">4</td>\n",
              "        <td style=\"padding-left: 1em; padding-right: 1em; text-align: center; vertical-align: top\">&lt;http://dbpedia.org/resou<br>rce/G-Enka&gt; ...</td>\n",
              "        <td style=\"padding-left: 1em; padding-right: 1em; text-align: center; vertical-align: top\">G-Enka</td>\n",
              "        <td style=\"padding-left: 1em; padding-right: 1em; text-align: center; vertical-align: top\">henry krvits born 30<br>december 1974 in tallinn ...</td>\n",
              "        <td style=\"padding-left: 1em; padding-right: 1em; text-align: center; vertical-align: top\">{&#x27;curtis&#x27;:<br>5.299520032885375, ...</td>\n",
              "    </tr>\n",
              "    <tr>\n",
              "        <td style=\"padding-left: 1em; padding-right: 1em; text-align: center; vertical-align: top\">5</td>\n",
              "        <td style=\"padding-left: 1em; padding-right: 1em; text-align: center; vertical-align: top\">&lt;http://dbpedia.org/resou<br>rce/Sam_Henderson&gt; ...</td>\n",
              "        <td style=\"padding-left: 1em; padding-right: 1em; text-align: center; vertical-align: top\">Sam Henderson</td>\n",
              "        <td style=\"padding-left: 1em; padding-right: 1em; text-align: center; vertical-align: top\">sam henderson born<br>october 18 1969 is an ...</td>\n",
              "        <td style=\"padding-left: 1em; padding-right: 1em; text-align: center; vertical-align: top\">{&#x27;asses&#x27;:<br>9.600201028105303, &#x27;s ...</td>\n",
              "    </tr>\n",
              "    <tr>\n",
              "        <td style=\"padding-left: 1em; padding-right: 1em; text-align: center; vertical-align: top\">6</td>\n",
              "        <td style=\"padding-left: 1em; padding-right: 1em; text-align: center; vertical-align: top\">&lt;http://dbpedia.org/resou<br>rce/Aaron_LaCrate&gt; ...</td>\n",
              "        <td style=\"padding-left: 1em; padding-right: 1em; text-align: center; vertical-align: top\">Aaron LaCrate</td>\n",
              "        <td style=\"padding-left: 1em; padding-right: 1em; text-align: center; vertical-align: top\">aaron lacrate is an<br>american music producer ...</td>\n",
              "        <td style=\"padding-left: 1em; padding-right: 1em; text-align: center; vertical-align: top\">{&#x27;streamz&#x27;:<br>10.986495389225194, ...</td>\n",
              "    </tr>\n",
              "    <tr>\n",
              "        <td style=\"padding-left: 1em; padding-right: 1em; text-align: center; vertical-align: top\">7</td>\n",
              "        <td style=\"padding-left: 1em; padding-right: 1em; text-align: center; vertical-align: top\">&lt;http://dbpedia.org/resou<br>rce/Trevor_Ferguson&gt; ...</td>\n",
              "        <td style=\"padding-left: 1em; padding-right: 1em; text-align: center; vertical-align: top\">Trevor Ferguson</td>\n",
              "        <td style=\"padding-left: 1em; padding-right: 1em; text-align: center; vertical-align: top\">trevor ferguson aka john<br>farrow born 11 november ...</td>\n",
              "        <td style=\"padding-left: 1em; padding-right: 1em; text-align: center; vertical-align: top\">{&#x27;concordia&#x27;:<br>6.250296940830698, ...</td>\n",
              "    </tr>\n",
              "    <tr>\n",
              "        <td style=\"padding-left: 1em; padding-right: 1em; text-align: center; vertical-align: top\">8</td>\n",
              "        <td style=\"padding-left: 1em; padding-right: 1em; text-align: center; vertical-align: top\">&lt;http://dbpedia.org/resou<br>rce/Grant_Nelson&gt; ...</td>\n",
              "        <td style=\"padding-left: 1em; padding-right: 1em; text-align: center; vertical-align: top\">Grant Nelson</td>\n",
              "        <td style=\"padding-left: 1em; padding-right: 1em; text-align: center; vertical-align: top\">grant nelson born 27<br>april 1971 in london  ...</td>\n",
              "        <td style=\"padding-left: 1em; padding-right: 1em; text-align: center; vertical-align: top\">{&#x27;heavies&#x27;:<br>8.907053847545358, &#x27;n ...</td>\n",
              "    </tr>\n",
              "    <tr>\n",
              "        <td style=\"padding-left: 1em; padding-right: 1em; text-align: center; vertical-align: top\">9</td>\n",
              "        <td style=\"padding-left: 1em; padding-right: 1em; text-align: center; vertical-align: top\">&lt;http://dbpedia.org/resou<br>rce/Cathy_Caruth&gt; ...</td>\n",
              "        <td style=\"padding-left: 1em; padding-right: 1em; text-align: center; vertical-align: top\">Cathy Caruth</td>\n",
              "        <td style=\"padding-left: 1em; padding-right: 1em; text-align: center; vertical-align: top\">cathy caruth born 1955 is<br>frank h t rhodes ...</td>\n",
              "        <td style=\"padding-left: 1em; padding-right: 1em; text-align: center; vertical-align: top\">{&#x27;2002&#x27;:<br>1.8753125887822302, ...</td>\n",
              "    </tr>\n",
              "</table>\n",
              "[10 rows x 5 columns]<br/>\n",
              "</div>"
            ],
            "text/plain": [
              "Columns:\n",
              "\tid\tint\n",
              "\tURI\tstr\n",
              "\tname\tstr\n",
              "\ttext\tstr\n",
              "\ttf_idf\tdict\n",
              "\n",
              "Rows: 10\n",
              "\n",
              "Data:\n",
              "+----+-------------------------------+---------------------+\n",
              "| id |              URI              |         name        |\n",
              "+----+-------------------------------+---------------------+\n",
              "| 0  | <http://dbpedia.org/resour... |    Digby Morrell    |\n",
              "| 1  | <http://dbpedia.org/resour... |    Alfred J. Lewy   |\n",
              "| 2  | <http://dbpedia.org/resour... |    Harpdog Brown    |\n",
              "| 3  | <http://dbpedia.org/resour... | Franz Rottensteiner |\n",
              "| 4  | <http://dbpedia.org/resour... |        G-Enka       |\n",
              "| 5  | <http://dbpedia.org/resour... |    Sam Henderson    |\n",
              "| 6  | <http://dbpedia.org/resour... |    Aaron LaCrate    |\n",
              "| 7  | <http://dbpedia.org/resour... |   Trevor Ferguson   |\n",
              "| 8  | <http://dbpedia.org/resour... |     Grant Nelson    |\n",
              "| 9  | <http://dbpedia.org/resour... |     Cathy Caruth    |\n",
              "+----+-------------------------------+---------------------+\n",
              "+-------------------------------+-------------------------------+\n",
              "|              text             |             tf_idf            |\n",
              "+-------------------------------+-------------------------------+\n",
              "| digby morrell born 10 octo... | {'melbourne': 3.8914310119... |\n",
              "| alfred j lewy aka sandy le... | {'time': 1.325334207420049... |\n",
              "| harpdog brown is a singer ... | {'society': 2.444804726208... |\n",
              "| franz rottensteiner born i... | {'kurdlawitzpreis': 10.986... |\n",
              "| henry krvits born 30 decem... | {'curtis': 5.2995200328853... |\n",
              "| sam henderson born october... | {'asses': 9.60020102810530... |\n",
              "| aaron lacrate is an americ... | {'streamz': 10.98649538922... |\n",
              "| trevor ferguson aka john f... | {'concordia': 6.2502969408... |\n",
              "| grant nelson born 27 april... | {'heavies': 8.907053847545... |\n",
              "| cathy caruth born 1955 is ... | {'2002': 1.875312588782230... |\n",
              "+-------------------------------+-------------------------------+\n",
              "[10 rows x 5 columns]"
            ]
          },
          "metadata": {
            "tags": []
          },
          "execution_count": 8
        }
      ]
    },
    {
      "cell_type": "markdown",
      "metadata": {
        "id": "HjBWMZk-VxYv"
      },
      "source": [
        "For the remainder of the assignment, we will use sparse matrices. Sparse matrices are matrices) that have a small number of nonzero entries. A good data structure for sparse matrices would only store the nonzero entries to save space and speed up computation. SciPy provides a highly-optimized library for sparse matrices. Many matrix operations available for NumPy arrays are also available for SciPy sparse matrices.We first convert the TF-IDF column (in dictionary format) into the SciPy sparse matrix format."
      ]
    },
    {
      "cell_type": "code",
      "metadata": {
        "id": "JUWWlgwSVxY7"
      },
      "source": [
        "def sframe_to_scipy(x, column_name):\n",
        "    '''\n",
        "    Convert a dictionary column of an SFrame into a sparse matrix format where\n",
        "    each (row_id, column_id, value) triple corresponds to the value of\n",
        "    x[row_id][column_id], where column_id is a key in the dictionary.\n",
        "       \n",
        "    Example\n",
        "    >>> sparse_matrix, map_key_to_index = sframe_to_scipy(sframe, column_name)\n",
        "    '''\n",
        "    assert type(x[column_name][0]) == dict, \\\n",
        "        'The chosen column must be dict type, representing sparse data.'\n",
        "    \n",
        "    # Stack will transform x to have a row for each unique (row, key) pair.\n",
        "    x = x.stack(column_name, ['feature', 'value'])\n",
        "    \n",
        "    # Map feature words to integers \n",
        "    unique_words = sorted(x['feature'].unique())\n",
        "    mapping = {word:i for i, word in enumerate(unique_words)}\n",
        "    x['feature_id'] = x['feature'].apply(lambda x: mapping[x])\n",
        "    \n",
        "    # Create numpy arrays that contain the data for the sparse matrix.\n",
        "    row_id = np.array(x['id'])\n",
        "    col_id = np.array(x['feature_id'])\n",
        "    data = np.array(x['value'])\n",
        "    \n",
        "    width = x['id'].max() + 1\n",
        "    height = x['feature_id'].max() + 1\n",
        "    \n",
        "    # Create a sparse matrix.\n",
        "    mat = csr_matrix((data, (row_id, col_id)), shape=(width, height))\n",
        "    return mat, mapping"
      ],
      "execution_count": null,
      "outputs": []
    },
    {
      "cell_type": "code",
      "metadata": {
        "id": "Myywd1deVxZh",
        "colab": {
          "base_uri": "https://localhost:8080/",
          "height": 54
        },
        "outputId": "ee51a137-9223-4692-9013-249f94b24b78"
      },
      "source": [
        "%%time\n",
        "corpus, mapping = sframe_to_scipy(wiki, 'tf_idf')"
      ],
      "execution_count": null,
      "outputs": [
        {
          "output_type": "stream",
          "text": [
            "CPU times: user 2min 4s, sys: 5.24 s, total: 2min 10s\n",
            "Wall time: 1min 31s\n"
          ],
          "name": "stdout"
        }
      ]
    },
    {
      "cell_type": "code",
      "metadata": {
        "id": "2cJVDdpQVxaE",
        "colab": {
          "base_uri": "https://localhost:8080/",
          "height": 35
        },
        "outputId": "b9af89e8-04d1-47b5-a389-5e25538c5550"
      },
      "source": [
        "assert corpus.shape == (59071, 547979)\n",
        "print('Check passed correctly!')"
      ],
      "execution_count": null,
      "outputs": [
        {
          "output_type": "stream",
          "text": [
            "Check passed correctly!\n"
          ],
          "name": "stdout"
        }
      ]
    },
    {
      "cell_type": "markdown",
      "metadata": {
        "id": "lXjNK-esVxa6"
      },
      "source": [
        "## Train an LSH model"
      ]
    },
    {
      "cell_type": "markdown",
      "metadata": {
        "id": "OZahY8CMVxbE"
      },
      "source": [
        "The idea behind LSH is to translate the sign of our tf-idf scores into a binary index (1 or 0) by using seeing if our score falls above or below a randomly defined line. This <a href=\"http://ethen8181.github.io/machine-learning/recsys/content_based/lsh_text.html\">link</a> is helpful for understanding LSH and our code in more detail.\n",
        "\n",
        "\n",
        "LSH performs an efficient neighbor search by randomly partitioning all reference data points into different bins. Today we will build a popular variant of LSH known as <strong>random binary projection</strong>, which approximates cosine distance. There are other variants we could use for other choices of distance metrics.\n",
        "\n",
        "The first step is to generate a collection of random vectors from the standard Gaussian distribution."
      ]
    },
    {
      "cell_type": "code",
      "metadata": {
        "id": "d4WN1tg5VxbV"
      },
      "source": [
        "def generate_random_vectors(dim, n_vectors):\n",
        "    return np.random.randn(dim, n_vectors)"
      ],
      "execution_count": null,
      "outputs": []
    },
    {
      "cell_type": "markdown",
      "metadata": {
        "id": "FdEMD0y6Vxce"
      },
      "source": [
        "To visualize these Gaussian random vectors, let's look at an example in low-dimensions.  Below, we generate 3 random vectors each of dimension 5."
      ]
    },
    {
      "cell_type": "code",
      "metadata": {
        "id": "taHNYqi3Vxcp",
        "colab": {
          "base_uri": "https://localhost:8080/",
          "height": 109
        },
        "outputId": "4356c101-8958-4f48-97c0-8c0bcd985d91"
      },
      "source": [
        "# Generate 3 random vectors of dimension 5, arranged into a single 5 x 3 matrix.\n",
        "generate_random_vectors(n_vectors=3, dim=5)"
      ],
      "execution_count": null,
      "outputs": [
        {
          "output_type": "execute_result",
          "data": {
            "text/plain": [
              "array([[ 0.06095132,  0.42002008, -0.91643397],\n",
              "       [ 0.42047119,  0.68086404, -0.82074682],\n",
              "       [-0.40685665,  0.49098728, -0.31107167],\n",
              "       [ 1.44215188,  0.97373396,  0.06721036],\n",
              "       [-0.50108187,  0.39866352, -1.74000467]])"
            ]
          },
          "metadata": {
            "tags": []
          },
          "execution_count": 15
        }
      ]
    },
    {
      "cell_type": "markdown",
      "metadata": {
        "id": "VexNfuPrVxdK"
      },
      "source": [
        "We now generate random vectors of the same dimensionality as our vocubulary size (547979).  Each vector can be used to compute one bit in the bin encoding.  We generate 16 vectors, leading to a 16-bit encoding of the bin index for each document."
      ]
    },
    {
      "cell_type": "code",
      "metadata": {
        "id": "kdD54SlHVxdW",
        "colab": {
          "base_uri": "https://localhost:8080/",
          "height": 35
        },
        "outputId": "e2b801ed-7393-45f2-94f2-53e6570c1e25"
      },
      "source": [
        "# Generate 16 random vectors of dimension 547979\n",
        "np.random.seed(0)\n",
        "n_vectors = 16\n",
        "random_vectors = generate_random_vectors(corpus.shape[1], n_vectors)\n",
        "random_vectors.shape"
      ],
      "execution_count": null,
      "outputs": [
        {
          "output_type": "execute_result",
          "data": {
            "text/plain": [
              "(547979, 16)"
            ]
          },
          "metadata": {
            "tags": []
          },
          "execution_count": 16
        }
      ]
    },
    {
      "cell_type": "markdown",
      "metadata": {
        "id": "63ciyDVVVxeV"
      },
      "source": [
        "Next, we partition data points into bins. Instead of using explicit loops, we'd like to utilize matrix operations for greater efficiency. Let's walk through the construction step by step.\n",
        "\n",
        "We'd like to decide which bin document 0 should go. Since 16 random vectors were generated in the previous cell, we have 16 bits to represent the bin index. The first bit is given by the sign of the dot product between the first random vector and the document's TF-IDF vector."
      ]
    },
    {
      "cell_type": "code",
      "metadata": {
        "id": "FzOh3BTMVxeg",
        "colab": {
          "base_uri": "https://localhost:8080/",
          "height": 35
        },
        "outputId": "87a61ed2-b2c6-48f0-a851-032f6bafb8b4"
      },
      "source": [
        "sample = corpus[0] # vector of tf-idf values for document 0\n",
        "bin_indices_bits = sample.dot(random_vectors[:,0]) >= 0\n",
        "bin_indices_bits"
      ],
      "execution_count": null,
      "outputs": [
        {
          "output_type": "execute_result",
          "data": {
            "text/plain": [
              "array([ True])"
            ]
          },
          "metadata": {
            "tags": []
          },
          "execution_count": 17
        }
      ]
    },
    {
      "cell_type": "markdown",
      "metadata": {
        "id": "lNJM-r3DVxfA"
      },
      "source": [
        "Similarly, the second bit is computed as the sign of the dot product between the second random vector and the document vector."
      ]
    },
    {
      "cell_type": "code",
      "metadata": {
        "id": "a2eMhoxeVxfH",
        "colab": {
          "base_uri": "https://localhost:8080/",
          "height": 35
        },
        "outputId": "f66807ca-e55a-44f1-d3b4-7c14de20cc9b"
      },
      "source": [
        "sample.dot(random_vectors[:, 1]) >= 0 # True if positive sign; False if negative sign"
      ],
      "execution_count": null,
      "outputs": [
        {
          "output_type": "execute_result",
          "data": {
            "text/plain": [
              "array([False])"
            ]
          },
          "metadata": {
            "tags": []
          },
          "execution_count": 18
        }
      ]
    },
    {
      "cell_type": "markdown",
      "metadata": {
        "id": "rBSAYVDYVxfw"
      },
      "source": [
        "We can compute all of the bin index bits at once as follows. Note the absence of the explicit `for` loop over the 16 vectors. Matrix operations let us batch dot-product computation in a highly efficent manner, unlike the `for` loop construction. Given the relative inefficiency of loops in Python, the advantage of matrix operations is even greater."
      ]
    },
    {
      "cell_type": "code",
      "metadata": {
        "id": "oW6er4b7VxgA",
        "colab": {
          "base_uri": "https://localhost:8080/",
          "height": 54
        },
        "outputId": "ba5b5e99-4350-452a-a00d-3b68930a12e4"
      },
      "source": [
        "sample.dot(random_vectors) >= 0 # should return an array of 16 True/False bits"
      ],
      "execution_count": null,
      "outputs": [
        {
          "output_type": "execute_result",
          "data": {
            "text/plain": [
              "array([[ True, False, False, False,  True, False,  True, False,  True,\n",
              "         True,  True, False,  True,  True, False,  True]])"
            ]
          },
          "metadata": {
            "tags": []
          },
          "execution_count": 19
        }
      ]
    },
    {
      "cell_type": "code",
      "metadata": {
        "id": "4991sMRWVxhL",
        "colab": {
          "base_uri": "https://localhost:8080/",
          "height": 35
        },
        "outputId": "5475bff8-0de0-487f-d742-5691c59bc562"
      },
      "source": [
        "np.array(sample.dot(random_vectors) >= 0, dtype=int) # display index bits in 0/1's"
      ],
      "execution_count": null,
      "outputs": [
        {
          "output_type": "execute_result",
          "data": {
            "text/plain": [
              "array([[1, 0, 0, 0, 1, 0, 1, 0, 1, 1, 1, 0, 1, 1, 0, 1]])"
            ]
          },
          "metadata": {
            "tags": []
          },
          "execution_count": 20
        }
      ]
    },
    {
      "cell_type": "markdown",
      "metadata": {
        "id": "3xN379VqVxhw"
      },
      "source": [
        "All documents that obtain exactly this vector will be assigned to the same bin. We'd like to repeat the identical operation on all documents in the Wikipedia dataset and compute the corresponding bin indices. Again, we use matrix operations  so that no explicit loop is needed."
      ]
    },
    {
      "cell_type": "code",
      "metadata": {
        "id": "V-I0Zf1sVxh0",
        "colab": {
          "base_uri": "https://localhost:8080/",
          "height": 90
        },
        "outputId": "bd3cf054-fdad-46d2-c9cd-97d49bf6cc5b"
      },
      "source": [
        "corpus[0:2].dot(random_vectors) >= 0 # compute bit indices of first two documents"
      ],
      "execution_count": null,
      "outputs": [
        {
          "output_type": "execute_result",
          "data": {
            "text/plain": [
              "array([[ True, False, False, False,  True, False,  True, False,  True,\n",
              "         True,  True, False,  True,  True, False,  True],\n",
              "       [False, False, False, False,  True, False, False, False,  True,\n",
              "         True,  True, False, False,  True, False,  True]])"
            ]
          },
          "metadata": {
            "tags": []
          },
          "execution_count": 21
        }
      ]
    },
    {
      "cell_type": "code",
      "metadata": {
        "id": "MRkAxb3gVxil",
        "colab": {
          "base_uri": "https://localhost:8080/",
          "height": 146
        },
        "outputId": "6b9a383f-2d61-4ad7-a849-20c886ce3512"
      },
      "source": [
        "corpus.dot(random_vectors) >= 0 # compute bit indices of ALL documents"
      ],
      "execution_count": null,
      "outputs": [
        {
          "output_type": "execute_result",
          "data": {
            "text/plain": [
              "array([[ True, False, False, ...,  True, False,  True],\n",
              "       [False, False, False, ...,  True, False,  True],\n",
              "       [ True,  True,  True, ...,  True,  True,  True],\n",
              "       ...,\n",
              "       [False, False, False, ..., False, False,  True],\n",
              "       [ True,  True, False, ...,  True,  True, False],\n",
              "       [ True,  True,  True, ...,  True, False,  True]])"
            ]
          },
          "metadata": {
            "tags": []
          },
          "execution_count": 22
        }
      ]
    },
    {
      "cell_type": "markdown",
      "metadata": {
        "id": "qtiqu4DrVxjB"
      },
      "source": [
        "We're almost done! To make it convenient to refer to individual bins, we convert each binary bin index into a single integer: \n",
        "```\n",
        "Bin index                      integer\n",
        "[0,0,0,0,0,0,0,0,0,0,0,0]   => 0\n",
        "[0,0,0,0,0,0,0,0,0,0,0,1]   => 1\n",
        "[0,0,0,0,0,0,0,0,0,0,1,0]   => 2\n",
        "[0,0,0,0,0,0,0,0,0,0,1,1]   => 3\n",
        "...\n",
        "[1,1,1,1,1,1,1,1,1,1,0,0]   => 65532\n",
        "[1,1,1,1,1,1,1,1,1,1,0,1]   => 65533\n",
        "[1,1,1,1,1,1,1,1,1,1,1,0]   => 65534\n",
        "[1,1,1,1,1,1,1,1,1,1,1,1]   => 65535 (= 2^16-1)\n",
        "```\n",
        "By the [rules of binary number representation](https://en.wikipedia.org/wiki/Binary_number#Decimal), we just need to compute the dot product between the document vector and the vector consisting of powers of 2:"
      ]
    },
    {
      "cell_type": "code",
      "metadata": {
        "id": "x6Sagh4XVxjI",
        "colab": {
          "base_uri": "https://localhost:8080/",
          "height": 109
        },
        "outputId": "a139dfd5-0520-49d9-d147-f139bb8024ac"
      },
      "source": [
        "index_bits = (sample.dot(random_vectors) >= 0)\n",
        "powers_of_two = (1 << np.arange(15, -1, -1))\n",
        "print(index_bits)\n",
        "print(powers_of_two)\n",
        "print(index_bits.dot(powers_of_two))"
      ],
      "execution_count": null,
      "outputs": [
        {
          "output_type": "stream",
          "text": [
            "[[ True False False False  True False  True False  True  True  True False\n",
            "   True  True False  True]]\n",
            "[32768 16384  8192  4096  2048  1024   512   256   128    64    32    16\n",
            "     8     4     2     1]\n",
            "[35565]\n"
          ],
          "name": "stdout"
        }
      ]
    },
    {
      "cell_type": "markdown",
      "metadata": {
        "id": "B0H0uZutVxjm"
      },
      "source": [
        "Since it's the dot product again, we batch it with a matrix operation:"
      ]
    },
    {
      "cell_type": "code",
      "metadata": {
        "id": "8W2TRyR7Vxjs",
        "colab": {
          "base_uri": "https://localhost:8080/",
          "height": 35
        },
        "outputId": "cfd57a40-687b-4291-9fcc-6ba3021826e1"
      },
      "source": [
        "index_bits = sample.dot(random_vectors) >= 0\n",
        "index_bits.dot(powers_of_two)"
      ],
      "execution_count": null,
      "outputs": [
        {
          "output_type": "execute_result",
          "data": {
            "text/plain": [
              "array([35565])"
            ]
          },
          "metadata": {
            "tags": []
          },
          "execution_count": 24
        }
      ]
    },
    {
      "cell_type": "markdown",
      "metadata": {
        "id": "sfQCmObBVxkH"
      },
      "source": [
        "This array gives us the integer index of the bins for all documents.\n",
        "\n",
        "Now we are ready to complete the following function. Given the integer bin indices for the documents, you should compile a list of document IDs that belong to each bin. Since a list is to be maintained for each unique bin index, a dictionary of lists is used.\n",
        "\n",
        "1. Compute the integer bin indices. This step is already completed.\n",
        "2. For each document in the dataset, do the following:\n",
        "   * Get the integer bin index for the document.\n",
        "   * Fetch the list of document ids associated with the bin; if no list yet exists for this bin, assign the bin an empty list.\n",
        "   * Add the document id to the end of the list.\n"
      ]
    },
    {
      "cell_type": "code",
      "metadata": {
        "id": "mJ2n_En3VxkM"
      },
      "source": [
        "from collections import defaultdict \n",
        "\n",
        "def train_lsh(data, n_vectors, seed=None):    \n",
        "    if seed is not None:\n",
        "        np.random.seed(seed)\n",
        "\n",
        "    dim = data.shape[1]\n",
        "    random_vectors = generate_random_vectors(dim, n_vectors)  \n",
        "    table = {}\n",
        "    # Partition data points into bins,\n",
        "    # and encode bin index bits into integers\n",
        "    bin_indices_bits = data.dot(random_vectors) >= 0\n",
        "    powers_of_two = 1 << np.arange(n_vectors - 1, -1, step=-1)\n",
        "    bin_indices = bin_indices_bits.dot(powers_of_two)\n",
        "\n",
        "    # Update `table` so that `table[i]` is the list of document ids with bin index equal to i\n",
        "    table = defaultdict(list)\n",
        "    for idx, bin_index in enumerate(bin_indices):\n",
        "        if bin_index not in table:\n",
        "            # If no list yet exists for this bin, assign the bin an empty list.\n",
        "            table[bin_index] = [] \n",
        "        # Fetch the list of document ids associated with the bin and add the document id to the end.\n",
        "        # data_index: document ids\n",
        "        # append() will add a list of document ids to table dict() with key as bin_index\n",
        "        table[bin_index].append(idx) \n",
        "    \n",
        "    # Note that we're storing the bin_indices here\n",
        "    # so we can do some ad-hoc checking with it,\n",
        "    # this isn't actually required\n",
        "    model = {'data': data,\n",
        "             'table': table,\n",
        "             'random_vectors': random_vectors,\n",
        "             'bin_indices': bin_indices,\n",
        "             'bin_indices_bits': bin_indices_bits}\n",
        "    return model"
      ],
      "execution_count": null,
      "outputs": []
    },
    {
      "cell_type": "markdown",
      "metadata": {
        "id": "jGy4DEhXVxkm"
      },
      "source": [
        "**Checkpoint**. "
      ]
    },
    {
      "cell_type": "code",
      "metadata": {
        "id": "-97F8kwQVxku"
      },
      "source": [
        "def compare_bits(model, id_1, id_2):\n",
        "    bits1 = model['bin_indices_bits'][id_1]\n",
        "    bits2 = model['bin_indices_bits'][id_2]\n",
        "    print('Number of agreed bits: ', np.sum(bits1 == bits2))\n",
        "    return np.sum(bits1 == bits2)"
      ],
      "execution_count": null,
      "outputs": []
    },
    {
      "cell_type": "code",
      "metadata": {
        "id": "Lg99uUUUVxlK",
        "colab": {
          "base_uri": "https://localhost:8080/",
          "height": 35
        },
        "outputId": "9a5ce540-b02a-47b0-8552-a493781e81ad"
      },
      "source": [
        "model = train_lsh(corpus, 16, seed=475)\n",
        "obama_id = wiki[wiki['name'] == 'Barack Obama']['id'][0]\n",
        "biden_id = wiki[wiki['name'] == 'Joe Biden']['id'][0]\n",
        "similariy = compare_bits(model, obama_id, biden_id)"
      ],
      "execution_count": null,
      "outputs": [
        {
          "output_type": "stream",
          "text": [
            "Number of agreed bits:  15\n"
          ],
          "name": "stdout"
        }
      ]
    },
    {
      "cell_type": "markdown",
      "metadata": {
        "id": "AIJWRmuyVxl2"
      },
      "source": [
        "**Note.** We will be using the model trained here in the following sections, unless otherwise indicated."
      ]
    },
    {
      "cell_type": "markdown",
      "metadata": {
        "id": "hLSIk7RVVxmI"
      },
      "source": [
        "## Inspect bins"
      ]
    },
    {
      "cell_type": "markdown",
      "metadata": {
        "id": "UgxsxeapVxmO"
      },
      "source": [
        "After generating our LSH model, let's examine the generated bins to get a deeper understanding of them. Here, we will look at these similar products' bins to see if the result matches intuition. Remember the idea behind LSH is that similar data points will tend to fall into nearby bins."
      ]
    },
    {
      "cell_type": "code",
      "metadata": {
        "id": "62RZJ9zCVxmT"
      },
      "source": [
        "# This function will help us get similar items, given the id\n",
        "def get_similarity_items(X_tfidf, item_id, topn=5):\n",
        "    \"\"\"\n",
        "    Get the top similar items for a given item id.\n",
        "    The similarity measure here is based on cosine distance.\n",
        "    \"\"\"\n",
        "    query = X_tfidf[item_id]\n",
        "    scores = X_tfidf.dot(query.T).toarray().ravel()\n",
        "    best = np.argpartition(scores, -topn)[-topn:]\n",
        "    similar_items = sorted(zip(best, scores[best]), key=lambda x: -x[1])\n",
        "    similar_item_ids = [similar_item for similar_item, _ in similar_items]\n",
        "    print(\"Similar items to id: {}\".format(item_id))\n",
        "    for _id in similar_item_ids:\n",
        "        print(wiki[_id]['name'])\n",
        "    print('\\n')\n",
        "    return similar_item_ids"
      ],
      "execution_count": null,
      "outputs": []
    },
    {
      "cell_type": "markdown",
      "metadata": {
        "id": "is2KrDu1VxnP"
      },
      "source": [
        "Let us look at some documents and see which bins they fall into."
      ]
    },
    {
      "cell_type": "code",
      "metadata": {
        "id": "AK4Xg2yxVxnT",
        "colab": {
          "base_uri": "https://localhost:8080/",
          "height": 127
        },
        "outputId": "81a46e18-9a79-4e60-bc23-05e87bb313e7"
      },
      "source": [
        "wiki[wiki['name'] == 'Barack Obama']"
      ],
      "execution_count": null,
      "outputs": [
        {
          "output_type": "execute_result",
          "data": {
            "text/html": [
              "<div style=\"max-height:1000px;max-width:1500px;overflow:auto;\"><table frame=\"box\" rules=\"cols\">\n",
              "    <tr>\n",
              "        <th style=\"padding-left: 1em; padding-right: 1em; text-align: center\">id</th>\n",
              "        <th style=\"padding-left: 1em; padding-right: 1em; text-align: center\">URI</th>\n",
              "        <th style=\"padding-left: 1em; padding-right: 1em; text-align: center\">name</th>\n",
              "        <th style=\"padding-left: 1em; padding-right: 1em; text-align: center\">text</th>\n",
              "        <th style=\"padding-left: 1em; padding-right: 1em; text-align: center\">tf_idf</th>\n",
              "    </tr>\n",
              "    <tr>\n",
              "        <td style=\"padding-left: 1em; padding-right: 1em; text-align: center; vertical-align: top\">35817</td>\n",
              "        <td style=\"padding-left: 1em; padding-right: 1em; text-align: center; vertical-align: top\">&lt;http://dbpedia.org/resou<br>rce/Barack_Obama&gt; ...</td>\n",
              "        <td style=\"padding-left: 1em; padding-right: 1em; text-align: center; vertical-align: top\">Barack Obama</td>\n",
              "        <td style=\"padding-left: 1em; padding-right: 1em; text-align: center; vertical-align: top\">barack hussein obama ii<br>brk husen bm born august ...</td>\n",
              "        <td style=\"padding-left: 1em; padding-right: 1em; text-align: center; vertical-align: top\">{&#x27;normalize&#x27;:<br>10.293348208665249, ...</td>\n",
              "    </tr>\n",
              "</table>\n",
              "[? rows x 5 columns]<br/>Note: Only the head of the SFrame is printed. This SFrame is lazily evaluated.<br/>You can use sf.materialize() to force materialization.\n",
              "</div>"
            ],
            "text/plain": [
              "Columns:\n",
              "\tid\tint\n",
              "\tURI\tstr\n",
              "\tname\tstr\n",
              "\ttext\tstr\n",
              "\ttf_idf\tdict\n",
              "\n",
              "Rows: Unknown\n",
              "\n",
              "Data:\n",
              "+-------+-------------------------------+--------------+\n",
              "|   id  |              URI              |     name     |\n",
              "+-------+-------------------------------+--------------+\n",
              "| 35817 | <http://dbpedia.org/resour... | Barack Obama |\n",
              "+-------+-------------------------------+--------------+\n",
              "+-------------------------------+-------------------------------+\n",
              "|              text             |             tf_idf            |\n",
              "+-------------------------------+-------------------------------+\n",
              "| barack hussein obama ii br... | {'normalize': 10.293348208... |\n",
              "+-------------------------------+-------------------------------+\n",
              "[? rows x 5 columns]\n",
              "Note: Only the head of the SFrame is printed. This SFrame is lazily evaluated.\n",
              "You can use sf.materialize() to force materialization."
            ]
          },
          "metadata": {
            "tags": []
          },
          "execution_count": 33
        }
      ]
    },
    {
      "cell_type": "markdown",
      "metadata": {
        "id": "Pz5ra-KvVxnn"
      },
      "source": [
        "**Quiz Question**. What is the document `id` of Barack Obama's article?\n",
        "\n",
        "**Quiz Question**. Which bin contains Barack Obama's article? Enter its integer index."
      ]
    },
    {
      "cell_type": "code",
      "metadata": {
        "id": "wGaP8DS2Vxnv",
        "colab": {
          "base_uri": "https://localhost:8080/",
          "height": 35
        },
        "outputId": "2a3b1295-e983-41e8-972a-91c78ec3d2cc"
      },
      "source": [
        "wiki[wiki['name'] == 'Barack Obama']['id'][0]"
      ],
      "execution_count": null,
      "outputs": [
        {
          "output_type": "execute_result",
          "data": {
            "text/plain": [
              "35817"
            ]
          },
          "metadata": {
            "tags": []
          },
          "execution_count": 34
        }
      ]
    },
    {
      "cell_type": "code",
      "metadata": {
        "id": "t4cBIrJGqOCa",
        "colab": {
          "base_uri": "https://localhost:8080/",
          "height": 35
        },
        "outputId": "dad009e1-882b-4a05-a357-2e285d40b112"
      },
      "source": [
        "print(model['bin_indices'][35817])"
      ],
      "execution_count": null,
      "outputs": [
        {
          "output_type": "stream",
          "text": [
            "38448\n"
          ],
          "name": "stdout"
        }
      ]
    },
    {
      "cell_type": "markdown",
      "metadata": {
        "id": "NpBhGS0vVxoE"
      },
      "source": [
        "Recall from the previous assignment that Joe Biden was a close neighbor of Barack Obama."
      ]
    },
    {
      "cell_type": "code",
      "metadata": {
        "id": "eFgee-Z7VxoN",
        "colab": {
          "base_uri": "https://localhost:8080/",
          "height": 127
        },
        "outputId": "1acab14a-2c5e-4a5d-b817-854281e66057"
      },
      "source": [
        "wiki[wiki['name'] == 'Joe Biden']"
      ],
      "execution_count": null,
      "outputs": [
        {
          "output_type": "execute_result",
          "data": {
            "text/html": [
              "<div style=\"max-height:1000px;max-width:1500px;overflow:auto;\"><table frame=\"box\" rules=\"cols\">\n",
              "    <tr>\n",
              "        <th style=\"padding-left: 1em; padding-right: 1em; text-align: center\">id</th>\n",
              "        <th style=\"padding-left: 1em; padding-right: 1em; text-align: center\">URI</th>\n",
              "        <th style=\"padding-left: 1em; padding-right: 1em; text-align: center\">name</th>\n",
              "        <th style=\"padding-left: 1em; padding-right: 1em; text-align: center\">text</th>\n",
              "        <th style=\"padding-left: 1em; padding-right: 1em; text-align: center\">tf_idf</th>\n",
              "    </tr>\n",
              "    <tr>\n",
              "        <td style=\"padding-left: 1em; padding-right: 1em; text-align: center; vertical-align: top\">24478</td>\n",
              "        <td style=\"padding-left: 1em; padding-right: 1em; text-align: center; vertical-align: top\">&lt;http://dbpedia.org/resou<br>rce/Joe_Biden&gt; ...</td>\n",
              "        <td style=\"padding-left: 1em; padding-right: 1em; text-align: center; vertical-align: top\">Joe Biden</td>\n",
              "        <td style=\"padding-left: 1em; padding-right: 1em; text-align: center; vertical-align: top\">joseph robinette joe<br>biden jr dosf rbnt badn ...</td>\n",
              "        <td style=\"padding-left: 1em; padding-right: 1em; text-align: center; vertical-align: top\">{&#x27;were&#x27;:<br>1.521978023354629, ...</td>\n",
              "    </tr>\n",
              "</table>\n",
              "[? rows x 5 columns]<br/>Note: Only the head of the SFrame is printed. This SFrame is lazily evaluated.<br/>You can use sf.materialize() to force materialization.\n",
              "</div>"
            ],
            "text/plain": [
              "Columns:\n",
              "\tid\tint\n",
              "\tURI\tstr\n",
              "\tname\tstr\n",
              "\ttext\tstr\n",
              "\ttf_idf\tdict\n",
              "\n",
              "Rows: Unknown\n",
              "\n",
              "Data:\n",
              "+-------+-------------------------------+-----------+\n",
              "|   id  |              URI              |    name   |\n",
              "+-------+-------------------------------+-----------+\n",
              "| 24478 | <http://dbpedia.org/resour... | Joe Biden |\n",
              "+-------+-------------------------------+-----------+\n",
              "+-------------------------------+-------------------------------+\n",
              "|              text             |             tf_idf            |\n",
              "+-------------------------------+-------------------------------+\n",
              "| joseph robinette joe biden... | {'were': 1.521978023354629... |\n",
              "+-------------------------------+-------------------------------+\n",
              "[? rows x 5 columns]\n",
              "Note: Only the head of the SFrame is printed. This SFrame is lazily evaluated.\n",
              "You can use sf.materialize() to force materialization."
            ]
          },
          "metadata": {
            "tags": []
          },
          "execution_count": 36
        }
      ]
    },
    {
      "cell_type": "markdown",
      "metadata": {
        "id": "Dv3iYaQSVxoi"
      },
      "source": [
        "**Quiz Question**. Examine the bit representations of the bins containing Barack Obama and Joe Biden. In how many places do they agree?\n",
        "\n",
        "1. 16 out of 16 places (Barack Obama and Joe Biden fall into the same bin)\n",
        "2. 15 out of 16 places\n",
        "3. 13 out of 16 places\n",
        "4. 11 out of 16 places\n",
        "5. 9 out of 16 places"
      ]
    },
    {
      "cell_type": "code",
      "metadata": {
        "id": "PphrCSW4Vxom",
        "colab": {
          "base_uri": "https://localhost:8080/",
          "height": 35
        },
        "outputId": "11887bbd-f5d9-4b9a-c431-7484500856f2"
      },
      "source": [
        "wiki[wiki['name'] == 'Joe Biden']['id'][0]"
      ],
      "execution_count": null,
      "outputs": [
        {
          "output_type": "execute_result",
          "data": {
            "text/plain": [
              "24478"
            ]
          },
          "metadata": {
            "tags": []
          },
          "execution_count": 37
        }
      ]
    },
    {
      "cell_type": "code",
      "metadata": {
        "id": "zovi--MyVxpE",
        "colab": {
          "base_uri": "https://localhost:8080/",
          "height": 54
        },
        "outputId": "c894d35d-d701-404a-dc79-a964caaf8c6f"
      },
      "source": [
        "# bin_index of Joe Biden\n",
        "print(np.array(model['bin_indices_bits'][24478], dtype=int)) \n",
        "# bit representations of the bins containing Joe Biden\n",
        "print(model['bin_indices'][24478])"
      ],
      "execution_count": null,
      "outputs": [
        {
          "output_type": "stream",
          "text": [
            "[1 0 0 1 0 0 1 0 0 0 1 1 0 0 0 0]\n",
            "37424\n"
          ],
          "name": "stdout"
        }
      ]
    },
    {
      "cell_type": "code",
      "metadata": {
        "id": "FxgskfNmsX-V",
        "colab": {
          "base_uri": "https://localhost:8080/",
          "height": 54
        },
        "outputId": "b34aea07-5d4b-4fc2-fa5c-ca81dc15ce54"
      },
      "source": [
        "model['bin_indices_bits'][35817] == model['bin_indices_bits'][24478]"
      ],
      "execution_count": null,
      "outputs": [
        {
          "output_type": "execute_result",
          "data": {
            "text/plain": [
              "array([ True,  True,  True,  True,  True, False,  True,  True,  True,\n",
              "        True,  True,  True,  True,  True,  True,  True])"
            ]
          },
          "metadata": {
            "tags": []
          },
          "execution_count": 44
        }
      ]
    },
    {
      "cell_type": "code",
      "metadata": {
        "id": "HDbuGHaPswF7",
        "colab": {
          "base_uri": "https://localhost:8080/",
          "height": 35
        },
        "outputId": "009ca5c2-233a-4779-f835-0431f6b10df2"
      },
      "source": [
        "# sum of bits agree between Barack Obama and Joe Biden\n",
        "sum(model['bin_indices_bits'][35817] == model['bin_indices_bits'][24478])"
      ],
      "execution_count": null,
      "outputs": [
        {
          "output_type": "execute_result",
          "data": {
            "text/plain": [
              "15"
            ]
          },
          "metadata": {
            "tags": []
          },
          "execution_count": 45
        }
      ]
    },
    {
      "cell_type": "markdown",
      "metadata": {
        "id": "xlIva7l2VxpX"
      },
      "source": [
        "Compare the result with a former British diplomat"
      ]
    },
    {
      "cell_type": "code",
      "metadata": {
        "id": "t6_uNOmCVxpb",
        "colab": {
          "base_uri": "https://localhost:8080/",
          "height": 54
        },
        "outputId": "f0d0d888-c46e-4cfb-8d67-23934b8abfe4"
      },
      "source": [
        "jones_id = wiki[wiki['name']=='Wynn Normington Hugh-Jones']['id'][0]\n",
        "compare_bits(model, obama_id, jones_id)"
      ],
      "execution_count": null,
      "outputs": [
        {
          "output_type": "stream",
          "text": [
            "Number of agreed bits:  8\n"
          ],
          "name": "stdout"
        },
        {
          "output_type": "execute_result",
          "data": {
            "text/plain": [
              "8"
            ]
          },
          "metadata": {
            "tags": []
          },
          "execution_count": 46
        }
      ]
    },
    {
      "cell_type": "markdown",
      "metadata": {
        "id": "0ZMANbd9Vxpy"
      },
      "source": [
        "How about the documents in the same bin as Barack Obama? Are they necessarily more similar to Obama than Biden?  Let's look at which documents are in the same bin as the Barack Obama article."
      ]
    },
    {
      "cell_type": "code",
      "metadata": {
        "id": "0MyKICVnVxp2",
        "colab": {
          "base_uri": "https://localhost:8080/",
          "height": 35
        },
        "outputId": "f58e09b9-8309-49c0-a037-2928e9659a86"
      },
      "source": [
        "model['table'][model['bin_indices'][35817]]"
      ],
      "execution_count": null,
      "outputs": [
        {
          "output_type": "execute_result",
          "data": {
            "text/plain": [
              "[35817, 54743]"
            ]
          },
          "metadata": {
            "tags": []
          },
          "execution_count": 47
        }
      ]
    },
    {
      "cell_type": "markdown",
      "metadata": {
        "id": "K_GCK_7NVxqc"
      },
      "source": [
        "There is one more document in the same bin. Which document is it?"
      ]
    },
    {
      "cell_type": "code",
      "metadata": {
        "id": "2Sy-FQ8DVxqh",
        "colab": {
          "base_uri": "https://localhost:8080/",
          "height": 92
        },
        "outputId": "0d01675e-a465-484b-b52c-8f08452d7f2a"
      },
      "source": [
        "doc_ids = list(model['table'][model['bin_indices'][35817]])\n",
        "doc_ids.remove(35817) # display documents other than Obama\n",
        "\n",
        "docs = wiki.filter_by(values=doc_ids, column_name='id') # filter by id column\n",
        "docs"
      ],
      "execution_count": null,
      "outputs": [
        {
          "output_type": "execute_result",
          "data": {
            "text/html": [
              "<div style=\"max-height:1000px;max-width:1500px;overflow:auto;\"><table frame=\"box\" rules=\"cols\">\n",
              "    <tr>\n",
              "        <th style=\"padding-left: 1em; padding-right: 1em; text-align: center\">id</th>\n",
              "        <th style=\"padding-left: 1em; padding-right: 1em; text-align: center\">URI</th>\n",
              "        <th style=\"padding-left: 1em; padding-right: 1em; text-align: center\">name</th>\n",
              "        <th style=\"padding-left: 1em; padding-right: 1em; text-align: center\">text</th>\n",
              "        <th style=\"padding-left: 1em; padding-right: 1em; text-align: center\">tf_idf</th>\n",
              "    </tr>\n",
              "    <tr>\n",
              "        <td style=\"padding-left: 1em; padding-right: 1em; text-align: center; vertical-align: top\">54743</td>\n",
              "        <td style=\"padding-left: 1em; padding-right: 1em; text-align: center; vertical-align: top\">&lt;http://dbpedia.org/resou<br>rce/Radovan_%C5%BDerjav&gt; ...</td>\n",
              "        <td style=\"padding-left: 1em; padding-right: 1em; text-align: center; vertical-align: top\">Radovan %C5%BDerjav</td>\n",
              "        <td style=\"padding-left: 1em; padding-right: 1em; text-align: center; vertical-align: top\">radovan erjav born 2<br>december 1968 is a ...</td>\n",
              "        <td style=\"padding-left: 1em; padding-right: 1em; text-align: center; vertical-align: top\">{&#x27;hungarian&#x27;:<br>5.299520032885375, ...</td>\n",
              "    </tr>\n",
              "</table>\n",
              "[1 rows x 5 columns]<br/>\n",
              "</div>"
            ],
            "text/plain": [
              "Columns:\n",
              "\tid\tint\n",
              "\tURI\tstr\n",
              "\tname\tstr\n",
              "\ttext\tstr\n",
              "\ttf_idf\tdict\n",
              "\n",
              "Rows: 1\n",
              "\n",
              "Data:\n",
              "+-------+-------------------------------+---------------------+\n",
              "|   id  |              URI              |         name        |\n",
              "+-------+-------------------------------+---------------------+\n",
              "| 54743 | <http://dbpedia.org/resour... | Radovan %C5%BDerjav |\n",
              "+-------+-------------------------------+---------------------+\n",
              "+-------------------------------+-------------------------------+\n",
              "|              text             |             tf_idf            |\n",
              "+-------------------------------+-------------------------------+\n",
              "| radovan erjav born 2 decem... | {'hungarian': 5.2995200328... |\n",
              "+-------------------------------+-------------------------------+\n",
              "[1 rows x 5 columns]"
            ]
          },
          "metadata": {
            "tags": []
          },
          "execution_count": 48
        }
      ]
    },
    {
      "cell_type": "code",
      "metadata": {
        "id": "Y1hpngQTVxq3",
        "colab": {
          "base_uri": "https://localhost:8080/",
          "height": 54
        },
        "outputId": "3e7a77f8-2ce3-4892-a719-d8632c49cea3"
      },
      "source": [
        "res = compare_bits(model, obama_id, docs[0]['id']), compare_bits(model, obama_id, biden_id)"
      ],
      "execution_count": null,
      "outputs": [
        {
          "output_type": "stream",
          "text": [
            "Number of agreed bits:  16\n",
            "Number of agreed bits:  15\n"
          ],
          "name": "stdout"
        }
      ]
    },
    {
      "cell_type": "markdown",
      "metadata": {
        "id": "8IVCxpwSVxrL"
      },
      "source": [
        "**In summary**, similar data points will in general _tend to_ fall into _nearby_ bins, but that's all we can say about LSH. In a high-dimensional space such as text features, we often get unlucky with our selection of only a few random vectors such that dissimilar data points go into the same bin while similar data points fall into different bins. **Given a query document, we must consider all documents in the nearby bins and sort them according to their actual distances from the query.**"
      ]
    },
    {
      "cell_type": "markdown",
      "metadata": {
        "id": "SlvUdi8OVxrP"
      },
      "source": [
        "## Query the LSH model"
      ]
    },
    {
      "cell_type": "markdown",
      "metadata": {
        "id": "RcvA090zVxrS"
      },
      "source": [
        "Let us first implement the logic for searching nearby neighbors, which goes like this:\n",
        "```\n",
        "1. Let L be the bit representation of the bin that contains the query documents.\n",
        "2. Consider all documents in bin L.\n",
        "3. Consider documents in the bins whose bit representation differs from L by 1 bit.\n",
        "4. Consider documents in the bins whose bit representation differs from L by 2 bits.\n",
        "...\n",
        "```"
      ]
    },
    {
      "cell_type": "markdown",
      "metadata": {
        "id": "_i2pyd4KVxrV"
      },
      "source": [
        "To obtain candidate bins that differ from the query bin by some number of bits, we use `itertools.combinations`, which produces all possible subsets of a given list. See [this documentation](https://docs.python.org/3/library/itertools.html#itertools.combinations) for details.\n",
        "```\n",
        "1. Decide on the search radius r. This will determine the number of different bits between the two vectors.\n",
        "2. For each subset (n_1, n_2, ..., n_r) of the list [0, 1, 2, ..., num_vector-1], do the following:\n",
        "   * Flip the bits (n_1, n_2, ..., n_r) of the query bin to produce a new bit vector.\n",
        "   * Fetch the list of documents belonging to the bin indexed by the new bit vector.\n",
        "   * Add those documents to the candidate set.\n",
        "```\n",
        "\n",
        "Each line of output from the following cell is a 3-tuple indicating where the candidate bin would differ from the query bin. For instance,\n",
        "```\n",
        "(0, 1, 3)\n",
        "```\n",
        "indicates that the candiate bin differs from the query bin in first, second, and fourth bits."
      ]
    },
    {
      "cell_type": "code",
      "metadata": {
        "id": "Q-Mdt9A4Vxra"
      },
      "source": [
        "from itertools import combinations"
      ],
      "execution_count": null,
      "outputs": []
    },
    {
      "cell_type": "code",
      "metadata": {
        "scrolled": true,
        "id": "V7j6z6S5Vxrx",
        "colab": {
          "base_uri": "https://localhost:8080/",
          "height": 1000
        },
        "outputId": "e271712e-eaa5-46e3-d977-c8be7caa24fd"
      },
      "source": [
        "num_vector = 16\n",
        "search_radius = 3\n",
        "\n",
        "for diff in combinations(range(num_vector), search_radius):\n",
        "    print(diff)"
      ],
      "execution_count": null,
      "outputs": [
        {
          "output_type": "stream",
          "text": [
            "(0, 1, 2)\n",
            "(0, 1, 3)\n",
            "(0, 1, 4)\n",
            "(0, 1, 5)\n",
            "(0, 1, 6)\n",
            "(0, 1, 7)\n",
            "(0, 1, 8)\n",
            "(0, 1, 9)\n",
            "(0, 1, 10)\n",
            "(0, 1, 11)\n",
            "(0, 1, 12)\n",
            "(0, 1, 13)\n",
            "(0, 1, 14)\n",
            "(0, 1, 15)\n",
            "(0, 2, 3)\n",
            "(0, 2, 4)\n",
            "(0, 2, 5)\n",
            "(0, 2, 6)\n",
            "(0, 2, 7)\n",
            "(0, 2, 8)\n",
            "(0, 2, 9)\n",
            "(0, 2, 10)\n",
            "(0, 2, 11)\n",
            "(0, 2, 12)\n",
            "(0, 2, 13)\n",
            "(0, 2, 14)\n",
            "(0, 2, 15)\n",
            "(0, 3, 4)\n",
            "(0, 3, 5)\n",
            "(0, 3, 6)\n",
            "(0, 3, 7)\n",
            "(0, 3, 8)\n",
            "(0, 3, 9)\n",
            "(0, 3, 10)\n",
            "(0, 3, 11)\n",
            "(0, 3, 12)\n",
            "(0, 3, 13)\n",
            "(0, 3, 14)\n",
            "(0, 3, 15)\n",
            "(0, 4, 5)\n",
            "(0, 4, 6)\n",
            "(0, 4, 7)\n",
            "(0, 4, 8)\n",
            "(0, 4, 9)\n",
            "(0, 4, 10)\n",
            "(0, 4, 11)\n",
            "(0, 4, 12)\n",
            "(0, 4, 13)\n",
            "(0, 4, 14)\n",
            "(0, 4, 15)\n",
            "(0, 5, 6)\n",
            "(0, 5, 7)\n",
            "(0, 5, 8)\n",
            "(0, 5, 9)\n",
            "(0, 5, 10)\n",
            "(0, 5, 11)\n",
            "(0, 5, 12)\n",
            "(0, 5, 13)\n",
            "(0, 5, 14)\n",
            "(0, 5, 15)\n",
            "(0, 6, 7)\n",
            "(0, 6, 8)\n",
            "(0, 6, 9)\n",
            "(0, 6, 10)\n",
            "(0, 6, 11)\n",
            "(0, 6, 12)\n",
            "(0, 6, 13)\n",
            "(0, 6, 14)\n",
            "(0, 6, 15)\n",
            "(0, 7, 8)\n",
            "(0, 7, 9)\n",
            "(0, 7, 10)\n",
            "(0, 7, 11)\n",
            "(0, 7, 12)\n",
            "(0, 7, 13)\n",
            "(0, 7, 14)\n",
            "(0, 7, 15)\n",
            "(0, 8, 9)\n",
            "(0, 8, 10)\n",
            "(0, 8, 11)\n",
            "(0, 8, 12)\n",
            "(0, 8, 13)\n",
            "(0, 8, 14)\n",
            "(0, 8, 15)\n",
            "(0, 9, 10)\n",
            "(0, 9, 11)\n",
            "(0, 9, 12)\n",
            "(0, 9, 13)\n",
            "(0, 9, 14)\n",
            "(0, 9, 15)\n",
            "(0, 10, 11)\n",
            "(0, 10, 12)\n",
            "(0, 10, 13)\n",
            "(0, 10, 14)\n",
            "(0, 10, 15)\n",
            "(0, 11, 12)\n",
            "(0, 11, 13)\n",
            "(0, 11, 14)\n",
            "(0, 11, 15)\n",
            "(0, 12, 13)\n",
            "(0, 12, 14)\n",
            "(0, 12, 15)\n",
            "(0, 13, 14)\n",
            "(0, 13, 15)\n",
            "(0, 14, 15)\n",
            "(1, 2, 3)\n",
            "(1, 2, 4)\n",
            "(1, 2, 5)\n",
            "(1, 2, 6)\n",
            "(1, 2, 7)\n",
            "(1, 2, 8)\n",
            "(1, 2, 9)\n",
            "(1, 2, 10)\n",
            "(1, 2, 11)\n",
            "(1, 2, 12)\n",
            "(1, 2, 13)\n",
            "(1, 2, 14)\n",
            "(1, 2, 15)\n",
            "(1, 3, 4)\n",
            "(1, 3, 5)\n",
            "(1, 3, 6)\n",
            "(1, 3, 7)\n",
            "(1, 3, 8)\n",
            "(1, 3, 9)\n",
            "(1, 3, 10)\n",
            "(1, 3, 11)\n",
            "(1, 3, 12)\n",
            "(1, 3, 13)\n",
            "(1, 3, 14)\n",
            "(1, 3, 15)\n",
            "(1, 4, 5)\n",
            "(1, 4, 6)\n",
            "(1, 4, 7)\n",
            "(1, 4, 8)\n",
            "(1, 4, 9)\n",
            "(1, 4, 10)\n",
            "(1, 4, 11)\n",
            "(1, 4, 12)\n",
            "(1, 4, 13)\n",
            "(1, 4, 14)\n",
            "(1, 4, 15)\n",
            "(1, 5, 6)\n",
            "(1, 5, 7)\n",
            "(1, 5, 8)\n",
            "(1, 5, 9)\n",
            "(1, 5, 10)\n",
            "(1, 5, 11)\n",
            "(1, 5, 12)\n",
            "(1, 5, 13)\n",
            "(1, 5, 14)\n",
            "(1, 5, 15)\n",
            "(1, 6, 7)\n",
            "(1, 6, 8)\n",
            "(1, 6, 9)\n",
            "(1, 6, 10)\n",
            "(1, 6, 11)\n",
            "(1, 6, 12)\n",
            "(1, 6, 13)\n",
            "(1, 6, 14)\n",
            "(1, 6, 15)\n",
            "(1, 7, 8)\n",
            "(1, 7, 9)\n",
            "(1, 7, 10)\n",
            "(1, 7, 11)\n",
            "(1, 7, 12)\n",
            "(1, 7, 13)\n",
            "(1, 7, 14)\n",
            "(1, 7, 15)\n",
            "(1, 8, 9)\n",
            "(1, 8, 10)\n",
            "(1, 8, 11)\n",
            "(1, 8, 12)\n",
            "(1, 8, 13)\n",
            "(1, 8, 14)\n",
            "(1, 8, 15)\n",
            "(1, 9, 10)\n",
            "(1, 9, 11)\n",
            "(1, 9, 12)\n",
            "(1, 9, 13)\n",
            "(1, 9, 14)\n",
            "(1, 9, 15)\n",
            "(1, 10, 11)\n",
            "(1, 10, 12)\n",
            "(1, 10, 13)\n",
            "(1, 10, 14)\n",
            "(1, 10, 15)\n",
            "(1, 11, 12)\n",
            "(1, 11, 13)\n",
            "(1, 11, 14)\n",
            "(1, 11, 15)\n",
            "(1, 12, 13)\n",
            "(1, 12, 14)\n",
            "(1, 12, 15)\n",
            "(1, 13, 14)\n",
            "(1, 13, 15)\n",
            "(1, 14, 15)\n",
            "(2, 3, 4)\n",
            "(2, 3, 5)\n",
            "(2, 3, 6)\n",
            "(2, 3, 7)\n",
            "(2, 3, 8)\n",
            "(2, 3, 9)\n",
            "(2, 3, 10)\n",
            "(2, 3, 11)\n",
            "(2, 3, 12)\n",
            "(2, 3, 13)\n",
            "(2, 3, 14)\n",
            "(2, 3, 15)\n",
            "(2, 4, 5)\n",
            "(2, 4, 6)\n",
            "(2, 4, 7)\n",
            "(2, 4, 8)\n",
            "(2, 4, 9)\n",
            "(2, 4, 10)\n",
            "(2, 4, 11)\n",
            "(2, 4, 12)\n",
            "(2, 4, 13)\n",
            "(2, 4, 14)\n",
            "(2, 4, 15)\n",
            "(2, 5, 6)\n",
            "(2, 5, 7)\n",
            "(2, 5, 8)\n",
            "(2, 5, 9)\n",
            "(2, 5, 10)\n",
            "(2, 5, 11)\n",
            "(2, 5, 12)\n",
            "(2, 5, 13)\n",
            "(2, 5, 14)\n",
            "(2, 5, 15)\n",
            "(2, 6, 7)\n",
            "(2, 6, 8)\n",
            "(2, 6, 9)\n",
            "(2, 6, 10)\n",
            "(2, 6, 11)\n",
            "(2, 6, 12)\n",
            "(2, 6, 13)\n",
            "(2, 6, 14)\n",
            "(2, 6, 15)\n",
            "(2, 7, 8)\n",
            "(2, 7, 9)\n",
            "(2, 7, 10)\n",
            "(2, 7, 11)\n",
            "(2, 7, 12)\n",
            "(2, 7, 13)\n",
            "(2, 7, 14)\n",
            "(2, 7, 15)\n",
            "(2, 8, 9)\n",
            "(2, 8, 10)\n",
            "(2, 8, 11)\n",
            "(2, 8, 12)\n",
            "(2, 8, 13)\n",
            "(2, 8, 14)\n",
            "(2, 8, 15)\n",
            "(2, 9, 10)\n",
            "(2, 9, 11)\n",
            "(2, 9, 12)\n",
            "(2, 9, 13)\n",
            "(2, 9, 14)\n",
            "(2, 9, 15)\n",
            "(2, 10, 11)\n",
            "(2, 10, 12)\n",
            "(2, 10, 13)\n",
            "(2, 10, 14)\n",
            "(2, 10, 15)\n",
            "(2, 11, 12)\n",
            "(2, 11, 13)\n",
            "(2, 11, 14)\n",
            "(2, 11, 15)\n",
            "(2, 12, 13)\n",
            "(2, 12, 14)\n",
            "(2, 12, 15)\n",
            "(2, 13, 14)\n",
            "(2, 13, 15)\n",
            "(2, 14, 15)\n",
            "(3, 4, 5)\n",
            "(3, 4, 6)\n",
            "(3, 4, 7)\n",
            "(3, 4, 8)\n",
            "(3, 4, 9)\n",
            "(3, 4, 10)\n",
            "(3, 4, 11)\n",
            "(3, 4, 12)\n",
            "(3, 4, 13)\n",
            "(3, 4, 14)\n",
            "(3, 4, 15)\n",
            "(3, 5, 6)\n",
            "(3, 5, 7)\n",
            "(3, 5, 8)\n",
            "(3, 5, 9)\n",
            "(3, 5, 10)\n",
            "(3, 5, 11)\n",
            "(3, 5, 12)\n",
            "(3, 5, 13)\n",
            "(3, 5, 14)\n",
            "(3, 5, 15)\n",
            "(3, 6, 7)\n",
            "(3, 6, 8)\n",
            "(3, 6, 9)\n",
            "(3, 6, 10)\n",
            "(3, 6, 11)\n",
            "(3, 6, 12)\n",
            "(3, 6, 13)\n",
            "(3, 6, 14)\n",
            "(3, 6, 15)\n",
            "(3, 7, 8)\n",
            "(3, 7, 9)\n",
            "(3, 7, 10)\n",
            "(3, 7, 11)\n",
            "(3, 7, 12)\n",
            "(3, 7, 13)\n",
            "(3, 7, 14)\n",
            "(3, 7, 15)\n",
            "(3, 8, 9)\n",
            "(3, 8, 10)\n",
            "(3, 8, 11)\n",
            "(3, 8, 12)\n",
            "(3, 8, 13)\n",
            "(3, 8, 14)\n",
            "(3, 8, 15)\n",
            "(3, 9, 10)\n",
            "(3, 9, 11)\n",
            "(3, 9, 12)\n",
            "(3, 9, 13)\n",
            "(3, 9, 14)\n",
            "(3, 9, 15)\n",
            "(3, 10, 11)\n",
            "(3, 10, 12)\n",
            "(3, 10, 13)\n",
            "(3, 10, 14)\n",
            "(3, 10, 15)\n",
            "(3, 11, 12)\n",
            "(3, 11, 13)\n",
            "(3, 11, 14)\n",
            "(3, 11, 15)\n",
            "(3, 12, 13)\n",
            "(3, 12, 14)\n",
            "(3, 12, 15)\n",
            "(3, 13, 14)\n",
            "(3, 13, 15)\n",
            "(3, 14, 15)\n",
            "(4, 5, 6)\n",
            "(4, 5, 7)\n",
            "(4, 5, 8)\n",
            "(4, 5, 9)\n",
            "(4, 5, 10)\n",
            "(4, 5, 11)\n",
            "(4, 5, 12)\n",
            "(4, 5, 13)\n",
            "(4, 5, 14)\n",
            "(4, 5, 15)\n",
            "(4, 6, 7)\n",
            "(4, 6, 8)\n",
            "(4, 6, 9)\n",
            "(4, 6, 10)\n",
            "(4, 6, 11)\n",
            "(4, 6, 12)\n",
            "(4, 6, 13)\n",
            "(4, 6, 14)\n",
            "(4, 6, 15)\n",
            "(4, 7, 8)\n",
            "(4, 7, 9)\n",
            "(4, 7, 10)\n",
            "(4, 7, 11)\n",
            "(4, 7, 12)\n",
            "(4, 7, 13)\n",
            "(4, 7, 14)\n",
            "(4, 7, 15)\n",
            "(4, 8, 9)\n",
            "(4, 8, 10)\n",
            "(4, 8, 11)\n",
            "(4, 8, 12)\n",
            "(4, 8, 13)\n",
            "(4, 8, 14)\n",
            "(4, 8, 15)\n",
            "(4, 9, 10)\n",
            "(4, 9, 11)\n",
            "(4, 9, 12)\n",
            "(4, 9, 13)\n",
            "(4, 9, 14)\n",
            "(4, 9, 15)\n",
            "(4, 10, 11)\n",
            "(4, 10, 12)\n",
            "(4, 10, 13)\n",
            "(4, 10, 14)\n",
            "(4, 10, 15)\n",
            "(4, 11, 12)\n",
            "(4, 11, 13)\n",
            "(4, 11, 14)\n",
            "(4, 11, 15)\n",
            "(4, 12, 13)\n",
            "(4, 12, 14)\n",
            "(4, 12, 15)\n",
            "(4, 13, 14)\n",
            "(4, 13, 15)\n",
            "(4, 14, 15)\n",
            "(5, 6, 7)\n",
            "(5, 6, 8)\n",
            "(5, 6, 9)\n",
            "(5, 6, 10)\n",
            "(5, 6, 11)\n",
            "(5, 6, 12)\n",
            "(5, 6, 13)\n",
            "(5, 6, 14)\n",
            "(5, 6, 15)\n",
            "(5, 7, 8)\n",
            "(5, 7, 9)\n",
            "(5, 7, 10)\n",
            "(5, 7, 11)\n",
            "(5, 7, 12)\n",
            "(5, 7, 13)\n",
            "(5, 7, 14)\n",
            "(5, 7, 15)\n",
            "(5, 8, 9)\n",
            "(5, 8, 10)\n",
            "(5, 8, 11)\n",
            "(5, 8, 12)\n",
            "(5, 8, 13)\n",
            "(5, 8, 14)\n",
            "(5, 8, 15)\n",
            "(5, 9, 10)\n",
            "(5, 9, 11)\n",
            "(5, 9, 12)\n",
            "(5, 9, 13)\n",
            "(5, 9, 14)\n",
            "(5, 9, 15)\n",
            "(5, 10, 11)\n",
            "(5, 10, 12)\n",
            "(5, 10, 13)\n",
            "(5, 10, 14)\n",
            "(5, 10, 15)\n",
            "(5, 11, 12)\n",
            "(5, 11, 13)\n",
            "(5, 11, 14)\n",
            "(5, 11, 15)\n",
            "(5, 12, 13)\n",
            "(5, 12, 14)\n",
            "(5, 12, 15)\n",
            "(5, 13, 14)\n",
            "(5, 13, 15)\n",
            "(5, 14, 15)\n",
            "(6, 7, 8)\n",
            "(6, 7, 9)\n",
            "(6, 7, 10)\n",
            "(6, 7, 11)\n",
            "(6, 7, 12)\n",
            "(6, 7, 13)\n",
            "(6, 7, 14)\n",
            "(6, 7, 15)\n",
            "(6, 8, 9)\n",
            "(6, 8, 10)\n",
            "(6, 8, 11)\n",
            "(6, 8, 12)\n",
            "(6, 8, 13)\n",
            "(6, 8, 14)\n",
            "(6, 8, 15)\n",
            "(6, 9, 10)\n",
            "(6, 9, 11)\n",
            "(6, 9, 12)\n",
            "(6, 9, 13)\n",
            "(6, 9, 14)\n",
            "(6, 9, 15)\n",
            "(6, 10, 11)\n",
            "(6, 10, 12)\n",
            "(6, 10, 13)\n",
            "(6, 10, 14)\n",
            "(6, 10, 15)\n",
            "(6, 11, 12)\n",
            "(6, 11, 13)\n",
            "(6, 11, 14)\n",
            "(6, 11, 15)\n",
            "(6, 12, 13)\n",
            "(6, 12, 14)\n",
            "(6, 12, 15)\n",
            "(6, 13, 14)\n",
            "(6, 13, 15)\n",
            "(6, 14, 15)\n",
            "(7, 8, 9)\n",
            "(7, 8, 10)\n",
            "(7, 8, 11)\n",
            "(7, 8, 12)\n",
            "(7, 8, 13)\n",
            "(7, 8, 14)\n",
            "(7, 8, 15)\n",
            "(7, 9, 10)\n",
            "(7, 9, 11)\n",
            "(7, 9, 12)\n",
            "(7, 9, 13)\n",
            "(7, 9, 14)\n",
            "(7, 9, 15)\n",
            "(7, 10, 11)\n",
            "(7, 10, 12)\n",
            "(7, 10, 13)\n",
            "(7, 10, 14)\n",
            "(7, 10, 15)\n",
            "(7, 11, 12)\n",
            "(7, 11, 13)\n",
            "(7, 11, 14)\n",
            "(7, 11, 15)\n",
            "(7, 12, 13)\n",
            "(7, 12, 14)\n",
            "(7, 12, 15)\n",
            "(7, 13, 14)\n",
            "(7, 13, 15)\n",
            "(7, 14, 15)\n",
            "(8, 9, 10)\n",
            "(8, 9, 11)\n",
            "(8, 9, 12)\n",
            "(8, 9, 13)\n",
            "(8, 9, 14)\n",
            "(8, 9, 15)\n",
            "(8, 10, 11)\n",
            "(8, 10, 12)\n",
            "(8, 10, 13)\n",
            "(8, 10, 14)\n",
            "(8, 10, 15)\n",
            "(8, 11, 12)\n",
            "(8, 11, 13)\n",
            "(8, 11, 14)\n",
            "(8, 11, 15)\n",
            "(8, 12, 13)\n",
            "(8, 12, 14)\n",
            "(8, 12, 15)\n",
            "(8, 13, 14)\n",
            "(8, 13, 15)\n",
            "(8, 14, 15)\n",
            "(9, 10, 11)\n",
            "(9, 10, 12)\n",
            "(9, 10, 13)\n",
            "(9, 10, 14)\n",
            "(9, 10, 15)\n",
            "(9, 11, 12)\n",
            "(9, 11, 13)\n",
            "(9, 11, 14)\n",
            "(9, 11, 15)\n",
            "(9, 12, 13)\n",
            "(9, 12, 14)\n",
            "(9, 12, 15)\n",
            "(9, 13, 14)\n",
            "(9, 13, 15)\n",
            "(9, 14, 15)\n",
            "(10, 11, 12)\n",
            "(10, 11, 13)\n",
            "(10, 11, 14)\n",
            "(10, 11, 15)\n",
            "(10, 12, 13)\n",
            "(10, 12, 14)\n",
            "(10, 12, 15)\n",
            "(10, 13, 14)\n",
            "(10, 13, 15)\n",
            "(10, 14, 15)\n",
            "(11, 12, 13)\n",
            "(11, 12, 14)\n",
            "(11, 12, 15)\n",
            "(11, 13, 14)\n",
            "(11, 13, 15)\n",
            "(11, 14, 15)\n",
            "(12, 13, 14)\n",
            "(12, 13, 15)\n",
            "(12, 14, 15)\n",
            "(13, 14, 15)\n"
          ],
          "name": "stdout"
        }
      ]
    },
    {
      "cell_type": "markdown",
      "metadata": {
        "id": "17L2qGZXVxsJ"
      },
      "source": [
        "With this output in mind, implement the logic for nearby bin search:"
      ]
    },
    {
      "cell_type": "code",
      "metadata": {
        "id": "Xa1UrdG-VxsM"
      },
      "source": [
        "def search_nearby_bins(query_bin_bits, table, search_radius=2, initial_candidates=set()):\n",
        "    \"\"\"\n",
        "    For a given query vector and trained LSH model, return all candidate neighbors for\n",
        "    the query among all bins within the given search radius.\n",
        "    \n",
        "    Example usage\n",
        "    -------------\n",
        "    >>> model = train_lsh(corpus, num_vector=16, seed=143)\n",
        "    >>> q = model['bin_index_bits'][0]  # vector for the first document\n",
        "  \n",
        "    >>> candidates = search_nearby_bins(q, model['table'])\n",
        "    \"\"\"\n",
        "    num_vector = len(query_bin_bits)\n",
        "    powers_of_two = 1 << np.arange(num_vector-1, -1, -1)\n",
        "    \n",
        "    # Allow the user to provide an initial set of candidates.\n",
        "    candidate_set = copy(initial_candidates)\n",
        "    \n",
        "    for different_bits in combinations(range(num_vector), search_radius):       \n",
        "        # Flip the bits (n_1,n_2,...,n_r) of the query bin to produce a new bit vector.\n",
        "        ## Hint: you can iterate over a tuple like a list\n",
        "        alternate_bits = copy(query_bin_bits)\n",
        "        for i in different_bits:\n",
        "            alternate_bits[i] = ~alternate_bits[i]\n",
        "        \n",
        "        # Convert the new bit vector to an integer index\n",
        "        nearby_bin = alternate_bits.dot(powers_of_two)\n",
        "        \n",
        "        # Fetch the list of documents belonging to the bin indexed by the new bit vector.\n",
        "        # Then add those documents to candidate_set\n",
        "        # Make sure that the bin exists in the table!\n",
        "        # Hint: update() method for sets lets you add an entire list to the set\n",
        "        if nearby_bin in table:\n",
        "            more_docs = table[nearby_bin] # Get all document_ids of the bin\n",
        "            candidate_set.update(more_docs) # YOUR CODE HERE: Update candidate_set with the documents in this bin.\n",
        "            \n",
        "    return candidate_set"
      ],
      "execution_count": null,
      "outputs": []
    },
    {
      "cell_type": "markdown",
      "metadata": {
        "id": "YYH9pUPhVxsg"
      },
      "source": [
        "**Checkpoint**. Running the function with `search_radius=0` should yield the list of documents belonging to the same bin as the query."
      ]
    },
    {
      "cell_type": "code",
      "metadata": {
        "id": "vwI5QgzPVxsj",
        "colab": {
          "base_uri": "https://localhost:8080/",
          "height": 54
        },
        "outputId": "209e68db-afc0-4a41-bf21-a6dbbe1a7955"
      },
      "source": [
        "obama_bin_index = model['bin_indices_bits'][35817] # bin index of Barack Obama\n",
        "candidate_set = search_nearby_bins(obama_bin_index, model['table'], search_radius=0)\n",
        "if candidate_set == set({35817, 54743}):\n",
        "    print('Passed test')\n",
        "else:\n",
        "    print('Check your code')\n",
        "print('List of documents in the same bin as Obama: {}'.format(candidate_set))"
      ],
      "execution_count": null,
      "outputs": [
        {
          "output_type": "stream",
          "text": [
            "Passed test\n",
            "List of documents in the same bin as Obama: {35817, 54743}\n"
          ],
          "name": "stdout"
        }
      ]
    },
    {
      "cell_type": "markdown",
      "metadata": {
        "id": "lL5yPU9YVxs-"
      },
      "source": [
        "**Checkpoint**. Running the function with `search_radius=1` adds more documents to the fore."
      ]
    },
    {
      "cell_type": "code",
      "metadata": {
        "id": "9smCQ3K6VxtA",
        "colab": {
          "base_uri": "https://localhost:8080/",
          "height": 74
        },
        "outputId": "518fee43-22a7-4afc-a5c0-5c668e2aa085"
      },
      "source": [
        "candidate_set = search_nearby_bins(obama_bin_index, model['table'], search_radius=1, initial_candidates=candidate_set)\n",
        "if candidate_set == set({42243, 28804, 1810, 48919, 24478, 31010, 7331, 23716, 51108, 48040, 36266, 33200, 25023, 23617, 54743, 34910, 35817, 34159, 14451, 23926, 39032, 12028, 43775}):\n",
        "    print('Passed test')\n",
        "else:\n",
        "    print('Check your code')\n",
        "print(candidate_set)"
      ],
      "execution_count": null,
      "outputs": [
        {
          "output_type": "stream",
          "text": [
            "Passed test\n",
            "{42243, 28804, 1810, 48919, 24478, 31010, 7331, 23716, 51108, 48040, 36266, 33200, 25023, 23617, 54743, 34910, 35817, 34159, 14451, 23926, 39032, 12028, 43775}\n"
          ],
          "name": "stdout"
        }
      ]
    },
    {
      "cell_type": "markdown",
      "metadata": {
        "id": "hDQpu1wIVxtU"
      },
      "source": [
        "**Note**. Don't be surprised if few of the candidates look similar to Obama. This is why we add as many candidates as our computational budget allows and sort them by their distance to the query."
      ]
    },
    {
      "cell_type": "markdown",
      "metadata": {
        "id": "3fTVIqovVxtX"
      },
      "source": [
        "Now we have a function that can return all the candidates from neighboring bins. Next we write a function to collect all candidates and compute their true distance to the query."
      ]
    },
    {
      "cell_type": "code",
      "metadata": {
        "scrolled": true,
        "id": "7SRQBcPLVxtf"
      },
      "source": [
        "def query(vec, model, k, max_search_radius):\n",
        "  \n",
        "    data = model['data']\n",
        "    table = model['table']\n",
        "    random_vectors = model['random_vectors']\n",
        "    num_vector = random_vectors.shape[1]\n",
        "    \n",
        "    \n",
        "    # Compute bin index for the query vector, in bit representation.\n",
        "    bin_index_bits = (vec.dot(random_vectors) >= 0).flatten()\n",
        "    \n",
        "    # Search nearby bins and collect candidates\n",
        "    candidate_set = set()\n",
        "    for search_radius in range(max_search_radius+1):\n",
        "        candidate_set = search_nearby_bins(bin_index_bits, table, search_radius, initial_candidates=candidate_set)\n",
        "    \n",
        "    # Sort candidates by their true distances from the query\n",
        "    nearest_neighbors = turicreate.SFrame({'id':candidate_set})\n",
        "    candidates = data[np.array(list(candidate_set)),:]\n",
        "    nearest_neighbors['distance'] = pairwise_distances(candidates, vec, metric='cosine').flatten()\n",
        "    \n",
        "    return nearest_neighbors.topk('distance', k, reverse=True), len(candidate_set)"
      ],
      "execution_count": null,
      "outputs": []
    },
    {
      "cell_type": "markdown",
      "metadata": {
        "id": "dsBZIABRVxt3"
      },
      "source": [
        "Let's try it out with Obama:"
      ]
    },
    {
      "cell_type": "code",
      "metadata": {
        "id": "UcqaUHu8Vxt7",
        "colab": {
          "base_uri": "https://localhost:8080/",
          "height": 421
        },
        "outputId": "1c868721-435b-4cf8-b1f2-89fc3969a5d0"
      },
      "source": [
        "query(corpus[35817,:], model, k=10, max_search_radius=3)"
      ],
      "execution_count": null,
      "outputs": [
        {
          "output_type": "execute_result",
          "data": {
            "text/plain": [
              "(Columns:\n",
              " \tid\tint\n",
              " \tdistance\tfloat\n",
              " \n",
              " Rows: 10\n",
              " \n",
              " Data:\n",
              " +-------+------------------------+\n",
              " |   id  |        distance        |\n",
              " +-------+------------------------+\n",
              " | 35817 | 1.1102230246251565e-16 |\n",
              " | 24478 |   0.703138676733575    |\n",
              " | 38376 |   0.7429819023278823   |\n",
              " |  4032 |   0.8145547486714284   |\n",
              " | 43155 |   0.8408390074837325   |\n",
              " | 20159 |   0.844036884280093    |\n",
              " | 11517 |   0.8483420107162964   |\n",
              " | 46332 |   0.8897020225435585   |\n",
              " | 22063 |   0.8946710479694914   |\n",
              " | 10437 |   0.9001571479475322   |\n",
              " +-------+------------------------+\n",
              " [10 rows x 2 columns], 771)"
            ]
          },
          "metadata": {
            "tags": []
          },
          "execution_count": 57
        }
      ]
    },
    {
      "cell_type": "markdown",
      "metadata": {
        "id": "jxLSjKEOVxuU"
      },
      "source": [
        "To identify the documents, it's helpful to join this table with the Wikipedia table:"
      ]
    },
    {
      "cell_type": "code",
      "metadata": {
        "id": "hOZICTUpVxuY",
        "colab": {
          "base_uri": "https://localhost:8080/",
          "height": 249
        },
        "outputId": "a8e7ee8e-2262-4745-f90d-8f9d22fc3f44"
      },
      "source": [
        "query(corpus[35817,:], model, k=10, max_search_radius=3)[0].join(wiki[['id', 'name']], on='id').sort('distance')"
      ],
      "execution_count": null,
      "outputs": [
        {
          "output_type": "execute_result",
          "data": {
            "text/html": [
              "<div style=\"max-height:1000px;max-width:1500px;overflow:auto;\"><table frame=\"box\" rules=\"cols\">\n",
              "    <tr>\n",
              "        <th style=\"padding-left: 1em; padding-right: 1em; text-align: center\">id</th>\n",
              "        <th style=\"padding-left: 1em; padding-right: 1em; text-align: center\">distance</th>\n",
              "        <th style=\"padding-left: 1em; padding-right: 1em; text-align: center\">name</th>\n",
              "    </tr>\n",
              "    <tr>\n",
              "        <td style=\"padding-left: 1em; padding-right: 1em; text-align: center; vertical-align: top\">35817</td>\n",
              "        <td style=\"padding-left: 1em; padding-right: 1em; text-align: center; vertical-align: top\">1.1102230246251565e-16</td>\n",
              "        <td style=\"padding-left: 1em; padding-right: 1em; text-align: center; vertical-align: top\">Barack Obama</td>\n",
              "    </tr>\n",
              "    <tr>\n",
              "        <td style=\"padding-left: 1em; padding-right: 1em; text-align: center; vertical-align: top\">24478</td>\n",
              "        <td style=\"padding-left: 1em; padding-right: 1em; text-align: center; vertical-align: top\">0.703138676733575</td>\n",
              "        <td style=\"padding-left: 1em; padding-right: 1em; text-align: center; vertical-align: top\">Joe Biden</td>\n",
              "    </tr>\n",
              "    <tr>\n",
              "        <td style=\"padding-left: 1em; padding-right: 1em; text-align: center; vertical-align: top\">38376</td>\n",
              "        <td style=\"padding-left: 1em; padding-right: 1em; text-align: center; vertical-align: top\">0.7429819023278823</td>\n",
              "        <td style=\"padding-left: 1em; padding-right: 1em; text-align: center; vertical-align: top\">Samantha Power</td>\n",
              "    </tr>\n",
              "    <tr>\n",
              "        <td style=\"padding-left: 1em; padding-right: 1em; text-align: center; vertical-align: top\">4032</td>\n",
              "        <td style=\"padding-left: 1em; padding-right: 1em; text-align: center; vertical-align: top\">0.8145547486714284</td>\n",
              "        <td style=\"padding-left: 1em; padding-right: 1em; text-align: center; vertical-align: top\">Kenneth D. Thompson</td>\n",
              "    </tr>\n",
              "    <tr>\n",
              "        <td style=\"padding-left: 1em; padding-right: 1em; text-align: center; vertical-align: top\">43155</td>\n",
              "        <td style=\"padding-left: 1em; padding-right: 1em; text-align: center; vertical-align: top\">0.8408390074837325</td>\n",
              "        <td style=\"padding-left: 1em; padding-right: 1em; text-align: center; vertical-align: top\">Goodwin Liu</td>\n",
              "    </tr>\n",
              "    <tr>\n",
              "        <td style=\"padding-left: 1em; padding-right: 1em; text-align: center; vertical-align: top\">20159</td>\n",
              "        <td style=\"padding-left: 1em; padding-right: 1em; text-align: center; vertical-align: top\">0.844036884280093</td>\n",
              "        <td style=\"padding-left: 1em; padding-right: 1em; text-align: center; vertical-align: top\">Charlie Crist</td>\n",
              "    </tr>\n",
              "    <tr>\n",
              "        <td style=\"padding-left: 1em; padding-right: 1em; text-align: center; vertical-align: top\">11517</td>\n",
              "        <td style=\"padding-left: 1em; padding-right: 1em; text-align: center; vertical-align: top\">0.8483420107162964</td>\n",
              "        <td style=\"padding-left: 1em; padding-right: 1em; text-align: center; vertical-align: top\">Louis Susman</td>\n",
              "    </tr>\n",
              "    <tr>\n",
              "        <td style=\"padding-left: 1em; padding-right: 1em; text-align: center; vertical-align: top\">46332</td>\n",
              "        <td style=\"padding-left: 1em; padding-right: 1em; text-align: center; vertical-align: top\">0.8897020225435585</td>\n",
              "        <td style=\"padding-left: 1em; padding-right: 1em; text-align: center; vertical-align: top\">Tom Tancredo</td>\n",
              "    </tr>\n",
              "    <tr>\n",
              "        <td style=\"padding-left: 1em; padding-right: 1em; text-align: center; vertical-align: top\">22063</td>\n",
              "        <td style=\"padding-left: 1em; padding-right: 1em; text-align: center; vertical-align: top\">0.8946710479694914</td>\n",
              "        <td style=\"padding-left: 1em; padding-right: 1em; text-align: center; vertical-align: top\">Kathryn Troutman</td>\n",
              "    </tr>\n",
              "    <tr>\n",
              "        <td style=\"padding-left: 1em; padding-right: 1em; text-align: center; vertical-align: top\">10437</td>\n",
              "        <td style=\"padding-left: 1em; padding-right: 1em; text-align: center; vertical-align: top\">0.9001571479475322</td>\n",
              "        <td style=\"padding-left: 1em; padding-right: 1em; text-align: center; vertical-align: top\">David J. Hayes</td>\n",
              "    </tr>\n",
              "</table>\n",
              "[10 rows x 3 columns]<br/>\n",
              "</div>"
            ],
            "text/plain": [
              "Columns:\n",
              "\tid\tint\n",
              "\tdistance\tfloat\n",
              "\tname\tstr\n",
              "\n",
              "Rows: 10\n",
              "\n",
              "Data:\n",
              "+-------+------------------------+---------------------+\n",
              "|   id  |        distance        |         name        |\n",
              "+-------+------------------------+---------------------+\n",
              "| 35817 | 1.1102230246251565e-16 |     Barack Obama    |\n",
              "| 24478 |   0.703138676733575    |      Joe Biden      |\n",
              "| 38376 |   0.7429819023278823   |    Samantha Power   |\n",
              "|  4032 |   0.8145547486714284   | Kenneth D. Thompson |\n",
              "| 43155 |   0.8408390074837325   |     Goodwin Liu     |\n",
              "| 20159 |   0.844036884280093    |    Charlie Crist    |\n",
              "| 11517 |   0.8483420107162964   |     Louis Susman    |\n",
              "| 46332 |   0.8897020225435585   |     Tom Tancredo    |\n",
              "| 22063 |   0.8946710479694914   |   Kathryn Troutman  |\n",
              "| 10437 |   0.9001571479475322   |    David J. Hayes   |\n",
              "+-------+------------------------+---------------------+\n",
              "[10 rows x 3 columns]"
            ]
          },
          "metadata": {
            "tags": []
          },
          "execution_count": 58
        }
      ]
    },
    {
      "cell_type": "markdown",
      "metadata": {
        "id": "VBUtVWo2Vxuw"
      },
      "source": [
        "We have shown that we have a working LSH implementation!"
      ]
    },
    {
      "cell_type": "markdown",
      "metadata": {
        "id": "YTEfxCrlVxu1"
      },
      "source": [
        "# Experimenting with your LSH implementation"
      ]
    },
    {
      "cell_type": "markdown",
      "metadata": {
        "id": "hfw_fMYEVxu6"
      },
      "source": [
        "In the following sections we have implemented a few experiments so that you can gain intuition for how your LSH implementation behaves in different situations. This will help you understand the effect of searching nearby bins and the performance of LSH versus computing nearest neighbors using a brute force search."
      ]
    },
    {
      "cell_type": "markdown",
      "metadata": {
        "id": "Irv5e5VTVxvB"
      },
      "source": [
        "## Effect of nearby bin search"
      ]
    },
    {
      "cell_type": "markdown",
      "metadata": {
        "id": "kv7gpiW0VxvF"
      },
      "source": [
        "How does nearby bin search affect the outcome of LSH? There are three variables that are affected by the search radius:\n",
        "* Number of candidate documents considered\n",
        "* Query time\n",
        "* Distance of approximate neighbors from the query"
      ]
    },
    {
      "cell_type": "markdown",
      "metadata": {
        "id": "r5mDTi72VxvJ"
      },
      "source": [
        "Let us run LSH multiple times, each with different radii for nearby bin search. We will measure the three variables as discussed above."
      ]
    },
    {
      "cell_type": "code",
      "metadata": {
        "id": "0R3ircahVxvN",
        "colab": {
          "base_uri": "https://localhost:8080/",
          "height": 127
        },
        "outputId": "fb3b6f8e-c212-4e6c-e509-aa7258076eb8"
      },
      "source": [
        "wiki[wiki['name']=='Barack Obama']"
      ],
      "execution_count": null,
      "outputs": [
        {
          "output_type": "execute_result",
          "data": {
            "text/html": [
              "<div style=\"max-height:1000px;max-width:1500px;overflow:auto;\"><table frame=\"box\" rules=\"cols\">\n",
              "    <tr>\n",
              "        <th style=\"padding-left: 1em; padding-right: 1em; text-align: center\">id</th>\n",
              "        <th style=\"padding-left: 1em; padding-right: 1em; text-align: center\">URI</th>\n",
              "        <th style=\"padding-left: 1em; padding-right: 1em; text-align: center\">name</th>\n",
              "        <th style=\"padding-left: 1em; padding-right: 1em; text-align: center\">text</th>\n",
              "        <th style=\"padding-left: 1em; padding-right: 1em; text-align: center\">tf_idf</th>\n",
              "    </tr>\n",
              "    <tr>\n",
              "        <td style=\"padding-left: 1em; padding-right: 1em; text-align: center; vertical-align: top\">35817</td>\n",
              "        <td style=\"padding-left: 1em; padding-right: 1em; text-align: center; vertical-align: top\">&lt;http://dbpedia.org/resou<br>rce/Barack_Obama&gt; ...</td>\n",
              "        <td style=\"padding-left: 1em; padding-right: 1em; text-align: center; vertical-align: top\">Barack Obama</td>\n",
              "        <td style=\"padding-left: 1em; padding-right: 1em; text-align: center; vertical-align: top\">barack hussein obama ii<br>brk husen bm born august ...</td>\n",
              "        <td style=\"padding-left: 1em; padding-right: 1em; text-align: center; vertical-align: top\">{&#x27;normalize&#x27;:<br>10.293348208665249, ...</td>\n",
              "    </tr>\n",
              "</table>\n",
              "[? rows x 5 columns]<br/>Note: Only the head of the SFrame is printed. This SFrame is lazily evaluated.<br/>You can use sf.materialize() to force materialization.\n",
              "</div>"
            ],
            "text/plain": [
              "Columns:\n",
              "\tid\tint\n",
              "\tURI\tstr\n",
              "\tname\tstr\n",
              "\ttext\tstr\n",
              "\ttf_idf\tdict\n",
              "\n",
              "Rows: Unknown\n",
              "\n",
              "Data:\n",
              "+-------+-------------------------------+--------------+\n",
              "|   id  |              URI              |     name     |\n",
              "+-------+-------------------------------+--------------+\n",
              "| 35817 | <http://dbpedia.org/resour... | Barack Obama |\n",
              "+-------+-------------------------------+--------------+\n",
              "+-------------------------------+-------------------------------+\n",
              "|              text             |             tf_idf            |\n",
              "+-------------------------------+-------------------------------+\n",
              "| barack hussein obama ii br... | {'normalize': 10.293348208... |\n",
              "+-------------------------------+-------------------------------+\n",
              "[? rows x 5 columns]\n",
              "Note: Only the head of the SFrame is printed. This SFrame is lazily evaluated.\n",
              "You can use sf.materialize() to force materialization."
            ]
          },
          "metadata": {
            "tags": []
          },
          "execution_count": 59
        }
      ]
    },
    {
      "cell_type": "code",
      "metadata": {
        "scrolled": true,
        "id": "3RhG4puJVxvs",
        "colab": {
          "base_uri": "https://localhost:8080/",
          "height": 1000
        },
        "outputId": "f7ef624c-cbb2-41a3-bea8-920364b5a989"
      },
      "source": [
        "%%time\n",
        "num_candidates_history = []\n",
        "query_time_history = []\n",
        "max_distance_from_query_history = []\n",
        "min_distance_from_query_history = []\n",
        "average_distance_from_query_history = []\n",
        "\n",
        "for max_search_radius in range(17):\n",
        "    start=time.time()\n",
        "    result, num_candidates = query(corpus[35817,:], model, k=10,\n",
        "                                   max_search_radius=max_search_radius)\n",
        "    end=time.time()\n",
        "    query_time = end-start\n",
        "    \n",
        "    print('Radius:', max_search_radius)\n",
        "    print(result.join(wiki[['id', 'name']], on='id').sort('distance'))\n",
        "    \n",
        "    average_distance_from_query = result['distance'][1:].mean()\n",
        "    max_distance_from_query = result['distance'][1:].max()\n",
        "    min_distance_from_query = result['distance'][1:].min()\n",
        "    \n",
        "    num_candidates_history.append(num_candidates)\n",
        "    query_time_history.append(query_time)\n",
        "    average_distance_from_query_history.append(average_distance_from_query)\n",
        "    max_distance_from_query_history.append(max_distance_from_query)\n",
        "    min_distance_from_query_history.append(min_distance_from_query)\n"
      ],
      "execution_count": null,
      "outputs": [
        {
          "output_type": "stream",
          "text": [
            "Radius: 0\n",
            "+-------+------------------------+---------------------+\n",
            "|   id  |        distance        |         name        |\n",
            "+-------+------------------------+---------------------+\n",
            "| 35817 | 1.1102230246251565e-16 |     Barack Obama    |\n",
            "| 54743 |    0.97334561058472    | Radovan %C5%BDerjav |\n",
            "+-------+------------------------+---------------------+\n",
            "[2 rows x 3 columns]\n",
            "\n",
            "Radius: 1\n",
            "+-------+------------------------+------------------------------+\n",
            "|   id  |        distance        |             name             |\n",
            "+-------+------------------------+------------------------------+\n",
            "| 35817 | 1.1102230246251565e-16 |         Barack Obama         |\n",
            "| 24478 |   0.703138676733575    |          Joe Biden           |\n",
            "| 34159 |   0.9430865736846581   |       Jennifer Hudson        |\n",
            "| 23926 |   0.9608039657958866   | Se%C3%A1n Power (politician) |\n",
            "| 36266 |   0.9615994281067699   |         Ralph Weber          |\n",
            "| 33200 |    0.97101213334657    |         Emrah Yucel          |\n",
            "| 28804 |   0.9729856623983864   |     Matthew McConaughey      |\n",
            "| 54743 |    0.97334561058472    |     Radovan %C5%BDerjav      |\n",
            "|  7331 |   0.9735542076945761   |       Joselo D%C3%ADaz       |\n",
            "| 43775 |   0.9790856334914729   |       Carly Rae Jepsen       |\n",
            "+-------+------------------------+------------------------------+\n",
            "[10 rows x 3 columns]\n",
            "\n",
            "Radius: 2\n",
            "+-------+------------------------+--------------------------------+\n",
            "|   id  |        distance        |              name              |\n",
            "+-------+------------------------+--------------------------------+\n",
            "| 35817 | 1.1102230246251565e-16 |          Barack Obama          |\n",
            "| 24478 |   0.703138676733575    |           Joe Biden            |\n",
            "|  9051 |   0.9008406076426497   |         Newt Gingrich          |\n",
            "| 46253 |   0.9158128432084635   |        Francisco Rezek         |\n",
            "|  110  |   0.9346379007684388   |      Abdel Fattah el-Sisi      |\n",
            "| 40837 |   0.9370458058764901   |    Dovey Johnson Roundtree     |\n",
            "| 34159 |   0.9430865736846581   |        Jennifer Hudson         |\n",
            "| 28320 |   0.9460512776474829   |          Robert Reich          |\n",
            "| 33070 |   0.9466276757770745   |          Claude Allen          |\n",
            "|  3818 |   0.9484009651426074   | Tom Sawyer (Kansas politician) |\n",
            "+-------+------------------------+--------------------------------+\n",
            "[10 rows x 3 columns]\n",
            "\n",
            "Radius: 3\n",
            "+-------+------------------------+---------------------+\n",
            "|   id  |        distance        |         name        |\n",
            "+-------+------------------------+---------------------+\n",
            "| 35817 | 1.1102230246251565e-16 |     Barack Obama    |\n",
            "| 24478 |   0.703138676733575    |      Joe Biden      |\n",
            "| 38376 |   0.7429819023278823   |    Samantha Power   |\n",
            "|  4032 |   0.8145547486714284   | Kenneth D. Thompson |\n",
            "| 43155 |   0.8408390074837325   |     Goodwin Liu     |\n",
            "| 20159 |   0.844036884280093    |    Charlie Crist    |\n",
            "| 11517 |   0.8483420107162964   |     Louis Susman    |\n",
            "| 46332 |   0.8897020225435585   |     Tom Tancredo    |\n",
            "| 22063 |   0.8946710479694914   |   Kathryn Troutman  |\n",
            "| 10437 |   0.9001571479475322   |    David J. Hayes   |\n",
            "+-------+------------------------+---------------------+\n",
            "[10 rows x 3 columns]\n",
            "\n",
            "Radius: 4\n",
            "+-------+------------------------+---------------------+\n",
            "|   id  |        distance        |         name        |\n",
            "+-------+------------------------+---------------------+\n",
            "| 35817 | 1.1102230246251565e-16 |     Barack Obama    |\n",
            "| 24478 |   0.703138676733575    |      Joe Biden      |\n",
            "| 38376 |   0.7429819023278823   |    Samantha Power   |\n",
            "| 23737 |   0.8101646334648858   |  John D. McCormick  |\n",
            "|  4032 |   0.8145547486714284   | Kenneth D. Thompson |\n",
            "| 14754 |   0.826854025896727    |     Mitt Romney     |\n",
            "| 43155 |   0.8408390074837325   |     Goodwin Liu     |\n",
            "| 20159 |   0.844036884280093    |    Charlie Crist    |\n",
            "| 11517 |   0.8483420107162964   |     Louis Susman    |\n",
            "| 40184 |   0.8601570123329991   |     Chuck Hagel     |\n",
            "+-------+------------------------+---------------------+\n",
            "[10 rows x 3 columns]\n",
            "\n",
            "Radius: 5\n",
            "+-------+------------------------+-------------------------+\n",
            "|   id  |        distance        |           name          |\n",
            "+-------+------------------------+-------------------------+\n",
            "| 35817 | 1.1102230246251565e-16 |       Barack Obama      |\n",
            "| 24478 |   0.703138676733575    |        Joe Biden        |\n",
            "| 38376 |   0.7429819023278823   |      Samantha Power     |\n",
            "| 38714 |   0.7705612276009974   | Eric Stern (politician) |\n",
            "| 44681 |   0.790926415366316    |  Jesse Lee (politician) |\n",
            "|  2412 |   0.799466360041952    |     Joe the Plumber     |\n",
            "| 23737 |   0.8101646334648858   |    John D. McCormick    |\n",
            "|  4032 |   0.8145547486714284   |   Kenneth D. Thompson   |\n",
            "| 14754 |   0.826854025896727    |       Mitt Romney       |\n",
            "| 24848 |   0.8394067356676752   |     John C. Eastman     |\n",
            "+-------+------------------------+-------------------------+\n",
            "[10 rows x 3 columns]\n",
            "\n",
            "Radius: 6\n",
            "+-------+------------------------+-------------------------+\n",
            "|   id  |        distance        |           name          |\n",
            "+-------+------------------------+-------------------------+\n",
            "| 35817 | 1.1102230246251565e-16 |       Barack Obama      |\n",
            "| 24478 |   0.703138676733575    |        Joe Biden        |\n",
            "| 38376 |   0.7429819023278823   |      Samantha Power     |\n",
            "| 57108 |   0.7583583978869675   |  Hillary Rodham Clinton |\n",
            "| 38714 |   0.7705612276009974   | Eric Stern (politician) |\n",
            "|  6796 |   0.7880390729434776   |       Eric Holder       |\n",
            "| 44681 |   0.790926415366316    |  Jesse Lee (politician) |\n",
            "| 18827 |   0.7983226028934733   |       Henry Waxman      |\n",
            "|  2412 |   0.799466360041952    |     Joe the Plumber     |\n",
            "| 23737 |   0.8101646334648858   |    John D. McCormick    |\n",
            "+-------+------------------------+-------------------------+\n",
            "[10 rows x 3 columns]\n",
            "\n",
            "Radius: 7\n",
            "+-------+------------------------+-------------------------+\n",
            "|   id  |        distance        |           name          |\n",
            "+-------+------------------------+-------------------------+\n",
            "| 35817 | 1.1102230246251565e-16 |       Barack Obama      |\n",
            "| 24478 |   0.703138676733575    |        Joe Biden        |\n",
            "| 38376 |   0.7429819023278823   |      Samantha Power     |\n",
            "| 57108 |   0.7583583978869675   |  Hillary Rodham Clinton |\n",
            "| 38714 |   0.7705612276009974   | Eric Stern (politician) |\n",
            "| 46140 |    0.78467750475065    |       Robert Gibbs      |\n",
            "|  6796 |   0.7880390729434776   |       Eric Holder       |\n",
            "| 44681 |   0.790926415366316    |  Jesse Lee (politician) |\n",
            "| 18827 |   0.7983226028934733   |       Henry Waxman      |\n",
            "|  2412 |   0.799466360041952    |     Joe the Plumber     |\n",
            "+-------+------------------------+-------------------------+\n",
            "[10 rows x 3 columns]\n",
            "\n",
            "Radius: 8\n",
            "+-------+------------------------+-------------------------+\n",
            "|   id  |        distance        |           name          |\n",
            "+-------+------------------------+-------------------------+\n",
            "| 35817 | 1.1102230246251565e-16 |       Barack Obama      |\n",
            "| 24478 |   0.703138676733575    |        Joe Biden        |\n",
            "| 38376 |   0.7429819023278823   |      Samantha Power     |\n",
            "| 57108 |   0.7583583978869675   |  Hillary Rodham Clinton |\n",
            "| 38714 |   0.7705612276009974   | Eric Stern (politician) |\n",
            "| 46140 |    0.78467750475065    |       Robert Gibbs      |\n",
            "|  6796 |   0.7880390729434776   |       Eric Holder       |\n",
            "| 44681 |   0.790926415366316    |  Jesse Lee (politician) |\n",
            "| 18827 |   0.7983226028934733   |       Henry Waxman      |\n",
            "|  2412 |   0.799466360041952    |     Joe the Plumber     |\n",
            "+-------+------------------------+-------------------------+\n",
            "[10 rows x 3 columns]\n",
            "\n",
            "Radius: 9\n",
            "+-------+------------------------+-------------------------+\n",
            "|   id  |        distance        |           name          |\n",
            "+-------+------------------------+-------------------------+\n",
            "| 35817 | 1.1102230246251565e-16 |       Barack Obama      |\n",
            "| 24478 |   0.703138676733575    |        Joe Biden        |\n",
            "| 38376 |   0.7429819023278823   |      Samantha Power     |\n",
            "| 57108 |   0.7583583978869675   |  Hillary Rodham Clinton |\n",
            "| 38714 |   0.7705612276009974   | Eric Stern (politician) |\n",
            "| 46140 |    0.78467750475065    |       Robert Gibbs      |\n",
            "|  6796 |   0.7880390729434776   |       Eric Holder       |\n",
            "| 44681 |   0.790926415366316    |  Jesse Lee (politician) |\n",
            "| 18827 |   0.7983226028934733   |       Henry Waxman      |\n",
            "|  2412 |   0.799466360041952    |     Joe the Plumber     |\n",
            "+-------+------------------------+-------------------------+\n",
            "[10 rows x 3 columns]\n",
            "\n",
            "Radius: 10\n",
            "+-------+------------------------+-------------------------+\n",
            "|   id  |        distance        |           name          |\n",
            "+-------+------------------------+-------------------------+\n",
            "| 35817 | 1.1102230246251565e-16 |       Barack Obama      |\n",
            "| 24478 |   0.703138676733575    |        Joe Biden        |\n",
            "| 38376 |   0.7429819023278823   |      Samantha Power     |\n",
            "| 57108 |   0.7583583978869675   |  Hillary Rodham Clinton |\n",
            "| 38714 |   0.7705612276009974   | Eric Stern (politician) |\n",
            "| 46140 |    0.78467750475065    |       Robert Gibbs      |\n",
            "|  6796 |   0.7880390729434776   |       Eric Holder       |\n",
            "| 44681 |   0.790926415366316    |  Jesse Lee (politician) |\n",
            "| 18827 |   0.7983226028934733   |       Henry Waxman      |\n",
            "|  2412 |   0.799466360041952    |     Joe the Plumber     |\n",
            "+-------+------------------------+-------------------------+\n",
            "[10 rows x 3 columns]\n",
            "\n",
            "Radius: 11\n",
            "+-------+------------------------+-------------------------+\n",
            "|   id  |        distance        |           name          |\n",
            "+-------+------------------------+-------------------------+\n",
            "| 35817 | 1.1102230246251565e-16 |       Barack Obama      |\n",
            "| 24478 |   0.703138676733575    |        Joe Biden        |\n",
            "| 38376 |   0.7429819023278823   |      Samantha Power     |\n",
            "| 57108 |   0.7583583978869675   |  Hillary Rodham Clinton |\n",
            "| 38714 |   0.7705612276009974   | Eric Stern (politician) |\n",
            "| 46140 |    0.78467750475065    |       Robert Gibbs      |\n",
            "|  6796 |   0.7880390729434776   |       Eric Holder       |\n",
            "| 44681 |   0.790926415366316    |  Jesse Lee (politician) |\n",
            "| 18827 |   0.7983226028934733   |       Henry Waxman      |\n",
            "|  2412 |   0.799466360041952    |     Joe the Plumber     |\n",
            "+-------+------------------------+-------------------------+\n",
            "[10 rows x 3 columns]\n",
            "\n",
            "Radius: 12\n",
            "+-------+------------------------+-------------------------+\n",
            "|   id  |        distance        |           name          |\n",
            "+-------+------------------------+-------------------------+\n",
            "| 35817 | 1.1102230246251565e-16 |       Barack Obama      |\n",
            "| 24478 |   0.703138676733575    |        Joe Biden        |\n",
            "| 38376 |   0.7429819023278823   |      Samantha Power     |\n",
            "| 57108 |   0.7583583978869675   |  Hillary Rodham Clinton |\n",
            "| 38714 |   0.7705612276009974   | Eric Stern (politician) |\n",
            "| 46140 |    0.78467750475065    |       Robert Gibbs      |\n",
            "|  6796 |   0.7880390729434776   |       Eric Holder       |\n",
            "| 44681 |   0.790926415366316    |  Jesse Lee (politician) |\n",
            "| 18827 |   0.7983226028934733   |       Henry Waxman      |\n",
            "|  2412 |   0.799466360041952    |     Joe the Plumber     |\n",
            "+-------+------------------------+-------------------------+\n",
            "[10 rows x 3 columns]\n",
            "\n",
            "Radius: 13\n",
            "+-------+------------------------+-------------------------+\n",
            "|   id  |        distance        |           name          |\n",
            "+-------+------------------------+-------------------------+\n",
            "| 35817 | 1.1102230246251565e-16 |       Barack Obama      |\n",
            "| 24478 |   0.703138676733575    |        Joe Biden        |\n",
            "| 38376 |   0.7429819023278823   |      Samantha Power     |\n",
            "| 57108 |   0.7583583978869675   |  Hillary Rodham Clinton |\n",
            "| 38714 |   0.7705612276009974   | Eric Stern (politician) |\n",
            "| 46140 |    0.78467750475065    |       Robert Gibbs      |\n",
            "|  6796 |   0.7880390729434776   |       Eric Holder       |\n",
            "| 44681 |   0.790926415366316    |  Jesse Lee (politician) |\n",
            "| 18827 |   0.7983226028934733   |       Henry Waxman      |\n",
            "|  2412 |   0.799466360041952    |     Joe the Plumber     |\n",
            "+-------+------------------------+-------------------------+\n",
            "[10 rows x 3 columns]\n",
            "\n",
            "Radius: 14\n",
            "+-------+------------------------+-------------------------+\n",
            "|   id  |        distance        |           name          |\n",
            "+-------+------------------------+-------------------------+\n",
            "| 35817 | 1.1102230246251565e-16 |       Barack Obama      |\n",
            "| 24478 |   0.703138676733575    |        Joe Biden        |\n",
            "| 38376 |   0.7429819023278823   |      Samantha Power     |\n",
            "| 57108 |   0.7583583978869675   |  Hillary Rodham Clinton |\n",
            "| 38714 |   0.7705612276009974   | Eric Stern (politician) |\n",
            "| 46140 |    0.78467750475065    |       Robert Gibbs      |\n",
            "|  6796 |   0.7880390729434776   |       Eric Holder       |\n",
            "| 44681 |   0.790926415366316    |  Jesse Lee (politician) |\n",
            "| 18827 |   0.7983226028934733   |       Henry Waxman      |\n",
            "|  2412 |   0.799466360041952    |     Joe the Plumber     |\n",
            "+-------+------------------------+-------------------------+\n",
            "[10 rows x 3 columns]\n",
            "\n",
            "Radius: 15\n",
            "+-------+------------------------+-------------------------+\n",
            "|   id  |        distance        |           name          |\n",
            "+-------+------------------------+-------------------------+\n",
            "| 35817 | 1.1102230246251565e-16 |       Barack Obama      |\n",
            "| 24478 |   0.703138676733575    |        Joe Biden        |\n",
            "| 38376 |   0.7429819023278823   |      Samantha Power     |\n",
            "| 57108 |   0.7583583978869675   |  Hillary Rodham Clinton |\n",
            "| 38714 |   0.7705612276009974   | Eric Stern (politician) |\n",
            "| 46140 |    0.78467750475065    |       Robert Gibbs      |\n",
            "|  6796 |   0.7880390729434776   |       Eric Holder       |\n",
            "| 44681 |   0.790926415366316    |  Jesse Lee (politician) |\n",
            "| 18827 |   0.7983226028934733   |       Henry Waxman      |\n",
            "|  2412 |   0.799466360041952    |     Joe the Plumber     |\n",
            "+-------+------------------------+-------------------------+\n",
            "[10 rows x 3 columns]\n",
            "\n",
            "Radius: 16\n",
            "+-------+------------------------+-------------------------+\n",
            "|   id  |        distance        |           name          |\n",
            "+-------+------------------------+-------------------------+\n",
            "| 35817 | 1.1102230246251565e-16 |       Barack Obama      |\n",
            "| 24478 |   0.703138676733575    |        Joe Biden        |\n",
            "| 38376 |   0.7429819023278823   |      Samantha Power     |\n",
            "| 57108 |   0.7583583978869675   |  Hillary Rodham Clinton |\n",
            "| 38714 |   0.7705612276009974   | Eric Stern (politician) |\n",
            "| 46140 |    0.78467750475065    |       Robert Gibbs      |\n",
            "|  6796 |   0.7880390729434776   |       Eric Holder       |\n",
            "| 44681 |   0.790926415366316    |  Jesse Lee (politician) |\n",
            "| 18827 |   0.7983226028934733   |       Henry Waxman      |\n",
            "|  2412 |   0.799466360041952    |     Joe the Plumber     |\n",
            "+-------+------------------------+-------------------------+\n",
            "[10 rows x 3 columns]\n",
            "\n",
            "CPU times: user 8.89 s, sys: 80.5 ms, total: 8.97 s\n",
            "Wall time: 8.51 s\n"
          ],
          "name": "stdout"
        }
      ]
    },
    {
      "cell_type": "markdown",
      "metadata": {
        "id": "HUYR5m86VxwJ"
      },
      "source": [
        "Notice that the top 10 query results become more relevant as the search radius grows. Let's plot the three variables:"
      ]
    },
    {
      "cell_type": "code",
      "metadata": {
        "id": "7QmYPA45VxwS",
        "colab": {
          "base_uri": "https://localhost:8080/",
          "height": 926
        },
        "outputId": "302a2f4e-578f-4e1b-cf1d-6c63db66ffa2"
      },
      "source": [
        "plt.figure(figsize=(7,4.5))\n",
        "plt.plot(num_candidates_history, linewidth=4)\n",
        "plt.xlabel('Search radius')\n",
        "plt.ylabel('# of documents searched')\n",
        "plt.rcParams.update({'font.size':16})\n",
        "plt.tight_layout()\n",
        "\n",
        "plt.figure(figsize=(7,4.5))\n",
        "plt.plot(query_time_history, linewidth=4)\n",
        "plt.xlabel('Search radius')\n",
        "plt.ylabel('Query time (seconds)')\n",
        "plt.rcParams.update({'font.size':16})\n",
        "plt.tight_layout()\n",
        "\n",
        "plt.figure(figsize=(7,4.5))\n",
        "plt.plot(average_distance_from_query_history, linewidth=4, label='Average of 10 neighbors')\n",
        "plt.plot(max_distance_from_query_history, linewidth=4, label='Farthest of 10 neighbors')\n",
        "plt.plot(min_distance_from_query_history, linewidth=4, label='Closest of 10 neighbors')\n",
        "plt.xlabel('Search radius')\n",
        "plt.ylabel('Cosine distance of neighbors')\n",
        "plt.legend(loc='best', prop={'size':15})\n",
        "plt.rcParams.update({'font.size':16})\n",
        "plt.tight_layout()"
      ],
      "execution_count": null,
      "outputs": [
        {
          "output_type": "display_data",
          "data": {
            "image/png": "[encoded data removed]",
            "text/plain": [
              "<Figure size 504x324 with 1 Axes>"
            ]
          },
          "metadata": {
            "tags": [],
            "needs_background": "light"
          }
        },
        {
          "output_type": "display_data",
          "data": {
            "image/png": "[encoded data removed]",
            "text/plain": [
              "<Figure size 504x324 with 1 Axes>"
            ]
          },
          "metadata": {
            "tags": [],
            "needs_background": "light"
          }
        },
        {
          "output_type": "display_data",
          "data": {
            "image/png": "[encoded data removed]",
            "text/plain": [
              "<Figure size 504x324 with 1 Axes>"
            ]
          },
          "metadata": {
            "tags": [],
            "needs_background": "light"
          }
        }
      ]
    },
    {
      "cell_type": "markdown",
      "metadata": {
        "id": "bR_5fLwBVxwr"
      },
      "source": [
        "Some observations:\n",
        "* As we increase the search radius, we find more neighbors that are a smaller distance away.\n",
        "* With increased search radius comes a greater number documents that have to be searched. Query time is higher as a consequence.\n",
        "* With sufficiently high search radius, the results of LSH begin to resemble the results of brute-force search."
      ]
    },
    {
      "cell_type": "markdown",
      "metadata": {
        "id": "EArzD7UqVxw7"
      },
      "source": [
        "**Quiz Question**. What was the smallest search radius that yielded the correct nearest neighbor, namely Joe Biden?\n",
        "\n",
        "**Quiz Question**. Suppose our goal was to produce 10 approximate nearest neighbors whose average distance from the query document is within 0.01 of the average for the true 10 nearest neighbors. For Barack Obama, the true 10 nearest neighbors are on average about 0.77. What was the smallest search radius for Barack Obama that produced an average distance of 0.78 or better?"
      ]
    },
    {
      "cell_type": "code",
      "metadata": {
        "id": "ZUtfQidUVxw-",
        "colab": {
          "base_uri": "https://localhost:8080/",
          "height": 219
        },
        "outputId": "0d607efc-ed96-4bf2-b5c2-afac0c64de2b"
      },
      "source": [
        "for i, v in enumerate(average_distance_from_query_history):\n",
        "    if v <= 0.78:\n",
        "        print(i, v)"
      ],
      "execution_count": null,
      "outputs": [
        {
          "output_type": "stream",
          "text": [
            "6 0.7735510321399475\n",
            "7 0.7707191289494768\n",
            "8 0.7707191289494768\n",
            "9 0.7707191289494768\n",
            "10 0.7707191289494768\n",
            "11 0.7707191289494768\n",
            "12 0.7707191289494768\n",
            "13 0.7707191289494768\n",
            "14 0.7707191289494768\n",
            "15 0.7707191289494768\n",
            "16 0.7707191289494768\n"
          ],
          "name": "stdout"
        }
      ]
    },
    {
      "cell_type": "markdown",
      "metadata": {
        "id": "XCVL1q9kVxxR"
      },
      "source": [
        "## Quality metrics for neighbors"
      ]
    },
    {
      "cell_type": "markdown",
      "metadata": {
        "id": "n9Do9-s7VxxV"
      },
      "source": [
        "The above analysis is limited by the fact that it was run with a single query, namely Barack Obama. We should repeat the analysis for the entirety of data. Iterating over all documents would take a long time, so let us randomly choose 10 documents for our analysis.\n",
        "\n",
        "For each document, we first compute the true 25 nearest neighbors, and then run LSH multiple times. We look at two metrics:\n",
        "\n",
        "* Precision@10: How many of the 10 neighbors given by LSH are among the true 25 nearest neighbors?\n",
        "* Average cosine distance of the neighbors from the query\n",
        "\n",
        "Then we run LSH multiple times with different search radii."
      ]
    },
    {
      "cell_type": "code",
      "metadata": {
        "id": "4vLUpfysVxxc"
      },
      "source": [
        "def brute_force_query(vec, data, k):\n",
        "    num_data_points = data.shape[0]\n",
        "    \n",
        "    # Compute distances for ALL data points in training set\n",
        "    nearest_neighbors = turicreate.SFrame({'id':range(num_data_points)})\n",
        "    nearest_neighbors['distance'] = pairwise_distances(data, vec, metric='cosine').flatten()\n",
        "    \n",
        "    return nearest_neighbors.topk('distance', k, reverse=True)"
      ],
      "execution_count": null,
      "outputs": []
    },
    {
      "cell_type": "markdown",
      "metadata": {
        "id": "fr7joxLSVxxw"
      },
      "source": [
        "The following cell will run LSH with multiple search radii and compute the quality metrics for each run. Allow a few minutes to complete."
      ]
    },
    {
      "cell_type": "code",
      "metadata": {
        "id": "qvlYnh2hVxx3",
        "colab": {
          "base_uri": "https://localhost:8080/",
          "height": 237
        },
        "outputId": "7f46a4d7-467c-422e-847d-4faee7517b81"
      },
      "source": [
        "%%time\n",
        "max_radius = 17\n",
        "precision = {i:[] for i in range(max_radius)}\n",
        "average_distance  = {i:[] for i in range(max_radius)}\n",
        "query_time  = {i:[] for i in range(max_radius)}\n",
        "\n",
        "num_queries = 10\n",
        "for i, ix in enumerate(np.random.choice(corpus.shape[0], num_queries, replace=False)):\n",
        "    print('%s / %s' % (i, num_queries))\n",
        "    ground_truth = set(brute_force_query(corpus[ix,:], corpus, k=25)['id'])\n",
        "    # Get the set of 25 true nearest neighbors\n",
        "    \n",
        "    for r in range(1,max_radius):\n",
        "        start = time.time()\n",
        "        result, num_candidates = query(corpus[ix,:], model, k=10, max_search_radius=r)\n",
        "        end = time.time()\n",
        "\n",
        "        query_time[r].append(end-start)\n",
        "        # precision = (# of neighbors both in result and ground_truth)/10.0\n",
        "        precision[r].append(len(set(result['id']) & ground_truth)/10.0)\n",
        "        average_distance[r].append(result['distance'][1:].mean())"
      ],
      "execution_count": null,
      "outputs": [
        {
          "output_type": "stream",
          "text": [
            "0 / 10\n",
            "1 / 10\n",
            "2 / 10\n",
            "3 / 10\n",
            "4 / 10\n",
            "5 / 10\n",
            "6 / 10\n",
            "7 / 10\n",
            "8 / 10\n",
            "9 / 10\n",
            "CPU times: user 1min 21s, sys: 417 ms, total: 1min 21s\n",
            "Wall time: 1min 20s\n"
          ],
          "name": "stdout"
        }
      ]
    },
    {
      "cell_type": "code",
      "metadata": {
        "id": "29yO6i-vVxyO",
        "colab": {
          "base_uri": "https://localhost:8080/",
          "height": 926
        },
        "outputId": "332adb6c-5899-49ac-e4a4-f9fdc81073e8"
      },
      "source": [
        "plt.figure(figsize=(7,4.5))\n",
        "plt.plot(range(1,17), [np.mean(average_distance[i]) for i in range(1,17)], linewidth=4, label='Average over 10 neighbors')\n",
        "plt.xlabel('Search radius')\n",
        "plt.ylabel('Cosine distance')\n",
        "plt.legend(loc='best', prop={'size':15})\n",
        "plt.rcParams.update({'font.size':16})\n",
        "plt.tight_layout()\n",
        "\n",
        "plt.figure(figsize=(7,4.5))\n",
        "plt.plot(range(1,17), [np.mean(precision[i]) for i in range(1,17)], linewidth=4, label='Precison@10')\n",
        "plt.xlabel('Search radius')\n",
        "plt.ylabel('Precision')\n",
        "plt.legend(loc='best', prop={'size':15})\n",
        "plt.rcParams.update({'font.size':16})\n",
        "plt.tight_layout()\n",
        "\n",
        "plt.figure(figsize=(7,4.5))\n",
        "plt.plot(range(1,17), [np.mean(query_time[i]) for i in range(1,17)], linewidth=4, label='Query time')\n",
        "plt.xlabel('Search radius')\n",
        "plt.ylabel('Query time (seconds)')\n",
        "plt.legend(loc='best', prop={'size':15})\n",
        "plt.rcParams.update({'font.size':16})\n",
        "plt.tight_layout()"
      ],
      "execution_count": null,
      "outputs": [
        {
          "output_type": "display_data",
          "data": {
            "image/png": "[encoded data removed]",
            "text/plain": [
              "<Figure size 504x324 with 1 Axes>"
            ]
          },
          "metadata": {
            "tags": [],
            "needs_background": "light"
          }
        },
        {
          "output_type": "display_data",
          "data": {
            "image/png": "[encoded data removed]",
            "text/plain": [
              "<Figure size 504x324 with 1 Axes>"
            ]
          },
          "metadata": {
            "tags": [],
            "needs_background": "light"
          }
        },
        {
          "output_type": "display_data",
          "data": {
            "image/png": "[encoded data removed]",
            "text/plain": [
              "<Figure size 504x324 with 1 Axes>"
            ]
          },
          "metadata": {
            "tags": [],
            "needs_background": "light"
          }
        }
      ]
    },
    {
      "cell_type": "markdown",
      "metadata": {
        "id": "f5Od7gaXVxyv"
      },
      "source": [
        "The observations for Barack Obama generalize to the entire dataset."
      ]
    },
    {
      "cell_type": "markdown",
      "metadata": {
        "id": "Hy8mzjnXVxyz"
      },
      "source": [
        "## Effect of number of random vectors"
      ]
    },
    {
      "cell_type": "markdown",
      "metadata": {
        "id": "meUlUR-hVxy4"
      },
      "source": [
        "Let us now turn our focus to the remaining parameter: the number of random vectors. We run LSH with different number of random vectors, ranging from 5 to 20. We fix the search radius to 3.\n",
        "\n",
        "Allow a few minutes for the following cell to complete."
      ]
    },
    {
      "cell_type": "code",
      "metadata": {
        "id": "WRdYuRNJVxy8",
        "colab": {
          "base_uri": "https://localhost:8080/",
          "height": 293
        },
        "outputId": "63afe08f-26ad-4968-9c19-c48b89def050"
      },
      "source": [
        "precision = {i:[] for i in range(5,20)}\n",
        "average_distance  = {i:[] for i in range(5,20)}\n",
        "query_time = {i:[] for i in range(5,20)}\n",
        "num_candidates_history = {i:[] for i in range(5,20)}\n",
        "ground_truth = {}\n",
        "\n",
        "num_queries = 10\n",
        "docs = np.random.choice(corpus.shape[0], num_queries, replace=False)\n",
        "\n",
        "for i, ix in enumerate(docs):\n",
        "    ground_truth[ix] = set(brute_force_query(corpus[ix,:], corpus, k=25)['id'])\n",
        "    # Get the set of 25 true nearest neighbors\n",
        "\n",
        "for num_vector in range(5,20):\n",
        "    print('num_vector = %s' % (num_vector))\n",
        "    model = train_lsh(corpus, num_vector, seed=143)\n",
        "    \n",
        "    for i, ix in enumerate(docs):\n",
        "        start = time.time()\n",
        "        result, num_candidates = query(corpus[ix,:], model, k=10, max_search_radius=3)\n",
        "        end = time.time()\n",
        "        \n",
        "        query_time[num_vector].append(end-start)\n",
        "        precision[num_vector].append(len(set(result['id']) & ground_truth[ix])/10.0)\n",
        "        average_distance[num_vector].append(result['distance'][1:].mean())\n",
        "        num_candidates_history[num_vector].append(num_candidates)"
      ],
      "execution_count": null,
      "outputs": [
        {
          "output_type": "stream",
          "text": [
            "num_vector = 5\n",
            "num_vector = 6\n",
            "num_vector = 7\n",
            "num_vector = 8\n",
            "num_vector = 9\n",
            "num_vector = 10\n",
            "num_vector = 11\n",
            "num_vector = 12\n",
            "num_vector = 13\n",
            "num_vector = 14\n",
            "num_vector = 15\n",
            "num_vector = 16\n",
            "num_vector = 17\n",
            "num_vector = 18\n",
            "num_vector = 19\n"
          ],
          "name": "stdout"
        }
      ]
    },
    {
      "cell_type": "code",
      "metadata": {
        "id": "DbgTwJfBVxzP",
        "colab": {
          "base_uri": "https://localhost:8080/",
          "height": 1000
        },
        "outputId": "2bf8aa19-a4f5-45b1-dee9-3324a25b41b7"
      },
      "source": [
        "plt.figure(figsize=(7,4.5))\n",
        "plt.plot(range(5,20), [np.mean(average_distance[i]) for i in range(5,20)], linewidth=4, label='Average over 10 neighbors')\n",
        "plt.xlabel('# of random vectors')\n",
        "plt.ylabel('Cosine distance')\n",
        "plt.legend(loc='best', prop={'size':15})\n",
        "plt.rcParams.update({'font.size':16})\n",
        "plt.tight_layout()\n",
        "\n",
        "plt.figure(figsize=(7,4.5))\n",
        "plt.plot(range(5,20), [np.mean(precision[i]) for i in range(5,20)], linewidth=4, label='Precison@10')\n",
        "plt.xlabel('# of random vectors')\n",
        "plt.ylabel('Precision')\n",
        "plt.legend(loc='best', prop={'size':15})\n",
        "plt.rcParams.update({'font.size':16})\n",
        "plt.tight_layout()\n",
        "\n",
        "plt.figure(figsize=(7,4.5))\n",
        "plt.plot(range(5,20), [np.mean(query_time[i]) for i in range(5,20)], linewidth=4, label='Query time (seconds)')\n",
        "plt.xlabel('# of random vectors')\n",
        "plt.ylabel('Query time (seconds)')\n",
        "plt.legend(loc='best', prop={'size':15})\n",
        "plt.rcParams.update({'font.size':16})\n",
        "plt.tight_layout()\n",
        "\n",
        "plt.figure(figsize=(7,4.5))\n",
        "plt.plot(range(5,20), [np.mean(num_candidates_history[i]) for i in range(5,20)], linewidth=4,\n",
        "         label='# of documents searched')\n",
        "plt.xlabel('# of random vectors')\n",
        "plt.ylabel('# of documents searched')\n",
        "plt.legend(loc='best', prop={'size':15})\n",
        "plt.rcParams.update({'font.size':16})\n",
        "plt.tight_layout()"
      ],
      "execution_count": null,
      "outputs": [
        {
          "output_type": "display_data",
          "data": {
            "image/png": "[encoded data removed]",
            "text/plain": [
              "<Figure size 504x324 with 1 Axes>"
            ]
          },
          "metadata": {
            "tags": [],
            "needs_background": "light"
          }
        },
        {
          "output_type": "display_data",
          "data": {
            "image/png": "[encoded data removed]",
            "text/plain": [
              "<Figure size 504x324 with 1 Axes>"
            ]
          },
          "metadata": {
            "tags": [],
            "needs_background": "light"
          }
        },
        {
          "output_type": "display_data",
          "data": {
            "image/png": "[encoded data removed]",
            "text/plain": [
              "<Figure size 504x324 with 1 Axes>"
            ]
          },
          "metadata": {
            "tags": [],
            "needs_background": "light"
          }
        },
        {
          "output_type": "display_data",
          "data": {
            "image/png": "[encoded data removed]",
            "text/plain": [
              "<Figure size 504x324 with 1 Axes>"
            ]
          },
          "metadata": {
            "tags": [],
            "needs_background": "light"
          }
        }
      ]
    },
    {
      "cell_type": "markdown",
      "metadata": {
        "id": "FAtxqZZ3Vxzl"
      },
      "source": [
        "We see a similar trade-off between quality and performance: as the number of random vectors increases, the query time goes down as each bin contains fewer documents on average, but on average the neighbors are likewise placed farther from the query. On the other hand, when using a small enough number of random vectors, LSH becomes very similar brute-force search: Many documents appear in a single bin, so searching the query bin alone covers a lot of the corpus; then, including neighboring bins might result in searching all documents, just as in the brute-force approach."
      ]
    }
  ]
}