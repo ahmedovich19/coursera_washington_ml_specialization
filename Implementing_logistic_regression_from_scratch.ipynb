{
  "nbformat": 4,
  "nbformat_minor": 0,
  "metadata": {
    "kernelspec": {
      "display_name": "Python 3",
      "language": "python",
      "name": "python3"
    },
    "language_info": {
      "codemirror_mode": {
        "name": "ipython",
        "version": 3
      },
      "file_extension": ".py",
      "mimetype": "text/x-python",
      "name": "python",
      "nbconvert_exporter": "python",
      "pygments_lexer": "ipython3",
      "version": "3.6.0"
    },
    "colab": {
      "name": "Implementing logistic regression from scratch.ipynb",
      "provenance": [],
      "collapsed_sections": [
        "bYJ6WDYUpObr",
        "dfatwrJTpOdn",
        "UopvGOWjpOek",
        "szjwJf5rpOfk",
        "XcusS4kSpOgX",
        "jh-qAW6TpOhU",
        "ECxsagpbpOhh",
        "paqRLe2DpOh-",
        "-SzAvRQfpOiN"
      ]
    }
  },
  "cells": [
    {
      "cell_type": "code",
      "metadata": {
        "id": "uBBLp3xWpUln",
        "colab": {
          "base_uri": "https://localhost:8080/",
          "height": 900
        },
        "outputId": "ee3b6c5e-3a85-48af-efeb-abcbfcdb6f16"
      },
      "source": [
        "!pip install turicreate\n",
        "!pip install numpy"
      ],
      "execution_count": null,
      "outputs": [
        {
          "output_type": "stream",
          "text": [
            "Requirement already satisfied: turicreate in /usr/local/lib/python3.6/dist-packages (6.2)\n",
            "Requirement already satisfied: numpy in /usr/local/lib/python3.6/dist-packages (from turicreate) (1.18.2)\n",
            "Requirement already satisfied: prettytable==0.7.2 in /usr/local/lib/python3.6/dist-packages (from turicreate) (0.7.2)\n",
            "Requirement already satisfied: resampy==0.2.1 in /usr/local/lib/python3.6/dist-packages (from turicreate) (0.2.1)\n",
            "Requirement already satisfied: scipy>=1.1.0 in /usr/local/lib/python3.6/dist-packages (from turicreate) (1.4.1)\n",
            "Requirement already satisfied: tensorflow<=2.0.1,>=2.0.0 in /usr/local/lib/python3.6/dist-packages (from turicreate) (2.0.1)\n",
            "Requirement already satisfied: decorator>=4.0.9 in /usr/local/lib/python3.6/dist-packages (from turicreate) (4.4.2)\n",
            "Requirement already satisfied: pillow>=5.2.0 in /usr/local/lib/python3.6/dist-packages (from turicreate) (7.0.0)\n",
            "Requirement already satisfied: requests>=2.9.1 in /usr/local/lib/python3.6/dist-packages (from turicreate) (2.21.0)\n",
            "Requirement already satisfied: pandas>=0.23.2 in /usr/local/lib/python3.6/dist-packages (from turicreate) (1.0.3)\n",
            "Requirement already satisfied: coremltools==3.3 in /usr/local/lib/python3.6/dist-packages (from turicreate) (3.3)\n",
            "Requirement already satisfied: six>=1.10.0 in /usr/local/lib/python3.6/dist-packages (from turicreate) (1.12.0)\n",
            "Requirement already satisfied: numba>=0.32 in /usr/local/lib/python3.6/dist-packages (from resampy==0.2.1->turicreate) (0.48.0)\n",
            "Requirement already satisfied: keras-preprocessing>=1.0.5 in /usr/local/lib/python3.6/dist-packages (from tensorflow<=2.0.1,>=2.0.0->turicreate) (1.1.0)\n",
            "Requirement already satisfied: opt-einsum>=2.3.2 in /usr/local/lib/python3.6/dist-packages (from tensorflow<=2.0.1,>=2.0.0->turicreate) (3.2.1)\n",
            "Requirement already satisfied: absl-py>=0.7.0 in /usr/local/lib/python3.6/dist-packages (from tensorflow<=2.0.1,>=2.0.0->turicreate) (0.9.0)\n",
            "Requirement already satisfied: astor>=0.6.0 in /usr/local/lib/python3.6/dist-packages (from tensorflow<=2.0.1,>=2.0.0->turicreate) (0.8.1)\n",
            "Requirement already satisfied: tensorboard<2.1.0,>=2.0.0 in /usr/local/lib/python3.6/dist-packages (from tensorflow<=2.0.1,>=2.0.0->turicreate) (2.0.2)\n",
            "Requirement already satisfied: wheel>=0.26; python_version >= \"3\" in /usr/local/lib/python3.6/dist-packages (from tensorflow<=2.0.1,>=2.0.0->turicreate) (0.34.2)\n",
            "Requirement already satisfied: wrapt>=1.11.1 in /usr/local/lib/python3.6/dist-packages (from tensorflow<=2.0.1,>=2.0.0->turicreate) (1.12.1)\n",
            "Requirement already satisfied: protobuf>=3.6.1 in /usr/local/lib/python3.6/dist-packages (from tensorflow<=2.0.1,>=2.0.0->turicreate) (3.10.0)\n",
            "Requirement already satisfied: google-pasta>=0.1.6 in /usr/local/lib/python3.6/dist-packages (from tensorflow<=2.0.1,>=2.0.0->turicreate) (0.2.0)\n",
            "Requirement already satisfied: gast==0.2.2 in /usr/local/lib/python3.6/dist-packages (from tensorflow<=2.0.1,>=2.0.0->turicreate) (0.2.2)\n",
            "Requirement already satisfied: grpcio>=1.8.6 in /usr/local/lib/python3.6/dist-packages (from tensorflow<=2.0.1,>=2.0.0->turicreate) (1.28.1)\n",
            "Requirement already satisfied: tensorflow-estimator<2.1.0,>=2.0.0 in /usr/local/lib/python3.6/dist-packages (from tensorflow<=2.0.1,>=2.0.0->turicreate) (2.0.1)\n",
            "Requirement already satisfied: termcolor>=1.1.0 in /usr/local/lib/python3.6/dist-packages (from tensorflow<=2.0.1,>=2.0.0->turicreate) (1.1.0)\n",
            "Requirement already satisfied: keras-applications>=1.0.8 in /usr/local/lib/python3.6/dist-packages (from tensorflow<=2.0.1,>=2.0.0->turicreate) (1.0.8)\n",
            "Requirement already satisfied: certifi>=2017.4.17 in /usr/local/lib/python3.6/dist-packages (from requests>=2.9.1->turicreate) (2020.4.5.1)\n",
            "Requirement already satisfied: urllib3<1.25,>=1.21.1 in /usr/local/lib/python3.6/dist-packages (from requests>=2.9.1->turicreate) (1.24.3)\n",
            "Requirement already satisfied: chardet<3.1.0,>=3.0.2 in /usr/local/lib/python3.6/dist-packages (from requests>=2.9.1->turicreate) (3.0.4)\n",
            "Requirement already satisfied: idna<2.9,>=2.5 in /usr/local/lib/python3.6/dist-packages (from requests>=2.9.1->turicreate) (2.8)\n",
            "Requirement already satisfied: python-dateutil>=2.6.1 in /usr/local/lib/python3.6/dist-packages (from pandas>=0.23.2->turicreate) (2.8.1)\n",
            "Requirement already satisfied: pytz>=2017.2 in /usr/local/lib/python3.6/dist-packages (from pandas>=0.23.2->turicreate) (2018.9)\n",
            "Requirement already satisfied: llvmlite<0.32.0,>=0.31.0dev0 in /usr/local/lib/python3.6/dist-packages (from numba>=0.32->resampy==0.2.1->turicreate) (0.31.0)\n",
            "Requirement already satisfied: setuptools in /usr/local/lib/python3.6/dist-packages (from numba>=0.32->resampy==0.2.1->turicreate) (46.1.3)\n",
            "Requirement already satisfied: google-auth<2,>=1.6.3 in /usr/local/lib/python3.6/dist-packages (from tensorboard<2.1.0,>=2.0.0->tensorflow<=2.0.1,>=2.0.0->turicreate) (1.7.2)\n",
            "Requirement already satisfied: werkzeug>=0.11.15 in /usr/local/lib/python3.6/dist-packages (from tensorboard<2.1.0,>=2.0.0->tensorflow<=2.0.1,>=2.0.0->turicreate) (1.0.1)\n",
            "Requirement already satisfied: google-auth-oauthlib<0.5,>=0.4.1 in /usr/local/lib/python3.6/dist-packages (from tensorboard<2.1.0,>=2.0.0->tensorflow<=2.0.1,>=2.0.0->turicreate) (0.4.1)\n",
            "Requirement already satisfied: markdown>=2.6.8 in /usr/local/lib/python3.6/dist-packages (from tensorboard<2.1.0,>=2.0.0->tensorflow<=2.0.1,>=2.0.0->turicreate) (3.2.1)\n",
            "Requirement already satisfied: h5py in /usr/local/lib/python3.6/dist-packages (from keras-applications>=1.0.8->tensorflow<=2.0.1,>=2.0.0->turicreate) (2.10.0)\n",
            "Requirement already satisfied: rsa<4.1,>=3.1.4 in /usr/local/lib/python3.6/dist-packages (from google-auth<2,>=1.6.3->tensorboard<2.1.0,>=2.0.0->tensorflow<=2.0.1,>=2.0.0->turicreate) (4.0)\n",
            "Requirement already satisfied: cachetools<3.2,>=2.0.0 in /usr/local/lib/python3.6/dist-packages (from google-auth<2,>=1.6.3->tensorboard<2.1.0,>=2.0.0->tensorflow<=2.0.1,>=2.0.0->turicreate) (3.1.1)\n",
            "Requirement already satisfied: pyasn1-modules>=0.2.1 in /usr/local/lib/python3.6/dist-packages (from google-auth<2,>=1.6.3->tensorboard<2.1.0,>=2.0.0->tensorflow<=2.0.1,>=2.0.0->turicreate) (0.2.8)\n",
            "Requirement already satisfied: requests-oauthlib>=0.7.0 in /usr/local/lib/python3.6/dist-packages (from google-auth-oauthlib<0.5,>=0.4.1->tensorboard<2.1.0,>=2.0.0->tensorflow<=2.0.1,>=2.0.0->turicreate) (1.3.0)\n",
            "Requirement already satisfied: pyasn1>=0.1.3 in /usr/local/lib/python3.6/dist-packages (from rsa<4.1,>=3.1.4->google-auth<2,>=1.6.3->tensorboard<2.1.0,>=2.0.0->tensorflow<=2.0.1,>=2.0.0->turicreate) (0.4.8)\n",
            "Requirement already satisfied: oauthlib>=3.0.0 in /usr/local/lib/python3.6/dist-packages (from requests-oauthlib>=0.7.0->google-auth-oauthlib<0.5,>=0.4.1->tensorboard<2.1.0,>=2.0.0->tensorflow<=2.0.1,>=2.0.0->turicreate) (3.1.0)\n",
            "Requirement already satisfied: numpy in /usr/local/lib/python3.6/dist-packages (1.18.2)\n"
          ],
          "name": "stdout"
        }
      ]
    },
    {
      "cell_type": "code",
      "metadata": {
        "id": "WkBQMCkBprhB",
        "colab": {
          "base_uri": "https://localhost:8080/",
          "height": 35
        },
        "outputId": "f40f2d4a-c029-47b8-a0a0-8a34e892d844"
      },
      "source": [
        "import os.path\n",
        "from google.colab import drive\n",
        "\n",
        "# mount Google Drive to /content/drive/My Drive/\n",
        "if os.path.isdir(\"/content/drive/My Drive/\"):\n",
        "  print(\"Google Drive already mounted\")\n",
        "else:\n",
        "  drive.mount('/content/drive')"
      ],
      "execution_count": null,
      "outputs": [
        {
          "output_type": "stream",
          "text": [
            "Google Drive already mounted\n"
          ],
          "name": "stdout"
        }
      ]
    },
    {
      "cell_type": "code",
      "metadata": {
        "id": "soAk0wHUp4W2",
        "colab": {
          "base_uri": "https://localhost:8080/",
          "height": 146
        },
        "outputId": "beedf15e-6f5c-4b65-e386-bb8c88de5e3e"
      },
      "source": [
        "import os.path\n",
        "import urllib.request\n",
        "import tarfile\n",
        "import zipfile\n",
        "import gzip\n",
        "from shutil import copy\n",
        "\n",
        "def fetch_remote_datafile(filename, remote_url):\n",
        "  if os.path.isfile(\"./\" + filename):\n",
        "    print(\"already have \" + filename + \" in workspace\")\n",
        "    return\n",
        "  print(\"fetching \" + filename + \" from \" + remote_url + \"...\")\n",
        "  urllib.request.urlretrieve(remote_url, \"./\" + filename)\n",
        "\n",
        "def cache_datafile_in_drive(filename):\n",
        "  if os.path.isfile(\"./\" + filename) == False:\n",
        "    print(\"cannot cache \" + filename + \", it is not in workspace\")\n",
        "    return\n",
        "  \n",
        "  data_drive_path = \"/content/drive/My Drive/Colab Notebooks/\"\n",
        "  if os.path.isfile(data_drive_path + filename):\n",
        "    print(\"\" + filename + \" has already been stored in Google Drive\")\n",
        "  else:\n",
        "    print(\"copying \" + filename + \" to \" + data_drive_path)\n",
        "    copy(\"./\" + filename, data_drive_path)\n",
        "  \n",
        "\n",
        "def load_datafile_from_drive(filename, remote_url=None):\n",
        "  data_drive_path = \"/content/drive/My Drive/Colab Notebooks/\"\n",
        "  if os.path.isfile(\"./\" + filename):\n",
        "    print(\"already have \" + filename + \" in workspace\")\n",
        "  elif os.path.isfile(data_drive_path + filename):\n",
        "    print(\"have \" + filename + \" in Google Drive, copying to workspace...\")\n",
        "    copy(data_drive_path + filename, \".\")\n",
        "  elif remote_url != None:\n",
        "    fetch_remote_datafile(filename, remote_url)\n",
        "  else:\n",
        "    print(\"error: you need to manually download \" + filename + \" and put in drive\")\n",
        "    \n",
        "def extract_datafile(filename, expected_extract_artifact=None):\n",
        "  if expected_extract_artifact != None and (os.path.isfile(expected_extract_artifact) or os.path.isdir(expected_extract_artifact)):\n",
        "    \n",
        "    print(\"files in \" + filename + \" have already been extracted\")\n",
        "  elif os.path.isfile(\"./\" + filename) == False:\n",
        "    print(\"error: cannot extract \" + filename + \", it is not in the workspace\")\n",
        "  else:\n",
        "    extension = filename.split('.')[-1]\n",
        "    if extension == \"zip\":\n",
        "      print(\"extracting \" + filename + \"...\")\n",
        "      data_file = open(filename, \"rb\")\n",
        "      z = zipfile.ZipFile(data_file)\n",
        "      for name in z.namelist():\n",
        "          print(\"    extracting file\", name)\n",
        "          z.extract(name, \"./\")\n",
        "      data_file.close()\n",
        "    elif extension == \"gz\":\n",
        "      print(\"extracting \" + filename + \"...\")\n",
        "      if filename.split('.')[-2] == \"tar\":\n",
        "        tar = tarfile.open(filename)\n",
        "        tar.extractall()\n",
        "        tar.close()\n",
        "      else:\n",
        "        data_zip_file = gzip.GzipFile(filename, 'rb')\n",
        "        data = data_zip_file.read()\n",
        "        data_zip_file.close()\n",
        "        extracted_file = open('.'.join(filename.split('.')[0:-1]), 'wb')\n",
        "        extracted_file.write(data)\n",
        "        extracted_file.close()\n",
        "    elif extension == \"tar\":\n",
        "      print(\"extracting \" + filename + \"...\")\n",
        "      tar = tarfile.open(filename)\n",
        "      tar.extractall()\n",
        "      tar.close()\n",
        "    elif extension == \"csv\":\n",
        "      print(\"do not need to extract csv\")\n",
        "    else:\n",
        "      print(\"cannot extract \" + filename)\n",
        "      \n",
        "def load_cache_extract_datafile(filename, expected_extract_artifact=None, remote_url=None):\n",
        "  load_datafile_from_drive(filename, remote_url)\n",
        "  extract_datafile(filename, expected_extract_artifact)\n",
        "  cache_datafile_in_drive(filename)\n",
        "  \n",
        "load_cache_extract_datafile(\"amazon_baby_subset.sframe.zip\", \"amazon_baby_subset.sframe\", \"https://d3c33hcgiwev3.cloudfront.net/4Hx-QuI1Eem3eBKX1RzcIA_0e322599c7c0428097616696ac5e6728_amazon_baby_subset.sframe.zip?Expires=1587686400&Signature=kN2CRTyQxkeZIe-mclRHcN-OiIm9yrGQnSQQFRXcpBakkNHKf2tsxhu72cZxDLKW3SxFu-Z6j-WhXsZtCg4kUMrh~cmJmmyDxokBotE-CpSrLVn0UPB13ggPNXUAaZhZdzkRrTza3x5QhVBjDAQpFbcIOl4JkM8PKzB~0gYw~64_&Key-Pair-Id=APKAJLTNE6QMUY6HBC5A\")\n",
        "load_cache_extract_datafile(\"important_words.zip\", \"important_words\", \"https://d3c33hcgiwev3.cloudfront.net/_35bdebdff61378878ea2247780005e52_important_words.json.zip?Expires=1587686400&Signature=EYOzXRSOlzIesHbixJquvQglti0LMDJePtKruHQqRIXVYyulpdZazCFt4Pz07YB~lLBbyvh8DLENb-Vo9sibp1K-eUAs7nVIbbtR77t9LaVIjVs~flyG5NL1nS44jbug5huyIfFBAof9oNcOA0M22Ive9toiFr-59okFR3fL1R0_&Key-Pair-Id=APKAJLTNE6QMUY6HBC5A\")\n"
      ],
      "execution_count": null,
      "outputs": [
        {
          "output_type": "stream",
          "text": [
            "already have amazon_baby_subset.sframe.zip in workspace\n",
            "files in amazon_baby_subset.sframe.zip have already been extracted\n",
            "amazon_baby_subset.sframe.zip has already been stored in Google Drive\n",
            "already have important_words.zip in workspace\n",
            "extracting important_words.zip...\n",
            "    extracting file important_words.json\n",
            "important_words.zip has already been stored in Google Drive\n"
          ],
          "name": "stdout"
        }
      ]
    },
    {
      "cell_type": "markdown",
      "metadata": {
        "id": "rmv6NunrpOVz"
      },
      "source": [
        "# Implementing logistic regression from scratch\n",
        "\n",
        "The goal of this notebook is to implement your own logistic regression classifier. You will:\n",
        "\n",
        " * Extract features from Amazon product reviews.\n",
        " * Convert an SFrame into a NumPy array.\n",
        " * Implement the link function for logistic regression.\n",
        " * Write a function to compute the derivative of the log likelihood function with respect to a single coefficient.\n",
        " * Implement gradient ascent.\n",
        " * Given a set of coefficients, predict sentiments.\n",
        " * Compute classification accuracy for the logistic regression model.\n",
        " \n",
        "Let's get started!\n",
        "    \n",
        "## Fire up Turi Create\n",
        "\n",
        "Make sure you have the latest version of Turi Create."
      ]
    },
    {
      "cell_type": "code",
      "metadata": {
        "id": "W_R-4rtypOV6"
      },
      "source": [
        "import turicreate"
      ],
      "execution_count": null,
      "outputs": []
    },
    {
      "cell_type": "markdown",
      "metadata": {
        "id": "7FK_jjeHpOWf"
      },
      "source": [
        "## Load review dataset"
      ]
    },
    {
      "cell_type": "markdown",
      "metadata": {
        "id": "VK4o2ee4pOWu"
      },
      "source": [
        "For this assignment, we will use a subset of the Amazon product review dataset. The subset was chosen to contain similar numbers of positive and negative reviews, as the original dataset consisted primarily of positive reviews."
      ]
    },
    {
      "cell_type": "code",
      "metadata": {
        "id": "-2X3RnGHpOW2"
      },
      "source": [
        "products = turicreate.SFrame('amazon_baby_subset.sframe/')"
      ],
      "execution_count": null,
      "outputs": []
    },
    {
      "cell_type": "markdown",
      "metadata": {
        "id": "7hB7kbkMpOXt"
      },
      "source": [
        "One column of this dataset is 'sentiment', corresponding to the class label with +1 indicating a review with positive sentiment and -1 indicating one with negative sentiment."
      ]
    },
    {
      "cell_type": "code",
      "metadata": {
        "id": "fkNLYc_spOXz",
        "colab": {
          "base_uri": "https://localhost:8080/",
          "height": 92
        },
        "outputId": "be4e26dd-3804-450a-c679-06b9f1301c08"
      },
      "source": [
        "products['sentiment']"
      ],
      "execution_count": null,
      "outputs": [
        {
          "output_type": "execute_result",
          "data": {
            "text/plain": [
              "dtype: int\n",
              "Rows: 53072\n",
              "[1, 1, 1, 1, 1, 1, 1, 1, 1, 1, 1, 1, 1, 1, 1, 1, 1, 1, 1, 1, 1, 1, 1, 1, 1, 1, 1, 1, 1, 1, 1, 1, 1, 1, 1, 1, 1, 1, 1, 1, 1, 1, 1, 1, 1, 1, 1, 1, 1, 1, 1, 1, 1, 1, 1, 1, 1, 1, 1, 1, 1, 1, 1, 1, 1, 1, 1, 1, 1, 1, 1, 1, 1, 1, 1, 1, 1, 1, 1, 1, 1, 1, 1, 1, 1, 1, 1, 1, 1, 1, 1, 1, 1, 1, 1, 1, 1, 1, 1, 1, ... ]"
            ]
          },
          "metadata": {
            "tags": []
          },
          "execution_count": 6
        }
      ]
    },
    {
      "cell_type": "markdown",
      "metadata": {
        "id": "egdK1tmopOYM"
      },
      "source": [
        "Let us quickly explore more of this dataset.  The 'name' column indicates the name of the product.  Here we list the first 10 products in the dataset.  We then count the number of positive and negative reviews."
      ]
    },
    {
      "cell_type": "code",
      "metadata": {
        "id": "DovzrAQTpOYP",
        "colab": {
          "base_uri": "https://localhost:8080/",
          "height": 92
        },
        "outputId": "6469ac8a-6b25-467f-d013-c37e68eda3dc"
      },
      "source": [
        "products.head(10)['name']"
      ],
      "execution_count": null,
      "outputs": [
        {
          "output_type": "execute_result",
          "data": {
            "text/plain": [
              "dtype: str\n",
              "Rows: 10\n",
              "[\"Stop Pacifier Sucking without tears with Thumbuddy To Love's Binky Fairy Puppet and Adorable Book\", \"Nature's Lullabies Second Year Sticker Calendar\", \"Nature's Lullabies Second Year Sticker Calendar\", 'Lamaze Peekaboo, I Love You', \"SoftPlay Peek-A-Boo Where's Elmo A Children's Book\", 'Our Baby Girl Memory Book', 'Hunnt&reg; Falling Flowers and Birds Kids Nursery Home Decor Vinyl Mural Art Wall Paper Stickers', 'Blessed By Pope Benedict XVI Divine Mercy Full Color Medal', 'Cloth Diaper Pins Stainless Steel Traditional Safety Pin (Black)', 'Cloth Diaper Pins Stainless Steel Traditional Safety Pin (Black)']"
            ]
          },
          "metadata": {
            "tags": []
          },
          "execution_count": 7
        }
      ]
    },
    {
      "cell_type": "code",
      "metadata": {
        "id": "xxxpALSIpOYq",
        "colab": {
          "base_uri": "https://localhost:8080/",
          "height": 54
        },
        "outputId": "23c57bd5-86f8-4b9a-9180-c470b6dc4cfa"
      },
      "source": [
        "print('# of positive reviews =', len(products[products['sentiment']==1]))\n",
        "print('# of negative reviews =', len(products[products['sentiment']==-1]))"
      ],
      "execution_count": null,
      "outputs": [
        {
          "output_type": "stream",
          "text": [
            "# of positive reviews = 26579\n",
            "# of negative reviews = 26493\n"
          ],
          "name": "stdout"
        }
      ]
    },
    {
      "cell_type": "markdown",
      "metadata": {
        "id": "P2nw0APApOZG"
      },
      "source": [
        "**Note:** For this assignment, we eliminated class imbalance by choosing \n",
        "a subset of the data with a similar number of positive and negative reviews. \n",
        "\n",
        "## Apply text cleaning on the review data\n",
        "\n",
        "In this section, we will perform some simple feature cleaning using **SFrames**. The last assignment used all words in building bag-of-words features, but here we limit ourselves to 193 words (for simplicity). We compiled a list of 193 most frequent words into a JSON file. \n",
        "\n",
        "Now, we will load these words from this JSON file:"
      ]
    },
    {
      "cell_type": "code",
      "metadata": {
        "id": "JF-POy5RpOZT"
      },
      "source": [
        "import json\n",
        "with open('important_words.json', 'r') as f: # Reads the list of most frequent words\n",
        "    important_words = json.load(f)\n",
        "important_words = [str(s) for s in important_words]"
      ],
      "execution_count": null,
      "outputs": []
    },
    {
      "cell_type": "code",
      "metadata": {
        "id": "hz97nFLipOZl",
        "colab": {
          "base_uri": "https://localhost:8080/",
          "height": 55
        },
        "outputId": "3bd7fdff-225d-4bd7-cc1d-27dc126bd83a"
      },
      "source": [
        "print(important_words)"
      ],
      "execution_count": null,
      "outputs": [
        {
          "output_type": "stream",
          "text": [
            "['baby', 'one', 'great', 'love', 'use', 'would', 'like', 'easy', 'little', 'seat', 'old', 'well', 'get', 'also', 'really', 'son', 'time', 'bought', 'product', 'good', 'daughter', 'much', 'loves', 'stroller', 'put', 'months', 'car', 'still', 'back', 'used', 'recommend', 'first', 'even', 'perfect', 'nice', 'bag', 'two', 'using', 'got', 'fit', 'around', 'diaper', 'enough', 'month', 'price', 'go', 'could', 'soft', 'since', 'buy', 'room', 'works', 'made', 'child', 'keep', 'size', 'small', 'need', 'year', 'big', 'make', 'take', 'easily', 'think', 'crib', 'clean', 'way', 'quality', 'thing', 'better', 'without', 'set', 'new', 'every', 'cute', 'best', 'bottles', 'work', 'purchased', 'right', 'lot', 'side', 'happy', 'comfortable', 'toy', 'able', 'kids', 'bit', 'night', 'long', 'fits', 'see', 'us', 'another', 'play', 'day', 'money', 'monitor', 'tried', 'thought', 'never', 'item', 'hard', 'plastic', 'however', 'disappointed', 'reviews', 'something', 'going', 'pump', 'bottle', 'cup', 'waste', 'return', 'amazon', 'different', 'top', 'want', 'problem', 'know', 'water', 'try', 'received', 'sure', 'times', 'chair', 'find', 'hold', 'gate', 'open', 'bottom', 'away', 'actually', 'cheap', 'worked', 'getting', 'ordered', 'came', 'milk', 'bad', 'part', 'worth', 'found', 'cover', 'many', 'design', 'looking', 'weeks', 'say', 'wanted', 'look', 'place', 'purchase', 'looks', 'second', 'piece', 'box', 'pretty', 'trying', 'difficult', 'together', 'though', 'give', 'started', 'anything', 'last', 'company', 'come', 'returned', 'maybe', 'took', 'broke', 'makes', 'stay', 'instead', 'idea', 'head', 'said', 'less', 'went', 'working', 'high', 'unit', 'seems', 'picture', 'completely', 'wish', 'buying', 'babies', 'won', 'tub', 'almost', 'either']\n"
          ],
          "name": "stdout"
        }
      ]
    },
    {
      "cell_type": "markdown",
      "metadata": {
        "id": "yZLRoh__pOZ1"
      },
      "source": [
        "Now, we will perform 2 simple data transformations:\n",
        "\n",
        "1. Remove punctuation using [Python's built-in](https://docs.python.org/2/library/string.html) string functionality.\n",
        "2. Compute word counts (only for **important_words**)\n",
        "\n",
        "We start with *Step 1* which can be done as follows:"
      ]
    },
    {
      "cell_type": "code",
      "metadata": {
        "id": "9xQMUA43pOZ5"
      },
      "source": [
        "import string \n",
        "def remove_punctuation(text):\n",
        "    try: # python 2.x\n",
        "        text = text.translate(None, string.punctuation) \n",
        "    except: # python 3.x\n",
        "        translator = text.maketrans('', '', string.punctuation)\n",
        "        text = text.translate(translator)\n",
        "    return text\n",
        "\n",
        "products['review_clean'] = products['review'].apply(remove_punctuation)"
      ],
      "execution_count": null,
      "outputs": []
    },
    {
      "cell_type": "markdown",
      "metadata": {
        "id": "K3tt_YmbpOaQ"
      },
      "source": [
        "Now we proceed with *Step 2*. For each word in **important_words**, we compute a count for the number of times the word occurs in the review. We will store this count in a separate column (one for each word). The result of this feature processing is a single column for each word in **important_words** which keeps a count of the number of times the respective word occurs in the review text.\n",
        "\n",
        "\n",
        "**Note:** There are several ways of doing this. In this assignment, we use the built-in *count* function for Python lists. Each review string is first split into individual words and the number of occurances of a given word is counted."
      ]
    },
    {
      "cell_type": "code",
      "metadata": {
        "id": "i3PmfohMpOaT"
      },
      "source": [
        "for word in important_words:\n",
        "    products[word] = products['review_clean'].apply(lambda s : s.split().count(word))"
      ],
      "execution_count": null,
      "outputs": []
    },
    {
      "cell_type": "markdown",
      "metadata": {
        "id": "ts0ZRvmMpOan"
      },
      "source": [
        "The SFrame **products** now contains one column for each of the 193 **important_words**. As an example, the column **perfect** contains a count of the number of times the word **perfect** occurs in each of the reviews."
      ]
    },
    {
      "cell_type": "code",
      "metadata": {
        "id": "it-WILDrpOar",
        "colab": {
          "base_uri": "https://localhost:8080/",
          "height": 92
        },
        "outputId": "7590f318-0ff6-4e3f-f4fd-3d04c3e74f4a"
      },
      "source": [
        "products['perfect']"
      ],
      "execution_count": null,
      "outputs": [
        {
          "output_type": "execute_result",
          "data": {
            "text/plain": [
              "dtype: int\n",
              "Rows: 53072\n",
              "[0, 0, 0, 1, 0, 0, 0, 0, 0, 0, 0, 1, 0, 0, 0, 0, 0, 0, 0, 0, 0, 0, 1, 0, 1, 0, 0, 1, 0, 0, 0, 0, 0, 0, 0, 0, 0, 0, 0, 0, 0, 0, 0, 0, 0, 0, 0, 0, 0, 0, 0, 0, 0, 0, 0, 0, 0, 0, 0, 0, 0, 0, 0, 0, 0, 0, 0, 0, 0, 0, 0, 0, 0, 0, 0, 0, 0, 0, 0, 0, 0, 0, 0, 0, 0, 0, 0, 0, 0, 0, 0, 0, 0, 0, 0, 0, 0, 0, 0, 0, ... ]"
            ]
          },
          "metadata": {
            "tags": []
          },
          "execution_count": 13
        }
      ]
    },
    {
      "cell_type": "markdown",
      "metadata": {
        "id": "mwEmlPAHpObA"
      },
      "source": [
        "Now, write some code to compute the number of product reviews that contain the word **perfect**.\n",
        "\n",
        "**Hint**: \n",
        "* First create a column called `contains_perfect` which is set to 1 if the count of the word **perfect** (stored in column **perfect**) is >= 1.\n",
        "* Sum the number of 1s in the column `contains_perfect`."
      ]
    },
    {
      "cell_type": "code",
      "metadata": {
        "id": "h8At5Qv4pObE",
        "colab": {
          "base_uri": "https://localhost:8080/",
          "height": 35
        },
        "outputId": "2e45991b-839a-49d6-f5b2-7d0c55c04d42"
      },
      "source": [
        "products['contains_perfect'] = products['perfect'].apply(lambda p : 1 if p >= 1 else 0)\n",
        "sum(products['contains_perfect'])"
      ],
      "execution_count": null,
      "outputs": [
        {
          "output_type": "execute_result",
          "data": {
            "text/plain": [
              "2955"
            ]
          },
          "metadata": {
            "tags": []
          },
          "execution_count": 14
        }
      ]
    },
    {
      "cell_type": "markdown",
      "metadata": {
        "id": "RRTK2YtNpObo"
      },
      "source": [
        "**Quiz Question**. How many reviews contain the word **perfect**?"
      ]
    },
    {
      "cell_type": "markdown",
      "metadata": {
        "id": "bYJ6WDYUpObr"
      },
      "source": [
        "## Convert SFrame to NumPy array\n",
        "\n",
        "As you have seen previously, NumPy is a powerful library for doing matrix manipulation. Let us convert our data to matrices and then implement our algorithms with matrices.\n",
        "\n",
        "First, make sure you can perform the following import. If it doesn't work, you need to go back to the terminal and run\n",
        "\n",
        "`pip install numpy`."
      ]
    },
    {
      "cell_type": "code",
      "metadata": {
        "id": "dNknWnrjpObt"
      },
      "source": [
        "import numpy as np"
      ],
      "execution_count": null,
      "outputs": []
    },
    {
      "cell_type": "markdown",
      "metadata": {
        "id": "2pFxoXf_pOcL"
      },
      "source": [
        "We now provide you with a function that extracts columns from an SFrame and converts them into a NumPy array. Two arrays are returned: one representing features and another representing class labels. Note that the feature matrix includes an additional column 'intercept' to take account of the intercept term."
      ]
    },
    {
      "cell_type": "code",
      "metadata": {
        "id": "zznbo80apOcO"
      },
      "source": [
        "def get_numpy_data(data_sframe, features, label):\n",
        "    data_sframe['intercept'] = 1\n",
        "    features = ['intercept'] + features\n",
        "    features_sframe = data_sframe[features]\n",
        "    feature_matrix = features_sframe.to_numpy()\n",
        "    label_sarray = data_sframe[label]\n",
        "    label_array = label_sarray.to_numpy()\n",
        "    return(feature_matrix, label_array)"
      ],
      "execution_count": null,
      "outputs": []
    },
    {
      "cell_type": "markdown",
      "metadata": {
        "id": "xJdrRNI5pOcn"
      },
      "source": [
        "Let us convert the data into NumPy arrays."
      ]
    },
    {
      "cell_type": "code",
      "metadata": {
        "id": "7or1-pAupOcq"
      },
      "source": [
        "# Warning: This may take a few minutes...\n",
        "feature_matrix, sentiment = get_numpy_data(products, important_words, 'sentiment') "
      ],
      "execution_count": null,
      "outputs": []
    },
    {
      "cell_type": "markdown",
      "metadata": {
        "id": "ljD23PnTpOc7"
      },
      "source": [
        "**Are you running this notebook on an Amazon EC2 t2.micro instance?** (If you are using your own machine, please skip this section)\n",
        "\n",
        "It has been reported that t2.micro instances do not provide sufficient power to complete the conversion in acceptable amount of time. For interest of time, please refrain from running `get_numpy_data` function. Instead, download the [binary file](https://s3.amazonaws.com/static.dato.com/files/coursera/course-3/numpy-arrays/module-3-assignment-numpy-arrays.npz) containing the four NumPy arrays you'll need for the assignment. To load the arrays, run the following commands:\n",
        "```\n",
        "arrays = np.load('module-3-assignment-numpy-arrays.npz')\n",
        "feature_matrix, sentiment = arrays['feature_matrix'], arrays['sentiment']\n",
        "```"
      ]
    },
    {
      "cell_type": "code",
      "metadata": {
        "id": "YniRxwltpOc-",
        "colab": {
          "base_uri": "https://localhost:8080/",
          "height": 35
        },
        "outputId": "29d4ab54-0b40-4393-dc72-5139dfc052a1"
      },
      "source": [
        "feature_matrix.shape"
      ],
      "execution_count": null,
      "outputs": [
        {
          "output_type": "execute_result",
          "data": {
            "text/plain": [
              "(53072, 194)"
            ]
          },
          "metadata": {
            "tags": []
          },
          "execution_count": 18
        }
      ]
    },
    {
      "cell_type": "markdown",
      "metadata": {
        "id": "BsIRlfadpOdQ"
      },
      "source": [
        "**Quiz Question:** How many features are there in the **feature_matrix**?\n",
        "\n",
        "**Quiz Question:** Assuming that the intercept is present, how does the number of features in **feature_matrix** relate to the number of features in the logistic regression model?"
      ]
    },
    {
      "cell_type": "markdown",
      "metadata": {
        "id": "p_X_kkKzpOdU"
      },
      "source": [
        "Now, let us see what the **sentiment** column looks like:"
      ]
    },
    {
      "cell_type": "code",
      "metadata": {
        "id": "HFdAqDRCpOda",
        "colab": {
          "base_uri": "https://localhost:8080/",
          "height": 35
        },
        "outputId": "aa0226aa-0e08-459d-c41a-e6c91d9ee861"
      },
      "source": [
        "sentiment"
      ],
      "execution_count": null,
      "outputs": [
        {
          "output_type": "execute_result",
          "data": {
            "text/plain": [
              "array([ 1,  1,  1, ..., -1, -1, -1])"
            ]
          },
          "metadata": {
            "tags": []
          },
          "execution_count": 19
        }
      ]
    },
    {
      "cell_type": "markdown",
      "metadata": {
        "id": "dfatwrJTpOdn"
      },
      "source": [
        "## Estimating conditional probability with link function"
      ]
    },
    {
      "cell_type": "markdown",
      "metadata": {
        "id": "BAUBQMm_pOdp"
      },
      "source": [
        "Recall from lecture that the link function is given by:\n",
        "$$\n",
        "P(y_i = +1 | \\mathbf{x}_i,\\mathbf{w}) = \\frac{1}{1 + \\exp(-\\mathbf{w}^T h(\\mathbf{x}_i))},\n",
        "$$\n",
        "\n",
        "where the feature vector $h(\\mathbf{x}_i)$ represents the word counts of **important_words** in the review  $\\mathbf{x}_i$. Complete the following function that implements the link function:"
      ]
    },
    {
      "cell_type": "code",
      "metadata": {
        "id": "fuuPsjjGpOds"
      },
      "source": [
        "'''\n",
        "produces probablistic estimate for P(y_i = +1 | x_i, w).\n",
        "estimate ranges between 0 and 1.\n",
        "'''\n",
        "def predict_probability(feature_matrix, coefficients):\n",
        "    # Take dot product of feature_matrix and coefficients  \n",
        "    scores = np.dot(feature_matrix, coefficients)\n",
        "    \n",
        "    # Compute P(y_i = +1 | x_i, w) using the link function\n",
        "    predictions = 1/(1+ np.exp(-scores))\n",
        "    \n",
        "    # return predictions\n",
        "    return predictions"
      ],
      "execution_count": null,
      "outputs": []
    },
    {
      "cell_type": "markdown",
      "metadata": {
        "id": "Zv17qETcpOeB"
      },
      "source": [
        "**Aside**. How the link function works with matrix algebra\n",
        "\n",
        "Since the word counts are stored as columns in **feature_matrix**, each $i$-th row of the matrix corresponds to the feature vector $h(\\mathbf{x}_i)$:\n",
        "$$\n",
        "[\\text{feature_matrix}] =\n",
        "\\left[\n",
        "\\begin{array}{c}\n",
        "h(\\mathbf{x}_1)^T \\\\\n",
        "h(\\mathbf{x}_2)^T \\\\\n",
        "\\vdots \\\\\n",
        "h(\\mathbf{x}_N)^T\n",
        "\\end{array}\n",
        "\\right] =\n",
        "\\left[\n",
        "\\begin{array}{cccc}\n",
        "h_0(\\mathbf{x}_1) & h_1(\\mathbf{x}_1) & \\cdots & h_D(\\mathbf{x}_1) \\\\\n",
        "h_0(\\mathbf{x}_2) & h_1(\\mathbf{x}_2) & \\cdots & h_D(\\mathbf{x}_2) \\\\\n",
        "\\vdots & \\vdots & \\ddots & \\vdots \\\\\n",
        "h_0(\\mathbf{x}_N) & h_1(\\mathbf{x}_N) & \\cdots & h_D(\\mathbf{x}_N)\n",
        "\\end{array}\n",
        "\\right]\n",
        "$$\n",
        "\n",
        "By the rules of matrix multiplication, the score vector containing elements $\\mathbf{w}^T h(\\mathbf{x}_i)$ is obtained by multiplying **feature_matrix** and the coefficient vector $\\mathbf{w}$.\n",
        "$$\n",
        "[\\text{score}] =\n",
        "[\\text{feature_matrix}]\\mathbf{w} =\n",
        "\\left[\n",
        "\\begin{array}{c}\n",
        "h(\\mathbf{x}_1)^T \\\\\n",
        "h(\\mathbf{x}_2)^T \\\\\n",
        "\\vdots \\\\\n",
        "h(\\mathbf{x}_N)^T\n",
        "\\end{array}\n",
        "\\right]\n",
        "\\mathbf{w}\n",
        "= \\left[\n",
        "\\begin{array}{c}\n",
        "h(\\mathbf{x}_1)^T\\mathbf{w} \\\\\n",
        "h(\\mathbf{x}_2)^T\\mathbf{w} \\\\\n",
        "\\vdots \\\\\n",
        "h(\\mathbf{x}_N)^T\\mathbf{w}\n",
        "\\end{array}\n",
        "\\right]\n",
        "= \\left[\n",
        "\\begin{array}{c}\n",
        "\\mathbf{w}^T h(\\mathbf{x}_1) \\\\\n",
        "\\mathbf{w}^T h(\\mathbf{x}_2) \\\\\n",
        "\\vdots \\\\\n",
        "\\mathbf{w}^T h(\\mathbf{x}_N)\n",
        "\\end{array}\n",
        "\\right]\n",
        "$$"
      ]
    },
    {
      "cell_type": "markdown",
      "metadata": {
        "id": "AEXRdUrYpOeD"
      },
      "source": [
        "**Checkpoint**\n",
        "\n",
        "Just to make sure you are on the right track, we have provided a few examples. If your `predict_probability` function is implemented correctly, then the outputs will match:"
      ]
    },
    {
      "cell_type": "code",
      "metadata": {
        "id": "cpeIOKknpOeT",
        "colab": {
          "base_uri": "https://localhost:8080/",
          "height": 90
        },
        "outputId": "9fe7e5d6-28c9-40b8-f217-18c4a7b52d48"
      },
      "source": [
        "dummy_feature_matrix = np.array([[1.,2.,3.], [1.,-1.,-1]])\n",
        "dummy_coefficients = np.array([1., 3., -1.])\n",
        "\n",
        "correct_scores      = np.array( [ 1.*1. + 2.*3. + 3.*(-1.),          1.*1. + (-1.)*3. + (-1.)*(-1.) ] )\n",
        "correct_predictions = np.array( [ 1./(1+np.exp(-correct_scores[0])), 1./(1+np.exp(-correct_scores[1])) ] )\n",
        "\n",
        "print('The following outputs must match ')\n",
        "print('------------------------------------------------')\n",
        "print('correct_predictions           =', correct_predictions)\n",
        "print('output of predict_probability =', predict_probability(dummy_feature_matrix, dummy_coefficients))"
      ],
      "execution_count": null,
      "outputs": [
        {
          "output_type": "stream",
          "text": [
            "The following outputs must match \n",
            "------------------------------------------------\n",
            "correct_predictions           = [0.98201379 0.26894142]\n",
            "output of predict_probability = [0.98201379 0.26894142]\n"
          ],
          "name": "stdout"
        }
      ]
    },
    {
      "cell_type": "markdown",
      "metadata": {
        "id": "UopvGOWjpOek"
      },
      "source": [
        "## Compute derivative of log likelihood with respect to a single coefficient\n",
        "\n",
        "Recall from lecture:\n",
        "$$\n",
        "\\frac{\\partial\\ell}{\\partial w_j} = \\sum_{i=1}^N h_j(\\mathbf{x}_i)\\left(\\mathbf{1}[y_i = +1] - P(y_i = +1 | \\mathbf{x}_i, \\mathbf{w})\\right)\n",
        "$$\n",
        "\n",
        "We will now write a function that computes the derivative of log likelihood with respect to a single coefficient $w_j$. The function accepts two arguments:\n",
        "* `errors` vector containing $\\mathbf{1}[y_i = +1] - P(y_i = +1 | \\mathbf{x}_i, \\mathbf{w})$ for all $i$.\n",
        "* `feature` vector containing $h_j(\\mathbf{x}_i)$  for all $i$. \n",
        "\n",
        "Complete the following code block:"
      ]
    },
    {
      "cell_type": "code",
      "metadata": {
        "id": "rPikOHO5pOep"
      },
      "source": [
        "def feature_derivative(errors, feature):     \n",
        "    # Compute the dot product of errors and feature\n",
        "    derivative = np.dot(errors, feature)\n",
        "    \n",
        "    # Return the derivative\n",
        "    return derivative"
      ],
      "execution_count": null,
      "outputs": []
    },
    {
      "cell_type": "markdown",
      "metadata": {
        "id": "hAFWVvN5pOe-"
      },
      "source": [
        "In the main lecture, our focus was on the likelihood.  In the advanced optional video, however, we introduced a transformation of this likelihood---called the log likelihood---that simplifies the derivation of the gradient and is more numerically stable.  Due to its numerical stability, we will use the log likelihood instead of the likelihood to assess the algorithm.\n",
        "\n",
        "The log likelihood is computed using the following formula (see the advanced optional video if you are curious about the derivation of this equation):\n",
        "\n",
        "$$\\ell\\ell(\\mathbf{w}) = \\sum_{i=1}^N \\Big( (\\mathbf{1}[y_i = +1] - 1)\\mathbf{w}^T h(\\mathbf{x}_i) - \\ln\\left(1 + \\exp(-\\mathbf{w}^T h(\\mathbf{x}_i))\\right) \\Big) $$\n",
        "\n",
        "We provide a function to compute the log likelihood for the entire dataset. "
      ]
    },
    {
      "cell_type": "code",
      "metadata": {
        "id": "8Y7pJ-vppOfB"
      },
      "source": [
        "def compute_log_likelihood(feature_matrix, sentiment, coefficients):\n",
        "    indicator = (sentiment==+1)\n",
        "    scores = np.dot(feature_matrix, coefficients)\n",
        "    logexp = np.log(1. + np.exp(-scores))\n",
        "    \n",
        "    # Simple check to prevent overflow\n",
        "    mask = np.isinf(logexp)\n",
        "    logexp[mask] = -scores[mask]\n",
        "    \n",
        "    lp = np.sum((indicator-1)*scores - logexp)\n",
        "    return lp"
      ],
      "execution_count": null,
      "outputs": []
    },
    {
      "cell_type": "markdown",
      "metadata": {
        "id": "14BWpqGCpOfO"
      },
      "source": [
        "**Checkpoint**\n",
        "\n",
        "Just to make sure we are on the same page, run the following code block and check that the outputs match."
      ]
    },
    {
      "cell_type": "code",
      "metadata": {
        "id": "hCsjucCGpOfR",
        "colab": {
          "base_uri": "https://localhost:8080/",
          "height": 90
        },
        "outputId": "17237224-8879-4ca2-ced6-6237396b883d"
      },
      "source": [
        "dummy_feature_matrix = np.array([[1.,2.,3.], [1.,-1.,-1]])\n",
        "dummy_coefficients = np.array([1., 3., -1.])\n",
        "dummy_sentiment = np.array([-1, 1])\n",
        "\n",
        "correct_indicators  = np.array( [ -1==+1,                                       1==+1 ] )\n",
        "correct_scores      = np.array( [ 1.*1. + 2.*3. + 3.*(-1.),                     1.*1. + (-1.)*3. + (-1.)*(-1.) ] )\n",
        "correct_first_term  = np.array( [ (correct_indicators[0]-1)*correct_scores[0],  (correct_indicators[1]-1)*correct_scores[1] ] )\n",
        "correct_second_term = np.array( [ np.log(1. + np.exp(-correct_scores[0])),      np.log(1. + np.exp(-correct_scores[1])) ] )\n",
        "\n",
        "correct_ll          =      sum( [ correct_first_term[0]-correct_second_term[0], correct_first_term[1]-correct_second_term[1] ] ) \n",
        "\n",
        "print('The following outputs must match ')\n",
        "print('------------------------------------------------')\n",
        "print('correct_log_likelihood           =', correct_ll)\n",
        "print('output of compute_log_likelihood =', compute_log_likelihood(dummy_feature_matrix, dummy_sentiment, dummy_coefficients))"
      ],
      "execution_count": null,
      "outputs": [
        {
          "output_type": "stream",
          "text": [
            "The following outputs must match \n",
            "------------------------------------------------\n",
            "correct_log_likelihood           = -5.331411615436032\n",
            "output of compute_log_likelihood = -5.331411615436032\n"
          ],
          "name": "stdout"
        }
      ]
    },
    {
      "cell_type": "markdown",
      "metadata": {
        "id": "szjwJf5rpOfk"
      },
      "source": [
        "## Taking gradient steps"
      ]
    },
    {
      "cell_type": "markdown",
      "metadata": {
        "id": "HV4-og_LpOfn"
      },
      "source": [
        "Now we are ready to implement our own logistic regression. All we have to do is to write a gradient ascent function that takes gradient steps towards the optimum. \n",
        "\n",
        "Complete the following function to solve the logistic regression model using gradient ascent:"
      ]
    },
    {
      "cell_type": "code",
      "metadata": {
        "id": "dvkhLeWopOfy"
      },
      "source": [
        "from math import sqrt\n",
        "\n",
        "def logistic_regression(feature_matrix, sentiment, initial_coefficients, step_size, max_iter):\n",
        "    coefficients = np.array(initial_coefficients) # make sure it's a numpy array\n",
        "    for itr in range(max_iter):\n",
        "\n",
        "        # Predict P(y_i = +1|x_i,w) using your predict_probability() function\n",
        "        # YOUR CODE HERE\n",
        "        predictions = predict_probability(feature_matrix,coefficients)\n",
        "        \n",
        "        # Compute indicator value for (y_i = +1)\n",
        "        indicator = (sentiment==+1)\n",
        "        \n",
        "        # Compute the errors as indicator - predictions\n",
        "        errors = indicator - predictions\n",
        "        for j in range(len(coefficients)): # loop over each coefficient\n",
        "            \n",
        "            # Recall that feature_matrix[:,j] is the feature column associated with coefficients[j].\n",
        "            # Compute the derivative for coefficients[j]. Save it in a variable called derivative\n",
        "            derivative = feature_derivative(errors, feature_matrix[:, j])\n",
        "            \n",
        "            # add the step size times the derivative to the current coefficient\n",
        "            coefficients[j] += step_size * derivative\n",
        "        \n",
        "        # Checking whether log likelihood is increasing\n",
        "        if itr <= 15 or (itr <= 100 and itr % 10 == 0) or (itr <= 1000 and itr % 100 == 0) \\\n",
        "        or (itr <= 10000 and itr % 1000 == 0) or itr % 10000 == 0:\n",
        "            lp = compute_log_likelihood(feature_matrix, sentiment, coefficients)\n",
        "            print('iteration %*d: log likelihood of observed labels = %.8f' % \\\n",
        "                (int(np.ceil(np.log10(max_iter))), itr, lp))\n",
        "    return coefficients"
      ],
      "execution_count": null,
      "outputs": []
    },
    {
      "cell_type": "markdown",
      "metadata": {
        "id": "9GuhhdVVpOgB"
      },
      "source": [
        "Now, let us run the logistic regression solver."
      ]
    },
    {
      "cell_type": "code",
      "metadata": {
        "id": "F6DgKwK_pOgD",
        "colab": {
          "base_uri": "https://localhost:8080/",
          "height": 513
        },
        "outputId": "abb6b4a9-e048-49a5-c37b-799ec16a717d"
      },
      "source": [
        "coefficients = logistic_regression(feature_matrix, sentiment, initial_coefficients=np.zeros(194),\n",
        "                                   step_size=1e-7, max_iter=301)"
      ],
      "execution_count": null,
      "outputs": [
        {
          "output_type": "stream",
          "text": [
            "iteration   0: log likelihood of observed labels = -36780.91768478\n",
            "iteration   1: log likelihood of observed labels = -36775.13434712\n",
            "iteration   2: log likelihood of observed labels = -36769.35713564\n",
            "iteration   3: log likelihood of observed labels = -36763.58603240\n",
            "iteration   4: log likelihood of observed labels = -36757.82101962\n",
            "iteration   5: log likelihood of observed labels = -36752.06207964\n",
            "iteration   6: log likelihood of observed labels = -36746.30919497\n",
            "iteration   7: log likelihood of observed labels = -36740.56234821\n",
            "iteration   8: log likelihood of observed labels = -36734.82152213\n",
            "iteration   9: log likelihood of observed labels = -36729.08669961\n",
            "iteration  10: log likelihood of observed labels = -36723.35786366\n",
            "iteration  11: log likelihood of observed labels = -36717.63499744\n",
            "iteration  12: log likelihood of observed labels = -36711.91808422\n",
            "iteration  13: log likelihood of observed labels = -36706.20710739\n",
            "iteration  14: log likelihood of observed labels = -36700.50205049\n",
            "iteration  15: log likelihood of observed labels = -36694.80289716\n",
            "iteration  20: log likelihood of observed labels = -36666.39512033\n",
            "iteration  30: log likelihood of observed labels = -36610.01327118\n",
            "iteration  40: log likelihood of observed labels = -36554.19728365\n",
            "iteration  50: log likelihood of observed labels = -36498.93316099\n",
            "iteration  60: log likelihood of observed labels = -36444.20783914\n",
            "iteration  70: log likelihood of observed labels = -36390.00909449\n",
            "iteration  80: log likelihood of observed labels = -36336.32546144\n",
            "iteration  90: log likelihood of observed labels = -36283.14615871\n",
            "iteration 100: log likelihood of observed labels = -36230.46102347\n",
            "iteration 200: log likelihood of observed labels = -35728.89418769\n",
            "iteration 300: log likelihood of observed labels = -35268.51212683\n"
          ],
          "name": "stdout"
        }
      ]
    },
    {
      "cell_type": "markdown",
      "metadata": {
        "id": "oyq-qriNpOgT"
      },
      "source": [
        "**Quiz Question:** As each iteration of gradient ascent passes, does the log likelihood increase or decrease?"
      ]
    },
    {
      "cell_type": "markdown",
      "metadata": {
        "id": "XcusS4kSpOgX"
      },
      "source": [
        "## Predicting sentiments"
      ]
    },
    {
      "cell_type": "markdown",
      "metadata": {
        "id": "iJKl2fWnpOgb"
      },
      "source": [
        "Recall from lecture that class predictions for a data point $\\mathbf{x}$ can be computed from the coefficients $\\mathbf{w}$ using the following formula:\n",
        "$$\n",
        "\\hat{y}_i = \n",
        "\\left\\{\n",
        "\\begin{array}{ll}\n",
        "      +1 & \\mathbf{x}_i^T\\mathbf{w} > 0 \\\\\n",
        "      -1 & \\mathbf{x}_i^T\\mathbf{w} \\leq 0 \\\\\n",
        "\\end{array} \n",
        "\\right.\n",
        "$$\n",
        "\n",
        "Now, we will write some code to compute class predictions. We will do this in two steps:\n",
        "* **Step 1**: First compute the **scores** using **feature_matrix** and **coefficients** using a dot product.\n",
        "* **Step 2**: Using the formula above, compute the class predictions from the scores.\n",
        "\n",
        "Step 1 can be implemented as follows:"
      ]
    },
    {
      "cell_type": "code",
      "metadata": {
        "id": "_ZPLJXqBpOgf"
      },
      "source": [
        "# Compute the scores as a dot product between feature_matrix and coefficients.\n",
        "scores = np.dot(feature_matrix, coefficients)"
      ],
      "execution_count": null,
      "outputs": []
    },
    {
      "cell_type": "markdown",
      "metadata": {
        "id": "wMEECnL0pOgw"
      },
      "source": [
        "Now, complete the following code block for **Step 2** to compute the class predictions using the **scores** obtained above:"
      ]
    },
    {
      "cell_type": "code",
      "metadata": {
        "id": "MsMGTpaTpOg2",
        "colab": {
          "base_uri": "https://localhost:8080/",
          "height": 35
        },
        "outputId": "46ecb538-6d7b-4908-d1d8-8ecd64e662cc"
      },
      "source": [
        "class_predictions = np.array(turicreate.SArray(scores).apply(lambda x: 1 if x> 0 else -1))\n",
        "print(class_predictions)"
      ],
      "execution_count": null,
      "outputs": [
        {
          "output_type": "stream",
          "text": [
            "[ 1 -1  1 ... -1  1 -1]\n"
          ],
          "name": "stdout"
        }
      ]
    },
    {
      "cell_type": "markdown",
      "metadata": {
        "id": "o-VPzyyBpOhE"
      },
      "source": [
        "**Quiz Question:** How many reviews were predicted to have positive sentiment?"
      ]
    },
    {
      "cell_type": "code",
      "metadata": {
        "id": "MlzL_ucUpOhG",
        "colab": {
          "base_uri": "https://localhost:8080/",
          "height": 35
        },
        "outputId": "756deea9-d299-46f3-d48e-ebd542c77c27"
      },
      "source": [
        "unique, counts = np.unique(class_predictions, return_counts=True)\n",
        "print(unique, counts)"
      ],
      "execution_count": null,
      "outputs": [
        {
          "output_type": "stream",
          "text": [
            "[-1  1] [27946 25126]\n"
          ],
          "name": "stdout"
        }
      ]
    },
    {
      "cell_type": "markdown",
      "metadata": {
        "id": "jh-qAW6TpOhU"
      },
      "source": [
        "## Measuring accuracy\n",
        "\n",
        "We will now measure the classification accuracy of the model. Recall from the lecture that the classification accuracy can be computed as follows:\n",
        "\n",
        "$$\n",
        "\\mbox{accuracy} = \\frac{\\mbox{# correctly classified data points}}{\\mbox{# total data points}}\n",
        "$$\n",
        "\n",
        "Complete the following code block to compute the accuracy of the model."
      ]
    },
    {
      "cell_type": "code",
      "metadata": {
        "id": "MKbT1XD-pOhV",
        "colab": {
          "base_uri": "https://localhost:8080/",
          "height": 127
        },
        "outputId": "b2ccfb4f-fa63-46a4-a51c-de796b6ebb78"
      },
      "source": [
        "num_mistakes = (class_predictions != sentiment).sum()\n",
        "accuracy = (len(products) - num_mistakes)/len(products)\n",
        "print(\"-----------------------------------------------------\")\n",
        "print('# Reviews   correctly classified =', len(products) - num_mistakes)\n",
        "print('# Reviews incorrectly classified =', num_mistakes)\n",
        "print('# Reviews total                  =', len(products))\n",
        "print(\"-----------------------------------------------------\")\n",
        "print('Accuracy = %.2f' % accuracy)"
      ],
      "execution_count": null,
      "outputs": [
        {
          "output_type": "stream",
          "text": [
            "-----------------------------------------------------\n",
            "# Reviews   correctly classified = 39903\n",
            "# Reviews incorrectly classified = 13169\n",
            "# Reviews total                  = 53072\n",
            "-----------------------------------------------------\n",
            "Accuracy = 0.75\n"
          ],
          "name": "stdout"
        }
      ]
    },
    {
      "cell_type": "markdown",
      "metadata": {
        "id": "bC9PUE7MpOhg"
      },
      "source": [
        "**Quiz Question**: What is the accuracy of the model on predictions made above? (round to 2 digits of accuracy)"
      ]
    },
    {
      "cell_type": "markdown",
      "metadata": {
        "id": "ECxsagpbpOhh"
      },
      "source": [
        "## Which words contribute most to positive & negative sentiments?"
      ]
    },
    {
      "cell_type": "markdown",
      "metadata": {
        "id": "Gr2lG0NMpOhn"
      },
      "source": [
        "Recall that in Module 2 assignment, we were able to compute the \"**most positive words**\". These are words that correspond most strongly with positive reviews. In order to do this, we will first do the following:\n",
        "* Treat each coefficient as a tuple, i.e. (**word**, **coefficient_value**).\n",
        "* Sort all the (**word**, **coefficient_value**) tuples by **coefficient_value** in descending order."
      ]
    },
    {
      "cell_type": "code",
      "metadata": {
        "scrolled": true,
        "id": "_mGQC69ypOhs"
      },
      "source": [
        "coefficients = list(coefficients[1:]) # exclude intercept\n",
        "word_coefficient_tuples = [(word, coefficient) for word, coefficient in zip(important_words, coefficients)]\n",
        "word_coefficient_tuples = sorted(word_coefficient_tuples, key=lambda x:x[1], reverse=True)"
      ],
      "execution_count": null,
      "outputs": []
    },
    {
      "cell_type": "markdown",
      "metadata": {
        "id": "23k9zgBXpOh8"
      },
      "source": [
        "Now, **word_coefficient_tuples** contains a sorted list of (**word**, **coefficient_value**) tuples. The first 10 elements in this list correspond to the words that are most positive."
      ]
    },
    {
      "cell_type": "markdown",
      "metadata": {
        "id": "paqRLe2DpOh-"
      },
      "source": [
        "### Ten \"most positive\" words\n",
        "\n",
        "Now, we compute the 10 words that have the most positive coefficient values. These words are associated with positive sentiment."
      ]
    },
    {
      "cell_type": "code",
      "metadata": {
        "id": "aeNQJxcapOiC",
        "colab": {
          "base_uri": "https://localhost:8080/",
          "height": 201
        },
        "outputId": "6af5d940-d7e8-4339-a91b-40b843145763"
      },
      "source": [
        "word_coefficient_tuples[:10]"
      ],
      "execution_count": null,
      "outputs": [
        {
          "output_type": "execute_result",
          "data": {
            "text/plain": [
              "[('great', 0.0665460841704577),\n",
              " ('love', 0.06589076292212327),\n",
              " ('easy', 0.0647945868025784),\n",
              " ('little', 0.04543562630842137),\n",
              " ('loves', 0.04497640139490604),\n",
              " ('well', 0.030135001092107084),\n",
              " ('perfect', 0.02973993710496846),\n",
              " ('old', 0.020077541034775385),\n",
              " ('nice', 0.018408707995268992),\n",
              " ('daughter', 0.017703199905701694)]"
            ]
          },
          "metadata": {
            "tags": []
          },
          "execution_count": 66
        }
      ]
    },
    {
      "cell_type": "markdown",
      "metadata": {
        "id": "QDaxUK-4pOiL"
      },
      "source": [
        "**Quiz Question:** Which word is **not** present in the top 10 \"most positive\" words?\n",
        "\n",
        "- love\n",
        "- easy\n",
        "- great\n",
        "- perfect\n",
        "- cheap"
      ]
    },
    {
      "cell_type": "markdown",
      "metadata": {
        "id": "-SzAvRQfpOiN"
      },
      "source": [
        "### Ten \"most negative\" words\n",
        "\n",
        "Next, we repeat this exercise on the 10 most negative words.  That is, we compute the 10 words that have the most negative coefficient values. These words are associated with negative sentiment."
      ]
    },
    {
      "cell_type": "code",
      "metadata": {
        "id": "qkYMV9jIpOiP",
        "colab": {
          "base_uri": "https://localhost:8080/",
          "height": 201
        },
        "outputId": "369b8263-24d6-4b7d-f559-570d14f4d7f2"
      },
      "source": [
        "word_coefficient_tuples[-10:]"
      ],
      "execution_count": null,
      "outputs": [
        {
          "output_type": "execute_result",
          "data": {
            "text/plain": [
              "[('monitor', -0.024482100545891717),\n",
              " ('return', -0.026592778462247283),\n",
              " ('back', -0.027742697230661334),\n",
              " ('get', -0.02871155298019258),\n",
              " ('disappointed', -0.028978976142317068),\n",
              " ('even', -0.030051249236035804),\n",
              " ('work', -0.03306951529475273),\n",
              " ('money', -0.038982037286487116),\n",
              " ('product', -0.041511033392108904),\n",
              " ('would', -0.05386014844520314)]"
            ]
          },
          "metadata": {
            "tags": []
          },
          "execution_count": 67
        }
      ]
    },
    {
      "cell_type": "markdown",
      "metadata": {
        "id": "OIbJ9haKpOia"
      },
      "source": [
        "**Quiz Question:** Which word is **not** present in the top 10 \"most negative\" words?\n",
        "\n",
        "- need\n",
        "- work\n",
        "- disappointed\n",
        "- even\n",
        "- return"
      ]
    },
    {
      "cell_type": "code",
      "metadata": {
        "id": "3ZuwVva3pOid"
      },
      "source": [
        ""
      ],
      "execution_count": null,
      "outputs": []
    }
  ]
}