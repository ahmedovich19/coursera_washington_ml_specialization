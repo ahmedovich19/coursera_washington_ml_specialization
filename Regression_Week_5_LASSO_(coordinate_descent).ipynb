{
  "nbformat": 4,
  "nbformat_minor": 0,
  "metadata": {
    "kernelspec": {
      "name": "python3",
      "display_name": "Python 3"
    },
    "colab": {
      "name": "Regression Week 5: LASSO (coordinate descent).ipynb",
      "provenance": [],
      "collapsed_sections": []
    }
  },
  "cells": [
    {
      "cell_type": "code",
      "metadata": {
        "id": "WU46BUm7Gqdm",
        "colab": {
          "base_uri": "https://localhost:8080/",
          "height": 1000
        },
        "outputId": "b81a416c-3af0-4514-da60-eded2efef5cb"
      },
      "source": [
        "!pip install turicreate\n",
        "!pip install numpy"
      ],
      "execution_count": null,
      "outputs": [
        {
          "output_type": "stream",
          "text": [
            "Collecting turicreate\n",
            "\u001b[?25l  Downloading https://files.pythonhosted.org/packages/4a/7b/97b192ace93d4230bb992aacae19df8165dd00ca48f99c8c2b9947845c60/turicreate-6.2-cp36-cp36m-manylinux1_x86_64.whl (91.8MB)\n",
            "\u001b[K     |████████████████████████████████| 91.8MB 83kB/s \n",
            "\u001b[?25hRequirement already satisfied: decorator>=4.0.9 in /usr/local/lib/python3.6/dist-packages (from turicreate) (4.4.2)\n",
            "Requirement already satisfied: requests>=2.9.1 in /usr/local/lib/python3.6/dist-packages (from turicreate) (2.21.0)\n",
            "Requirement already satisfied: pandas>=0.23.2 in /usr/local/lib/python3.6/dist-packages (from turicreate) (1.0.3)\n",
            "Requirement already satisfied: prettytable==0.7.2 in /usr/local/lib/python3.6/dist-packages (from turicreate) (0.7.2)\n",
            "Collecting tensorflow<=2.0.1,>=2.0.0\n",
            "\u001b[?25l  Downloading https://files.pythonhosted.org/packages/43/16/b07e3f7a4a024b47918f7018967eb984b0c542458a6141d8c48515aa81d4/tensorflow-2.0.1-cp36-cp36m-manylinux2010_x86_64.whl (86.3MB)\n",
            "\u001b[K     |████████████████████████████████| 86.3MB 57kB/s \n",
            "\u001b[?25hRequirement already satisfied: numpy in /usr/local/lib/python3.6/dist-packages (from turicreate) (1.18.2)\n",
            "Collecting resampy==0.2.1\n",
            "\u001b[?25l  Downloading https://files.pythonhosted.org/packages/14/b6/66a06d85474190b50aee1a6c09cdc95bb405ac47338b27e9b21409da1760/resampy-0.2.1.tar.gz (322kB)\n",
            "\u001b[K     |████████████████████████████████| 327kB 45.3MB/s \n",
            "\u001b[?25hRequirement already satisfied: scipy>=1.1.0 in /usr/local/lib/python3.6/dist-packages (from turicreate) (1.4.1)\n",
            "Requirement already satisfied: pillow>=5.2.0 in /usr/local/lib/python3.6/dist-packages (from turicreate) (7.0.0)\n",
            "Collecting coremltools==3.3\n",
            "\u001b[?25l  Downloading https://files.pythonhosted.org/packages/77/19/611916d1ef326d38857d93af5ba184f6ad7491642e0fa4f9082e7d82f034/coremltools-3.3-cp36-none-manylinux1_x86_64.whl (3.4MB)\n",
            "\u001b[K     |████████████████████████████████| 3.4MB 41.3MB/s \n",
            "\u001b[?25hRequirement already satisfied: six>=1.10.0 in /usr/local/lib/python3.6/dist-packages (from turicreate) (1.12.0)\n",
            "Requirement already satisfied: certifi>=2017.4.17 in /usr/local/lib/python3.6/dist-packages (from requests>=2.9.1->turicreate) (2020.4.5.1)\n",
            "Requirement already satisfied: urllib3<1.25,>=1.21.1 in /usr/local/lib/python3.6/dist-packages (from requests>=2.9.1->turicreate) (1.24.3)\n",
            "Requirement already satisfied: chardet<3.1.0,>=3.0.2 in /usr/local/lib/python3.6/dist-packages (from requests>=2.9.1->turicreate) (3.0.4)\n",
            "Requirement already satisfied: idna<2.9,>=2.5 in /usr/local/lib/python3.6/dist-packages (from requests>=2.9.1->turicreate) (2.8)\n",
            "Requirement already satisfied: python-dateutil>=2.6.1 in /usr/local/lib/python3.6/dist-packages (from pandas>=0.23.2->turicreate) (2.8.1)\n",
            "Requirement already satisfied: pytz>=2017.2 in /usr/local/lib/python3.6/dist-packages (from pandas>=0.23.2->turicreate) (2018.9)\n",
            "Requirement already satisfied: absl-py>=0.7.0 in /usr/local/lib/python3.6/dist-packages (from tensorflow<=2.0.1,>=2.0.0->turicreate) (0.9.0)\n",
            "Requirement already satisfied: opt-einsum>=2.3.2 in /usr/local/lib/python3.6/dist-packages (from tensorflow<=2.0.1,>=2.0.0->turicreate) (3.2.0)\n",
            "Collecting gast==0.2.2\n",
            "  Downloading https://files.pythonhosted.org/packages/4e/35/11749bf99b2d4e3cceb4d55ca22590b0d7c2c62b9de38ac4a4a7f4687421/gast-0.2.2.tar.gz\n",
            "Requirement already satisfied: protobuf>=3.6.1 in /usr/local/lib/python3.6/dist-packages (from tensorflow<=2.0.1,>=2.0.0->turicreate) (3.10.0)\n",
            "Requirement already satisfied: termcolor>=1.1.0 in /usr/local/lib/python3.6/dist-packages (from tensorflow<=2.0.1,>=2.0.0->turicreate) (1.1.0)\n",
            "Collecting tensorflow-estimator<2.1.0,>=2.0.0\n",
            "\u001b[?25l  Downloading https://files.pythonhosted.org/packages/fc/08/8b927337b7019c374719145d1dceba21a8bb909b93b1ad6f8fb7d22c1ca1/tensorflow_estimator-2.0.1-py2.py3-none-any.whl (449kB)\n",
            "\u001b[K     |████████████████████████████████| 450kB 29.2MB/s \n",
            "\u001b[?25hRequirement already satisfied: wheel>=0.26; python_version >= \"3\" in /usr/local/lib/python3.6/dist-packages (from tensorflow<=2.0.1,>=2.0.0->turicreate) (0.34.2)\n",
            "Collecting tensorboard<2.1.0,>=2.0.0\n",
            "\u001b[?25l  Downloading https://files.pythonhosted.org/packages/76/54/99b9d5d52d5cb732f099baaaf7740403e83fe6b0cedde940fabd2b13d75a/tensorboard-2.0.2-py3-none-any.whl (3.8MB)\n",
            "\u001b[K     |████████████████████████████████| 3.8MB 42.2MB/s \n",
            "\u001b[?25hRequirement already satisfied: keras-preprocessing>=1.0.5 in /usr/local/lib/python3.6/dist-packages (from tensorflow<=2.0.1,>=2.0.0->turicreate) (1.1.0)\n",
            "Requirement already satisfied: keras-applications>=1.0.8 in /usr/local/lib/python3.6/dist-packages (from tensorflow<=2.0.1,>=2.0.0->turicreate) (1.0.8)\n",
            "Requirement already satisfied: google-pasta>=0.1.6 in /usr/local/lib/python3.6/dist-packages (from tensorflow<=2.0.1,>=2.0.0->turicreate) (0.2.0)\n",
            "Requirement already satisfied: grpcio>=1.8.6 in /usr/local/lib/python3.6/dist-packages (from tensorflow<=2.0.1,>=2.0.0->turicreate) (1.28.1)\n",
            "Requirement already satisfied: astor>=0.6.0 in /usr/local/lib/python3.6/dist-packages (from tensorflow<=2.0.1,>=2.0.0->turicreate) (0.8.1)\n",
            "Requirement already satisfied: wrapt>=1.11.1 in /usr/local/lib/python3.6/dist-packages (from tensorflow<=2.0.1,>=2.0.0->turicreate) (1.12.1)\n",
            "Requirement already satisfied: numba>=0.32 in /usr/local/lib/python3.6/dist-packages (from resampy==0.2.1->turicreate) (0.48.0)\n",
            "Requirement already satisfied: setuptools in /usr/local/lib/python3.6/dist-packages (from protobuf>=3.6.1->tensorflow<=2.0.1,>=2.0.0->turicreate) (46.1.3)\n",
            "Requirement already satisfied: markdown>=2.6.8 in /usr/local/lib/python3.6/dist-packages (from tensorboard<2.1.0,>=2.0.0->tensorflow<=2.0.1,>=2.0.0->turicreate) (3.2.1)\n",
            "Requirement already satisfied: werkzeug>=0.11.15 in /usr/local/lib/python3.6/dist-packages (from tensorboard<2.1.0,>=2.0.0->tensorflow<=2.0.1,>=2.0.0->turicreate) (1.0.1)\n",
            "Requirement already satisfied: google-auth<2,>=1.6.3 in /usr/local/lib/python3.6/dist-packages (from tensorboard<2.1.0,>=2.0.0->tensorflow<=2.0.1,>=2.0.0->turicreate) (1.7.2)\n",
            "Requirement already satisfied: google-auth-oauthlib<0.5,>=0.4.1 in /usr/local/lib/python3.6/dist-packages (from tensorboard<2.1.0,>=2.0.0->tensorflow<=2.0.1,>=2.0.0->turicreate) (0.4.1)\n",
            "Requirement already satisfied: h5py in /usr/local/lib/python3.6/dist-packages (from keras-applications>=1.0.8->tensorflow<=2.0.1,>=2.0.0->turicreate) (2.10.0)\n",
            "Requirement already satisfied: llvmlite<0.32.0,>=0.31.0dev0 in /usr/local/lib/python3.6/dist-packages (from numba>=0.32->resampy==0.2.1->turicreate) (0.31.0)\n",
            "Requirement already satisfied: pyasn1-modules>=0.2.1 in /usr/local/lib/python3.6/dist-packages (from google-auth<2,>=1.6.3->tensorboard<2.1.0,>=2.0.0->tensorflow<=2.0.1,>=2.0.0->turicreate) (0.2.8)\n",
            "Requirement already satisfied: rsa<4.1,>=3.1.4 in /usr/local/lib/python3.6/dist-packages (from google-auth<2,>=1.6.3->tensorboard<2.1.0,>=2.0.0->tensorflow<=2.0.1,>=2.0.0->turicreate) (4.0)\n",
            "Requirement already satisfied: cachetools<3.2,>=2.0.0 in /usr/local/lib/python3.6/dist-packages (from google-auth<2,>=1.6.3->tensorboard<2.1.0,>=2.0.0->tensorflow<=2.0.1,>=2.0.0->turicreate) (3.1.1)\n",
            "Requirement already satisfied: requests-oauthlib>=0.7.0 in /usr/local/lib/python3.6/dist-packages (from google-auth-oauthlib<0.5,>=0.4.1->tensorboard<2.1.0,>=2.0.0->tensorflow<=2.0.1,>=2.0.0->turicreate) (1.3.0)\n",
            "Requirement already satisfied: pyasn1<0.5.0,>=0.4.6 in /usr/local/lib/python3.6/dist-packages (from pyasn1-modules>=0.2.1->google-auth<2,>=1.6.3->tensorboard<2.1.0,>=2.0.0->tensorflow<=2.0.1,>=2.0.0->turicreate) (0.4.8)\n",
            "Requirement already satisfied: oauthlib>=3.0.0 in /usr/local/lib/python3.6/dist-packages (from requests-oauthlib>=0.7.0->google-auth-oauthlib<0.5,>=0.4.1->tensorboard<2.1.0,>=2.0.0->tensorflow<=2.0.1,>=2.0.0->turicreate) (3.1.0)\n",
            "Building wheels for collected packages: resampy, gast\n",
            "  Building wheel for resampy (setup.py) ... \u001b[?25l\u001b[?25hdone\n",
            "  Created wheel for resampy: filename=resampy-0.2.1-cp36-none-any.whl size=320850 sha256=dd869b54a8cf88a2627eaa9298a0b690fe7b4de0f6e9ce7a3eaa0d7fe5b876d7\n",
            "  Stored in directory: /root/.cache/pip/wheels/ff/4f/ed/2e6c676c23efe5394bb40ade50662e90eb46e29b48324c5f9b\n",
            "  Building wheel for gast (setup.py) ... \u001b[?25l\u001b[?25hdone\n",
            "  Created wheel for gast: filename=gast-0.2.2-cp36-none-any.whl size=7540 sha256=af77af6ce308a02ee51f18ee9bf3f912d9b7226879aac5413ca0d3779b3625b4\n",
            "  Stored in directory: /root/.cache/pip/wheels/5c/2e/7e/a1d4d4fcebe6c381f378ce7743a3ced3699feb89bcfbdadadd\n",
            "Successfully built resampy gast\n",
            "Installing collected packages: gast, tensorflow-estimator, tensorboard, tensorflow, resampy, coremltools, turicreate\n",
            "  Found existing installation: gast 0.3.3\n",
            "    Uninstalling gast-0.3.3:\n",
            "      Successfully uninstalled gast-0.3.3\n",
            "  Found existing installation: tensorflow-estimator 2.2.0rc0\n",
            "    Uninstalling tensorflow-estimator-2.2.0rc0:\n",
            "      Successfully uninstalled tensorflow-estimator-2.2.0rc0\n",
            "  Found existing installation: tensorboard 2.2.0\n",
            "    Uninstalling tensorboard-2.2.0:\n",
            "      Successfully uninstalled tensorboard-2.2.0\n",
            "  Found existing installation: tensorflow 2.2.0rc3\n",
            "    Uninstalling tensorflow-2.2.0rc3:\n",
            "      Successfully uninstalled tensorflow-2.2.0rc3\n",
            "  Found existing installation: resampy 0.2.2\n",
            "    Uninstalling resampy-0.2.2:\n",
            "      Successfully uninstalled resampy-0.2.2\n",
            "Successfully installed coremltools-3.3 gast-0.2.2 resampy-0.2.1 tensorboard-2.0.2 tensorflow-2.0.1 tensorflow-estimator-2.0.1 turicreate-6.2\n",
            "Requirement already satisfied: numpy in /usr/local/lib/python3.6/dist-packages (1.18.2)\n"
          ],
          "name": "stdout"
        }
      ]
    },
    {
      "cell_type": "code",
      "metadata": {
        "id": "jzoTkD5UHxEq",
        "colab": {
          "base_uri": "https://localhost:8080/",
          "height": 35
        },
        "outputId": "489048ae-c554-472c-c9ed-c92ef0936c75"
      },
      "source": [
        "import os.path\n",
        "from google.colab import drive\n",
        "\n",
        "# mount Google Drive to /content/drive/My Drive/\n",
        "if os.path.isdir(\"/content/drive/My Drive/\"):\n",
        "  print(\"Google Drive already mounted\")\n",
        "else:\n",
        "  drive.mount('/content/drive')"
      ],
      "execution_count": null,
      "outputs": [
        {
          "output_type": "stream",
          "text": [
            "Google Drive already mounted\n"
          ],
          "name": "stdout"
        }
      ]
    },
    {
      "cell_type": "code",
      "metadata": {
        "id": "8WAchTDKIHr0",
        "colab": {
          "base_uri": "https://localhost:8080/",
          "height": 72
        },
        "outputId": "73fab540-7396-4f98-997d-430721f5b91f"
      },
      "source": [
        "import os.path\n",
        "import urllib.request\n",
        "import tarfile\n",
        "import zipfile\n",
        "import gzip\n",
        "from shutil import copy\n",
        "\n",
        "def fetch_remote_datafile(filename, remote_url):\n",
        "  if os.path.isfile(\"./\" + filename):\n",
        "    print(\"already have \" + filename + \" in workspace\")\n",
        "    return\n",
        "  print(\"fetching \" + filename + \" from \" + remote_url + \"...\")\n",
        "  urllib.request.urlretrieve(remote_url, \"./\" + filename)\n",
        "\n",
        "def cache_datafile_in_drive(filename):\n",
        "  if os.path.isfile(\"./\" + filename) == False:\n",
        "    print(\"cannot cache \" + filename + \", it is not in workspace\")\n",
        "    return\n",
        "  \n",
        "  data_drive_path = \"/content/drive/My Drive/Colab Notebooks/\"\n",
        "  if os.path.isfile(data_drive_path + filename):\n",
        "    print(\"\" + filename + \" has already been stored in Google Drive\")\n",
        "  else:\n",
        "    print(\"copying \" + filename + \" to \" + data_drive_path)\n",
        "    copy(\"./\" + filename, data_drive_path)\n",
        "  \n",
        "\n",
        "def load_datafile_from_drive(filename, remote_url=None):\n",
        "  data_drive_path = \"/content/drive/My Drive/Colab Notebooks/\"\n",
        "  if os.path.isfile(\"./\" + filename):\n",
        "    print(\"already have \" + filename + \" in workspace\")\n",
        "  elif os.path.isfile(data_drive_path + filename):\n",
        "    print(\"have \" + filename + \" in Google Drive, copying to workspace...\")\n",
        "    copy(data_drive_path + filename, \".\")\n",
        "  elif remote_url != None:\n",
        "    fetch_remote_datafile(filename, remote_url)\n",
        "  else:\n",
        "    print(\"error: you need to manually download \" + filename + \" and put in drive\")\n",
        "    \n",
        "def extract_datafile(filename, expected_extract_artifact=None):\n",
        "  if expected_extract_artifact != None and (os.path.isfile(expected_extract_artifact) or os.path.isdir(expected_extract_artifact)):\n",
        "    \n",
        "    print(\"files in \" + filename + \" have already been extracted\")\n",
        "  elif os.path.isfile(\"./\" + filename) == False:\n",
        "    print(\"error: cannot extract \" + filename + \", it is not in the workspace\")\n",
        "  else:\n",
        "    extension = filename.split('.')[-1]\n",
        "    if extension == \"zip\":\n",
        "      print(\"extracting \" + filename + \"...\")\n",
        "      data_file = open(filename, \"rb\")\n",
        "      z = zipfile.ZipFile(data_file)\n",
        "      for name in z.namelist():\n",
        "          print(\"    extracting file\", name)\n",
        "          z.extract(name, \"./\")\n",
        "      data_file.close()\n",
        "    elif extension == \"gz\":\n",
        "      print(\"extracting \" + filename + \"...\")\n",
        "      if filename.split('.')[-2] == \"tar\":\n",
        "        tar = tarfile.open(filename)\n",
        "        tar.extractall()\n",
        "        tar.close()\n",
        "      else:\n",
        "        data_zip_file = gzip.GzipFile(filename, 'rb')\n",
        "        data = data_zip_file.read()\n",
        "        data_zip_file.close()\n",
        "        extracted_file = open('.'.join(filename.split('.')[0:-1]), 'wb')\n",
        "        extracted_file.write(data)\n",
        "        extracted_file.close()\n",
        "    elif extension == \"tar\":\n",
        "      print(\"extracting \" + filename + \"...\")\n",
        "      tar = tarfile.open(filename)\n",
        "      tar.extractall()\n",
        "      tar.close()\n",
        "    elif extension == \"csv\":\n",
        "      print(\"do not need to extract csv\")\n",
        "    else:\n",
        "      print(\"cannot extract \" + filename)\n",
        "      \n",
        "def load_cache_extract_datafile(filename, expected_extract_artifact=None, remote_url=None):\n",
        "  load_datafile_from_drive(filename, remote_url)\n",
        "  extract_datafile(filename, expected_extract_artifact)\n",
        "  cache_datafile_in_drive(filename)\n",
        "  \n",
        "load_cache_extract_datafile(\"home_data.sframe.zip\", \"home_data.sframe\", \"https://d3c33hcgiwev3.cloudfront.net/00FsKOIoEemELQpo9cj5Ig_579152614f2b4a399ac90a939360749e_home_data.sframe.zip?Expires=1583366400&Signature=UOIwIuuT~0UT9V6UveCG9Vanabu3gWSsrwu63-U4VNNkahfkATwOcJ7ipdH9pEbfHYP8SW8UZFozRcBDk95Ygv4jN9tDl2dI3q8~AXs2K9GEGyhdsER~aTY4n8K6Vqhmba9KvFRyAIiFQF7jPy2K6LFGBHEBswUY0INusC-twkE_&Key-Pair-Id=APKAJLTNE6QMUY6HBC5A\")\n"
      ],
      "execution_count": null,
      "outputs": [
        {
          "output_type": "stream",
          "text": [
            "already have home_data.sframe.zip in workspace\n",
            "files in home_data.sframe.zip have already been extracted\n",
            "home_data.sframe.zip has already been stored in Google Drive\n"
          ],
          "name": "stdout"
        }
      ]
    },
    {
      "cell_type": "markdown",
      "metadata": {
        "id": "V-iAUAt1FJ1S"
      },
      "source": [
        "# Regression Week 5: LASSO (coordinate descent)"
      ]
    },
    {
      "cell_type": "markdown",
      "metadata": {
        "id": "z58-YWY6FJ2m"
      },
      "source": [
        "In this notebook, you will implement your very own LASSO solver via coordinate descent. You will:\n",
        "* Write a function to normalize features\n",
        "* Implement coordinate descent for LASSO\n",
        "* Explore effects of L1 penalty"
      ]
    },
    {
      "cell_type": "markdown",
      "metadata": {
        "id": "JlrNEfzZFJ4J"
      },
      "source": [
        "# Fire up Turi Create"
      ]
    },
    {
      "cell_type": "code",
      "metadata": {
        "id": "ONvcTRPMFJ4T"
      },
      "source": [
        "import turicreate\n",
        "import numpy as np # note this allows us to refer to numpy as np instead "
      ],
      "execution_count": null,
      "outputs": []
    },
    {
      "cell_type": "markdown",
      "metadata": {
        "id": "czlpkYJuFJ-i"
      },
      "source": [
        "# Load in house sales data\n",
        "\n",
        "Dataset is from house sales in King County, the region where the city of Seattle, WA is located."
      ]
    },
    {
      "cell_type": "code",
      "metadata": {
        "id": "8VhFph08FJ-n"
      },
      "source": [
        "sales = turicreate.SFrame('home_data.sframe/')\n",
        "# In the dataset, 'floors' was defined with type string, \n",
        "# so we'll convert them to float and then to int, before using it below\n",
        "sales['floors'] = sales['floors'].astype(float).astype(int)"
      ],
      "execution_count": null,
      "outputs": []
    },
    {
      "cell_type": "markdown",
      "metadata": {
        "id": "Kt2BLVGQFKD1"
      },
      "source": [
        "If we want to do any \"feature engineering\" like creating new features or adjusting existing ones we should do this directly using the SFrames as seen in the first notebook of Week 2. For this notebook, however, we will work with the existing features."
      ]
    },
    {
      "cell_type": "markdown",
      "metadata": {
        "id": "vuOuqbCVFKEB"
      },
      "source": [
        "# Import useful functions from previous notebook"
      ]
    },
    {
      "cell_type": "markdown",
      "metadata": {
        "id": "3wneAjYgFKEH"
      },
      "source": [
        "As in Week 2, we convert the SFrame into a 2D Numpy array. Copy and paste `get_num_data()` from the second notebook of Week 2."
      ]
    },
    {
      "cell_type": "code",
      "metadata": {
        "id": "__F3bq7bFKFY"
      },
      "source": [
        "def get_numpy_data(data_sframe, features, output):\n",
        "    data_sframe['constant'] = 1 # this is how you add a constant column to an SFrame\n",
        "    # add the column 'constant' to the front of the features list so that we can extract it along with the others:\n",
        "    features = ['constant'] + features # this is how you combine two lists\n",
        "    # select the columns of data_SFrame given by the features list into the SFrame features_sframe (now including constant):\n",
        "    features_sframe = data_sframe[features]\n",
        "    # the following line will convert the features_SFrame into a numpy matrix:\n",
        "    feature_matrix = features_sframe.to_numpy()\n",
        "    # assign the column of data_sframe associated with the output to the SArray output_sarray\n",
        "    output_sarray = data_sframe[output]\n",
        "    # the following will convert the SArray into a numpy array by first converting it to a list\n",
        "    output_array = output_sarray.to_numpy()\n",
        "    return(feature_matrix, output_array)"
      ],
      "execution_count": null,
      "outputs": []
    },
    {
      "cell_type": "markdown",
      "metadata": {
        "id": "5QWomTAPFKIQ"
      },
      "source": [
        "Also, copy and paste the `predict_output()` function to compute the predictions for an entire matrix of features given the matrix and the weights:"
      ]
    },
    {
      "cell_type": "code",
      "metadata": {
        "id": "IJBhO9_eFKTF"
      },
      "source": [
        "def predict_output(feature_matrix, weights):\n",
        "    # assume feature_matrix is a numpy matrix containing the features as columns and weights is a corresponding numpy array\n",
        "    # create the predictions vector by using np.dot()\n",
        "    predictions = np.dot(feature_matrix, weights)\n",
        "    return(predictions)"
      ],
      "execution_count": null,
      "outputs": []
    },
    {
      "cell_type": "markdown",
      "metadata": {
        "id": "4wNEEtXZFKTo"
      },
      "source": [
        "# Normalize features\n",
        "In the house dataset, features vary wildly in their relative magnitude: `sqft_living` is very large overall compared to `bedrooms`, for instance. As a result, weight for `sqft_living` would be much smaller than weight for `bedrooms`. This is problematic because \"small\" weights are dropped first as `l1_penalty` goes up. \n",
        "\n",
        "To give equal considerations for all features, we need to **normalize features** as discussed in the lectures: we divide each feature by its 2-norm so that the transformed feature has norm 1.\n",
        "\n",
        "Let's see how we can do this normalization easily with Numpy: let us first consider a small matrix."
      ]
    },
    {
      "cell_type": "code",
      "metadata": {
        "id": "ae6FlLPcFKTr",
        "colab": {
          "base_uri": "https://localhost:8080/",
          "height": 54
        },
        "outputId": "af3317c2-38ed-4195-e2ee-2d6414fa7d35"
      },
      "source": [
        "X = np.array([[3.,5.,8.],[4.,12.,15.]])\n",
        "print(X)"
      ],
      "execution_count": null,
      "outputs": [
        {
          "output_type": "stream",
          "text": [
            "[[ 3.  5.  8.]\n",
            " [ 4. 12. 15.]]\n"
          ],
          "name": "stdout"
        }
      ]
    },
    {
      "cell_type": "markdown",
      "metadata": {
        "id": "heV1XKjIFKUB"
      },
      "source": [
        "Numpy provides a shorthand for computing 2-norms of each column:"
      ]
    },
    {
      "cell_type": "code",
      "metadata": {
        "id": "nMbMRNDvFKUI",
        "colab": {
          "base_uri": "https://localhost:8080/",
          "height": 35
        },
        "outputId": "1f00dcb2-cbb2-4d1d-9401-d0ba32b10ea2"
      },
      "source": [
        "norms = np.linalg.norm(X, axis=0) # gives [norm(X[:,0]), norm(X[:,1]), norm(X[:,2])]\n",
        "print(norms)"
      ],
      "execution_count": null,
      "outputs": [
        {
          "output_type": "stream",
          "text": [
            "[ 5. 13. 17.]\n"
          ],
          "name": "stdout"
        }
      ]
    },
    {
      "cell_type": "markdown",
      "metadata": {
        "id": "eXC1spraFKUn"
      },
      "source": [
        "To normalize, apply element-wise division:"
      ]
    },
    {
      "cell_type": "code",
      "metadata": {
        "id": "c_f1_Z5aFKUs",
        "colab": {
          "base_uri": "https://localhost:8080/",
          "height": 54
        },
        "outputId": "d9cf0c80-23e1-42ca-d012-c01caf996bed"
      },
      "source": [
        "print(X / norms) # gives [X[:,0]/norm(X[:,0]), X[:,1]/norm(X[:,1]), X[:,2]/norm(X[:,2])]"
      ],
      "execution_count": null,
      "outputs": [
        {
          "output_type": "stream",
          "text": [
            "[[0.6        0.38461538 0.47058824]\n",
            " [0.8        0.92307692 0.88235294]]\n"
          ],
          "name": "stdout"
        }
      ]
    },
    {
      "cell_type": "markdown",
      "metadata": {
        "id": "2nhhrn6eFKVA"
      },
      "source": [
        "Using the shorthand we just covered, write a short function called `normalize_features(feature_matrix)`, which normalizes columns of a given feature matrix. The function should return a pair `(normalized_features, norms)`, where the second item contains the norms of original features. As discussed in the lectures, we will use these norms to normalize the test data in the same way as we normalized the training data. "
      ]
    },
    {
      "cell_type": "code",
      "metadata": {
        "id": "CGVNRqiUFKVC"
      },
      "source": [
        "def normalize_features(feature_matrix):\n",
        "  norms = np.linalg.norm(feature_matrix, axis=0)\n",
        "  normalized_features = feature_matrix / norms\n",
        "  return(normalized_features, norms)"
      ],
      "execution_count": null,
      "outputs": []
    },
    {
      "cell_type": "markdown",
      "metadata": {
        "id": "Y3b1gbLKFKVU"
      },
      "source": [
        "To test the function, run the following:"
      ]
    },
    {
      "cell_type": "code",
      "metadata": {
        "id": "LTCT69CNFKVb",
        "colab": {
          "base_uri": "https://localhost:8080/",
          "height": 72
        },
        "outputId": "060edff0-fd67-4dc8-c976-72e07a9af98a"
      },
      "source": [
        "features, norms = normalize_features(np.array([[3.,6.,9.],[4.,8.,12.]]))\n",
        "print(features)\n",
        "# should print\n",
        "# [[ 0.6  0.6  0.6]\n",
        "#  [ 0.8  0.8  0.8]]\n",
        "print(norms)\n",
        "# should print\n",
        "# [5.  10.  15.]"
      ],
      "execution_count": null,
      "outputs": [
        {
          "output_type": "stream",
          "text": [
            "[[0.6 0.6 0.6]\n",
            " [0.8 0.8 0.8]]\n",
            "[ 5. 10. 15.]\n"
          ],
          "name": "stdout"
        }
      ]
    },
    {
      "cell_type": "markdown",
      "metadata": {
        "id": "qKZnkFSKFKVv"
      },
      "source": [
        "# Implementing Coordinate Descent with normalized features"
      ]
    },
    {
      "cell_type": "markdown",
      "metadata": {
        "id": "_A4yoauQFKVy"
      },
      "source": [
        "We seek to obtain a sparse set of weights by minimizing the LASSO cost function\n",
        "```\n",
        "SUM[ (prediction - output)^2 ] + lambda*( |w[1]| + ... + |w[k]|).\n",
        "```\n",
        "(By convention, we do not include `w[0]` in the L1 penalty term. We never want to push the intercept to zero.)\n",
        "\n",
        "The absolute value sign makes the cost function non-differentiable, so simple gradient descent is not viable (you would need to implement a method called subgradient descent). Instead, we will use **coordinate descent**: at each iteration, we will fix all weights but weight `i` and find the value of weight `i` that minimizes the objective. That is, we look for\n",
        "```\n",
        "argmin_{w[i]} [ SUM[ (prediction - output)^2 ] + lambda*( |w[1]| + ... + |w[k]|) ]\n",
        "```\n",
        "where all weights other than `w[i]` are held to be constant. We will optimize one `w[i]` at a time, circling through the weights multiple times.  \n",
        "  1. Pick a coordinate `i`\n",
        "  2. Compute `w[i]` that minimizes the cost function `SUM[ (prediction - output)^2 ] + lambda*( |w[1]| + ... + |w[k]|)`\n",
        "  3. Repeat Steps 1 and 2 for all coordinates, multiple times"
      ]
    },
    {
      "cell_type": "markdown",
      "metadata": {
        "id": "qv5vD3UWFKV1"
      },
      "source": [
        "For this notebook, we use **cyclical coordinate descent with normalized features**, where we cycle through coordinates 0 to (d-1) in order, and assume the features were normalized as discussed above. The formula for optimizing each coordinate is as follows:\n",
        "```\n",
        "       ┌ (ro[i] + lambda/2)     if ro[i] < -lambda/2\n",
        "w[i] = ├ 0                      if -lambda/2 <= ro[i] <= lambda/2\n",
        "       └ (ro[i] - lambda/2)     if ro[i] > lambda/2\n",
        "```\n",
        "where\n",
        "```\n",
        "ro[i] = SUM[ [feature_i]*(output - prediction + w[i]*[feature_i]) ].\n",
        "```\n",
        "\n",
        "Note that we do not regularize the weight of the constant feature (intercept) `w[0]`, so, for this weight, the update is simply:\n",
        "```\n",
        "w[0] = ro[i]\n",
        "```"
      ]
    },
    {
      "cell_type": "markdown",
      "metadata": {
        "id": "sPMjq1_HFKV5"
      },
      "source": [
        "## Effect of L1 penalty"
      ]
    },
    {
      "cell_type": "markdown",
      "metadata": {
        "id": "3Eof65t7FKV9"
      },
      "source": [
        "Let us consider a simple model with 2 features:"
      ]
    },
    {
      "cell_type": "code",
      "metadata": {
        "id": "Fw7_HZ28FKV_"
      },
      "source": [
        "simple_features = ['sqft_living', 'bedrooms']\n",
        "my_output = 'price'\n",
        "(simple_feature_matrix, output) = get_numpy_data(sales, simple_features, my_output)"
      ],
      "execution_count": null,
      "outputs": []
    },
    {
      "cell_type": "markdown",
      "metadata": {
        "id": "Op6dCk1jFKWO"
      },
      "source": [
        "Don't forget to normalize features:"
      ]
    },
    {
      "cell_type": "code",
      "metadata": {
        "id": "tCalsdiXFKWQ"
      },
      "source": [
        "simple_feature_matrix, norms = normalize_features(simple_feature_matrix)"
      ],
      "execution_count": null,
      "outputs": []
    },
    {
      "cell_type": "markdown",
      "metadata": {
        "id": "XBJ2BXjZFKWk"
      },
      "source": [
        "We assign some random set of initial weights and inspect the values of `ro[i]`:"
      ]
    },
    {
      "cell_type": "code",
      "metadata": {
        "id": "z0kI24DiFKWn"
      },
      "source": [
        "weights = np.array([1., 4., 1.])"
      ],
      "execution_count": null,
      "outputs": []
    },
    {
      "cell_type": "markdown",
      "metadata": {
        "id": "TYbZYXK_FKW0"
      },
      "source": [
        "Use `predict_output()` to make predictions on this data."
      ]
    },
    {
      "cell_type": "code",
      "metadata": {
        "id": "H719gMyoFKXA"
      },
      "source": [
        "prediction = predict_output(simple_feature_matrix, weights)"
      ],
      "execution_count": null,
      "outputs": []
    },
    {
      "cell_type": "markdown",
      "metadata": {
        "id": "99DoKch7FKXQ"
      },
      "source": [
        "Compute the values of `ro[i]` for each feature in this simple model, using the formula given above, using the formula:\n",
        "```\n",
        "ro[i] = SUM[ [feature_i]*(output - prediction + w[i]*[feature_i]) ]\n",
        "```\n",
        "\n",
        "*Hint: You can get a Numpy vector for feature_i using:*\n",
        "```\n",
        "simple_feature_matrix[:,i]\n",
        "```"
      ]
    },
    {
      "cell_type": "code",
      "metadata": {
        "id": "tmT0LJY-FKXU",
        "colab": {
          "base_uri": "https://localhost:8080/",
          "height": 35
        },
        "outputId": "e3b9db41-e536-4941-a315-72e5327409ee"
      },
      "source": [
        "ro = {}\n",
        "rows, columns = (simple_feature_matrix.shape)\n",
        "for i in range(columns):\n",
        "  ro[i] = sum(simple_feature_matrix[:,i]*(output - prediction + weights[i]*simple_feature_matrix[:,i]))\n",
        "print(ro)"
      ],
      "execution_count": null,
      "outputs": [
        {
          "output_type": "stream",
          "text": [
            "{0: 79400300.03492953, 1: 87939470.7729908, 2: 80966698.67596525}\n"
          ],
          "name": "stdout"
        }
      ]
    },
    {
      "cell_type": "markdown",
      "metadata": {
        "id": "bM7X3qI-FKXg"
      },
      "source": [
        "***QUIZ QUESTION***\n",
        "\n",
        "Recall that, whenever `ro[i]` falls between `-l1_penalty/2` and `l1_penalty/2`, the corresponding weight `w[i]` is sent to zero. Now suppose we were to take one step of coordinate descent on either feature 1 or feature 2. What range of values of `l1_penalty` **would not** set `w[1]` zero, but **would** set `w[2]` to zero, if we were to take a step in that coordinate? "
      ]
    },
    {
      "cell_type": "code",
      "metadata": {
        "id": "aSs_34lcFKXi",
        "colab": {
          "base_uri": "https://localhost:8080/",
          "height": 35
        },
        "outputId": "3128c7a6-d574-4ad0-abec-f8045d2c51d4"
      },
      "source": [
        "print( 2*ro[2], ' < l1_penalty < ', 2*ro[1]) "
      ],
      "execution_count": null,
      "outputs": [
        {
          "output_type": "stream",
          "text": [
            "161933397.3519305  < l1_penalty <  175878941.5459816\n"
          ],
          "name": "stdout"
        }
      ]
    },
    {
      "cell_type": "markdown",
      "metadata": {
        "id": "xcJ_1YLRFKXw"
      },
      "source": [
        "***QUIZ QUESTION***\n",
        "\n",
        "What range of values of `l1_penalty` would set **both** `w[1]` and `w[2]` to zero, if we were to take a step in that coordinate? "
      ]
    },
    {
      "cell_type": "code",
      "metadata": {
        "id": "G5t0w-e1FKXz",
        "colab": {
          "base_uri": "https://localhost:8080/",
          "height": 35
        },
        "outputId": "c8fed084-927e-4818-94b7-c37f5feeb87e"
      },
      "source": [
        "print( 2*ro[2], ' < ', 2*ro[1] ,' < l1_penalty') "
      ],
      "execution_count": null,
      "outputs": [
        {
          "output_type": "stream",
          "text": [
            "161933397.3519305  <  175878941.5459816  < l1_penalty\n"
          ],
          "name": "stdout"
        }
      ]
    },
    {
      "cell_type": "markdown",
      "metadata": {
        "id": "tjVCy13oFKX8"
      },
      "source": [
        "So we can say that `ro[i]` quantifies the significance of the i-th feature: the larger `ro[i]` is, the more likely it is for the i-th feature to be retained."
      ]
    },
    {
      "cell_type": "markdown",
      "metadata": {
        "id": "2sJUD-cHFKYC"
      },
      "source": [
        "## Single Coordinate Descent Step"
      ]
    },
    {
      "cell_type": "markdown",
      "metadata": {
        "id": "n9ZGTGVtFKYG"
      },
      "source": [
        "Using the formula above, implement coordinate descent that minimizes the cost function over a single feature i. Note that the intercept (weight 0) is not regularized. The function should accept feature matrix, output, current weights, l1 penalty, and index of feature to optimize over. The function should return new weight for feature i."
      ]
    },
    {
      "cell_type": "code",
      "metadata": {
        "id": "rVoF8xbZFKYI"
      },
      "source": [
        "def lasso_coordinate_descent_step(i, feature_matrix, output, weights, l1_penalty):\n",
        "    # compute prediction\n",
        "    prediction = predict_output(feature_matrix, weights)\n",
        "    # compute ro[i] = SUM[ [feature_i]*(output - prediction + weight[i]*[feature_i]) ]\n",
        "    ro_i = sum(feature_matrix[:,i]*(output - prediction + weights[i]*feature_matrix[:,i]))\n",
        "\n",
        "    if i == 0: # intercept -- do not regularize\n",
        "        new_weight_i = ro_i \n",
        "    elif ro_i < -l1_penalty/2.:\n",
        "        new_weight_i = ro_i + (l1_penalty/2.)\n",
        "    elif ro_i > l1_penalty/2.:\n",
        "        new_weight_i = ro_i - (l1_penalty/2.)\n",
        "    else:\n",
        "        new_weight_i = 0.\n",
        "    \n",
        "    return new_weight_i"
      ],
      "execution_count": null,
      "outputs": []
    },
    {
      "cell_type": "markdown",
      "metadata": {
        "id": "IrG7S3TWFKYX"
      },
      "source": [
        "To test the function, run the following cell:"
      ]
    },
    {
      "cell_type": "code",
      "metadata": {
        "id": "6FOTsjhIFKYZ",
        "colab": {
          "base_uri": "https://localhost:8080/",
          "height": 35
        },
        "outputId": "6c2d15d5-3d86-48de-e1c0-db761f5bccae"
      },
      "source": [
        "# should print 0.425558846691\n",
        "import math\n",
        "print(lasso_coordinate_descent_step(1, np.array([[3./math.sqrt(13),1./math.sqrt(10)],[2./math.sqrt(13),3./math.sqrt(10)]]), \n",
        "                                    np.array([1., 1.]), np.array([1., 4.]), 0.1))"
      ],
      "execution_count": null,
      "outputs": [
        {
          "output_type": "stream",
          "text": [
            "0.4255588466910251\n"
          ],
          "name": "stdout"
        }
      ]
    },
    {
      "cell_type": "markdown",
      "metadata": {
        "collapsed": true,
        "id": "-Pd83b_cFKYo"
      },
      "source": [
        "## Cyclical coordinate descent "
      ]
    },
    {
      "cell_type": "markdown",
      "metadata": {
        "id": "OMcWsvt4FKYr"
      },
      "source": [
        "Now that we have a function that optimizes the cost function over a single coordinate, let us implement cyclical coordinate descent where we optimize coordinates 0, 1, ..., (d-1) in order and repeat.\n",
        "\n",
        "When do we know to stop? Each time we scan all the coordinates (features) once, we measure the change in weight for each coordinate. If no coordinate changes by more than a specified threshold, we stop."
      ]
    },
    {
      "cell_type": "markdown",
      "metadata": {
        "id": "yuDKwP8jFKYt"
      },
      "source": [
        "For each iteration:\n",
        "1. As you loop over features in order and perform coordinate descent, measure how much each coordinate changes.\n",
        "2. After the loop, if the maximum change across all coordinates is falls below the tolerance, stop. Otherwise, go back to step 1.\n",
        "\n",
        "Return weights\n",
        "\n",
        "**IMPORTANT: when computing a new weight for coordinate i, make sure to incorporate the new weights for coordinates 0, 1, ..., i-1. One good way is to update your weights variable in-place. See following pseudocode for illustration.**\n",
        "```\n",
        "for i in range(len(weights)):\n",
        "    old_weights_i = weights[i] # remember old value of weight[i], as it will be overwritten\n",
        "    # the following line uses new values for weight[0], weight[1], ..., weight[i-1]\n",
        "    #     and old values for weight[i], ..., weight[d-1]\n",
        "    weights[i] = lasso_coordinate_descent_step(i, feature_matrix, output, weights, l1_penalty)\n",
        "    \n",
        "    # use old_weights_i to compute change in coordinate\n",
        "    ...\n",
        "```"
      ]
    },
    {
      "cell_type": "code",
      "metadata": {
        "id": "aN5Kz9hRFKYy"
      },
      "source": [
        "def lasso_cyclical_coordinate_descent(feature_matrix, output, initial_weights, l1_penalty, tolerance):\n",
        "  difference_of_weigths = np.zeros(len(initial_weights))\n",
        "  converged = False\n",
        "  while not converged:\n",
        "    for i in range(len(initial_weights)):\n",
        "        old_weights_i = initial_weights[i]\n",
        "        initial_weights[i] = lasso_coordinate_descent_step(i, feature_matrix, output, initial_weights, l1_penalty)\n",
        "        difference_of_weigths[i] = np.abs(initial_weights[i] - old_weights_i)\n",
        "    if max(difference_of_weigths) < tolerance :\n",
        "        converged = True\n",
        "  return initial_weights"
      ],
      "execution_count": null,
      "outputs": []
    },
    {
      "cell_type": "markdown",
      "metadata": {
        "id": "qsilAOb1FKZG"
      },
      "source": [
        "Using the following parameters, learn the weights on the sales dataset. "
      ]
    },
    {
      "cell_type": "code",
      "metadata": {
        "id": "_ys44zusFKZI"
      },
      "source": [
        "simple_features = ['sqft_living', 'bedrooms']\n",
        "my_output = 'price'\n",
        "initial_weights = np.zeros(3)\n",
        "l1_penalty = 1e7\n",
        "tolerance = 1.0"
      ],
      "execution_count": null,
      "outputs": []
    },
    {
      "cell_type": "markdown",
      "metadata": {
        "id": "k6wGVAhXFKZc"
      },
      "source": [
        "First create a normalized version of the feature matrix, `normalized_simple_feature_matrix`."
      ]
    },
    {
      "cell_type": "code",
      "metadata": {
        "id": "IyBcR_TjFKZd"
      },
      "source": [
        "(simple_feature_matrix, output) = get_numpy_data(sales, simple_features, my_output)\n",
        "(normalized_simple_feature_matrix, simple_norms) = normalize_features(simple_feature_matrix) # normalize features"
      ],
      "execution_count": null,
      "outputs": []
    },
    {
      "cell_type": "markdown",
      "metadata": {
        "id": "Mec6BdKNFKaw"
      },
      "source": [
        "Then, run your implementation of LASSO coordinate descent:"
      ]
    },
    {
      "cell_type": "code",
      "metadata": {
        "id": "Zi6xkjO-FKbi"
      },
      "source": [
        "weights_g = lasso_cyclical_coordinate_descent(normalized_simple_feature_matrix, output,\n",
        "                                            initial_weights, l1_penalty, tolerance)"
      ],
      "execution_count": null,
      "outputs": []
    },
    {
      "cell_type": "code",
      "metadata": {
        "id": "rl51u9NzpcmI",
        "colab": {
          "base_uri": "https://localhost:8080/",
          "height": 35
        },
        "outputId": "3e91131b-b5bd-4641-ca7d-cf5c09614edd"
      },
      "source": [
        "print(weights_g)"
      ],
      "execution_count": null,
      "outputs": [
        {
          "output_type": "stream",
          "text": [
            "[21624998.36636352 63157246.78545319        0.        ]\n"
          ],
          "name": "stdout"
        }
      ]
    },
    {
      "cell_type": "code",
      "metadata": {
        "id": "iz74uc_SBRQN",
        "colab": {
          "base_uri": "https://localhost:8080/",
          "height": 35
        },
        "outputId": "ddf6cded-30c3-45c5-8257-85e38399f19b"
      },
      "source": [
        "prediction = predict_output(normalized_simple_feature_matrix, weights_g)\n",
        "RSS = sum(( prediction - output)**2)\n",
        "print('RSS',RSS)"
      ],
      "execution_count": null,
      "outputs": [
        {
          "output_type": "stream",
          "text": [
            "RSS 1630492481484499.5\n"
          ],
          "name": "stdout"
        }
      ]
    },
    {
      "cell_type": "markdown",
      "metadata": {
        "id": "cHj3iCjuFKby"
      },
      "source": [
        "***QUIZ QUESTIONS***\n",
        "1. What is the RSS of the learned model on the normalized dataset? (Hint: use the normalized feature matrix when you make predictions.)\n",
        "2. Which features had weight zero at convergence?"
      ]
    },
    {
      "cell_type": "markdown",
      "metadata": {
        "id": "kCXA90XWFKbz"
      },
      "source": [
        "# Evaluating LASSO fit with more features"
      ]
    },
    {
      "cell_type": "markdown",
      "metadata": {
        "id": "vBl5k9nLFKb1"
      },
      "source": [
        "Let us split the sales dataset into training and test sets."
      ]
    },
    {
      "cell_type": "code",
      "metadata": {
        "id": "pm5wG77UFKb2"
      },
      "source": [
        "train_data,test_data = sales.random_split(.8,seed=0)"
      ],
      "execution_count": null,
      "outputs": []
    },
    {
      "cell_type": "markdown",
      "metadata": {
        "id": "--skzeF2FKcE"
      },
      "source": [
        "Let us consider the following set of features."
      ]
    },
    {
      "cell_type": "code",
      "metadata": {
        "id": "YfN4EeqgFKcG"
      },
      "source": [
        "all_features = ['bedrooms',\n",
        "                'bathrooms',\n",
        "                'sqft_living',\n",
        "                'sqft_lot',\n",
        "                'floors',\n",
        "                'waterfront', \n",
        "                'view', \n",
        "                'condition', \n",
        "                'grade',\n",
        "                'sqft_above',\n",
        "                'sqft_basement',\n",
        "                'yr_built', \n",
        "                'yr_renovated']"
      ],
      "execution_count": null,
      "outputs": []
    },
    {
      "cell_type": "markdown",
      "metadata": {
        "id": "JROgImhuFKcP"
      },
      "source": [
        "First, create a normalized feature matrix from the TRAINING data with these features.  (Make you store the norms for the normalization, since we'll use them later)"
      ]
    },
    {
      "cell_type": "code",
      "metadata": {
        "id": "PyIlmpEtFKcS"
      },
      "source": [
        "(simple_feature_matrix, output) = get_numpy_data(train_data, all_features, my_output)\n",
        "(normalized_simple_feature_matrix, simple_norms) = normalize_features(simple_feature_matrix) # normalize features\n",
        "(test_feature_matrix, test_output) = get_numpy_data(test_data, all_features, 'price')"
      ],
      "execution_count": null,
      "outputs": []
    },
    {
      "cell_type": "markdown",
      "metadata": {
        "id": "NvzO44YTFKch"
      },
      "source": [
        "First, learn the weights with `l1_penalty=1e7`, on the training data. Initialize weights to all zeros, and set the `tolerance=1`.  Call resulting weights `weights1e7`, you will need them later."
      ]
    },
    {
      "cell_type": "code",
      "metadata": {
        "id": "PU16uIlBIHvl"
      },
      "source": [
        "initial_weights = np.zeros(len(all_features) + 1)\n",
        "l1_penalty_1e7= 1e7\n",
        "tolerance_1e7 = 1.0\n",
        "weights1e7 = lasso_cyclical_coordinate_descent(normalized_simple_feature_matrix, output,\n",
        "                                            initial_weights, l1_penalty_1e7, tolerance_1e7)"
      ],
      "execution_count": null,
      "outputs": []
    },
    {
      "cell_type": "code",
      "metadata": {
        "id": "mN1-LmI80mTM",
        "colab": {
          "base_uri": "https://localhost:8080/",
          "height": 90
        },
        "outputId": "6580021f-a23b-4c42-fd29-30a9c518f8f1"
      },
      "source": [
        "print(weights1e7)"
      ],
      "execution_count": null,
      "outputs": [
        {
          "output_type": "stream",
          "text": [
            "[24429600.60933346        0.                0.         48389174.35227959\n",
            "        0.                0.          3317511.16271979  7329961.98489638\n",
            "        0.                0.                0.                0.\n",
            "        0.                0.        ]\n"
          ],
          "name": "stdout"
        }
      ]
    },
    {
      "cell_type": "code",
      "metadata": {
        "id": "VZvzhda2Fm-S",
        "colab": {
          "base_uri": "https://localhost:8080/",
          "height": 35
        },
        "outputId": "4f730911-38ab-4c2a-81ae-60564539d76d"
      },
      "source": [
        "normalized_weights1e7 = (weights1e7) / (norms_new)\n",
        "print(normalized_weights1e7[3])"
      ],
      "execution_count": null,
      "outputs": [
        {
          "output_type": "stream",
          "text": [
            "161.31745624837794\n"
          ],
          "name": "stdout"
        }
      ]
    },
    {
      "cell_type": "code",
      "metadata": {
        "id": "2p6M1txaE5u4",
        "colab": {
          "base_uri": "https://localhost:8080/",
          "height": 35
        },
        "outputId": "5f5b7bbe-e48e-47fd-949d-e345cbe0d9fa"
      },
      "source": [
        "prediction =  predict_output(test_feature_matrix, normalized_weights1e7)\n",
        "RSS = np.dot(test_output-prediction, test_output-prediction)\n",
        "print('RSS for weights1e7 ', RSS)"
      ],
      "execution_count": null,
      "outputs": [
        {
          "output_type": "stream",
          "text": [
            "RSS for weights1e7  275962079909185.75\n"
          ],
          "name": "stdout"
        }
      ]
    },
    {
      "cell_type": "markdown",
      "metadata": {
        "id": "8Kw3JD9MFKc2"
      },
      "source": [
        "***QUIZ QUESTION***\n",
        "\n",
        "What features had non-zero weight in this case?"
      ]
    },
    {
      "cell_type": "markdown",
      "metadata": {
        "collapsed": true,
        "id": "Z120f09WFKc8"
      },
      "source": [
        "Next, learn the weights with `l1_penalty=1e8`, on the training data. Initialize weights to all zeros, and set the `tolerance=1`.  Call resulting weights `weights1e8`, you will need them later."
      ]
    },
    {
      "cell_type": "code",
      "metadata": {
        "id": "yAmEgS8qJ2K5"
      },
      "source": [
        "l1_penalty_1e8=1e8\n",
        "tolerance_1e8=1\n",
        "weights1e8 = lasso_cyclical_coordinate_descent(normalized_simple_feature_matrix, output,\n",
        "                                            initial_weights, l1_penalty_1e8, tolerance_1e8)"
      ],
      "execution_count": null,
      "outputs": []
    },
    {
      "cell_type": "code",
      "metadata": {
        "id": "NZzXFSsiFKdC",
        "colab": {
          "base_uri": "https://localhost:8080/",
          "height": 90
        },
        "outputId": "5effcdc7-c2a1-4124-c727-9a728819c4d5"
      },
      "source": [
        "print(weights1e8)"
      ],
      "execution_count": null,
      "outputs": [
        {
          "output_type": "stream",
          "text": [
            "[71114625.75280942        0.                0.                0.\n",
            "        0.                0.                0.                0.\n",
            "        0.                0.                0.                0.\n",
            "        0.                0.        ]\n"
          ],
          "name": "stdout"
        }
      ]
    },
    {
      "cell_type": "code",
      "metadata": {
        "id": "pnQ60nY3Ftur",
        "colab": {
          "base_uri": "https://localhost:8080/",
          "height": 35
        },
        "outputId": "7f67ae62-96bd-4b6f-c216-49e488b7887d"
      },
      "source": [
        "normalized_weights1e8 = weights1e8 / norms_new\n",
        "print(normalized_weights1e8[3])"
      ],
      "execution_count": null,
      "outputs": [
        {
          "output_type": "stream",
          "text": [
            "0.0\n"
          ],
          "name": "stdout"
        }
      ]
    },
    {
      "cell_type": "code",
      "metadata": {
        "id": "GMQelx-mFCIf",
        "colab": {
          "base_uri": "https://localhost:8080/",
          "height": 35
        },
        "outputId": "21c22193-18ea-4ce6-e63e-2a10f9ebd4ec"
      },
      "source": [
        "prediction_8 =  predict_output(test_feature_matrix, normalized_weights1e8)\n",
        "RSS_8 = np.dot(test_output-prediction_8, test_output-prediction_8)\n",
        "print('RSS for  weights1e8 ', RSS_8)"
      ],
      "execution_count": null,
      "outputs": [
        {
          "output_type": "stream",
          "text": [
            "RSS for  weights1e8  537166150034084.9\n"
          ],
          "name": "stdout"
        }
      ]
    },
    {
      "cell_type": "markdown",
      "metadata": {
        "id": "UR6TlJm_FKdK"
      },
      "source": [
        "***QUIZ QUESTION***\n",
        "\n",
        "What features had non-zero weight in this case?"
      ]
    },
    {
      "cell_type": "markdown",
      "metadata": {
        "id": "3v5emqasFKdP"
      },
      "source": [
        "Finally, learn the weights with `l1_penalty=1e4`, on the training data. Initialize weights to all zeros, and set the `tolerance=5e5`.  Call resulting weights `weights1e4`, you will need them later.  (This case will take quite a bit longer to converge than the others above.)"
      ]
    },
    {
      "cell_type": "code",
      "metadata": {
        "id": "FkJvMwFbKaKX"
      },
      "source": [
        "l1_penalty_1e4=1e4\n",
        "tolerance_5e5=5e5\n",
        "weights1e4 = lasso_cyclical_coordinate_descent(normalized_simple_feature_matrix, output,\n",
        "                                            initial_weights, l1_penalty_1e4, tolerance_5e5)"
      ],
      "execution_count": null,
      "outputs": []
    },
    {
      "cell_type": "code",
      "metadata": {
        "id": "Xpvo_1pdFKdQ",
        "colab": {
          "base_uri": "https://localhost:8080/",
          "height": 109
        },
        "outputId": "f74a0dd8-1894-4091-ae6c-bcba16378900"
      },
      "source": [
        "print(weights1e4)"
      ],
      "execution_count": null,
      "outputs": [
        {
          "output_type": "stream",
          "text": [
            "[ 77779073.91265067 -22884012.25023271  15348487.08089915\n",
            "  92166869.69883157  -2139328.08242772  -8818455.54409456\n",
            "   6494209.73310656   7065162.05053201   4119079.21006756\n",
            "  18436483.52618771 -14566678.54514396  -5528348.75179449\n",
            " -83591746.20730413   2784276.46012856]\n"
          ],
          "name": "stdout"
        }
      ]
    },
    {
      "cell_type": "code",
      "metadata": {
        "id": "m2TYLfTbF0GS",
        "colab": {
          "base_uri": "https://localhost:8080/",
          "height": 35
        },
        "outputId": "babff66b-76b2-4996-8ece-4f6b70a61b79"
      },
      "source": [
        "normalized_weights1e4 = weights1e4 / norms_new\n",
        "print(normalized_weights1e4[3])"
      ],
      "execution_count": null,
      "outputs": [
        {
          "output_type": "stream",
          "text": [
            "307.2613899536557\n"
          ],
          "name": "stdout"
        }
      ]
    },
    {
      "cell_type": "code",
      "metadata": {
        "id": "5VyS1xLgFSFX",
        "colab": {
          "base_uri": "https://localhost:8080/",
          "height": 35
        },
        "outputId": "66d5c94d-4856-4c8b-c277-191a62940a7e"
      },
      "source": [
        "prediction =  predict_output(test_feature_matrix, normalized_weights1e4)\n",
        "RSS = np.dot(test_output-prediction, test_output-prediction)\n",
        "print('RSS for weights1e4 ', RSS)"
      ],
      "execution_count": null,
      "outputs": [
        {
          "output_type": "stream",
          "text": [
            "RSS for weights1e4  227781004760225.0\n"
          ],
          "name": "stdout"
        }
      ]
    },
    {
      "cell_type": "markdown",
      "metadata": {
        "id": "tZC0jefhFKda"
      },
      "source": [
        "***QUIZ QUESTION***\n",
        "\n",
        "What features had non-zero weight in this case?"
      ]
    },
    {
      "cell_type": "markdown",
      "metadata": {
        "id": "DyqdinkaFKdg"
      },
      "source": [
        "## Rescaling learned weights"
      ]
    },
    {
      "cell_type": "markdown",
      "metadata": {
        "id": "DU9qZ9UEFKdi"
      },
      "source": [
        "Recall that we normalized our feature matrix, before learning the weights.  To use these weights on a test set, we must normalize the test data in the same way.\n",
        "\n",
        "Alternatively, we can rescale the learned weights to include the normalization, so we never have to worry about normalizing the test data: \n",
        "\n",
        "In this case, we must scale the resulting weights so that we can make predictions with *original* features:\n",
        " 1. Store the norms of the original features to a vector called `norms`:\n",
        "```\n",
        "features, norms = normalize_features(features)\n",
        "```\n",
        " 2. Run Lasso on the normalized features and obtain a `weights` vector\n",
        " 3. Compute the weights for the original features by performing element-wise division, i.e.\n",
        "```\n",
        "weights_normalized = weights / norms\n",
        "```\n",
        "Now, we can apply `weights_normalized` to the test data, without normalizing it!"
      ]
    },
    {
      "cell_type": "markdown",
      "metadata": {
        "id": "AeJBlv3xFKdk"
      },
      "source": [
        "Create a normalized version of each of the weights learned above. (`weights1e4`, `weights1e7`, `weights1e8`)."
      ]
    },
    {
      "cell_type": "markdown",
      "metadata": {
        "id": "B9g5AusxFKdz"
      },
      "source": [
        "To check your results, if you call `normalized_weights1e7` the normalized version of `weights1e7`, then:\n",
        "```\n",
        "print normalized_weights1e7[3]\n",
        "```\n",
        "should return 161.31745624837794."
      ]
    },
    {
      "cell_type": "markdown",
      "metadata": {
        "id": "gSPgx9aMFKd0"
      },
      "source": [
        "## Evaluating each of the learned models on the test data"
      ]
    },
    {
      "cell_type": "markdown",
      "metadata": {
        "id": "SSWg057WFKd3"
      },
      "source": [
        "Let's now evaluate the three models on the test data:"
      ]
    },
    {
      "cell_type": "markdown",
      "metadata": {
        "id": "AremX7_EFKeH"
      },
      "source": [
        "Compute the RSS of each of the three normalized weights on the (unnormalized) `test_feature_matrix`:"
      ]
    },
    {
      "cell_type": "markdown",
      "metadata": {
        "id": "Va8hgc_DFKey"
      },
      "source": [
        "***QUIZ QUESTION***\n",
        "\n",
        "Which model performed best on the test data?"
      ]
    }
  ]
}