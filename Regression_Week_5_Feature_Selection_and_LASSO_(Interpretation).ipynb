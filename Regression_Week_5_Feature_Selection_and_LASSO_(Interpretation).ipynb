{
  "nbformat": 4,
  "nbformat_minor": 0,
  "metadata": {
    "kernelspec": {
      "name": "python3",
      "display_name": "Python 3"
    },
    "colab": {
      "name": "Regression Week 5: Feature Selection and LASSO (Interpretation).ipynb",
      "provenance": [],
      "collapsed_sections": []
    }
  },
  "cells": [
    {
      "cell_type": "code",
      "metadata": {
        "id": "l_aORFxB9QIo",
        "colab": {
          "base_uri": "https://localhost:8080/",
          "height": 882
        },
        "outputId": "a32c9435-1d79-4afb-c821-a37f2867e55d"
      },
      "source": [
        "!pip install turicreate\n",
        "!pip install numpy"
      ],
      "execution_count": null,
      "outputs": [
        {
          "output_type": "stream",
          "text": [
            "Requirement already satisfied: turicreate in /usr/local/lib/python3.6/dist-packages (6.1)\n",
            "Requirement already satisfied: pandas>=0.23.2 in /usr/local/lib/python3.6/dist-packages (from turicreate) (0.25.3)\n",
            "Requirement already satisfied: coremltools==3.3 in /usr/local/lib/python3.6/dist-packages (from turicreate) (3.3)\n",
            "Requirement already satisfied: six>=1.10.0 in /usr/local/lib/python3.6/dist-packages (from turicreate) (1.12.0)\n",
            "Requirement already satisfied: resampy==0.2.1 in /usr/local/lib/python3.6/dist-packages (from turicreate) (0.2.1)\n",
            "Requirement already satisfied: decorator>=4.0.9 in /usr/local/lib/python3.6/dist-packages (from turicreate) (4.4.2)\n",
            "Requirement already satisfied: numpy in /usr/local/lib/python3.6/dist-packages (from turicreate) (1.18.2)\n",
            "Requirement already satisfied: pillow>=5.2.0 in /usr/local/lib/python3.6/dist-packages (from turicreate) (7.0.0)\n",
            "Requirement already satisfied: tensorflow>=2.0.0 in /usr/local/lib/python3.6/dist-packages (from turicreate) (2.2.0rc1)\n",
            "Requirement already satisfied: scipy>=1.1.0 in /usr/local/lib/python3.6/dist-packages (from turicreate) (1.4.1)\n",
            "Requirement already satisfied: prettytable==0.7.2 in /usr/local/lib/python3.6/dist-packages (from turicreate) (0.7.2)\n",
            "Requirement already satisfied: requests>=2.9.1 in /usr/local/lib/python3.6/dist-packages (from turicreate) (2.21.0)\n",
            "Requirement already satisfied: pytz>=2017.2 in /usr/local/lib/python3.6/dist-packages (from pandas>=0.23.2->turicreate) (2018.9)\n",
            "Requirement already satisfied: python-dateutil>=2.6.1 in /usr/local/lib/python3.6/dist-packages (from pandas>=0.23.2->turicreate) (2.8.1)\n",
            "Requirement already satisfied: protobuf>=3.1.0 in /usr/local/lib/python3.6/dist-packages (from coremltools==3.3->turicreate) (3.10.0)\n",
            "Requirement already satisfied: numba>=0.32 in /usr/local/lib/python3.6/dist-packages (from resampy==0.2.1->turicreate) (0.47.0)\n",
            "Requirement already satisfied: wheel>=0.26; python_version >= \"3\" in /usr/local/lib/python3.6/dist-packages (from tensorflow>=2.0.0->turicreate) (0.34.2)\n",
            "Requirement already satisfied: tensorboard<2.2.0,>=2.1.0 in /usr/local/lib/python3.6/dist-packages (from tensorflow>=2.0.0->turicreate) (2.1.1)\n",
            "Requirement already satisfied: keras-preprocessing>=1.1.0 in /usr/local/lib/python3.6/dist-packages (from tensorflow>=2.0.0->turicreate) (1.1.0)\n",
            "Requirement already satisfied: opt-einsum>=2.3.2 in /usr/local/lib/python3.6/dist-packages (from tensorflow>=2.0.0->turicreate) (3.2.0)\n",
            "Requirement already satisfied: google-pasta>=0.1.8 in /usr/local/lib/python3.6/dist-packages (from tensorflow>=2.0.0->turicreate) (0.2.0)\n",
            "Requirement already satisfied: gast==0.3.3 in /usr/local/lib/python3.6/dist-packages (from tensorflow>=2.0.0->turicreate) (0.3.3)\n",
            "Requirement already satisfied: h5py<2.11.0,>=2.10.0 in /usr/local/lib/python3.6/dist-packages (from tensorflow>=2.0.0->turicreate) (2.10.0)\n",
            "Requirement already satisfied: tensorflow-estimator<2.3.0,>=2.2.0rc0 in /usr/local/lib/python3.6/dist-packages (from tensorflow>=2.0.0->turicreate) (2.2.0rc0)\n",
            "Requirement already satisfied: absl-py>=0.7.0 in /usr/local/lib/python3.6/dist-packages (from tensorflow>=2.0.0->turicreate) (0.9.0)\n",
            "Requirement already satisfied: astunparse==1.6.3 in /usr/local/lib/python3.6/dist-packages (from tensorflow>=2.0.0->turicreate) (1.6.3)\n",
            "Requirement already satisfied: wrapt>=1.11.1 in /usr/local/lib/python3.6/dist-packages (from tensorflow>=2.0.0->turicreate) (1.12.1)\n",
            "Requirement already satisfied: termcolor>=1.1.0 in /usr/local/lib/python3.6/dist-packages (from tensorflow>=2.0.0->turicreate) (1.1.0)\n",
            "Requirement already satisfied: grpcio>=1.8.6 in /usr/local/lib/python3.6/dist-packages (from tensorflow>=2.0.0->turicreate) (1.27.2)\n",
            "Requirement already satisfied: urllib3<1.25,>=1.21.1 in /usr/local/lib/python3.6/dist-packages (from requests>=2.9.1->turicreate) (1.24.3)\n",
            "Requirement already satisfied: chardet<3.1.0,>=3.0.2 in /usr/local/lib/python3.6/dist-packages (from requests>=2.9.1->turicreate) (3.0.4)\n",
            "Requirement already satisfied: certifi>=2017.4.17 in /usr/local/lib/python3.6/dist-packages (from requests>=2.9.1->turicreate) (2019.11.28)\n",
            "Requirement already satisfied: idna<2.9,>=2.5 in /usr/local/lib/python3.6/dist-packages (from requests>=2.9.1->turicreate) (2.8)\n",
            "Requirement already satisfied: setuptools in /usr/local/lib/python3.6/dist-packages (from protobuf>=3.1.0->coremltools==3.3->turicreate) (46.0.0)\n",
            "Requirement already satisfied: llvmlite>=0.31.0dev0 in /usr/local/lib/python3.6/dist-packages (from numba>=0.32->resampy==0.2.1->turicreate) (0.31.0)\n",
            "Requirement already satisfied: google-auth-oauthlib<0.5,>=0.4.1 in /usr/local/lib/python3.6/dist-packages (from tensorboard<2.2.0,>=2.1.0->tensorflow>=2.0.0->turicreate) (0.4.1)\n",
            "Requirement already satisfied: markdown>=2.6.8 in /usr/local/lib/python3.6/dist-packages (from tensorboard<2.2.0,>=2.1.0->tensorflow>=2.0.0->turicreate) (3.2.1)\n",
            "Requirement already satisfied: werkzeug>=0.11.15 in /usr/local/lib/python3.6/dist-packages (from tensorboard<2.2.0,>=2.1.0->tensorflow>=2.0.0->turicreate) (1.0.0)\n",
            "Requirement already satisfied: google-auth<2,>=1.6.3 in /usr/local/lib/python3.6/dist-packages (from tensorboard<2.2.0,>=2.1.0->tensorflow>=2.0.0->turicreate) (1.7.2)\n",
            "Requirement already satisfied: requests-oauthlib>=0.7.0 in /usr/local/lib/python3.6/dist-packages (from google-auth-oauthlib<0.5,>=0.4.1->tensorboard<2.2.0,>=2.1.0->tensorflow>=2.0.0->turicreate) (1.3.0)\n",
            "Requirement already satisfied: cachetools<3.2,>=2.0.0 in /usr/local/lib/python3.6/dist-packages (from google-auth<2,>=1.6.3->tensorboard<2.2.0,>=2.1.0->tensorflow>=2.0.0->turicreate) (3.1.1)\n",
            "Requirement already satisfied: pyasn1-modules>=0.2.1 in /usr/local/lib/python3.6/dist-packages (from google-auth<2,>=1.6.3->tensorboard<2.2.0,>=2.1.0->tensorflow>=2.0.0->turicreate) (0.2.8)\n",
            "Requirement already satisfied: rsa<4.1,>=3.1.4 in /usr/local/lib/python3.6/dist-packages (from google-auth<2,>=1.6.3->tensorboard<2.2.0,>=2.1.0->tensorflow>=2.0.0->turicreate) (4.0)\n",
            "Requirement already satisfied: oauthlib>=3.0.0 in /usr/local/lib/python3.6/dist-packages (from requests-oauthlib>=0.7.0->google-auth-oauthlib<0.5,>=0.4.1->tensorboard<2.2.0,>=2.1.0->tensorflow>=2.0.0->turicreate) (3.1.0)\n",
            "Requirement already satisfied: pyasn1<0.5.0,>=0.4.6 in /usr/local/lib/python3.6/dist-packages (from pyasn1-modules>=0.2.1->google-auth<2,>=1.6.3->tensorboard<2.2.0,>=2.1.0->tensorflow>=2.0.0->turicreate) (0.4.8)\n",
            "Requirement already satisfied: numpy in /usr/local/lib/python3.6/dist-packages (1.18.2)\n"
          ],
          "name": "stdout"
        }
      ]
    },
    {
      "cell_type": "markdown",
      "metadata": {
        "id": "p3C5-6jZ9D_-"
      },
      "source": [
        "# Regression Week 5: Feature Selection and LASSO (Interpretation)"
      ]
    },
    {
      "cell_type": "markdown",
      "metadata": {
        "id": "3TASj4Ny9EAJ"
      },
      "source": [
        "In this notebook, you will use LASSO to select features, building on a pre-implemented solver for LASSO (using Turi Create, though you can use other solvers). You will:\n",
        "* Run LASSO with different L1 penalties.\n",
        "* Choose best L1 penalty using a validation set.\n",
        "* Choose best L1 penalty using a validation set, with additional constraint on the size of subset.\n",
        "\n",
        "In the second notebook, you will implement your own LASSO solver, using coordinate descent. "
      ]
    },
    {
      "cell_type": "markdown",
      "metadata": {
        "id": "AlL9AFrr9EAR"
      },
      "source": [
        "# Fire up Turi Create"
      ]
    },
    {
      "cell_type": "code",
      "metadata": {
        "id": "Fjgu_cCc9EAY"
      },
      "source": [
        "import turicreate\n",
        "import numpy as np"
      ],
      "execution_count": null,
      "outputs": []
    },
    {
      "cell_type": "code",
      "metadata": {
        "id": "h3ByIgZU-h1-",
        "colab": {
          "base_uri": "https://localhost:8080/",
          "height": 35
        },
        "outputId": "b330101e-9012-49f4-f7d6-4a376855e5af"
      },
      "source": [
        "import os.path\n",
        "from google.colab import drive\n",
        "\n",
        "# mount Google Drive to /content/drive/My Drive/\n",
        "if os.path.isdir(\"/content/drive/My Drive/\"):\n",
        "  print(\"Google Drive already mounted\")\n",
        "else:\n",
        "  drive.mount('/content/drive')"
      ],
      "execution_count": null,
      "outputs": [
        {
          "output_type": "stream",
          "text": [
            "Google Drive already mounted\n"
          ],
          "name": "stdout"
        }
      ]
    },
    {
      "cell_type": "code",
      "metadata": {
        "id": "LVCtwprg-1zX",
        "colab": {
          "base_uri": "https://localhost:8080/",
          "height": 72
        },
        "outputId": "16d82822-bbe7-4fb5-a4e0-6a631569be94"
      },
      "source": [
        "import os.path\n",
        "import urllib.request\n",
        "import tarfile\n",
        "import zipfile\n",
        "import gzip\n",
        "from shutil import copy\n",
        "\n",
        "def fetch_remote_datafile(filename, remote_url):\n",
        "  if os.path.isfile(\"./\" + filename):\n",
        "    print(\"already have \" + filename + \" in workspace\")\n",
        "    return\n",
        "  print(\"fetching \" + filename + \" from \" + remote_url + \"...\")\n",
        "  urllib.request.urlretrieve(remote_url, \"./\" + filename)\n",
        "\n",
        "def cache_datafile_in_drive(filename):\n",
        "  if os.path.isfile(\"./\" + filename) == False:\n",
        "    print(\"cannot cache \" + filename + \", it is not in workspace\")\n",
        "    return\n",
        "  \n",
        "  data_drive_path = \"/content/drive/My Drive/Colab Notebooks/\"\n",
        "  if os.path.isfile(data_drive_path + filename):\n",
        "    print(\"\" + filename + \" has already been stored in Google Drive\")\n",
        "  else:\n",
        "    print(\"copying \" + filename + \" to \" + data_drive_path)\n",
        "    copy(\"./\" + filename, data_drive_path)\n",
        "  \n",
        "\n",
        "def load_datafile_from_drive(filename, remote_url=None):\n",
        "  data_drive_path = \"/content/drive/My Drive/Colab Notebooks/\"\n",
        "  if os.path.isfile(\"./\" + filename):\n",
        "    print(\"already have \" + filename + \" in workspace\")\n",
        "  elif os.path.isfile(data_drive_path + filename):\n",
        "    print(\"have \" + filename + \" in Google Drive, copying to workspace...\")\n",
        "    copy(data_drive_path + filename, \".\")\n",
        "  elif remote_url != None:\n",
        "    fetch_remote_datafile(filename, remote_url)\n",
        "  else:\n",
        "    print(\"error: you need to manually download \" + filename + \" and put in drive\")\n",
        "    \n",
        "def extract_datafile(filename, expected_extract_artifact=None):\n",
        "  if expected_extract_artifact != None and (os.path.isfile(expected_extract_artifact) or os.path.isdir(expected_extract_artifact)):\n",
        "    \n",
        "    print(\"files in \" + filename + \" have already been extracted\")\n",
        "  elif os.path.isfile(\"./\" + filename) == False:\n",
        "    print(\"error: cannot extract \" + filename + \", it is not in the workspace\")\n",
        "  else:\n",
        "    extension = filename.split('.')[-1]\n",
        "    if extension == \"zip\":\n",
        "      print(\"extracting \" + filename + \"...\")\n",
        "      data_file = open(filename, \"rb\")\n",
        "      z = zipfile.ZipFile(data_file)\n",
        "      for name in z.namelist():\n",
        "          print(\"    extracting file\", name)\n",
        "          z.extract(name, \"./\")\n",
        "      data_file.close()\n",
        "    elif extension == \"gz\":\n",
        "      print(\"extracting \" + filename + \"...\")\n",
        "      if filename.split('.')[-2] == \"tar\":\n",
        "        tar = tarfile.open(filename)\n",
        "        tar.extractall()\n",
        "        tar.close()\n",
        "      else:\n",
        "        data_zip_file = gzip.GzipFile(filename, 'rb')\n",
        "        data = data_zip_file.read()\n",
        "        data_zip_file.close()\n",
        "        extracted_file = open('.'.join(filename.split('.')[0:-1]), 'wb')\n",
        "        extracted_file.write(data)\n",
        "        extracted_file.close()\n",
        "    elif extension == \"tar\":\n",
        "      print(\"extracting \" + filename + \"...\")\n",
        "      tar = tarfile.open(filename)\n",
        "      tar.extractall()\n",
        "      tar.close()\n",
        "    elif extension == \"csv\":\n",
        "      print(\"do not need to extract csv\")\n",
        "    else:\n",
        "      print(\"cannot extract \" + filename)\n",
        "      \n",
        "def load_cache_extract_datafile(filename, expected_extract_artifact=None, remote_url=None):\n",
        "  load_datafile_from_drive(filename, remote_url)\n",
        "  extract_datafile(filename, expected_extract_artifact)\n",
        "  cache_datafile_in_drive(filename)\n",
        "  \n",
        "load_cache_extract_datafile(\"home_data.sframe.zip\", \"home_data.sframe\", \"https://d3c33hcgiwev3.cloudfront.net/00FsKOIoEemELQpo9cj5Ig_579152614f2b4a399ac90a939360749e_home_data.sframe.zip?Expires=1583366400&Signature=UOIwIuuT~0UT9V6UveCG9Vanabu3gWSsrwu63-U4VNNkahfkATwOcJ7ipdH9pEbfHYP8SW8UZFozRcBDk95Ygv4jN9tDl2dI3q8~AXs2K9GEGyhdsER~aTY4n8K6Vqhmba9KvFRyAIiFQF7jPy2K6LFGBHEBswUY0INusC-twkE_&Key-Pair-Id=APKAJLTNE6QMUY6HBC5A\")\n"
      ],
      "execution_count": null,
      "outputs": [
        {
          "output_type": "stream",
          "text": [
            "already have home_data.sframe.zip in workspace\n",
            "files in home_data.sframe.zip have already been extracted\n",
            "home_data.sframe.zip has already been stored in Google Drive\n"
          ],
          "name": "stdout"
        }
      ]
    },
    {
      "cell_type": "markdown",
      "metadata": {
        "id": "0rjoZAMy9EA7"
      },
      "source": [
        "# Load in house sales data\n",
        "\n",
        "Dataset is from house sales in King County, the region where the city of Seattle, WA is located."
      ]
    },
    {
      "cell_type": "code",
      "metadata": {
        "scrolled": true,
        "id": "Js9zSjc89EA-"
      },
      "source": [
        "sales = turicreate.SFrame('home_data.sframe/')"
      ],
      "execution_count": null,
      "outputs": []
    },
    {
      "cell_type": "markdown",
      "metadata": {
        "id": "8HZOWKme9EBS"
      },
      "source": [
        "# Create new features"
      ]
    },
    {
      "cell_type": "markdown",
      "metadata": {
        "id": "xfesScxY9EBW"
      },
      "source": [
        "As in Week 2, we consider features that are some transformations of inputs."
      ]
    },
    {
      "cell_type": "code",
      "metadata": {
        "id": "wBBqouRn9EBb"
      },
      "source": [
        "from math import log, sqrt\n",
        "sales['sqft_living_sqrt'] = sales['sqft_living'].apply(sqrt)\n",
        "sales['sqft_lot_sqrt'] = sales['sqft_lot'].apply(sqrt)\n",
        "sales['bedrooms_square'] = sales['bedrooms']*sales['bedrooms']\n",
        "\n",
        "# In the dataset, 'floors' was defined with type string, \n",
        "# so we'll convert them to float, before creating a new feature.\n",
        "sales['floors'] = sales['floors'].astype(float) \n",
        "sales['floors_square'] = sales['floors']*sales['floors']"
      ],
      "execution_count": null,
      "outputs": []
    },
    {
      "cell_type": "markdown",
      "metadata": {
        "id": "jIhZM1Qu9EBs"
      },
      "source": [
        "* Squaring bedrooms will increase the separation between not many bedrooms (e.g. 1) and lots of bedrooms (e.g. 4) since 1^2 = 1 but 4^2 = 16. Consequently this variable will mostly affect houses with many bedrooms.\n",
        "* On the other hand, taking square root of sqft_living will decrease the separation between big house and small house. The owner may not be exactly twice as happy for getting a house that is twice as big."
      ]
    },
    {
      "cell_type": "markdown",
      "metadata": {
        "id": "w-4UHL4a9EBv"
      },
      "source": [
        "# Learn regression weights with L1 penalty"
      ]
    },
    {
      "cell_type": "markdown",
      "metadata": {
        "id": "kQtb1nDb9EBz"
      },
      "source": [
        "Let us fit a model with all the features available, plus the features we just created above."
      ]
    },
    {
      "cell_type": "code",
      "metadata": {
        "id": "KJgvxA5n9EB5"
      },
      "source": [
        "all_features = ['bedrooms', 'bedrooms_square',\n",
        "                'bathrooms',\n",
        "                'sqft_living', 'sqft_living_sqrt',\n",
        "                'sqft_lot', 'sqft_lot_sqrt',\n",
        "                'floors', 'floors_square',\n",
        "                'waterfront', 'view', 'condition', 'grade',\n",
        "                'sqft_above',\n",
        "                'sqft_basement',\n",
        "                'yr_built', 'yr_renovated']"
      ],
      "execution_count": null,
      "outputs": []
    },
    {
      "cell_type": "markdown",
      "metadata": {
        "id": "WlzJN4Lv9ECJ"
      },
      "source": [
        "Applying L1 penalty requires adding an extra parameter (`l1_penalty`) to the linear regression call in Turi Create. (Other tools may have separate implementations of LASSO.)  Note that it's important to set `l2_penalty=0` to ensure we don't introduce an additional L2 penalty."
      ]
    },
    {
      "cell_type": "code",
      "metadata": {
        "id": "1i5D9KUG9ECO",
        "colab": {
          "base_uri": "https://localhost:8080/",
          "height": 399
        },
        "outputId": "f583757a-0d78-4a06-8b90-369fd41676eb"
      },
      "source": [
        "model_all = turicreate.linear_regression.create(sales, target='price', features=all_features,\n",
        "                                                validation_set=None, \n",
        "                                                l2_penalty=0., l1_penalty=1e10)"
      ],
      "execution_count": null,
      "outputs": [
        {
          "output_type": "display_data",
          "data": {
            "text/html": [
              "<pre>Linear regression:</pre>"
            ],
            "text/plain": [
              "Linear regression:"
            ]
          },
          "metadata": {
            "tags": []
          }
        },
        {
          "output_type": "display_data",
          "data": {
            "text/html": [
              "<pre>--------------------------------------------------------</pre>"
            ],
            "text/plain": [
              "--------------------------------------------------------"
            ]
          },
          "metadata": {
            "tags": []
          }
        },
        {
          "output_type": "display_data",
          "data": {
            "text/html": [
              "<pre>Number of examples          : 21613</pre>"
            ],
            "text/plain": [
              "Number of examples          : 21613"
            ]
          },
          "metadata": {
            "tags": []
          }
        },
        {
          "output_type": "display_data",
          "data": {
            "text/html": [
              "<pre>Number of features          : 17</pre>"
            ],
            "text/plain": [
              "Number of features          : 17"
            ]
          },
          "metadata": {
            "tags": []
          }
        },
        {
          "output_type": "display_data",
          "data": {
            "text/html": [
              "<pre>Number of unpacked features : 17</pre>"
            ],
            "text/plain": [
              "Number of unpacked features : 17"
            ]
          },
          "metadata": {
            "tags": []
          }
        },
        {
          "output_type": "display_data",
          "data": {
            "text/html": [
              "<pre>Number of coefficients    : 18</pre>"
            ],
            "text/plain": [
              "Number of coefficients    : 18"
            ]
          },
          "metadata": {
            "tags": []
          }
        },
        {
          "output_type": "display_data",
          "data": {
            "text/html": [
              "<pre>Starting Accelerated Gradient (FISTA)</pre>"
            ],
            "text/plain": [
              "Starting Accelerated Gradient (FISTA)"
            ]
          },
          "metadata": {
            "tags": []
          }
        },
        {
          "output_type": "display_data",
          "data": {
            "text/html": [
              "<pre>--------------------------------------------------------</pre>"
            ],
            "text/plain": [
              "--------------------------------------------------------"
            ]
          },
          "metadata": {
            "tags": []
          }
        },
        {
          "output_type": "display_data",
          "data": {
            "text/html": [
              "<pre>Tuning step size. First iteration could take longer than subsequent iterations.</pre>"
            ],
            "text/plain": [
              "Tuning step size. First iteration could take longer than subsequent iterations."
            ]
          },
          "metadata": {
            "tags": []
          }
        },
        {
          "output_type": "display_data",
          "data": {
            "text/html": [
              "<pre>+-----------+----------+-----------+--------------+--------------------+---------------------------------+</pre>"
            ],
            "text/plain": [
              "+-----------+----------+-----------+--------------+--------------------+---------------------------------+"
            ]
          },
          "metadata": {
            "tags": []
          }
        },
        {
          "output_type": "display_data",
          "data": {
            "text/html": [
              "<pre>| Iteration | Passes   | Step size | Elapsed Time | Training Max Error | Training Root-Mean-Square Error |</pre>"
            ],
            "text/plain": [
              "| Iteration | Passes   | Step size | Elapsed Time | Training Max Error | Training Root-Mean-Square Error |"
            ]
          },
          "metadata": {
            "tags": []
          }
        },
        {
          "output_type": "display_data",
          "data": {
            "text/html": [
              "<pre>+-----------+----------+-----------+--------------+--------------------+---------------------------------+</pre>"
            ],
            "text/plain": [
              "+-----------+----------+-----------+--------------+--------------------+---------------------------------+"
            ]
          },
          "metadata": {
            "tags": []
          }
        },
        {
          "output_type": "display_data",
          "data": {
            "text/html": [
              "<pre>| 0         | 1        | 1.000000  | 0.031222     | 7700000.000000     | 653047.733994                   |</pre>"
            ],
            "text/plain": [
              "| 0         | 1        | 1.000000  | 0.031222     | 7700000.000000     | 653047.733994                   |"
            ]
          },
          "metadata": {
            "tags": []
          }
        },
        {
          "output_type": "display_data",
          "data": {
            "text/html": [
              "<pre>| 1         | 2        | 0.000002  | 0.459664     | 6962915.603493     | 426631.749026                   |</pre>"
            ],
            "text/plain": [
              "| 1         | 2        | 0.000002  | 0.459664     | 6962915.603493     | 426631.749026                   |"
            ]
          },
          "metadata": {
            "tags": []
          }
        },
        {
          "output_type": "display_data",
          "data": {
            "text/html": [
              "<pre>| 2         | 3        | 0.000002  | 0.497987     | 6843144.200219     | 392488.929838                   |</pre>"
            ],
            "text/plain": [
              "| 2         | 3        | 0.000002  | 0.497987     | 6843144.200219     | 392488.929838                   |"
            ]
          },
          "metadata": {
            "tags": []
          }
        },
        {
          "output_type": "display_data",
          "data": {
            "text/html": [
              "<pre>| 3         | 4        | 0.000002  | 0.536848     | 6831900.032123     | 385340.166783                   |</pre>"
            ],
            "text/plain": [
              "| 3         | 4        | 0.000002  | 0.536848     | 6831900.032123     | 385340.166783                   |"
            ]
          },
          "metadata": {
            "tags": []
          }
        },
        {
          "output_type": "display_data",
          "data": {
            "text/html": [
              "<pre>| 4         | 5        | 0.000002  | 0.575127     | 6847166.848958     | 384842.383767                   |</pre>"
            ],
            "text/plain": [
              "| 4         | 5        | 0.000002  | 0.575127     | 6847166.848958     | 384842.383767                   |"
            ]
          },
          "metadata": {
            "tags": []
          }
        },
        {
          "output_type": "display_data",
          "data": {
            "text/html": [
              "<pre>| 5         | 6        | 0.000002  | 0.615693     | 6869667.895833     | 385998.458623                   |</pre>"
            ],
            "text/plain": [
              "| 5         | 6        | 0.000002  | 0.615693     | 6869667.895833     | 385998.458623                   |"
            ]
          },
          "metadata": {
            "tags": []
          }
        },
        {
          "output_type": "display_data",
          "data": {
            "text/html": [
              "<pre>| 10        | 11       | 0.000002  | 0.804094     | 6842123.232651     | 364204.576180                   |</pre>"
            ],
            "text/plain": [
              "| 10        | 11       | 0.000002  | 0.804094     | 6842123.232651     | 364204.576180                   |"
            ]
          },
          "metadata": {
            "tags": []
          }
        },
        {
          "output_type": "display_data",
          "data": {
            "text/html": [
              "<pre>+-----------+----------+-----------+--------------+--------------------+---------------------------------+</pre>"
            ],
            "text/plain": [
              "+-----------+----------+-----------+--------------+--------------------+---------------------------------+"
            ]
          },
          "metadata": {
            "tags": []
          }
        },
        {
          "output_type": "display_data",
          "data": {
            "text/html": [
              "<pre>Completed (Iteration limit reached).</pre>"
            ],
            "text/plain": [
              "Completed (Iteration limit reached)."
            ]
          },
          "metadata": {
            "tags": []
          }
        },
        {
          "output_type": "display_data",
          "data": {
            "text/html": [
              "<pre>This model may not be optimal. To improve it, consider increasing `max_iterations`.</pre>"
            ],
            "text/plain": [
              "This model may not be optimal. To improve it, consider increasing `max_iterations`."
            ]
          },
          "metadata": {
            "tags": []
          }
        }
      ]
    },
    {
      "cell_type": "markdown",
      "metadata": {
        "id": "Qp9Ca3rx9ECe"
      },
      "source": [
        "Find what features had non-zero weight."
      ]
    },
    {
      "cell_type": "code",
      "metadata": {
        "id": "33Qwbbem9ECh",
        "colab": {
          "base_uri": "https://localhost:8080/",
          "height": 458
        },
        "outputId": "7b8ff8f6-a17f-47d5-b7c6-7cd31e9681f1"
      },
      "source": [
        "model_all.coefficients.print_rows(18)"
      ],
      "execution_count": null,
      "outputs": [
        {
          "output_type": "stream",
          "text": [
            "+------------------+-------+--------------------+--------+\n",
            "|       name       | index |       value        | stderr |\n",
            "+------------------+-------+--------------------+--------+\n",
            "|   (intercept)    |  None | 274873.05595049594 |  None  |\n",
            "|     bedrooms     |  None |        0.0         |  None  |\n",
            "| bedrooms_square  |  None |        0.0         |  None  |\n",
            "|    bathrooms     |  None | 8468.531086910027  |  None  |\n",
            "|   sqft_living    |  None | 24.420720982446056 |  None  |\n",
            "| sqft_living_sqrt |  None | 350.0605533860446  |  None  |\n",
            "|     sqft_lot     |  None |        0.0         |  None  |\n",
            "|  sqft_lot_sqrt   |  None |        0.0         |  None  |\n",
            "|      floors      |  None |        0.0         |  None  |\n",
            "|  floors_square   |  None |        0.0         |  None  |\n",
            "|    waterfront    |  None |        0.0         |  None  |\n",
            "|       view       |  None |        0.0         |  None  |\n",
            "|    condition     |  None |        0.0         |  None  |\n",
            "|      grade       |  None | 842.0680348975227  |  None  |\n",
            "|    sqft_above    |  None | 20.024722417090935 |  None  |\n",
            "|  sqft_basement   |  None |        0.0         |  None  |\n",
            "|     yr_built     |  None |        0.0         |  None  |\n",
            "|   yr_renovated   |  None |        0.0         |  None  |\n",
            "+------------------+-------+--------------------+--------+\n",
            "[18 rows x 4 columns]\n",
            "\n"
          ],
          "name": "stdout"
        }
      ]
    },
    {
      "cell_type": "markdown",
      "metadata": {
        "id": "gGA9qUqu9EC0"
      },
      "source": [
        "Note that a majority of the weights have been set to zero. So by setting an L1 penalty that's large enough, we are performing a subset selection. \n",
        "\n",
        "***QUIZ QUESTION***:\n",
        "According to this list of weights, which of the features have been chosen? "
      ]
    },
    {
      "cell_type": "markdown",
      "metadata": {
        "id": "KMemRDj-9EC3"
      },
      "source": [
        "# Selecting an L1 penalty"
      ]
    },
    {
      "cell_type": "markdown",
      "metadata": {
        "id": "VJ6RgNEr9EC6"
      },
      "source": [
        "To find a good L1 penalty, we will explore multiple values using a validation set. Let us do three way split into train, validation, and test sets:\n",
        "* Split our sales data into 2 sets: training and test\n",
        "* Further split our training data into two sets: train, validation\n",
        "\n",
        "Be *very* careful that you use seed = 1 to ensure you get the same answer!"
      ]
    },
    {
      "cell_type": "code",
      "metadata": {
        "id": "8RUGaXfF9EC-"
      },
      "source": [
        "(training_and_validation, testing) = sales.random_split(.9,seed=1) # initial train/test split\n",
        "(training, validation) = training_and_validation.random_split(0.5, seed=1) # split training into train and validate"
      ],
      "execution_count": null,
      "outputs": []
    },
    {
      "cell_type": "markdown",
      "metadata": {
        "id": "oqdklEdC9EEN"
      },
      "source": [
        "Next, we write a loop that does the following:\n",
        "* For `l1_penalty` in [10^1, 10^1.5, 10^2, 10^2.5, ..., 10^7] (to get this in Python, type `np.logspace(1, 7, num=13)`.)\n",
        "    * Fit a regression model with a given `l1_penalty` on TRAIN data. Specify `l1_penalty=l1_penalty` and `l2_penalty=0.` in the parameter list.\n",
        "    * Compute the RSS on VALIDATION data (here you will want to use `.predict()`) for that `l1_penalty`\n",
        "* Report which `l1_penalty` produced the lowest RSS on validation data.\n",
        "\n",
        "When you call `linear_regression.create()` make sure you set `validation_set = None`.\n",
        "\n",
        "Note: you can turn off the print out of `linear_regression.create()` with `verbose = False`"
      ]
    },
    {
      "cell_type": "code",
      "metadata": {
        "id": "YZB5-hGb9EEW",
        "colab": {
          "base_uri": "https://localhost:8080/",
          "height": 55
        },
        "outputId": "b1f20b66-702b-4a43-cfbe-bfaac7f17cb2"
      },
      "source": [
        "l1_penalty = np.logspace(1, 7, num=13)\n",
        "l1_keys_values = {}\n",
        "for i in l1_penalty:\n",
        "  training_model = turicreate.linear_regression.create(training, target='price', features=all_features,\n",
        "                                                validation_set=None, \n",
        "                                                l2_penalty=0., l1_penalty=i,verbose = False)\n",
        "  predictions = training_model.predict(validation)\n",
        "  RSS_for_validation = sum((validation['price'] - predictions)**2)\n",
        "  l1_keys_values[i] = RSS_for_validation\n",
        "print(l1_keys_values)"
      ],
      "execution_count": null,
      "outputs": [
        {
          "output_type": "stream",
          "text": [
            "{10.0: 625766285142461.4, 31.622776601683793: 625766285362395.2, 100.0: 625766286057886.9, 316.22776601683796: 625766288257224.9, 1000.0: 625766295212185.9, 3162.2776601683795: 625766317206077.8, 10000.0: 625766386760661.5, 31622.776601683792: 625766606749281.4, 100000.0: 625767302791633.4, 316227.7660168379: 625769507643885.0, 1000000.0: 625776517727025.9, 3162277.6601683795: 625799062845466.9, 10000000.0: 625883719085424.5}\n"
          ],
          "name": "stdout"
        }
      ]
    },
    {
      "cell_type": "code",
      "metadata": {
        "id": "1VCGMLJR9EFB",
        "colab": {
          "base_uri": "https://localhost:8080/",
          "height": 35
        },
        "outputId": "8793f279-c104-4d78-bd62-884e3c12bf9a"
      },
      "source": [
        "print(min(l1_keys_values.items(), key=lambda x: x[1]))"
      ],
      "execution_count": null,
      "outputs": [
        {
          "output_type": "stream",
          "text": [
            "(10.0, 625766285142461.4)\n"
          ],
          "name": "stdout"
        }
      ]
    },
    {
      "cell_type": "markdown",
      "metadata": {
        "id": "reyA-h4e9EFd"
      },
      "source": [
        "*** QUIZ QUESTION. *** What was the best value for the `l1_penalty`?"
      ]
    },
    {
      "cell_type": "code",
      "metadata": {
        "id": "74_uu8Li9EFi",
        "colab": {
          "base_uri": "https://localhost:8080/",
          "height": 458
        },
        "outputId": "87d7f102-70e8-486b-bede-02d60908fc94"
      },
      "source": [
        "model_for_best_l1 = turicreate.linear_regression.create(training, target='price', features=all_features,\n",
        "                                                validation_set=None, \n",
        "                                                l2_penalty=0., l1_penalty=10.0,verbose = False)\n",
        "model_for_best_l1.coefficients.print_rows(18)"
      ],
      "execution_count": null,
      "outputs": [
        {
          "output_type": "stream",
          "text": [
            "+------------------+-------+----------------------+--------+\n",
            "|       name       | index |        value         | stderr |\n",
            "+------------------+-------+----------------------+--------+\n",
            "|   (intercept)    |  None |   18993.4272127706   |  None  |\n",
            "|     bedrooms     |  None |  7936.967679031305   |  None  |\n",
            "| bedrooms_square  |  None |  936.9933681932998   |  None  |\n",
            "|    bathrooms     |  None |  25409.58893412067   |  None  |\n",
            "|   sqft_living    |  None |  39.11513637970762   |  None  |\n",
            "| sqft_living_sqrt |  None |  1124.6502128077204  |  None  |\n",
            "|     sqft_lot     |  None | 0.003483618222989788 |  None  |\n",
            "|  sqft_lot_sqrt   |  None |  148.25839101140815  |  None  |\n",
            "|      floors      |  None |  21204.335466950135  |  None  |\n",
            "|  floors_square   |  None |  12915.52433607243   |  None  |\n",
            "|    waterfront    |  None |  601905.5945452717   |  None  |\n",
            "|       view       |  None |  93312.85731187185   |  None  |\n",
            "|    condition     |  None |  6609.035712447212   |  None  |\n",
            "|      grade       |  None |  6206.939991880553   |  None  |\n",
            "|    sqft_above    |  None |  43.28705341933558   |  None  |\n",
            "|  sqft_basement   |  None |  122.36782753411929  |  None  |\n",
            "|     yr_built     |  None |   9.43363539372488   |  None  |\n",
            "|   yr_renovated   |  None |  56.072003448822386  |  None  |\n",
            "+------------------+-------+----------------------+--------+\n",
            "[18 rows x 4 columns]\n",
            "\n"
          ],
          "name": "stdout"
        }
      ]
    },
    {
      "cell_type": "markdown",
      "metadata": {
        "id": "SXIGmkyO9EF3"
      },
      "source": [
        "***QUIZ QUESTION***\n",
        "Also, using this value of L1 penalty, how many nonzero weights do you have?"
      ]
    },
    {
      "cell_type": "code",
      "metadata": {
        "id": "6fzN92zh9EF5"
      },
      "source": [
        ""
      ],
      "execution_count": null,
      "outputs": []
    },
    {
      "cell_type": "markdown",
      "metadata": {
        "id": "dqFCMz_59EGH"
      },
      "source": [
        "# Limit the number of nonzero weights\n",
        "\n",
        "What if we absolutely wanted to limit ourselves to, say, 7 features? This may be important if we want to derive \"a rule of thumb\" --- an interpretable model that has only a few features in them."
      ]
    },
    {
      "cell_type": "markdown",
      "metadata": {
        "id": "hjjlR9959EGK"
      },
      "source": [
        "In this section, you are going to implement a simple, two phase procedure to achive this goal:\n",
        "1. Explore a large range of `l1_penalty` values to find a narrow region of `l1_penalty` values where models are likely to have the desired number of non-zero weights.\n",
        "2. Further explore the narrow region you found to find a good value for `l1_penalty` that achieves the desired sparsity.  Here, we will again use a validation set to choose the best value for `l1_penalty`."
      ]
    },
    {
      "cell_type": "code",
      "metadata": {
        "id": "z4emFkbw9EGN"
      },
      "source": [
        "max_nonzeros = 7"
      ],
      "execution_count": null,
      "outputs": []
    },
    {
      "cell_type": "markdown",
      "metadata": {
        "id": "C40TdUGS9EGg"
      },
      "source": [
        "## Exploring the larger range of values to find a narrow range with the desired sparsity\n",
        "\n",
        "Let's define a wide range of possible `l1_penalty_values`:"
      ]
    },
    {
      "cell_type": "code",
      "metadata": {
        "id": "_MmwNMXe9EGm"
      },
      "source": [
        "l1_penalty_values = np.logspace(8, 10, num=20)"
      ],
      "execution_count": null,
      "outputs": []
    },
    {
      "cell_type": "markdown",
      "metadata": {
        "id": "OsoLtLQ-9EGx"
      },
      "source": [
        "Now, implement a loop that search through this space of possible `l1_penalty` values:\n",
        "\n",
        "* For `l1_penalty` in `np.logspace(8, 10, num=20)`:\n",
        "    * Fit a regression model with a given `l1_penalty` on TRAIN data. Specify `l1_penalty=l1_penalty` and `l2_penalty=0.` in the parameter list. When you call `linear_regression.create()` make sure you set `validation_set = None`\n",
        "    * Extract the weights of the model and count the number of nonzeros. Save the number of nonzeros to a list.\n",
        "        * *Hint: `model.coefficients['value']` gives you an SArray with the parameters you learned.  If you call the method `.nnz()` on it, you will find the number of non-zero parameters!* "
      ]
    },
    {
      "cell_type": "code",
      "metadata": {
        "id": "v_xcicKv9EG6",
        "colab": {
          "base_uri": "https://localhost:8080/",
          "height": 1000
        },
        "outputId": "7dac2204-aa3d-43f7-a9e6-cfc583fab223"
      },
      "source": [
        "list_fo_non_zeros = {}\n",
        "for l1_penalty_n in l1_penalty_values:\n",
        "  sparisty_model = turicreate.linear_regression.create(training, target='price', features=all_features,\n",
        "                                                validation_set=None, \n",
        "                                                l2_penalty=0., l1_penalty=l1_penalty_n,verbose = False)\n",
        "  sparisty_model.coefficients.print_rows(18)\n",
        "  print('the l1 penalty number',l1_penalty_n)\n",
        "  list_fo_non_zeros[l1_penalty_n] = sparisty_model.coefficients['value'].nnz()\n",
        "  print('the numbers of nonzeros in model',sparisty_model.coefficients['value'].nnz())\n",
        "print('List of all l1 penalty and it\"s non-zeros values : \\n ' ,list_fo_non_zeros)"
      ],
      "execution_count": null,
      "outputs": [
        {
          "output_type": "stream",
          "text": [
            "+------------------+-------+-----------------------+--------+\n",
            "|       name       | index |         value         | stderr |\n",
            "+------------------+-------+-----------------------+--------+\n",
            "|   (intercept)    |  None |   25090.917367212027  |  None  |\n",
            "|     bedrooms     |  None |   7789.177061100561   |  None  |\n",
            "| bedrooms_square  |  None |    847.559686942873   |  None  |\n",
            "|    bathrooms     |  None |   25234.209194458632  |  None  |\n",
            "|   sqft_living    |  None |   39.03944596356859   |  None  |\n",
            "| sqft_living_sqrt |  None |   1117.3118955675664  |  None  |\n",
            "|     sqft_lot     |  None | -0.025686118239919564 |  None  |\n",
            "|  sqft_lot_sqrt   |  None |   143.98899196976998  |  None  |\n",
            "|      floors      |  None |   20695.35923964388   |  None  |\n",
            "|  floors_square   |  None |   12466.690650291855  |  None  |\n",
            "|    waterfront    |  None |   568204.6445841152   |  None  |\n",
            "|       view       |  None |   91066.94280879853   |  None  |\n",
            "|    condition     |  None |   6360.780926249814   |  None  |\n",
            "|      grade       |  None |    6139.21280564789   |  None  |\n",
            "|    sqft_above    |  None |   43.03582992460558   |  None  |\n",
            "|  sqft_basement   |  None |   118.94587495435256  |  None  |\n",
            "|     yr_built     |  None |   9.040401654020448   |  None  |\n",
            "|   yr_renovated   |  None |   48.61546730927456   |  None  |\n",
            "+------------------+-------+-----------------------+--------+\n",
            "[18 rows x 4 columns]\n",
            "\n",
            "the l1 penalty number 100000000.0\n",
            "the numbers of nonzeros in model 18\n",
            "+------------------+-------+-----------------------+--------+\n",
            "|       name       | index |         value         | stderr |\n",
            "+------------------+-------+-----------------------+--------+\n",
            "|   (intercept)    |  None |   26746.661936635493  |  None  |\n",
            "|     bedrooms     |  None |   7743.979047849892   |  None  |\n",
            "| bedrooms_square  |  None |   822.3589452509378   |  None  |\n",
            "|    bathrooms     |  None |   25178.625930586928  |  None  |\n",
            "|   sqft_living    |  None |    39.010718135254    |  None  |\n",
            "| sqft_living_sqrt |  None |   1114.9107159232665  |  None  |\n",
            "|     sqft_lot     |  None | -0.018663073722782884 |  None  |\n",
            "|  sqft_lot_sqrt   |  None |   142.51979784137166  |  None  |\n",
            "|      floors      |  None |   20545.86730469757   |  None  |\n",
            "|  floors_square   |  None |   12339.245250245605  |  None  |\n",
            "|    waterfront    |  None |   558930.2470718035   |  None  |\n",
            "|       view       |  None |   90439.72185124886   |  None  |\n",
            "|    condition     |  None |   6288.009465538853   |  None  |\n",
            "|      grade       |  None |   6118.412320616763   |  None  |\n",
            "|    sqft_above    |  None |   42.95755676813044   |  None  |\n",
            "|  sqft_basement   |  None |   117.99004260104351  |  None  |\n",
            "|     yr_built     |  None |   8.924085433195648   |  None  |\n",
            "|   yr_renovated   |  None |   46.56185624767164   |  None  |\n",
            "+------------------+-------+-----------------------+--------+\n",
            "[18 rows x 4 columns]\n",
            "\n",
            "the l1 penalty number 127427498.57031322\n",
            "the numbers of nonzeros in model 18\n",
            "+------------------+-------+-----------------------+--------+\n",
            "|       name       | index |         value         | stderr |\n",
            "+------------------+-------+-----------------------+--------+\n",
            "|   (intercept)    |  None |   28873.181016622377  |  None  |\n",
            "|     bedrooms     |  None |   7691.0470756863315  |  None  |\n",
            "| bedrooms_square  |  None |   790.9175796843562   |  None  |\n",
            "|    bathrooms     |  None |   25115.27853451593   |  None  |\n",
            "|   sqft_living    |  None |   38.982078813208666  |  None  |\n",
            "| sqft_living_sqrt |  None |   1112.239414647991   |  None  |\n",
            "|     sqft_lot     |  None | -0.024737360580801164 |  None  |\n",
            "|  sqft_lot_sqrt   |  None |   140.94584475081746  |  None  |\n",
            "|      floors      |  None |   20365.265896852692  |  None  |\n",
            "|  floors_square   |  None |   12181.186257705756  |  None  |\n",
            "|    waterfront    |  None |   547143.1801789048   |  None  |\n",
            "|       view       |  None |    89651.6923915873   |  None  |\n",
            "|    condition     |  None |   6199.959965996099   |  None  |\n",
            "|      grade       |  None |   6094.131386545269   |  None  |\n",
            "|    sqft_above    |  None |   42.86718404798591   |  None  |\n",
            "|  sqft_basement   |  None |   116.7893252862552   |  None  |\n",
            "|     yr_built     |  None |   8.784328577071962   |  None  |\n",
            "|   yr_renovated   |  None |   43.95345985745588   |  None  |\n",
            "+------------------+-------+-----------------------+--------+\n",
            "[18 rows x 4 columns]\n",
            "\n",
            "the l1 penalty number 162377673.91887242\n",
            "the numbers of nonzeros in model 18\n",
            "+------------------+-------+----------------------+--------+\n",
            "|       name       | index |        value         | stderr |\n",
            "+------------------+-------+----------------------+--------+\n",
            "|   (intercept)    |  None |  31564.606473324206  |  None  |\n",
            "|     bedrooms     |  None |  7618.567764636498   |  None  |\n",
            "| bedrooms_square  |  None |  750.1709548829183   |  None  |\n",
            "|    bathrooms     |  None |  25026.177407617186  |  None  |\n",
            "|   sqft_living    |  None |  38.935915253109755  |  None  |\n",
            "| sqft_living_sqrt |  None |  1108.3863193708137  |  None  |\n",
            "|     sqft_lot     |  None | -0.01774476275138441 |  None  |\n",
            "|  sqft_lot_sqrt   |  None |  138.38532594587824  |  None  |\n",
            "|      floors      |  None |  20124.746720019702  |  None  |\n",
            "|  floors_square   |  None |  11975.49776169613   |  None  |\n",
            "|    waterfront    |  None |  532082.0756272506   |  None  |\n",
            "|       view       |  None |  88631.04255545628   |  None  |\n",
            "|    condition     |  None |  6082.626008198674   |  None  |\n",
            "|      grade       |  None |  6060.677911224667   |  None  |\n",
            "|    sqft_above    |  None |  42.74031497907829   |  None  |\n",
            "|  sqft_basement   |  None |  115.24303664623335  |  None  |\n",
            "|     yr_built     |  None |  8.596902634509657   |  None  |\n",
            "|   yr_renovated   |  None |  40.62156230142574   |  None  |\n",
            "+------------------+-------+----------------------+--------+\n",
            "[18 rows x 4 columns]\n",
            "\n",
            "the l1 penalty number 206913808.111479\n",
            "the numbers of nonzeros in model 18\n",
            "+------------------+-------+--------------------+--------+\n",
            "|       name       | index |       value        | stderr |\n",
            "+------------------+-------+--------------------+--------+\n",
            "|   (intercept)    |  None | 34954.67174323055  |  None  |\n",
            "|     bedrooms     |  None | 7515.377482147873  |  None  |\n",
            "| bedrooms_square  |  None | 696.7853594765755  |  None  |\n",
            "|    bathrooms     |  None |  24894.5560923588  |  None  |\n",
            "|   sqft_living    |  None | 38.85614063903364  |  None  |\n",
            "| sqft_living_sqrt |  None | 1102.5056436481411 |  None  |\n",
            "|     sqft_lot     |  None |        0.0         |  None  |\n",
            "|  sqft_lot_sqrt   |  None | 133.90030719388713 |  None  |\n",
            "|      floors      |  None | 19795.93033118664  |  None  |\n",
            "|  floors_square   |  None | 11704.228054783021 |  None  |\n",
            "|    waterfront    |  None | 512800.5801387105  |  None  |\n",
            "|       view       |  None | 87294.44208081363  |  None  |\n",
            "|    condition     |  None | 5922.041895353969  |  None  |\n",
            "|      grade       |  None | 6012.623834095167  |  None  |\n",
            "|    sqft_above    |  None | 42.55324369173367  |  None  |\n",
            "|  sqft_basement   |  None | 113.2379318275155  |  None  |\n",
            "|     yr_built     |  None | 8.337936513644955  |  None  |\n",
            "|   yr_renovated   |  None | 36.35851942869657  |  None  |\n",
            "+------------------+-------+--------------------+--------+\n",
            "[18 rows x 4 columns]\n",
            "\n",
            "the l1 penalty number 263665089.87303555\n",
            "the numbers of nonzeros in model 17\n",
            "+------------------+-------+--------------------+--------+\n",
            "|       name       | index |       value        | stderr |\n",
            "+------------------+-------+--------------------+--------+\n",
            "|   (intercept)    |  None | 39314.615048616346 |  None  |\n",
            "|     bedrooms     |  None |  7394.88288951553  |  None  |\n",
            "| bedrooms_square  |  None | 630.2530312218133  |  None  |\n",
            "|    bathrooms     |  None | 24745.121789807457 |  None  |\n",
            "|   sqft_living    |  None | 38.775506016918335 |  None  |\n",
            "| sqft_living_sqrt |  None | 1095.990697133557  |  None  |\n",
            "|     sqft_lot     |  None |        0.0         |  None  |\n",
            "|  sqft_lot_sqrt   |  None | 129.37160816623376 |  None  |\n",
            "|      floors      |  None | 19399.66700712913  |  None  |\n",
            "|  floors_square   |  None | 11367.957471896072 |  None  |\n",
            "|    waterfront    |  None | 488319.74802903057 |  None  |\n",
            "|       view       |  None | 85626.78665609902  |  None  |\n",
            "|    condition     |  None | 5728.632165362397  |  None  |\n",
            "|      grade       |  None |  5956.87175568523  |  None  |\n",
            "|    sqft_above    |  None | 42.34028399496754  |  None  |\n",
            "|  sqft_basement   |  None | 110.7186771572265  |  None  |\n",
            "|     yr_built     |  None | 8.028336789396942  |  None  |\n",
            "|   yr_renovated   |  None | 30.94403093887231  |  None  |\n",
            "+------------------+-------+--------------------+--------+\n",
            "[18 rows x 4 columns]\n",
            "\n",
            "the l1 penalty number 335981828.6283788\n",
            "the numbers of nonzeros in model 17\n",
            "+------------------+-------+--------------------+--------+\n",
            "|       name       | index |       value        | stderr |\n",
            "+------------------+-------+--------------------+--------+\n",
            "|   (intercept)    |  None | 44909.33791831114  |  None  |\n",
            "|     bedrooms     |  None | 7253.293148190766  |  None  |\n",
            "| bedrooms_square  |  None | 547.5924623737064  |  None  |\n",
            "|    bathrooms     |  None | 24570.685895261584 |  None  |\n",
            "|   sqft_living    |  None | 38.682281272302795 |  None  |\n",
            "| sqft_living_sqrt |  None | 1088.3818684231665 |  None  |\n",
            "|     sqft_lot     |  None |        0.0         |  None  |\n",
            "|  sqft_lot_sqrt   |  None | 121.98711365252687 |  None  |\n",
            "|      floors      |  None | 18922.821613870317 |  None  |\n",
            "|  floors_square   |  None | 10954.471871806501 |  None  |\n",
            "|    waterfront    |  None | 457135.2571203195  |  None  |\n",
            "|       view       |  None | 83487.12784485533  |  None  |\n",
            "|    condition     |  None | 5493.396781433044  |  None  |\n",
            "|      grade       |  None | 5890.403907087829  |  None  |\n",
            "|    sqft_above    |  None | 42.076686259389625 |  None  |\n",
            "|  sqft_basement   |  None | 107.57670840450733 |  None  |\n",
            "|     yr_built     |  None |  7.65350461442852  |  None  |\n",
            "|   yr_renovated   |  None | 24.076198253079767 |  None  |\n",
            "+------------------+-------+--------------------+--------+\n",
            "[18 rows x 4 columns]\n",
            "\n",
            "the l1 penalty number 428133239.8719396\n",
            "the numbers of nonzeros in model 17\n",
            "+------------------+-------+--------------------+--------+\n",
            "|       name       | index |       value        | stderr |\n",
            "+------------------+-------+--------------------+--------+\n",
            "|   (intercept)    |  None | 52030.03008056483  |  None  |\n",
            "|     bedrooms     |  None | 7070.216615668927  |  None  |\n",
            "| bedrooms_square  |  None | 441.77508409114006 |  None  |\n",
            "|    bathrooms     |  None | 24344.882055009602 |  None  |\n",
            "|   sqft_living    |  None | 38.56150502802323  |  None  |\n",
            "| sqft_living_sqrt |  None | 1078.536813999621  |  None  |\n",
            "|     sqft_lot     |  None |        0.0         |  None  |\n",
            "|  sqft_lot_sqrt   |  None | 112.95992577319848 |  None  |\n",
            "|      floors      |  None | 18308.867236448703 |  None  |\n",
            "|  floors_square   |  None | 10424.128529714339 |  None  |\n",
            "|    waterfront    |  None | 417398.76313595125 |  None  |\n",
            "|       view       |  None | 80764.70244793859  |  None  |\n",
            "|    condition     |  None | 5191.188382056849  |  None  |\n",
            "|      grade       |  None |  5804.71090167097  |  None  |\n",
            "|    sqft_above    |  None | 41.73926808864347  |  None  |\n",
            "|  sqft_basement   |  None | 103.55745460168669 |  None  |\n",
            "|     yr_built     |  None | 7.171559453202558  |  None  |\n",
            "|   yr_renovated   |  None | 15.31732546450514  |  None  |\n",
            "+------------------+-------+--------------------+--------+\n",
            "[18 rows x 4 columns]\n",
            "\n",
            "the l1 penalty number 545559478.1168514\n",
            "the numbers of nonzeros in model 17\n",
            "+------------------+-------+--------------------+--------+\n",
            "|       name       | index |       value        | stderr |\n",
            "+------------------+-------+--------------------+--------+\n",
            "|   (intercept)    |  None |  61121.2820243514  |  None  |\n",
            "|     bedrooms     |  None | 6842.360515558533  |  None  |\n",
            "| bedrooms_square  |  None | 307.90366016220355 |  None  |\n",
            "|    bathrooms     |  None | 24063.60958749422  |  None  |\n",
            "|   sqft_living    |  None | 38.409647390697444 |  None  |\n",
            "| sqft_living_sqrt |  None | 1066.2493764885899 |  None  |\n",
            "|     sqft_lot     |  None |        0.0         |  None  |\n",
            "|  sqft_lot_sqrt   |  None | 100.19355929110371 |  None  |\n",
            "|      floors      |  None | 17539.440783134887 |  None  |\n",
            "|  floors_square   |  None | 9755.402234112526  |  None  |\n",
            "|    waterfront    |  None | 366774.0845431443  |  None  |\n",
            "|       view       |  None |  77282.298812589   |  None  |\n",
            "|    condition     |  None | 4811.239971932415  |  None  |\n",
            "|      grade       |  None | 5697.413131741469  |  None  |\n",
            "|    sqft_above    |  None | 41.309487582689236 |  None  |\n",
            "|  sqft_basement   |  None | 98.47108255285787  |  None  |\n",
            "|     yr_built     |  None | 6.566249512807712  |  None  |\n",
            "|   yr_renovated   |  None | 4.170973622792699  |  None  |\n",
            "+------------------+-------+--------------------+--------+\n",
            "[18 rows x 4 columns]\n",
            "\n",
            "the l1 penalty number 695192796.1775591\n",
            "the numbers of nonzeros in model 17\n",
            "+------------------+-------+--------------------+--------+\n",
            "|       name       | index |       value        | stderr |\n",
            "+------------------+-------+--------------------+--------+\n",
            "|   (intercept)    |  None | 72653.76283566156  |  None  |\n",
            "|     bedrooms     |  None | 6537.498538782981  |  None  |\n",
            "| bedrooms_square  |  None | 135.20364887523834 |  None  |\n",
            "|    bathrooms     |  None | 23681.23672270433  |  None  |\n",
            "|   sqft_living    |  None | 38.19186469605985  |  None  |\n",
            "| sqft_living_sqrt |  None | 1049.3914965059957 |  None  |\n",
            "|     sqft_lot     |  None |        0.0         |  None  |\n",
            "|  sqft_lot_sqrt   |  None | 83.22101625263925  |  None  |\n",
            "|      floors      |  None | 16527.63470379286  |  None  |\n",
            "|  floors_square   |  None |  8889.54463875535  |  None  |\n",
            "|    waterfront    |  None | 301854.6336137761  |  None  |\n",
            "|       view       |  None | 72780.67609363608  |  None  |\n",
            "|    condition     |  None | 4313.382092011942  |  None  |\n",
            "|      grade       |  None |  5553.89704034668  |  None  |\n",
            "|    sqft_above    |  None |  40.7353790102126  |  None  |\n",
            "|  sqft_basement   |  None | 91.90796363449788  |  None  |\n",
            "|     yr_built     |  None | 5.768965880750409  |  None  |\n",
            "|   yr_renovated   |  None |        0.0         |  None  |\n",
            "+------------------+-------+--------------------+--------+\n",
            "[18 rows x 4 columns]\n",
            "\n",
            "the l1 penalty number 885866790.4100832\n",
            "the numbers of nonzeros in model 16\n",
            "+------------------+-------+--------------------+--------+\n",
            "|       name       | index |       value        | stderr |\n",
            "+------------------+-------+--------------------+--------+\n",
            "|   (intercept)    |  None | 87298.82768111026  |  None  |\n",
            "|     bedrooms     |  None | 6137.401722507512  |  None  |\n",
            "| bedrooms_square  |  None |        0.0         |  None  |\n",
            "|    bathrooms     |  None | 23168.695279017622 |  None  |\n",
            "|   sqft_living    |  None | 37.88852360702265  |  None  |\n",
            "| sqft_living_sqrt |  None | 1026.7096995183606 |  None  |\n",
            "|     sqft_lot     |  None |        0.0         |  None  |\n",
            "|  sqft_lot_sqrt   |  None | 60.071985259269624 |  None  |\n",
            "|      floors      |  None | 15213.029420315957 |  None  |\n",
            "|  floors_square   |  None | 7778.835387674364  |  None  |\n",
            "|    waterfront    |  None | 217190.05177959325 |  None  |\n",
            "|       view       |  None | 66808.73953276862  |  None  |\n",
            "|    condition     |  None | 3671.728338442862  |  None  |\n",
            "|      grade       |  None | 5365.1546124373335 |  None  |\n",
            "|    sqft_above    |  None | 39.98228133899241  |  None  |\n",
            "|  sqft_basement   |  None | 83.36603089083606  |  None  |\n",
            "|     yr_built     |  None |  4.73137145970528  |  None  |\n",
            "|   yr_renovated   |  None |        0.0         |  None  |\n",
            "+------------------+-------+--------------------+--------+\n",
            "[18 rows x 4 columns]\n",
            "\n",
            "the l1 penalty number 1128837891.6846883\n",
            "the numbers of nonzeros in model 15\n",
            "+------------------+-------+--------------------+--------+\n",
            "|       name       | index |       value        | stderr |\n",
            "+------------------+-------+--------------------+--------+\n",
            "|   (intercept)    |  None | 105843.80001578903 |  None  |\n",
            "|     bedrooms     |  None | 5589.854102063292  |  None  |\n",
            "| bedrooms_square  |  None |        0.0         |  None  |\n",
            "|    bathrooms     |  None | 22460.655931298625 |  None  |\n",
            "|   sqft_living    |  None | 37.448455371145336 |  None  |\n",
            "| sqft_living_sqrt |  None | 995.1398159253138  |  None  |\n",
            "|     sqft_lot     |  None |        0.0         |  None  |\n",
            "|  sqft_lot_sqrt   |  None | 29.061521925672178 |  None  |\n",
            "|      floors      |  None | 13469.249093949678 |  None  |\n",
            "|  floors_square   |  None | 6335.036737559221  |  None  |\n",
            "|    waterfront    |  None | 108231.3024908117  |  None  |\n",
            "|       view       |  None | 59040.04882869645  |  None  |\n",
            "|    condition     |  None | 2826.454122553525  |  None  |\n",
            "|      grade       |  None | 5110.134780587125  |  None  |\n",
            "|    sqft_above    |  None | 38.96709746488858  |  None  |\n",
            "|  sqft_basement   |  None |  72.262342718077   |  None  |\n",
            "|     yr_built     |  None | 3.3529134234043285 |  None  |\n",
            "|   yr_renovated   |  None |        0.0         |  None  |\n",
            "+------------------+-------+--------------------+--------+\n",
            "[18 rows x 4 columns]\n",
            "\n",
            "the l1 penalty number 1438449888.2876658\n",
            "the numbers of nonzeros in model 15\n",
            "+------------------+-------+--------------------+--------+\n",
            "|       name       | index |       value        | stderr |\n",
            "+------------------+-------+--------------------+--------+\n",
            "|   (intercept)    |  None | 129178.71422833434 |  None  |\n",
            "|     bedrooms     |  None | 4784.470900916191  |  None  |\n",
            "| bedrooms_square  |  None |        0.0         |  None  |\n",
            "|    bathrooms     |  None | 21417.82247390827  |  None  |\n",
            "|   sqft_living    |  None |  36.7460694225941  |  None  |\n",
            "| sqft_living_sqrt |  None | 947.9643280998353  |  None  |\n",
            "|     sqft_lot     |  None |        0.0         |  None  |\n",
            "|  sqft_lot_sqrt   |  None |        0.0         |  None  |\n",
            "|      floors      |  None | 11067.154171923903 |  None  |\n",
            "|  floors_square   |  None | 4415.509049749244  |  None  |\n",
            "|    waterfront    |  None |        0.0         |  None  |\n",
            "|       view       |  None | 48905.91595294181  |  None  |\n",
            "|    condition     |  None | 1667.8408359940868 |  None  |\n",
            "|      grade       |  None | 4746.515940254005  |  None  |\n",
            "|    sqft_above    |  None | 37.51770516667074  |  None  |\n",
            "|  sqft_basement   |  None | 57.656917800612035 |  None  |\n",
            "|     yr_built     |  None | 1.4476431298936043 |  None  |\n",
            "|   yr_renovated   |  None |        0.0         |  None  |\n",
            "+------------------+-------+--------------------+--------+\n",
            "[18 rows x 4 columns]\n",
            "\n",
            "the l1 penalty number 1832980710.8324375\n",
            "the numbers of nonzeros in model 13\n",
            "+------------------+-------+--------------------+--------+\n",
            "|       name       | index |       value        | stderr |\n",
            "+------------------+-------+--------------------+--------+\n",
            "|   (intercept)    |  None | 158796.20090439412 |  None  |\n",
            "|     bedrooms     |  None | 3707.139629247276  |  None  |\n",
            "| bedrooms_square  |  None |        0.0         |  None  |\n",
            "|    bathrooms     |  None |  19985.9978368454  |  None  |\n",
            "|   sqft_living    |  None | 35.69739787089121  |  None  |\n",
            "| sqft_living_sqrt |  None | 882.7889028047689  |  None  |\n",
            "|     sqft_lot     |  None |        0.0         |  None  |\n",
            "|  sqft_lot_sqrt   |  None |        0.0         |  None  |\n",
            "|      floors      |  None | 7920.125236104686  |  None  |\n",
            "|  floors_square   |  None | 1926.9305157514855 |  None  |\n",
            "|    waterfront    |  None |        0.0         |  None  |\n",
            "|       view       |  None |  32825.2978686861  |  None  |\n",
            "|    condition     |  None | 150.01433049590722 |  None  |\n",
            "|      grade       |  None | 4258.663022349136  |  None  |\n",
            "|    sqft_above    |  None | 35.527476868788746 |  None  |\n",
            "|  sqft_basement   |  None | 38.194050907771896 |  None  |\n",
            "|     yr_built     |  None |        0.0         |  None  |\n",
            "|   yr_renovated   |  None |        0.0         |  None  |\n",
            "+------------------+-------+--------------------+--------+\n",
            "[18 rows x 4 columns]\n",
            "\n",
            "the l1 penalty number 2335721469.0901213\n",
            "the numbers of nonzeros in model 12\n",
            "+------------------+-------+--------------------+--------+\n",
            "|       name       | index |       value        | stderr |\n",
            "+------------------+-------+--------------------+--------+\n",
            "|   (intercept)    |  None | 196100.93780562267 |  None  |\n",
            "|     bedrooms     |  None | 2181.574321070701  |  None  |\n",
            "| bedrooms_square  |  None |        0.0         |  None  |\n",
            "|    bathrooms     |  None | 17962.69666115781  |  None  |\n",
            "|   sqft_living    |  None | 34.142465651225535 |  None  |\n",
            "| sqft_living_sqrt |  None | 789.3197890782401  |  None  |\n",
            "|     sqft_lot     |  None |        0.0         |  None  |\n",
            "|  sqft_lot_sqrt   |  None |        0.0         |  None  |\n",
            "|      floors      |  None | 3665.930817596543  |  None  |\n",
            "|  floors_square   |  None |        0.0         |  None  |\n",
            "|    waterfront    |  None |        0.0         |  None  |\n",
            "|       view       |  None | 11333.841030833115 |  None  |\n",
            "|    condition     |  None |        0.0         |  None  |\n",
            "|      grade       |  None |  3578.90040043811  |  None  |\n",
            "|    sqft_above    |  None | 32.74320137175831  |  None  |\n",
            "|  sqft_basement   |  None | 12.795381135944663 |  None  |\n",
            "|     yr_built     |  None |        0.0         |  None  |\n",
            "|   yr_renovated   |  None |        0.0         |  None  |\n",
            "+------------------+-------+--------------------+--------+\n",
            "[18 rows x 4 columns]\n",
            "\n",
            "the l1 penalty number 2976351441.6313133\n",
            "the numbers of nonzeros in model 10\n",
            "+------------------+-------+--------------------+--------+\n",
            "|       name       | index |       value        | stderr |\n",
            "+------------------+-------+--------------------+--------+\n",
            "|   (intercept)    |  None | 240309.75931983022 |  None  |\n",
            "|     bedrooms     |  None |        0.0         |  None  |\n",
            "| bedrooms_square  |  None |        0.0         |  None  |\n",
            "|    bathrooms     |  None | 13840.639957731411 |  None  |\n",
            "|   sqft_living    |  None | 30.55835882977699  |  None  |\n",
            "| sqft_living_sqrt |  None | 592.1994692127665  |  None  |\n",
            "|     sqft_lot     |  None |        0.0         |  None  |\n",
            "|  sqft_lot_sqrt   |  None |        0.0         |  None  |\n",
            "|      floors      |  None |        0.0         |  None  |\n",
            "|  floors_square   |  None |        0.0         |  None  |\n",
            "|    waterfront    |  None |        0.0         |  None  |\n",
            "|       view       |  None |        0.0         |  None  |\n",
            "|    condition     |  None |        0.0         |  None  |\n",
            "|      grade       |  None | 2265.1205255597074 |  None  |\n",
            "|    sqft_above    |  None | 27.487872656763898 |  None  |\n",
            "|  sqft_basement   |  None |        0.0         |  None  |\n",
            "|     yr_built     |  None |        0.0         |  None  |\n",
            "|   yr_renovated   |  None |        0.0         |  None  |\n",
            "+------------------+-------+--------------------+--------+\n",
            "[18 rows x 4 columns]\n",
            "\n",
            "the l1 penalty number 3792690190.7322536\n",
            "the numbers of nonzeros in model 6\n",
            "+------------------+-------+--------------------+--------+\n",
            "|       name       | index |       value        | stderr |\n",
            "+------------------+-------+--------------------+--------+\n",
            "|   (intercept)    |  None | 291783.67806537944 |  None  |\n",
            "|     bedrooms     |  None |        0.0         |  None  |\n",
            "| bedrooms_square  |  None |        0.0         |  None  |\n",
            "|    bathrooms     |  None | 6104.325765458819  |  None  |\n",
            "|   sqft_living    |  None | 23.170124302102412 |  None  |\n",
            "| sqft_living_sqrt |  None | 215.03093436538663 |  None  |\n",
            "|     sqft_lot     |  None |        0.0         |  None  |\n",
            "|  sqft_lot_sqrt   |  None |        0.0         |  None  |\n",
            "|      floors      |  None |        0.0         |  None  |\n",
            "|  floors_square   |  None |        0.0         |  None  |\n",
            "|    waterfront    |  None |        0.0         |  None  |\n",
            "|       view       |  None |        0.0         |  None  |\n",
            "|    condition     |  None |        0.0         |  None  |\n",
            "|      grade       |  None |        0.0         |  None  |\n",
            "|    sqft_above    |  None | 18.407474015439536 |  None  |\n",
            "|  sqft_basement   |  None |        0.0         |  None  |\n",
            "|     yr_built     |  None |        0.0         |  None  |\n",
            "|   yr_renovated   |  None |        0.0         |  None  |\n",
            "+------------------+-------+--------------------+--------+\n",
            "[18 rows x 4 columns]\n",
            "\n",
            "the l1 penalty number 4832930238.571753\n",
            "the numbers of nonzeros in model 5\n",
            "+------------------+-------+--------------------+--------+\n",
            "|       name       | index |       value        | stderr |\n",
            "+------------------+-------+--------------------+--------+\n",
            "|   (intercept)    |  None | 352383.22039180546 |  None  |\n",
            "|     bedrooms     |  None |        0.0         |  None  |\n",
            "| bedrooms_square  |  None |        0.0         |  None  |\n",
            "|    bathrooms     |  None |        0.0         |  None  |\n",
            "|   sqft_living    |  None | 11.508825781283845 |  None  |\n",
            "| sqft_living_sqrt |  None |        0.0         |  None  |\n",
            "|     sqft_lot     |  None |        0.0         |  None  |\n",
            "|  sqft_lot_sqrt   |  None |        0.0         |  None  |\n",
            "|      floors      |  None |        0.0         |  None  |\n",
            "|  floors_square   |  None |        0.0         |  None  |\n",
            "|    waterfront    |  None |        0.0         |  None  |\n",
            "|       view       |  None |        0.0         |  None  |\n",
            "|    condition     |  None |        0.0         |  None  |\n",
            "|      grade       |  None |        0.0         |  None  |\n",
            "|    sqft_above    |  None | 4.663435035929781  |  None  |\n",
            "|  sqft_basement   |  None |        0.0         |  None  |\n",
            "|     yr_built     |  None |        0.0         |  None  |\n",
            "|   yr_renovated   |  None |        0.0         |  None  |\n",
            "+------------------+-------+--------------------+--------+\n",
            "[18 rows x 4 columns]\n",
            "\n",
            "the l1 penalty number 6158482110.6602545\n",
            "the numbers of nonzeros in model 3\n",
            "+------------------+-------+--------------------+--------+\n",
            "|       name       | index |       value        | stderr |\n",
            "+------------------+-------+--------------------+--------+\n",
            "|   (intercept)    |  None | 507987.96274370275 |  None  |\n",
            "|     bedrooms     |  None |        0.0         |  None  |\n",
            "| bedrooms_square  |  None |        0.0         |  None  |\n",
            "|    bathrooms     |  None |        0.0         |  None  |\n",
            "|   sqft_living    |  None |        0.0         |  None  |\n",
            "| sqft_living_sqrt |  None |        0.0         |  None  |\n",
            "|     sqft_lot     |  None |        0.0         |  None  |\n",
            "|  sqft_lot_sqrt   |  None |        0.0         |  None  |\n",
            "|      floors      |  None |        0.0         |  None  |\n",
            "|  floors_square   |  None |        0.0         |  None  |\n",
            "|    waterfront    |  None |        0.0         |  None  |\n",
            "|       view       |  None |        0.0         |  None  |\n",
            "|    condition     |  None |        0.0         |  None  |\n",
            "|      grade       |  None |        0.0         |  None  |\n",
            "|    sqft_above    |  None |        0.0         |  None  |\n",
            "|  sqft_basement   |  None |        0.0         |  None  |\n",
            "|     yr_built     |  None |        0.0         |  None  |\n",
            "|   yr_renovated   |  None |        0.0         |  None  |\n",
            "+------------------+-------+--------------------+--------+\n",
            "[18 rows x 4 columns]\n",
            "\n",
            "the l1 penalty number 7847599703.514623\n",
            "the numbers of nonzeros in model 1\n",
            "+------------------+-------+-------------------+--------+\n",
            "|       name       | index |       value       | stderr |\n",
            "+------------------+-------+-------------------+--------+\n",
            "|   (intercept)    |  None | 564482.1368441752 |  None  |\n",
            "|     bedrooms     |  None |        0.0        |  None  |\n",
            "| bedrooms_square  |  None |        0.0        |  None  |\n",
            "|    bathrooms     |  None |        0.0        |  None  |\n",
            "|   sqft_living    |  None |        0.0        |  None  |\n",
            "| sqft_living_sqrt |  None |        0.0        |  None  |\n",
            "|     sqft_lot     |  None |        0.0        |  None  |\n",
            "|  sqft_lot_sqrt   |  None |        0.0        |  None  |\n",
            "|      floors      |  None |        0.0        |  None  |\n",
            "|  floors_square   |  None |        0.0        |  None  |\n",
            "|    waterfront    |  None |        0.0        |  None  |\n",
            "|       view       |  None |        0.0        |  None  |\n",
            "|    condition     |  None |        0.0        |  None  |\n",
            "|      grade       |  None |        0.0        |  None  |\n",
            "|    sqft_above    |  None |        0.0        |  None  |\n",
            "|  sqft_basement   |  None |        0.0        |  None  |\n",
            "|     yr_built     |  None |        0.0        |  None  |\n",
            "|   yr_renovated   |  None |        0.0        |  None  |\n",
            "+------------------+-------+-------------------+--------+\n",
            "[18 rows x 4 columns]\n",
            "\n",
            "the l1 penalty number 10000000000.0\n",
            "the numbers of nonzeros in model 1\n",
            "List of all l1 penalty and it\"s non-zeros values : \n",
            "  {100000000.0: 18, 127427498.57031322: 18, 162377673.91887242: 18, 206913808.111479: 18, 263665089.87303555: 17, 335981828.6283788: 17, 428133239.8719396: 17, 545559478.1168514: 17, 695192796.1775591: 17, 885866790.4100832: 16, 1128837891.6846883: 15, 1438449888.2876658: 15, 1832980710.8324375: 13, 2335721469.0901213: 12, 2976351441.6313133: 10, 3792690190.7322536: 6, 4832930238.571753: 5, 6158482110.6602545: 3, 7847599703.514623: 1, 10000000000.0: 1}\n"
          ],
          "name": "stdout"
        }
      ]
    },
    {
      "cell_type": "markdown",
      "metadata": {
        "id": "wZk2mZIS9EHG"
      },
      "source": [
        "Out of this large range, we want to find the two ends of our desired narrow range of `l1_penalty`.  At one end, we will have `l1_penalty` values that have too few non-zeros, and at the other end, we will have an `l1_penalty` that has too many non-zeros.  \n",
        "\n",
        "More formally, find:\n",
        "* The largest `l1_penalty` that has more non-zeros than `max_nonzeros` (if we pick a penalty smaller than this value, we will definitely have too many non-zero weights)\n",
        "    * Store this value in the variable `l1_penalty_min` (we will use it later)\n",
        "* The smallest `l1_penalty` that has fewer non-zeros than `max_nonzeros` (if we pick a penalty larger than this value, we will definitely have too few non-zero weights)\n",
        "    * Store this value in the variable `l1_penalty_max` (we will use it later)\n",
        "\n",
        "\n",
        "*Hint: there are many ways to do this, e.g.:*\n",
        "* Programmatically within the loop above\n",
        "* Creating a list with the number of non-zeros for each value of `l1_penalty` and inspecting it to find the appropriate boundaries."
      ]
    },
    {
      "cell_type": "code",
      "metadata": {
        "id": "3IVG0ab89EHK"
      },
      "source": [
        "l1_penalty_min = 2976351441.6313133\n",
        "l1_penalty_max = 3792690190.7322536"
      ],
      "execution_count": null,
      "outputs": []
    },
    {
      "cell_type": "markdown",
      "metadata": {
        "id": "RytSmcGN9EHT"
      },
      "source": [
        "***QUIZ QUESTION.*** What values did you find for `l1_penalty_min` and `l1_penalty_max`, respectively? "
      ]
    },
    {
      "cell_type": "markdown",
      "metadata": {
        "id": "kG0CPdrB9EHe"
      },
      "source": [
        "## Exploring the narrow range of values to find the solution with the right number of non-zeros that has lowest RSS on the validation set \n",
        "\n",
        "We will now explore the narrow region of `l1_penalty` values we found:"
      ]
    },
    {
      "cell_type": "code",
      "metadata": {
        "id": "PSqUG1z69EHh"
      },
      "source": [
        "l1_penalty_values = np.linspace(l1_penalty_min,l1_penalty_max,20)"
      ],
      "execution_count": null,
      "outputs": []
    },
    {
      "cell_type": "markdown",
      "metadata": {
        "id": "56nP1NZ29EHy"
      },
      "source": [
        "* For `l1_penalty` in `np.linspace(l1_penalty_min,l1_penalty_max,20)`:\n",
        "    * Fit a regression model with a given `l1_penalty` on TRAIN data. Specify `l1_penalty=l1_penalty` and `l2_penalty=0.` in the parameter list. When you call `linear_regression.create()` make sure you set `validation_set = None`\n",
        "    * Measure the RSS of the learned model on the VALIDATION set\n",
        "\n",
        "Find the model that the lowest RSS on the VALIDATION set and has sparsity *equal* to `max_nonzeros`."
      ]
    },
    {
      "cell_type": "code",
      "metadata": {
        "id": "hbXRc53P9EHz",
        "colab": {
          "base_uri": "https://localhost:8080/",
          "height": 92
        },
        "outputId": "75056be9-1cd7-45ab-9315-f8c41fa6d618"
      },
      "source": [
        "narrow_range_l1_pen = {}\n",
        "list_narrow_range_for_non_zeros = {}\n",
        "for l1_penalty in l1_penalty_values :\n",
        "  narrow_range_model = turicreate.linear_regression.create(training, target = 'price',features = all_features,validation_set=None,verbose=None,l2_penalty=0,l1_penalty=l1_penalty)\n",
        "  narrow_range_predictions = narrow_range_model.predict(validation)\n",
        "  narrow_range_RSS = sum((validation['price'] - narrow_range_predictions)**2)\n",
        "  narrow_range_l1_pen[l1_penalty] = narrow_range_RSS\n",
        "  list_narrow_range_for_non_zeros[l1_penalty] = narrow_range_model.coefficients['value'].nnz()\n",
        "print(narrow_range_l1_pen)\n",
        "print('List of all l1 penalty and it\"s non-zeros values : \\n ' ,list_narrow_range_for_non_zeros)"
      ],
      "execution_count": null,
      "outputs": [
        {
          "output_type": "stream",
          "text": [
            "{2976351441.6313133: 966925692362086.5, 3019316638.9524155: 974019450084557.2, 3062281836.2735176: 981188367942451.0, 3105247033.5946198: 989328342459472.0, 3148212230.915722: 998783211265885.9, 3191177428.236824: 1008477167020096.5, 3234142625.557926: 1018298780553818.6, 3277107822.8790283: 1028247992205976.1, 3320073020.2001305: 1034616909232829.2, 3363038217.5212326: 1038554735941039.9, 3406003414.8423347: 1043237237871704.1, 3448968612.163437: 1046937488751713.4, 3491933809.484539: 1051147625612863.1, 3534899006.805641: 1055992735342999.4, 3577864204.126743: 1060799531763290.2, 3620829401.447845: 1065707689498229.6, 3663794598.768947: 1069464335425584.1, 3706759796.0900493: 1073504549585594.6, 3749724993.4111514: 1077632775581412.0, 3792690190.7322536: 1081867592324111.9}\n",
            "List of all l1 penalty and it\"s non-zeros values : \n",
            "  {2976351441.6313133: 10, 3019316638.9524155: 10, 3062281836.2735176: 10, 3105247033.5946198: 10, 3148212230.915722: 10, 3191177428.236824: 10, 3234142625.557926: 10, 3277107822.8790283: 10, 3320073020.2001305: 8, 3363038217.5212326: 8, 3406003414.8423347: 8, 3448968612.163437: 7, 3491933809.484539: 7, 3534899006.805641: 7, 3577864204.126743: 7, 3620829401.447845: 6, 3663794598.768947: 6, 3706759796.0900493: 6, 3749724993.4111514: 6, 3792690190.7322536: 6}\n"
          ],
          "name": "stdout"
        }
      ]
    },
    {
      "cell_type": "code",
      "metadata": {
        "id": "vlm7CmUExNVy",
        "colab": {
          "base_uri": "https://localhost:8080/",
          "height": 495
        },
        "outputId": "9133aab4-a900-4943-8e9e-6639ba1b918f"
      },
      "source": [
        "rss_for_l1_with_sparsity_seven_list ={}\n",
        "for k,v in list_narrow_range_for_non_zeros.items():\n",
        "  if v == 7:\n",
        "    rss_for_l1_with_sparsity_seven_list[k] = narrow_range_l1_pen[k]\n",
        "print(min(rss_for_l1_with_sparsity_seven_list.items(), key=lambda x: x[1]))\n",
        "best_li_penalty_model = turicreate.linear_regression.create(training, target = 'price',features = all_features,validation_set=None,verbose=None,l2_penalty=0,l1_penalty=r[0])\n",
        "print(best_li_penalty_model.coefficients.print_rows(18))"
      ],
      "execution_count": null,
      "outputs": [
        {
          "output_type": "stream",
          "text": [
            "(3448968612.163437, 1046937488751713.4)\n",
            "+------------------+-------+--------------------+--------+\n",
            "|       name       | index |       value        | stderr |\n",
            "+------------------+-------+--------------------+--------+\n",
            "|   (intercept)    |  None | 222253.19254432796 |  None  |\n",
            "|     bedrooms     |  None | 661.7227177822556  |  None  |\n",
            "| bedrooms_square  |  None |        0.0         |  None  |\n",
            "|    bathrooms     |  None | 15873.957259267987 |  None  |\n",
            "|   sqft_living    |  None | 32.41022145125966  |  None  |\n",
            "| sqft_living_sqrt |  None | 690.1147733133253  |  None  |\n",
            "|     sqft_lot     |  None |        0.0         |  None  |\n",
            "|  sqft_lot_sqrt   |  None |        0.0         |  None  |\n",
            "|      floors      |  None |        0.0         |  None  |\n",
            "|  floors_square   |  None |        0.0         |  None  |\n",
            "|    waterfront    |  None |        0.0         |  None  |\n",
            "|       view       |  None |        0.0         |  None  |\n",
            "|    condition     |  None |        0.0         |  None  |\n",
            "|      grade       |  None | 2899.4202697498704 |  None  |\n",
            "|    sqft_above    |  None | 30.01157530220103  |  None  |\n",
            "|  sqft_basement   |  None |        0.0         |  None  |\n",
            "|     yr_built     |  None |        0.0         |  None  |\n",
            "|   yr_renovated   |  None |        0.0         |  None  |\n",
            "+------------------+-------+--------------------+--------+\n",
            "[18 rows x 4 columns]\n",
            "\n",
            "None\n"
          ],
          "name": "stdout"
        }
      ]
    },
    {
      "cell_type": "markdown",
      "metadata": {
        "id": "aVvgde6X9EH-"
      },
      "source": [
        "***QUIZ QUESTIONS***\n",
        "1. What value of `l1_penalty` in our narrow range has the lowest RSS on the VALIDATION set and has sparsity *equal* to `max_nonzeros`?\n",
        "2. What features in this model have non-zero coefficients?"
      ]
    },
    {
      "cell_type": "code",
      "metadata": {
        "id": "BMbFSR_Zmc-U",
        "colab": {
          "base_uri": "https://localhost:8080/",
          "height": 35
        },
        "outputId": "51049fd1-bda1-4746-9b35-88b9815b7f18"
      },
      "source": [
        "\n"
      ],
      "execution_count": null,
      "outputs": [
        {
          "output_type": "execute_result",
          "data": {
            "text/plain": [
              "10"
            ]
          },
          "metadata": {
            "tags": []
          },
          "execution_count": 68
        }
      ]
    }
  ]
}