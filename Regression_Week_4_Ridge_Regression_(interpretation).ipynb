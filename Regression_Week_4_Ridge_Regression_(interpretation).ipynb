{
  "nbformat": 4,
  "nbformat_minor": 0,
  "metadata": {
    "kernelspec": {
      "name": "python3",
      "display_name": "Python 3"
    },
    "colab": {
      "name": "Regression Week 4: Ridge Regression (interpretation).ipynb",
      "provenance": [],
      "collapsed_sections": []
    }
  },
  "cells": [
    {
      "cell_type": "markdown",
      "metadata": {
        "id": "mkt7G0AmKUlr"
      },
      "source": [
        "# Regression Week 4: Ridge Regression (interpretation)"
      ]
    },
    {
      "cell_type": "markdown",
      "metadata": {
        "id": "fuljkpZJKUl9"
      },
      "source": [
        "In this notebook, we will run ridge regression multiple times with different L2 penalties to see which one produces the best fit. We will revisit the example of polynomial regression as a means to see the effect of L2 regularization. In particular, we will:\n",
        "* Use a pre-built implementation of regression (Turi Create) to run polynomial regression\n",
        "* Use matplotlib to visualize polynomial regressions\n",
        "* Use a pre-built implementation of regression (Turi Create) to run polynomial regression, this time with L2 penalty\n",
        "* Use matplotlib to visualize polynomial regressions under L2 regularization\n",
        "* Choose best L2 penalty using cross-validation.\n",
        "* Assess the final fit using test data.\n",
        "\n",
        "We will continue to use the House data from previous notebooks.  (In the next programming assignment for this module, you will implement your own ridge regression learning algorithm using gradient descent.)"
      ]
    },
    {
      "cell_type": "code",
      "metadata": {
        "id": "rnyt9QzQKdRv",
        "colab": {
          "base_uri": "https://localhost:8080/",
          "height": 1000
        },
        "outputId": "620c7b91-0cf9-45bc-d03b-e5a6c280c9e1"
      },
      "source": [
        "!pip install -e git+https://github.com/Kagandi/turicreate-cross-validation.git#egg=turicreate_cross_validation\n",
        "!pip install numpy "
      ],
      "execution_count": null,
      "outputs": [
        {
          "output_type": "stream",
          "text": [
            "Obtaining turicreate_cross_validation from git+https://github.com/Kagandi/turicreate-cross-validation.git#egg=turicreate_cross_validation\n",
            "  Updating ./src/turicreate-cross-validation clone\n",
            "  Running command git fetch -q --tags\n",
            "  Running command git reset --hard -q dabf3b7d9d35de767945cc0f3dc6448c2c9b3dc1\n",
            "Requirement already satisfied: turicreate in /usr/local/lib/python3.6/dist-packages (from turicreate_cross_validation) (6.1)\n",
            "Requirement already satisfied: numpy in /usr/local/lib/python3.6/dist-packages (from turicreate_cross_validation) (1.18.1)\n",
            "Requirement already satisfied: six>=1.10.0 in /usr/local/lib/python3.6/dist-packages (from turicreate->turicreate_cross_validation) (1.12.0)\n",
            "Requirement already satisfied: tensorflow>=2.0.0 in /usr/local/lib/python3.6/dist-packages (from turicreate->turicreate_cross_validation) (2.1.0)\n",
            "Requirement already satisfied: pillow>=5.2.0 in /usr/local/lib/python3.6/dist-packages (from turicreate->turicreate_cross_validation) (7.0.0)\n",
            "Requirement already satisfied: decorator>=4.0.9 in /usr/local/lib/python3.6/dist-packages (from turicreate->turicreate_cross_validation) (4.4.2)\n",
            "Requirement already satisfied: prettytable==0.7.2 in /usr/local/lib/python3.6/dist-packages (from turicreate->turicreate_cross_validation) (0.7.2)\n",
            "Requirement already satisfied: resampy==0.2.1 in /usr/local/lib/python3.6/dist-packages (from turicreate->turicreate_cross_validation) (0.2.1)\n",
            "Requirement already satisfied: coremltools==3.3 in /usr/local/lib/python3.6/dist-packages (from turicreate->turicreate_cross_validation) (3.3)\n",
            "Requirement already satisfied: requests>=2.9.1 in /usr/local/lib/python3.6/dist-packages (from turicreate->turicreate_cross_validation) (2.21.0)\n",
            "Requirement already satisfied: pandas>=0.23.2 in /usr/local/lib/python3.6/dist-packages (from turicreate->turicreate_cross_validation) (0.25.3)\n",
            "Requirement already satisfied: scipy>=1.1.0 in /usr/local/lib/python3.6/dist-packages (from turicreate->turicreate_cross_validation) (1.4.1)\n",
            "Requirement already satisfied: protobuf>=3.8.0 in /usr/local/lib/python3.6/dist-packages (from tensorflow>=2.0.0->turicreate->turicreate_cross_validation) (3.10.0)\n",
            "Requirement already satisfied: tensorflow-estimator<2.2.0,>=2.1.0rc0 in /usr/local/lib/python3.6/dist-packages (from tensorflow>=2.0.0->turicreate->turicreate_cross_validation) (2.1.0)\n",
            "Requirement already satisfied: wrapt>=1.11.1 in /usr/local/lib/python3.6/dist-packages (from tensorflow>=2.0.0->turicreate->turicreate_cross_validation) (1.12.1)\n",
            "Requirement already satisfied: opt-einsum>=2.3.2 in /usr/local/lib/python3.6/dist-packages (from tensorflow>=2.0.0->turicreate->turicreate_cross_validation) (3.2.0)\n",
            "Requirement already satisfied: google-pasta>=0.1.6 in /usr/local/lib/python3.6/dist-packages (from tensorflow>=2.0.0->turicreate->turicreate_cross_validation) (0.1.8)\n",
            "Requirement already satisfied: keras-applications>=1.0.8 in /usr/local/lib/python3.6/dist-packages (from tensorflow>=2.0.0->turicreate->turicreate_cross_validation) (1.0.8)\n",
            "Requirement already satisfied: keras-preprocessing>=1.1.0 in /usr/local/lib/python3.6/dist-packages (from tensorflow>=2.0.0->turicreate->turicreate_cross_validation) (1.1.0)\n",
            "Requirement already satisfied: wheel>=0.26; python_version >= \"3\" in /usr/local/lib/python3.6/dist-packages (from tensorflow>=2.0.0->turicreate->turicreate_cross_validation) (0.34.2)\n",
            "Requirement already satisfied: absl-py>=0.7.0 in /usr/local/lib/python3.6/dist-packages (from tensorflow>=2.0.0->turicreate->turicreate_cross_validation) (0.9.0)\n",
            "Requirement already satisfied: gast==0.2.2 in /usr/local/lib/python3.6/dist-packages (from tensorflow>=2.0.0->turicreate->turicreate_cross_validation) (0.2.2)\n",
            "Requirement already satisfied: tensorboard<2.2.0,>=2.1.0 in /usr/local/lib/python3.6/dist-packages (from tensorflow>=2.0.0->turicreate->turicreate_cross_validation) (2.1.1)\n",
            "Requirement already satisfied: astor>=0.6.0 in /usr/local/lib/python3.6/dist-packages (from tensorflow>=2.0.0->turicreate->turicreate_cross_validation) (0.8.1)\n",
            "Requirement already satisfied: grpcio>=1.8.6 in /usr/local/lib/python3.6/dist-packages (from tensorflow>=2.0.0->turicreate->turicreate_cross_validation) (1.24.3)\n",
            "Requirement already satisfied: termcolor>=1.1.0 in /usr/local/lib/python3.6/dist-packages (from tensorflow>=2.0.0->turicreate->turicreate_cross_validation) (1.1.0)\n",
            "Requirement already satisfied: numba>=0.32 in /usr/local/lib/python3.6/dist-packages (from resampy==0.2.1->turicreate->turicreate_cross_validation) (0.47.0)\n",
            "Requirement already satisfied: idna<2.9,>=2.5 in /usr/local/lib/python3.6/dist-packages (from requests>=2.9.1->turicreate->turicreate_cross_validation) (2.8)\n",
            "Requirement already satisfied: chardet<3.1.0,>=3.0.2 in /usr/local/lib/python3.6/dist-packages (from requests>=2.9.1->turicreate->turicreate_cross_validation) (3.0.4)\n",
            "Requirement already satisfied: urllib3<1.25,>=1.21.1 in /usr/local/lib/python3.6/dist-packages (from requests>=2.9.1->turicreate->turicreate_cross_validation) (1.24.3)\n",
            "Requirement already satisfied: certifi>=2017.4.17 in /usr/local/lib/python3.6/dist-packages (from requests>=2.9.1->turicreate->turicreate_cross_validation) (2019.11.28)\n",
            "Requirement already satisfied: python-dateutil>=2.6.1 in /usr/local/lib/python3.6/dist-packages (from pandas>=0.23.2->turicreate->turicreate_cross_validation) (2.8.1)\n",
            "Requirement already satisfied: pytz>=2017.2 in /usr/local/lib/python3.6/dist-packages (from pandas>=0.23.2->turicreate->turicreate_cross_validation) (2018.9)\n",
            "Requirement already satisfied: setuptools in /usr/local/lib/python3.6/dist-packages (from protobuf>=3.8.0->tensorflow>=2.0.0->turicreate->turicreate_cross_validation) (45.2.0)\n",
            "Requirement already satisfied: h5py in /usr/local/lib/python3.6/dist-packages (from keras-applications>=1.0.8->tensorflow>=2.0.0->turicreate->turicreate_cross_validation) (2.8.0)\n",
            "Requirement already satisfied: google-auth-oauthlib<0.5,>=0.4.1 in /usr/local/lib/python3.6/dist-packages (from tensorboard<2.2.0,>=2.1.0->tensorflow>=2.0.0->turicreate->turicreate_cross_validation) (0.4.1)\n",
            "Requirement already satisfied: google-auth<2,>=1.6.3 in /usr/local/lib/python3.6/dist-packages (from tensorboard<2.2.0,>=2.1.0->tensorflow>=2.0.0->turicreate->turicreate_cross_validation) (1.7.2)\n",
            "Requirement already satisfied: werkzeug>=0.11.15 in /usr/local/lib/python3.6/dist-packages (from tensorboard<2.2.0,>=2.1.0->tensorflow>=2.0.0->turicreate->turicreate_cross_validation) (1.0.0)\n",
            "Requirement already satisfied: markdown>=2.6.8 in /usr/local/lib/python3.6/dist-packages (from tensorboard<2.2.0,>=2.1.0->tensorflow>=2.0.0->turicreate->turicreate_cross_validation) (3.2.1)\n",
            "Requirement already satisfied: llvmlite>=0.31.0dev0 in /usr/local/lib/python3.6/dist-packages (from numba>=0.32->resampy==0.2.1->turicreate->turicreate_cross_validation) (0.31.0)\n",
            "Requirement already satisfied: requests-oauthlib>=0.7.0 in /usr/local/lib/python3.6/dist-packages (from google-auth-oauthlib<0.5,>=0.4.1->tensorboard<2.2.0,>=2.1.0->tensorflow>=2.0.0->turicreate->turicreate_cross_validation) (1.3.0)\n",
            "Requirement already satisfied: cachetools<3.2,>=2.0.0 in /usr/local/lib/python3.6/dist-packages (from google-auth<2,>=1.6.3->tensorboard<2.2.0,>=2.1.0->tensorflow>=2.0.0->turicreate->turicreate_cross_validation) (3.1.1)\n",
            "Requirement already satisfied: pyasn1-modules>=0.2.1 in /usr/local/lib/python3.6/dist-packages (from google-auth<2,>=1.6.3->tensorboard<2.2.0,>=2.1.0->tensorflow>=2.0.0->turicreate->turicreate_cross_validation) (0.2.8)\n",
            "Requirement already satisfied: rsa<4.1,>=3.1.4 in /usr/local/lib/python3.6/dist-packages (from google-auth<2,>=1.6.3->tensorboard<2.2.0,>=2.1.0->tensorflow>=2.0.0->turicreate->turicreate_cross_validation) (4.0)\n",
            "Requirement already satisfied: oauthlib>=3.0.0 in /usr/local/lib/python3.6/dist-packages (from requests-oauthlib>=0.7.0->google-auth-oauthlib<0.5,>=0.4.1->tensorboard<2.2.0,>=2.1.0->tensorflow>=2.0.0->turicreate->turicreate_cross_validation) (3.1.0)\n",
            "Requirement already satisfied: pyasn1<0.5.0,>=0.4.6 in /usr/local/lib/python3.6/dist-packages (from pyasn1-modules>=0.2.1->google-auth<2,>=1.6.3->tensorboard<2.2.0,>=2.1.0->tensorflow>=2.0.0->turicreate->turicreate_cross_validation) (0.4.8)\n",
            "Installing collected packages: turicreate-cross-validation\n",
            "  Found existing installation: turicreate-cross-validation 0.1\n",
            "    Can't uninstall 'turicreate-cross-validation'. No files were found to uninstall.\n",
            "  Running setup.py develop for turicreate-cross-validation\n",
            "Successfully installed turicreate-cross-validation\n",
            "Requirement already satisfied: numpy in /usr/local/lib/python3.6/dist-packages (1.18.1)\n"
          ],
          "name": "stdout"
        }
      ]
    },
    {
      "cell_type": "markdown",
      "metadata": {
        "id": "H6BfgO7JKUmK"
      },
      "source": [
        "# Fire up Turi Create"
      ]
    },
    {
      "cell_type": "code",
      "metadata": {
        "id": "CBcSFsjcKUmW"
      },
      "source": [
        "import turicreate\n",
        "import numpy as np"
      ],
      "execution_count": null,
      "outputs": []
    },
    {
      "cell_type": "code",
      "metadata": {
        "id": "HBWxuOaKLG34",
        "colab": {
          "base_uri": "https://localhost:8080/",
          "height": 35
        },
        "outputId": "98ac53e1-285c-46ec-9ea6-03d1953b1b7c"
      },
      "source": [
        "import os.path\n",
        "from google.colab import drive\n",
        "\n",
        "# mount Google Drive to /content/drive/My Drive/\n",
        "if os.path.isdir(\"/content/drive/My Drive/\"):\n",
        "  print(\"Google Drive already mounted\")\n",
        "else:\n",
        "  drive.mount('/content/drive')"
      ],
      "execution_count": null,
      "outputs": [
        {
          "output_type": "stream",
          "text": [
            "Google Drive already mounted\n"
          ],
          "name": "stdout"
        }
      ]
    },
    {
      "cell_type": "code",
      "metadata": {
        "id": "tr9-r5wYLXOh",
        "colab": {
          "base_uri": "https://localhost:8080/",
          "height": 72
        },
        "outputId": "2d9896c4-2adb-485d-8f98-b0bb5cfc130b"
      },
      "source": [
        "import os.path\n",
        "import urllib.request\n",
        "import tarfile\n",
        "import zipfile\n",
        "import gzip\n",
        "from shutil import copy\n",
        "\n",
        "def fetch_remote_datafile(filename, remote_url):\n",
        "  if os.path.isfile(\"./\" + filename):\n",
        "    print(\"already have \" + filename + \" in workspace\")\n",
        "    return\n",
        "  print(\"fetching \" + filename + \" from \" + remote_url + \"...\")\n",
        "  urllib.request.urlretrieve(remote_url, \"./\" + filename)\n",
        "\n",
        "def cache_datafile_in_drive(filename):\n",
        "  if os.path.isfile(\"./\" + filename) == False:\n",
        "    print(\"cannot cache \" + filename + \", it is not in workspace\")\n",
        "    return\n",
        "  \n",
        "  data_drive_path = \"/content/drive/My Drive/Colab Notebooks/\"\n",
        "  if os.path.isfile(data_drive_path + filename):\n",
        "    print(\"\" + filename + \" has already been stored in Google Drive\")\n",
        "  else:\n",
        "    print(\"copying \" + filename + \" to \" + data_drive_path)\n",
        "    copy(\"./\" + filename, data_drive_path)\n",
        "  \n",
        "\n",
        "def load_datafile_from_drive(filename, remote_url=None):\n",
        "  data_drive_path = \"/content/drive/My Drive/Colab Notebooks/\"\n",
        "  if os.path.isfile(\"./\" + filename):\n",
        "    print(\"already have \" + filename + \" in workspace\")\n",
        "  elif os.path.isfile(data_drive_path + filename):\n",
        "    print(\"have \" + filename + \" in Google Drive, copying to workspace...\")\n",
        "    copy(data_drive_path + filename, \".\")\n",
        "  elif remote_url != None:\n",
        "    fetch_remote_datafile(filename, remote_url)\n",
        "  else:\n",
        "    print(\"error: you need to manually download \" + filename + \" and put in drive\")\n",
        "    \n",
        "def extract_datafile(filename, expected_extract_artifact=None):\n",
        "  if expected_extract_artifact != None and (os.path.isfile(expected_extract_artifact) or os.path.isdir(expected_extract_artifact)):\n",
        "    \n",
        "    print(\"files in \" + filename + \" have already been extracted\")\n",
        "  elif os.path.isfile(\"./\" + filename) == False:\n",
        "    print(\"error: cannot extract \" + filename + \", it is not in the workspace\")\n",
        "  else:\n",
        "    extension = filename.split('.')[-1]\n",
        "    if extension == \"zip\":\n",
        "      print(\"extracting \" + filename + \"...\")\n",
        "      data_file = open(filename, \"rb\")\n",
        "      z = zipfile.ZipFile(data_file)\n",
        "      for name in z.namelist():\n",
        "          print(\"    extracting file\", name)\n",
        "          z.extract(name, \"./\")\n",
        "      data_file.close()\n",
        "    elif extension == \"gz\":\n",
        "      print(\"extracting \" + filename + \"...\")\n",
        "      if filename.split('.')[-2] == \"tar\":\n",
        "        tar = tarfile.open(filename)\n",
        "        tar.extractall()\n",
        "        tar.close()\n",
        "      else:\n",
        "        data_zip_file = gzip.GzipFile(filename, 'rb')\n",
        "        data = data_zip_file.read()\n",
        "        data_zip_file.close()\n",
        "        extracted_file = open('.'.join(filename.split('.')[0:-1]), 'wb')\n",
        "        extracted_file.write(data)\n",
        "        extracted_file.close()\n",
        "    elif extension == \"tar\":\n",
        "      print(\"extracting \" + filename + \"...\")\n",
        "      tar = tarfile.open(filename)\n",
        "      tar.extractall()\n",
        "      tar.close()\n",
        "    elif extension == \"csv\":\n",
        "      print(\"do not need to extract csv\")\n",
        "    else:\n",
        "      print(\"cannot extract \" + filename)\n",
        "      \n",
        "def load_cache_extract_datafile(filename, expected_extract_artifact=None, remote_url=None):\n",
        "  load_datafile_from_drive(filename, remote_url)\n",
        "  extract_datafile(filename, expected_extract_artifact)\n",
        "  cache_datafile_in_drive(filename)\n",
        "  \n",
        "load_cache_extract_datafile(\"home_data.sframe.zip\", \"home_data.sframe\", \"https://d3c33hcgiwev3.cloudfront.net/00FsKOIoEemELQpo9cj5Ig_579152614f2b4a399ac90a939360749e_home_data.sframe.zip?Expires=1583884800&Signature=Y3dA-4ZxuWRSi7DaXvG3EHbMMW1DyTy6FGM4LSgyQusdmjPGSgkZi9tCFuQnCmjSXErfiNwGR2o8oNsBuijNQHk06PiB7JIjXNF3pYbOcu5ng3PWbBTgZjPuIc1jAz-sjBBJVfjGZ032keNsMMVIuJ6NrqVXaK8-U0sGkAtQYwI_&Key-Pair-Id=APKAJLTNE6QMUY6HBC5A\")\n"
      ],
      "execution_count": null,
      "outputs": [
        {
          "output_type": "stream",
          "text": [
            "already have home_data.sframe.zip in workspace\n",
            "files in home_data.sframe.zip have already been extracted\n",
            "home_data.sframe.zip has already been stored in Google Drive\n"
          ],
          "name": "stdout"
        }
      ]
    },
    {
      "cell_type": "markdown",
      "metadata": {
        "id": "E9KoIYErKUnA"
      },
      "source": [
        "# Polynomial regression, revisited"
      ]
    },
    {
      "cell_type": "markdown",
      "metadata": {
        "id": "OGo1PWWzKUnJ"
      },
      "source": [
        "We build on the material from Week 3, where we wrote the function to produce an SFrame with columns containing the powers of a given input. Copy and paste the function `polynomial_sframe` from Week 3:"
      ]
    },
    {
      "cell_type": "code",
      "metadata": {
        "id": "NkNWXlUsKUnR"
      },
      "source": [
        "def polynomial_sframe(feature, degree):\n",
        "    # assume that degree >= 1\n",
        "    # initialize the SFrame:\n",
        "    poly_sframe = turicreate.SFrame()\n",
        "    # and set poly_sframe['power_1'] equal to the passed feature\n",
        "    poly_sframe['power_1'] = feature\n",
        "    # first check if degree > 1\n",
        "    if degree > 1:\n",
        "        # then loop over the remaining degrees:\n",
        "        # range usually starts at 0 and stops at the endpoint-1. We want it to start at 2 and stop at degree\n",
        "        for power in range(2, degree+1): \n",
        "            # first we'll give the column a name:\n",
        "            name = 'power_' + str(power)\n",
        "            # then assign poly_sframe[name] to the appropriate power of feature\n",
        "            poly_sframe[name] = feature.apply(lambda x:x**power)\n",
        "    return poly_sframe"
      ],
      "execution_count": null,
      "outputs": []
    },
    {
      "cell_type": "markdown",
      "metadata": {
        "id": "nxOcU44iKUnw"
      },
      "source": [
        "Let's use matplotlib to visualize what a polynomial regression looks like on the house data."
      ]
    },
    {
      "cell_type": "code",
      "metadata": {
        "id": "UqXH-TB0KUn2"
      },
      "source": [
        "import matplotlib.pyplot as plt\n",
        "%matplotlib inline"
      ],
      "execution_count": null,
      "outputs": []
    },
    {
      "cell_type": "code",
      "metadata": {
        "id": "uV4hg6CuKUof"
      },
      "source": [
        "sales = turicreate.SFrame('home_data.sframe/')"
      ],
      "execution_count": null,
      "outputs": []
    },
    {
      "cell_type": "markdown",
      "metadata": {
        "id": "ZSJLfMt6KUo1"
      },
      "source": [
        "As in Week 3, we will use the sqft_living variable. For plotting purposes (connecting the dots), you'll need to sort by the values of sqft_living. For houses with identical square footage, we break the tie by their prices."
      ]
    },
    {
      "cell_type": "code",
      "metadata": {
        "id": "oPEsGTPDKUpB"
      },
      "source": [
        "sales = sales.sort(['sqft_living','price'])"
      ],
      "execution_count": null,
      "outputs": []
    },
    {
      "cell_type": "markdown",
      "metadata": {
        "id": "NK78xIdzKUpT"
      },
      "source": [
        "Let us revisit the 15th-order polynomial model using the 'sqft_living' input. Generate polynomial features up to degree 15 using `polynomial_sframe()` and fit a model with these features. When fitting the model, use an L2 penalty of `1e-5`:"
      ]
    },
    {
      "cell_type": "code",
      "metadata": {
        "id": "b9uBo4M4KUpa"
      },
      "source": [
        "l2_small_penalty = 1e-5"
      ],
      "execution_count": null,
      "outputs": []
    },
    {
      "cell_type": "markdown",
      "metadata": {
        "id": "T6NYW2xtKUps"
      },
      "source": [
        "Note: When we have so many features and so few data points, the solution can become highly numerically unstable, which can sometimes lead to strange unpredictable results.  Thus, rather than using no regularization, we will introduce a tiny amount of regularization (`l2_penalty=1e-5`) to make the solution numerically stable.  (In lecture, we discussed the fact that regularization can also help with numerical stability, and here we are seeing a practical example.)\n",
        "\n",
        "With the L2 penalty specified above, fit the model and print out the learned weights.\n",
        "\n",
        "Hint: make sure to add 'price' column to the new SFrame before calling `turicreate.linear_regression.create()`. Also, make sure Turi Create doesn't create its own validation set by using the option `validation_set=None` in this call."
      ]
    },
    {
      "cell_type": "code",
      "metadata": {
        "id": "Ju6hu0NCKUpy"
      },
      "source": [
        "poly15_data = polynomial_sframe(sales['sqft_living'], 15)\n",
        "my_features = poly15_data.column_names()\n",
        "poly15_data['price'] = sales['price'] # add price to the data since it's the target"
      ],
      "execution_count": null,
      "outputs": []
    },
    {
      "cell_type": "code",
      "metadata": {
        "id": "62hNHLnIOk74",
        "colab": {
          "base_uri": "https://localhost:8080/",
          "height": 260
        },
        "outputId": "a33ca829-9cd5-4dc1-a5cf-061aaf8b806e"
      },
      "source": [
        "model15 = turicreate.linear_regression.create(poly15_data, target = 'price', features = my_features, validation_set = None,l2_penalty=1e-5)"
      ],
      "execution_count": null,
      "outputs": [
        {
          "output_type": "display_data",
          "data": {
            "text/html": [
              "<pre>Linear regression:</pre>"
            ],
            "text/plain": [
              "Linear regression:"
            ]
          },
          "metadata": {
            "tags": []
          }
        },
        {
          "output_type": "display_data",
          "data": {
            "text/html": [
              "<pre>--------------------------------------------------------</pre>"
            ],
            "text/plain": [
              "--------------------------------------------------------"
            ]
          },
          "metadata": {
            "tags": []
          }
        },
        {
          "output_type": "display_data",
          "data": {
            "text/html": [
              "<pre>Number of examples          : 21613</pre>"
            ],
            "text/plain": [
              "Number of examples          : 21613"
            ]
          },
          "metadata": {
            "tags": []
          }
        },
        {
          "output_type": "display_data",
          "data": {
            "text/html": [
              "<pre>Number of features          : 15</pre>"
            ],
            "text/plain": [
              "Number of features          : 15"
            ]
          },
          "metadata": {
            "tags": []
          }
        },
        {
          "output_type": "display_data",
          "data": {
            "text/html": [
              "<pre>Number of unpacked features : 15</pre>"
            ],
            "text/plain": [
              "Number of unpacked features : 15"
            ]
          },
          "metadata": {
            "tags": []
          }
        },
        {
          "output_type": "display_data",
          "data": {
            "text/html": [
              "<pre>Number of coefficients    : 16</pre>"
            ],
            "text/plain": [
              "Number of coefficients    : 16"
            ]
          },
          "metadata": {
            "tags": []
          }
        },
        {
          "output_type": "display_data",
          "data": {
            "text/html": [
              "<pre>Starting Newton Method</pre>"
            ],
            "text/plain": [
              "Starting Newton Method"
            ]
          },
          "metadata": {
            "tags": []
          }
        },
        {
          "output_type": "display_data",
          "data": {
            "text/html": [
              "<pre>--------------------------------------------------------</pre>"
            ],
            "text/plain": [
              "--------------------------------------------------------"
            ]
          },
          "metadata": {
            "tags": []
          }
        },
        {
          "output_type": "display_data",
          "data": {
            "text/html": [
              "<pre>+-----------+----------+--------------+--------------------+---------------------------------+</pre>"
            ],
            "text/plain": [
              "+-----------+----------+--------------+--------------------+---------------------------------+"
            ]
          },
          "metadata": {
            "tags": []
          }
        },
        {
          "output_type": "display_data",
          "data": {
            "text/html": [
              "<pre>| Iteration | Passes   | Elapsed Time | Training Max Error | Training Root-Mean-Square Error |</pre>"
            ],
            "text/plain": [
              "| Iteration | Passes   | Elapsed Time | Training Max Error | Training Root-Mean-Square Error |"
            ]
          },
          "metadata": {
            "tags": []
          }
        },
        {
          "output_type": "display_data",
          "data": {
            "text/html": [
              "<pre>+-----------+----------+--------------+--------------------+---------------------------------+</pre>"
            ],
            "text/plain": [
              "+-----------+----------+--------------+--------------------+---------------------------------+"
            ]
          },
          "metadata": {
            "tags": []
          }
        },
        {
          "output_type": "display_data",
          "data": {
            "text/html": [
              "<pre>| 1         | 2        | 1.022064     | 2662555.740143     | 245656.462167                   |</pre>"
            ],
            "text/plain": [
              "| 1         | 2        | 1.022064     | 2662555.740143     | 245656.462167                   |"
            ]
          },
          "metadata": {
            "tags": []
          }
        },
        {
          "output_type": "display_data",
          "data": {
            "text/html": [
              "<pre>+-----------+----------+--------------+--------------------+---------------------------------+</pre>"
            ],
            "text/plain": [
              "+-----------+----------+--------------+--------------------+---------------------------------+"
            ]
          },
          "metadata": {
            "tags": []
          }
        },
        {
          "output_type": "display_data",
          "data": {
            "text/html": [
              "<pre>SUCCESS: Optimal solution found.</pre>"
            ],
            "text/plain": [
              "SUCCESS: Optimal solution found."
            ]
          },
          "metadata": {
            "tags": []
          }
        },
        {
          "output_type": "display_data",
          "data": {
            "text/html": [
              "<pre></pre>"
            ],
            "text/plain": [
              ""
            ]
          },
          "metadata": {
            "tags": []
          }
        }
      ]
    },
    {
      "cell_type": "code",
      "metadata": {
        "id": "WZjZ5cpXPS6X",
        "colab": {
          "base_uri": "https://localhost:8080/",
          "height": 424
        },
        "outputId": "7884813d-637c-4c76-edfe-45274db00509"
      },
      "source": [
        "model15.coefficients.print_rows(num_rows = 16)"
      ],
      "execution_count": null,
      "outputs": [
        {
          "output_type": "stream",
          "text": [
            "+-------------+-------+-------------------------+------------------------+\n",
            "|     name    | index |          value          |         stderr         |\n",
            "+-------------+-------+-------------------------+------------------------+\n",
            "| (intercept) |  None |    167924.8411365645    |   417119.3944525994    |\n",
            "|   power_1   |  None |    103.09100281549647   |    1916.06423563516    |\n",
            "|   power_2   |  None |   0.13460449094841306   |   3.6652773754361316   |\n",
            "|   power_3   |  None | -0.00012907132993368513 |  0.003853571751820978  |\n",
            "|   power_4   |  None |  5.189288591857424e-08  | 2.4779726756611413e-06 |\n",
            "|   power_5   |  None |  -7.77169179606626e-12  | 1.0241563597247733e-09 |\n",
            "|   power_6   |  None |  1.7114485533390073e-16 | 2.776469904058111e-13  |\n",
            "|   power_7   |  None |  4.511778034333865e-20  | 5.0002747716762833e-17 |\n",
            "|   power_8   |  None |  -4.788393972713383e-25 | 6.592184360020936e-21  |\n",
            "|   power_9   |  None | -2.3334339873835155e-28 | 8.424206775684057e-25  |\n",
            "|   power_10  |  None |  -7.290222754615297e-33 | 8.940063539222225e-29  |\n",
            "|   power_11  |  None |  7.228281204227061e-37  | 3.848018660187492e-33  |\n",
            "|   power_12  |  None |  6.904707885666143e-41  |          nan           |\n",
            "|   power_13  |  None |  -3.658393393424231e-46 | 6.228657457543392e-42  |\n",
            "|   power_14  |  None |  -3.79576023978375e-49  | 1.042853206537528e-45  |\n",
            "|   power_15  |  None |  1.1372311514568945e-53 | 2.1308612843457019e-50 |\n",
            "+-------------+-------+-------------------------+------------------------+\n",
            "[16 rows x 4 columns]\n",
            "\n"
          ],
          "name": "stdout"
        }
      ]
    },
    {
      "cell_type": "markdown",
      "metadata": {
        "id": "znt1VtPDKUqE"
      },
      "source": [
        "***QUIZ QUESTION:  What's the learned value for the coefficient of feature `power_1`?***"
      ]
    },
    {
      "cell_type": "markdown",
      "metadata": {
        "id": "RgX-8Db9KUqL"
      },
      "source": [
        "# Observe overfitting"
      ]
    },
    {
      "cell_type": "markdown",
      "metadata": {
        "id": "Dt7QaVl-KUqP"
      },
      "source": [
        "Recall from Week 3 that the polynomial fit of degree 15 changed wildly whenever the data changed. In particular, when we split the sales data into four subsets and fit the model of degree 15, the result came out to be very different for each subset. The model had a *high variance*. We will see in a moment that ridge regression reduces such variance. But first, we must reproduce the experiment we did in Week 3."
      ]
    },
    {
      "cell_type": "markdown",
      "metadata": {
        "id": "2EKljVZfKUqU"
      },
      "source": [
        "First, split the data into split the sales data into four subsets of roughly equal size and call them `set_1`, `set_2`, `set_3`, and `set_4`. Use `.random_split` function and make sure you set `seed=0`. "
      ]
    },
    {
      "cell_type": "code",
      "metadata": {
        "id": "YlQeYKZAKUqb"
      },
      "source": [
        "(semi_split1, semi_split2) = sales.random_split(.5,seed=0)\n",
        "(set_1, set_2) = semi_split1.random_split(0.5, seed=0)\n",
        "(set_3, set_4) = semi_split2.random_split(0.5, seed=0)"
      ],
      "execution_count": null,
      "outputs": []
    },
    {
      "cell_type": "markdown",
      "metadata": {
        "id": "3gnvMbpEKUqs"
      },
      "source": [
        "Next, fit a 15th degree polynomial on `set_1`, `set_2`, `set_3`, and `set_4`, using 'sqft_living' to predict prices. Print the weights and make a plot of the resulting model.\n",
        "\n",
        "Hint: When calling `turicreate.linear_regression.create()`, use the same L2 penalty as before (i.e. `l2_small_penalty`).  Also, make sure Turi Create doesn't create its own validation set by using the option `validation_set = None` in this call."
      ]
    },
    {
      "cell_type": "code",
      "metadata": {
        "scrolled": false,
        "id": "Y9KarikKKUrH",
        "colab": {
          "base_uri": "https://localhost:8080/",
          "height": 1000
        },
        "outputId": "54ec1470-d2c6-40ea-de84-f04327a0c819"
      },
      "source": [
        "set_numbers_var = [set_1, set_2, set_3, set_4]\n",
        "for set_number in set_numbers_var:\n",
        "    poly15_data_set_number = polynomial_sframe(set_number['sqft_living'], 15)\n",
        "    my_features = poly15_data_set_number.column_names() # get the name of the features\n",
        "    poly15_data_set_number['price'] = set_number['price'] # add price to the data since it's the target\n",
        "    model15_set_number = turicreate.linear_regression.create(poly15_data_set_number, target = 'price', features = my_features, validation_set = None,verbose = False,l2_penalty=1e-5)\n",
        "    model15_set_number.coefficients.print_rows(num_rows = 16)\n",
        "    plt.figure()\n",
        "    plt.plot(poly15_data_set_number['power_1'],poly15_data_set_number['price'],'.',\n",
        "         poly15_data_set_number['power_1'], model15_set_number.predict(poly15_data_set_number),'-')\n",
        "    plt.show( block=False )"
      ],
      "execution_count": null,
      "outputs": [
        {
          "output_type": "stream",
          "text": [
            "+-------------+-------+-------------------------+------------------------+\n",
            "|     name    | index |          value          |         stderr         |\n",
            "+-------------+-------+-------------------------+------------------------+\n",
            "| (intercept) |  None |    9306.471666783094    |   835731.1017251629    |\n",
            "|   power_1   |  None |    585.8657909049208    |   3606.1918080597516   |\n",
            "|   power_2   |  None |   -0.3973058601629169   |   6.439476529039794    |\n",
            "|   power_3   |  None |  0.00014147088211673836 |  0.006292902548486085  |\n",
            "|   power_4   |  None | -1.5294594218366155e-08 | 3.7622672052151353e-06 |\n",
            "|   power_5   |  None | -3.7975684190822394e-13 | 1.4665679438777962e-09 |\n",
            "|   power_6   |  None |  5.974816771652302e-17  | 3.9453132513026287e-13 |\n",
            "|   power_7   |  None |  1.0688855991571289e-20 | 7.846677592518058e-17  |\n",
            "|   power_8   |  None |  1.593438206740365e-25  | 1.1905534191043944e-20 |\n",
            "|   power_9   |  None |  -6.928349971079106e-29 | 1.2334316110359946e-24 |\n",
            "|   power_10  |  None |  -6.838134240575792e-33 | 5.576858274273737e-29  |\n",
            "|   power_11  |  None | -1.6268615314617418e-37 | 1.9523532156594708e-33 |\n",
            "|   power_12  |  None |  2.8511875543335453e-41 | 6.676054888054415e-37  |\n",
            "|   power_13  |  None |  3.799982042523623e-45  | 4.774329725517953e-41  |\n",
            "|   power_14  |  None |  1.5265260394792173e-49 | 1.7952714957562696e-45 |\n",
            "|   power_15  |  None | -2.3380731839376034e-53 | 3.1041454167836523e-50 |\n",
            "+-------------+-------+-------------------------+------------------------+\n",
            "[16 rows x 4 columns]\n",
            "\n"
          ],
          "name": "stdout"
        },
        {
          "output_type": "display_data",
          "data": {
            "image/png": "[encoded data removed]",
            "text/plain": [
              "<Figure size 432x288 with 1 Axes>"
            ]
          },
          "metadata": {
            "tags": []
          }
        },
        {
          "output_type": "stream",
          "text": [
            "+-------------+-------+-------------------------+------------------------+\n",
            "|     name    | index |          value          |         stderr         |\n",
            "+-------------+-------+-------------------------+------------------------+\n",
            "| (intercept) |  None |   -25115.900151435286   |   1249261.9191205308   |\n",
            "|   power_1   |  None |    783.4937840940456    |    6449.52011534965    |\n",
            "|   power_2   |  None |   -0.7677592799765965   |   13.683056402135607   |\n",
            "|   power_3   |  None |  0.0004387663539667347  |  0.015465580032720918  |\n",
            "|   power_4   |  None | -1.1516916252654342e-07 | 9.786302274237439e-06  |\n",
            "|   power_5   |  None |  6.842813873220176e-12  | 2.4014390626980227e-09 |\n",
            "|   power_6   |  None |  2.5119513352344943e-15 |          nan           |\n",
            "|   power_7   |  None | -2.0644045819685336e-19 |          nan           |\n",
            "|   power_8   |  None |  -4.596731895260978e-23 |          nan           |\n",
            "|   power_9   |  None | -2.7127898185302984e-29 | 1.7427432662025357e-24 |\n",
            "|   power_10  |  None |  6.2181856076422415e-31 | 2.7495652804356362e-27 |\n",
            "|   power_11  |  None |  6.517413795573051e-35  | 3.5689465636393003e-31 |\n",
            "|   power_12  |  None |   -9.4131665645571e-40  | 4.389315701883183e-35  |\n",
            "|   power_13  |  None | -1.0242138499821879e-42 | 4.3332890121013614e-39 |\n",
            "|   power_14  |  None | -1.0039107023069144e-46 | 2.369368289177363e-43  |\n",
            "|   power_15  |  None |  1.3011335563468272e-50 | 5.3577738559544267e-48 |\n",
            "+-------------+-------+-------------------------+------------------------+\n",
            "[16 rows x 4 columns]\n",
            "\n"
          ],
          "name": "stdout"
        },
        {
          "output_type": "display_data",
          "data": {
            "image/png": "[encoded data removed]",
            "text/plain": [
              "<Figure size 432x288 with 1 Axes>"
            ]
          },
          "metadata": {
            "tags": []
          }
        },
        {
          "output_type": "stream",
          "text": [
            "+-------------+-------+-------------------------+------------------------+\n",
            "|     name    | index |          value          |         stderr         |\n",
            "+-------------+-------+-------------------------+------------------------+\n",
            "| (intercept) |  None |    462426.5591391596    |   1150080.3314340606   |\n",
            "|   power_1   |  None |    -759.2518251789179   |   5272.823277645916    |\n",
            "|   power_2   |  None |    1.028670031748481    |    9.80772244214362    |\n",
            "|   power_3   |  None |  -0.0005282645234067217 |  0.009371398741557095  |\n",
            "|   power_4   |  None |  1.1542290986269853e-07 | 4.116416465073988e-06  |\n",
            "|   power_5   |  None |  -2.260960514447858e-12 |          nan           |\n",
            "|   power_6   |  None | -2.0821427030058045e-15 |          nan           |\n",
            "|   power_7   |  None |  4.087705464351559e-20  |          nan           |\n",
            "|   power_8   |  None |  2.570790880439038e-23  |          nan           |\n",
            "|   power_9   |  None |  1.2431129062460168e-27 |          nan           |\n",
            "|   power_10  |  None | -1.7202582764071277e-31 | 2.4010158664060377e-28 |\n",
            "|   power_11  |  None |  -2.967610237658873e-35 |          nan           |\n",
            "|   power_12  |  None | -1.0657499385576716e-39 |          nan           |\n",
            "|   power_13  |  None |  2.426356843578799e-43  |          nan           |\n",
            "|   power_14  |  None |  3.555987558080736e-47  | 2.133945150540935e-44  |\n",
            "|   power_15  |  None | -2.8577747050398354e-51 |  5.50849073508117e-49  |\n",
            "+-------------+-------+-------------------------+------------------------+\n",
            "[16 rows x 4 columns]\n",
            "\n"
          ],
          "name": "stdout"
        },
        {
          "output_type": "display_data",
          "data": {
            "image/png": "[encoded data removed]",
            "text/plain": [
              "<Figure size 432x288 with 1 Axes>"
            ]
          },
          "metadata": {
            "tags": []
          }
        },
        {
          "output_type": "stream",
          "text": [
            "+-------------+-------+-------------------------+------------------------+\n",
            "|     name    | index |          value          |         stderr         |\n",
            "+-------------+-------+-------------------------+------------------------+\n",
            "| (intercept) |  None |   -170240.03874811344   |   1524801.0710501412   |\n",
            "|   power_1   |  None |    1247.5903748815276   |    9803.93328376963    |\n",
            "|   power_2   |  None |   -1.2246091763761762   |   26.131520143298776   |\n",
            "|   power_3   |  None |  0.0005552546763070816  |  0.03824000393337173   |\n",
            "|   power_4   |  None |  -6.382626229752453e-08 | 3.424753965959833e-05  |\n",
            "|   power_5   |  None | -2.2021592150225444e-11 | 1.964547904058074e-08  |\n",
            "|   power_6   |  None |  4.818345841014213e-15  | 7.2010970386197905e-12 |\n",
            "|   power_7   |  None |  4.2146172768278807e-19 | 1.5150970564834001e-15 |\n",
            "|   power_8   |  None |  -7.998808427775244e-23 |          nan           |\n",
            "|   power_9   |  None |  -1.323659051046672e-26 |          nan           |\n",
            "|   power_10  |  None |  1.6019814588661698e-31 |          nan           |\n",
            "|   power_11  |  None |  2.399042973896099e-34  | 8.727122745741385e-31  |\n",
            "|   power_12  |  None |  2.3335448522234013e-38 | 9.453815330604638e-35  |\n",
            "|   power_13  |  None |  -1.798740595181247e-42 | 8.859098131411471e-39  |\n",
            "|   power_14  |  None |  -6.028625939108941e-46 | 5.801404067721257e-43  |\n",
            "|   power_15  |  None |  4.394726149585538e-50  | 1.571529528932616e-47  |\n",
            "+-------------+-------+-------------------------+------------------------+\n",
            "[16 rows x 4 columns]\n",
            "\n"
          ],
          "name": "stdout"
        },
        {
          "output_type": "display_data",
          "data": {
            "image/png": "[encoded data removed]",
            "text/plain": [
              "<Figure size 432x288 with 1 Axes>"
            ]
          },
          "metadata": {
            "tags": []
          }
        }
      ]
    },
    {
      "cell_type": "markdown",
      "metadata": {
        "id": "oDc40IY-KUr2"
      },
      "source": [
        "The four curves should differ from one another a lot, as should the coefficients you learned.\n",
        "\n",
        "***QUIZ QUESTION:  For the models learned in each of these training sets, what are the smallest and largest values you learned for the coefficient of feature `power_1`?***  (For the purpose of answering this question, negative numbers are considered \"smaller\" than positive numbers. So -5 is smaller than -3, and -3 is smaller than 5 and so forth.)"
      ]
    },
    {
      "cell_type": "markdown",
      "metadata": {
        "id": "pL5sl_QqKUr-"
      },
      "source": [
        "# Ridge regression comes to rescue"
      ]
    },
    {
      "cell_type": "markdown",
      "metadata": {
        "id": "mfRPMlb5KUsH"
      },
      "source": [
        "Generally, whenever we see weights change so much in response to change in data, we believe the variance of our estimate to be large. Ridge regression aims to address this issue by penalizing \"large\" weights. (Weights of `model15` looked quite small, but they are not that small because 'sqft_living' input is in the order of thousands.)\n",
        "\n",
        "With the argument `l2_penalty=1e5`, fit a 15th-order polynomial model on `set_1`, `set_2`, `set_3`, and `set_4`. Other than the change in the `l2_penalty` parameter, the code should be the same as the experiment above. Also, make sure Turi Create doesn't create its own validation set by using the option `validation_set = None` in this call."
      ]
    },
    {
      "cell_type": "markdown",
      "metadata": {
        "id": "zZuiDFUgKUty"
      },
      "source": [
        "These curves should vary a lot less, now that you applied a high degree of regularization.\n",
        "\n",
        "***QUIZ QUESTION:  For the models learned with the high level of regularization in each of these training sets, what are the smallest and largest values you learned for the coefficient of feature `power_1`?*** (For the purpose of answering this question, negative numbers are considered \"smaller\" than positive numbers. So -5 is smaller than -3, and -3 is smaller than 5 and so forth.)"
      ]
    },
    {
      "cell_type": "code",
      "metadata": {
        "id": "OjxmfXHehgM3",
        "colab": {
          "base_uri": "https://localhost:8080/",
          "height": 1000
        },
        "outputId": "eb123e0e-bd77-4921-bb48-813e0b45cd5b"
      },
      "source": [
        "set_numbers_var = [set_1, set_2, set_3, set_4]\n",
        "for set_number in set_numbers_var:\n",
        "    poly15_data_set_number = polynomial_sframe(set_number['sqft_living'], 15)\n",
        "    my_features = poly15_data_set_number.column_names() # get the name of the features\n",
        "    poly15_data_set_number['price'] = set_number['price'] # add price to the data since it's the target\n",
        "    model15_set_number = turicreate.linear_regression.create(poly15_data_set_number, target = 'price', features = my_features, validation_set = None,verbose = False,l2_penalty=1e5)\n",
        "    model15_set_number.coefficients.print_rows(num_rows = 16)\n",
        "    plt.figure()\n",
        "    plt.plot(poly15_data_set_number['power_1'],poly15_data_set_number['price'],'.',\n",
        "         poly15_data_set_number['power_1'], model15_set_number.predict(poly15_data_set_number),'-')\n",
        "    plt.show( block=False )"
      ],
      "execution_count": null,
      "outputs": [
        {
          "output_type": "stream",
          "text": [
            "+-------------+-------+------------------------+------------------------+\n",
            "|     name    | index |         value          |         stderr         |\n",
            "+-------------+-------+------------------------+------------------------+\n",
            "| (intercept) |  None |   530317.0245158835    |   1257672.9815664748   |\n",
            "|   power_1   |  None |   2.5873887567286866   |   5426.877130671406    |\n",
            "|   power_2   |  None | 0.0012741440059211389  |   9.690623729674423    |\n",
            "|   power_3   |  None | 1.7493422693158888e-07 |  0.009470047835391536  |\n",
            "|   power_4   |  None | 1.0602211909664255e-11 | 5.661751493590754e-06  |\n",
            "|   power_5   |  None | 5.422476044821802e-16  | 2.207005189634751e-09  |\n",
            "|   power_6   |  None | 2.895638283427736e-20  | 5.937213380879137e-13  |\n",
            "|   power_7   |  None | 1.6500066635095533e-24 | 1.180828903316128e-16  |\n",
            "|   power_8   |  None | 9.860815284092929e-29  | 1.7916371249416455e-20 |\n",
            "|   power_9   |  None | 6.065893482543571e-33  | 1.856163553812698e-24  |\n",
            "|   power_10  |  None |  3.78917868869659e-37  | 8.392488874831996e-29  |\n",
            "|   power_11  |  None | 2.3822312131219885e-41 | 2.9380525443419807e-33 |\n",
            "|   power_12  |  None | 1.4984796921456947e-45 | 1.0046645193446474e-36 |\n",
            "|   power_13  |  None | 9.391611902848276e-50  | 7.184781670179195e-41  |\n",
            "|   power_14  |  None | 5.845231619806174e-54  | 2.7016637889008584e-45 |\n",
            "|   power_15  |  None | 3.601202072029721e-58  | 4.6713587821290225e-50 |\n",
            "+-------------+-------+------------------------+------------------------+\n",
            "[16 rows x 4 columns]\n",
            "\n"
          ],
          "name": "stdout"
        },
        {
          "output_type": "display_data",
          "data": {
            "image/png": "[encoded data removed]",
            "text/plain": [
              "<Figure size 432x288 with 1 Axes>"
            ]
          },
          "metadata": {
            "tags": []
          }
        },
        {
          "output_type": "stream",
          "text": [
            "+-------------+-------+------------------------+------------------------+\n",
            "|     name    | index |         value          |         stderr         |\n",
            "+-------------+-------+------------------------+------------------------+\n",
            "| (intercept) |  None |   519216.89738342643   |   1721757.2123052469   |\n",
            "|   power_1   |  None |   2.0447047418193702   |   8888.854774608435    |\n",
            "|   power_2   |  None |  0.001131436268395815  |   18.858255971927584   |\n",
            "|   power_3   |  None | 2.930742775489715e-07  |  0.021314964905491642  |\n",
            "|   power_4   |  None | 4.435405984532599e-11  | 1.348767321293964e-05  |\n",
            "|   power_5   |  None | 4.808491122043451e-15  | 3.3097102879936184e-09 |\n",
            "|   power_6   |  None | 4.530917078263863e-19  |          nan           |\n",
            "|   power_7   |  None | 4.160429105745837e-23  |          nan           |\n",
            "|   power_8   |  None | 3.900946351283383e-27  |          nan           |\n",
            "|   power_9   |  None | 3.7773187602026055e-31 | 2.401882857273838e-24  |\n",
            "|   power_10  |  None | 3.766503268417181e-35  | 3.789504650575523e-27  |\n",
            "|   power_11  |  None | 3.8422809475395966e-39 |  4.91879196206022e-31  |\n",
            "|   power_12  |  None | 3.985208284143722e-43  |  6.04944075468364e-35  |\n",
            "|   power_13  |  None | 4.182727623936733e-47  | 5.972223674952795e-39  |\n",
            "|   power_14  |  None | 4.4273833287777794e-51 | 3.2655097206279882e-43 |\n",
            "|   power_15  |  None | 4.715182454121552e-55  |  7.38418872551898e-48  |\n",
            "+-------------+-------+------------------------+------------------------+\n",
            "[16 rows x 4 columns]\n",
            "\n"
          ],
          "name": "stdout"
        },
        {
          "output_type": "display_data",
          "data": {
            "image/png": "[encoded data removed]",
            "text/plain": [
              "<Figure size 432x288 with 1 Axes>"
            ]
          },
          "metadata": {
            "tags": []
          }
        },
        {
          "output_type": "stream",
          "text": [
            "+-------------+-------+------------------------+------------------------+\n",
            "|     name    | index |         value          |         stderr         |\n",
            "+-------------+-------+------------------------+------------------------+\n",
            "| (intercept) |  None |   522911.5180475719    |   1603227.0435106703   |\n",
            "|   power_1   |  None |   2.268904218765788    |   7350.384702113467    |\n",
            "|   power_2   |  None | 0.0012590504184157218  |   13.672093526618752   |\n",
            "|   power_3   |  None | 2.775529181545171e-07  |  0.01306385257389094   |\n",
            "|   power_4   |  None | 3.209330977903899e-11  | 5.738338461044795e-06  |\n",
            "|   power_5   |  None |  2.87573572364483e-15  |          nan           |\n",
            "|   power_6   |  None | 2.5007611267119227e-19 |          nan           |\n",
            "|   power_7   |  None | 2.2468526590627854e-23 |          nan           |\n",
            "|   power_8   |  None | 2.0934998313470212e-27 |          nan           |\n",
            "|   power_9   |  None | 2.0043538329631962e-31 |          nan           |\n",
            "|   power_10  |  None | 1.9541080024851155e-35 | 3.3470475615564127e-28 |\n",
            "|   power_11  |  None | 1.927341194558357e-39  |          nan           |\n",
            "|   power_12  |  None |  1.91483699012907e-43  |          nan           |\n",
            "|   power_13  |  None | 1.9110227704649892e-47 |          nan           |\n",
            "|   power_14  |  None | 1.912462423017048e-51  | 2.9747474860731757e-44 |\n",
            "|   power_15  |  None | 1.916995580350367e-55  | 7.678908224087342e-49  |\n",
            "+-------------+-------+------------------------+------------------------+\n",
            "[16 rows x 4 columns]\n",
            "\n"
          ],
          "name": "stdout"
        },
        {
          "output_type": "display_data",
          "data": {
            "image/png": "[encoded data removed]",
            "text/plain": [
              "<Figure size 432x288 with 1 Axes>"
            ]
          },
          "metadata": {
            "tags": []
          }
        },
        {
          "output_type": "stream",
          "text": [
            "+-------------+-------+------------------------+------------------------+\n",
            "|     name    | index |         value          |         stderr         |\n",
            "+-------------+-------+------------------------+------------------------+\n",
            "| (intercept) |  None |   513667.0870874073    |   2016363.5920417374   |\n",
            "|   power_1   |  None |   1.9104093824432002   |   12964.506982267996   |\n",
            "|   power_2   |  None | 0.0011005802917477246  |    34.5557507940131    |\n",
            "|   power_3   |  None | 3.1275398787880605e-07 |  0.05056774496995881   |\n",
            "|   power_4   |  None | 5.5006788682463865e-11 | 4.528819752143835e-05  |\n",
            "|   power_5   |  None | 7.204675578247076e-15  | 2.5978751876377342e-08 |\n",
            "|   power_6   |  None | 8.249772493837896e-19  | 9.522573250445366e-12  |\n",
            "|   power_7   |  None | 9.065032234977412e-23  | 2.003531215385848e-15  |\n",
            "|   power_8   |  None | 9.956831604526306e-27  |          nan           |\n",
            "|   power_9   |  None | 1.1083812798160374e-30 |          nan           |\n",
            "|   power_10  |  None | 1.2531522414327033e-34 |          nan           |\n",
            "|   power_11  |  None | 1.4360078140197675e-38 | 1.154055627444768e-30  |\n",
            "|   power_12  |  None | 1.6626996780013466e-42 | 1.250151865737401e-34  |\n",
            "|   power_13  |  None | 1.9398172452969615e-46 | 1.1715077638423085e-38 |\n",
            "|   power_14  |  None | 2.2754148577027205e-50 |  7.67164987418304e-43  |\n",
            "|   power_15  |  None | 2.679487848971386e-54  | 2.0781562828886732e-47 |\n",
            "+-------------+-------+------------------------+------------------------+\n",
            "[16 rows x 4 columns]\n",
            "\n"
          ],
          "name": "stdout"
        },
        {
          "output_type": "display_data",
          "data": {
            "image/png": "[encoded data removed]",
            "text/plain": [
              "<Figure size 432x288 with 1 Axes>"
            ]
          },
          "metadata": {
            "tags": []
          }
        }
      ]
    },
    {
      "cell_type": "markdown",
      "metadata": {
        "id": "ZXJgegc3KUt7"
      },
      "source": [
        "# Selecting an L2 penalty via cross-validation"
      ]
    },
    {
      "cell_type": "markdown",
      "metadata": {
        "id": "Yj0NYzquKUt_"
      },
      "source": [
        "Just like the polynomial degree, the L2 penalty is a \"magic\" parameter we need to select. We could use the validation set approach as we did in the last module, but that approach has a major disadvantage: it leaves fewer observations available for training. **Cross-validation** seeks to overcome this issue by using all of the training set in a smart way.\n",
        "\n",
        "We will implement a kind of cross-validation called **k-fold cross-validation**. The method gets its name because it involves dividing the training set into k segments of roughtly equal size. Similar to the validation set method, we measure the validation error with one of the segments designated as the validation set. The major difference is that we repeat the process k times as follows:\n",
        "\n",
        "Set aside segment 0 as the validation set, and fit a model on rest of data, and evalutate it on this validation set<br>\n",
        "Set aside segment 1 as the validation set, and fit a model on rest of data, and evalutate it on this validation set<br>\n",
        "...<br>\n",
        "Set aside segment k-1 as the validation set, and fit a model on rest of data, and evalutate it on this validation set\n",
        "\n",
        "After this process, we compute the average of the k validation errors, and use it as an estimate of the generalization error. Notice that  all observations are used for both training and validation, as we iterate over segments of data. \n",
        "\n",
        "To estimate the generalization error well, it is crucial to shuffle the training data before dividing them into segments. The package turicreate_cross_validation (see below) has a utility function for shuffling a given SFrame. We reserve 10% of the data as the test set and shuffle the remainder. (Make sure to use `seed=1` to get consistent answer.)\n",
        "\n",
        "  \n",
        "_Note:_ For applying cross-validation, we will import a package called `turicreate_cross_validation`. To install it, please run this command on your terminal:\n",
        "\n",
        "`pip install -e git+https://github.com/Kagandi/turicreate-cross-validation.git#egg=turicreate_cross_validation`\n",
        "\n",
        "You can find the documentation on this package here: https://github.com/Kagandi/turicreate-cross-validation"
      ]
    },
    {
      "cell_type": "code",
      "metadata": {
        "id": "uppUlpRPKUuE"
      },
      "source": [
        "import turicreate_cross_validation.cross_validation as tcv\n",
        "\n",
        "(train_valid, test) = sales.random_split(.9, seed=1)\n",
        "train_valid_shuffled = tcv.shuffle_sframe(train_valid, random_seed=1)"
      ],
      "execution_count": null,
      "outputs": []
    },
    {
      "cell_type": "markdown",
      "metadata": {
        "id": "63CIaPgFKUuU"
      },
      "source": [
        "Once the data is shuffled, we divide it into equal segments. Each segment should receive `n/k` elements, where `n` is the number of observations in the training set and `k` is the number of segments. Since the segment 0 starts at index 0 and contains `n/k` elements, it ends at index `(n/k)-1`. The segment 1 starts where the segment 0 left off, at index `(n/k)`. With `n/k` elements, the segment 1 ends at index `(n*2/k)-1`. Continuing in this fashion, we deduce that the segment `i` starts at index `(n*i/k)` and ends at `(n*(i+1)/k)-1`."
      ]
    },
    {
      "cell_type": "markdown",
      "metadata": {
        "id": "jznlJfJpKUud"
      },
      "source": [
        "With this pattern in mind, we write a short loop that prints the starting and ending indices of each segment, just to make sure you are getting the splits right."
      ]
    },
    {
      "cell_type": "code",
      "metadata": {
        "id": "jMZAjw9ZKUuj",
        "colab": {
          "base_uri": "https://localhost:8080/",
          "height": 202
        },
        "outputId": "e53b5fb2-ac6a-45b0-9a08-eb01a3a575f7"
      },
      "source": [
        "n = len(train_valid_shuffled)\n",
        "k = 10 # 10-fold cross-validation\n",
        "\n",
        "for i in range(k):\n",
        "    start = (n*i)/k\n",
        "    end = (n*(i+1))/k-1\n",
        "    print(i, (start, end))"
      ],
      "execution_count": null,
      "outputs": [
        {
          "output_type": "stream",
          "text": [
            "0 (0.0, 1938.6)\n",
            "1 (1939.6, 3878.2)\n",
            "2 (3879.2, 5817.8)\n",
            "3 (5818.8, 7757.4)\n",
            "4 (7758.4, 9697.0)\n",
            "5 (9698.0, 11636.6)\n",
            "6 (11637.6, 13576.2)\n",
            "7 (13577.2, 15515.8)\n",
            "8 (15516.8, 17455.4)\n",
            "9 (17456.4, 19395.0)\n"
          ],
          "name": "stdout"
        }
      ]
    },
    {
      "cell_type": "markdown",
      "metadata": {
        "id": "_AOvL_7xKUuw"
      },
      "source": [
        "Let us familiarize ourselves with array slicing with SFrame. To extract a continuous slice from an SFrame, use colon in square brackets. For instance, the following cell extracts rows 0 to 9 of `train_valid_shuffled`. Notice that the first index (0) is included in the slice but the last index (10) is omitted."
      ]
    },
    {
      "cell_type": "code",
      "metadata": {
        "id": "ySFrVC7bKUu1",
        "colab": {
          "base_uri": "https://localhost:8080/",
          "height": 680
        },
        "outputId": "24a5d3e7-4e45-4c2c-91ac-f3923631f922"
      },
      "source": [
        "train_valid_shuffled[0:10] # rows 0 to 9"
      ],
      "execution_count": null,
      "outputs": [
        {
          "output_type": "execute_result",
          "data": {
            "text/html": [
              "<div style=\"max-height:1000px;max-width:1500px;overflow:auto;\"><table frame=\"box\" rules=\"cols\">\n",
              "    <tr>\n",
              "        <th style=\"padding-left: 1em; padding-right: 1em; text-align: center\">id</th>\n",
              "        <th style=\"padding-left: 1em; padding-right: 1em; text-align: center\">date</th>\n",
              "        <th style=\"padding-left: 1em; padding-right: 1em; text-align: center\">price</th>\n",
              "        <th style=\"padding-left: 1em; padding-right: 1em; text-align: center\">bedrooms</th>\n",
              "        <th style=\"padding-left: 1em; padding-right: 1em; text-align: center\">bathrooms</th>\n",
              "        <th style=\"padding-left: 1em; padding-right: 1em; text-align: center\">sqft_living</th>\n",
              "        <th style=\"padding-left: 1em; padding-right: 1em; text-align: center\">sqft_lot</th>\n",
              "        <th style=\"padding-left: 1em; padding-right: 1em; text-align: center\">floors</th>\n",
              "        <th style=\"padding-left: 1em; padding-right: 1em; text-align: center\">waterfront</th>\n",
              "    </tr>\n",
              "    <tr>\n",
              "        <td style=\"padding-left: 1em; padding-right: 1em; text-align: center; vertical-align: top\">8645511350</td>\n",
              "        <td style=\"padding-left: 1em; padding-right: 1em; text-align: center; vertical-align: top\">2014-12-01 00:00:00+00:00</td>\n",
              "        <td style=\"padding-left: 1em; padding-right: 1em; text-align: center; vertical-align: top\">300000.0</td>\n",
              "        <td style=\"padding-left: 1em; padding-right: 1em; text-align: center; vertical-align: top\">3.0</td>\n",
              "        <td style=\"padding-left: 1em; padding-right: 1em; text-align: center; vertical-align: top\">1.75</td>\n",
              "        <td style=\"padding-left: 1em; padding-right: 1em; text-align: center; vertical-align: top\">1810.0</td>\n",
              "        <td style=\"padding-left: 1em; padding-right: 1em; text-align: center; vertical-align: top\">21138.0</td>\n",
              "        <td style=\"padding-left: 1em; padding-right: 1em; text-align: center; vertical-align: top\">1.0</td>\n",
              "        <td style=\"padding-left: 1em; padding-right: 1em; text-align: center; vertical-align: top\">0</td>\n",
              "    </tr>\n",
              "    <tr>\n",
              "        <td style=\"padding-left: 1em; padding-right: 1em; text-align: center; vertical-align: top\">7237501370</td>\n",
              "        <td style=\"padding-left: 1em; padding-right: 1em; text-align: center; vertical-align: top\">2014-07-17 00:00:00+00:00</td>\n",
              "        <td style=\"padding-left: 1em; padding-right: 1em; text-align: center; vertical-align: top\">1079000.0</td>\n",
              "        <td style=\"padding-left: 1em; padding-right: 1em; text-align: center; vertical-align: top\">4.0</td>\n",
              "        <td style=\"padding-left: 1em; padding-right: 1em; text-align: center; vertical-align: top\">3.25</td>\n",
              "        <td style=\"padding-left: 1em; padding-right: 1em; text-align: center; vertical-align: top\">4800.0</td>\n",
              "        <td style=\"padding-left: 1em; padding-right: 1em; text-align: center; vertical-align: top\">12727.0</td>\n",
              "        <td style=\"padding-left: 1em; padding-right: 1em; text-align: center; vertical-align: top\">2.0</td>\n",
              "        <td style=\"padding-left: 1em; padding-right: 1em; text-align: center; vertical-align: top\">0</td>\n",
              "    </tr>\n",
              "    <tr>\n",
              "        <td style=\"padding-left: 1em; padding-right: 1em; text-align: center; vertical-align: top\">7278700100</td>\n",
              "        <td style=\"padding-left: 1em; padding-right: 1em; text-align: center; vertical-align: top\">2015-01-21 00:00:00+00:00</td>\n",
              "        <td style=\"padding-left: 1em; padding-right: 1em; text-align: center; vertical-align: top\">625000.0</td>\n",
              "        <td style=\"padding-left: 1em; padding-right: 1em; text-align: center; vertical-align: top\">4.0</td>\n",
              "        <td style=\"padding-left: 1em; padding-right: 1em; text-align: center; vertical-align: top\">2.5</td>\n",
              "        <td style=\"padding-left: 1em; padding-right: 1em; text-align: center; vertical-align: top\">2740.0</td>\n",
              "        <td style=\"padding-left: 1em; padding-right: 1em; text-align: center; vertical-align: top\">9599.0</td>\n",
              "        <td style=\"padding-left: 1em; padding-right: 1em; text-align: center; vertical-align: top\">1.0</td>\n",
              "        <td style=\"padding-left: 1em; padding-right: 1em; text-align: center; vertical-align: top\">0</td>\n",
              "    </tr>\n",
              "    <tr>\n",
              "        <td style=\"padding-left: 1em; padding-right: 1em; text-align: center; vertical-align: top\">1421079007</td>\n",
              "        <td style=\"padding-left: 1em; padding-right: 1em; text-align: center; vertical-align: top\">2015-03-24 00:00:00+00:00</td>\n",
              "        <td style=\"padding-left: 1em; padding-right: 1em; text-align: center; vertical-align: top\">408506.0</td>\n",
              "        <td style=\"padding-left: 1em; padding-right: 1em; text-align: center; vertical-align: top\">3.0</td>\n",
              "        <td style=\"padding-left: 1em; padding-right: 1em; text-align: center; vertical-align: top\">2.75</td>\n",
              "        <td style=\"padding-left: 1em; padding-right: 1em; text-align: center; vertical-align: top\">2480.0</td>\n",
              "        <td style=\"padding-left: 1em; padding-right: 1em; text-align: center; vertical-align: top\">209199.0</td>\n",
              "        <td style=\"padding-left: 1em; padding-right: 1em; text-align: center; vertical-align: top\">1.5</td>\n",
              "        <td style=\"padding-left: 1em; padding-right: 1em; text-align: center; vertical-align: top\">0</td>\n",
              "    </tr>\n",
              "    <tr>\n",
              "        <td style=\"padding-left: 1em; padding-right: 1em; text-align: center; vertical-align: top\">4338800370</td>\n",
              "        <td style=\"padding-left: 1em; padding-right: 1em; text-align: center; vertical-align: top\">2014-11-17 00:00:00+00:00</td>\n",
              "        <td style=\"padding-left: 1em; padding-right: 1em; text-align: center; vertical-align: top\">220000.0</td>\n",
              "        <td style=\"padding-left: 1em; padding-right: 1em; text-align: center; vertical-align: top\">3.0</td>\n",
              "        <td style=\"padding-left: 1em; padding-right: 1em; text-align: center; vertical-align: top\">1.0</td>\n",
              "        <td style=\"padding-left: 1em; padding-right: 1em; text-align: center; vertical-align: top\">1000.0</td>\n",
              "        <td style=\"padding-left: 1em; padding-right: 1em; text-align: center; vertical-align: top\">6020.0</td>\n",
              "        <td style=\"padding-left: 1em; padding-right: 1em; text-align: center; vertical-align: top\">1.0</td>\n",
              "        <td style=\"padding-left: 1em; padding-right: 1em; text-align: center; vertical-align: top\">0</td>\n",
              "    </tr>\n",
              "    <tr>\n",
              "        <td style=\"padding-left: 1em; padding-right: 1em; text-align: center; vertical-align: top\">7511200020</td>\n",
              "        <td style=\"padding-left: 1em; padding-right: 1em; text-align: center; vertical-align: top\">2014-08-29 00:00:00+00:00</td>\n",
              "        <td style=\"padding-left: 1em; padding-right: 1em; text-align: center; vertical-align: top\">509900.0</td>\n",
              "        <td style=\"padding-left: 1em; padding-right: 1em; text-align: center; vertical-align: top\">3.0</td>\n",
              "        <td style=\"padding-left: 1em; padding-right: 1em; text-align: center; vertical-align: top\">1.75</td>\n",
              "        <td style=\"padding-left: 1em; padding-right: 1em; text-align: center; vertical-align: top\">1690.0</td>\n",
              "        <td style=\"padding-left: 1em; padding-right: 1em; text-align: center; vertical-align: top\">53578.0</td>\n",
              "        <td style=\"padding-left: 1em; padding-right: 1em; text-align: center; vertical-align: top\">1.0</td>\n",
              "        <td style=\"padding-left: 1em; padding-right: 1em; text-align: center; vertical-align: top\">0</td>\n",
              "    </tr>\n",
              "    <tr>\n",
              "        <td style=\"padding-left: 1em; padding-right: 1em; text-align: center; vertical-align: top\">3300701615</td>\n",
              "        <td style=\"padding-left: 1em; padding-right: 1em; text-align: center; vertical-align: top\">2014-09-30 00:00:00+00:00</td>\n",
              "        <td style=\"padding-left: 1em; padding-right: 1em; text-align: center; vertical-align: top\">655000.0</td>\n",
              "        <td style=\"padding-left: 1em; padding-right: 1em; text-align: center; vertical-align: top\">4.0</td>\n",
              "        <td style=\"padding-left: 1em; padding-right: 1em; text-align: center; vertical-align: top\">2.5</td>\n",
              "        <td style=\"padding-left: 1em; padding-right: 1em; text-align: center; vertical-align: top\">2630.0</td>\n",
              "        <td style=\"padding-left: 1em; padding-right: 1em; text-align: center; vertical-align: top\">4000.0</td>\n",
              "        <td style=\"padding-left: 1em; padding-right: 1em; text-align: center; vertical-align: top\">3.0</td>\n",
              "        <td style=\"padding-left: 1em; padding-right: 1em; text-align: center; vertical-align: top\">0</td>\n",
              "    </tr>\n",
              "    <tr>\n",
              "        <td style=\"padding-left: 1em; padding-right: 1em; text-align: center; vertical-align: top\">7011200260</td>\n",
              "        <td style=\"padding-left: 1em; padding-right: 1em; text-align: center; vertical-align: top\">2014-12-19 00:00:00+00:00</td>\n",
              "        <td style=\"padding-left: 1em; padding-right: 1em; text-align: center; vertical-align: top\">485000.0</td>\n",
              "        <td style=\"padding-left: 1em; padding-right: 1em; text-align: center; vertical-align: top\">4.0</td>\n",
              "        <td style=\"padding-left: 1em; padding-right: 1em; text-align: center; vertical-align: top\">2.0</td>\n",
              "        <td style=\"padding-left: 1em; padding-right: 1em; text-align: center; vertical-align: top\">1400.0</td>\n",
              "        <td style=\"padding-left: 1em; padding-right: 1em; text-align: center; vertical-align: top\">3600.0</td>\n",
              "        <td style=\"padding-left: 1em; padding-right: 1em; text-align: center; vertical-align: top\">1.0</td>\n",
              "        <td style=\"padding-left: 1em; padding-right: 1em; text-align: center; vertical-align: top\">0</td>\n",
              "    </tr>\n",
              "    <tr>\n",
              "        <td style=\"padding-left: 1em; padding-right: 1em; text-align: center; vertical-align: top\">3570000130</td>\n",
              "        <td style=\"padding-left: 1em; padding-right: 1em; text-align: center; vertical-align: top\">2014-06-11 00:00:00+00:00</td>\n",
              "        <td style=\"padding-left: 1em; padding-right: 1em; text-align: center; vertical-align: top\">580379.0</td>\n",
              "        <td style=\"padding-left: 1em; padding-right: 1em; text-align: center; vertical-align: top\">4.0</td>\n",
              "        <td style=\"padding-left: 1em; padding-right: 1em; text-align: center; vertical-align: top\">2.75</td>\n",
              "        <td style=\"padding-left: 1em; padding-right: 1em; text-align: center; vertical-align: top\">2240.0</td>\n",
              "        <td style=\"padding-left: 1em; padding-right: 1em; text-align: center; vertical-align: top\">27820.0</td>\n",
              "        <td style=\"padding-left: 1em; padding-right: 1em; text-align: center; vertical-align: top\">1.5</td>\n",
              "        <td style=\"padding-left: 1em; padding-right: 1em; text-align: center; vertical-align: top\">0</td>\n",
              "    </tr>\n",
              "    <tr>\n",
              "        <td style=\"padding-left: 1em; padding-right: 1em; text-align: center; vertical-align: top\">2796100640</td>\n",
              "        <td style=\"padding-left: 1em; padding-right: 1em; text-align: center; vertical-align: top\">2015-04-24 00:00:00+00:00</td>\n",
              "        <td style=\"padding-left: 1em; padding-right: 1em; text-align: center; vertical-align: top\">264900.0</td>\n",
              "        <td style=\"padding-left: 1em; padding-right: 1em; text-align: center; vertical-align: top\">4.0</td>\n",
              "        <td style=\"padding-left: 1em; padding-right: 1em; text-align: center; vertical-align: top\">2.5</td>\n",
              "        <td style=\"padding-left: 1em; padding-right: 1em; text-align: center; vertical-align: top\">2040.0</td>\n",
              "        <td style=\"padding-left: 1em; padding-right: 1em; text-align: center; vertical-align: top\">7000.0</td>\n",
              "        <td style=\"padding-left: 1em; padding-right: 1em; text-align: center; vertical-align: top\">1.0</td>\n",
              "        <td style=\"padding-left: 1em; padding-right: 1em; text-align: center; vertical-align: top\">0</td>\n",
              "    </tr>\n",
              "</table>\n",
              "<table frame=\"box\" rules=\"cols\">\n",
              "    <tr>\n",
              "        <th style=\"padding-left: 1em; padding-right: 1em; text-align: center\">view</th>\n",
              "        <th style=\"padding-left: 1em; padding-right: 1em; text-align: center\">condition</th>\n",
              "        <th style=\"padding-left: 1em; padding-right: 1em; text-align: center\">grade</th>\n",
              "        <th style=\"padding-left: 1em; padding-right: 1em; text-align: center\">sqft_above</th>\n",
              "        <th style=\"padding-left: 1em; padding-right: 1em; text-align: center\">sqft_basement</th>\n",
              "        <th style=\"padding-left: 1em; padding-right: 1em; text-align: center\">yr_built</th>\n",
              "        <th style=\"padding-left: 1em; padding-right: 1em; text-align: center\">yr_renovated</th>\n",
              "        <th style=\"padding-left: 1em; padding-right: 1em; text-align: center\">zipcode</th>\n",
              "        <th style=\"padding-left: 1em; padding-right: 1em; text-align: center\">lat</th>\n",
              "    </tr>\n",
              "    <tr>\n",
              "        <td style=\"padding-left: 1em; padding-right: 1em; text-align: center; vertical-align: top\">0</td>\n",
              "        <td style=\"padding-left: 1em; padding-right: 1em; text-align: center; vertical-align: top\">4</td>\n",
              "        <td style=\"padding-left: 1em; padding-right: 1em; text-align: center; vertical-align: top\">7.0</td>\n",
              "        <td style=\"padding-left: 1em; padding-right: 1em; text-align: center; vertical-align: top\">1240.0</td>\n",
              "        <td style=\"padding-left: 1em; padding-right: 1em; text-align: center; vertical-align: top\">570.0</td>\n",
              "        <td style=\"padding-left: 1em; padding-right: 1em; text-align: center; vertical-align: top\">1977.0</td>\n",
              "        <td style=\"padding-left: 1em; padding-right: 1em; text-align: center; vertical-align: top\">0.0</td>\n",
              "        <td style=\"padding-left: 1em; padding-right: 1em; text-align: center; vertical-align: top\">98058</td>\n",
              "        <td style=\"padding-left: 1em; padding-right: 1em; text-align: center; vertical-align: top\">47.46736904</td>\n",
              "    </tr>\n",
              "    <tr>\n",
              "        <td style=\"padding-left: 1em; padding-right: 1em; text-align: center; vertical-align: top\">0</td>\n",
              "        <td style=\"padding-left: 1em; padding-right: 1em; text-align: center; vertical-align: top\">3</td>\n",
              "        <td style=\"padding-left: 1em; padding-right: 1em; text-align: center; vertical-align: top\">10.0</td>\n",
              "        <td style=\"padding-left: 1em; padding-right: 1em; text-align: center; vertical-align: top\">4800.0</td>\n",
              "        <td style=\"padding-left: 1em; padding-right: 1em; text-align: center; vertical-align: top\">0.0</td>\n",
              "        <td style=\"padding-left: 1em; padding-right: 1em; text-align: center; vertical-align: top\">2011.0</td>\n",
              "        <td style=\"padding-left: 1em; padding-right: 1em; text-align: center; vertical-align: top\">0.0</td>\n",
              "        <td style=\"padding-left: 1em; padding-right: 1em; text-align: center; vertical-align: top\">98059</td>\n",
              "        <td style=\"padding-left: 1em; padding-right: 1em; text-align: center; vertical-align: top\">47.53108576</td>\n",
              "    </tr>\n",
              "    <tr>\n",
              "        <td style=\"padding-left: 1em; padding-right: 1em; text-align: center; vertical-align: top\">2</td>\n",
              "        <td style=\"padding-left: 1em; padding-right: 1em; text-align: center; vertical-align: top\">3</td>\n",
              "        <td style=\"padding-left: 1em; padding-right: 1em; text-align: center; vertical-align: top\">8.0</td>\n",
              "        <td style=\"padding-left: 1em; padding-right: 1em; text-align: center; vertical-align: top\">1820.0</td>\n",
              "        <td style=\"padding-left: 1em; padding-right: 1em; text-align: center; vertical-align: top\">920.0</td>\n",
              "        <td style=\"padding-left: 1em; padding-right: 1em; text-align: center; vertical-align: top\">1961.0</td>\n",
              "        <td style=\"padding-left: 1em; padding-right: 1em; text-align: center; vertical-align: top\">0.0</td>\n",
              "        <td style=\"padding-left: 1em; padding-right: 1em; text-align: center; vertical-align: top\">98177</td>\n",
              "        <td style=\"padding-left: 1em; padding-right: 1em; text-align: center; vertical-align: top\">47.77279701</td>\n",
              "    </tr>\n",
              "    <tr>\n",
              "        <td style=\"padding-left: 1em; padding-right: 1em; text-align: center; vertical-align: top\">0</td>\n",
              "        <td style=\"padding-left: 1em; padding-right: 1em; text-align: center; vertical-align: top\">3</td>\n",
              "        <td style=\"padding-left: 1em; padding-right: 1em; text-align: center; vertical-align: top\">8.0</td>\n",
              "        <td style=\"padding-left: 1em; padding-right: 1em; text-align: center; vertical-align: top\">1870.0</td>\n",
              "        <td style=\"padding-left: 1em; padding-right: 1em; text-align: center; vertical-align: top\">610.0</td>\n",
              "        <td style=\"padding-left: 1em; padding-right: 1em; text-align: center; vertical-align: top\">2000.0</td>\n",
              "        <td style=\"padding-left: 1em; padding-right: 1em; text-align: center; vertical-align: top\">0.0</td>\n",
              "        <td style=\"padding-left: 1em; padding-right: 1em; text-align: center; vertical-align: top\">98010</td>\n",
              "        <td style=\"padding-left: 1em; padding-right: 1em; text-align: center; vertical-align: top\">47.30847072</td>\n",
              "    </tr>\n",
              "    <tr>\n",
              "        <td style=\"padding-left: 1em; padding-right: 1em; text-align: center; vertical-align: top\">0</td>\n",
              "        <td style=\"padding-left: 1em; padding-right: 1em; text-align: center; vertical-align: top\">3</td>\n",
              "        <td style=\"padding-left: 1em; padding-right: 1em; text-align: center; vertical-align: top\">6.0</td>\n",
              "        <td style=\"padding-left: 1em; padding-right: 1em; text-align: center; vertical-align: top\">1000.0</td>\n",
              "        <td style=\"padding-left: 1em; padding-right: 1em; text-align: center; vertical-align: top\">0.0</td>\n",
              "        <td style=\"padding-left: 1em; padding-right: 1em; text-align: center; vertical-align: top\">1944.0</td>\n",
              "        <td style=\"padding-left: 1em; padding-right: 1em; text-align: center; vertical-align: top\">0.0</td>\n",
              "        <td style=\"padding-left: 1em; padding-right: 1em; text-align: center; vertical-align: top\">98166</td>\n",
              "        <td style=\"padding-left: 1em; padding-right: 1em; text-align: center; vertical-align: top\">47.47933643</td>\n",
              "    </tr>\n",
              "    <tr>\n",
              "        <td style=\"padding-left: 1em; padding-right: 1em; text-align: center; vertical-align: top\">0</td>\n",
              "        <td style=\"padding-left: 1em; padding-right: 1em; text-align: center; vertical-align: top\">3</td>\n",
              "        <td style=\"padding-left: 1em; padding-right: 1em; text-align: center; vertical-align: top\">8.0</td>\n",
              "        <td style=\"padding-left: 1em; padding-right: 1em; text-align: center; vertical-align: top\">1690.0</td>\n",
              "        <td style=\"padding-left: 1em; padding-right: 1em; text-align: center; vertical-align: top\">0.0</td>\n",
              "        <td style=\"padding-left: 1em; padding-right: 1em; text-align: center; vertical-align: top\">1984.0</td>\n",
              "        <td style=\"padding-left: 1em; padding-right: 1em; text-align: center; vertical-align: top\">0.0</td>\n",
              "        <td style=\"padding-left: 1em; padding-right: 1em; text-align: center; vertical-align: top\">98053</td>\n",
              "        <td style=\"padding-left: 1em; padding-right: 1em; text-align: center; vertical-align: top\">47.6545751</td>\n",
              "    </tr>\n",
              "    <tr>\n",
              "        <td style=\"padding-left: 1em; padding-right: 1em; text-align: center; vertical-align: top\">0</td>\n",
              "        <td style=\"padding-left: 1em; padding-right: 1em; text-align: center; vertical-align: top\">3</td>\n",
              "        <td style=\"padding-left: 1em; padding-right: 1em; text-align: center; vertical-align: top\">8.0</td>\n",
              "        <td style=\"padding-left: 1em; padding-right: 1em; text-align: center; vertical-align: top\">2630.0</td>\n",
              "        <td style=\"padding-left: 1em; padding-right: 1em; text-align: center; vertical-align: top\">0.0</td>\n",
              "        <td style=\"padding-left: 1em; padding-right: 1em; text-align: center; vertical-align: top\">2002.0</td>\n",
              "        <td style=\"padding-left: 1em; padding-right: 1em; text-align: center; vertical-align: top\">0.0</td>\n",
              "        <td style=\"padding-left: 1em; padding-right: 1em; text-align: center; vertical-align: top\">98117</td>\n",
              "        <td style=\"padding-left: 1em; padding-right: 1em; text-align: center; vertical-align: top\">47.69151411</td>\n",
              "    </tr>\n",
              "    <tr>\n",
              "        <td style=\"padding-left: 1em; padding-right: 1em; text-align: center; vertical-align: top\">0</td>\n",
              "        <td style=\"padding-left: 1em; padding-right: 1em; text-align: center; vertical-align: top\">3</td>\n",
              "        <td style=\"padding-left: 1em; padding-right: 1em; text-align: center; vertical-align: top\">7.0</td>\n",
              "        <td style=\"padding-left: 1em; padding-right: 1em; text-align: center; vertical-align: top\">1100.0</td>\n",
              "        <td style=\"padding-left: 1em; padding-right: 1em; text-align: center; vertical-align: top\">300.0</td>\n",
              "        <td style=\"padding-left: 1em; padding-right: 1em; text-align: center; vertical-align: top\">1900.0</td>\n",
              "        <td style=\"padding-left: 1em; padding-right: 1em; text-align: center; vertical-align: top\">0.0</td>\n",
              "        <td style=\"padding-left: 1em; padding-right: 1em; text-align: center; vertical-align: top\">98119</td>\n",
              "        <td style=\"padding-left: 1em; padding-right: 1em; text-align: center; vertical-align: top\">47.63846783</td>\n",
              "    </tr>\n",
              "    <tr>\n",
              "        <td style=\"padding-left: 1em; padding-right: 1em; text-align: center; vertical-align: top\">0</td>\n",
              "        <td style=\"padding-left: 1em; padding-right: 1em; text-align: center; vertical-align: top\">4</td>\n",
              "        <td style=\"padding-left: 1em; padding-right: 1em; text-align: center; vertical-align: top\">8.0</td>\n",
              "        <td style=\"padding-left: 1em; padding-right: 1em; text-align: center; vertical-align: top\">2240.0</td>\n",
              "        <td style=\"padding-left: 1em; padding-right: 1em; text-align: center; vertical-align: top\">0.0</td>\n",
              "        <td style=\"padding-left: 1em; padding-right: 1em; text-align: center; vertical-align: top\">1976.0</td>\n",
              "        <td style=\"padding-left: 1em; padding-right: 1em; text-align: center; vertical-align: top\">0.0</td>\n",
              "        <td style=\"padding-left: 1em; padding-right: 1em; text-align: center; vertical-align: top\">98075</td>\n",
              "        <td style=\"padding-left: 1em; padding-right: 1em; text-align: center; vertical-align: top\">47.59357299</td>\n",
              "    </tr>\n",
              "    <tr>\n",
              "        <td style=\"padding-left: 1em; padding-right: 1em; text-align: center; vertical-align: top\">0</td>\n",
              "        <td style=\"padding-left: 1em; padding-right: 1em; text-align: center; vertical-align: top\">3</td>\n",
              "        <td style=\"padding-left: 1em; padding-right: 1em; text-align: center; vertical-align: top\">7.0</td>\n",
              "        <td style=\"padding-left: 1em; padding-right: 1em; text-align: center; vertical-align: top\">1250.0</td>\n",
              "        <td style=\"padding-left: 1em; padding-right: 1em; text-align: center; vertical-align: top\">790.0</td>\n",
              "        <td style=\"padding-left: 1em; padding-right: 1em; text-align: center; vertical-align: top\">1979.0</td>\n",
              "        <td style=\"padding-left: 1em; padding-right: 1em; text-align: center; vertical-align: top\">0.0</td>\n",
              "        <td style=\"padding-left: 1em; padding-right: 1em; text-align: center; vertical-align: top\">98031</td>\n",
              "        <td style=\"padding-left: 1em; padding-right: 1em; text-align: center; vertical-align: top\">47.40555074</td>\n",
              "    </tr>\n",
              "</table>\n",
              "<table frame=\"box\" rules=\"cols\">\n",
              "    <tr>\n",
              "        <th style=\"padding-left: 1em; padding-right: 1em; text-align: center\">long</th>\n",
              "        <th style=\"padding-left: 1em; padding-right: 1em; text-align: center\">sqft_living15</th>\n",
              "        <th style=\"padding-left: 1em; padding-right: 1em; text-align: center\">sqft_lot15</th>\n",
              "    </tr>\n",
              "    <tr>\n",
              "        <td style=\"padding-left: 1em; padding-right: 1em; text-align: center; vertical-align: top\">-122.17768631</td>\n",
              "        <td style=\"padding-left: 1em; padding-right: 1em; text-align: center; vertical-align: top\">1850.0</td>\n",
              "        <td style=\"padding-left: 1em; padding-right: 1em; text-align: center; vertical-align: top\">12200.0</td>\n",
              "    </tr>\n",
              "    <tr>\n",
              "        <td style=\"padding-left: 1em; padding-right: 1em; text-align: center; vertical-align: top\">-122.13389261</td>\n",
              "        <td style=\"padding-left: 1em; padding-right: 1em; text-align: center; vertical-align: top\">4750.0</td>\n",
              "        <td style=\"padding-left: 1em; padding-right: 1em; text-align: center; vertical-align: top\">13602.0</td>\n",
              "    </tr>\n",
              "    <tr>\n",
              "        <td style=\"padding-left: 1em; padding-right: 1em; text-align: center; vertical-align: top\">-122.38485302</td>\n",
              "        <td style=\"padding-left: 1em; padding-right: 1em; text-align: center; vertical-align: top\">2660.0</td>\n",
              "        <td style=\"padding-left: 1em; padding-right: 1em; text-align: center; vertical-align: top\">8280.0</td>\n",
              "    </tr>\n",
              "    <tr>\n",
              "        <td style=\"padding-left: 1em; padding-right: 1em; text-align: center; vertical-align: top\">-121.88816296</td>\n",
              "        <td style=\"padding-left: 1em; padding-right: 1em; text-align: center; vertical-align: top\">2040.0</td>\n",
              "        <td style=\"padding-left: 1em; padding-right: 1em; text-align: center; vertical-align: top\">219229.0</td>\n",
              "    </tr>\n",
              "    <tr>\n",
              "        <td style=\"padding-left: 1em; padding-right: 1em; text-align: center; vertical-align: top\">-122.34575463</td>\n",
              "        <td style=\"padding-left: 1em; padding-right: 1em; text-align: center; vertical-align: top\">1300.0</td>\n",
              "        <td style=\"padding-left: 1em; padding-right: 1em; text-align: center; vertical-align: top\">8640.0</td>\n",
              "    </tr>\n",
              "    <tr>\n",
              "        <td style=\"padding-left: 1em; padding-right: 1em; text-align: center; vertical-align: top\">-122.04899568</td>\n",
              "        <td style=\"padding-left: 1em; padding-right: 1em; text-align: center; vertical-align: top\">2290.0</td>\n",
              "        <td style=\"padding-left: 1em; padding-right: 1em; text-align: center; vertical-align: top\">52707.0</td>\n",
              "    </tr>\n",
              "    <tr>\n",
              "        <td style=\"padding-left: 1em; padding-right: 1em; text-align: center; vertical-align: top\">-122.38139901</td>\n",
              "        <td style=\"padding-left: 1em; padding-right: 1em; text-align: center; vertical-align: top\">1640.0</td>\n",
              "        <td style=\"padding-left: 1em; padding-right: 1em; text-align: center; vertical-align: top\">4000.0</td>\n",
              "    </tr>\n",
              "    <tr>\n",
              "        <td style=\"padding-left: 1em; padding-right: 1em; text-align: center; vertical-align: top\">-122.36993806</td>\n",
              "        <td style=\"padding-left: 1em; padding-right: 1em; text-align: center; vertical-align: top\">1630.0</td>\n",
              "        <td style=\"padding-left: 1em; padding-right: 1em; text-align: center; vertical-align: top\">2048.0</td>\n",
              "    </tr>\n",
              "    <tr>\n",
              "        <td style=\"padding-left: 1em; padding-right: 1em; text-align: center; vertical-align: top\">-122.05362447</td>\n",
              "        <td style=\"padding-left: 1em; padding-right: 1em; text-align: center; vertical-align: top\">2330.0</td>\n",
              "        <td style=\"padding-left: 1em; padding-right: 1em; text-align: center; vertical-align: top\">20000.0</td>\n",
              "    </tr>\n",
              "    <tr>\n",
              "        <td style=\"padding-left: 1em; padding-right: 1em; text-align: center; vertical-align: top\">-122.17648783</td>\n",
              "        <td style=\"padding-left: 1em; padding-right: 1em; text-align: center; vertical-align: top\">1900.0</td>\n",
              "        <td style=\"padding-left: 1em; padding-right: 1em; text-align: center; vertical-align: top\">7378.0</td>\n",
              "    </tr>\n",
              "</table>\n",
              "[10 rows x 21 columns]<br/>\n",
              "</div>"
            ],
            "text/plain": [
              "Columns:\n",
              "\tid\tstr\n",
              "\tdate\tdatetime\n",
              "\tprice\tfloat\n",
              "\tbedrooms\tfloat\n",
              "\tbathrooms\tfloat\n",
              "\tsqft_living\tfloat\n",
              "\tsqft_lot\tfloat\n",
              "\tfloors\tfloat\n",
              "\twaterfront\tint\n",
              "\tview\tint\n",
              "\tcondition\tint\n",
              "\tgrade\tfloat\n",
              "\tsqft_above\tfloat\n",
              "\tsqft_basement\tfloat\n",
              "\tyr_built\tfloat\n",
              "\tyr_renovated\tfloat\n",
              "\tzipcode\tstr\n",
              "\tlat\tfloat\n",
              "\tlong\tfloat\n",
              "\tsqft_living15\tfloat\n",
              "\tsqft_lot15\tfloat\n",
              "\n",
              "Rows: 10\n",
              "\n",
              "Data:\n",
              "+------------+---------------------------+-----------+----------+-----------+\n",
              "|     id     |            date           |   price   | bedrooms | bathrooms |\n",
              "+------------+---------------------------+-----------+----------+-----------+\n",
              "| 8645511350 | 2014-12-01 00:00:00+00:00 |  300000.0 |   3.0    |    1.75   |\n",
              "| 7237501370 | 2014-07-17 00:00:00+00:00 | 1079000.0 |   4.0    |    3.25   |\n",
              "| 7278700100 | 2015-01-21 00:00:00+00:00 |  625000.0 |   4.0    |    2.5    |\n",
              "| 1421079007 | 2015-03-24 00:00:00+00:00 |  408506.0 |   3.0    |    2.75   |\n",
              "| 4338800370 | 2014-11-17 00:00:00+00:00 |  220000.0 |   3.0    |    1.0    |\n",
              "| 7511200020 | 2014-08-29 00:00:00+00:00 |  509900.0 |   3.0    |    1.75   |\n",
              "| 3300701615 | 2014-09-30 00:00:00+00:00 |  655000.0 |   4.0    |    2.5    |\n",
              "| 7011200260 | 2014-12-19 00:00:00+00:00 |  485000.0 |   4.0    |    2.0    |\n",
              "| 3570000130 | 2014-06-11 00:00:00+00:00 |  580379.0 |   4.0    |    2.75   |\n",
              "| 2796100640 | 2015-04-24 00:00:00+00:00 |  264900.0 |   4.0    |    2.5    |\n",
              "+------------+---------------------------+-----------+----------+-----------+\n",
              "+-------------+----------+--------+------------+------+-----------+-------+\n",
              "| sqft_living | sqft_lot | floors | waterfront | view | condition | grade |\n",
              "+-------------+----------+--------+------------+------+-----------+-------+\n",
              "|    1810.0   | 21138.0  |  1.0   |     0      |  0   |     4     |  7.0  |\n",
              "|    4800.0   | 12727.0  |  2.0   |     0      |  0   |     3     |  10.0 |\n",
              "|    2740.0   |  9599.0  |  1.0   |     0      |  2   |     3     |  8.0  |\n",
              "|    2480.0   | 209199.0 |  1.5   |     0      |  0   |     3     |  8.0  |\n",
              "|    1000.0   |  6020.0  |  1.0   |     0      |  0   |     3     |  6.0  |\n",
              "|    1690.0   | 53578.0  |  1.0   |     0      |  0   |     3     |  8.0  |\n",
              "|    2630.0   |  4000.0  |  3.0   |     0      |  0   |     3     |  8.0  |\n",
              "|    1400.0   |  3600.0  |  1.0   |     0      |  0   |     3     |  7.0  |\n",
              "|    2240.0   | 27820.0  |  1.5   |     0      |  0   |     4     |  8.0  |\n",
              "|    2040.0   |  7000.0  |  1.0   |     0      |  0   |     3     |  7.0  |\n",
              "+-------------+----------+--------+------------+------+-----------+-------+\n",
              "+------------+---------------+----------+--------------+---------+-------------+\n",
              "| sqft_above | sqft_basement | yr_built | yr_renovated | zipcode |     lat     |\n",
              "+------------+---------------+----------+--------------+---------+-------------+\n",
              "|   1240.0   |     570.0     |  1977.0  |     0.0      |  98058  | 47.46736904 |\n",
              "|   4800.0   |      0.0      |  2011.0  |     0.0      |  98059  | 47.53108576 |\n",
              "|   1820.0   |     920.0     |  1961.0  |     0.0      |  98177  | 47.77279701 |\n",
              "|   1870.0   |     610.0     |  2000.0  |     0.0      |  98010  | 47.30847072 |\n",
              "|   1000.0   |      0.0      |  1944.0  |     0.0      |  98166  | 47.47933643 |\n",
              "|   1690.0   |      0.0      |  1984.0  |     0.0      |  98053  |  47.6545751 |\n",
              "|   2630.0   |      0.0      |  2002.0  |     0.0      |  98117  | 47.69151411 |\n",
              "|   1100.0   |     300.0     |  1900.0  |     0.0      |  98119  | 47.63846783 |\n",
              "|   2240.0   |      0.0      |  1976.0  |     0.0      |  98075  | 47.59357299 |\n",
              "|   1250.0   |     790.0     |  1979.0  |     0.0      |  98031  | 47.40555074 |\n",
              "+------------+---------------+----------+--------------+---------+-------------+\n",
              "+---------------+---------------+-----+\n",
              "|      long     | sqft_living15 | ... |\n",
              "+---------------+---------------+-----+\n",
              "| -122.17768631 |     1850.0    | ... |\n",
              "| -122.13389261 |     4750.0    | ... |\n",
              "| -122.38485302 |     2660.0    | ... |\n",
              "| -121.88816296 |     2040.0    | ... |\n",
              "| -122.34575463 |     1300.0    | ... |\n",
              "| -122.04899568 |     2290.0    | ... |\n",
              "| -122.38139901 |     1640.0    | ... |\n",
              "| -122.36993806 |     1630.0    | ... |\n",
              "| -122.05362447 |     2330.0    | ... |\n",
              "| -122.17648783 |     1900.0    | ... |\n",
              "+---------------+---------------+-----+\n",
              "[10 rows x 21 columns]"
            ]
          },
          "metadata": {
            "tags": []
          },
          "execution_count": 23
        }
      ]
    },
    {
      "cell_type": "markdown",
      "metadata": {
        "id": "OvyIMCX4KUvV"
      },
      "source": [
        "Now let us extract individual segments with array slicing. Consider the scenario where we group the houses in the `train_valid_shuffled` dataframe into k=10 segments of roughly equal size, with starting and ending indices computed as above.\n",
        "Extract the fourth segment (segment 3) and assign it to a variable called `validation4`."
      ]
    },
    {
      "cell_type": "code",
      "metadata": {
        "id": "DtPh8ezIKUva"
      },
      "source": [
        "validation4 = train_valid_shuffled[5818.8:7757.4]"
      ],
      "execution_count": null,
      "outputs": []
    },
    {
      "cell_type": "markdown",
      "metadata": {
        "id": "1LE2UdiWKUvn"
      },
      "source": [
        "To verify that we have the right elements extracted, run the following cell, which computes the average price of the fourth segment. When rounded to nearest whole number, the average should be $559,642."
      ]
    },
    {
      "cell_type": "code",
      "metadata": {
        "id": "Hp2pXc7AKUvq",
        "colab": {
          "base_uri": "https://localhost:8080/",
          "height": 35
        },
        "outputId": "8647b0c9-ae26-4c58-9218-c8873ae90238"
      },
      "source": [
        "print(int(round(validation4['price'].mean(), 0)))"
      ],
      "execution_count": null,
      "outputs": [
        {
          "output_type": "stream",
          "text": [
            "559642\n"
          ],
          "name": "stdout"
        }
      ]
    },
    {
      "cell_type": "markdown",
      "metadata": {
        "id": "Y8X5etW6KUv5"
      },
      "source": [
        "After designating one of the k segments as the validation set, we train a model using the rest of the data. To choose the remainder, we slice (0:start) and (end+1:n) of the data and paste them together. SFrame has `append()` method that pastes together two disjoint sets of rows originating from a common dataset. For instance, the following cell pastes together the first and last two rows of the `train_valid_shuffled` dataframe."
      ]
    },
    {
      "cell_type": "code",
      "metadata": {
        "id": "gUbo6-6rKUv8",
        "colab": {
          "base_uri": "https://localhost:8080/",
          "height": 645
        },
        "outputId": "d4d63d97-557a-4515-8124-3bf4e8e4cfbb"
      },
      "source": [
        "n = len(train_valid_shuffled)\n",
        "first_two = train_valid_shuffled[0:2]\n",
        "last_two = train_valid_shuffled[n-2:n]\n",
        "print(first_two.append(last_two))"
      ],
      "execution_count": null,
      "outputs": [
        {
          "output_type": "stream",
          "text": [
            "+------------+---------------------------+-----------+----------+-----------+\n",
            "|     id     |            date           |   price   | bedrooms | bathrooms |\n",
            "+------------+---------------------------+-----------+----------+-----------+\n",
            "| 8645511350 | 2014-12-01 00:00:00+00:00 |  300000.0 |   3.0    |    1.75   |\n",
            "| 7237501370 | 2014-07-17 00:00:00+00:00 | 1079000.0 |   4.0    |    3.25   |\n",
            "| 4077800582 | 2014-09-12 00:00:00+00:00 |  522000.0 |   3.0    |    1.0    |\n",
            "| 7853370620 | 2015-02-06 00:00:00+00:00 |  605000.0 |   5.0    |    4.0    |\n",
            "+------------+---------------------------+-----------+----------+-----------+\n",
            "+-------------+----------+--------+------------+------+-----------+-------+\n",
            "| sqft_living | sqft_lot | floors | waterfront | view | condition | grade |\n",
            "+-------------+----------+--------+------------+------+-----------+-------+\n",
            "|    1810.0   | 21138.0  |  1.0   |     0      |  0   |     4     |  7.0  |\n",
            "|    4800.0   | 12727.0  |  2.0   |     0      |  0   |     3     |  10.0 |\n",
            "|    1150.0   |  7080.0  |  1.0   |     0      |  0   |     3     |  7.0  |\n",
            "|    3040.0   |  6000.0  |  2.0   |     0      |  0   |     3     |  8.0  |\n",
            "+-------------+----------+--------+------------+------+-----------+-------+\n",
            "+------------+---------------+----------+--------------+---------+-------------+\n",
            "| sqft_above | sqft_basement | yr_built | yr_renovated | zipcode |     lat     |\n",
            "+------------+---------------+----------+--------------+---------+-------------+\n",
            "|   1240.0   |     570.0     |  1977.0  |     0.0      |  98058  | 47.46736904 |\n",
            "|   4800.0   |      0.0      |  2011.0  |     0.0      |  98059  | 47.53108576 |\n",
            "|   1150.0   |      0.0      |  1952.0  |     0.0      |  98125  | 47.71063854 |\n",
            "|   2280.0   |     760.0     |  2011.0  |     0.0      |  98065  | 47.51887717 |\n",
            "+------------+---------------+----------+--------------+---------+-------------+\n",
            "+---------------+---------------+-----+\n",
            "|      long     | sqft_living15 | ... |\n",
            "+---------------+---------------+-----+\n",
            "| -122.17768631 |     1850.0    | ... |\n",
            "| -122.13389261 |     4750.0    | ... |\n",
            "| -122.28837299 |     1490.0    | ... |\n",
            "| -121.87558112 |     3070.0    | ... |\n",
            "+---------------+---------------+-----+\n",
            "[4 rows x 21 columns]\n",
            "\n"
          ],
          "name": "stdout"
        }
      ]
    },
    {
      "cell_type": "markdown",
      "metadata": {
        "id": "8YhztqyaKUwF"
      },
      "source": [
        "Extract the remainder of the data after *excluding* fourth segment (segment 3) and assign the subset to `train4`."
      ]
    },
    {
      "cell_type": "code",
      "metadata": {
        "id": "yINSsMcsKUwK"
      },
      "source": [
        "n = len(train_valid_shuffled)\n",
        "first_three = train_valid_shuffled[0:5818.8]\n",
        "last_six = train_valid_shuffled[7757.4+1:n]\n",
        "train4 = first_three.append(last_six)"
      ],
      "execution_count": null,
      "outputs": []
    },
    {
      "cell_type": "markdown",
      "metadata": {
        "id": "F1I3OroiKUwS"
      },
      "source": [
        "To verify that we have the right elements extracted, run the following cell, which computes the average price of the data with fourth segment excluded. When rounded to nearest whole number, the average should be $536,865."
      ]
    },
    {
      "cell_type": "code",
      "metadata": {
        "id": "vwPva0mtKUwW",
        "colab": {
          "base_uri": "https://localhost:8080/",
          "height": 35
        },
        "outputId": "98aa25e8-6853-4883-d2a8-aef2bd92c160"
      },
      "source": [
        "print(int(round(train4['price'].mean(), 0)))"
      ],
      "execution_count": null,
      "outputs": [
        {
          "output_type": "stream",
          "text": [
            "536866\n"
          ],
          "name": "stdout"
        }
      ]
    },
    {
      "cell_type": "markdown",
      "metadata": {
        "id": "JHygp2txKUwd"
      },
      "source": [
        "Now we are ready to implement k-fold cross-validation. Write a function that computes k validation errors by designating each of the k segments as the validation set. It accepts as parameters (i) `k`, (ii) `l2_penalty`, (iii) dataframe, (iv) name of output column (e.g. `price`) and (v) list of feature names. The function returns the average validation error using k segments as validation sets.\n",
        "\n",
        "* For each i in [0, 1, ..., k-1]:\n",
        "  * Compute starting and ending indices of segment i and call 'start' and 'end'\n",
        "  * Form validation set by taking a slice (start:end+1) from the data.\n",
        "  * Form training set by appending slice (end+1:n) to the end of slice (0:start).\n",
        "  * Train a linear model using training set just formed, with a given l2_penalty\n",
        "  * Compute validation error using validation set just formed"
      ]
    },
    {
      "cell_type": "code",
      "metadata": {
        "id": "nymserMUKUwg"
      },
      "source": [
        "def k_fold_cross_validation(k, l2_penalty, data, output_name, features_list):\n",
        "    \n",
        "    n = len(data)\n",
        "    RSS_sum = 0\n",
        "    for i in range(k):\n",
        "        start = (n*i)/k\n",
        "        end = (n*(i+1))/k-1\n",
        "        validation_set = data[start:end+1]\n",
        "        training_set = data[0:start].append(data[end+1:n])\n",
        "        liner_model_of_training_set = turicreate.linear_regression.create(training_set, target = output_name, features = features_list, validation_set = None,verbose = False,l2_penalty=l2_penalty)\n",
        "        model_predictions = liner_model_of_training_set.predict(validation_set)\n",
        "        RSS = sum((validation_set[output_name] - model_predictions)**2)\n",
        "        RSS_sum += RSS\n",
        "    validation_error = np.mean(RSS_sum)\n",
        "    return validation_error"
      ],
      "execution_count": null,
      "outputs": []
    },
    {
      "cell_type": "markdown",
      "metadata": {
        "id": "eFfsH9zPKUwo"
      },
      "source": [
        "Once we have a function to compute the average validation error for a model, we can write a loop to find the model that minimizes the average validation error. Write a loop that does the following:\n",
        "* We will again be aiming to fit a 15th-order polynomial model using the `sqft_living` input\n",
        "* For `l2_penalty` in [10^1, 10^1.5, 10^2, 10^2.5, ..., 10^7] (to get this in Python, you can use this Numpy function: `np.logspace(1, 7, num=13)`.)\n",
        "    * Run 10-fold cross-validation with `l2_penalty`\n",
        "* Report which L2 penalty produced the lowest average validation error.\n",
        "\n",
        "Note: since the degree of the polynomial is now fixed to 15, to make things faster, you should generate polynomial features in advance and re-use them throughout the loop. Make sure to use `train_valid_shuffled` when generating polynomial features!"
      ]
    },
    {
      "cell_type": "code",
      "metadata": {
        "id": "mxLcw5fAKUwq",
        "colab": {
          "base_uri": "https://localhost:8080/",
          "height": 55
        },
        "outputId": "ca4ccb7b-1398-4da5-df60-d28bd8baea07"
      },
      "source": [
        "poly15_data_train_valid_shuffled = polynomial_sframe(train_valid_shuffled['sqft_living'], 15)\n",
        "my_features = poly15_data_train_valid_shuffled.column_names() # get the name of the features\n",
        "poly15_data_train_valid_shuffled['price'] = train_valid_shuffled['price'] # add price to the data since it's the target\n",
        "l2_keys_values = {}\n",
        "for l2_exp_num in np.logspace(1, 7, num=13):\n",
        "   val_error = k_fold_cross_validation(10, l2_exp_num, poly15_data_train_valid_shuffled, 'price', my_features)\n",
        "   l2_keys_values[l2_exp_num] = val_error\n",
        "print(l2_keys_values)"
      ],
      "execution_count": null,
      "outputs": [
        {
          "output_type": "stream",
          "text": [
            "{10.0: 6247021911223293.0, 31.622776601683793: 3595226556537001.5, 100.0: 1825007432591423.8, 316.22776601683796: 1243451988027849.8, 1000.0: 1209636075402723.5, 3162.2776601683795: 1239219493696583.0, 10000.0: 1371241150434704.2, 31622.776601683792: 1717193929096095.0, 100000.0: 2291722677926904.0, 316227.7660168379: 2529826185323262.5, 1000000.0: 2587497557476118.0, 3162277.6601683795: 2628670191719786.0, 10000000.0: 2649265816227107.0}\n"
          ],
          "name": "stdout"
        }
      ]
    },
    {
      "cell_type": "code",
      "metadata": {
        "id": "TElIRvp1KWiu",
        "colab": {
          "base_uri": "https://localhost:8080/",
          "height": 35
        },
        "outputId": "5a98efa2-e46b-4aee-bb15-a6086479b59f"
      },
      "source": [
        "print(min(l2_keys_values.items(), key=lambda x: x[1]))"
      ],
      "execution_count": null,
      "outputs": [
        {
          "output_type": "stream",
          "text": [
            "(1000.0, 1209636075402723.5)\n"
          ],
          "name": "stdout"
        }
      ]
    },
    {
      "cell_type": "code",
      "metadata": {
        "id": "gqHgmqFOWOBd"
      },
      "source": [
        "l2_penalty = turicreate.SArray(l2_keys_values.keys())\n",
        "validation_error = turicreate.SArray(l2_keys_values.values())\n",
        "\n",
        "l2_penalty_validation_error_SFrame = turicreate.SFrame({'l2_penalty':l2_penalty,'validation_error':validation_error})"
      ],
      "execution_count": null,
      "outputs": []
    },
    {
      "cell_type": "markdown",
      "metadata": {
        "id": "rtTLKf6FKUwx"
      },
      "source": [
        "***QUIZ QUESTIONS:  What is the best value for the L2 penalty according to 10-fold validation?***"
      ]
    },
    {
      "cell_type": "markdown",
      "metadata": {
        "id": "CQ0yMfd5KUw0"
      },
      "source": [
        "You may find it useful to plot the k-fold cross-validation errors you have obtained to better understand the behavior of the method.  "
      ]
    },
    {
      "cell_type": "code",
      "metadata": {
        "id": "-PBWYn8iKUw2",
        "colab": {
          "base_uri": "https://localhost:8080/",
          "height": 280
        },
        "outputId": "a50835a0-0ed6-4ab4-c9b9-825c1ba12049"
      },
      "source": [
        "# Plot the l2_penalty values in the x axis and the cross-validation error in the y axis.\n",
        "# Using plt.xscale('log') will make your plot more intuitive.\n",
        "plt.plot(l2_penalty_validation_error_SFrame['l2_penalty'],l2_penalty_validation_error_SFrame['validation_error'],'.')\n",
        "plt.xscale('log')"
      ],
      "execution_count": null,
      "outputs": [
        {
          "output_type": "display_data",
          "data": {
            "image/png": "[encoded data removed]",
            "text/plain": [
              "<Figure size 432x288 with 1 Axes>"
            ]
          },
          "metadata": {
            "tags": []
          }
        }
      ]
    },
    {
      "cell_type": "markdown",
      "metadata": {
        "id": "wkWoFs67KUw_"
      },
      "source": [
        "Once you found the best value for the L2 penalty using cross-validation, it is important to retrain a final model on all of the training data using this value of `l2_penalty`. This way, your final model will be trained on the entire dataset."
      ]
    },
    {
      "cell_type": "code",
      "metadata": {
        "id": "muMampVwKUxB",
        "colab": {
          "base_uri": "https://localhost:8080/",
          "height": 35
        },
        "outputId": "279af265-d671-4f63-e9fa-56ed6c63daf0"
      },
      "source": [
        "poly15_data_train_valid_shuffled = polynomial_sframe(train_valid_shuffled['sqft_living'], 15)\n",
        "my_features = poly15_data_train_valid_shuffled.column_names() # get the name of the features\n",
        "poly15_data_train_valid_shuffled['price'] = train_valid_shuffled['price'] # add price to the data since it's the target\n",
        "l2_best_value = 1000.0\n",
        "new_model = turicreate.linear_regression.create(poly15_data_train_valid_shuffled, target = 'price', features = my_features, validation_set = None,verbose = False,l2_penalty=l2_best_value)\n",
        "poly_test_data = polynomial_sframe(test['sqft_living'], 15)\n",
        "test_data_predictions = new_model.predict(poly_test_data)\n",
        "RSS_test_data = sum((test['price'] - test_data_predictions)**2)\n",
        "print(RSS_test_data)"
      ],
      "execution_count": null,
      "outputs": [
        {
          "output_type": "stream",
          "text": [
            "128780855058449.31\n"
          ],
          "name": "stdout"
        }
      ]
    },
    {
      "cell_type": "markdown",
      "metadata": {
        "id": "KjjZocGIKUxH"
      },
      "source": [
        "***QUIZ QUESTION: Using the best L2 penalty found above, train a model using all training data. What is the RSS on the TEST data of the model you learn with this L2 penalty? ***"
      ]
    },
    {
      "cell_type": "code",
      "metadata": {
        "id": "pGgJ0YLdKUxK"
      },
      "source": [
        ""
      ],
      "execution_count": null,
      "outputs": []
    }
  ]
}