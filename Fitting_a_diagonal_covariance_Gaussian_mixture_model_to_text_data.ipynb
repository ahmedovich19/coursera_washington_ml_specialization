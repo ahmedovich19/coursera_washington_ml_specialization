{
  "nbformat": 4,
  "nbformat_minor": 0,
  "metadata": {
    "anaconda-cloud": {},
    "kernelspec": {
      "display_name": "Python 3",
      "language": "python",
      "name": "python3"
    },
    "language_info": {
      "codemirror_mode": {
        "name": "ipython",
        "version": 3
      },
      "file_extension": ".py",
      "mimetype": "text/x-python",
      "name": "python",
      "nbconvert_exporter": "python",
      "pygments_lexer": "ipython3",
      "version": "3.6.8"
    },
    "colab": {
      "name": "Fitting a diagonal covariance Gaussian mixture model to text data.ipynb",
      "provenance": [],
      "collapsed_sections": []
    }
  },
  "cells": [
    {
      "cell_type": "code",
      "metadata": {
        "id": "UlYEJ6S3SEKm",
        "colab": {
          "base_uri": "https://localhost:8080/",
          "height": 1000
        },
        "outputId": "e0dec1da-31e8-484b-b170-3fd18672c596"
      },
      "source": [
        "!pip install turicreate\n",
        "!pip install numpy"
      ],
      "execution_count": null,
      "outputs": [
        {
          "output_type": "stream",
          "text": [
            "Collecting turicreate\n",
            "\u001b[?25l  Downloading https://files.pythonhosted.org/packages/ee/3c/11f0818f117bc80bab78b5b04d492316f949d005bb1c6b3e05f31182b20e/turicreate-6.2.2-cp36-cp36m-manylinux1_x86_64.whl (91.8MB)\n",
            "\u001b[K     |████████████████████████████████| 91.8MB 56kB/s \n",
            "\u001b[?25hRequirement already satisfied: requests>=2.9.1 in /usr/local/lib/python3.6/dist-packages (from turicreate) (2.23.0)\n",
            "Requirement already satisfied: decorator>=4.0.9 in /usr/local/lib/python3.6/dist-packages (from turicreate) (4.4.2)\n",
            "Requirement already satisfied: pillow>=5.2.0 in /usr/local/lib/python3.6/dist-packages (from turicreate) (7.0.0)\n",
            "Requirement already satisfied: six>=1.10.0 in /usr/local/lib/python3.6/dist-packages (from turicreate) (1.12.0)\n",
            "Requirement already satisfied: scipy>=1.1.0 in /usr/local/lib/python3.6/dist-packages (from turicreate) (1.4.1)\n",
            "Collecting tensorflow<=2.0.1,>=2.0.0\n",
            "\u001b[?25l  Downloading https://files.pythonhosted.org/packages/43/16/b07e3f7a4a024b47918f7018967eb984b0c542458a6141d8c48515aa81d4/tensorflow-2.0.1-cp36-cp36m-manylinux2010_x86_64.whl (86.3MB)\n",
            "\u001b[K     |████████████████████████████████| 86.3MB 48kB/s \n",
            "\u001b[?25hCollecting coremltools==3.3\n",
            "\u001b[?25l  Downloading https://files.pythonhosted.org/packages/77/19/611916d1ef326d38857d93af5ba184f6ad7491642e0fa4f9082e7d82f034/coremltools-3.3-cp36-none-manylinux1_x86_64.whl (3.4MB)\n",
            "\u001b[K     |████████████████████████████████| 3.4MB 35.6MB/s \n",
            "\u001b[?25hRequirement already satisfied: numpy in /usr/local/lib/python3.6/dist-packages (from turicreate) (1.18.4)\n",
            "Requirement already satisfied: pandas>=0.23.2 in /usr/local/lib/python3.6/dist-packages (from turicreate) (1.0.3)\n",
            "Collecting resampy==0.2.1\n",
            "\u001b[?25l  Downloading https://files.pythonhosted.org/packages/14/b6/66a06d85474190b50aee1a6c09cdc95bb405ac47338b27e9b21409da1760/resampy-0.2.1.tar.gz (322kB)\n",
            "\u001b[K     |████████████████████████████████| 327kB 42.0MB/s \n",
            "\u001b[?25hRequirement already satisfied: prettytable==0.7.2 in /usr/local/lib/python3.6/dist-packages (from turicreate) (0.7.2)\n",
            "Requirement already satisfied: chardet<4,>=3.0.2 in /usr/local/lib/python3.6/dist-packages (from requests>=2.9.1->turicreate) (3.0.4)\n",
            "Requirement already satisfied: certifi>=2017.4.17 in /usr/local/lib/python3.6/dist-packages (from requests>=2.9.1->turicreate) (2020.4.5.1)\n",
            "Requirement already satisfied: idna<3,>=2.5 in /usr/local/lib/python3.6/dist-packages (from requests>=2.9.1->turicreate) (2.9)\n",
            "Requirement already satisfied: urllib3!=1.25.0,!=1.25.1,<1.26,>=1.21.1 in /usr/local/lib/python3.6/dist-packages (from requests>=2.9.1->turicreate) (1.24.3)\n",
            "Requirement already satisfied: absl-py>=0.7.0 in /usr/local/lib/python3.6/dist-packages (from tensorflow<=2.0.1,>=2.0.0->turicreate) (0.9.0)\n",
            "Requirement already satisfied: opt-einsum>=2.3.2 in /usr/local/lib/python3.6/dist-packages (from tensorflow<=2.0.1,>=2.0.0->turicreate) (3.2.1)\n",
            "Collecting gast==0.2.2\n",
            "  Downloading https://files.pythonhosted.org/packages/4e/35/11749bf99b2d4e3cceb4d55ca22590b0d7c2c62b9de38ac4a4a7f4687421/gast-0.2.2.tar.gz\n",
            "Requirement already satisfied: google-pasta>=0.1.6 in /usr/local/lib/python3.6/dist-packages (from tensorflow<=2.0.1,>=2.0.0->turicreate) (0.2.0)\n",
            "Requirement already satisfied: protobuf>=3.6.1 in /usr/local/lib/python3.6/dist-packages (from tensorflow<=2.0.1,>=2.0.0->turicreate) (3.10.0)\n",
            "Requirement already satisfied: astor>=0.6.0 in /usr/local/lib/python3.6/dist-packages (from tensorflow<=2.0.1,>=2.0.0->turicreate) (0.8.1)\n",
            "Requirement already satisfied: keras-preprocessing>=1.0.5 in /usr/local/lib/python3.6/dist-packages (from tensorflow<=2.0.1,>=2.0.0->turicreate) (1.1.2)\n",
            "Requirement already satisfied: keras-applications>=1.0.8 in /usr/local/lib/python3.6/dist-packages (from tensorflow<=2.0.1,>=2.0.0->turicreate) (1.0.8)\n",
            "Requirement already satisfied: wrapt>=1.11.1 in /usr/local/lib/python3.6/dist-packages (from tensorflow<=2.0.1,>=2.0.0->turicreate) (1.12.1)\n",
            "Requirement already satisfied: grpcio>=1.8.6 in /usr/local/lib/python3.6/dist-packages (from tensorflow<=2.0.1,>=2.0.0->turicreate) (1.29.0)\n",
            "Requirement already satisfied: wheel>=0.26; python_version >= \"3\" in /usr/local/lib/python3.6/dist-packages (from tensorflow<=2.0.1,>=2.0.0->turicreate) (0.34.2)\n",
            "Collecting tensorboard<2.1.0,>=2.0.0\n",
            "\u001b[?25l  Downloading https://files.pythonhosted.org/packages/76/54/99b9d5d52d5cb732f099baaaf7740403e83fe6b0cedde940fabd2b13d75a/tensorboard-2.0.2-py3-none-any.whl (3.8MB)\n",
            "\u001b[K     |████████████████████████████████| 3.8MB 45.3MB/s \n",
            "\u001b[?25hRequirement already satisfied: termcolor>=1.1.0 in /usr/local/lib/python3.6/dist-packages (from tensorflow<=2.0.1,>=2.0.0->turicreate) (1.1.0)\n",
            "Collecting tensorflow-estimator<2.1.0,>=2.0.0\n",
            "\u001b[?25l  Downloading https://files.pythonhosted.org/packages/fc/08/8b927337b7019c374719145d1dceba21a8bb909b93b1ad6f8fb7d22c1ca1/tensorflow_estimator-2.0.1-py2.py3-none-any.whl (449kB)\n",
            "\u001b[K     |████████████████████████████████| 450kB 35.8MB/s \n",
            "\u001b[?25hRequirement already satisfied: pytz>=2017.2 in /usr/local/lib/python3.6/dist-packages (from pandas>=0.23.2->turicreate) (2018.9)\n",
            "Requirement already satisfied: python-dateutil>=2.6.1 in /usr/local/lib/python3.6/dist-packages (from pandas>=0.23.2->turicreate) (2.8.1)\n",
            "Requirement already satisfied: numba>=0.32 in /usr/local/lib/python3.6/dist-packages (from resampy==0.2.1->turicreate) (0.48.0)\n",
            "Requirement already satisfied: setuptools in /usr/local/lib/python3.6/dist-packages (from protobuf>=3.6.1->tensorflow<=2.0.1,>=2.0.0->turicreate) (46.3.0)\n",
            "Requirement already satisfied: h5py in /usr/local/lib/python3.6/dist-packages (from keras-applications>=1.0.8->tensorflow<=2.0.1,>=2.0.0->turicreate) (2.10.0)\n",
            "Requirement already satisfied: markdown>=2.6.8 in /usr/local/lib/python3.6/dist-packages (from tensorboard<2.1.0,>=2.0.0->tensorflow<=2.0.1,>=2.0.0->turicreate) (3.2.2)\n",
            "Requirement already satisfied: google-auth<2,>=1.6.3 in /usr/local/lib/python3.6/dist-packages (from tensorboard<2.1.0,>=2.0.0->tensorflow<=2.0.1,>=2.0.0->turicreate) (1.7.2)\n",
            "Requirement already satisfied: werkzeug>=0.11.15 in /usr/local/lib/python3.6/dist-packages (from tensorboard<2.1.0,>=2.0.0->tensorflow<=2.0.1,>=2.0.0->turicreate) (1.0.1)\n",
            "Requirement already satisfied: google-auth-oauthlib<0.5,>=0.4.1 in /usr/local/lib/python3.6/dist-packages (from tensorboard<2.1.0,>=2.0.0->tensorflow<=2.0.1,>=2.0.0->turicreate) (0.4.1)\n",
            "Requirement already satisfied: llvmlite<0.32.0,>=0.31.0dev0 in /usr/local/lib/python3.6/dist-packages (from numba>=0.32->resampy==0.2.1->turicreate) (0.31.0)\n",
            "Requirement already satisfied: importlib-metadata; python_version < \"3.8\" in /usr/local/lib/python3.6/dist-packages (from markdown>=2.6.8->tensorboard<2.1.0,>=2.0.0->tensorflow<=2.0.1,>=2.0.0->turicreate) (1.6.0)\n",
            "Requirement already satisfied: cachetools<3.2,>=2.0.0 in /usr/local/lib/python3.6/dist-packages (from google-auth<2,>=1.6.3->tensorboard<2.1.0,>=2.0.0->tensorflow<=2.0.1,>=2.0.0->turicreate) (3.1.1)\n",
            "Requirement already satisfied: rsa<4.1,>=3.1.4 in /usr/local/lib/python3.6/dist-packages (from google-auth<2,>=1.6.3->tensorboard<2.1.0,>=2.0.0->tensorflow<=2.0.1,>=2.0.0->turicreate) (4.0)\n",
            "Requirement already satisfied: pyasn1-modules>=0.2.1 in /usr/local/lib/python3.6/dist-packages (from google-auth<2,>=1.6.3->tensorboard<2.1.0,>=2.0.0->tensorflow<=2.0.1,>=2.0.0->turicreate) (0.2.8)\n",
            "Requirement already satisfied: requests-oauthlib>=0.7.0 in /usr/local/lib/python3.6/dist-packages (from google-auth-oauthlib<0.5,>=0.4.1->tensorboard<2.1.0,>=2.0.0->tensorflow<=2.0.1,>=2.0.0->turicreate) (1.3.0)\n",
            "Requirement already satisfied: zipp>=0.5 in /usr/local/lib/python3.6/dist-packages (from importlib-metadata; python_version < \"3.8\"->markdown>=2.6.8->tensorboard<2.1.0,>=2.0.0->tensorflow<=2.0.1,>=2.0.0->turicreate) (3.1.0)\n",
            "Requirement already satisfied: pyasn1>=0.1.3 in /usr/local/lib/python3.6/dist-packages (from rsa<4.1,>=3.1.4->google-auth<2,>=1.6.3->tensorboard<2.1.0,>=2.0.0->tensorflow<=2.0.1,>=2.0.0->turicreate) (0.4.8)\n",
            "Requirement already satisfied: oauthlib>=3.0.0 in /usr/local/lib/python3.6/dist-packages (from requests-oauthlib>=0.7.0->google-auth-oauthlib<0.5,>=0.4.1->tensorboard<2.1.0,>=2.0.0->tensorflow<=2.0.1,>=2.0.0->turicreate) (3.1.0)\n",
            "Building wheels for collected packages: resampy, gast\n",
            "  Building wheel for resampy (setup.py) ... \u001b[?25l\u001b[?25hdone\n",
            "  Created wheel for resampy: filename=resampy-0.2.1-cp36-none-any.whl size=320850 sha256=f5137ca0b63902f8c989585cb45ca071e978211a0f75d60d790355abbbbcaa46\n",
            "  Stored in directory: /root/.cache/pip/wheels/ff/4f/ed/2e6c676c23efe5394bb40ade50662e90eb46e29b48324c5f9b\n",
            "  Building wheel for gast (setup.py) ... \u001b[?25l\u001b[?25hdone\n",
            "  Created wheel for gast: filename=gast-0.2.2-cp36-none-any.whl size=7540 sha256=080b516916599c3cf38b7daa828520d2d56866dbefe8baf762afd7270d6482d8\n",
            "  Stored in directory: /root/.cache/pip/wheels/5c/2e/7e/a1d4d4fcebe6c381f378ce7743a3ced3699feb89bcfbdadadd\n",
            "Successfully built resampy gast\n",
            "\u001b[31mERROR: tensorflow-probability 0.10.0 has requirement gast>=0.3.2, but you'll have gast 0.2.2 which is incompatible.\u001b[0m\n",
            "Installing collected packages: gast, tensorboard, tensorflow-estimator, tensorflow, coremltools, resampy, turicreate\n",
            "  Found existing installation: gast 0.3.3\n",
            "    Uninstalling gast-0.3.3:\n",
            "      Successfully uninstalled gast-0.3.3\n",
            "  Found existing installation: tensorboard 2.2.1\n",
            "    Uninstalling tensorboard-2.2.1:\n",
            "      Successfully uninstalled tensorboard-2.2.1\n",
            "  Found existing installation: tensorflow-estimator 2.2.0\n",
            "    Uninstalling tensorflow-estimator-2.2.0:\n",
            "      Successfully uninstalled tensorflow-estimator-2.2.0\n",
            "  Found existing installation: tensorflow 2.2.0\n",
            "    Uninstalling tensorflow-2.2.0:\n",
            "      Successfully uninstalled tensorflow-2.2.0\n",
            "  Found existing installation: resampy 0.2.2\n",
            "    Uninstalling resampy-0.2.2:\n",
            "      Successfully uninstalled resampy-0.2.2\n",
            "Successfully installed coremltools-3.3 gast-0.2.2 resampy-0.2.1 tensorboard-2.0.2 tensorflow-2.0.1 tensorflow-estimator-2.0.1 turicreate-6.2.2\n",
            "Requirement already satisfied: numpy in /usr/local/lib/python3.6/dist-packages (1.18.4)\n"
          ],
          "name": "stdout"
        }
      ]
    },
    {
      "cell_type": "code",
      "metadata": {
        "id": "nzFHatrkSF_W",
        "colab": {
          "base_uri": "https://localhost:8080/",
          "height": 129
        },
        "outputId": "7e4b4966-629b-47fb-c52a-43dc5c524220"
      },
      "source": [
        "import os.path\n",
        "from google.colab import drive\n",
        "\n",
        "# mount Google Drive to /content/drive/My Drive/\n",
        "if os.path.isdir(\"/content/drive/My Drive/\"):\n",
        "  print(\"Google Drive already mounted\")\n",
        "else:\n",
        "  drive.mount('/content/drive')"
      ],
      "execution_count": null,
      "outputs": [
        {
          "output_type": "stream",
          "text": [
            "Go to this URL in a browser: https://accounts.google.com/o/oauth2/auth?client_id=947318989803-6bn6qk8qdgf4n4g3pfee6491hc0brc4i.apps.googleusercontent.com&redirect_uri=urn%3aietf%3awg%3aoauth%3a2.0%3aoob&response_type=code&scope=email%20https%3a%2f%2fwww.googleapis.com%2fauth%2fdocs.test%20https%3a%2f%2fwww.googleapis.com%2fauth%2fdrive%20https%3a%2f%2fwww.googleapis.com%2fauth%2fdrive.photos.readonly%20https%3a%2f%2fwww.googleapis.com%2fauth%2fpeopleapi.readonly\n",
            "\n",
            "Enter your authorization code:\n",
            "··········\n",
            "Mounted at /content/drive\n"
          ],
          "name": "stdout"
        }
      ]
    },
    {
      "cell_type": "code",
      "metadata": {
        "id": "Mz4u_dBkSF2o",
        "colab": {
          "base_uri": "https://localhost:8080/",
          "height": 459
        },
        "outputId": "a861d8c5-a7db-455d-ff8c-bf97167543f7"
      },
      "source": [
        "import os.path\n",
        "import urllib.request\n",
        "import tarfile\n",
        "import zipfile\n",
        "import gzip\n",
        "from shutil import copy\n",
        "\n",
        "def fetch_remote_datafile(filename, remote_url):\n",
        "  if os.path.isfile(\"./\" + filename):\n",
        "    print(\"already have \" + filename + \" in workspace\")\n",
        "    return\n",
        "  print(\"fetching \" + filename + \" from \" + remote_url + \"...\")\n",
        "  urllib.request.urlretrieve(remote_url, \"./\" + filename)\n",
        "\n",
        "def cache_datafile_in_drive(filename):\n",
        "  if os.path.isfile(\"./\" + filename) == False:\n",
        "    print(\"cannot cache \" + filename + \", it is not in workspace\")\n",
        "    return\n",
        "  \n",
        "  data_drive_path = \"/content/drive/My Drive/Colab Notebooks/\"\n",
        "  if os.path.isfile(data_drive_path + filename):\n",
        "    print(\"\" + filename + \" has already been stored in Google Drive\")\n",
        "  else:\n",
        "    print(\"copying \" + filename + \" to \" + data_drive_path)\n",
        "    copy(\"./\" + filename, data_drive_path)\n",
        "  \n",
        "\n",
        "def load_datafile_from_drive(filename, remote_url=None):\n",
        "  data_drive_path = \"/content/drive/My Drive/Colab Notebooks/\"\n",
        "  if os.path.isfile(\"./\" + filename):\n",
        "    print(\"already have \" + filename + \" in workspace\")\n",
        "  elif os.path.isfile(data_drive_path + filename):\n",
        "    print(\"have \" + filename + \" in Google Drive, copying to workspace...\")\n",
        "    copy(data_drive_path + filename, \".\")\n",
        "  elif remote_url != None:\n",
        "    fetch_remote_datafile(filename, remote_url)\n",
        "  else:\n",
        "    print(\"error: you need to manually download \" + filename + \" and put in drive\")\n",
        "    \n",
        "def extract_datafile(filename, expected_extract_artifact=None):\n",
        "  if expected_extract_artifact != None and (os.path.isfile(expected_extract_artifact) or os.path.isdir(expected_extract_artifact)):\n",
        "    \n",
        "    print(\"files in \" + filename + \" have already been extracted\")\n",
        "  elif os.path.isfile(\"./\" + filename) == False:\n",
        "    print(\"error: cannot extract \" + filename + \", it is not in the workspace\")\n",
        "  else:\n",
        "    extension = filename.split('.')[-1]\n",
        "    if extension == \"zip\":\n",
        "      print(\"extracting \" + filename + \"...\")\n",
        "      data_file = open(filename, \"rb\")\n",
        "      z = zipfile.ZipFile(data_file)\n",
        "      for name in z.namelist():\n",
        "          print(\"    extracting file\", name)\n",
        "          z.extract(name, \"./\")\n",
        "      data_file.close()\n",
        "    elif extension == \"gz\":\n",
        "      print(\"extracting \" + filename + \"...\")\n",
        "      if filename.split('.')[-2] == \"tar\":\n",
        "        tar = tarfile.open(filename)\n",
        "        tar.extractall()\n",
        "        tar.close()\n",
        "      else:\n",
        "        data_zip_file = gzip.GzipFile(filename, 'rb')\n",
        "        data = data_zip_file.read()\n",
        "        data_zip_file.close()\n",
        "        extracted_file = open('.'.join(filename.split('.')[0:-1]), 'wb')\n",
        "        extracted_file.write(data)\n",
        "        extracted_file.close()\n",
        "    elif extension == \"tar\":\n",
        "      print(\"extracting \" + filename + \"...\")\n",
        "      tar = tarfile.open(filename)\n",
        "      tar.extractall()\n",
        "      tar.close()\n",
        "    elif extension == \"csv\":\n",
        "      print(\"do not need to extract csv\")\n",
        "    else:\n",
        "      print(\"cannot extract \" + filename)\n",
        "      \n",
        "def load_cache_extract_datafile(filename, expected_extract_artifact=None, remote_url=None):\n",
        "  load_datafile_from_drive(filename, remote_url)\n",
        "  extract_datafile(filename, expected_extract_artifact)\n",
        "  cache_datafile_in_drive(filename)\n",
        "  \n",
        "load_cache_extract_datafile(\"people_wiki.sframe.zip\", \"people_wiki.sframe\", \"https://d3c33hcgiwev3.cloudfront.net/i5zBDt4bEemhxxJUtZcQoA_7fb43aab245846f09a8c48977883f0b6_people_wiki.sframe.zip?Expires=1590105600&Signature=YLsrMm-2Sdchz-ACkV15uDmP3IOoKwgkTmUAncz0RLydIpGwKVInDCDA-CrIcZiL5J-~AIkV~gCAr31f0g6MKB2Dwqhkpm~f5VY6Co6CxAO1d7yt5hIbU-LLbTgqfcQPl5R~IXuZOENXyEpsy0Zes1HTjrtUF8VeBgHny7xNCQ4_&Key-Pair-Id=APKAJLTNE6QMUY6HBC5A\")\n",
        "load_cache_extract_datafile(\"em_utilities.py.zip\", \"em_utilities.py\", \"https://d3c33hcgiwev3.cloudfront.net/DCphrd4eEemzYQ60aJAwVA_fc87f6033fa34a2ab644e47ef86539cc_em_utilities.py.zip?Expires=1590105600&Signature=J4b~gh1GVUTPPhK0JpAez1YM~fi4NEDW50RG3JN2NcF6SEwYPO~0hMv1xo4cXw9OFZbFGDt9PSWHDxaIgFviftCq6R7gEwJOQzNMqDEl6qsorCt436n3hUvi1bJpkt4nvo3plDXbi7Y74UtPqkoib5VkBloldlBGtib22gBPzcg_&Key-Pair-Id=APKAJLTNE6QMUY6HBC5A\")\n"
      ],
      "execution_count": null,
      "outputs": [
        {
          "output_type": "stream",
          "text": [
            "have people_wiki.sframe.zip in Google Drive, copying to workspace...\n",
            "extracting people_wiki.sframe.zip...\n",
            "    extracting file people_wiki.sframe/\n",
            "    extracting file people_wiki.sframe/m_cf05efad0f89a530.frame_idx\n",
            "    extracting file __MACOSX/\n",
            "    extracting file __MACOSX/people_wiki.sframe/\n",
            "    extracting file __MACOSX/people_wiki.sframe/._m_cf05efad0f89a530.frame_idx\n",
            "    extracting file people_wiki.sframe/m_cf05efad0f89a530.0000\n",
            "    extracting file __MACOSX/people_wiki.sframe/._m_cf05efad0f89a530.0000\n",
            "    extracting file people_wiki.sframe/dir_archive.ini\n",
            "    extracting file __MACOSX/people_wiki.sframe/._dir_archive.ini\n",
            "    extracting file people_wiki.sframe/m_cf05efad0f89a530.sidx\n",
            "    extracting file __MACOSX/people_wiki.sframe/._m_cf05efad0f89a530.sidx\n",
            "    extracting file people_wiki.sframe/objects.bin\n",
            "    extracting file __MACOSX/people_wiki.sframe/._objects.bin\n",
            "    extracting file __MACOSX/._people_wiki.sframe\n",
            "people_wiki.sframe.zip has already been stored in Google Drive\n",
            "fetching em_utilities.py.zip from https://d3c33hcgiwev3.cloudfront.net/DCphrd4eEemzYQ60aJAwVA_fc87f6033fa34a2ab644e47ef86539cc_em_utilities.py.zip?Expires=1590105600&Signature=J4b~gh1GVUTPPhK0JpAez1YM~fi4NEDW50RG3JN2NcF6SEwYPO~0hMv1xo4cXw9OFZbFGDt9PSWHDxaIgFviftCq6R7gEwJOQzNMqDEl6qsorCt436n3hUvi1bJpkt4nvo3plDXbi7Y74UtPqkoib5VkBloldlBGtib22gBPzcg_&Key-Pair-Id=APKAJLTNE6QMUY6HBC5A...\n",
            "extracting em_utilities.py.zip...\n",
            "    extracting file em_utilities.py\n",
            "    extracting file __MACOSX/\n",
            "    extracting file __MACOSX/._em_utilities.py\n",
            "copying em_utilities.py.zip to /content/drive/My Drive/Colab Notebooks/\n"
          ],
          "name": "stdout"
        }
      ]
    },
    {
      "cell_type": "markdown",
      "metadata": {
        "id": "Ty8C8vG-TFiG"
      },
      "source": [
        ""
      ]
    },
    {
      "cell_type": "markdown",
      "metadata": {
        "id": "bNBc13yGR7rS"
      },
      "source": [
        "## Fitting a diagonal covariance Gaussian mixture model to text data\n",
        "\n",
        "In a previous assignment, we explored k-means clustering for a high-dimensional Wikipedia dataset. We can also model this data with a mixture of Gaussians, though with increasing dimension we run into two important issues associated with using a full covariance matrix for each component.\n",
        " * Computational cost becomes prohibitive in high dimensions: score calculations have complexity cubic in the number of dimensions M if the Gaussian has a full covariance matrix.\n",
        " * A model with many parameters require more data: observe that a full covariance matrix for an M-dimensional Gaussian will have M(M+1)/2 parameters to fit. With the number of parameters growing roughly as the square of the dimension, it may quickly become impossible to find a sufficient amount of data to make good inferences.\n",
        "\n",
        "Both of these issues are avoided if we require the covariance matrix of each component to be diagonal, as then it has only M parameters to fit and the score computation decomposes into M univariate score calculations. Recall from the lecture that the M-step for the full covariance is:\n",
        "\n",
        "\\begin{align*}\n",
        "\\hat{\\Sigma}_k &= \\frac{1}{N_k^{soft}} \\sum_{i=1}^N r_{ik} (x_i-\\hat{\\mu}_k)(x_i - \\hat{\\mu}_k)^T\n",
        "\\end{align*}\n",
        "\n",
        "Note that this is a square matrix with M rows and M columns, and the above equation implies that the (v, w) element is computed by\n",
        "\n",
        "\\begin{align*}\n",
        "\\hat{\\Sigma}_{k, v, w} &= \\frac{1}{N_k^{soft}} \\sum_{i=1}^N r_{ik} (x_{iv}-\\hat{\\mu}_{kv})(x_{iw} - \\hat{\\mu}_{kw})\n",
        "\\end{align*}\n",
        "\n",
        "When we assume that this is a diagonal matrix, then non-diagonal elements are assumed to be zero and we only need to compute each of the M elements along the diagonal independently using the following equation. \n",
        "\n",
        "\\begin{align*}\n",
        "\\hat{\\sigma}^2_{k, v} &= \\hat{\\Sigma}_{k, v, v}  \\\\\n",
        "&= \\frac{1}{N_k^{soft}} \\sum_{i=1}^N r_{ik} (x_{iv}-\\hat{\\mu}_{kv})^2\n",
        "\\end{align*}\n",
        "\n",
        "In this section, we will use an EM implementation to fit a Gaussian mixture model with **diagonal** covariances to a subset of the Wikipedia dataset. The implementation uses the above equation to compute each variance term. \n",
        "\n",
        "We'll begin by importing the dataset and coming up with a useful representation for each article. After running our algorithm on the data, we will explore the output to see whether we can give a meaningful interpretation to the fitted parameters in our model."
      ]
    },
    {
      "cell_type": "markdown",
      "metadata": {
        "id": "K1A0U5WDR7rb"
      },
      "source": [
        "**Note to Amazon EC2 users**: To conserve memory, make sure to stop all the other notebooks before running this notebook."
      ]
    },
    {
      "cell_type": "markdown",
      "metadata": {
        "id": "xkDH8hHoR7rj"
      },
      "source": [
        "## Import necessary packages"
      ]
    },
    {
      "cell_type": "code",
      "metadata": {
        "id": "CfXascOHR7rr"
      },
      "source": [
        "from __future__ import print_function # to conform python 2.x print to python 3.x\n",
        "import turicreate"
      ],
      "execution_count": null,
      "outputs": []
    },
    {
      "cell_type": "markdown",
      "metadata": {
        "id": "tQJlAW32R7sh"
      },
      "source": [
        "We also have a Python file containing implementations for several functions that will be used during the course of this assignment."
      ]
    },
    {
      "cell_type": "code",
      "metadata": {
        "id": "zYx7KBelR7so"
      },
      "source": [
        "from em_utilities import *"
      ],
      "execution_count": null,
      "outputs": []
    },
    {
      "cell_type": "markdown",
      "metadata": {
        "id": "Gi_0_cLsR7tD"
      },
      "source": [
        "## Load Wikipedia data and extract TF-IDF features"
      ]
    },
    {
      "cell_type": "markdown",
      "metadata": {
        "id": "X6emfbdeR7tJ"
      },
      "source": [
        "Load Wikipedia data and transform each of the first 5000 document into a TF-IDF representation."
      ]
    },
    {
      "cell_type": "code",
      "metadata": {
        "id": "Gw46DTJqR7tN"
      },
      "source": [
        "wiki = turicreate.SFrame('people_wiki.sframe/').head(5000)\n",
        "wiki['tf_idf'] = turicreate.text_analytics.tf_idf(wiki['text'])"
      ],
      "execution_count": null,
      "outputs": []
    },
    {
      "cell_type": "markdown",
      "metadata": {
        "id": "U5tDZvONR7tl"
      },
      "source": [
        "Using a utility we provide, we will create a sparse matrix representation of the documents. This is the same utility function you used during the previous assignment on k-means with text data."
      ]
    },
    {
      "cell_type": "code",
      "metadata": {
        "id": "HFXmQQomR7tq"
      },
      "source": [
        "wiki = wiki.add_row_number()\n",
        "tf_idf, map_word_to_index = sframe_to_scipy(wiki, 'tf_idf')\n",
        "map_index_to_word = dict([[map_word_to_index[i], i] for i in map_word_to_index.keys()])"
      ],
      "execution_count": null,
      "outputs": []
    },
    {
      "cell_type": "markdown",
      "metadata": {
        "id": "qFC2OTR2R7uF"
      },
      "source": [
        "As in the previous assignment, we will normalize each document's TF-IDF vector to be a unit vector. "
      ]
    },
    {
      "cell_type": "code",
      "metadata": {
        "id": "v4mnRy8aR7uL",
        "colab": {
          "base_uri": "https://localhost:8080/",
          "height": 54
        },
        "outputId": "e08f7b5a-aa48-42ce-c5a5-3dcbe0c1a158"
      },
      "source": [
        "%%time\n",
        "tf_idf = normalize(tf_idf)"
      ],
      "execution_count": null,
      "outputs": [
        {
          "output_type": "stream",
          "text": [
            "CPU times: user 7.94 ms, sys: 1.1 ms, total: 9.03 ms\n",
            "Wall time: 21 ms\n"
          ],
          "name": "stdout"
        }
      ]
    },
    {
      "cell_type": "markdown",
      "metadata": {
        "id": "2Aw2dVGbR7uk"
      },
      "source": [
        "We can check that the length (Euclidean norm) of each row is now 1.0, as expected."
      ]
    },
    {
      "cell_type": "code",
      "metadata": {
        "scrolled": true,
        "id": "p-2LSrmeR7un",
        "colab": {
          "base_uri": "https://localhost:8080/",
          "height": 109
        },
        "outputId": "b397a841-fcdb-4fe3-bd73-de524991f886"
      },
      "source": [
        "for i in range(5):\n",
        "    doc = tf_idf[i]\n",
        "    print(np.linalg.norm(doc.todense()))"
      ],
      "execution_count": null,
      "outputs": [
        {
          "output_type": "stream",
          "text": [
            "1.0\n",
            "1.0\n",
            "0.9999999999999997\n",
            "1.0000000000000007\n",
            "1.0\n"
          ],
          "name": "stdout"
        }
      ]
    },
    {
      "cell_type": "markdown",
      "metadata": {
        "id": "eNYJIRXJR7u5"
      },
      "source": [
        "## EM in high dimensions\n",
        "\n",
        "EM for high-dimensional data requires some special treatment:\n",
        " * E step and M step must be vectorized as much as possible, as explicit loops are dreadfully slow in Python.\n",
        " * All operations must be cast in terms of sparse matrix operations, to take advantage of computational savings enabled by sparsity of data.\n",
        " * Initially, some words may be entirely absent from a cluster, causing the M step to produce zero mean and variance for those words.  This means any data point with one of those words will have 0 probability of being assigned to that cluster since the cluster allows for no variability (0 variance) around that count being 0 (0 mean). Since there is a small chance for those words to later appear in the cluster, we instead assign a small positive variance (~1e-10). Doing so also prevents numerical overflow.\n",
        " \n",
        "We provide the complete implementation for you in the file `em_utilities.py`. For those who are interested, you can read through the code to see how the sparse matrix implementation differs from the previous assignment. \n",
        "\n",
        "You are expected to answer some quiz questions using the results of clustering."
      ]
    },
    {
      "cell_type": "markdown",
      "metadata": {
        "id": "LXiKlfR-R7u9"
      },
      "source": [
        "**Initializing mean parameters using k-means**\n",
        "\n",
        "Recall from the lectures that EM for Gaussian mixtures is very sensitive to the choice of initial means. With a bad initial set of means, EM may produce clusters that span a large area and are mostly overlapping. To eliminate such bad outcomes, we first produce a suitable set of initial means by using the cluster centers from running k-means.  That is, we first run k-means and then take the final set of means from the converged solution as the initial means in our EM algorithm."
      ]
    },
    {
      "cell_type": "code",
      "metadata": {
        "id": "AFb9r8VcR7vB",
        "colab": {
          "base_uri": "https://localhost:8080/",
          "height": 54
        },
        "outputId": "cd9c7d98-1e08-49c6-f546-c7ddabd9da27"
      },
      "source": [
        "%%time \n",
        "\n",
        "from sklearn.cluster import KMeans\n",
        "\n",
        "np.random.seed(5)\n",
        "num_clusters = 25\n",
        "\n",
        "# Use scikit-learn's k-means to simplify workflow\n",
        "#kmeans_model = KMeans(n_clusters=num_clusters, n_init=5, max_iter=400, random_state=1, n_jobs=-1) # uncomment to use parallelism -- may break on your installation\n",
        "kmeans_model = KMeans(n_clusters=num_clusters, n_init=5, max_iter=400, random_state=1, n_jobs=1)\n",
        "kmeans_model.fit(tf_idf)\n",
        "centroids, cluster_assignment = kmeans_model.cluster_centers_, kmeans_model.labels_\n",
        "\n",
        "means = [centroid for centroid in centroids]"
      ],
      "execution_count": null,
      "outputs": [
        {
          "output_type": "stream",
          "text": [
            "CPU times: user 2min 22s, sys: 14 s, total: 2min 36s\n",
            "Wall time: 2min 19s\n"
          ],
          "name": "stdout"
        }
      ]
    },
    {
      "cell_type": "markdown",
      "metadata": {
        "id": "T5F31XcGR7vW"
      },
      "source": [
        "**Initializing cluster weights**\n",
        "\n",
        "We will initialize each cluster weight to be the proportion of documents assigned to that cluster by k-means above."
      ]
    },
    {
      "cell_type": "code",
      "metadata": {
        "id": "_9A4hM1kR7va",
        "colab": {
          "base_uri": "https://localhost:8080/",
          "height": 54
        },
        "outputId": "36f8d990-4798-4658-c2a8-72972d8d3bc8"
      },
      "source": [
        "%%time \n",
        "\n",
        "num_docs = tf_idf.shape[0]\n",
        "weights = []\n",
        "for i in range(num_clusters):\n",
        "    # Compute the number of data points assigned to cluster i:\n",
        "    num_assigned = cluster_assignment[cluster_assignment == i].shape[0]\n",
        "    w = float(num_assigned) / num_docs\n",
        "    weights.append(w)"
      ],
      "execution_count": null,
      "outputs": [
        {
          "output_type": "stream",
          "text": [
            "CPU times: user 1.55 ms, sys: 57 µs, total: 1.61 ms\n",
            "Wall time: 1.44 ms\n"
          ],
          "name": "stdout"
        }
      ]
    },
    {
      "cell_type": "markdown",
      "metadata": {
        "id": "ewM1MZLJR7vt"
      },
      "source": [
        "**Initializing covariances**\n",
        "\n",
        "To initialize our covariance parameters, we compute $\\hat{\\sigma}_{k, j}^2 = \\sum_{i=1}^{N}(x_{i,j} - \\hat{\\mu}_{k, j})^2$ for each feature $j$.  For features with really tiny variances, we assign 1e-8 instead to prevent numerical instability. We do this computation in a vectorized fashion in the following code block."
      ]
    },
    {
      "cell_type": "code",
      "metadata": {
        "id": "Fp-HFFYoR7vz"
      },
      "source": [
        "covs = []\n",
        "for i in range(num_clusters):\n",
        "    member_rows = tf_idf[cluster_assignment==i]\n",
        "    cov = (member_rows.multiply(member_rows) - 2*member_rows.dot(diag(means[i]))).sum(axis=0).A1 / member_rows.shape[0] \\\n",
        "          + means[i]**2\n",
        "    cov[cov < 1e-8] = 1e-8\n",
        "    covs.append(cov)"
      ],
      "execution_count": null,
      "outputs": []
    },
    {
      "cell_type": "markdown",
      "metadata": {
        "id": "iIJGRHD_R7wE"
      },
      "source": [
        "**Running EM**\n",
        "\n",
        "Now that we have initialized all of our parameters, run EM."
      ]
    },
    {
      "cell_type": "code",
      "metadata": {
        "scrolled": true,
        "id": "BVetwxWKR7wJ"
      },
      "source": [
        "out = EM_for_high_dimension(tf_idf, means, covs, weights, cov_smoothing=1e-10)"
      ],
      "execution_count": null,
      "outputs": []
    },
    {
      "cell_type": "code",
      "metadata": {
        "id": "aKv2k3AZR7wh",
        "colab": {
          "base_uri": "https://localhost:8080/",
          "height": 35
        },
        "outputId": "7530d8ce-bf87-4a60-bb02-3df911b28ead"
      },
      "source": [
        "out['loglik']"
      ],
      "execution_count": null,
      "outputs": [
        {
          "output_type": "execute_result",
          "data": {
            "text/plain": [
              "[3855847476.7012835, 4844053202.46348, 4844053202.46348]"
            ]
          },
          "metadata": {
            "tags": []
          },
          "execution_count": 18
        }
      ]
    },
    {
      "cell_type": "markdown",
      "metadata": {
        "id": "jwKiCjZCR7wz"
      },
      "source": [
        "## Interpret clustering results"
      ]
    },
    {
      "cell_type": "markdown",
      "metadata": {
        "id": "-oCSyGxZR7w3"
      },
      "source": [
        "In contrast to k-means, EM is able to explicitly model clusters of varying sizes and proportions. The relative magnitude of variances in the word dimensions tell us much about the nature of the clusters.\n",
        "\n",
        "Write yourself a cluster visualizer as follows.  Examining each cluster's mean vector, list the 5 words with the largest mean values (5 most common words in the cluster). For each word, also include the associated variance parameter (diagonal element of the covariance matrix). \n",
        "\n",
        "A sample output may be:\n",
        "```\n",
        "==========================================================\n",
        "Cluster 0: Largest mean parameters in cluster \n",
        "\n",
        "Word        Mean        Variance    \n",
        "football    1.08e-01    8.64e-03\n",
        "season      5.80e-02    2.93e-03\n",
        "club        4.48e-02    1.99e-03\n",
        "league      3.94e-02    1.08e-03\n",
        "played      3.83e-02    8.45e-04\n",
        "...\n",
        "```"
      ]
    },
    {
      "cell_type": "code",
      "metadata": {
        "id": "lpqGxUCCR7w6"
      },
      "source": [
        "# Fill in the blanks\n",
        "def visualize_EM_clusters(tf_idf, means, covs, map_index_to_word):\n",
        "    print('')\n",
        "    print('==========================================================')\n",
        "    \n",
        "    num_clusters = len(means)\n",
        "    for c in range(num_clusters):\n",
        "        print('Cluster {0:d}: Largest mean parameters in cluster '.format(c))\n",
        "        print('\\n{0: <12}{1: <12}{2: <12}'.format('Word', 'Mean', 'Variance'))\n",
        "        \n",
        "        # The k'th element of sorted_word_ids should be the index of the word \n",
        "        # that has the k'th-largest value in the cluster mean. Hint: Use np.argsort().\n",
        "        sorted_word_ids = np.argsort(-means[c])\n",
        "\n",
        "        for i in sorted_word_ids[:5]:\n",
        "            print('{0: <12}{1:<10.2e}{2:10.2e}'.format(map_index_to_word[i], \n",
        "                                                       means[c][i],\n",
        "                                                       covs[c][i]))\n",
        "        print('\\n==========================================================')"
      ],
      "execution_count": null,
      "outputs": []
    },
    {
      "cell_type": "code",
      "metadata": {
        "id": "10H3UFyxR7xT",
        "colab": {
          "base_uri": "https://localhost:8080/",
          "height": 1000
        },
        "outputId": "62c9545e-9a2e-43f7-eb7b-5c8357dbe0ff"
      },
      "source": [
        "'''By EM'''\n",
        "visualize_EM_clusters(tf_idf, out['means'], out['covs'], map_index_to_word)"
      ],
      "execution_count": null,
      "outputs": [
        {
          "output_type": "stream",
          "text": [
            "\n",
            "==========================================================\n",
            "Cluster 0: Largest mean parameters in cluster \n",
            "\n",
            "Word        Mean        Variance    \n",
            "minister    7.57e-02    7.42e-03\n",
            "election    5.89e-02    3.21e-03\n",
            "party       5.89e-02    2.61e-03\n",
            "liberal     2.93e-02    4.55e-03\n",
            "elected     2.91e-02    8.95e-04\n",
            "\n",
            "==========================================================\n",
            "Cluster 1: Largest mean parameters in cluster \n",
            "\n",
            "Word        Mean        Variance    \n",
            "film        1.76e-01    6.07e-03\n",
            "films       5.50e-02    2.97e-03\n",
            "festival    4.66e-02    3.60e-03\n",
            "feature     3.69e-02    1.81e-03\n",
            "directed    3.39e-02    2.22e-03\n",
            "\n",
            "==========================================================\n",
            "Cluster 2: Largest mean parameters in cluster \n",
            "\n",
            "Word        Mean        Variance    \n",
            "art         1.26e-01    6.83e-03\n",
            "museum      5.62e-02    7.27e-03\n",
            "gallery     3.65e-02    3.40e-03\n",
            "artist      3.61e-02    1.44e-03\n",
            "design      3.20e-02    4.59e-03\n",
            "\n",
            "==========================================================\n",
            "Cluster 3: Largest mean parameters in cluster \n",
            "\n",
            "Word        Mean        Variance    \n",
            "basketball  1.86e-01    7.78e-03\n",
            "nba         1.01e-01    1.22e-02\n",
            "points      6.25e-02    5.92e-03\n",
            "coach       5.57e-02    5.91e-03\n",
            "team        4.68e-02    1.30e-03\n",
            "\n",
            "==========================================================\n",
            "Cluster 4: Largest mean parameters in cluster \n",
            "\n",
            "Word        Mean        Variance    \n",
            "hockey      2.45e-01    1.64e-02\n",
            "nhl         1.56e-01    1.64e-02\n",
            "ice         6.40e-02    2.97e-03\n",
            "season      5.05e-02    2.52e-03\n",
            "league      4.31e-02    1.53e-03\n",
            "\n",
            "==========================================================\n",
            "Cluster 5: Largest mean parameters in cluster \n",
            "\n",
            "Word        Mean        Variance    \n",
            "republican  7.93e-02    5.20e-03\n",
            "senate      5.41e-02    6.28e-03\n",
            "house       4.64e-02    2.41e-03\n",
            "district    4.60e-02    2.37e-03\n",
            "democratic  4.46e-02    3.02e-03\n",
            "\n",
            "==========================================================\n",
            "Cluster 6: Largest mean parameters in cluster \n",
            "\n",
            "Word        Mean        Variance    \n",
            "she         1.60e-01    4.65e-03\n",
            "her         1.00e-01    3.14e-03\n",
            "miss        2.22e-02    7.76e-03\n",
            "women       1.43e-02    1.36e-03\n",
            "womens      1.21e-02    1.46e-03\n",
            "\n",
            "==========================================================\n",
            "Cluster 7: Largest mean parameters in cluster \n",
            "\n",
            "Word        Mean        Variance    \n",
            "championships7.78e-02    5.17e-03\n",
            "m           4.70e-02    7.58e-03\n",
            "olympics    4.69e-02    2.59e-03\n",
            "medal       4.28e-02    2.44e-03\n",
            "she         4.18e-02    5.99e-03\n",
            "\n",
            "==========================================================\n",
            "Cluster 8: Largest mean parameters in cluster \n",
            "\n",
            "Word        Mean        Variance    \n",
            "book        1.45e-02    9.38e-04\n",
            "published   1.23e-02    6.16e-04\n",
            "that        1.10e-02    1.73e-04\n",
            "novel       1.07e-02    1.43e-03\n",
            "he          1.04e-02    6.05e-05\n",
            "\n",
            "==========================================================\n",
            "Cluster 9: Largest mean parameters in cluster \n",
            "\n",
            "Word        Mean        Variance    \n",
            "she         1.37e-01    4.25e-03\n",
            "her         8.99e-02    2.74e-03\n",
            "actress     7.65e-02    4.29e-03\n",
            "film        5.98e-02    3.44e-03\n",
            "drama       5.03e-02    6.40e-03\n",
            "\n",
            "==========================================================\n",
            "Cluster 10: Largest mean parameters in cluster \n",
            "\n",
            "Word        Mean        Variance    \n",
            "soccer      1.15e-01    2.86e-02\n",
            "chess       4.52e-02    1.66e-02\n",
            "team        4.13e-02    2.15e-03\n",
            "coach       3.09e-02    4.45e-03\n",
            "league      3.07e-02    2.01e-03\n",
            "\n",
            "==========================================================\n",
            "Cluster 11: Largest mean parameters in cluster \n",
            "\n",
            "Word        Mean        Variance    \n",
            "president   2.52e-02    1.29e-03\n",
            "chairman    2.44e-02    1.97e-03\n",
            "committee   2.34e-02    2.38e-03\n",
            "served      2.24e-02    6.99e-04\n",
            "executive   2.15e-02    1.23e-03\n",
            "\n",
            "==========================================================\n",
            "Cluster 12: Largest mean parameters in cluster \n",
            "\n",
            "Word        Mean        Variance    \n",
            "music       7.26e-02    3.48e-03\n",
            "jazz        6.07e-02    1.14e-02\n",
            "hong        3.78e-02    9.92e-03\n",
            "kong        3.50e-02    8.64e-03\n",
            "chinese     3.12e-02    5.33e-03\n",
            "\n",
            "==========================================================\n",
            "Cluster 13: Largest mean parameters in cluster \n",
            "\n",
            "Word        Mean        Variance    \n",
            "university  3.47e-02    8.89e-04\n",
            "history     3.38e-02    2.81e-03\n",
            "philosophy  2.86e-02    5.35e-03\n",
            "professor   2.74e-02    1.08e-03\n",
            "studies     2.41e-02    1.95e-03\n",
            "\n",
            "==========================================================\n",
            "Cluster 14: Largest mean parameters in cluster \n",
            "\n",
            "Word        Mean        Variance    \n",
            "theatre     4.93e-02    6.17e-03\n",
            "actor       3.56e-02    2.91e-03\n",
            "television  3.21e-02    1.67e-03\n",
            "film        2.93e-02    1.16e-03\n",
            "comedy      2.86e-02    3.91e-03\n",
            "\n",
            "==========================================================\n",
            "Cluster 15: Largest mean parameters in cluster \n",
            "\n",
            "Word        Mean        Variance    \n",
            "album       6.76e-02    4.78e-03\n",
            "band        5.35e-02    4.21e-03\n",
            "music       4.18e-02    1.96e-03\n",
            "released    3.13e-02    1.11e-03\n",
            "song        2.50e-02    1.81e-03\n",
            "\n",
            "==========================================================\n",
            "Cluster 16: Largest mean parameters in cluster \n",
            "\n",
            "Word        Mean        Variance    \n",
            "tour        1.14e-01    1.92e-02\n",
            "pga         1.08e-01    2.65e-02\n",
            "racing      8.45e-02    8.26e-03\n",
            "championship6.27e-02    4.54e-03\n",
            "formula     6.06e-02    1.31e-02\n",
            "\n",
            "==========================================================\n",
            "Cluster 17: Largest mean parameters in cluster \n",
            "\n",
            "Word        Mean        Variance    \n",
            "news        5.76e-02    8.06e-03\n",
            "radio       5.18e-02    4.62e-03\n",
            "show        3.75e-02    2.56e-03\n",
            "bbc         3.63e-02    7.41e-03\n",
            "chef        3.27e-02    1.18e-02\n",
            "\n",
            "==========================================================\n",
            "Cluster 18: Largest mean parameters in cluster \n",
            "\n",
            "Word        Mean        Variance    \n",
            "football    1.11e-01    5.60e-03\n",
            "yards       7.37e-02    1.72e-02\n",
            "nfl         6.98e-02    9.15e-03\n",
            "coach       6.74e-02    7.85e-03\n",
            "quarterback 4.02e-02    7.16e-03\n",
            "\n",
            "==========================================================\n",
            "Cluster 19: Largest mean parameters in cluster \n",
            "\n",
            "Word        Mean        Variance    \n",
            "league      5.21e-02    3.13e-03\n",
            "club        5.04e-02    2.64e-03\n",
            "season      4.77e-02    2.30e-03\n",
            "rugby       4.35e-02    8.18e-03\n",
            "cup         4.22e-02    2.46e-03\n",
            "\n",
            "==========================================================\n",
            "Cluster 20: Largest mean parameters in cluster \n",
            "\n",
            "Word        Mean        Variance    \n",
            "orchestra   1.31e-01    1.06e-02\n",
            "music       1.23e-01    6.15e-03\n",
            "symphony    8.70e-02    1.08e-02\n",
            "conductor   8.16e-02    1.01e-02\n",
            "philharmonic4.96e-02    3.27e-03\n",
            "\n",
            "==========================================================\n",
            "Cluster 21: Largest mean parameters in cluster \n",
            "\n",
            "Word        Mean        Variance    \n",
            "law         9.52e-02    8.35e-03\n",
            "court       6.84e-02    5.24e-03\n",
            "judge       4.59e-02    4.44e-03\n",
            "attorney    3.74e-02    4.30e-03\n",
            "district    3.72e-02    4.20e-03\n",
            "\n",
            "==========================================================\n",
            "Cluster 22: Largest mean parameters in cluster \n",
            "\n",
            "Word        Mean        Variance    \n",
            "football    1.21e-01    6.14e-03\n",
            "afl         9.58e-02    1.31e-02\n",
            "australian  7.91e-02    1.58e-03\n",
            "club        5.93e-02    1.76e-03\n",
            "season      5.58e-02    1.83e-03\n",
            "\n",
            "==========================================================\n",
            "Cluster 23: Largest mean parameters in cluster \n",
            "\n",
            "Word        Mean        Variance    \n",
            "research    5.70e-02    2.68e-03\n",
            "science     3.50e-02    2.95e-03\n",
            "university  3.34e-02    7.14e-04\n",
            "professor   3.20e-02    1.26e-03\n",
            "physics     2.61e-02    5.43e-03\n",
            "\n",
            "==========================================================\n",
            "Cluster 24: Largest mean parameters in cluster \n",
            "\n",
            "Word        Mean        Variance    \n",
            "baseball    1.16e-01    5.57e-03\n",
            "league      1.03e-01    3.63e-03\n",
            "major       5.09e-02    1.19e-03\n",
            "games       4.66e-02    1.93e-03\n",
            "sox         4.55e-02    6.28e-03\n",
            "\n",
            "==========================================================\n"
          ],
          "name": "stdout"
        }
      ]
    },
    {
      "cell_type": "markdown",
      "metadata": {
        "id": "Pgg7m4d3R7xn"
      },
      "source": [
        "**Quiz Question**. Select all the topics that have a cluster in the model created above. [multiple choice]\n",
        "\n",
        "- Baseball\n",
        "- Basketball\n",
        "- Soccer/Football\n",
        "- Music\n",
        "- Politics\n",
        "- Law\n",
        "- Finance"
      ]
    },
    {
      "cell_type": "markdown",
      "metadata": {
        "id": "bf_dh7xvR7xo"
      },
      "source": [
        "## Comparing to random initialization"
      ]
    },
    {
      "cell_type": "markdown",
      "metadata": {
        "id": "ttCU2MeWR7xr"
      },
      "source": [
        "Create variables for randomly initializing the EM algorithm. Complete the following code block."
      ]
    },
    {
      "cell_type": "code",
      "metadata": {
        "id": "IyDkZ_XQR7xv"
      },
      "source": [
        "np.random.seed(5) # See the note below to see why we set seed=5.\n",
        "num_clusters = len(means)\n",
        "num_docs, num_words = tf_idf.shape\n",
        "\n",
        "random_means = []\n",
        "random_covs = []\n",
        "random_weights = []\n",
        "\n",
        "for k in range(num_clusters):\n",
        "    \n",
        "    # Create a numpy array of length num_words with random normally distributed values.\n",
        "    # Use the standard univariate normal distribution (mean 0, variance 1).\n",
        "    # YOUR CODE HERE\n",
        "    mean = np.random.normal(0, 1, num_words)\n",
        "    \n",
        "    # Create a numpy array of length num_words with random values uniformly distributed between 1 and 5.\n",
        "    # YOUR CODE HERE\n",
        "    cov = np.random.uniform(1,6,num_words)\n",
        "\n",
        "    # Initially give each cluster equal weight.\n",
        "    # YOUR CODE HERE\n",
        "    weight = 1\n",
        "    \n",
        "    random_means.append(mean)\n",
        "    random_covs.append(cov)\n",
        "    random_weights.append(weight)"
      ],
      "execution_count": null,
      "outputs": []
    },
    {
      "cell_type": "markdown",
      "metadata": {
        "id": "VTUzgOn0R7yC"
      },
      "source": [
        "**Quiz Question**: Try fitting EM with the random initial parameters you created above. (Use `cov_smoothing=1e-5`.) Store the result to `out_random_init`. What is the final loglikelihood that the algorithm converges to?"
      ]
    },
    {
      "cell_type": "code",
      "metadata": {
        "id": "tcq1xVwvR7yF"
      },
      "source": [
        "out_random_init = EM_for_high_dimension(tf_idf, random_means, random_covs, random_weights, cov_smoothing=1e-5)"
      ],
      "execution_count": null,
      "outputs": []
    },
    {
      "cell_type": "markdown",
      "metadata": {
        "id": "zCiVrTM-R7yT"
      },
      "source": [
        "**Quiz Question:** Is the final loglikelihood larger or smaller than the final loglikelihood we obtained above when initializing EM with the results from running k-means?"
      ]
    },
    {
      "cell_type": "code",
      "metadata": {
        "id": "_0J8EqgRR7yb",
        "colab": {
          "base_uri": "https://localhost:8080/",
          "height": 146
        },
        "outputId": "260cb084-89a9-4bf3-8e59-8f7805806f7d"
      },
      "source": [
        "out_random_init['loglik']"
      ],
      "execution_count": null,
      "outputs": [
        {
          "output_type": "execute_result",
          "data": {
            "text/plain": [
              "[-793165435.4353752,\n",
              " 2282163613.2850637,\n",
              " 2361698188.923529,\n",
              " 2362005266.1072693,\n",
              " 2362023061.896716,\n",
              " 2362037538.064111,\n",
              " 2362037538.064111]"
            ]
          },
          "metadata": {
            "tags": []
          },
          "execution_count": 25
        }
      ]
    },
    {
      "cell_type": "markdown",
      "metadata": {
        "id": "e9ErktTUR7yv"
      },
      "source": [
        "**Quiz Question**: For the above model, `out_random_init`, use the `visualize_EM_clusters` method you created above. Are the clusters more or less interpretable than the ones found after initializing using k-means?"
      ]
    },
    {
      "cell_type": "code",
      "metadata": {
        "id": "2J617oNkR7yy"
      },
      "source": [
        "# YOUR CODE HERE. Use visualize_EM_clusters, which will require you to pass in tf_idf and map_index_to_word.\n",
        "..."
      ],
      "execution_count": null,
      "outputs": []
    },
    {
      "cell_type": "markdown",
      "metadata": {
        "collapsed": true,
        "id": "KCMipJfLR7zA"
      },
      "source": [
        "**Note**: Random initialization may sometimes produce a superior fit than k-means initialization. We do not claim that random initialization is always worse. However, this section does illustrate that random initialization often produces much worse clustering than k-means counterpart. This is the reason why we provide the particular random seed (`np.random.seed(5)`)."
      ]
    },
    {
      "cell_type": "markdown",
      "metadata": {
        "collapsed": true,
        "id": "_txFcNEcR7zD"
      },
      "source": [
        "## Takeaway\n",
        "\n",
        "In this assignment we were able to apply the EM algorithm to a mixture of Gaussians model of text data. This was made possible by modifying the model to assume a diagonal covariance for each cluster, and by modifying the implementation to use a sparse matrix representation. In the second part you explored the role of k-means initialization on the convergence of the model as well as the interpretability of the clusters."
      ]
    },
    {
      "cell_type": "code",
      "metadata": {
        "id": "SrWYm8-UR7zG"
      },
      "source": [
        ""
      ],
      "execution_count": null,
      "outputs": []
    }
  ]
}